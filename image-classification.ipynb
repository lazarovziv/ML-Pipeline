{
 "cells": [
  {
   "cell_type": "code",
   "execution_count": 1,
   "metadata": {},
   "outputs": [],
   "source": [
    "import numpy as np\n",
    "import os\n",
    "import matplotlib.pyplot as plt"
   ]
  },
  {
   "cell_type": "code",
   "execution_count": 2,
   "metadata": {},
   "outputs": [],
   "source": [
    "base_data_dir = './data'"
   ]
  },
  {
   "cell_type": "code",
   "execution_count": 3,
   "metadata": {},
   "outputs": [],
   "source": [
    "latest_data_dir_num = max([int(dir.split('_')[-1]) for dir in os.listdir(base_data_dir) if dir.split('_')[-1].isdigit()])\n",
    "data_dir = [dir for dir in os.listdir(base_data_dir) if dir.split('_')[-1].isdigit() and int(dir.split('_')[-1]) == latest_data_dir_num][0]\n",
    "data_dir = f'{base_data_dir}/{data_dir}'"
   ]
  },
  {
   "cell_type": "code",
   "execution_count": 4,
   "metadata": {},
   "outputs": [
    {
     "data": {
      "text/plain": [
       "'./data/decoded_data_25'"
      ]
     },
     "execution_count": 4,
     "metadata": {},
     "output_type": "execute_result"
    }
   ],
   "source": [
    "data_dir"
   ]
  },
  {
   "cell_type": "code",
   "execution_count": 5,
   "metadata": {},
   "outputs": [],
   "source": [
    "import h5py"
   ]
  },
  {
   "cell_type": "code",
   "execution_count": 6,
   "metadata": {},
   "outputs": [],
   "source": [
    "with h5py.File(f'{data_dir}/images.h5') as f:\n",
    "    images = f['images'][:].squeeze()\n",
    "\n",
    "with h5py.File(f'{data_dir}/labels.h5') as f:\n",
    "    labels = f['labels'][:]"
   ]
  },
  {
   "cell_type": "code",
   "execution_count": 7,
   "metadata": {},
   "outputs": [],
   "source": [
    "def transform_image(image, threshold=None, return_inverse=False):\n",
    "    fft_image = np.fft.fft2(image)\n",
    "    if threshold is None:\n",
    "        threshold = 0.0000005 * np.abs(fft_image)\n",
    "    # creating a mask for zeroing low amplitudes, i.e: below the threshold\n",
    "    mask = np.ones_like(fft_image)\n",
    "    mask[np.abs(fft_image) <= threshold] = 0\n",
    "    filtered_fft_image = fft_image * mask\n",
    "    # getting the inverse fourier transform on the filtered image\n",
    "    inverse_fft_image = np.fft.ifft2(filtered_fft_image)\n",
    "    transformed_image = np.real(inverse_fft_image * np.conj(inverse_fft_image))\n",
    "    # normalizing to [0, 255] range\n",
    "    transformed_image = transformed_image / transformed_image.max()\n",
    "    transformed_image *= 255\n",
    "    if return_inverse:\n",
    "        return fft_image, transformed_image\n",
    "    return transformed_image\n",
    "\n",
    "def filter(inverse):\n",
    "    ones = np.ones_like(inverse)\n",
    "    epsilon = 0.000001\n",
    "    border = 0\n",
    "    center_y, center_x = ones.shape[0]//2, ones.shape[1]//2\n",
    "    center = np.array([center_y, center_x])\n",
    "\n",
    "    ones[center_y-border:center_y+border+1, center_x-border:center_x+border+1] = 0 + epsilon\n",
    "    v, u = np.mgrid[:inverse.shape[0], :inverse.shape[1]]\n",
    "\n",
    "    distances_from_center = np.sqrt(\n",
    "        np.square(v - center[0]) + np.square(u - center[1])\n",
    "    )\n",
    "    threshold = 40\n",
    "    mask = distances_from_center <= threshold\n",
    "\n",
    "    return inverse * mask"
   ]
  },
  {
   "cell_type": "markdown",
   "metadata": {},
   "source": "## Fine tuning the autoencoder model"
  },
  {
   "cell_type": "code",
   "execution_count": 8,
   "metadata": {},
   "outputs": [],
   "source": [
    "import torch\n",
    "import torch.nn as nn"
   ]
  },
  {
   "cell_type": "code",
   "execution_count": 9,
   "metadata": {},
   "outputs": [
    {
     "data": {
      "text/plain": [
       "device(type='cuda')"
      ]
     },
     "execution_count": 9,
     "metadata": {},
     "output_type": "execute_result"
    }
   ],
   "source": [
    "device = torch.device('cuda' if torch.cuda.is_available() else 'cpu')\n",
    "device"
   ]
  },
  {
   "cell_type": "code",
   "execution_count": 10,
   "metadata": {},
   "outputs": [],
   "source": [
    "import models\n",
    "from models.models import ConvClassifier\n",
    "from models.dataset import AlzheimerDataset"
   ]
  },
  {
   "cell_type": "code",
   "execution_count": 11,
   "metadata": {},
   "outputs": [],
   "source": [
    "import db\n",
    "from db.optuna_report import report_optuna_trial, report_study_best_loss_value, get_best_hyperparameters"
   ]
  },
  {
   "cell_type": "code",
   "execution_count": 12,
   "metadata": {},
   "outputs": [],
   "source": [
    "perm = torch.randperm(images.shape[0])\n",
    "val_indices = perm[:int(images.shape[0] * 0.15)].numpy()"
   ]
  },
  {
   "cell_type": "code",
   "execution_count": 13,
   "metadata": {},
   "outputs": [],
   "source": [
    "train_dataset = AlzheimerDataset(images[~val_indices], labels[~val_indices])\n",
    "val_dataset = AlzheimerDataset(images[val_indices], labels[val_indices])"
   ]
  },
  {
   "cell_type": "code",
   "execution_count": 14,
   "metadata": {},
   "outputs": [],
   "source": [
    "(encoded_dim, \n",
    "    initial_out_channels,\n",
    "    learning_rate,\n",
    "    weight_decay,\n",
    "    momentum,\n",
    "    dampening,\n",
    "    scheduler_gamma,\n",
    "    kl_divergence_lambda,\n",
    "    epochs,\n",
    "    batch_size) = get_best_hyperparameters(from_last_study=False) # get hyperparameters from the study, if studied\n",
    "\n",
    "train_best_params = {\n",
    "    'encoded_dim': encoded_dim,\n",
    "    'initial_out_channels': initial_out_channels,\n",
    "    'lr': learning_rate,\n",
    "    'weight_decay': weight_decay,\n",
    "    'momentum': momentum,\n",
    "    'dampening': dampening,\n",
    "    'scheduler_gamma': scheduler_gamma,\n",
    "    'kl_divergence_lambda': kl_divergence_lambda,\n",
    "    'epochs': epochs,\n",
    "    'batch_size': batch_size,\n",
    "    'loss_idx': 0\n",
    "}"
   ]
  },
  {
   "cell_type": "code",
   "execution_count": 15,
   "metadata": {},
   "outputs": [],
   "source": [
    "def train_epoch(model, optimizer, loss, dataloader, val_dataset, overall_losses, val_overall_losses, accuracy, val_accuracy, epoch, scheduler=None):\n",
    "    for _, (batch_X, batch_y) in enumerate(dataloader):\n",
    "        batch_X = batch_X.to(device=model.device)\n",
    "        batch_y = batch_y.to(device=model.device)\n",
    "\n",
    "        if batch_X.shape[0] == 1:\n",
    "            batch_X = torch.concat((batch_X, batch_X), dim=0).to(device=model.device)\n",
    "            batch_y = torch.concat((batch_y, batch_y), dim=0).to(device=model.device)\n",
    "        \n",
    "        optimizer.zero_grad()\n",
    "        \n",
    "        batch_output = model(batch_X)\n",
    "        batch_loss = loss(batch_output, batch_y)\n",
    "        overall_losses[epoch] += batch_loss.item()\n",
    "\n",
    "        predictions = torch.argmax(batch_output, dim=1).to(model.device)\n",
    "        accuracy[epoch] += (predictions == batch_y).sum().item()\n",
    "    \n",
    "        batch_loss.backward()\n",
    "        optimizer.step()\n",
    "    \n",
    "    # updating train metrics\n",
    "    overall_losses[epoch] /= dataloader.dataset.y.shape[0]\n",
    "    accuracy[epoch] /= dataloader.dataset.y.shape[0]\n",
    "        \n",
    "    # validation\n",
    "    with torch.no_grad():\n",
    "        model.eval()\n",
    "        val_output = model(val_dataset.X.to(model.device))\n",
    "        loss_value = loss(val_output, val_dataset.y.to(model.device))\n",
    "\n",
    "        val_overall_losses[epoch] = loss_value.item() / val_dataset.y.shape[0]\n",
    "\n",
    "        predictions = torch.argmax(val_output, dim=1).to(model.device)\n",
    "        val_accuracy[epoch] = (predictions == val_dataset.y.to(model.device)).sum().item() / predictions.shape[0]\n",
    "\n",
    "    # update learning rate after each epoch to have equal effect for every batch\n",
    "    if scheduler is not None:\n",
    "        scheduler.step()\n",
    "    "
   ]
  },
  {
   "cell_type": "code",
   "execution_count": 16,
   "metadata": {},
   "outputs": [],
   "source": [
    "from tqdm.notebook import tqdm"
   ]
  },
  {
   "cell_type": "code",
   "execution_count": 17,
   "metadata": {},
   "outputs": [],
   "source": [
    "import db\n",
    "from db.optuna_report import report_optuna_trial"
   ]
  },
  {
   "cell_type": "code",
   "execution_count": 18,
   "metadata": {},
   "outputs": [],
   "source": [
    "import optuna"
   ]
  },
  {
   "cell_type": "code",
   "execution_count": 19,
   "metadata": {},
   "outputs": [],
   "source": [
    "# if trial is None we're going for multi-objective optimization or we're normally training\n",
    "def train(trial, model, optimizer, loss, epochs, dataloader, val_dataset, scheduler=None, plot=True, show_progress=True):\n",
    "    # writer = SummaryWriter(log_dir='./logs')\n",
    "    \n",
    "    overall_losses, val_overall_losses = torch.zeros(epochs), torch.zeros(epochs)\n",
    "    accuracy, val_accuracy = torch.zeros(epochs), torch.zeros(epochs)\n",
    "    \n",
    "    # using tqdm has conflicts with optuna's study progress bar\n",
    "    epochs_range = tqdm(range(epochs)) if show_progress else range(epochs)\n",
    "    for epoch in epochs_range:\n",
    "        model.train()\n",
    "        \n",
    "        train_epoch(\n",
    "            model=model,\n",
    "            optimizer=optimizer, \n",
    "            loss=loss,\n",
    "            epoch=epoch,\n",
    "            dataloader=dataloader,\n",
    "            val_dataset=val_dataset,\n",
    "            val_overall_losses=val_overall_losses,\n",
    "            accuracy=accuracy,\n",
    "            val_accuracy=val_accuracy,\n",
    "            overall_losses=overall_losses,\n",
    "            scheduler=scheduler\n",
    "        )\n",
    "        \n",
    "        if trial is not None:\n",
    "            trial.report(overall_losses[epoch].item(), epoch)\n",
    "\n",
    "            if trial.should_prune():\n",
    "                raise optuna.TrialPruned()\n",
    "\n",
    "    if plot:\n",
    "        fig, axes = plt.subplots(1, 2, sharex=True, sharey=False, figsize=(16, 10))\n",
    "        \n",
    "        axes[0].plot(overall_losses.cpu(), color='blue', label='Train')\n",
    "        axes[0].plot(val_overall_losses.cpu(), color='orange', label='Validation')\n",
    "        axes[0].set_title('Overall Loss')\n",
    "        axes[0].legend()\n",
    "\n",
    "        axes[1].plot(accuracy.cpu(), color='blue', label='Train Accuracy')\n",
    "        axes[1].plot(val_accuracy.cpu(), color='orange', label='Validation Accuracy')\n",
    "        axes[1].set_title('Accuracy')\n",
    "        axes[1].legend()\n",
    "\n",
    "    # writer.flush()\n",
    "    \n",
    "    return (overall_losses, val_overall_losses), (accuracy, val_accuracy)"
   ]
  },
  {
   "cell_type": "code",
   "execution_count": 20,
   "metadata": {},
   "outputs": [],
   "source": [
    "def get_classification_loss_function(idx, device='cpu'):\n",
    "    _, counts = np.unique(labels, return_counts=True)\n",
    "    # giving minority classes larger weights\n",
    "    weights = 1 - torch.from_numpy(counts).to(dtype=torch.float32, device=device)\n",
    "    weights /= weights.sum()\n",
    "    return nn.CrossEntropyLoss(reduction='sum', weight=weights) if idx == 0 else nn.NLLLoss(reduction='sum', weight=weights)"
   ]
  },
  {
   "cell_type": "code",
   "execution_count": 21,
   "metadata": {},
   "outputs": [],
   "source": [
    "def initialize_hyperparameters(trial):\n",
    "    lr = trial.suggest_float('lr', 1e-5, 1e-2, log=True)\n",
    "    weight_decay = trial.suggest_float('weight_decay', 0.1, 0.4, log=True)\n",
    "    beta1 = trial.suggest_float('beta1', 0.8, 0.999)\n",
    "    beta2 = trial.suggest_float('beta2', 0.5, 0.999)\n",
    "\n",
    "    momentum = trial.suggest_float('momentum', 0, 0.5)\n",
    "    dampening = trial.suggest_float('dampening', 0, 0.5)\n",
    "\n",
    "    optimizer_idx = trial.suggest_int('optimizer_idx', 0, 1)\n",
    "    # optimizer = torch.optim.Adam(autoencoder.parameters(), lr=lr, weight_decay=weight_decay, betas=(beta1, beta2))\n",
    "\n",
    "    scheduler_gamma = trial.suggest_float('scheduler_gamma', 0.8, 0.999)\n",
    "    # scheduler = torch.optim.lr_scheduler.ExponentialLR(optimizer, gamma=scheduler_gamma)\n",
    "\n",
    "    epochs = trial.suggest_int('epochs', 50, 128)\n",
    "    batch_size = trial.suggest_int('batch_size', 33, 256)\n",
    "\n",
    "    loss_idx = trial.suggest_int('loss_idx', 0, 1)\n",
    "\n",
    "    num_blocks = trial.suggest_int('num_blocks', 2, 5)\n",
    "\n",
    "    # dataset_idx = trial.suggest_int('dataset_idx', 0, 2)\n",
    "    # dataset = datasets[dataset_idx]\n",
    "\n",
    "    # dataloader = torch.utils.data.DataLoader(alzheimer_dataset, batch_size=batch_size, shuffle=True)\n",
    "\n",
    "    return lr, weight_decay, (beta1, beta2), momentum, dampening, optimizer_idx, scheduler_gamma, epochs, batch_size, loss_idx, num_blocks"
   ]
  },
  {
   "cell_type": "code",
   "execution_count": 22,
   "metadata": {},
   "outputs": [],
   "source": [
    "def objective(trial):\n",
    "    (lr,\n",
    "     weight_decay,\n",
    "     betas,\n",
    "     momentum,\n",
    "     dampening,\n",
    "     optimizer_idx,\n",
    "     scheduler_gamma,\n",
    "     epochs,\n",
    "     batch_size,\n",
    "     loss_idx,\n",
    "     num_blocks) = initialize_hyperparameters(trial)\n",
    "    \n",
    "    model = ConvClassifier(train_params=train_best_params, num_classes=len(np.unique(labels)), num_blocks=num_blocks, device=device).to(device)\n",
    "\n",
    "    if optimizer_idx == 0:\n",
    "        optimizer = torch.optim.Adam(model.parameters(), lr=lr, weight_decay=weight_decay, betas=betas)\n",
    "    else:\n",
    "        optimizer = torch.optim.SGD(model.parameters(), lr=lr, weight_decay=weight_decay, momentum=momentum, dampening=dampening)\n",
    "    \n",
    "    scheduler = torch.optim.lr_scheduler.ExponentialLR(optimizer, gamma=scheduler_gamma)\n",
    "    loss = get_classification_loss_function(loss_idx, device=model.device)\n",
    "\n",
    "    # if train_dataset.X.shape[0] % batch_size == 1:\n",
    "    #     return float('inf')\n",
    "    \n",
    "    dataloader = torch.utils.data.DataLoader(train_dataset, batch_size=batch_size, shuffle=True)\n",
    "    \n",
    "    overall, _ = train(\n",
    "        model=model,\n",
    "        optimizer=optimizer,\n",
    "        loss=loss,\n",
    "        epochs=epochs,\n",
    "        dataloader=dataloader,\n",
    "        val_dataset=val_dataset,\n",
    "        scheduler=scheduler,\n",
    "        plot=False,\n",
    "        show_progress=False,\n",
    "        trial=trial\n",
    "    )\n",
    "    \n",
    "    overall_train_losses, val_overall_losses = overall\n",
    "    \n",
    "    # saving the best trained model exploded the VRAM so we'll have to do with the best parameters and then retrain \n",
    "    # trial.set_user_attr(key='best_booster', value=autoencoder)\n",
    "    \n",
    "    return val_overall_losses[-1].item() # overall_train_losses[-1].item()"
   ]
  },
  {
   "cell_type": "code",
   "execution_count": 23,
   "metadata": {},
   "outputs": [],
   "source": [
    "def multi_objective(trial):\n",
    "    (lr,\n",
    "     weight_decay,\n",
    "     betas,\n",
    "     momentum,\n",
    "     dampening,\n",
    "     optimizer_idx,\n",
    "     scheduler_gamma,\n",
    "     epochs,\n",
    "     batch_size,\n",
    "     loss_idx,\n",
    "     num_blocks) = initialize_hyperparameters(trial)\n",
    "    \n",
    "    model = ConvClassifier(train_params=train_best_params, num_classes=len(np.unique(labels)), num_blocks=num_blocks, device=device).to(device)\n",
    "\n",
    "    if optimizer_idx == 0:\n",
    "        optimizer = torch.optim.Adam(model.parameters(), lr=lr, weight_decay=weight_decay, betas=betas)\n",
    "    else:\n",
    "        optimizer = torch.optim.SGD(model.parameters(), lr=lr, weight_decay=weight_decay, momentum=momentum, dampening=dampening)\n",
    "\n",
    "    scheduler = torch.optim.lr_scheduler.ExponentialLR(optimizer, gamma=scheduler_gamma) if scheduler_gamma < 0.9 else None\n",
    "    loss = get_classification_loss_function(loss_idx, device=model.device)\n",
    "\n",
    "    # if train_dataset.X.shape[0] % batch_size == 1:\n",
    "    #     return float('inf')\n",
    "    \n",
    "    dataloader = torch.utils.data.DataLoader(train_dataset, batch_size=batch_size, shuffle=True)\n",
    "    \n",
    "    overall, _ = train(\n",
    "        model=model,\n",
    "        optimizer=optimizer,\n",
    "        loss=loss,\n",
    "        epochs=epochs,\n",
    "        dataloader=dataloader,\n",
    "        val_dataset=val_dataset,\n",
    "        scheduler=scheduler,\n",
    "        plot=False,\n",
    "        show_progress=False,\n",
    "        trial=None\n",
    "    )\n",
    "    \n",
    "    overall_train_losses, val_overall_losses = overall\n",
    "    # train_accuracy, val_accuracy = accuracy\n",
    "    \n",
    "    # TODO: check BCE vs NLLLoss scales\n",
    "    return overall_train_losses[-1].item(), val_overall_losses[-1].item()"
   ]
  },
  {
   "cell_type": "code",
   "execution_count": 24,
   "metadata": {},
   "outputs": [],
   "source": [
    "def callback(study, trial):\n",
    "    report_optuna_trial(study, trial)"
   ]
  },
  {
   "cell_type": "code",
   "execution_count": 25,
   "metadata": {},
   "outputs": [],
   "source": [
    "def optimize(is_multi_objective, n_trials=100):\n",
    "    directions = ['minimize', 'minimize'] if is_multi_objective else ['minimize']\n",
    "    objective_func = multi_objective if is_multi_objective else objective\n",
    "    study = optuna.create_study(directions=directions)\n",
    "    study.optimize(objective_func, n_trials=n_trials, timeout=3600*(n_trials // 30), show_progress_bar=True, gc_after_trial=True) # , callbacks=[callback])\n",
    "    return study"
   ]
  },
  {
   "cell_type": "code",
   "execution_count": 26,
   "metadata": {},
   "outputs": [
    {
     "name": "stderr",
     "output_type": "stream",
     "text": [
      "[I 2024-12-11 18:40:49,791] A new study created in memory with name: no-name-774cbf49-f85b-4eaf-b596-3b2fcffd4d8e\n"
     ]
    },
    {
     "data": {
      "application/vnd.jupyter.widget-view+json": {
       "model_id": "e72883555cea4c7a8612930e73d4fa46",
       "version_major": 2,
       "version_minor": 0
      },
      "text/plain": [
       "  0%|          | 0/100 [00:00<?, ?it/s]"
      ]
     },
     "metadata": {},
     "output_type": "display_data"
    },
    {
     "name": "stdout",
     "output_type": "stream",
     "text": [
      "[I 2024-12-11 18:41:05,023] Trial 0 finished with value: 0.27874988317489624 and parameters: {'lr': 0.005736516222514053, 'weight_decay': 0.39722301108721475, 'beta1': 0.9452108249175439, 'beta2': 0.8866306144983823, 'momentum': 0.16045109869287827, 'dampening': 0.11637437819342483, 'optimizer_idx': 1, 'scheduler_gamma': 0.843228803105154, 'epochs': 77, 'batch_size': 228, 'loss_idx': 1, 'num_blocks': 2}. Best is trial 0 with value: 0.27874988317489624.\n",
      "[I 2024-12-11 18:41:20,897] Trial 1 finished with value: 0.2532157301902771 and parameters: {'lr': 0.007919475643250986, 'weight_decay': 0.26207615241636234, 'beta1': 0.8141599122290153, 'beta2': 0.7359706160873738, 'momentum': 0.49289239083849473, 'dampening': 0.3073609202763915, 'optimizer_idx': 1, 'scheduler_gamma': 0.9936263454809069, 'epochs': 83, 'batch_size': 178, 'loss_idx': 0, 'num_blocks': 3}. Best is trial 1 with value: 0.2532157301902771.\n",
      "[I 2024-12-11 18:41:36,576] Trial 2 finished with value: 0.2288287878036499 and parameters: {'lr': 0.008593285793049058, 'weight_decay': 0.17559568463607322, 'beta1': 0.8079251775269505, 'beta2': 0.8321203834272018, 'momentum': 0.2826965759157107, 'dampening': 0.012125553822216528, 'optimizer_idx': 1, 'scheduler_gamma': 0.9869592420560496, 'epochs': 80, 'batch_size': 229, 'loss_idx': 1, 'num_blocks': 4}. Best is trial 2 with value: 0.2288287878036499.\n",
      "[I 2024-12-11 18:41:59,271] Trial 3 finished with value: 0.5973964333534241 and parameters: {'lr': 1.1363491145448716e-05, 'weight_decay': 0.2739905017335123, 'beta1': 0.9626215707777731, 'beta2': 0.8666756129271727, 'momentum': 0.09058497917693109, 'dampening': 0.1880193323577573, 'optimizer_idx': 0, 'scheduler_gamma': 0.8534968104957219, 'epochs': 103, 'batch_size': 115, 'loss_idx': 1, 'num_blocks': 4}. Best is trial 2 with value: 0.2288287878036499.\n",
      "[I 2024-12-11 18:42:11,304] Trial 4 finished with value: 0.35379505157470703 and parameters: {'lr': 4.091053730465459e-05, 'weight_decay': 0.10508001928796387, 'beta1': 0.8629844155139594, 'beta2': 0.5069852712179305, 'momentum': 0.314131639977566, 'dampening': 0.49941225531897515, 'optimizer_idx': 1, 'scheduler_gamma': 0.9451963862244668, 'epochs': 63, 'batch_size': 198, 'loss_idx': 1, 'num_blocks': 2}. Best is trial 2 with value: 0.2288287878036499.\n",
      "[I 2024-12-11 18:42:11,803] Trial 5 pruned. \n",
      "[I 2024-12-11 18:42:12,116] Trial 6 pruned. \n",
      "[I 2024-12-11 18:42:12,422] Trial 7 pruned. \n",
      "[I 2024-12-11 18:42:12,740] Trial 8 pruned. \n",
      "[I 2024-12-11 18:42:13,331] Trial 9 pruned. \n",
      "[I 2024-12-11 18:42:13,880] Trial 10 pruned. \n",
      "[I 2024-12-11 18:42:14,397] Trial 11 pruned. \n",
      "[I 2024-12-11 18:42:15,501] Trial 12 pruned. \n",
      "[I 2024-12-11 18:42:16,023] Trial 13 pruned. \n",
      "[I 2024-12-11 18:42:31,377] Trial 14 pruned. \n",
      "[I 2024-12-11 18:42:31,909] Trial 15 pruned. \n",
      "[I 2024-12-11 18:42:32,445] Trial 16 pruned. \n",
      "[I 2024-12-11 18:42:33,517] Trial 17 pruned. \n",
      "[I 2024-12-11 18:42:33,852] Trial 18 pruned. \n",
      "[I 2024-12-11 18:42:53,590] Trial 19 finished with value: 0.23479576408863068 and parameters: {'lr': 0.0033108813389021827, 'weight_decay': 0.18653938711341064, 'beta1': 0.8430804319193789, 'beta2': 0.55952806089216, 'momentum': 0.4444381617735833, 'dampening': 0.16726307963085082, 'optimizer_idx': 1, 'scheduler_gamma': 0.9717319953751921, 'epochs': 100, 'batch_size': 142, 'loss_idx': 0, 'num_blocks': 3}. Best is trial 2 with value: 0.2288287878036499.\n",
      "[I 2024-12-11 18:42:54,141] Trial 20 pruned. \n",
      "[I 2024-12-11 18:42:54,864] Trial 21 pruned. \n",
      "[I 2024-12-11 18:43:08,126] Trial 22 pruned. \n",
      "[I 2024-12-11 18:43:08,701] Trial 23 pruned. \n",
      "[I 2024-12-11 18:43:09,620] Trial 24 pruned. \n",
      "[I 2024-12-11 18:43:10,344] Trial 25 pruned. \n",
      "[I 2024-12-11 18:43:24,106] Trial 26 pruned. \n",
      "[I 2024-12-11 18:43:24,426] Trial 27 pruned. \n",
      "[I 2024-12-11 18:43:24,951] Trial 28 pruned. \n",
      "[I 2024-12-11 18:43:27,565] Trial 29 pruned. \n",
      "[I 2024-12-11 18:43:32,181] Trial 30 pruned. \n",
      "[I 2024-12-11 18:43:32,683] Trial 31 pruned. \n",
      "[I 2024-12-11 18:43:35,796] Trial 32 pruned. \n",
      "[I 2024-12-11 18:43:36,108] Trial 33 pruned. \n",
      "[I 2024-12-11 18:43:36,627] Trial 34 pruned. \n",
      "[I 2024-12-11 18:43:36,976] Trial 35 pruned. \n",
      "[I 2024-12-11 18:43:37,292] Trial 36 pruned. \n",
      "[I 2024-12-11 18:43:38,398] Trial 37 pruned. \n",
      "[I 2024-12-11 18:43:40,973] Trial 38 pruned. \n",
      "[I 2024-12-11 18:43:41,302] Trial 39 pruned. \n",
      "[I 2024-12-11 18:43:47,258] Trial 40 pruned. \n",
      "[I 2024-12-11 18:43:47,575] Trial 41 pruned. \n",
      "[I 2024-12-11 18:43:47,884] Trial 42 pruned. \n",
      "[I 2024-12-11 18:43:48,210] Trial 43 pruned. \n",
      "[I 2024-12-11 18:43:48,526] Trial 44 pruned. \n",
      "[I 2024-12-11 18:43:48,855] Trial 45 pruned. \n",
      "[I 2024-12-11 18:43:49,171] Trial 46 pruned. \n",
      "[I 2024-12-11 18:43:49,894] Trial 47 pruned. \n",
      "[I 2024-12-11 18:43:50,209] Trial 48 pruned. \n",
      "[I 2024-12-11 18:43:50,537] Trial 49 pruned. \n",
      "[I 2024-12-11 18:43:51,794] Trial 50 pruned. \n",
      "[I 2024-12-11 18:43:52,142] Trial 51 pruned. \n",
      "[I 2024-12-11 18:43:52,493] Trial 52 pruned. \n",
      "[I 2024-12-11 18:43:52,842] Trial 53 pruned. \n",
      "[I 2024-12-11 18:43:53,218] Trial 54 pruned. \n",
      "[I 2024-12-11 18:43:53,548] Trial 55 pruned. \n",
      "[I 2024-12-11 18:43:54,047] Trial 56 pruned. \n",
      "[I 2024-12-11 18:43:54,374] Trial 57 pruned. \n",
      "[I 2024-12-11 18:43:54,900] Trial 58 pruned. \n",
      "[I 2024-12-11 18:43:56,027] Trial 59 pruned. \n",
      "[I 2024-12-11 18:43:56,348] Trial 60 pruned. \n",
      "[I 2024-12-11 18:43:56,853] Trial 61 pruned. \n",
      "[I 2024-12-11 18:43:57,740] Trial 62 pruned. \n",
      "[I 2024-12-11 18:43:59,036] Trial 63 pruned. \n",
      "[I 2024-12-11 18:43:59,895] Trial 64 pruned. \n",
      "[I 2024-12-11 18:44:22,769] Trial 65 finished with value: 0.20922134816646576 and parameters: {'lr': 0.00836489425162464, 'weight_decay': 0.34102140588295116, 'beta1': 0.8201411977785976, 'beta2': 0.7828316699445848, 'momentum': 0.4068030886893087, 'dampening': 0.0875530112100895, 'optimizer_idx': 1, 'scheduler_gamma': 0.9552905615276255, 'epochs': 121, 'batch_size': 219, 'loss_idx': 1, 'num_blocks': 3}. Best is trial 65 with value: 0.20922134816646576.\n",
      "[I 2024-12-11 18:44:23,643] Trial 66 pruned. \n",
      "[I 2024-12-11 18:44:24,331] Trial 67 pruned. \n",
      "[I 2024-12-11 18:44:25,032] Trial 68 pruned. \n",
      "[I 2024-12-11 18:44:26,100] Trial 69 pruned. \n",
      "[I 2024-12-11 18:44:26,451] Trial 70 pruned. \n",
      "[I 2024-12-11 18:44:29,581] Trial 71 pruned. \n",
      "[I 2024-12-11 18:44:30,085] Trial 72 pruned. \n",
      "[I 2024-12-11 18:44:30,775] Trial 73 pruned. \n",
      "[I 2024-12-11 18:44:31,468] Trial 74 pruned. \n",
      "[I 2024-12-11 18:44:32,157] Trial 75 pruned. \n",
      "[I 2024-12-11 18:44:32,476] Trial 76 pruned. \n",
      "[I 2024-12-11 18:44:32,798] Trial 77 pruned. \n",
      "[I 2024-12-11 18:44:34,026] Trial 78 pruned. \n",
      "[I 2024-12-11 18:44:34,533] Trial 79 pruned. \n",
      "[I 2024-12-11 18:44:34,851] Trial 80 pruned. \n",
      "[I 2024-12-11 18:44:35,728] Trial 81 pruned. \n",
      "[I 2024-12-11 18:44:40,193] Trial 82 pruned. \n",
      "[I 2024-12-11 18:44:40,886] Trial 83 pruned. \n",
      "[I 2024-12-11 18:44:41,209] Trial 84 pruned. \n",
      "[I 2024-12-11 18:44:41,549] Trial 85 pruned. \n",
      "[I 2024-12-11 18:44:42,050] Trial 86 pruned. \n",
      "[I 2024-12-11 18:44:42,563] Trial 87 pruned. \n",
      "[I 2024-12-11 18:44:42,896] Trial 88 pruned. \n",
      "[I 2024-12-11 18:44:43,225] Trial 89 pruned. \n",
      "[I 2024-12-11 18:44:43,562] Trial 90 pruned. \n",
      "[I 2024-12-11 18:44:44,452] Trial 91 pruned. \n",
      "[I 2024-12-11 18:44:45,158] Trial 92 pruned. \n",
      "[I 2024-12-11 18:44:45,873] Trial 93 pruned. \n",
      "[I 2024-12-11 18:44:46,584] Trial 94 pruned. \n",
      "[I 2024-12-11 18:44:47,813] Trial 95 pruned. \n",
      "[I 2024-12-11 18:44:48,143] Trial 96 pruned. \n",
      "[I 2024-12-11 18:44:48,660] Trial 97 pruned. \n",
      "[I 2024-12-11 18:44:48,982] Trial 98 pruned. \n",
      "[I 2024-12-11 18:44:49,655] Trial 99 pruned. \n"
     ]
    }
   ],
   "source": [
    "is_multi_objective = False\n",
    "n_trials = 100\n",
    "study = optimize(is_multi_objective=is_multi_objective, n_trials=n_trials)"
   ]
  },
  {
   "cell_type": "code",
   "execution_count": 27,
   "metadata": {},
   "outputs": [],
   "source": [
    "import optuna.visualization as vis"
   ]
  },
  {
   "cell_type": "code",
   "execution_count": 28,
   "metadata": {},
   "outputs": [
    {
     "data": {
      "application/vnd.plotly.v1+json": {
       "config": {
        "plotlyServerURL": "https://plot.ly"
       },
       "data": [
        {
         "cliponaxis": false,
         "hovertemplate": [
          "loss_idx (IntDistribution): 0.014944869721015585<extra></extra>",
          "beta2 (FloatDistribution): 0.05429568226863338<extra></extra>",
          "scheduler_gamma (FloatDistribution): 0.059584522490867514<extra></extra>",
          "beta1 (FloatDistribution): 0.06230687721226106<extra></extra>",
          "weight_decay (FloatDistribution): 0.07399948806456699<extra></extra>",
          "batch_size (IntDistribution): 0.08182491191413735<extra></extra>",
          "num_blocks (IntDistribution): 0.08183565770567952<extra></extra>",
          "lr (FloatDistribution): 0.08664208036822994<extra></extra>",
          "momentum (FloatDistribution): 0.09398925875443158<extra></extra>",
          "dampening (FloatDistribution): 0.09714121296527012<extra></extra>",
          "optimizer_idx (IntDistribution): 0.14110864924507316<extra></extra>",
          "epochs (IntDistribution): 0.15232678928983384<extra></extra>"
         ],
         "name": "Objective Value",
         "orientation": "h",
         "text": [
          "0.01",
          "0.05",
          "0.06",
          "0.06",
          "0.07",
          "0.08",
          "0.08",
          "0.09",
          "0.09",
          "0.10",
          "0.14",
          "0.15"
         ],
         "textposition": "outside",
         "type": "bar",
         "x": [
          0.014944869721015585,
          0.05429568226863338,
          0.059584522490867514,
          0.06230687721226106,
          0.07399948806456699,
          0.08182491191413735,
          0.08183565770567952,
          0.08664208036822994,
          0.09398925875443158,
          0.09714121296527012,
          0.14110864924507316,
          0.15232678928983384
         ],
         "y": [
          "loss_idx",
          "beta2",
          "scheduler_gamma",
          "beta1",
          "weight_decay",
          "batch_size",
          "num_blocks",
          "lr",
          "momentum",
          "dampening",
          "optimizer_idx",
          "epochs"
         ]
        }
       ],
       "layout": {
        "template": {
         "data": {
          "bar": [
           {
            "error_x": {
             "color": "#2a3f5f"
            },
            "error_y": {
             "color": "#2a3f5f"
            },
            "marker": {
             "line": {
              "color": "#E5ECF6",
              "width": 0.5
             },
             "pattern": {
              "fillmode": "overlay",
              "size": 10,
              "solidity": 0.2
             }
            },
            "type": "bar"
           }
          ],
          "barpolar": [
           {
            "marker": {
             "line": {
              "color": "#E5ECF6",
              "width": 0.5
             },
             "pattern": {
              "fillmode": "overlay",
              "size": 10,
              "solidity": 0.2
             }
            },
            "type": "barpolar"
           }
          ],
          "carpet": [
           {
            "aaxis": {
             "endlinecolor": "#2a3f5f",
             "gridcolor": "white",
             "linecolor": "white",
             "minorgridcolor": "white",
             "startlinecolor": "#2a3f5f"
            },
            "baxis": {
             "endlinecolor": "#2a3f5f",
             "gridcolor": "white",
             "linecolor": "white",
             "minorgridcolor": "white",
             "startlinecolor": "#2a3f5f"
            },
            "type": "carpet"
           }
          ],
          "choropleth": [
           {
            "colorbar": {
             "outlinewidth": 0,
             "ticks": ""
            },
            "type": "choropleth"
           }
          ],
          "contour": [
           {
            "colorbar": {
             "outlinewidth": 0,
             "ticks": ""
            },
            "colorscale": [
             [
              0,
              "#0d0887"
             ],
             [
              0.1111111111111111,
              "#46039f"
             ],
             [
              0.2222222222222222,
              "#7201a8"
             ],
             [
              0.3333333333333333,
              "#9c179e"
             ],
             [
              0.4444444444444444,
              "#bd3786"
             ],
             [
              0.5555555555555556,
              "#d8576b"
             ],
             [
              0.6666666666666666,
              "#ed7953"
             ],
             [
              0.7777777777777778,
              "#fb9f3a"
             ],
             [
              0.8888888888888888,
              "#fdca26"
             ],
             [
              1,
              "#f0f921"
             ]
            ],
            "type": "contour"
           }
          ],
          "contourcarpet": [
           {
            "colorbar": {
             "outlinewidth": 0,
             "ticks": ""
            },
            "type": "contourcarpet"
           }
          ],
          "heatmap": [
           {
            "colorbar": {
             "outlinewidth": 0,
             "ticks": ""
            },
            "colorscale": [
             [
              0,
              "#0d0887"
             ],
             [
              0.1111111111111111,
              "#46039f"
             ],
             [
              0.2222222222222222,
              "#7201a8"
             ],
             [
              0.3333333333333333,
              "#9c179e"
             ],
             [
              0.4444444444444444,
              "#bd3786"
             ],
             [
              0.5555555555555556,
              "#d8576b"
             ],
             [
              0.6666666666666666,
              "#ed7953"
             ],
             [
              0.7777777777777778,
              "#fb9f3a"
             ],
             [
              0.8888888888888888,
              "#fdca26"
             ],
             [
              1,
              "#f0f921"
             ]
            ],
            "type": "heatmap"
           }
          ],
          "heatmapgl": [
           {
            "colorbar": {
             "outlinewidth": 0,
             "ticks": ""
            },
            "colorscale": [
             [
              0,
              "#0d0887"
             ],
             [
              0.1111111111111111,
              "#46039f"
             ],
             [
              0.2222222222222222,
              "#7201a8"
             ],
             [
              0.3333333333333333,
              "#9c179e"
             ],
             [
              0.4444444444444444,
              "#bd3786"
             ],
             [
              0.5555555555555556,
              "#d8576b"
             ],
             [
              0.6666666666666666,
              "#ed7953"
             ],
             [
              0.7777777777777778,
              "#fb9f3a"
             ],
             [
              0.8888888888888888,
              "#fdca26"
             ],
             [
              1,
              "#f0f921"
             ]
            ],
            "type": "heatmapgl"
           }
          ],
          "histogram": [
           {
            "marker": {
             "pattern": {
              "fillmode": "overlay",
              "size": 10,
              "solidity": 0.2
             }
            },
            "type": "histogram"
           }
          ],
          "histogram2d": [
           {
            "colorbar": {
             "outlinewidth": 0,
             "ticks": ""
            },
            "colorscale": [
             [
              0,
              "#0d0887"
             ],
             [
              0.1111111111111111,
              "#46039f"
             ],
             [
              0.2222222222222222,
              "#7201a8"
             ],
             [
              0.3333333333333333,
              "#9c179e"
             ],
             [
              0.4444444444444444,
              "#bd3786"
             ],
             [
              0.5555555555555556,
              "#d8576b"
             ],
             [
              0.6666666666666666,
              "#ed7953"
             ],
             [
              0.7777777777777778,
              "#fb9f3a"
             ],
             [
              0.8888888888888888,
              "#fdca26"
             ],
             [
              1,
              "#f0f921"
             ]
            ],
            "type": "histogram2d"
           }
          ],
          "histogram2dcontour": [
           {
            "colorbar": {
             "outlinewidth": 0,
             "ticks": ""
            },
            "colorscale": [
             [
              0,
              "#0d0887"
             ],
             [
              0.1111111111111111,
              "#46039f"
             ],
             [
              0.2222222222222222,
              "#7201a8"
             ],
             [
              0.3333333333333333,
              "#9c179e"
             ],
             [
              0.4444444444444444,
              "#bd3786"
             ],
             [
              0.5555555555555556,
              "#d8576b"
             ],
             [
              0.6666666666666666,
              "#ed7953"
             ],
             [
              0.7777777777777778,
              "#fb9f3a"
             ],
             [
              0.8888888888888888,
              "#fdca26"
             ],
             [
              1,
              "#f0f921"
             ]
            ],
            "type": "histogram2dcontour"
           }
          ],
          "mesh3d": [
           {
            "colorbar": {
             "outlinewidth": 0,
             "ticks": ""
            },
            "type": "mesh3d"
           }
          ],
          "parcoords": [
           {
            "line": {
             "colorbar": {
              "outlinewidth": 0,
              "ticks": ""
             }
            },
            "type": "parcoords"
           }
          ],
          "pie": [
           {
            "automargin": true,
            "type": "pie"
           }
          ],
          "scatter": [
           {
            "fillpattern": {
             "fillmode": "overlay",
             "size": 10,
             "solidity": 0.2
            },
            "type": "scatter"
           }
          ],
          "scatter3d": [
           {
            "line": {
             "colorbar": {
              "outlinewidth": 0,
              "ticks": ""
             }
            },
            "marker": {
             "colorbar": {
              "outlinewidth": 0,
              "ticks": ""
             }
            },
            "type": "scatter3d"
           }
          ],
          "scattercarpet": [
           {
            "marker": {
             "colorbar": {
              "outlinewidth": 0,
              "ticks": ""
             }
            },
            "type": "scattercarpet"
           }
          ],
          "scattergeo": [
           {
            "marker": {
             "colorbar": {
              "outlinewidth": 0,
              "ticks": ""
             }
            },
            "type": "scattergeo"
           }
          ],
          "scattergl": [
           {
            "marker": {
             "colorbar": {
              "outlinewidth": 0,
              "ticks": ""
             }
            },
            "type": "scattergl"
           }
          ],
          "scattermapbox": [
           {
            "marker": {
             "colorbar": {
              "outlinewidth": 0,
              "ticks": ""
             }
            },
            "type": "scattermapbox"
           }
          ],
          "scatterpolar": [
           {
            "marker": {
             "colorbar": {
              "outlinewidth": 0,
              "ticks": ""
             }
            },
            "type": "scatterpolar"
           }
          ],
          "scatterpolargl": [
           {
            "marker": {
             "colorbar": {
              "outlinewidth": 0,
              "ticks": ""
             }
            },
            "type": "scatterpolargl"
           }
          ],
          "scatterternary": [
           {
            "marker": {
             "colorbar": {
              "outlinewidth": 0,
              "ticks": ""
             }
            },
            "type": "scatterternary"
           }
          ],
          "surface": [
           {
            "colorbar": {
             "outlinewidth": 0,
             "ticks": ""
            },
            "colorscale": [
             [
              0,
              "#0d0887"
             ],
             [
              0.1111111111111111,
              "#46039f"
             ],
             [
              0.2222222222222222,
              "#7201a8"
             ],
             [
              0.3333333333333333,
              "#9c179e"
             ],
             [
              0.4444444444444444,
              "#bd3786"
             ],
             [
              0.5555555555555556,
              "#d8576b"
             ],
             [
              0.6666666666666666,
              "#ed7953"
             ],
             [
              0.7777777777777778,
              "#fb9f3a"
             ],
             [
              0.8888888888888888,
              "#fdca26"
             ],
             [
              1,
              "#f0f921"
             ]
            ],
            "type": "surface"
           }
          ],
          "table": [
           {
            "cells": {
             "fill": {
              "color": "#EBF0F8"
             },
             "line": {
              "color": "white"
             }
            },
            "header": {
             "fill": {
              "color": "#C8D4E3"
             },
             "line": {
              "color": "white"
             }
            },
            "type": "table"
           }
          ]
         },
         "layout": {
          "annotationdefaults": {
           "arrowcolor": "#2a3f5f",
           "arrowhead": 0,
           "arrowwidth": 1
          },
          "autotypenumbers": "strict",
          "coloraxis": {
           "colorbar": {
            "outlinewidth": 0,
            "ticks": ""
           }
          },
          "colorscale": {
           "diverging": [
            [
             0,
             "#8e0152"
            ],
            [
             0.1,
             "#c51b7d"
            ],
            [
             0.2,
             "#de77ae"
            ],
            [
             0.3,
             "#f1b6da"
            ],
            [
             0.4,
             "#fde0ef"
            ],
            [
             0.5,
             "#f7f7f7"
            ],
            [
             0.6,
             "#e6f5d0"
            ],
            [
             0.7,
             "#b8e186"
            ],
            [
             0.8,
             "#7fbc41"
            ],
            [
             0.9,
             "#4d9221"
            ],
            [
             1,
             "#276419"
            ]
           ],
           "sequential": [
            [
             0,
             "#0d0887"
            ],
            [
             0.1111111111111111,
             "#46039f"
            ],
            [
             0.2222222222222222,
             "#7201a8"
            ],
            [
             0.3333333333333333,
             "#9c179e"
            ],
            [
             0.4444444444444444,
             "#bd3786"
            ],
            [
             0.5555555555555556,
             "#d8576b"
            ],
            [
             0.6666666666666666,
             "#ed7953"
            ],
            [
             0.7777777777777778,
             "#fb9f3a"
            ],
            [
             0.8888888888888888,
             "#fdca26"
            ],
            [
             1,
             "#f0f921"
            ]
           ],
           "sequentialminus": [
            [
             0,
             "#0d0887"
            ],
            [
             0.1111111111111111,
             "#46039f"
            ],
            [
             0.2222222222222222,
             "#7201a8"
            ],
            [
             0.3333333333333333,
             "#9c179e"
            ],
            [
             0.4444444444444444,
             "#bd3786"
            ],
            [
             0.5555555555555556,
             "#d8576b"
            ],
            [
             0.6666666666666666,
             "#ed7953"
            ],
            [
             0.7777777777777778,
             "#fb9f3a"
            ],
            [
             0.8888888888888888,
             "#fdca26"
            ],
            [
             1,
             "#f0f921"
            ]
           ]
          },
          "colorway": [
           "#636efa",
           "#EF553B",
           "#00cc96",
           "#ab63fa",
           "#FFA15A",
           "#19d3f3",
           "#FF6692",
           "#B6E880",
           "#FF97FF",
           "#FECB52"
          ],
          "font": {
           "color": "#2a3f5f"
          },
          "geo": {
           "bgcolor": "white",
           "lakecolor": "white",
           "landcolor": "#E5ECF6",
           "showlakes": true,
           "showland": true,
           "subunitcolor": "white"
          },
          "hoverlabel": {
           "align": "left"
          },
          "hovermode": "closest",
          "mapbox": {
           "style": "light"
          },
          "paper_bgcolor": "white",
          "plot_bgcolor": "#E5ECF6",
          "polar": {
           "angularaxis": {
            "gridcolor": "white",
            "linecolor": "white",
            "ticks": ""
           },
           "bgcolor": "#E5ECF6",
           "radialaxis": {
            "gridcolor": "white",
            "linecolor": "white",
            "ticks": ""
           }
          },
          "scene": {
           "xaxis": {
            "backgroundcolor": "#E5ECF6",
            "gridcolor": "white",
            "gridwidth": 2,
            "linecolor": "white",
            "showbackground": true,
            "ticks": "",
            "zerolinecolor": "white"
           },
           "yaxis": {
            "backgroundcolor": "#E5ECF6",
            "gridcolor": "white",
            "gridwidth": 2,
            "linecolor": "white",
            "showbackground": true,
            "ticks": "",
            "zerolinecolor": "white"
           },
           "zaxis": {
            "backgroundcolor": "#E5ECF6",
            "gridcolor": "white",
            "gridwidth": 2,
            "linecolor": "white",
            "showbackground": true,
            "ticks": "",
            "zerolinecolor": "white"
           }
          },
          "shapedefaults": {
           "line": {
            "color": "#2a3f5f"
           }
          },
          "ternary": {
           "aaxis": {
            "gridcolor": "white",
            "linecolor": "white",
            "ticks": ""
           },
           "baxis": {
            "gridcolor": "white",
            "linecolor": "white",
            "ticks": ""
           },
           "bgcolor": "#E5ECF6",
           "caxis": {
            "gridcolor": "white",
            "linecolor": "white",
            "ticks": ""
           }
          },
          "title": {
           "x": 0.05
          },
          "xaxis": {
           "automargin": true,
           "gridcolor": "white",
           "linecolor": "white",
           "ticks": "",
           "title": {
            "standoff": 15
           },
           "zerolinecolor": "white",
           "zerolinewidth": 2
          },
          "yaxis": {
           "automargin": true,
           "gridcolor": "white",
           "linecolor": "white",
           "ticks": "",
           "title": {
            "standoff": 15
           },
           "zerolinecolor": "white",
           "zerolinewidth": 2
          }
         }
        },
        "title": {
         "text": "Hyperparameter Importances"
        },
        "xaxis": {
         "title": {
          "text": "Hyperparameter Importance"
         }
        },
        "yaxis": {
         "title": {
          "text": "Hyperparameter"
         }
        }
       }
      }
     },
     "metadata": {},
     "output_type": "display_data"
    }
   ],
   "source": [
    "vis.plot_param_importances(study)"
   ]
  },
  {
   "cell_type": "code",
   "execution_count": 29,
   "metadata": {},
   "outputs": [],
   "source": [
    "if is_multi_objective:\n",
    "    fig = vis.plot_optimization_history(study, target=lambda t: t.values[0], target_name='Loss')\n",
    "    fig.show()"
   ]
  },
  {
   "cell_type": "code",
   "execution_count": 30,
   "metadata": {},
   "outputs": [
    {
     "data": {
      "application/vnd.plotly.v1+json": {
       "config": {
        "plotlyServerURL": "https://plot.ly"
       },
       "data": [
        {
         "mode": "markers",
         "name": "Objective Value",
         "type": "scatter",
         "x": [
          0,
          1,
          2,
          3,
          4,
          19,
          65
         ],
         "y": [
          0.27874988317489624,
          0.2532157301902771,
          0.2288287878036499,
          0.5973964333534241,
          0.35379505157470703,
          0.23479576408863068,
          0.20922134816646576
         ]
        },
        {
         "mode": "lines",
         "name": "Best Value",
         "type": "scatter",
         "x": [
          0,
          1,
          2,
          3,
          4,
          5,
          6,
          7,
          8,
          9,
          10,
          11,
          12,
          13,
          14,
          15,
          16,
          17,
          18,
          19,
          20,
          21,
          22,
          23,
          24,
          25,
          26,
          27,
          28,
          29,
          30,
          31,
          32,
          33,
          34,
          35,
          36,
          37,
          38,
          39,
          40,
          41,
          42,
          43,
          44,
          45,
          46,
          47,
          48,
          49,
          50,
          51,
          52,
          53,
          54,
          55,
          56,
          57,
          58,
          59,
          60,
          61,
          62,
          63,
          64,
          65,
          66,
          67,
          68,
          69,
          70,
          71,
          72,
          73,
          74,
          75,
          76,
          77,
          78,
          79,
          80,
          81,
          82,
          83,
          84,
          85,
          86,
          87,
          88,
          89,
          90,
          91,
          92,
          93,
          94,
          95,
          96,
          97,
          98,
          99
         ],
         "y": [
          0.27874988317489624,
          0.2532157301902771,
          0.2288287878036499,
          0.2288287878036499,
          0.2288287878036499,
          0.2288287878036499,
          0.2288287878036499,
          0.2288287878036499,
          0.2288287878036499,
          0.2288287878036499,
          0.2288287878036499,
          0.2288287878036499,
          0.2288287878036499,
          0.2288287878036499,
          0.2288287878036499,
          0.2288287878036499,
          0.2288287878036499,
          0.2288287878036499,
          0.2288287878036499,
          0.2288287878036499,
          0.2288287878036499,
          0.2288287878036499,
          0.2288287878036499,
          0.2288287878036499,
          0.2288287878036499,
          0.2288287878036499,
          0.2288287878036499,
          0.2288287878036499,
          0.2288287878036499,
          0.2288287878036499,
          0.2288287878036499,
          0.2288287878036499,
          0.2288287878036499,
          0.2288287878036499,
          0.2288287878036499,
          0.2288287878036499,
          0.2288287878036499,
          0.2288287878036499,
          0.2288287878036499,
          0.2288287878036499,
          0.2288287878036499,
          0.2288287878036499,
          0.2288287878036499,
          0.2288287878036499,
          0.2288287878036499,
          0.2288287878036499,
          0.2288287878036499,
          0.2288287878036499,
          0.2288287878036499,
          0.2288287878036499,
          0.2288287878036499,
          0.2288287878036499,
          0.2288287878036499,
          0.2288287878036499,
          0.2288287878036499,
          0.2288287878036499,
          0.2288287878036499,
          0.2288287878036499,
          0.2288287878036499,
          0.2288287878036499,
          0.2288287878036499,
          0.2288287878036499,
          0.2288287878036499,
          0.2288287878036499,
          0.2288287878036499,
          0.20922134816646576,
          0.20922134816646576,
          0.20922134816646576,
          0.20922134816646576,
          0.20922134816646576,
          0.20922134816646576,
          0.20922134816646576,
          0.20922134816646576,
          0.20922134816646576,
          0.20922134816646576,
          0.20922134816646576,
          0.20922134816646576,
          0.20922134816646576,
          0.20922134816646576,
          0.20922134816646576,
          0.20922134816646576,
          0.20922134816646576,
          0.20922134816646576,
          0.20922134816646576,
          0.20922134816646576,
          0.20922134816646576,
          0.20922134816646576,
          0.20922134816646576,
          0.20922134816646576,
          0.20922134816646576,
          0.20922134816646576,
          0.20922134816646576,
          0.20922134816646576,
          0.20922134816646576,
          0.20922134816646576,
          0.20922134816646576,
          0.20922134816646576,
          0.20922134816646576,
          0.20922134816646576,
          0.20922134816646576
         ]
        },
        {
         "marker": {
          "color": "#cccccc"
         },
         "mode": "markers",
         "name": "Infeasible Trial",
         "showlegend": false,
         "type": "scatter",
         "x": [],
         "y": []
        }
       ],
       "layout": {
        "template": {
         "data": {
          "bar": [
           {
            "error_x": {
             "color": "#2a3f5f"
            },
            "error_y": {
             "color": "#2a3f5f"
            },
            "marker": {
             "line": {
              "color": "#E5ECF6",
              "width": 0.5
             },
             "pattern": {
              "fillmode": "overlay",
              "size": 10,
              "solidity": 0.2
             }
            },
            "type": "bar"
           }
          ],
          "barpolar": [
           {
            "marker": {
             "line": {
              "color": "#E5ECF6",
              "width": 0.5
             },
             "pattern": {
              "fillmode": "overlay",
              "size": 10,
              "solidity": 0.2
             }
            },
            "type": "barpolar"
           }
          ],
          "carpet": [
           {
            "aaxis": {
             "endlinecolor": "#2a3f5f",
             "gridcolor": "white",
             "linecolor": "white",
             "minorgridcolor": "white",
             "startlinecolor": "#2a3f5f"
            },
            "baxis": {
             "endlinecolor": "#2a3f5f",
             "gridcolor": "white",
             "linecolor": "white",
             "minorgridcolor": "white",
             "startlinecolor": "#2a3f5f"
            },
            "type": "carpet"
           }
          ],
          "choropleth": [
           {
            "colorbar": {
             "outlinewidth": 0,
             "ticks": ""
            },
            "type": "choropleth"
           }
          ],
          "contour": [
           {
            "colorbar": {
             "outlinewidth": 0,
             "ticks": ""
            },
            "colorscale": [
             [
              0,
              "#0d0887"
             ],
             [
              0.1111111111111111,
              "#46039f"
             ],
             [
              0.2222222222222222,
              "#7201a8"
             ],
             [
              0.3333333333333333,
              "#9c179e"
             ],
             [
              0.4444444444444444,
              "#bd3786"
             ],
             [
              0.5555555555555556,
              "#d8576b"
             ],
             [
              0.6666666666666666,
              "#ed7953"
             ],
             [
              0.7777777777777778,
              "#fb9f3a"
             ],
             [
              0.8888888888888888,
              "#fdca26"
             ],
             [
              1,
              "#f0f921"
             ]
            ],
            "type": "contour"
           }
          ],
          "contourcarpet": [
           {
            "colorbar": {
             "outlinewidth": 0,
             "ticks": ""
            },
            "type": "contourcarpet"
           }
          ],
          "heatmap": [
           {
            "colorbar": {
             "outlinewidth": 0,
             "ticks": ""
            },
            "colorscale": [
             [
              0,
              "#0d0887"
             ],
             [
              0.1111111111111111,
              "#46039f"
             ],
             [
              0.2222222222222222,
              "#7201a8"
             ],
             [
              0.3333333333333333,
              "#9c179e"
             ],
             [
              0.4444444444444444,
              "#bd3786"
             ],
             [
              0.5555555555555556,
              "#d8576b"
             ],
             [
              0.6666666666666666,
              "#ed7953"
             ],
             [
              0.7777777777777778,
              "#fb9f3a"
             ],
             [
              0.8888888888888888,
              "#fdca26"
             ],
             [
              1,
              "#f0f921"
             ]
            ],
            "type": "heatmap"
           }
          ],
          "heatmapgl": [
           {
            "colorbar": {
             "outlinewidth": 0,
             "ticks": ""
            },
            "colorscale": [
             [
              0,
              "#0d0887"
             ],
             [
              0.1111111111111111,
              "#46039f"
             ],
             [
              0.2222222222222222,
              "#7201a8"
             ],
             [
              0.3333333333333333,
              "#9c179e"
             ],
             [
              0.4444444444444444,
              "#bd3786"
             ],
             [
              0.5555555555555556,
              "#d8576b"
             ],
             [
              0.6666666666666666,
              "#ed7953"
             ],
             [
              0.7777777777777778,
              "#fb9f3a"
             ],
             [
              0.8888888888888888,
              "#fdca26"
             ],
             [
              1,
              "#f0f921"
             ]
            ],
            "type": "heatmapgl"
           }
          ],
          "histogram": [
           {
            "marker": {
             "pattern": {
              "fillmode": "overlay",
              "size": 10,
              "solidity": 0.2
             }
            },
            "type": "histogram"
           }
          ],
          "histogram2d": [
           {
            "colorbar": {
             "outlinewidth": 0,
             "ticks": ""
            },
            "colorscale": [
             [
              0,
              "#0d0887"
             ],
             [
              0.1111111111111111,
              "#46039f"
             ],
             [
              0.2222222222222222,
              "#7201a8"
             ],
             [
              0.3333333333333333,
              "#9c179e"
             ],
             [
              0.4444444444444444,
              "#bd3786"
             ],
             [
              0.5555555555555556,
              "#d8576b"
             ],
             [
              0.6666666666666666,
              "#ed7953"
             ],
             [
              0.7777777777777778,
              "#fb9f3a"
             ],
             [
              0.8888888888888888,
              "#fdca26"
             ],
             [
              1,
              "#f0f921"
             ]
            ],
            "type": "histogram2d"
           }
          ],
          "histogram2dcontour": [
           {
            "colorbar": {
             "outlinewidth": 0,
             "ticks": ""
            },
            "colorscale": [
             [
              0,
              "#0d0887"
             ],
             [
              0.1111111111111111,
              "#46039f"
             ],
             [
              0.2222222222222222,
              "#7201a8"
             ],
             [
              0.3333333333333333,
              "#9c179e"
             ],
             [
              0.4444444444444444,
              "#bd3786"
             ],
             [
              0.5555555555555556,
              "#d8576b"
             ],
             [
              0.6666666666666666,
              "#ed7953"
             ],
             [
              0.7777777777777778,
              "#fb9f3a"
             ],
             [
              0.8888888888888888,
              "#fdca26"
             ],
             [
              1,
              "#f0f921"
             ]
            ],
            "type": "histogram2dcontour"
           }
          ],
          "mesh3d": [
           {
            "colorbar": {
             "outlinewidth": 0,
             "ticks": ""
            },
            "type": "mesh3d"
           }
          ],
          "parcoords": [
           {
            "line": {
             "colorbar": {
              "outlinewidth": 0,
              "ticks": ""
             }
            },
            "type": "parcoords"
           }
          ],
          "pie": [
           {
            "automargin": true,
            "type": "pie"
           }
          ],
          "scatter": [
           {
            "fillpattern": {
             "fillmode": "overlay",
             "size": 10,
             "solidity": 0.2
            },
            "type": "scatter"
           }
          ],
          "scatter3d": [
           {
            "line": {
             "colorbar": {
              "outlinewidth": 0,
              "ticks": ""
             }
            },
            "marker": {
             "colorbar": {
              "outlinewidth": 0,
              "ticks": ""
             }
            },
            "type": "scatter3d"
           }
          ],
          "scattercarpet": [
           {
            "marker": {
             "colorbar": {
              "outlinewidth": 0,
              "ticks": ""
             }
            },
            "type": "scattercarpet"
           }
          ],
          "scattergeo": [
           {
            "marker": {
             "colorbar": {
              "outlinewidth": 0,
              "ticks": ""
             }
            },
            "type": "scattergeo"
           }
          ],
          "scattergl": [
           {
            "marker": {
             "colorbar": {
              "outlinewidth": 0,
              "ticks": ""
             }
            },
            "type": "scattergl"
           }
          ],
          "scattermapbox": [
           {
            "marker": {
             "colorbar": {
              "outlinewidth": 0,
              "ticks": ""
             }
            },
            "type": "scattermapbox"
           }
          ],
          "scatterpolar": [
           {
            "marker": {
             "colorbar": {
              "outlinewidth": 0,
              "ticks": ""
             }
            },
            "type": "scatterpolar"
           }
          ],
          "scatterpolargl": [
           {
            "marker": {
             "colorbar": {
              "outlinewidth": 0,
              "ticks": ""
             }
            },
            "type": "scatterpolargl"
           }
          ],
          "scatterternary": [
           {
            "marker": {
             "colorbar": {
              "outlinewidth": 0,
              "ticks": ""
             }
            },
            "type": "scatterternary"
           }
          ],
          "surface": [
           {
            "colorbar": {
             "outlinewidth": 0,
             "ticks": ""
            },
            "colorscale": [
             [
              0,
              "#0d0887"
             ],
             [
              0.1111111111111111,
              "#46039f"
             ],
             [
              0.2222222222222222,
              "#7201a8"
             ],
             [
              0.3333333333333333,
              "#9c179e"
             ],
             [
              0.4444444444444444,
              "#bd3786"
             ],
             [
              0.5555555555555556,
              "#d8576b"
             ],
             [
              0.6666666666666666,
              "#ed7953"
             ],
             [
              0.7777777777777778,
              "#fb9f3a"
             ],
             [
              0.8888888888888888,
              "#fdca26"
             ],
             [
              1,
              "#f0f921"
             ]
            ],
            "type": "surface"
           }
          ],
          "table": [
           {
            "cells": {
             "fill": {
              "color": "#EBF0F8"
             },
             "line": {
              "color": "white"
             }
            },
            "header": {
             "fill": {
              "color": "#C8D4E3"
             },
             "line": {
              "color": "white"
             }
            },
            "type": "table"
           }
          ]
         },
         "layout": {
          "annotationdefaults": {
           "arrowcolor": "#2a3f5f",
           "arrowhead": 0,
           "arrowwidth": 1
          },
          "autotypenumbers": "strict",
          "coloraxis": {
           "colorbar": {
            "outlinewidth": 0,
            "ticks": ""
           }
          },
          "colorscale": {
           "diverging": [
            [
             0,
             "#8e0152"
            ],
            [
             0.1,
             "#c51b7d"
            ],
            [
             0.2,
             "#de77ae"
            ],
            [
             0.3,
             "#f1b6da"
            ],
            [
             0.4,
             "#fde0ef"
            ],
            [
             0.5,
             "#f7f7f7"
            ],
            [
             0.6,
             "#e6f5d0"
            ],
            [
             0.7,
             "#b8e186"
            ],
            [
             0.8,
             "#7fbc41"
            ],
            [
             0.9,
             "#4d9221"
            ],
            [
             1,
             "#276419"
            ]
           ],
           "sequential": [
            [
             0,
             "#0d0887"
            ],
            [
             0.1111111111111111,
             "#46039f"
            ],
            [
             0.2222222222222222,
             "#7201a8"
            ],
            [
             0.3333333333333333,
             "#9c179e"
            ],
            [
             0.4444444444444444,
             "#bd3786"
            ],
            [
             0.5555555555555556,
             "#d8576b"
            ],
            [
             0.6666666666666666,
             "#ed7953"
            ],
            [
             0.7777777777777778,
             "#fb9f3a"
            ],
            [
             0.8888888888888888,
             "#fdca26"
            ],
            [
             1,
             "#f0f921"
            ]
           ],
           "sequentialminus": [
            [
             0,
             "#0d0887"
            ],
            [
             0.1111111111111111,
             "#46039f"
            ],
            [
             0.2222222222222222,
             "#7201a8"
            ],
            [
             0.3333333333333333,
             "#9c179e"
            ],
            [
             0.4444444444444444,
             "#bd3786"
            ],
            [
             0.5555555555555556,
             "#d8576b"
            ],
            [
             0.6666666666666666,
             "#ed7953"
            ],
            [
             0.7777777777777778,
             "#fb9f3a"
            ],
            [
             0.8888888888888888,
             "#fdca26"
            ],
            [
             1,
             "#f0f921"
            ]
           ]
          },
          "colorway": [
           "#636efa",
           "#EF553B",
           "#00cc96",
           "#ab63fa",
           "#FFA15A",
           "#19d3f3",
           "#FF6692",
           "#B6E880",
           "#FF97FF",
           "#FECB52"
          ],
          "font": {
           "color": "#2a3f5f"
          },
          "geo": {
           "bgcolor": "white",
           "lakecolor": "white",
           "landcolor": "#E5ECF6",
           "showlakes": true,
           "showland": true,
           "subunitcolor": "white"
          },
          "hoverlabel": {
           "align": "left"
          },
          "hovermode": "closest",
          "mapbox": {
           "style": "light"
          },
          "paper_bgcolor": "white",
          "plot_bgcolor": "#E5ECF6",
          "polar": {
           "angularaxis": {
            "gridcolor": "white",
            "linecolor": "white",
            "ticks": ""
           },
           "bgcolor": "#E5ECF6",
           "radialaxis": {
            "gridcolor": "white",
            "linecolor": "white",
            "ticks": ""
           }
          },
          "scene": {
           "xaxis": {
            "backgroundcolor": "#E5ECF6",
            "gridcolor": "white",
            "gridwidth": 2,
            "linecolor": "white",
            "showbackground": true,
            "ticks": "",
            "zerolinecolor": "white"
           },
           "yaxis": {
            "backgroundcolor": "#E5ECF6",
            "gridcolor": "white",
            "gridwidth": 2,
            "linecolor": "white",
            "showbackground": true,
            "ticks": "",
            "zerolinecolor": "white"
           },
           "zaxis": {
            "backgroundcolor": "#E5ECF6",
            "gridcolor": "white",
            "gridwidth": 2,
            "linecolor": "white",
            "showbackground": true,
            "ticks": "",
            "zerolinecolor": "white"
           }
          },
          "shapedefaults": {
           "line": {
            "color": "#2a3f5f"
           }
          },
          "ternary": {
           "aaxis": {
            "gridcolor": "white",
            "linecolor": "white",
            "ticks": ""
           },
           "baxis": {
            "gridcolor": "white",
            "linecolor": "white",
            "ticks": ""
           },
           "bgcolor": "#E5ECF6",
           "caxis": {
            "gridcolor": "white",
            "linecolor": "white",
            "ticks": ""
           }
          },
          "title": {
           "x": 0.05
          },
          "xaxis": {
           "automargin": true,
           "gridcolor": "white",
           "linecolor": "white",
           "ticks": "",
           "title": {
            "standoff": 15
           },
           "zerolinecolor": "white",
           "zerolinewidth": 2
          },
          "yaxis": {
           "automargin": true,
           "gridcolor": "white",
           "linecolor": "white",
           "ticks": "",
           "title": {
            "standoff": 15
           },
           "zerolinecolor": "white",
           "zerolinewidth": 2
          }
         }
        },
        "title": {
         "text": "Optimization History Plot"
        },
        "xaxis": {
         "title": {
          "text": "Trial"
         }
        },
        "yaxis": {
         "title": {
          "text": "Objective Value"
         }
        }
       }
      }
     },
     "metadata": {},
     "output_type": "display_data"
    }
   ],
   "source": [
    "if is_multi_objective:\n",
    "    fig = vis.plot_optimization_history(study, target=lambda t: t.values[1], target_name='Accuracy')\n",
    "else:\n",
    "    fig = vis.plot_optimization_history(study)\n",
    "fig.show()"
   ]
  },
  {
   "cell_type": "code",
   "execution_count": 31,
   "metadata": {},
   "outputs": [],
   "source": [
    "if is_multi_objective:\n",
    "    fig = vis.plot_slice(study, target=lambda t: t.values[0], target_name='Loss')\n",
    "    fig.show()"
   ]
  },
  {
   "cell_type": "code",
   "execution_count": 32,
   "metadata": {},
   "outputs": [
    {
     "data": {
      "application/vnd.plotly.v1+json": {
       "config": {
        "plotlyServerURL": "https://plot.ly"
       },
       "data": [
        {
         "marker": {
          "color": [
           0,
           1,
           2,
           3,
           4,
           19,
           65
          ],
          "colorbar": {
           "title": {
            "text": "Trial"
           },
           "x": 1,
           "xpad": 40
          },
          "colorscale": [
           [
            0,
            "rgb(247,251,255)"
           ],
           [
            0.125,
            "rgb(222,235,247)"
           ],
           [
            0.25,
            "rgb(198,219,239)"
           ],
           [
            0.375,
            "rgb(158,202,225)"
           ],
           [
            0.5,
            "rgb(107,174,214)"
           ],
           [
            0.625,
            "rgb(66,146,198)"
           ],
           [
            0.75,
            "rgb(33,113,181)"
           ],
           [
            0.875,
            "rgb(8,81,156)"
           ],
           [
            1,
            "rgb(8,48,107)"
           ]
          ],
          "line": {
           "color": "Grey",
           "width": 0.5
          },
          "showscale": true
         },
         "mode": "markers",
         "name": "Feasible Trial",
         "showlegend": false,
         "type": "scatter",
         "x": [
          228,
          178,
          229,
          115,
          198,
          142,
          219
         ],
         "xaxis": "x",
         "y": [
          0.27874988317489624,
          0.2532157301902771,
          0.2288287878036499,
          0.5973964333534241,
          0.35379505157470703,
          0.23479576408863068,
          0.20922134816646576
         ],
         "yaxis": "y"
        },
        {
         "marker": {
          "color": [
           0,
           1,
           2,
           3,
           4,
           19,
           65
          ],
          "colorbar": {
           "title": {
            "text": "Trial"
           },
           "x": 1,
           "xpad": 40
          },
          "colorscale": [
           [
            0,
            "rgb(247,251,255)"
           ],
           [
            0.125,
            "rgb(222,235,247)"
           ],
           [
            0.25,
            "rgb(198,219,239)"
           ],
           [
            0.375,
            "rgb(158,202,225)"
           ],
           [
            0.5,
            "rgb(107,174,214)"
           ],
           [
            0.625,
            "rgb(66,146,198)"
           ],
           [
            0.75,
            "rgb(33,113,181)"
           ],
           [
            0.875,
            "rgb(8,81,156)"
           ],
           [
            1,
            "rgb(8,48,107)"
           ]
          ],
          "line": {
           "color": "Grey",
           "width": 0.5
          },
          "showscale": false
         },
         "mode": "markers",
         "name": "Feasible Trial",
         "showlegend": false,
         "type": "scatter",
         "x": [
          0.9452108249175439,
          0.8141599122290153,
          0.8079251775269505,
          0.9626215707777731,
          0.8629844155139594,
          0.8430804319193789,
          0.8201411977785976
         ],
         "xaxis": "x2",
         "y": [
          0.27874988317489624,
          0.2532157301902771,
          0.2288287878036499,
          0.5973964333534241,
          0.35379505157470703,
          0.23479576408863068,
          0.20922134816646576
         ],
         "yaxis": "y2"
        },
        {
         "marker": {
          "color": [
           0,
           1,
           2,
           3,
           4,
           19,
           65
          ],
          "colorbar": {
           "title": {
            "text": "Trial"
           },
           "x": 1,
           "xpad": 40
          },
          "colorscale": [
           [
            0,
            "rgb(247,251,255)"
           ],
           [
            0.125,
            "rgb(222,235,247)"
           ],
           [
            0.25,
            "rgb(198,219,239)"
           ],
           [
            0.375,
            "rgb(158,202,225)"
           ],
           [
            0.5,
            "rgb(107,174,214)"
           ],
           [
            0.625,
            "rgb(66,146,198)"
           ],
           [
            0.75,
            "rgb(33,113,181)"
           ],
           [
            0.875,
            "rgb(8,81,156)"
           ],
           [
            1,
            "rgb(8,48,107)"
           ]
          ],
          "line": {
           "color": "Grey",
           "width": 0.5
          },
          "showscale": false
         },
         "mode": "markers",
         "name": "Feasible Trial",
         "showlegend": false,
         "type": "scatter",
         "x": [
          0.8866306144983823,
          0.7359706160873738,
          0.8321203834272018,
          0.8666756129271727,
          0.5069852712179305,
          0.55952806089216,
          0.7828316699445848
         ],
         "xaxis": "x3",
         "y": [
          0.27874988317489624,
          0.2532157301902771,
          0.2288287878036499,
          0.5973964333534241,
          0.35379505157470703,
          0.23479576408863068,
          0.20922134816646576
         ],
         "yaxis": "y3"
        },
        {
         "marker": {
          "color": [
           0,
           1,
           2,
           3,
           4,
           19,
           65
          ],
          "colorbar": {
           "title": {
            "text": "Trial"
           },
           "x": 1,
           "xpad": 40
          },
          "colorscale": [
           [
            0,
            "rgb(247,251,255)"
           ],
           [
            0.125,
            "rgb(222,235,247)"
           ],
           [
            0.25,
            "rgb(198,219,239)"
           ],
           [
            0.375,
            "rgb(158,202,225)"
           ],
           [
            0.5,
            "rgb(107,174,214)"
           ],
           [
            0.625,
            "rgb(66,146,198)"
           ],
           [
            0.75,
            "rgb(33,113,181)"
           ],
           [
            0.875,
            "rgb(8,81,156)"
           ],
           [
            1,
            "rgb(8,48,107)"
           ]
          ],
          "line": {
           "color": "Grey",
           "width": 0.5
          },
          "showscale": false
         },
         "mode": "markers",
         "name": "Feasible Trial",
         "showlegend": false,
         "type": "scatter",
         "x": [
          0.11637437819342483,
          0.3073609202763915,
          0.012125553822216528,
          0.1880193323577573,
          0.49941225531897515,
          0.16726307963085082,
          0.0875530112100895
         ],
         "xaxis": "x4",
         "y": [
          0.27874988317489624,
          0.2532157301902771,
          0.2288287878036499,
          0.5973964333534241,
          0.35379505157470703,
          0.23479576408863068,
          0.20922134816646576
         ],
         "yaxis": "y4"
        },
        {
         "marker": {
          "color": [
           0,
           1,
           2,
           3,
           4,
           19,
           65
          ],
          "colorbar": {
           "title": {
            "text": "Trial"
           },
           "x": 1,
           "xpad": 40
          },
          "colorscale": [
           [
            0,
            "rgb(247,251,255)"
           ],
           [
            0.125,
            "rgb(222,235,247)"
           ],
           [
            0.25,
            "rgb(198,219,239)"
           ],
           [
            0.375,
            "rgb(158,202,225)"
           ],
           [
            0.5,
            "rgb(107,174,214)"
           ],
           [
            0.625,
            "rgb(66,146,198)"
           ],
           [
            0.75,
            "rgb(33,113,181)"
           ],
           [
            0.875,
            "rgb(8,81,156)"
           ],
           [
            1,
            "rgb(8,48,107)"
           ]
          ],
          "line": {
           "color": "Grey",
           "width": 0.5
          },
          "showscale": false
         },
         "mode": "markers",
         "name": "Feasible Trial",
         "showlegend": false,
         "type": "scatter",
         "x": [
          77,
          83,
          80,
          103,
          63,
          100,
          121
         ],
         "xaxis": "x5",
         "y": [
          0.27874988317489624,
          0.2532157301902771,
          0.2288287878036499,
          0.5973964333534241,
          0.35379505157470703,
          0.23479576408863068,
          0.20922134816646576
         ],
         "yaxis": "y5"
        },
        {
         "marker": {
          "color": [
           0,
           1,
           2,
           3,
           4,
           19,
           65
          ],
          "colorbar": {
           "title": {
            "text": "Trial"
           },
           "x": 1,
           "xpad": 40
          },
          "colorscale": [
           [
            0,
            "rgb(247,251,255)"
           ],
           [
            0.125,
            "rgb(222,235,247)"
           ],
           [
            0.25,
            "rgb(198,219,239)"
           ],
           [
            0.375,
            "rgb(158,202,225)"
           ],
           [
            0.5,
            "rgb(107,174,214)"
           ],
           [
            0.625,
            "rgb(66,146,198)"
           ],
           [
            0.75,
            "rgb(33,113,181)"
           ],
           [
            0.875,
            "rgb(8,81,156)"
           ],
           [
            1,
            "rgb(8,48,107)"
           ]
          ],
          "line": {
           "color": "Grey",
           "width": 0.5
          },
          "showscale": false
         },
         "mode": "markers",
         "name": "Feasible Trial",
         "showlegend": false,
         "type": "scatter",
         "x": [
          1,
          0,
          1,
          1,
          1,
          0,
          1
         ],
         "xaxis": "x6",
         "y": [
          0.27874988317489624,
          0.2532157301902771,
          0.2288287878036499,
          0.5973964333534241,
          0.35379505157470703,
          0.23479576408863068,
          0.20922134816646576
         ],
         "yaxis": "y6"
        },
        {
         "marker": {
          "color": [
           0,
           1,
           2,
           3,
           4,
           19,
           65
          ],
          "colorbar": {
           "title": {
            "text": "Trial"
           },
           "x": 1,
           "xpad": 40
          },
          "colorscale": [
           [
            0,
            "rgb(247,251,255)"
           ],
           [
            0.125,
            "rgb(222,235,247)"
           ],
           [
            0.25,
            "rgb(198,219,239)"
           ],
           [
            0.375,
            "rgb(158,202,225)"
           ],
           [
            0.5,
            "rgb(107,174,214)"
           ],
           [
            0.625,
            "rgb(66,146,198)"
           ],
           [
            0.75,
            "rgb(33,113,181)"
           ],
           [
            0.875,
            "rgb(8,81,156)"
           ],
           [
            1,
            "rgb(8,48,107)"
           ]
          ],
          "line": {
           "color": "Grey",
           "width": 0.5
          },
          "showscale": false
         },
         "mode": "markers",
         "name": "Feasible Trial",
         "showlegend": false,
         "type": "scatter",
         "x": [
          0.005736516222514053,
          0.007919475643250986,
          0.008593285793049058,
          1.1363491145448716E-5,
          4.091053730465459E-5,
          0.0033108813389021827,
          0.00836489425162464
         ],
         "xaxis": "x7",
         "y": [
          0.27874988317489624,
          0.2532157301902771,
          0.2288287878036499,
          0.5973964333534241,
          0.35379505157470703,
          0.23479576408863068,
          0.20922134816646576
         ],
         "yaxis": "y7"
        },
        {
         "marker": {
          "color": [
           0,
           1,
           2,
           3,
           4,
           19,
           65
          ],
          "colorbar": {
           "title": {
            "text": "Trial"
           },
           "x": 1,
           "xpad": 40
          },
          "colorscale": [
           [
            0,
            "rgb(247,251,255)"
           ],
           [
            0.125,
            "rgb(222,235,247)"
           ],
           [
            0.25,
            "rgb(198,219,239)"
           ],
           [
            0.375,
            "rgb(158,202,225)"
           ],
           [
            0.5,
            "rgb(107,174,214)"
           ],
           [
            0.625,
            "rgb(66,146,198)"
           ],
           [
            0.75,
            "rgb(33,113,181)"
           ],
           [
            0.875,
            "rgb(8,81,156)"
           ],
           [
            1,
            "rgb(8,48,107)"
           ]
          ],
          "line": {
           "color": "Grey",
           "width": 0.5
          },
          "showscale": false
         },
         "mode": "markers",
         "name": "Feasible Trial",
         "showlegend": false,
         "type": "scatter",
         "x": [
          0.16045109869287827,
          0.49289239083849473,
          0.2826965759157107,
          0.09058497917693109,
          0.314131639977566,
          0.4444381617735833,
          0.4068030886893087
         ],
         "xaxis": "x8",
         "y": [
          0.27874988317489624,
          0.2532157301902771,
          0.2288287878036499,
          0.5973964333534241,
          0.35379505157470703,
          0.23479576408863068,
          0.20922134816646576
         ],
         "yaxis": "y8"
        },
        {
         "marker": {
          "color": [
           0,
           1,
           2,
           3,
           4,
           19,
           65
          ],
          "colorbar": {
           "title": {
            "text": "Trial"
           },
           "x": 1,
           "xpad": 40
          },
          "colorscale": [
           [
            0,
            "rgb(247,251,255)"
           ],
           [
            0.125,
            "rgb(222,235,247)"
           ],
           [
            0.25,
            "rgb(198,219,239)"
           ],
           [
            0.375,
            "rgb(158,202,225)"
           ],
           [
            0.5,
            "rgb(107,174,214)"
           ],
           [
            0.625,
            "rgb(66,146,198)"
           ],
           [
            0.75,
            "rgb(33,113,181)"
           ],
           [
            0.875,
            "rgb(8,81,156)"
           ],
           [
            1,
            "rgb(8,48,107)"
           ]
          ],
          "line": {
           "color": "Grey",
           "width": 0.5
          },
          "showscale": false
         },
         "mode": "markers",
         "name": "Feasible Trial",
         "showlegend": false,
         "type": "scatter",
         "x": [
          2,
          3,
          4,
          4,
          2,
          3,
          3
         ],
         "xaxis": "x9",
         "y": [
          0.27874988317489624,
          0.2532157301902771,
          0.2288287878036499,
          0.5973964333534241,
          0.35379505157470703,
          0.23479576408863068,
          0.20922134816646576
         ],
         "yaxis": "y9"
        },
        {
         "marker": {
          "color": [
           0,
           1,
           2,
           3,
           4,
           19,
           65
          ],
          "colorbar": {
           "title": {
            "text": "Trial"
           },
           "x": 1,
           "xpad": 40
          },
          "colorscale": [
           [
            0,
            "rgb(247,251,255)"
           ],
           [
            0.125,
            "rgb(222,235,247)"
           ],
           [
            0.25,
            "rgb(198,219,239)"
           ],
           [
            0.375,
            "rgb(158,202,225)"
           ],
           [
            0.5,
            "rgb(107,174,214)"
           ],
           [
            0.625,
            "rgb(66,146,198)"
           ],
           [
            0.75,
            "rgb(33,113,181)"
           ],
           [
            0.875,
            "rgb(8,81,156)"
           ],
           [
            1,
            "rgb(8,48,107)"
           ]
          ],
          "line": {
           "color": "Grey",
           "width": 0.5
          },
          "showscale": false
         },
         "mode": "markers",
         "name": "Feasible Trial",
         "showlegend": false,
         "type": "scatter",
         "x": [
          1,
          1,
          1,
          0,
          1,
          1,
          1
         ],
         "xaxis": "x10",
         "y": [
          0.27874988317489624,
          0.2532157301902771,
          0.2288287878036499,
          0.5973964333534241,
          0.35379505157470703,
          0.23479576408863068,
          0.20922134816646576
         ],
         "yaxis": "y10"
        },
        {
         "marker": {
          "color": [
           0,
           1,
           2,
           3,
           4,
           19,
           65
          ],
          "colorbar": {
           "title": {
            "text": "Trial"
           },
           "x": 1,
           "xpad": 40
          },
          "colorscale": [
           [
            0,
            "rgb(247,251,255)"
           ],
           [
            0.125,
            "rgb(222,235,247)"
           ],
           [
            0.25,
            "rgb(198,219,239)"
           ],
           [
            0.375,
            "rgb(158,202,225)"
           ],
           [
            0.5,
            "rgb(107,174,214)"
           ],
           [
            0.625,
            "rgb(66,146,198)"
           ],
           [
            0.75,
            "rgb(33,113,181)"
           ],
           [
            0.875,
            "rgb(8,81,156)"
           ],
           [
            1,
            "rgb(8,48,107)"
           ]
          ],
          "line": {
           "color": "Grey",
           "width": 0.5
          },
          "showscale": false
         },
         "mode": "markers",
         "name": "Feasible Trial",
         "showlegend": false,
         "type": "scatter",
         "x": [
          0.843228803105154,
          0.9936263454809069,
          0.9869592420560496,
          0.8534968104957219,
          0.9451963862244668,
          0.9717319953751921,
          0.9552905615276255
         ],
         "xaxis": "x11",
         "y": [
          0.27874988317489624,
          0.2532157301902771,
          0.2288287878036499,
          0.5973964333534241,
          0.35379505157470703,
          0.23479576408863068,
          0.20922134816646576
         ],
         "yaxis": "y11"
        },
        {
         "marker": {
          "color": [
           0,
           1,
           2,
           3,
           4,
           19,
           65
          ],
          "colorbar": {
           "title": {
            "text": "Trial"
           },
           "x": 1,
           "xpad": 40
          },
          "colorscale": [
           [
            0,
            "rgb(247,251,255)"
           ],
           [
            0.125,
            "rgb(222,235,247)"
           ],
           [
            0.25,
            "rgb(198,219,239)"
           ],
           [
            0.375,
            "rgb(158,202,225)"
           ],
           [
            0.5,
            "rgb(107,174,214)"
           ],
           [
            0.625,
            "rgb(66,146,198)"
           ],
           [
            0.75,
            "rgb(33,113,181)"
           ],
           [
            0.875,
            "rgb(8,81,156)"
           ],
           [
            1,
            "rgb(8,48,107)"
           ]
          ],
          "line": {
           "color": "Grey",
           "width": 0.5
          },
          "showscale": false
         },
         "mode": "markers",
         "name": "Feasible Trial",
         "showlegend": false,
         "type": "scatter",
         "x": [
          0.39722301108721475,
          0.26207615241636234,
          0.17559568463607322,
          0.2739905017335123,
          0.10508001928796387,
          0.18653938711341064,
          0.34102140588295116
         ],
         "xaxis": "x12",
         "y": [
          0.27874988317489624,
          0.2532157301902771,
          0.2288287878036499,
          0.5973964333534241,
          0.35379505157470703,
          0.23479576408863068,
          0.20922134816646576
         ],
         "yaxis": "y12"
        }
       ],
       "layout": {
        "template": {
         "data": {
          "bar": [
           {
            "error_x": {
             "color": "#2a3f5f"
            },
            "error_y": {
             "color": "#2a3f5f"
            },
            "marker": {
             "line": {
              "color": "#E5ECF6",
              "width": 0.5
             },
             "pattern": {
              "fillmode": "overlay",
              "size": 10,
              "solidity": 0.2
             }
            },
            "type": "bar"
           }
          ],
          "barpolar": [
           {
            "marker": {
             "line": {
              "color": "#E5ECF6",
              "width": 0.5
             },
             "pattern": {
              "fillmode": "overlay",
              "size": 10,
              "solidity": 0.2
             }
            },
            "type": "barpolar"
           }
          ],
          "carpet": [
           {
            "aaxis": {
             "endlinecolor": "#2a3f5f",
             "gridcolor": "white",
             "linecolor": "white",
             "minorgridcolor": "white",
             "startlinecolor": "#2a3f5f"
            },
            "baxis": {
             "endlinecolor": "#2a3f5f",
             "gridcolor": "white",
             "linecolor": "white",
             "minorgridcolor": "white",
             "startlinecolor": "#2a3f5f"
            },
            "type": "carpet"
           }
          ],
          "choropleth": [
           {
            "colorbar": {
             "outlinewidth": 0,
             "ticks": ""
            },
            "type": "choropleth"
           }
          ],
          "contour": [
           {
            "colorbar": {
             "outlinewidth": 0,
             "ticks": ""
            },
            "colorscale": [
             [
              0,
              "#0d0887"
             ],
             [
              0.1111111111111111,
              "#46039f"
             ],
             [
              0.2222222222222222,
              "#7201a8"
             ],
             [
              0.3333333333333333,
              "#9c179e"
             ],
             [
              0.4444444444444444,
              "#bd3786"
             ],
             [
              0.5555555555555556,
              "#d8576b"
             ],
             [
              0.6666666666666666,
              "#ed7953"
             ],
             [
              0.7777777777777778,
              "#fb9f3a"
             ],
             [
              0.8888888888888888,
              "#fdca26"
             ],
             [
              1,
              "#f0f921"
             ]
            ],
            "type": "contour"
           }
          ],
          "contourcarpet": [
           {
            "colorbar": {
             "outlinewidth": 0,
             "ticks": ""
            },
            "type": "contourcarpet"
           }
          ],
          "heatmap": [
           {
            "colorbar": {
             "outlinewidth": 0,
             "ticks": ""
            },
            "colorscale": [
             [
              0,
              "#0d0887"
             ],
             [
              0.1111111111111111,
              "#46039f"
             ],
             [
              0.2222222222222222,
              "#7201a8"
             ],
             [
              0.3333333333333333,
              "#9c179e"
             ],
             [
              0.4444444444444444,
              "#bd3786"
             ],
             [
              0.5555555555555556,
              "#d8576b"
             ],
             [
              0.6666666666666666,
              "#ed7953"
             ],
             [
              0.7777777777777778,
              "#fb9f3a"
             ],
             [
              0.8888888888888888,
              "#fdca26"
             ],
             [
              1,
              "#f0f921"
             ]
            ],
            "type": "heatmap"
           }
          ],
          "heatmapgl": [
           {
            "colorbar": {
             "outlinewidth": 0,
             "ticks": ""
            },
            "colorscale": [
             [
              0,
              "#0d0887"
             ],
             [
              0.1111111111111111,
              "#46039f"
             ],
             [
              0.2222222222222222,
              "#7201a8"
             ],
             [
              0.3333333333333333,
              "#9c179e"
             ],
             [
              0.4444444444444444,
              "#bd3786"
             ],
             [
              0.5555555555555556,
              "#d8576b"
             ],
             [
              0.6666666666666666,
              "#ed7953"
             ],
             [
              0.7777777777777778,
              "#fb9f3a"
             ],
             [
              0.8888888888888888,
              "#fdca26"
             ],
             [
              1,
              "#f0f921"
             ]
            ],
            "type": "heatmapgl"
           }
          ],
          "histogram": [
           {
            "marker": {
             "pattern": {
              "fillmode": "overlay",
              "size": 10,
              "solidity": 0.2
             }
            },
            "type": "histogram"
           }
          ],
          "histogram2d": [
           {
            "colorbar": {
             "outlinewidth": 0,
             "ticks": ""
            },
            "colorscale": [
             [
              0,
              "#0d0887"
             ],
             [
              0.1111111111111111,
              "#46039f"
             ],
             [
              0.2222222222222222,
              "#7201a8"
             ],
             [
              0.3333333333333333,
              "#9c179e"
             ],
             [
              0.4444444444444444,
              "#bd3786"
             ],
             [
              0.5555555555555556,
              "#d8576b"
             ],
             [
              0.6666666666666666,
              "#ed7953"
             ],
             [
              0.7777777777777778,
              "#fb9f3a"
             ],
             [
              0.8888888888888888,
              "#fdca26"
             ],
             [
              1,
              "#f0f921"
             ]
            ],
            "type": "histogram2d"
           }
          ],
          "histogram2dcontour": [
           {
            "colorbar": {
             "outlinewidth": 0,
             "ticks": ""
            },
            "colorscale": [
             [
              0,
              "#0d0887"
             ],
             [
              0.1111111111111111,
              "#46039f"
             ],
             [
              0.2222222222222222,
              "#7201a8"
             ],
             [
              0.3333333333333333,
              "#9c179e"
             ],
             [
              0.4444444444444444,
              "#bd3786"
             ],
             [
              0.5555555555555556,
              "#d8576b"
             ],
             [
              0.6666666666666666,
              "#ed7953"
             ],
             [
              0.7777777777777778,
              "#fb9f3a"
             ],
             [
              0.8888888888888888,
              "#fdca26"
             ],
             [
              1,
              "#f0f921"
             ]
            ],
            "type": "histogram2dcontour"
           }
          ],
          "mesh3d": [
           {
            "colorbar": {
             "outlinewidth": 0,
             "ticks": ""
            },
            "type": "mesh3d"
           }
          ],
          "parcoords": [
           {
            "line": {
             "colorbar": {
              "outlinewidth": 0,
              "ticks": ""
             }
            },
            "type": "parcoords"
           }
          ],
          "pie": [
           {
            "automargin": true,
            "type": "pie"
           }
          ],
          "scatter": [
           {
            "fillpattern": {
             "fillmode": "overlay",
             "size": 10,
             "solidity": 0.2
            },
            "type": "scatter"
           }
          ],
          "scatter3d": [
           {
            "line": {
             "colorbar": {
              "outlinewidth": 0,
              "ticks": ""
             }
            },
            "marker": {
             "colorbar": {
              "outlinewidth": 0,
              "ticks": ""
             }
            },
            "type": "scatter3d"
           }
          ],
          "scattercarpet": [
           {
            "marker": {
             "colorbar": {
              "outlinewidth": 0,
              "ticks": ""
             }
            },
            "type": "scattercarpet"
           }
          ],
          "scattergeo": [
           {
            "marker": {
             "colorbar": {
              "outlinewidth": 0,
              "ticks": ""
             }
            },
            "type": "scattergeo"
           }
          ],
          "scattergl": [
           {
            "marker": {
             "colorbar": {
              "outlinewidth": 0,
              "ticks": ""
             }
            },
            "type": "scattergl"
           }
          ],
          "scattermapbox": [
           {
            "marker": {
             "colorbar": {
              "outlinewidth": 0,
              "ticks": ""
             }
            },
            "type": "scattermapbox"
           }
          ],
          "scatterpolar": [
           {
            "marker": {
             "colorbar": {
              "outlinewidth": 0,
              "ticks": ""
             }
            },
            "type": "scatterpolar"
           }
          ],
          "scatterpolargl": [
           {
            "marker": {
             "colorbar": {
              "outlinewidth": 0,
              "ticks": ""
             }
            },
            "type": "scatterpolargl"
           }
          ],
          "scatterternary": [
           {
            "marker": {
             "colorbar": {
              "outlinewidth": 0,
              "ticks": ""
             }
            },
            "type": "scatterternary"
           }
          ],
          "surface": [
           {
            "colorbar": {
             "outlinewidth": 0,
             "ticks": ""
            },
            "colorscale": [
             [
              0,
              "#0d0887"
             ],
             [
              0.1111111111111111,
              "#46039f"
             ],
             [
              0.2222222222222222,
              "#7201a8"
             ],
             [
              0.3333333333333333,
              "#9c179e"
             ],
             [
              0.4444444444444444,
              "#bd3786"
             ],
             [
              0.5555555555555556,
              "#d8576b"
             ],
             [
              0.6666666666666666,
              "#ed7953"
             ],
             [
              0.7777777777777778,
              "#fb9f3a"
             ],
             [
              0.8888888888888888,
              "#fdca26"
             ],
             [
              1,
              "#f0f921"
             ]
            ],
            "type": "surface"
           }
          ],
          "table": [
           {
            "cells": {
             "fill": {
              "color": "#EBF0F8"
             },
             "line": {
              "color": "white"
             }
            },
            "header": {
             "fill": {
              "color": "#C8D4E3"
             },
             "line": {
              "color": "white"
             }
            },
            "type": "table"
           }
          ]
         },
         "layout": {
          "annotationdefaults": {
           "arrowcolor": "#2a3f5f",
           "arrowhead": 0,
           "arrowwidth": 1
          },
          "autotypenumbers": "strict",
          "coloraxis": {
           "colorbar": {
            "outlinewidth": 0,
            "ticks": ""
           }
          },
          "colorscale": {
           "diverging": [
            [
             0,
             "#8e0152"
            ],
            [
             0.1,
             "#c51b7d"
            ],
            [
             0.2,
             "#de77ae"
            ],
            [
             0.3,
             "#f1b6da"
            ],
            [
             0.4,
             "#fde0ef"
            ],
            [
             0.5,
             "#f7f7f7"
            ],
            [
             0.6,
             "#e6f5d0"
            ],
            [
             0.7,
             "#b8e186"
            ],
            [
             0.8,
             "#7fbc41"
            ],
            [
             0.9,
             "#4d9221"
            ],
            [
             1,
             "#276419"
            ]
           ],
           "sequential": [
            [
             0,
             "#0d0887"
            ],
            [
             0.1111111111111111,
             "#46039f"
            ],
            [
             0.2222222222222222,
             "#7201a8"
            ],
            [
             0.3333333333333333,
             "#9c179e"
            ],
            [
             0.4444444444444444,
             "#bd3786"
            ],
            [
             0.5555555555555556,
             "#d8576b"
            ],
            [
             0.6666666666666666,
             "#ed7953"
            ],
            [
             0.7777777777777778,
             "#fb9f3a"
            ],
            [
             0.8888888888888888,
             "#fdca26"
            ],
            [
             1,
             "#f0f921"
            ]
           ],
           "sequentialminus": [
            [
             0,
             "#0d0887"
            ],
            [
             0.1111111111111111,
             "#46039f"
            ],
            [
             0.2222222222222222,
             "#7201a8"
            ],
            [
             0.3333333333333333,
             "#9c179e"
            ],
            [
             0.4444444444444444,
             "#bd3786"
            ],
            [
             0.5555555555555556,
             "#d8576b"
            ],
            [
             0.6666666666666666,
             "#ed7953"
            ],
            [
             0.7777777777777778,
             "#fb9f3a"
            ],
            [
             0.8888888888888888,
             "#fdca26"
            ],
            [
             1,
             "#f0f921"
            ]
           ]
          },
          "colorway": [
           "#636efa",
           "#EF553B",
           "#00cc96",
           "#ab63fa",
           "#FFA15A",
           "#19d3f3",
           "#FF6692",
           "#B6E880",
           "#FF97FF",
           "#FECB52"
          ],
          "font": {
           "color": "#2a3f5f"
          },
          "geo": {
           "bgcolor": "white",
           "lakecolor": "white",
           "landcolor": "#E5ECF6",
           "showlakes": true,
           "showland": true,
           "subunitcolor": "white"
          },
          "hoverlabel": {
           "align": "left"
          },
          "hovermode": "closest",
          "mapbox": {
           "style": "light"
          },
          "paper_bgcolor": "white",
          "plot_bgcolor": "#E5ECF6",
          "polar": {
           "angularaxis": {
            "gridcolor": "white",
            "linecolor": "white",
            "ticks": ""
           },
           "bgcolor": "#E5ECF6",
           "radialaxis": {
            "gridcolor": "white",
            "linecolor": "white",
            "ticks": ""
           }
          },
          "scene": {
           "xaxis": {
            "backgroundcolor": "#E5ECF6",
            "gridcolor": "white",
            "gridwidth": 2,
            "linecolor": "white",
            "showbackground": true,
            "ticks": "",
            "zerolinecolor": "white"
           },
           "yaxis": {
            "backgroundcolor": "#E5ECF6",
            "gridcolor": "white",
            "gridwidth": 2,
            "linecolor": "white",
            "showbackground": true,
            "ticks": "",
            "zerolinecolor": "white"
           },
           "zaxis": {
            "backgroundcolor": "#E5ECF6",
            "gridcolor": "white",
            "gridwidth": 2,
            "linecolor": "white",
            "showbackground": true,
            "ticks": "",
            "zerolinecolor": "white"
           }
          },
          "shapedefaults": {
           "line": {
            "color": "#2a3f5f"
           }
          },
          "ternary": {
           "aaxis": {
            "gridcolor": "white",
            "linecolor": "white",
            "ticks": ""
           },
           "baxis": {
            "gridcolor": "white",
            "linecolor": "white",
            "ticks": ""
           },
           "bgcolor": "#E5ECF6",
           "caxis": {
            "gridcolor": "white",
            "linecolor": "white",
            "ticks": ""
           }
          },
          "title": {
           "x": 0.05
          },
          "xaxis": {
           "automargin": true,
           "gridcolor": "white",
           "linecolor": "white",
           "ticks": "",
           "title": {
            "standoff": 15
           },
           "zerolinecolor": "white",
           "zerolinewidth": 2
          },
          "yaxis": {
           "automargin": true,
           "gridcolor": "white",
           "linecolor": "white",
           "ticks": "",
           "title": {
            "standoff": 15
           },
           "zerolinecolor": "white",
           "zerolinewidth": 2
          }
         }
        },
        "title": {
         "text": "Slice Plot"
        },
        "width": 3600,
        "xaxis": {
         "anchor": "y",
         "domain": [
          0,
          0.06805555555555555
         ],
         "title": {
          "text": "batch_size"
         }
        },
        "xaxis10": {
         "anchor": "y10",
         "domain": [
          0.7625,
          0.8305555555555555
         ],
         "title": {
          "text": "optimizer_idx"
         }
        },
        "xaxis11": {
         "anchor": "y11",
         "domain": [
          0.8472222222222221,
          0.9152777777777776
         ],
         "title": {
          "text": "scheduler_gamma"
         }
        },
        "xaxis12": {
         "anchor": "y12",
         "domain": [
          0.9319444444444444,
          0.9999999999999999
         ],
         "title": {
          "text": "weight_decay"
         },
         "type": "log"
        },
        "xaxis2": {
         "anchor": "y2",
         "domain": [
          0.08472222222222221,
          0.15277777777777776
         ],
         "title": {
          "text": "beta1"
         }
        },
        "xaxis3": {
         "anchor": "y3",
         "domain": [
          0.16944444444444443,
          0.2375
         ],
         "title": {
          "text": "beta2"
         }
        },
        "xaxis4": {
         "anchor": "y4",
         "domain": [
          0.25416666666666665,
          0.3222222222222222
         ],
         "title": {
          "text": "dampening"
         }
        },
        "xaxis5": {
         "anchor": "y5",
         "domain": [
          0.33888888888888885,
          0.4069444444444444
         ],
         "title": {
          "text": "epochs"
         }
        },
        "xaxis6": {
         "anchor": "y6",
         "domain": [
          0.42361111111111105,
          0.4916666666666666
         ],
         "title": {
          "text": "loss_idx"
         }
        },
        "xaxis7": {
         "anchor": "y7",
         "domain": [
          0.5083333333333333,
          0.5763888888888888
         ],
         "title": {
          "text": "lr"
         },
         "type": "log"
        },
        "xaxis8": {
         "anchor": "y8",
         "domain": [
          0.5930555555555556,
          0.6611111111111111
         ],
         "title": {
          "text": "momentum"
         }
        },
        "xaxis9": {
         "anchor": "y9",
         "domain": [
          0.6777777777777777,
          0.7458333333333332
         ],
         "title": {
          "text": "num_blocks"
         }
        },
        "yaxis": {
         "anchor": "x",
         "domain": [
          0,
          1
         ],
         "title": {
          "text": "Objective Value"
         }
        },
        "yaxis10": {
         "anchor": "x10",
         "domain": [
          0,
          1
         ],
         "matches": "y",
         "showticklabels": false
        },
        "yaxis11": {
         "anchor": "x11",
         "domain": [
          0,
          1
         ],
         "matches": "y",
         "showticklabels": false
        },
        "yaxis12": {
         "anchor": "x12",
         "domain": [
          0,
          1
         ],
         "matches": "y",
         "showticklabels": false
        },
        "yaxis2": {
         "anchor": "x2",
         "domain": [
          0,
          1
         ],
         "matches": "y",
         "showticklabels": false
        },
        "yaxis3": {
         "anchor": "x3",
         "domain": [
          0,
          1
         ],
         "matches": "y",
         "showticklabels": false
        },
        "yaxis4": {
         "anchor": "x4",
         "domain": [
          0,
          1
         ],
         "matches": "y",
         "showticklabels": false
        },
        "yaxis5": {
         "anchor": "x5",
         "domain": [
          0,
          1
         ],
         "matches": "y",
         "showticklabels": false
        },
        "yaxis6": {
         "anchor": "x6",
         "domain": [
          0,
          1
         ],
         "matches": "y",
         "showticklabels": false
        },
        "yaxis7": {
         "anchor": "x7",
         "domain": [
          0,
          1
         ],
         "matches": "y",
         "showticklabels": false
        },
        "yaxis8": {
         "anchor": "x8",
         "domain": [
          0,
          1
         ],
         "matches": "y",
         "showticklabels": false
        },
        "yaxis9": {
         "anchor": "x9",
         "domain": [
          0,
          1
         ],
         "matches": "y",
         "showticklabels": false
        }
       }
      }
     },
     "metadata": {},
     "output_type": "display_data"
    }
   ],
   "source": [
    "if is_multi_objective:\n",
    "    fig = vis.plot_slice(study, target=lambda t: t.values[1], target_name='Accuracy')\n",
    "else:\n",
    "    fig = vis.plot_slice(study)\n",
    "fig.show()"
   ]
  },
  {
   "cell_type": "code",
   "execution_count": 33,
   "metadata": {},
   "outputs": [
    {
     "data": {
      "text/plain": [
       "{'lr': 0.00836489425162464,\n",
       " 'weight_decay': 0.34102140588295116,\n",
       " 'beta1': 0.8201411977785976,\n",
       " 'beta2': 0.7828316699445848,\n",
       " 'momentum': 0.4068030886893087,\n",
       " 'dampening': 0.0875530112100895,\n",
       " 'optimizer_idx': 1,\n",
       " 'scheduler_gamma': 0.9552905615276255,\n",
       " 'epochs': 121,\n",
       " 'batch_size': 219,\n",
       " 'loss_idx': 1,\n",
       " 'num_blocks': 3}"
      ]
     },
     "execution_count": 33,
     "metadata": {},
     "output_type": "execute_result"
    }
   ],
   "source": [
    "if is_multi_objective:\n",
    "    best_trials = study.best_trials\n",
    "    sorted_trials = sorted([(trial.values[1], trial.params) for trial in best_trials])\n",
    "    best_params = sorted_trials[0][1]\n",
    "else:\n",
    "    best_params = study.best_trial.params\n",
    "best_params"
   ]
  },
  {
   "cell_type": "code",
   "execution_count": null,
   "metadata": {},
   "outputs": [],
   "source": [
    "# best_params = {'lr': 0.0031239818374237715, 'weight_decay': 0.14891528374027796, 'beta1': 0.8710182886970091, 'beta2': 0.832292578797416, 'scheduler_gamma': 0.9753505211333497, 'epochs': 81, 'batch_size': 214, 'loss_idx': 0}\n",
    "# best_params = {'lr': 0.0019835932606001487,\n",
    "#   'weight_decay': 0.1611461330556558,\n",
    "#   'beta1': 0.9280989285369666,\n",
    "#   'beta2': 0.5597870586857281,\n",
    "#   'scheduler_gamma': 0.9736202263428526,\n",
    "#   'epochs': 110,\n",
    "#   'batch_size': 153,\n",
    "#   'loss_idx': 0}\n",
    "# best_params = {'lr': 0.0029897736276809804,\n",
    "#   'weight_decay': 0.23209144621035505,\n",
    "#   'beta1': 0.9307172994606788,\n",
    "#   'beta2': 0.7849642531368178,\n",
    "#   'momentum': 0.26520601842233205,\n",
    "#   'dampening': 0.027926590435548706,\n",
    "#   'optimizer_idx': 1,\n",
    "#   'scheduler_gamma': 0.9380209962450397,\n",
    "#   'epochs': 90,\n",
    "#   'batch_size': 88,\n",
    "#   'loss_idx': 0}\n",
    "# best_params = {'lr': 0.00836489425162464, 'weight_decay': 0.34102140588295116, 'beta1': 0.8201411977785976, 'beta2': 0.7828316699445848, 'momentum': 0.4068030886893087, 'dampening': 0.0875530112100895, 'optimizer_idx': 1, 'scheduler_gamma': 0.9552905615276255, 'epochs': 121, 'batch_size': 219, 'loss_idx': 1, 'num_blocks': 3}"
   ]
  },
  {
   "cell_type": "code",
   "execution_count": 35,
   "metadata": {},
   "outputs": [],
   "source": [
    "lr = best_params['lr']\n",
    "weight_decay = best_params['weight_decay']\n",
    "betas = (best_params['beta1'], best_params['beta2'])\n",
    "momentum = best_params['momentum']\n",
    "dampening = best_params['dampening']\n",
    "scheduler_gamma = best_params['scheduler_gamma']\n",
    "batch_size = best_params['batch_size']\n",
    "epochs = best_params['epochs']\n",
    "num_blocks = best_params['num_blocks']\n",
    "\n",
    "model = ConvClassifier(train_params=train_best_params, num_classes=len(np.unique(labels)), num_blocks=num_blocks, device=device).to(device)\n",
    "\n",
    "# trainable_parameters = [param for name, param in model.named_parameters() if name.startswith('seq_')]\n",
    "if best_params['optimizer_idx'] == 0:\n",
    "    optimizer = torch.optim.Adam(model.parameters(), lr=lr, weight_decay=weight_decay, betas=betas)\n",
    "else:\n",
    "    optimizer = torch.optim.SGD(model.parameters(), lr=lr, weight_decay=weight_decay, momentum=momentum, dampening=dampening)\n",
    "scheduler = torch.optim.lr_scheduler.ExponentialLR(optimizer, gamma=scheduler_gamma)\n",
    "\n",
    "loss_func = get_classification_loss_function(best_params['loss_idx'], device=model.device)"
   ]
  },
  {
   "cell_type": "code",
   "execution_count": 36,
   "metadata": {},
   "outputs": [
    {
     "data": {
      "text/plain": [
       "({'lr': 0.00836489425162464,\n",
       "  'weight_decay': 0.34102140588295116,\n",
       "  'beta1': 0.8201411977785976,\n",
       "  'beta2': 0.7828316699445848,\n",
       "  'momentum': 0.4068030886893087,\n",
       "  'dampening': 0.0875530112100895,\n",
       "  'optimizer_idx': 1,\n",
       "  'scheduler_gamma': 0.9552905615276255,\n",
       "  'epochs': 121,\n",
       "  'batch_size': 219,\n",
       "  'loss_idx': 1,\n",
       "  'num_blocks': 3},\n",
       " 2743116)"
      ]
     },
     "execution_count": 36,
     "metadata": {},
     "output_type": "execute_result"
    }
   ],
   "source": [
    "best_params, sum(p.numel() for p in model.parameters())"
   ]
  },
  {
   "cell_type": "code",
   "execution_count": 37,
   "metadata": {},
   "outputs": [],
   "source": [
    "dataset = AlzheimerDataset(images, labels)"
   ]
  },
  {
   "cell_type": "code",
   "execution_count": 38,
   "metadata": {},
   "outputs": [],
   "source": [
    "dataloader = torch.utils.data.DataLoader(train_dataset, batch_size=batch_size, shuffle=True)"
   ]
  },
  {
   "cell_type": "code",
   "execution_count": 39,
   "metadata": {},
   "outputs": [
    {
     "data": {
      "application/vnd.jupyter.widget-view+json": {
       "model_id": "3b50c4e14095402b9407aa753b237c01",
       "version_major": 2,
       "version_minor": 0
      },
      "text/plain": [
       "  0%|          | 0/121 [00:00<?, ?it/s]"
      ]
     },
     "metadata": {},
     "output_type": "display_data"
    },
    {
     "data": {
      "image/png": "[encoded data removed]",
      "text/plain": [
       "<Figure size 1600x1000 with 2 Axes>"
      ]
     },
     "metadata": {},
     "output_type": "display_data"
    }
   ],
   "source": [
    "overall, accuracy = train(\n",
    "    model=model,\n",
    "    optimizer=optimizer,\n",
    "    loss=loss_func,\n",
    "    epochs=epochs,\n",
    "    dataloader=dataloader,\n",
    "    val_dataset=val_dataset,\n",
    "    scheduler=scheduler,\n",
    "    plot=True,\n",
    "    show_progress=True,\n",
    "    trial=None\n",
    ")"
   ]
  },
  {
   "cell_type": "code",
   "execution_count": 45,
   "metadata": {},
   "outputs": [
    {
     "data": {
      "text/plain": [
       "(tensor([0.4456, 0.5098, 0.5189, 0.5319, 0.5247, 0.5540, 0.5456, 0.5524, 0.5430,\n",
       "         0.5540, 0.5527, 0.5550, 0.5449, 0.5739, 0.5658, 0.5765, 0.5749, 0.5853,\n",
       "         0.5807, 0.5794, 0.5840, 0.5869, 0.5970, 0.5951, 0.6006, 0.6025, 0.6113,\n",
       "         0.6159, 0.6221, 0.6175, 0.6309, 0.6357, 0.6374, 0.6380, 0.6432, 0.6520,\n",
       "         0.6582, 0.6549, 0.6683, 0.6585, 0.6719, 0.6803, 0.6921, 0.6742, 0.6963,\n",
       "         0.6934, 0.6787, 0.6982, 0.7148, 0.7093, 0.7005, 0.7165, 0.7194, 0.7230,\n",
       "         0.7350, 0.7389, 0.7233, 0.7487, 0.7438, 0.7419, 0.7594, 0.7454, 0.7568,\n",
       "         0.7640, 0.7643, 0.7780, 0.7738, 0.7845, 0.7689, 0.7887, 0.7757, 0.7868,\n",
       "         0.7894, 0.7881, 0.7949, 0.8011, 0.7992, 0.8044, 0.8005, 0.8070, 0.8076,\n",
       "         0.8063, 0.8193, 0.8060, 0.8197, 0.8154, 0.8190, 0.8262, 0.8249, 0.8219,\n",
       "         0.8330, 0.8278, 0.8333, 0.8343, 0.8314, 0.8353, 0.8415, 0.8434, 0.8405,\n",
       "         0.8424, 0.8330, 0.8398, 0.8496, 0.8464, 0.8506, 0.8519, 0.8421, 0.8519,\n",
       "         0.8480, 0.8564, 0.8480, 0.8568, 0.8568, 0.8652, 0.8548, 0.8581, 0.8581,\n",
       "         0.8561, 0.8594, 0.8594, 0.8538]),\n",
       " tensor([0.5010, 0.5156, 0.5133, 0.5020, 0.5602, 0.5527, 0.5508, 0.5371, 0.5628,\n",
       "         0.5586, 0.5511, 0.5628, 0.5690, 0.5459, 0.5677, 0.5635, 0.5540, 0.5775,\n",
       "         0.5846, 0.5752, 0.5885, 0.5872, 0.5902, 0.5811, 0.5869, 0.5931, 0.5915,\n",
       "         0.5996, 0.6019, 0.6009, 0.6136, 0.6195, 0.6126, 0.6058, 0.6191, 0.6143,\n",
       "         0.6201, 0.6175, 0.6172, 0.6195, 0.6325, 0.6237, 0.6178, 0.6387, 0.6354,\n",
       "         0.6377, 0.6423, 0.6507, 0.6595, 0.6787, 0.6533, 0.6540, 0.6641, 0.6520,\n",
       "         0.6673, 0.6660, 0.6667, 0.6641, 0.6680, 0.6794, 0.6820, 0.6794, 0.6888,\n",
       "         0.6761, 0.6849, 0.6940, 0.6898, 0.6836, 0.6969, 0.6820, 0.6895, 0.6924,\n",
       "         0.6982, 0.6989, 0.6986, 0.7067, 0.7061, 0.7100, 0.7044, 0.6976, 0.7044,\n",
       "         0.7048, 0.7119, 0.7145, 0.7051, 0.7132, 0.7161, 0.7188, 0.7148, 0.7275,\n",
       "         0.7210, 0.7227, 0.7119, 0.7148, 0.7161, 0.7204, 0.7142, 0.7230, 0.7288,\n",
       "         0.7236, 0.7227, 0.7262, 0.7181, 0.7145, 0.7217, 0.7288, 0.7314, 0.7334,\n",
       "         0.7406, 0.7269, 0.7178, 0.7204, 0.7337, 0.7321, 0.7340, 0.7373, 0.7402,\n",
       "         0.7253, 0.7357, 0.7334, 0.7314]))"
      ]
     },
     "execution_count": 45,
     "metadata": {},
     "output_type": "execute_result"
    }
   ],
   "source": [
    "accuracy"
   ]
  },
  {
   "cell_type": "code",
   "execution_count": null,
   "metadata": {},
   "outputs": [],
   "source": []
  }
 ],
 "metadata": {
  "kernelspec": {
   "display_name": "ml-pipeline",
   "language": "python",
   "name": "python3"
  },
  "language_info": {
   "codemirror_mode": {
    "name": "ipython",
    "version": 3
   },
   "file_extension": ".py",
   "mimetype": "text/x-python",
   "name": "python",
   "nbconvert_exporter": "python",
   "pygments_lexer": "ipython3",
   "version": "3.12.3"
  }
 },
 "nbformat": 4,
 "nbformat_minor": 2
}
