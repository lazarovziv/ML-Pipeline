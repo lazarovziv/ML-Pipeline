{
 "cells": [
  {
   "cell_type": "code",
   "execution_count": 1,
   "metadata": {},
   "outputs": [],
   "source": [
    "import numpy as np\n",
    "import os\n",
    "import matplotlib.pyplot as plt"
   ]
  },
  {
   "cell_type": "code",
   "execution_count": 2,
   "metadata": {},
   "outputs": [],
   "source": [
    "base_data_dir = './data'"
   ]
  },
  {
   "cell_type": "code",
   "execution_count": 3,
   "metadata": {},
   "outputs": [],
   "source": [
    "latest_data_dir_num = max([int(dir.split('_')[-1]) for dir in os.listdir(base_data_dir) if dir.split('_')[-1].isdigit()])\n",
    "data_dir = [dir for dir in os.listdir(base_data_dir) if dir.split('_')[-1].isdigit() and int(dir.split('_')[-1]) == latest_data_dir_num][0]\n",
    "data_dir = f'{base_data_dir}/{data_dir}'"
   ]
  },
  {
   "cell_type": "code",
   "execution_count": 4,
   "metadata": {},
   "outputs": [
    {
     "data": {
      "text/plain": [
       "'./data/decoded_data_41'"
      ]
     },
     "execution_count": 4,
     "metadata": {},
     "output_type": "execute_result"
    }
   ],
   "source": [
    "data_dir"
   ]
  },
  {
   "cell_type": "code",
   "execution_count": 5,
   "metadata": {},
   "outputs": [],
   "source": [
    "import h5py"
   ]
  },
  {
   "cell_type": "code",
   "execution_count": 6,
   "metadata": {},
   "outputs": [],
   "source": [
    "with h5py.File(f'{data_dir}/images.h5') as f:\n",
    "    images = f['images'][:].squeeze()\n",
    "\n",
    "with h5py.File(f'{data_dir}/labels.h5') as f:\n",
    "    labels = f['labels'][:]\n",
    "\n",
    "# loading the training and validation arrays\n",
    "# with h5py.File(f'{data_dir}/train_images.h5') as f:\n",
    "#     train_images = f['images'][:].squeeze()\n",
    "\n",
    "# with h5py.File(f'{data_dir}/train_labels.h5') as f:\n",
    "#     train_labels = f['labels'][:]\n",
    "\n",
    "# with h5py.File(f'{data_dir}/val_images.h5') as f:\n",
    "#     val_images = f['images'][:].squeeze()\n",
    "\n",
    "# with h5py.File(f'{data_dir}/val_labels.h5') as f:\n",
    "#     val_labels = f['labels'][:]"
   ]
  },
  {
   "cell_type": "code",
   "execution_count": 7,
   "metadata": {},
   "outputs": [],
   "source": [
    "def transform_image(image, threshold=None, return_inverse=False):\n",
    "    fft_image = np.fft.fft2(image)\n",
    "    if threshold is None:\n",
    "        threshold = 0.0000005 * np.abs(fft_image)\n",
    "    # creating a mask for zeroing low amplitudes, i.e: below the threshold\n",
    "    mask = np.ones_like(fft_image)\n",
    "    mask[np.abs(fft_image) <= threshold] = 0\n",
    "    filtered_fft_image = fft_image * mask\n",
    "    # getting the inverse fourier transform on the filtered image\n",
    "    inverse_fft_image = np.fft.ifft2(filtered_fft_image)\n",
    "    transformed_image = np.real(inverse_fft_image * np.conj(inverse_fft_image))\n",
    "    # normalizing to [0, 255] range\n",
    "    transformed_image = transformed_image / transformed_image.max()\n",
    "    transformed_image *= 255\n",
    "    if return_inverse:\n",
    "        return fft_image, transformed_image\n",
    "    return transformed_image\n",
    "\n",
    "def filter(inverse):\n",
    "    ones = np.ones_like(inverse)\n",
    "    epsilon = 0.000001\n",
    "    border = 0\n",
    "    center_y, center_x = ones.shape[0]//2, ones.shape[1]//2\n",
    "    center = np.array([center_y, center_x])\n",
    "\n",
    "    ones[center_y-border:center_y+border+1, center_x-border:center_x+border+1] = 0 + epsilon\n",
    "    v, u = np.mgrid[:inverse.shape[0], :inverse.shape[1]]\n",
    "\n",
    "    distances_from_center = np.sqrt(\n",
    "        np.square(v - center[0]) + np.square(u - center[1])\n",
    "    )\n",
    "    threshold = 40\n",
    "    mask = distances_from_center <= threshold\n",
    "\n",
    "    return inverse * mask"
   ]
  },
  {
   "cell_type": "markdown",
   "metadata": {},
   "source": [
    "## Fine tuning the autoencoder model"
   ]
  },
  {
   "cell_type": "code",
   "execution_count": 8,
   "metadata": {},
   "outputs": [],
   "source": [
    "import torch\n",
    "import torch.nn as nn"
   ]
  },
  {
   "cell_type": "code",
   "execution_count": 9,
   "metadata": {},
   "outputs": [
    {
     "data": {
      "text/plain": [
       "device(type='cuda')"
      ]
     },
     "execution_count": 9,
     "metadata": {},
     "output_type": "execute_result"
    }
   ],
   "source": [
    "device = torch.device('cuda' if torch.cuda.is_available() else 'cpu')\n",
    "device"
   ]
  },
  {
   "cell_type": "code",
   "execution_count": 10,
   "metadata": {},
   "outputs": [],
   "source": [
    "import modules.models\n",
    "from modules.models.models import ConvClassifier\n",
    "from modules.models.dataset import AlzheimerDataset"
   ]
  },
  {
   "cell_type": "code",
   "execution_count": 11,
   "metadata": {},
   "outputs": [],
   "source": [
    "import modules.db\n",
    "from modules.db.optuna_report import get_best_hyperparameters"
   ]
  },
  {
   "cell_type": "code",
   "execution_count": 12,
   "metadata": {},
   "outputs": [],
   "source": [
    "perm = torch.randperm(images.shape[0])\n",
    "val_indices = perm[:int(images.shape[0] * 0.15)].numpy()"
   ]
  },
  {
   "cell_type": "code",
   "execution_count": 13,
   "metadata": {},
   "outputs": [],
   "source": [
    "# alzheimer_dataset = AlzheimerDataset(images, labels)\n",
    "\n",
    "train_dataset = AlzheimerDataset(images[~val_indices], labels[~val_indices])\n",
    "val_dataset = AlzheimerDataset(images[val_indices], labels[val_indices])"
   ]
  },
  {
   "cell_type": "code",
   "execution_count": 14,
   "metadata": {},
   "outputs": [],
   "source": [
    "params = await get_best_hyperparameters(from_last_study=True) # get hyperparameters from the study, if studied\n",
    "\n",
    "train_best_params = params[0]\n",
    "train_best_params['lr'] = train_best_params['learning_rate']"
   ]
  },
  {
   "cell_type": "code",
   "execution_count": 15,
   "metadata": {},
   "outputs": [],
   "source": [
    "def train_epoch(model, optimizer, loss, dataloader, val_dataset, overall_losses, val_overall_losses, accuracy, val_accuracy, epoch, scheduler=None, writer=None):\n",
    "    for _, (batch_X, batch_y) in enumerate(dataloader):\n",
    "        batch_X = batch_X.to(device=model.device)\n",
    "        batch_y = batch_y.to(device=model.device)\n",
    "\n",
    "        if batch_X.shape[0] == 1:\n",
    "            batch_X = torch.concat((batch_X, batch_X), dim=0).to(device=model.device)\n",
    "            batch_y = torch.concat((batch_y, batch_y), dim=0).to(device=model.device)\n",
    "        \n",
    "        optimizer.zero_grad()\n",
    "        \n",
    "        batch_output = model(batch_X)\n",
    "        batch_loss = loss(batch_output, batch_y)\n",
    "        overall_losses[epoch] += batch_loss.item()\n",
    "\n",
    "        predictions = torch.argmax(batch_output, dim=1).to(model.device)\n",
    "        accuracy[epoch] += (predictions == batch_y).sum().item()\n",
    "    \n",
    "        batch_loss.backward()\n",
    "        optimizer.step()\n",
    "    \n",
    "    # updating train metrics\n",
    "    overall_losses[epoch] /= dataloader.dataset.y.shape[0]\n",
    "    accuracy[epoch] /= dataloader.dataset.y.shape[0]\n",
    "\n",
    "    if writer:\n",
    "        writer.add_scalar('Overall Loss/Train', overall_losses[epoch], epoch)\n",
    "        writer.add_scalar('Accuracy/Train', accuracy[epoch], epoch)\n",
    "        \n",
    "    # validation\n",
    "    with torch.no_grad():\n",
    "        model.eval()\n",
    "        val_output = model(val_dataset.X.to(model.device))\n",
    "        loss_value = loss(val_output, val_dataset.y.to(model.device))\n",
    "\n",
    "        val_overall_losses[epoch] = loss_value.item() / val_dataset.y.shape[0]\n",
    "\n",
    "        predictions = torch.argmax(val_output, dim=1).to(model.device)\n",
    "        val_accuracy[epoch] = (predictions == val_dataset.y.to(model.device)).sum().item() / predictions.shape[0]\n",
    "\n",
    "        if writer:\n",
    "            writer.add_scalar('Overall Loss/Validation', val_overall_losses[epoch], epoch)\n",
    "            writer.add_scalar('Accuracy/Validation', val_accuracy[epoch], epoch)\n",
    "\n",
    "    # update learning rate after each epoch to have equal effect for every batch\n",
    "    if scheduler is not None:\n",
    "        scheduler.step()\n",
    "    "
   ]
  },
  {
   "cell_type": "code",
   "execution_count": 16,
   "metadata": {},
   "outputs": [],
   "source": [
    "from tqdm.notebook import tqdm"
   ]
  },
  {
   "cell_type": "code",
   "execution_count": 17,
   "metadata": {},
   "outputs": [],
   "source": [
    "import modules.db\n",
    "from modules.db.optuna_report import report_optuna_trial"
   ]
  },
  {
   "cell_type": "code",
   "execution_count": 18,
   "metadata": {},
   "outputs": [],
   "source": [
    "from torch.utils.tensorboard import SummaryWriter\n",
    "import optuna"
   ]
  },
  {
   "cell_type": "code",
   "execution_count": 19,
   "metadata": {},
   "outputs": [],
   "source": [
    "classification_studies_dir = './data/studies/classification'\n",
    "if not os.path.isdir(classification_studies_dir):\n",
    "    os.mkdir(classification_studies_dir)\n",
    "studies_directories = os.listdir(classification_studies_dir)\n",
    "# if last study wasn't finished, use that study id in tensorboard and later on in resuming the optuna study\n",
    "if len(studies_directories) > 0:\n",
    "    current_study_id = studies_directories[-1].split('-')[-1]\n",
    "# last study finished successfully so we'll start a brand new one\n",
    "# else:\n",
    "#     current_study_id = get_last_study_id() + 1\n",
    "# current_study_id"
   ]
  },
  {
   "cell_type": "code",
   "execution_count": 20,
   "metadata": {},
   "outputs": [],
   "source": [
    "# if trial is None we're going for multi-objective optimization or we're normally training\n",
    "def train(trial, model, optimizer, loss, epochs, dataloader, val_dataset, scheduler=None, plot=True, show_progress=True):\n",
    "    log_dir = f'./logs/classification/study-{0}/trial-{trial.number}' if trial else f'./logs/classiciation/regular/'\n",
    "    writer = SummaryWriter(log_dir=log_dir)\n",
    "\n",
    "    writer.add_graph(model, next(iter(dataloader))[0].to(device=model.device))\n",
    "    \n",
    "    overall_losses, val_overall_losses = torch.zeros(epochs), torch.zeros(epochs)\n",
    "    accuracy, val_accuracy = torch.zeros(epochs), torch.zeros(epochs)\n",
    "    \n",
    "    # using tqdm has conflicts with optuna's study progress bar\n",
    "    epochs_range = tqdm(range(epochs)) if show_progress else range(epochs)\n",
    "    for epoch in epochs_range:\n",
    "        model.train()\n",
    "        \n",
    "        train_epoch(\n",
    "            model=model,\n",
    "            optimizer=optimizer, \n",
    "            loss=loss,\n",
    "            epoch=epoch,\n",
    "            dataloader=dataloader,\n",
    "            val_dataset=val_dataset,\n",
    "            val_overall_losses=val_overall_losses,\n",
    "            accuracy=accuracy,\n",
    "            val_accuracy=val_accuracy,\n",
    "            overall_losses=overall_losses,\n",
    "            scheduler=scheduler,\n",
    "            writer=writer\n",
    "        )\n",
    "\n",
    "        writer.flush()\n",
    "        \n",
    "        if trial is not None:\n",
    "            trial.report(overall_losses[epoch].item(), epoch)\n",
    "\n",
    "            if trial.should_prune():\n",
    "                writer.close()\n",
    "                raise optuna.TrialPruned()\n",
    "\n",
    "    if plot:\n",
    "        fig, axes = plt.subplots(1, 2, sharex=True, sharey=False, figsize=(16, 10))\n",
    "        \n",
    "        axes[0].plot(overall_losses.cpu(), color='blue', label='Train')\n",
    "        axes[0].plot(val_overall_losses.cpu(), color='orange', label='Validation')\n",
    "        axes[0].set_title('Overall Loss')\n",
    "        axes[0].legend()\n",
    "\n",
    "        axes[1].plot(accuracy.cpu(), color='blue', label='Train Accuracy')\n",
    "        axes[1].plot(val_accuracy.cpu(), color='orange', label='Validation Accuracy')\n",
    "        axes[1].set_title('Accuracy')\n",
    "        axes[1].legend()\n",
    "\n",
    "    # writer.flush()\n",
    "    writer.close()\n",
    "    \n",
    "    return (overall_losses, val_overall_losses), (accuracy, val_accuracy)"
   ]
  },
  {
   "cell_type": "code",
   "execution_count": 21,
   "metadata": {},
   "outputs": [],
   "source": [
    "def get_classification_loss_function(idx, device='cpu'):\n",
    "    # getting the distribution of data\n",
    "    _, counts = np.unique(labels, return_counts=True)\n",
    "    counts = counts.astype(np.float32)\n",
    "    counts /= counts.sum()\n",
    "    # giving minority classes larger weights\n",
    "    weights = 1 - torch.from_numpy(counts).to(dtype=torch.float32, device=device)\n",
    "    return nn.CrossEntropyLoss(reduction='sum', weight=weights) if idx == 0 else nn.NLLLoss(reduction='sum', weight=weights)"
   ]
  },
  {
   "cell_type": "code",
   "execution_count": 22,
   "metadata": {},
   "outputs": [],
   "source": [
    "def initialize_hyperparameters(trial):\n",
    "    lr = trial.suggest_float('lr', 1e-5, 1e-1, log=True)\n",
    "    weight_decay = trial.suggest_float('weight_decay', 0.01, 0.4, log=True)\n",
    "    beta1 = trial.suggest_float('beta1', 0.8, 0.999)\n",
    "    beta2 = trial.suggest_float('beta2', 0.5, 0.999)\n",
    "\n",
    "    momentum = trial.suggest_float('momentum', 0, 0.5)\n",
    "    dampening = trial.suggest_float('dampening', 0, 0.5)\n",
    "\n",
    "    optimizer_idx = trial.suggest_int('optimizer_idx', 0, 1)\n",
    "    # optimizer = torch.optim.Adam(autoencoder.parameters(), lr=lr, weight_decay=weight_decay, betas=(beta1, beta2))\n",
    "\n",
    "    scheduler_gamma = trial.suggest_float('scheduler_gamma', 0.8, 0.999)\n",
    "    # scheduler = torch.optim.lr_scheduler.ExponentialLR(optimizer, gamma=scheduler_gamma)\n",
    "\n",
    "    epochs = trial.suggest_int('epochs', 3, 12)\n",
    "    batch_size = trial.suggest_int('batch_size', 33, 256)\n",
    "\n",
    "    loss_idx = trial.suggest_int('loss_idx', 0, 1)\n",
    "\n",
    "    relu_slope = trial.suggest_float('relu_slope', 0, 0.4)\n",
    "\n",
    "    # dataset_idx = trial.suggest_int('dataset_idx', 0, 2)\n",
    "    # dataset = datasets[dataset_idx]\n",
    "\n",
    "    # dataloader = torch.utils.data.DataLoader(alzheimer_dataset, batch_size=batch_size, shuffle=True)\n",
    "\n",
    "    return lr, weight_decay, (beta1, beta2), momentum, dampening, optimizer_idx, scheduler_gamma, epochs, batch_size, loss_idx, relu_slope"
   ]
  },
  {
   "cell_type": "code",
   "execution_count": 23,
   "metadata": {},
   "outputs": [],
   "source": [
    "def objective(trial):\n",
    "    (lr,\n",
    "     weight_decay,\n",
    "     betas,\n",
    "     momentum,\n",
    "     dampening,\n",
    "     optimizer_idx,\n",
    "     scheduler_gamma,\n",
    "     epochs,\n",
    "     batch_size,\n",
    "     loss_idx,\n",
    "     relu_slope) = initialize_hyperparameters(trial)\n",
    "    \n",
    "    model = ConvClassifier(train_params=train_best_params, num_classes=len(np.unique(labels)),\n",
    "                           relu_slope=relu_slope, device=device).to(device)\n",
    "\n",
    "    if optimizer_idx == 0:\n",
    "        optimizer = torch.optim.Adam(model.parameters(), lr=lr, weight_decay=weight_decay, betas=betas)\n",
    "    else:\n",
    "        optimizer = torch.optim.SGD(model.parameters(), lr=lr, weight_decay=weight_decay, momentum=momentum, dampening=dampening)\n",
    "    \n",
    "    scheduler = torch.optim.lr_scheduler.ExponentialLR(optimizer, gamma=scheduler_gamma)\n",
    "    loss = get_classification_loss_function(loss_idx, device=model.device)\n",
    "\n",
    "    # if train_dataset.X.shape[0] % batch_size == 1:\n",
    "    #     return float('inf')\n",
    "    \n",
    "    dataloader = torch.utils.data.DataLoader(train_dataset, batch_size=batch_size, shuffle=True)\n",
    "    \n",
    "    overall, _ = train(\n",
    "        model=model,\n",
    "        optimizer=optimizer,\n",
    "        loss=loss,\n",
    "        epochs=epochs,\n",
    "        dataloader=dataloader,\n",
    "        val_dataset=val_dataset,\n",
    "        scheduler=scheduler,\n",
    "        plot=False,\n",
    "        show_progress=False,\n",
    "        trial=trial\n",
    "    )\n",
    "    \n",
    "    overall_train_losses, val_overall_losses = overall\n",
    "    \n",
    "    # saving the best trained model exploded the VRAM so we'll have to do with the best parameters and then retrain \n",
    "    # trial.set_user_attr(key='best_booster', value=autoencoder)\n",
    "    \n",
    "    return val_overall_losses[-1].item() # overall_train_losses[-1].item()"
   ]
  },
  {
   "cell_type": "code",
   "execution_count": 24,
   "metadata": {},
   "outputs": [],
   "source": [
    "def multi_objective(trial):\n",
    "    (lr,\n",
    "     weight_decay,\n",
    "     betas,\n",
    "     momentum,\n",
    "     dampening,\n",
    "     optimizer_idx,\n",
    "     scheduler_gamma,\n",
    "     epochs,\n",
    "     batch_size,\n",
    "     loss_idx,\n",
    "     relu_slope) = initialize_hyperparameters(trial)\n",
    "    \n",
    "    model = ConvClassifier(train_params=train_best_params, num_classes=len(np.unique(labels)),\n",
    "                           relu_slope=relu_slope, device=device).to(device)\n",
    "\n",
    "    if optimizer_idx == 0:\n",
    "        optimizer = torch.optim.Adam(model.parameters(), lr=lr, weight_decay=weight_decay, betas=betas)\n",
    "    else:\n",
    "        optimizer = torch.optim.SGD(model.parameters(), lr=lr, weight_decay=weight_decay, momentum=momentum, dampening=dampening)\n",
    "\n",
    "    scheduler = torch.optim.lr_scheduler.ExponentialLR(optimizer, gamma=scheduler_gamma) if scheduler_gamma < 0.9 else None\n",
    "    loss = get_classification_loss_function(loss_idx, device=model.device)\n",
    "\n",
    "    # if train_dataset.X.shape[0] % batch_size == 1:\n",
    "    #     return float('inf')\n",
    "    \n",
    "    dataloader = torch.utils.data.DataLoader(train_dataset, batch_size=batch_size, shuffle=True)\n",
    "    \n",
    "    overall, _ = train(\n",
    "        model=model,\n",
    "        optimizer=optimizer,\n",
    "        loss=loss,\n",
    "        epochs=epochs,\n",
    "        dataloader=dataloader,\n",
    "        val_dataset=val_dataset,\n",
    "        scheduler=scheduler,\n",
    "        plot=False,\n",
    "        show_progress=False,\n",
    "        trial=None\n",
    "    )\n",
    "    \n",
    "    overall_train_losses, val_overall_losses = overall\n",
    "    # train_accuracy, val_accuracy = accuracy\n",
    "    \n",
    "    # TODO: check BCE vs NLLLoss scales\n",
    "    return overall_train_losses[-1].item(), val_overall_losses[-1].item()"
   ]
  },
  {
   "cell_type": "code",
   "execution_count": 25,
   "metadata": {},
   "outputs": [],
   "source": [
    "import asyncio\n",
    "import nest_asyncio"
   ]
  },
  {
   "cell_type": "code",
   "execution_count": 26,
   "metadata": {},
   "outputs": [],
   "source": [
    "def callback(study, trial):\n",
    "    loop = asyncio.get_event_loop()\n",
    "    loop.create_task(report_optuna_trial(study, trial))"
   ]
  },
  {
   "cell_type": "code",
   "execution_count": 27,
   "metadata": {},
   "outputs": [],
   "source": [
    "def optimize(is_multi_objective, n_trials=100):\n",
    "    directions = ['minimize', 'minimize'] if is_multi_objective else ['minimize']\n",
    "    objective_func = multi_objective if is_multi_objective else objective\n",
    "    study = optuna.create_study(directions=directions)\n",
    "    study.optimize(objective_func, n_trials=n_trials, timeout=3600*(n_trials // 30), show_progress_bar=True, gc_after_trial=True) # , callbacks=[callback])\n",
    "    return study"
   ]
  },
  {
   "cell_type": "code",
   "execution_count": 28,
   "metadata": {},
   "outputs": [
    {
     "name": "stderr",
     "output_type": "stream",
     "text": [
      "[I 2025-01-13 01:07:37,344] A new study created in memory with name: no-name-48de2f3b-630a-407b-bb7e-66b18d721086\n"
     ]
    },
    {
     "data": {
      "application/vnd.jupyter.widget-view+json": {
       "model_id": "5ac2255f978846b1971a400c1af420b7",
       "version_major": 2,
       "version_minor": 0
      },
      "text/plain": [
       "  0%|          | 0/250 [00:00<?, ?it/s]"
      ]
     },
     "metadata": {},
     "output_type": "display_data"
    },
    {
     "name": "stdout",
     "output_type": "stream",
     "text": [
      "[I 2025-01-13 01:07:39,832] Trial 0 finished with value: 0.4879089295864105 and parameters: {'lr': 0.001142728741447961, 'weight_decay': 0.018869294959028633, 'beta1': 0.8898859239123407, 'beta2': 0.5728491471393109, 'momentum': 0.30730746557311917, 'dampening': 0.02062453290547389, 'optimizer_idx': 0, 'scheduler_gamma': 0.8817780445990966, 'epochs': 12, 'batch_size': 52, 'loss_idx': 1, 'relu_slope': 0.2527687433562035}. Best is trial 0 with value: 0.4879089295864105.\n",
      "[I 2025-01-13 01:07:40,497] Trial 1 finished with value: 0.5672515034675598 and parameters: {'lr': 0.0002217910107918792, 'weight_decay': 0.026150189576073176, 'beta1': 0.8389150936481796, 'beta2': 0.7934327242304123, 'momentum': 0.38359634802144155, 'dampening': 0.016724551044683955, 'optimizer_idx': 1, 'scheduler_gamma': 0.8672373736203103, 'epochs': 4, 'batch_size': 74, 'loss_idx': 0, 'relu_slope': 0.1630764678134892}. Best is trial 0 with value: 0.4879089295864105.\n",
      "[I 2025-01-13 01:07:41,716] Trial 2 finished with value: 0.560749888420105 and parameters: {'lr': 0.0004446486058335218, 'weight_decay': 0.05736638338869666, 'beta1': 0.8093837952014711, 'beta2': 0.5601291065315908, 'momentum': 0.22312046022729937, 'dampening': 0.36047767210156867, 'optimizer_idx': 0, 'scheduler_gamma': 0.9056470874300472, 'epochs': 10, 'batch_size': 247, 'loss_idx': 1, 'relu_slope': 0.022055192091597498}. Best is trial 0 with value: 0.4879089295864105.\n",
      "[I 2025-01-13 01:07:43,117] Trial 3 finished with value: 0.44821763038635254 and parameters: {'lr': 0.04139286141968069, 'weight_decay': 0.10845276806869801, 'beta1': 0.8809122932625301, 'beta2': 0.9577746389051253, 'momentum': 0.11581830142097305, 'dampening': 0.26129272058809466, 'optimizer_idx': 0, 'scheduler_gamma': 0.8918444023885264, 'epochs': 12, 'batch_size': 197, 'loss_idx': 0, 'relu_slope': 0.08638643746760653}. Best is trial 3 with value: 0.44821763038635254.\n",
      "[I 2025-01-13 01:07:44,309] Trial 4 finished with value: 0.5045685172080994 and parameters: {'lr': 0.021640314357146348, 'weight_decay': 0.33272587494522426, 'beta1': 0.9337293907683221, 'beta2': 0.778099758052956, 'momentum': 0.12194275166469731, 'dampening': 0.16556508297778638, 'optimizer_idx': 0, 'scheduler_gamma': 0.8621152862971694, 'epochs': 10, 'batch_size': 215, 'loss_idx': 1, 'relu_slope': 0.08033577012744259}. Best is trial 3 with value: 0.44821763038635254.\n",
      "[I 2025-01-13 01:07:44,665] Trial 5 pruned. \n",
      "[I 2025-01-13 01:07:45,201] Trial 6 pruned. \n",
      "[I 2025-01-13 01:07:45,554] Trial 7 pruned. \n",
      "[I 2025-01-13 01:07:45,911] Trial 8 pruned. \n",
      "[I 2025-01-13 01:07:46,551] Trial 9 pruned. \n",
      "[I 2025-01-13 01:07:46,932] Trial 10 pruned. \n",
      "[I 2025-01-13 01:07:48,535] Trial 11 pruned. \n",
      "[I 2025-01-13 01:07:48,917] Trial 12 pruned. \n",
      "[I 2025-01-13 01:07:50,248] Trial 13 pruned. \n",
      "[I 2025-01-13 01:07:50,681] Trial 14 pruned. \n",
      "[I 2025-01-13 01:07:51,061] Trial 15 pruned. \n",
      "[I 2025-01-13 01:07:52,384] Trial 16 pruned. \n",
      "[I 2025-01-13 01:07:52,759] Trial 17 pruned. \n",
      "[I 2025-01-13 01:07:53,141] Trial 18 pruned. \n",
      "[I 2025-01-13 01:07:53,706] Trial 19 finished with value: 0.5697219967842102 and parameters: {'lr': 0.0012270827046669062, 'weight_decay': 0.015407058619637712, 'beta1': 0.8650187084974075, 'beta2': 0.6877089484319181, 'momentum': 0.3385747243465752, 'dampening': 0.060710004498974124, 'optimizer_idx': 0, 'scheduler_gamma': 0.9120750070147129, 'epochs': 3, 'batch_size': 167, 'loss_idx': 1, 'relu_slope': 0.39808471373353527}. Best is trial 3 with value: 0.44821763038635254.\n",
      "[I 2025-01-13 01:07:54,091] Trial 20 pruned. \n",
      "[I 2025-01-13 01:07:54,480] Trial 21 pruned. \n",
      "[I 2025-01-13 01:07:54,865] Trial 22 pruned. \n",
      "[I 2025-01-13 01:07:55,248] Trial 23 pruned. \n",
      "[I 2025-01-13 01:07:55,642] Trial 24 pruned. \n",
      "[I 2025-01-13 01:07:56,057] Trial 25 pruned. \n",
      "[I 2025-01-13 01:07:57,044] Trial 26 pruned. \n",
      "[I 2025-01-13 01:07:57,430] Trial 27 pruned. \n",
      "[I 2025-01-13 01:07:57,823] Trial 28 pruned. \n",
      "[I 2025-01-13 01:07:58,217] Trial 29 pruned. \n",
      "[I 2025-01-13 01:07:58,632] Trial 30 pruned. \n",
      "[I 2025-01-13 01:07:59,066] Trial 31 pruned. \n",
      "[I 2025-01-13 01:07:59,507] Trial 32 pruned. \n",
      "[I 2025-01-13 01:07:59,941] Trial 33 pruned. \n",
      "[I 2025-01-13 01:08:00,376] Trial 34 pruned. \n",
      "[I 2025-01-13 01:08:01,129] Trial 35 pruned. \n",
      "[I 2025-01-13 01:08:01,539] Trial 36 pruned. \n",
      "[I 2025-01-13 01:08:01,929] Trial 37 pruned. \n",
      "[I 2025-01-13 01:08:02,314] Trial 38 pruned. \n",
      "[I 2025-01-13 01:08:02,991] Trial 39 pruned. \n",
      "[I 2025-01-13 01:08:03,380] Trial 40 pruned. \n",
      "[I 2025-01-13 01:08:04,012] Trial 41 finished with value: 0.578203558921814 and parameters: {'lr': 0.00020536324813825305, 'weight_decay': 0.0250871372087672, 'beta1': 0.8145331751915494, 'beta2': 0.7502016115578417, 'momentum': 0.38004502077300195, 'dampening': 0.06112941273801048, 'optimizer_idx': 1, 'scheduler_gamma': 0.8632106704848942, 'epochs': 3, 'batch_size': 48, 'loss_idx': 0, 'relu_slope': 0.22701328409894522}. Best is trial 3 with value: 0.44821763038635254.\n",
      "[I 2025-01-13 01:08:04,410] Trial 42 pruned. \n",
      "[I 2025-01-13 01:08:04,843] Trial 43 pruned. \n",
      "[I 2025-01-13 01:08:05,618] Trial 44 pruned. \n",
      "[I 2025-01-13 01:08:05,995] Trial 45 pruned. \n",
      "[I 2025-01-13 01:08:06,395] Trial 46 pruned. \n",
      "[I 2025-01-13 01:08:06,794] Trial 47 pruned. \n",
      "[I 2025-01-13 01:08:07,191] Trial 48 pruned. \n",
      "[I 2025-01-13 01:08:07,595] Trial 49 pruned. \n",
      "[I 2025-01-13 01:08:08,019] Trial 50 pruned. \n",
      "[I 2025-01-13 01:08:08,712] Trial 51 finished with value: 0.574491560459137 and parameters: {'lr': 0.001136385890593423, 'weight_decay': 0.01465484534129594, 'beta1': 0.8644988111279301, 'beta2': 0.6202293905707045, 'momentum': 0.34804325124134905, 'dampening': 0.00039200384542165123, 'optimizer_idx': 0, 'scheduler_gamma': 0.911507752176917, 'epochs': 3, 'batch_size': 166, 'loss_idx': 1, 'relu_slope': 0.39590126260833114}. Best is trial 3 with value: 0.44821763038635254.\n",
      "[I 2025-01-13 01:08:09,118] Trial 52 pruned. \n",
      "[I 2025-01-13 01:08:09,524] Trial 53 pruned. \n",
      "[I 2025-01-13 01:08:09,934] Trial 54 pruned. \n",
      "[I 2025-01-13 01:08:10,346] Trial 55 pruned. \n",
      "[I 2025-01-13 01:08:11,357] Trial 56 pruned. \n",
      "[I 2025-01-13 01:08:11,744] Trial 57 pruned. \n",
      "[I 2025-01-13 01:08:12,130] Trial 58 pruned. \n",
      "[I 2025-01-13 01:08:12,517] Trial 59 pruned. \n",
      "[I 2025-01-13 01:08:12,903] Trial 60 pruned. \n",
      "[I 2025-01-13 01:08:13,322] Trial 61 pruned. \n",
      "[I 2025-01-13 01:08:13,734] Trial 62 pruned. \n",
      "[I 2025-01-13 01:08:14,432] Trial 63 finished with value: 0.5314644575119019 and parameters: {'lr': 0.0026237457352901008, 'weight_decay': 0.01674270456187711, 'beta1': 0.8709929627360523, 'beta2': 0.5986935007970083, 'momentum': 0.3055487597334798, 'dampening': 0.059582869716186884, 'optimizer_idx': 0, 'scheduler_gamma': 0.9142448711926763, 'epochs': 4, 'batch_size': 187, 'loss_idx': 1, 'relu_slope': 0.3249391109603348}. Best is trial 3 with value: 0.44821763038635254.\n",
      "[I 2025-01-13 01:08:14,828] Trial 64 pruned. \n",
      "[I 2025-01-13 01:08:15,233] Trial 65 pruned. \n",
      "[I 2025-01-13 01:08:15,639] Trial 66 pruned. \n",
      "[I 2025-01-13 01:08:16,048] Trial 67 pruned. \n",
      "[I 2025-01-13 01:08:16,472] Trial 68 pruned. \n",
      "[I 2025-01-13 01:08:16,905] Trial 69 pruned. \n",
      "[I 2025-01-13 01:08:18,068] Trial 70 pruned. \n",
      "[I 2025-01-13 01:08:18,463] Trial 71 pruned. \n",
      "[I 2025-01-13 01:08:19,033] Trial 72 finished with value: 0.5379295945167542 and parameters: {'lr': 0.001574332329594732, 'weight_decay': 0.013555956427267748, 'beta1': 0.8695112530394853, 'beta2': 0.6261384966434171, 'momentum': 0.33848411835140363, 'dampening': 0.08518469436412836, 'optimizer_idx': 0, 'scheduler_gamma': 0.914941297069115, 'epochs': 3, 'batch_size': 147, 'loss_idx': 1, 'relu_slope': 0.24563159137433274}. Best is trial 3 with value: 0.44821763038635254.\n",
      "[I 2025-01-13 01:08:20,046] Trial 73 finished with value: 0.4886399209499359 and parameters: {'lr': 0.0026338018806304634, 'weight_decay': 0.01336427867298244, 'beta1': 0.870408577983321, 'beta2': 0.6571510130966027, 'momentum': 0.28406255447795475, 'dampening': 0.0969970291764401, 'optimizer_idx': 0, 'scheduler_gamma': 0.9259141302217296, 'epochs': 8, 'batch_size': 142, 'loss_idx': 1, 'relu_slope': 0.24009948414049814}. Best is trial 3 with value: 0.44821763038635254.\n",
      "[I 2025-01-13 01:08:20,799] Trial 74 pruned. \n",
      "[I 2025-01-13 01:08:21,808] Trial 75 finished with value: 0.4909379780292511 and parameters: {'lr': 0.0031149621167301717, 'weight_decay': 0.010529409291240056, 'beta1': 0.8989458030063212, 'beta2': 0.6265637490699152, 'momentum': 0.30866254128807485, 'dampening': 0.10887525602968834, 'optimizer_idx': 0, 'scheduler_gamma': 0.9410267491184395, 'epochs': 8, 'batch_size': 129, 'loss_idx': 1, 'relu_slope': 0.23928275651457373}. Best is trial 3 with value: 0.44821763038635254.\n",
      "[I 2025-01-13 01:08:22,812] Trial 76 finished with value: 0.4813862144947052 and parameters: {'lr': 0.0029549039849405758, 'weight_decay': 0.010002615616074755, 'beta1': 0.8894753365583185, 'beta2': 0.6249138770733138, 'momentum': 0.3093657348608158, 'dampening': 0.10867381898771283, 'optimizer_idx': 0, 'scheduler_gamma': 0.9423947113907257, 'epochs': 8, 'batch_size': 130, 'loss_idx': 1, 'relu_slope': 0.23847897308172517}. Best is trial 3 with value: 0.44821763038635254.\n",
      "[I 2025-01-13 01:08:23,197] Trial 77 pruned. \n",
      "[I 2025-01-13 01:08:23,576] Trial 78 pruned. \n",
      "[I 2025-01-13 01:08:24,507] Trial 79 finished with value: 0.4968000650405884 and parameters: {'lr': 0.0026852188972270293, 'weight_decay': 0.011554894505593109, 'beta1': 0.8806234898804569, 'beta2': 0.6754457856418871, 'momentum': 0.2630002993791818, 'dampening': 0.1107074129880381, 'optimizer_idx': 0, 'scheduler_gamma': 0.9279977678399498, 'epochs': 7, 'batch_size': 145, 'loss_idx': 1, 'relu_slope': 0.2741933403277045}. Best is trial 3 with value: 0.44821763038635254.\n",
      "[I 2025-01-13 01:08:25,465] Trial 80 finished with value: 0.5032088756561279 and parameters: {'lr': 0.0028745978315569925, 'weight_decay': 0.011881006742627055, 'beta1': 0.8825095167038259, 'beta2': 0.6645500487416456, 'momentum': 0.2552131520955596, 'dampening': 0.09792985577414784, 'optimizer_idx': 0, 'scheduler_gamma': 0.9550598930422349, 'epochs': 7, 'batch_size': 108, 'loss_idx': 1, 'relu_slope': 0.27370610671377854}. Best is trial 3 with value: 0.44821763038635254.\n",
      "[I 2025-01-13 01:08:26,390] Trial 81 finished with value: 0.47600555419921875 and parameters: {'lr': 0.003184388287729244, 'weight_decay': 0.011808880242257697, 'beta1': 0.8822588097400964, 'beta2': 0.6731824192200622, 'momentum': 0.2634009671364156, 'dampening': 0.11089304423442455, 'optimizer_idx': 0, 'scheduler_gamma': 0.9519358975053687, 'epochs': 7, 'batch_size': 104, 'loss_idx': 1, 'relu_slope': 0.266371277880606}. Best is trial 3 with value: 0.44821763038635254.\n",
      "[I 2025-01-13 01:08:27,310] Trial 82 finished with value: 0.4763811528682709 and parameters: {'lr': 0.0033050639283811857, 'weight_decay': 0.01190834343839712, 'beta1': 0.8806069051335418, 'beta2': 0.6662730593116528, 'momentum': 0.25187237242022276, 'dampening': 0.10931241470083569, 'optimizer_idx': 0, 'scheduler_gamma': 0.9599484911470205, 'epochs': 7, 'batch_size': 102, 'loss_idx': 1, 'relu_slope': 0.2715791169277486}. Best is trial 3 with value: 0.44821763038635254.\n",
      "[I 2025-01-13 01:08:28,247] Trial 83 finished with value: 0.4996483027935028 and parameters: {'lr': 0.003299266866694604, 'weight_decay': 0.011523274442118602, 'beta1': 0.8810614842616913, 'beta2': 0.6643279380736662, 'momentum': 0.25979399854137886, 'dampening': 0.11721292402215927, 'optimizer_idx': 0, 'scheduler_gamma': 0.9568317923011294, 'epochs': 7, 'batch_size': 99, 'loss_idx': 1, 'relu_slope': 0.2740207227754178}. Best is trial 3 with value: 0.44821763038635254.\n",
      "[I 2025-01-13 01:08:28,630] Trial 84 pruned. \n",
      "[I 2025-01-13 01:08:29,474] Trial 85 finished with value: 0.47884809970855713 and parameters: {'lr': 0.0034515650070709556, 'weight_decay': 0.010003740756559217, 'beta1': 0.8789281883276414, 'beta2': 0.6744061410837913, 'momentum': 0.2639957388623206, 'dampening': 0.11633262407941708, 'optimizer_idx': 0, 'scheduler_gamma': 0.9507643803437159, 'epochs': 6, 'batch_size': 88, 'loss_idx': 1, 'relu_slope': 0.26583631178937417}. Best is trial 3 with value: 0.44821763038635254.\n",
      "[I 2025-01-13 01:08:29,966] Trial 86 pruned. \n",
      "[I 2025-01-13 01:08:30,350] Trial 87 pruned. \n",
      "[I 2025-01-13 01:08:30,731] Trial 88 pruned. \n",
      "[I 2025-01-13 01:08:31,305] Trial 89 pruned. \n",
      "[I 2025-01-13 01:08:31,696] Trial 90 pruned. \n",
      "[I 2025-01-13 01:08:32,632] Trial 91 finished with value: 0.48401597142219543 and parameters: {'lr': 0.003437943033340954, 'weight_decay': 0.011328095167241354, 'beta1': 0.880869693246886, 'beta2': 0.6499752372278316, 'momentum': 0.218544644499647, 'dampening': 0.11771679417582477, 'optimizer_idx': 0, 'scheduler_gamma': 0.985263315419644, 'epochs': 7, 'batch_size': 118, 'loss_idx': 1, 'relu_slope': 0.2689787739612966}. Best is trial 3 with value: 0.44821763038635254.\n",
      "[I 2025-01-13 01:08:33,017] Trial 92 pruned. \n",
      "[I 2025-01-13 01:08:33,402] Trial 93 pruned. \n",
      "[I 2025-01-13 01:08:34,227] Trial 94 finished with value: 0.5076932311058044 and parameters: {'lr': 0.003425546040142485, 'weight_decay': 0.01312187460780968, 'beta1': 0.876700757039572, 'beta2': 0.7143209878486505, 'momentum': 0.21744263670125005, 'dampening': 0.18068093886673642, 'optimizer_idx': 0, 'scheduler_gamma': 0.9837630924367012, 'epochs': 6, 'batch_size': 131, 'loss_idx': 1, 'relu_slope': 0.22474619443662333}. Best is trial 3 with value: 0.44821763038635254.\n",
      "[I 2025-01-13 01:08:34,614] Trial 95 pruned. \n",
      "[I 2025-01-13 01:08:35,604] Trial 96 finished with value: 0.4612117111682892 and parameters: {'lr': 0.004920917885187258, 'weight_decay': 0.015976072917823193, 'beta1': 0.8932193988931693, 'beta2': 0.6923370100421581, 'momentum': 0.24394410360265253, 'dampening': 0.26320954045637446, 'optimizer_idx': 0, 'scheduler_gamma': 0.9645821216706125, 'epochs': 7, 'batch_size': 69, 'loss_idx': 1, 'relu_slope': 0.28236246474900895}. Best is trial 3 with value: 0.44821763038635254.\n",
      "[I 2025-01-13 01:08:36,727] Trial 97 finished with value: 0.4648953974246979 and parameters: {'lr': 0.004966535723469315, 'weight_decay': 0.015435978013832159, 'beta1': 0.9060725478139832, 'beta2': 0.6949045682712424, 'momentum': 0.29703903408898025, 'dampening': 0.24545326611880408, 'optimizer_idx': 0, 'scheduler_gamma': 0.9651447324860989, 'epochs': 8, 'batch_size': 69, 'loss_idx': 1, 'relu_slope': 0.20421119643954883}. Best is trial 3 with value: 0.44821763038635254.\n",
      "[I 2025-01-13 01:08:37,137] Trial 98 pruned. \n",
      "[I 2025-01-13 01:08:37,536] Trial 99 pruned. \n",
      "[I 2025-01-13 01:08:38,130] Trial 100 pruned. \n",
      "[I 2025-01-13 01:08:38,533] Trial 101 pruned. \n",
      "[I 2025-01-13 01:08:39,380] Trial 102 pruned. \n",
      "[I 2025-01-13 01:08:39,782] Trial 103 pruned. \n",
      "[I 2025-01-13 01:08:40,575] Trial 104 pruned. \n",
      "[I 2025-01-13 01:08:40,962] Trial 105 pruned. \n",
      "[I 2025-01-13 01:08:41,360] Trial 106 pruned. \n",
      "[I 2025-01-13 01:08:41,752] Trial 107 pruned. \n",
      "[I 2025-01-13 01:08:42,602] Trial 108 finished with value: 0.4951868951320648 and parameters: {'lr': 0.0034867741538883467, 'weight_decay': 0.01794179191117044, 'beta1': 0.8987391151428508, 'beta2': 0.669645911266733, 'momentum': 0.2220266686372389, 'dampening': 0.1205291245477949, 'optimizer_idx': 0, 'scheduler_gamma': 0.9586558235792448, 'epochs': 6, 'batch_size': 86, 'loss_idx': 1, 'relu_slope': 0.20645250332451587}. Best is trial 3 with value: 0.44821763038635254.\n",
      "[I 2025-01-13 01:08:43,090] Trial 109 pruned. \n",
      "[I 2025-01-13 01:08:43,490] Trial 110 pruned. \n",
      "[I 2025-01-13 01:08:44,376] Trial 111 finished with value: 0.4812987744808197 and parameters: {'lr': 0.004050950235656093, 'weight_decay': 0.014418875292769253, 'beta1': 0.899818528378083, 'beta2': 0.6714561253692269, 'momentum': 0.27499228891620925, 'dampening': 0.12452813150339943, 'optimizer_idx': 0, 'scheduler_gamma': 0.9575317509245143, 'epochs': 6, 'batch_size': 89, 'loss_idx': 1, 'relu_slope': 0.20871684402986992}. Best is trial 3 with value: 0.44821763038635254.\n",
      "[I 2025-01-13 01:08:44,769] Trial 112 pruned. \n",
      "[I 2025-01-13 01:08:45,189] Trial 113 pruned. \n",
      "[I 2025-01-13 01:08:45,580] Trial 114 pruned. \n",
      "[I 2025-01-13 01:08:45,981] Trial 115 pruned. \n",
      "[I 2025-01-13 01:08:46,890] Trial 116 pruned. \n",
      "[I 2025-01-13 01:08:47,295] Trial 117 pruned. \n",
      "[I 2025-01-13 01:08:47,686] Trial 118 pruned. \n",
      "[I 2025-01-13 01:08:48,084] Trial 119 pruned. \n",
      "[I 2025-01-13 01:08:48,493] Trial 120 pruned. \n",
      "[I 2025-01-13 01:08:49,437] Trial 121 finished with value: 0.4924582242965698 and parameters: {'lr': 0.0031822224013780985, 'weight_decay': 0.017861371821452098, 'beta1': 0.8989366689340796, 'beta2': 0.6648547545164751, 'momentum': 0.2389536590248064, 'dampening': 0.11602737331186272, 'optimizer_idx': 0, 'scheduler_gamma': 0.9578296847432058, 'epochs': 6, 'batch_size': 87, 'loss_idx': 1, 'relu_slope': 0.20653568748802953}. Best is trial 3 with value: 0.44821763038635254.\n",
      "[I 2025-01-13 01:08:49,835] Trial 122 pruned. \n",
      "[I 2025-01-13 01:08:50,246] Trial 123 pruned. \n",
      "[I 2025-01-13 01:08:51,145] Trial 124 finished with value: 0.482191801071167 and parameters: {'lr': 0.0030021174518241106, 'weight_decay': 0.13675913101836315, 'beta1': 0.8959758005540677, 'beta2': 0.6341658025444282, 'momentum': 0.2279216368898519, 'dampening': 0.11667782995180555, 'optimizer_idx': 0, 'scheduler_gamma': 0.9431918214705517, 'epochs': 6, 'batch_size': 77, 'loss_idx': 1, 'relu_slope': 0.2632450967402231}. Best is trial 3 with value: 0.44821763038635254.\n",
      "[I 2025-01-13 01:08:51,562] Trial 125 pruned. \n",
      "[I 2025-01-13 01:08:52,199] Trial 126 pruned. \n",
      "[I 2025-01-13 01:08:53,125] Trial 127 finished with value: 0.4764247238636017 and parameters: {'lr': 0.004088041444786621, 'weight_decay': 0.13114778573825223, 'beta1': 0.886719548506961, 'beta2': 0.6097783356935567, 'momentum': 0.32710361085514267, 'dampening': 0.12962930670043232, 'optimizer_idx': 0, 'scheduler_gamma': 0.939075574653148, 'epochs': 6, 'batch_size': 81, 'loss_idx': 1, 'relu_slope': 0.2419525179371932}. Best is trial 3 with value: 0.44821763038635254.\n",
      "[I 2025-01-13 01:08:53,544] Trial 128 pruned. \n",
      "[I 2025-01-13 01:08:53,943] Trial 129 pruned. \n",
      "[I 2025-01-13 01:08:54,816] Trial 130 finished with value: 0.4775679409503937 and parameters: {'lr': 0.004969088667789827, 'weight_decay': 0.10818883306072301, 'beta1': 0.8782741873589227, 'beta2': 0.6189321387170976, 'momentum': 0.11195081735959476, 'dampening': 0.15627993692527756, 'optimizer_idx': 0, 'scheduler_gamma': 0.8768795498459567, 'epochs': 6, 'batch_size': 83, 'loss_idx': 1, 'relu_slope': 0.22020319788087678}. Best is trial 3 with value: 0.44821763038635254.\n",
      "[I 2025-01-13 01:08:55,219] Trial 131 pruned. \n",
      "[I 2025-01-13 01:08:55,632] Trial 132 pruned. \n",
      "[I 2025-01-13 01:08:56,220] Trial 133 pruned. \n",
      "[I 2025-01-13 01:08:56,615] Trial 134 pruned. \n",
      "[I 2025-01-13 01:08:57,021] Trial 135 pruned. \n",
      "[I 2025-01-13 01:08:57,430] Trial 136 pruned. \n",
      "[I 2025-01-13 01:08:57,917] Trial 137 pruned. \n",
      "[I 2025-01-13 01:08:58,984] Trial 138 finished with value: 0.47390732169151306 and parameters: {'lr': 0.004442114862381985, 'weight_decay': 0.13797640602942984, 'beta1': 0.8809918361131497, 'beta2': 0.9457778067973787, 'momentum': 0.2629666356817968, 'dampening': 0.1129309772642039, 'optimizer_idx': 0, 'scheduler_gamma': 0.8794081362887892, 'epochs': 7, 'batch_size': 70, 'loss_idx': 1, 'relu_slope': 0.27991545746188956}. Best is trial 3 with value: 0.44821763038635254.\n",
      "[I 2025-01-13 01:08:59,399] Trial 139 pruned. \n",
      "[I 2025-01-13 01:09:00,440] Trial 140 finished with value: 0.4646214544773102 and parameters: {'lr': 0.004836713830874667, 'weight_decay': 0.19416430409542296, 'beta1': 0.881653174556144, 'beta2': 0.9778203787064007, 'momentum': 0.08781135771099245, 'dampening': 0.1181210149097282, 'optimizer_idx': 0, 'scheduler_gamma': 0.8789980254127345, 'epochs': 7, 'batch_size': 66, 'loss_idx': 1, 'relu_slope': 0.28934572126210834}. Best is trial 3 with value: 0.44821763038635254.\n",
      "[I 2025-01-13 01:09:01,477] Trial 141 finished with value: 0.4699059724807739 and parameters: {'lr': 0.00506615771597883, 'weight_decay': 0.19794181087891027, 'beta1': 0.8824830838774701, 'beta2': 0.980709604990402, 'momentum': 0.05862919100801958, 'dampening': 0.1162800933204597, 'optimizer_idx': 0, 'scheduler_gamma': 0.8782855648959056, 'epochs': 7, 'batch_size': 65, 'loss_idx': 1, 'relu_slope': 0.29050071247570863}. Best is trial 3 with value: 0.44821763038635254.\n",
      "[I 2025-01-13 01:09:02,486] Trial 142 finished with value: 0.48980513215065 and parameters: {'lr': 0.005205982515208697, 'weight_decay': 0.2547300607212243, 'beta1': 0.8820830326262632, 'beta2': 0.9476079860231266, 'momentum': 0.08758111815245762, 'dampening': 0.118916884238076, 'optimizer_idx': 0, 'scheduler_gamma': 0.8801026930026655, 'epochs': 7, 'batch_size': 68, 'loss_idx': 1, 'relu_slope': 0.28855715694301937}. Best is trial 3 with value: 0.44821763038635254.\n",
      "[I 2025-01-13 01:09:03,498] Trial 143 finished with value: 0.4686500132083893 and parameters: {'lr': 0.006298099088179835, 'weight_decay': 0.1837264134206387, 'beta1': 0.8794245322906878, 'beta2': 0.9724567438669914, 'momentum': 0.05766737396125092, 'dampening': 0.11362264547522015, 'optimizer_idx': 0, 'scheduler_gamma': 0.8966343022323893, 'epochs': 7, 'batch_size': 66, 'loss_idx': 1, 'relu_slope': 0.27383180266153995}. Best is trial 3 with value: 0.44821763038635254.\n",
      "[I 2025-01-13 01:09:03,908] Trial 144 pruned. \n",
      "[I 2025-01-13 01:09:04,311] Trial 145 pruned. \n",
      "[I 2025-01-13 01:09:05,286] Trial 146 finished with value: 0.4704664945602417 and parameters: {'lr': 0.004397035901223792, 'weight_decay': 0.14727133681187, 'beta1': 0.8952288657031404, 'beta2': 0.9790927556659367, 'momentum': 0.030803754451284138, 'dampening': 0.10932618306134738, 'optimizer_idx': 0, 'scheduler_gamma': 0.8720961016955561, 'epochs': 7, 'batch_size': 78, 'loss_idx': 1, 'relu_slope': 0.31896473565461136}. Best is trial 3 with value: 0.44821763038635254.\n",
      "[I 2025-01-13 01:09:05,694] Trial 147 pruned. \n",
      "[I 2025-01-13 01:09:06,105] Trial 148 pruned. \n",
      "[I 2025-01-13 01:09:06,508] Trial 149 pruned. \n",
      "[I 2025-01-13 01:09:06,921] Trial 150 pruned. \n",
      "[I 2025-01-13 01:09:07,757] Trial 151 pruned. \n",
      "[I 2025-01-13 01:09:08,678] Trial 152 finished with value: 0.48622438311576843 and parameters: {'lr': 0.004940269237597022, 'weight_decay': 0.1371891763174468, 'beta1': 0.8926460623526002, 'beta2': 0.9167632237634075, 'momentum': 0.006496419510372518, 'dampening': 0.08523573533712694, 'optimizer_idx': 0, 'scheduler_gamma': 0.8865331095041202, 'epochs': 6, 'batch_size': 77, 'loss_idx': 1, 'relu_slope': 0.28639966909279874}. Best is trial 3 with value: 0.44821763038635254.\n",
      "[I 2025-01-13 01:09:09,719] Trial 153 finished with value: 0.4761626422405243 and parameters: {'lr': 0.003735436874746508, 'weight_decay': 0.14670984283091862, 'beta1': 0.8955697475480215, 'beta2': 0.9397855832664797, 'momentum': 0.05386016742793458, 'dampening': 0.09968968641648526, 'optimizer_idx': 0, 'scheduler_gamma': 0.9001798487200109, 'epochs': 7, 'batch_size': 65, 'loss_idx': 1, 'relu_slope': 0.2771776596844514}. Best is trial 3 with value: 0.44821763038635254.\n",
      "[I 2025-01-13 01:09:10,885] Trial 154 finished with value: 0.48252376914024353 and parameters: {'lr': 0.0038004530822309027, 'weight_decay': 0.2085824183578881, 'beta1': 0.8841011193710994, 'beta2': 0.9563070107562208, 'momentum': 0.0841649758820773, 'dampening': 0.09613387632161413, 'optimizer_idx': 0, 'scheduler_gamma': 0.877957494597301, 'epochs': 7, 'batch_size': 51, 'loss_idx': 1, 'relu_slope': 0.28158971099461394}. Best is trial 3 with value: 0.44821763038635254.\n",
      "[I 2025-01-13 01:09:11,887] Trial 155 finished with value: 0.46688708662986755 and parameters: {'lr': 0.0063129516451951835, 'weight_decay': 0.18815126383502564, 'beta1': 0.875654889692158, 'beta2': 0.9930594529479866, 'momentum': 0.04837710391492958, 'dampening': 0.10414802939623977, 'optimizer_idx': 0, 'scheduler_gamma': 0.8830768655136381, 'epochs': 7, 'batch_size': 66, 'loss_idx': 1, 'relu_slope': 0.27477270461840714}. Best is trial 3 with value: 0.44821763038635254.\n",
      "[I 2025-01-13 01:09:12,306] Trial 156 pruned. \n",
      "[I 2025-01-13 01:09:12,711] Trial 157 pruned. \n",
      "[I 2025-01-13 01:09:13,732] Trial 158 finished with value: 0.4649735689163208 and parameters: {'lr': 0.007397314147453062, 'weight_decay': 0.1482811977167213, 'beta1': 0.8684777441799665, 'beta2': 0.9729704021601164, 'momentum': 0.03574855492097245, 'dampening': 0.0815789154369283, 'optimizer_idx': 0, 'scheduler_gamma': 0.8838652582830966, 'epochs': 7, 'batch_size': 62, 'loss_idx': 1, 'relu_slope': 0.28859620571512673}. Best is trial 3 with value: 0.44821763038635254.\n",
      "[I 2025-01-13 01:09:14,162] Trial 159 pruned. \n",
      "[I 2025-01-13 01:09:14,567] Trial 160 pruned. \n",
      "[I 2025-01-13 01:09:15,565] Trial 161 finished with value: 0.4717423915863037 and parameters: {'lr': 0.004501133436789845, 'weight_decay': 0.1175752421029288, 'beta1': 0.8594591001445733, 'beta2': 0.9781192386367566, 'momentum': 0.09454596923627734, 'dampening': 0.10534702287472457, 'optimizer_idx': 0, 'scheduler_gamma': 0.8720492545610015, 'epochs': 7, 'batch_size': 68, 'loss_idx': 1, 'relu_slope': 0.27401071456931003}. Best is trial 3 with value: 0.44821763038635254.\n",
      "[I 2025-01-13 01:09:15,970] Trial 162 pruned. \n",
      "[I 2025-01-13 01:09:16,376] Trial 163 pruned. \n",
      "[I 2025-01-13 01:09:17,461] Trial 164 finished with value: 0.46205344796180725 and parameters: {'lr': 0.004624382885613967, 'weight_decay': 0.14805102286244964, 'beta1': 0.8613746167339851, 'beta2': 0.9746775474706934, 'momentum': 0.03149883332429807, 'dampening': 0.07770438978068123, 'optimizer_idx': 0, 'scheduler_gamma': 0.8979129187211097, 'epochs': 7, 'batch_size': 50, 'loss_idx': 1, 'relu_slope': 0.29059997001199056}. Best is trial 3 with value: 0.44821763038635254.\n",
      "[I 2025-01-13 01:09:18,551] Trial 165 finished with value: 0.4734184443950653 and parameters: {'lr': 0.0048502232346075095, 'weight_decay': 0.15147327819015968, 'beta1': 0.8598997699723592, 'beta2': 0.9974290418811522, 'momentum': 0.03436938771441663, 'dampening': 0.08606250410407174, 'optimizer_idx': 0, 'scheduler_gamma': 0.8972770505068274, 'epochs': 7, 'batch_size': 49, 'loss_idx': 1, 'relu_slope': 0.28621881523637727}. Best is trial 3 with value: 0.44821763038635254.\n",
      "[I 2025-01-13 01:09:19,683] Trial 166 finished with value: 0.4636876583099365 and parameters: {'lr': 0.006343360415472483, 'weight_decay': 0.14469227148469005, 'beta1': 0.8561946360726876, 'beta2': 0.9748698864817635, 'momentum': 0.03343219469097615, 'dampening': 0.07733899359148505, 'optimizer_idx': 0, 'scheduler_gamma': 0.9046899229006061, 'epochs': 7, 'batch_size': 46, 'loss_idx': 1, 'relu_slope': 0.2850154957289255}. Best is trial 3 with value: 0.44821763038635254.\n",
      "[I 2025-01-13 01:09:20,109] Trial 167 pruned. \n",
      "[I 2025-01-13 01:09:20,541] Trial 168 pruned. \n",
      "[I 2025-01-13 01:09:20,974] Trial 169 pruned. \n",
      "[I 2025-01-13 01:09:22,295] Trial 170 finished with value: 0.4665796756744385 and parameters: {'lr': 0.005505046052360681, 'weight_decay': 0.18250108010562793, 'beta1': 0.8534448575136105, 'beta2': 0.9721001081769027, 'momentum': 0.03885012272384719, 'dampening': 0.084300321766689, 'optimizer_idx': 0, 'scheduler_gamma': 0.9053373597716489, 'epochs': 7, 'batch_size': 37, 'loss_idx': 1, 'relu_slope': 0.2835005893414876}. Best is trial 3 with value: 0.44821763038635254.\n",
      "[I 2025-01-13 01:09:23,349] Trial 171 finished with value: 0.4617014229297638 and parameters: {'lr': 0.005783196639746062, 'weight_decay': 0.18008272463747266, 'beta1': 0.8625709965757357, 'beta2': 0.975029847667198, 'momentum': 0.04047259404924839, 'dampening': 0.08379322285801058, 'optimizer_idx': 0, 'scheduler_gamma': 0.9071608291771073, 'epochs': 7, 'batch_size': 55, 'loss_idx': 1, 'relu_slope': 0.28358401829062185}. Best is trial 3 with value: 0.44821763038635254.\n",
      "[I 2025-01-13 01:09:24,430] Trial 172 finished with value: 0.5022556185722351 and parameters: {'lr': 0.00604081055760961, 'weight_decay': 0.18551877384066123, 'beta1': 0.8540400983361293, 'beta2': 0.9709334684694533, 'momentum': 0.03570344749479505, 'dampening': 0.07920973550313941, 'optimizer_idx': 0, 'scheduler_gamma': 0.906535151517249, 'epochs': 7, 'batch_size': 54, 'loss_idx': 1, 'relu_slope': 0.28212417444741417}. Best is trial 3 with value: 0.44821763038635254.\n",
      "[I 2025-01-13 01:09:25,672] Trial 173 finished with value: 0.4868064820766449 and parameters: {'lr': 0.005142697267435903, 'weight_decay': 0.17208900259429, 'beta1': 0.8623024913945387, 'beta2': 0.9867701393781679, 'momentum': 0.06545574314203194, 'dampening': 0.08962885552022874, 'optimizer_idx': 0, 'scheduler_gamma': 0.900581752895748, 'epochs': 7, 'batch_size': 37, 'loss_idx': 1, 'relu_slope': 0.2919531301174758}. Best is trial 3 with value: 0.44821763038635254.\n",
      "[I 2025-01-13 01:09:26,099] Trial 174 pruned. \n",
      "[I 2025-01-13 01:09:26,519] Trial 175 pruned. \n",
      "[I 2025-01-13 01:09:26,941] Trial 176 pruned. \n",
      "[I 2025-01-13 01:09:27,395] Trial 177 pruned. \n",
      "[I 2025-01-13 01:09:28,270] Trial 178 pruned. \n",
      "[I 2025-01-13 01:09:29,639] Trial 179 finished with value: 0.4566989243030548 and parameters: {'lr': 0.005858967959431869, 'weight_decay': 0.187788535467845, 'beta1': 0.8508491685042994, 'beta2': 0.9578207227096011, 'momentum': 0.021367040833647287, 'dampening': 0.09287985838424048, 'optimizer_idx': 0, 'scheduler_gamma': 0.8563518390271079, 'epochs': 7, 'batch_size': 33, 'loss_idx': 1, 'relu_slope': 0.26992524915199406}. Best is trial 3 with value: 0.44821763038635254.\n",
      "[I 2025-01-13 01:09:30,082] Trial 180 pruned. \n",
      "[I 2025-01-13 01:09:31,447] Trial 181 finished with value: 0.4592321813106537 and parameters: {'lr': 0.005980944325518158, 'weight_decay': 0.14272658981110947, 'beta1': 0.8560461421116041, 'beta2': 0.9774056416288758, 'momentum': 0.03925352579262556, 'dampening': 0.38785066277597946, 'optimizer_idx': 0, 'scheduler_gamma': 0.8851717268395985, 'epochs': 7, 'batch_size': 33, 'loss_idx': 1, 'relu_slope': 0.2749372932447654}. Best is trial 3 with value: 0.44821763038635254.\n",
      "[I 2025-01-13 01:09:31,901] Trial 182 pruned. \n",
      "[I 2025-01-13 01:09:32,341] Trial 183 pruned. \n",
      "[I 2025-01-13 01:09:33,508] Trial 184 finished with value: 0.4734993278980255 and parameters: {'lr': 0.005267671750284679, 'weight_decay': 0.18369222599287047, 'beta1': 0.8354899766802147, 'beta2': 0.9653516088013022, 'momentum': 0.0330169823512738, 'dampening': 0.42605087174952605, 'optimizer_idx': 0, 'scheduler_gamma': 0.8474102100932795, 'epochs': 7, 'batch_size': 46, 'loss_idx': 1, 'relu_slope': 0.2993740056071006}. Best is trial 3 with value: 0.44821763038635254.\n",
      "[I 2025-01-13 01:09:34,824] Trial 185 finished with value: 0.4975760281085968 and parameters: {'lr': 0.005183790094758542, 'weight_decay': 0.18008667880520096, 'beta1': 0.8477167114448668, 'beta2': 0.9606179190411432, 'momentum': 0.0389518030021759, 'dampening': 0.37809303051192983, 'optimizer_idx': 0, 'scheduler_gamma': 0.8465151770038399, 'epochs': 7, 'batch_size': 33, 'loss_idx': 1, 'relu_slope': 0.3017870609558562}. Best is trial 3 with value: 0.44821763038635254.\n",
      "[I 2025-01-13 01:09:35,985] Trial 186 finished with value: 0.49869123101234436 and parameters: {'lr': 0.006910032007623955, 'weight_decay': 0.12857842560241323, 'beta1': 0.8611481291397436, 'beta2': 0.9746940167428051, 'momentum': 0.016819136365346838, 'dampening': 0.4558962343505016, 'optimizer_idx': 0, 'scheduler_gamma': 0.8647261967866197, 'epochs': 7, 'batch_size': 47, 'loss_idx': 1, 'relu_slope': 0.2951834245720874}. Best is trial 3 with value: 0.44821763038635254.\n",
      "[I 2025-01-13 01:09:36,442] Trial 187 pruned. \n",
      "[I 2025-01-13 01:09:36,868] Trial 188 pruned. \n",
      "[I 2025-01-13 01:09:37,328] Trial 189 pruned. \n",
      "[I 2025-01-13 01:09:37,769] Trial 190 pruned. \n",
      "[I 2025-01-13 01:09:38,447] Trial 191 pruned. \n",
      "[I 2025-01-13 01:09:39,695] Trial 192 finished with value: 0.4503686726093292 and parameters: {'lr': 0.005628168634724575, 'weight_decay': 0.16476082630202768, 'beta1': 0.8639776153359914, 'beta2': 0.9696247410962365, 'momentum': 0.05961532997294727, 'dampening': 0.08352102556834058, 'optimizer_idx': 0, 'scheduler_gamma': 0.8797960805252975, 'epochs': 7, 'batch_size': 39, 'loss_idx': 1, 'relu_slope': 0.26789996150157536}. Best is trial 3 with value: 0.44821763038635254.\n",
      "[I 2025-01-13 01:09:40,935] Trial 193 finished with value: 0.4521959722042084 and parameters: {'lr': 0.005808596642758562, 'weight_decay': 0.16143731496239389, 'beta1': 0.8634250451012546, 'beta2': 0.9706242103961714, 'momentum': 0.060982029435910835, 'dampening': 0.41777462986463015, 'optimizer_idx': 0, 'scheduler_gamma': 0.8806285448882143, 'epochs': 7, 'batch_size': 39, 'loss_idx': 1, 'relu_slope': 0.2946696617054129}. Best is trial 3 with value: 0.44821763038635254.\n",
      "[I 2025-01-13 01:09:41,389] Trial 194 pruned. \n",
      "[I 2025-01-13 01:09:41,823] Trial 195 pruned. \n",
      "[I 2025-01-13 01:09:42,265] Trial 196 pruned. \n",
      "[I 2025-01-13 01:09:42,719] Trial 197 pruned. \n",
      "[I 2025-01-13 01:09:43,886] Trial 198 finished with value: 0.4705774486064911 and parameters: {'lr': 0.005485799047526266, 'weight_decay': 0.2045611604346012, 'beta1': 0.8398139170889002, 'beta2': 0.9780333811750928, 'momentum': 0.0981823770595098, 'dampening': 0.42488969536054594, 'optimizer_idx': 0, 'scheduler_gamma': 0.9075762859460283, 'epochs': 7, 'batch_size': 44, 'loss_idx': 1, 'relu_slope': 0.1090459559079986}. Best is trial 3 with value: 0.44821763038635254.\n",
      "[I 2025-01-13 01:09:44,307] Trial 199 pruned. \n",
      "[I 2025-01-13 01:09:45,550] Trial 200 pruned. \n",
      "[I 2025-01-13 01:09:46,702] Trial 201 finished with value: 0.5106508135795593 and parameters: {'lr': 0.005249535104471723, 'weight_decay': 0.2024992621524492, 'beta1': 0.8540052259603608, 'beta2': 0.9667539928716289, 'momentum': 0.039990897480833745, 'dampening': 0.42556004057311964, 'optimizer_idx': 0, 'scheduler_gamma': 0.8755342546282532, 'epochs': 7, 'batch_size': 44, 'loss_idx': 1, 'relu_slope': 0.2703554038527202}. Best is trial 3 with value: 0.44821763038635254.\n",
      "[I 2025-01-13 01:09:47,813] Trial 202 finished with value: 0.46640074253082275 and parameters: {'lr': 0.005718484633145031, 'weight_decay': 0.1877903852860681, 'beta1': 0.8350289471745649, 'beta2': 0.9530293889606496, 'momentum': 0.09998521456843985, 'dampening': 0.4335636463891511, 'optimizer_idx': 0, 'scheduler_gamma': 0.9170885964151949, 'epochs': 7, 'batch_size': 52, 'loss_idx': 1, 'relu_slope': 0.06128224048213119}. Best is trial 3 with value: 0.44821763038635254.\n",
      "[I 2025-01-13 01:09:48,901] Trial 203 finished with value: 0.4614346921443939 and parameters: {'lr': 0.00648687753136028, 'weight_decay': 0.21943242248362882, 'beta1': 0.8330827673641711, 'beta2': 0.9515093054890218, 'momentum': 0.1023278582722365, 'dampening': 0.07746439877116046, 'optimizer_idx': 0, 'scheduler_gamma': 0.9066788188623226, 'epochs': 7, 'batch_size': 53, 'loss_idx': 1, 'relu_slope': 0.05343568530521863}. Best is trial 3 with value: 0.44821763038635254.\n",
      "[I 2025-01-13 01:09:49,333] Trial 204 pruned. \n",
      "[I 2025-01-13 01:09:49,737] Trial 205 pruned. \n",
      "[I 2025-01-13 01:09:50,159] Trial 206 pruned. \n",
      "[I 2025-01-13 01:09:50,798] Trial 207 pruned. \n",
      "[I 2025-01-13 01:09:51,255] Trial 208 pruned. \n",
      "[I 2025-01-13 01:09:51,673] Trial 209 pruned. \n",
      "[I 2025-01-13 01:09:52,910] Trial 210 pruned. \n",
      "[I 2025-01-13 01:09:53,336] Trial 211 pruned. \n",
      "[I 2025-01-13 01:09:53,992] Trial 212 pruned. \n",
      "[I 2025-01-13 01:09:54,407] Trial 213 pruned. \n",
      "[I 2025-01-13 01:09:54,957] Trial 214 pruned. \n",
      "[I 2025-01-13 01:09:55,420] Trial 215 pruned. \n",
      "[I 2025-01-13 01:09:55,841] Trial 216 pruned. \n",
      "[I 2025-01-13 01:09:56,377] Trial 217 pruned. \n",
      "[I 2025-01-13 01:09:57,079] Trial 218 pruned. \n",
      "[I 2025-01-13 01:09:57,501] Trial 219 pruned. \n",
      "[I 2025-01-13 01:09:57,937] Trial 220 pruned. \n",
      "[I 2025-01-13 01:09:59,072] Trial 221 finished with value: 0.46880772709846497 and parameters: {'lr': 0.005419830855394247, 'weight_decay': 0.17788506891594336, 'beta1': 0.8337655489016531, 'beta2': 0.9631550496459712, 'momentum': 0.03411671950956571, 'dampening': 0.42718576208483794, 'optimizer_idx': 0, 'scheduler_gamma': 0.9021915469828933, 'epochs': 7, 'batch_size': 47, 'loss_idx': 1, 'relu_slope': 0.28776624675711}. Best is trial 3 with value: 0.44821763038635254.\n",
      "[I 2025-01-13 01:10:00,287] Trial 222 finished with value: 0.4940810203552246 and parameters: {'lr': 0.005349909047396549, 'weight_decay': 0.17552173393302403, 'beta1': 0.8329877341747526, 'beta2': 0.96095161794701, 'momentum': 0.014759591519277353, 'dampening': 0.4346590372395869, 'optimizer_idx': 0, 'scheduler_gamma': 0.9028627741021982, 'epochs': 7, 'batch_size': 40, 'loss_idx': 1, 'relu_slope': 0.28662779008970646}. Best is trial 3 with value: 0.44821763038635254.\n",
      "[I 2025-01-13 01:10:01,601] Trial 223 finished with value: 0.46142616868019104 and parameters: {'lr': 0.004394156682569001, 'weight_decay': 0.15131213947111247, 'beta1': 0.847364033110147, 'beta2': 0.9752608395125915, 'momentum': 0.03717568619258886, 'dampening': 0.4237338584740908, 'optimizer_idx': 0, 'scheduler_gamma': 0.9093494987128022, 'epochs': 7, 'batch_size': 33, 'loss_idx': 1, 'relu_slope': 0.2871042747195751}. Best is trial 3 with value: 0.44821763038635254.\n",
      "[I 2025-01-13 01:10:02,339] Trial 224 pruned. \n",
      "[I 2025-01-13 01:10:03,593] Trial 225 finished with value: 0.4680081605911255 and parameters: {'lr': 0.004440895348062983, 'weight_decay': 0.16551884282144402, 'beta1': 0.8402265673737632, 'beta2': 0.971609396223449, 'momentum': 0.029590336166184547, 'dampening': 0.41849743249543087, 'optimizer_idx': 0, 'scheduler_gamma': 0.916217937492907, 'epochs': 7, 'batch_size': 37, 'loss_idx': 1, 'relu_slope': 0.26876055843672403}. Best is trial 3 with value: 0.44821763038635254.\n",
      "[I 2025-01-13 01:10:04,052] Trial 226 pruned. \n",
      "[I 2025-01-13 01:10:04,496] Trial 227 pruned. \n",
      "[I 2025-01-13 01:10:05,681] Trial 228 pruned. \n",
      "[I 2025-01-13 01:10:06,840] Trial 229 finished with value: 0.45741668343544006 and parameters: {'lr': 0.0067174250435380655, 'weight_decay': 0.20063182139264873, 'beta1': 0.8428086551648006, 'beta2': 0.9430976393334736, 'momentum': 0.00041445177703794064, 'dampening': 0.4458399708448701, 'optimizer_idx': 0, 'scheduler_gamma': 0.9034802689436024, 'epochs': 7, 'batch_size': 43, 'loss_idx': 1, 'relu_slope': 0.2674880035394359}. Best is trial 3 with value: 0.44821763038635254.\n",
      "[I 2025-01-13 01:10:07,287] Trial 230 pruned. \n",
      "[I 2025-01-13 01:10:08,292] Trial 231 pruned. \n",
      "[I 2025-01-13 01:10:08,729] Trial 232 pruned. \n",
      "[I 2025-01-13 01:10:09,934] Trial 233 pruned. \n",
      "[I 2025-01-13 01:10:10,351] Trial 234 pruned. \n",
      "[I 2025-01-13 01:10:11,588] Trial 235 finished with value: 0.4775347411632538 and parameters: {'lr': 0.004353113730035779, 'weight_decay': 0.05929356402834716, 'beta1': 0.8443100240847973, 'beta2': 0.9537529828225076, 'momentum': 0.058591005444913656, 'dampening': 0.37324980973910094, 'optimizer_idx': 0, 'scheduler_gamma': 0.8941762500117688, 'epochs': 7, 'batch_size': 37, 'loss_idx': 1, 'relu_slope': 0.2703770833393788}. Best is trial 3 with value: 0.44821763038635254.\n",
      "[I 2025-01-13 01:10:12,147] Trial 236 pruned. \n",
      "[I 2025-01-13 01:10:12,610] Trial 237 pruned. \n",
      "[I 2025-01-13 01:10:13,030] Trial 238 pruned. \n",
      "[I 2025-01-13 01:10:13,462] Trial 239 pruned. \n",
      "[I 2025-01-13 01:10:14,575] Trial 240 pruned. \n",
      "[I 2025-01-13 01:10:15,090] Trial 241 pruned. \n",
      "[I 2025-01-13 01:10:15,505] Trial 242 pruned. \n",
      "[I 2025-01-13 01:10:15,930] Trial 243 pruned. \n",
      "[I 2025-01-13 01:10:16,974] Trial 244 finished with value: 0.4892672598361969 and parameters: {'lr': 0.005630739043640404, 'weight_decay': 0.14766791209243704, 'beta1': 0.8497790470474416, 'beta2': 0.9503455688155683, 'momentum': 0.03939413569687037, 'dampening': 0.46095066977030336, 'optimizer_idx': 0, 'scheduler_gamma': 0.9112590954146571, 'epochs': 7, 'batch_size': 61, 'loss_idx': 1, 'relu_slope': 0.2843370861913483}. Best is trial 3 with value: 0.44821763038635254.\n",
      "[I 2025-01-13 01:10:17,404] Trial 245 pruned. \n",
      "[I 2025-01-13 01:10:18,249] Trial 246 pruned. \n",
      "[I 2025-01-13 01:10:18,671] Trial 247 pruned. \n",
      "[I 2025-01-13 01:10:19,112] Trial 248 pruned. \n",
      "[I 2025-01-13 01:10:19,563] Trial 249 pruned. \n"
     ]
    }
   ],
   "source": [
    "is_multi_objective = False\n",
    "n_trials = 250\n",
    "study = optimize(is_multi_objective=is_multi_objective, n_trials=n_trials)"
   ]
  },
  {
   "cell_type": "code",
   "execution_count": 29,
   "metadata": {},
   "outputs": [],
   "source": [
    "import optuna.visualization as vis"
   ]
  },
  {
   "cell_type": "code",
   "execution_count": 30,
   "metadata": {},
   "outputs": [
    {
     "data": {
      "application/vnd.plotly.v1+json": {
       "config": {
        "plotlyServerURL": "https://plot.ly"
       },
       "data": [
        {
         "cliponaxis": false,
         "hovertemplate": [
          "optimizer_idx (IntDistribution): 1.6385057592924007e-06<extra></extra>",
          "loss_idx (IntDistribution): 0.0002944067489248<extra></extra>",
          "weight_decay (FloatDistribution): 0.024553893264392175<extra></extra>",
          "beta1 (FloatDistribution): 0.02547953809536787<extra></extra>",
          "beta2 (FloatDistribution): 0.056659159960599906<extra></extra>",
          "scheduler_gamma (FloatDistribution): 0.06326184646667511<extra></extra>",
          "relu_slope (FloatDistribution): 0.06794094584131925<extra></extra>",
          "dampening (FloatDistribution): 0.0769253949222593<extra></extra>",
          "momentum (FloatDistribution): 0.11133767502408679<extra></extra>",
          "batch_size (IntDistribution): 0.1132041801901519<extra></extra>",
          "lr (FloatDistribution): 0.19727780775774792<extra></extra>",
          "epochs (IntDistribution): 0.2630635132227157<extra></extra>"
         ],
         "name": "Objective Value",
         "orientation": "h",
         "text": [
          "<0.01",
          "<0.01",
          "0.02",
          "0.03",
          "0.06",
          "0.06",
          "0.07",
          "0.08",
          "0.11",
          "0.11",
          "0.20",
          "0.26"
         ],
         "textposition": "outside",
         "type": "bar",
         "x": [
          0.0000016385057592924007,
          0.0002944067489248,
          0.024553893264392175,
          0.02547953809536787,
          0.056659159960599906,
          0.06326184646667511,
          0.06794094584131925,
          0.0769253949222593,
          0.11133767502408679,
          0.1132041801901519,
          0.19727780775774792,
          0.2630635132227157
         ],
         "y": [
          "optimizer_idx",
          "loss_idx",
          "weight_decay",
          "beta1",
          "beta2",
          "scheduler_gamma",
          "relu_slope",
          "dampening",
          "momentum",
          "batch_size",
          "lr",
          "epochs"
         ]
        }
       ],
       "layout": {
        "template": {
         "data": {
          "bar": [
           {
            "error_x": {
             "color": "#2a3f5f"
            },
            "error_y": {
             "color": "#2a3f5f"
            },
            "marker": {
             "line": {
              "color": "#E5ECF6",
              "width": 0.5
             },
             "pattern": {
              "fillmode": "overlay",
              "size": 10,
              "solidity": 0.2
             }
            },
            "type": "bar"
           }
          ],
          "barpolar": [
           {
            "marker": {
             "line": {
              "color": "#E5ECF6",
              "width": 0.5
             },
             "pattern": {
              "fillmode": "overlay",
              "size": 10,
              "solidity": 0.2
             }
            },
            "type": "barpolar"
           }
          ],
          "carpet": [
           {
            "aaxis": {
             "endlinecolor": "#2a3f5f",
             "gridcolor": "white",
             "linecolor": "white",
             "minorgridcolor": "white",
             "startlinecolor": "#2a3f5f"
            },
            "baxis": {
             "endlinecolor": "#2a3f5f",
             "gridcolor": "white",
             "linecolor": "white",
             "minorgridcolor": "white",
             "startlinecolor": "#2a3f5f"
            },
            "type": "carpet"
           }
          ],
          "choropleth": [
           {
            "colorbar": {
             "outlinewidth": 0,
             "ticks": ""
            },
            "type": "choropleth"
           }
          ],
          "contour": [
           {
            "colorbar": {
             "outlinewidth": 0,
             "ticks": ""
            },
            "colorscale": [
             [
              0,
              "#0d0887"
             ],
             [
              0.1111111111111111,
              "#46039f"
             ],
             [
              0.2222222222222222,
              "#7201a8"
             ],
             [
              0.3333333333333333,
              "#9c179e"
             ],
             [
              0.4444444444444444,
              "#bd3786"
             ],
             [
              0.5555555555555556,
              "#d8576b"
             ],
             [
              0.6666666666666666,
              "#ed7953"
             ],
             [
              0.7777777777777778,
              "#fb9f3a"
             ],
             [
              0.8888888888888888,
              "#fdca26"
             ],
             [
              1,
              "#f0f921"
             ]
            ],
            "type": "contour"
           }
          ],
          "contourcarpet": [
           {
            "colorbar": {
             "outlinewidth": 0,
             "ticks": ""
            },
            "type": "contourcarpet"
           }
          ],
          "heatmap": [
           {
            "colorbar": {
             "outlinewidth": 0,
             "ticks": ""
            },
            "colorscale": [
             [
              0,
              "#0d0887"
             ],
             [
              0.1111111111111111,
              "#46039f"
             ],
             [
              0.2222222222222222,
              "#7201a8"
             ],
             [
              0.3333333333333333,
              "#9c179e"
             ],
             [
              0.4444444444444444,
              "#bd3786"
             ],
             [
              0.5555555555555556,
              "#d8576b"
             ],
             [
              0.6666666666666666,
              "#ed7953"
             ],
             [
              0.7777777777777778,
              "#fb9f3a"
             ],
             [
              0.8888888888888888,
              "#fdca26"
             ],
             [
              1,
              "#f0f921"
             ]
            ],
            "type": "heatmap"
           }
          ],
          "heatmapgl": [
           {
            "colorbar": {
             "outlinewidth": 0,
             "ticks": ""
            },
            "colorscale": [
             [
              0,
              "#0d0887"
             ],
             [
              0.1111111111111111,
              "#46039f"
             ],
             [
              0.2222222222222222,
              "#7201a8"
             ],
             [
              0.3333333333333333,
              "#9c179e"
             ],
             [
              0.4444444444444444,
              "#bd3786"
             ],
             [
              0.5555555555555556,
              "#d8576b"
             ],
             [
              0.6666666666666666,
              "#ed7953"
             ],
             [
              0.7777777777777778,
              "#fb9f3a"
             ],
             [
              0.8888888888888888,
              "#fdca26"
             ],
             [
              1,
              "#f0f921"
             ]
            ],
            "type": "heatmapgl"
           }
          ],
          "histogram": [
           {
            "marker": {
             "pattern": {
              "fillmode": "overlay",
              "size": 10,
              "solidity": 0.2
             }
            },
            "type": "histogram"
           }
          ],
          "histogram2d": [
           {
            "colorbar": {
             "outlinewidth": 0,
             "ticks": ""
            },
            "colorscale": [
             [
              0,
              "#0d0887"
             ],
             [
              0.1111111111111111,
              "#46039f"
             ],
             [
              0.2222222222222222,
              "#7201a8"
             ],
             [
              0.3333333333333333,
              "#9c179e"
             ],
             [
              0.4444444444444444,
              "#bd3786"
             ],
             [
              0.5555555555555556,
              "#d8576b"
             ],
             [
              0.6666666666666666,
              "#ed7953"
             ],
             [
              0.7777777777777778,
              "#fb9f3a"
             ],
             [
              0.8888888888888888,
              "#fdca26"
             ],
             [
              1,
              "#f0f921"
             ]
            ],
            "type": "histogram2d"
           }
          ],
          "histogram2dcontour": [
           {
            "colorbar": {
             "outlinewidth": 0,
             "ticks": ""
            },
            "colorscale": [
             [
              0,
              "#0d0887"
             ],
             [
              0.1111111111111111,
              "#46039f"
             ],
             [
              0.2222222222222222,
              "#7201a8"
             ],
             [
              0.3333333333333333,
              "#9c179e"
             ],
             [
              0.4444444444444444,
              "#bd3786"
             ],
             [
              0.5555555555555556,
              "#d8576b"
             ],
             [
              0.6666666666666666,
              "#ed7953"
             ],
             [
              0.7777777777777778,
              "#fb9f3a"
             ],
             [
              0.8888888888888888,
              "#fdca26"
             ],
             [
              1,
              "#f0f921"
             ]
            ],
            "type": "histogram2dcontour"
           }
          ],
          "mesh3d": [
           {
            "colorbar": {
             "outlinewidth": 0,
             "ticks": ""
            },
            "type": "mesh3d"
           }
          ],
          "parcoords": [
           {
            "line": {
             "colorbar": {
              "outlinewidth": 0,
              "ticks": ""
             }
            },
            "type": "parcoords"
           }
          ],
          "pie": [
           {
            "automargin": true,
            "type": "pie"
           }
          ],
          "scatter": [
           {
            "fillpattern": {
             "fillmode": "overlay",
             "size": 10,
             "solidity": 0.2
            },
            "type": "scatter"
           }
          ],
          "scatter3d": [
           {
            "line": {
             "colorbar": {
              "outlinewidth": 0,
              "ticks": ""
             }
            },
            "marker": {
             "colorbar": {
              "outlinewidth": 0,
              "ticks": ""
             }
            },
            "type": "scatter3d"
           }
          ],
          "scattercarpet": [
           {
            "marker": {
             "colorbar": {
              "outlinewidth": 0,
              "ticks": ""
             }
            },
            "type": "scattercarpet"
           }
          ],
          "scattergeo": [
           {
            "marker": {
             "colorbar": {
              "outlinewidth": 0,
              "ticks": ""
             }
            },
            "type": "scattergeo"
           }
          ],
          "scattergl": [
           {
            "marker": {
             "colorbar": {
              "outlinewidth": 0,
              "ticks": ""
             }
            },
            "type": "scattergl"
           }
          ],
          "scattermapbox": [
           {
            "marker": {
             "colorbar": {
              "outlinewidth": 0,
              "ticks": ""
             }
            },
            "type": "scattermapbox"
           }
          ],
          "scatterpolar": [
           {
            "marker": {
             "colorbar": {
              "outlinewidth": 0,
              "ticks": ""
             }
            },
            "type": "scatterpolar"
           }
          ],
          "scatterpolargl": [
           {
            "marker": {
             "colorbar": {
              "outlinewidth": 0,
              "ticks": ""
             }
            },
            "type": "scatterpolargl"
           }
          ],
          "scatterternary": [
           {
            "marker": {
             "colorbar": {
              "outlinewidth": 0,
              "ticks": ""
             }
            },
            "type": "scatterternary"
           }
          ],
          "surface": [
           {
            "colorbar": {
             "outlinewidth": 0,
             "ticks": ""
            },
            "colorscale": [
             [
              0,
              "#0d0887"
             ],
             [
              0.1111111111111111,
              "#46039f"
             ],
             [
              0.2222222222222222,
              "#7201a8"
             ],
             [
              0.3333333333333333,
              "#9c179e"
             ],
             [
              0.4444444444444444,
              "#bd3786"
             ],
             [
              0.5555555555555556,
              "#d8576b"
             ],
             [
              0.6666666666666666,
              "#ed7953"
             ],
             [
              0.7777777777777778,
              "#fb9f3a"
             ],
             [
              0.8888888888888888,
              "#fdca26"
             ],
             [
              1,
              "#f0f921"
             ]
            ],
            "type": "surface"
           }
          ],
          "table": [
           {
            "cells": {
             "fill": {
              "color": "#EBF0F8"
             },
             "line": {
              "color": "white"
             }
            },
            "header": {
             "fill": {
              "color": "#C8D4E3"
             },
             "line": {
              "color": "white"
             }
            },
            "type": "table"
           }
          ]
         },
         "layout": {
          "annotationdefaults": {
           "arrowcolor": "#2a3f5f",
           "arrowhead": 0,
           "arrowwidth": 1
          },
          "autotypenumbers": "strict",
          "coloraxis": {
           "colorbar": {
            "outlinewidth": 0,
            "ticks": ""
           }
          },
          "colorscale": {
           "diverging": [
            [
             0,
             "#8e0152"
            ],
            [
             0.1,
             "#c51b7d"
            ],
            [
             0.2,
             "#de77ae"
            ],
            [
             0.3,
             "#f1b6da"
            ],
            [
             0.4,
             "#fde0ef"
            ],
            [
             0.5,
             "#f7f7f7"
            ],
            [
             0.6,
             "#e6f5d0"
            ],
            [
             0.7,
             "#b8e186"
            ],
            [
             0.8,
             "#7fbc41"
            ],
            [
             0.9,
             "#4d9221"
            ],
            [
             1,
             "#276419"
            ]
           ],
           "sequential": [
            [
             0,
             "#0d0887"
            ],
            [
             0.1111111111111111,
             "#46039f"
            ],
            [
             0.2222222222222222,
             "#7201a8"
            ],
            [
             0.3333333333333333,
             "#9c179e"
            ],
            [
             0.4444444444444444,
             "#bd3786"
            ],
            [
             0.5555555555555556,
             "#d8576b"
            ],
            [
             0.6666666666666666,
             "#ed7953"
            ],
            [
             0.7777777777777778,
             "#fb9f3a"
            ],
            [
             0.8888888888888888,
             "#fdca26"
            ],
            [
             1,
             "#f0f921"
            ]
           ],
           "sequentialminus": [
            [
             0,
             "#0d0887"
            ],
            [
             0.1111111111111111,
             "#46039f"
            ],
            [
             0.2222222222222222,
             "#7201a8"
            ],
            [
             0.3333333333333333,
             "#9c179e"
            ],
            [
             0.4444444444444444,
             "#bd3786"
            ],
            [
             0.5555555555555556,
             "#d8576b"
            ],
            [
             0.6666666666666666,
             "#ed7953"
            ],
            [
             0.7777777777777778,
             "#fb9f3a"
            ],
            [
             0.8888888888888888,
             "#fdca26"
            ],
            [
             1,
             "#f0f921"
            ]
           ]
          },
          "colorway": [
           "#636efa",
           "#EF553B",
           "#00cc96",
           "#ab63fa",
           "#FFA15A",
           "#19d3f3",
           "#FF6692",
           "#B6E880",
           "#FF97FF",
           "#FECB52"
          ],
          "font": {
           "color": "#2a3f5f"
          },
          "geo": {
           "bgcolor": "white",
           "lakecolor": "white",
           "landcolor": "#E5ECF6",
           "showlakes": true,
           "showland": true,
           "subunitcolor": "white"
          },
          "hoverlabel": {
           "align": "left"
          },
          "hovermode": "closest",
          "mapbox": {
           "style": "light"
          },
          "paper_bgcolor": "white",
          "plot_bgcolor": "#E5ECF6",
          "polar": {
           "angularaxis": {
            "gridcolor": "white",
            "linecolor": "white",
            "ticks": ""
           },
           "bgcolor": "#E5ECF6",
           "radialaxis": {
            "gridcolor": "white",
            "linecolor": "white",
            "ticks": ""
           }
          },
          "scene": {
           "xaxis": {
            "backgroundcolor": "#E5ECF6",
            "gridcolor": "white",
            "gridwidth": 2,
            "linecolor": "white",
            "showbackground": true,
            "ticks": "",
            "zerolinecolor": "white"
           },
           "yaxis": {
            "backgroundcolor": "#E5ECF6",
            "gridcolor": "white",
            "gridwidth": 2,
            "linecolor": "white",
            "showbackground": true,
            "ticks": "",
            "zerolinecolor": "white"
           },
           "zaxis": {
            "backgroundcolor": "#E5ECF6",
            "gridcolor": "white",
            "gridwidth": 2,
            "linecolor": "white",
            "showbackground": true,
            "ticks": "",
            "zerolinecolor": "white"
           }
          },
          "shapedefaults": {
           "line": {
            "color": "#2a3f5f"
           }
          },
          "ternary": {
           "aaxis": {
            "gridcolor": "white",
            "linecolor": "white",
            "ticks": ""
           },
           "baxis": {
            "gridcolor": "white",
            "linecolor": "white",
            "ticks": ""
           },
           "bgcolor": "#E5ECF6",
           "caxis": {
            "gridcolor": "white",
            "linecolor": "white",
            "ticks": ""
           }
          },
          "title": {
           "x": 0.05
          },
          "xaxis": {
           "automargin": true,
           "gridcolor": "white",
           "linecolor": "white",
           "ticks": "",
           "title": {
            "standoff": 15
           },
           "zerolinecolor": "white",
           "zerolinewidth": 2
          },
          "yaxis": {
           "automargin": true,
           "gridcolor": "white",
           "linecolor": "white",
           "ticks": "",
           "title": {
            "standoff": 15
           },
           "zerolinecolor": "white",
           "zerolinewidth": 2
          }
         }
        },
        "title": {
         "text": "Hyperparameter Importances"
        },
        "xaxis": {
         "title": {
          "text": "Hyperparameter Importance"
         }
        },
        "yaxis": {
         "title": {
          "text": "Hyperparameter"
         }
        }
       }
      }
     },
     "metadata": {},
     "output_type": "display_data"
    }
   ],
   "source": [
    "vis.plot_param_importances(study)"
   ]
  },
  {
   "cell_type": "code",
   "execution_count": 31,
   "metadata": {},
   "outputs": [],
   "source": [
    "if is_multi_objective:\n",
    "    fig = vis.plot_optimization_history(study, target=lambda t: t.values[0], target_name='Loss')\n",
    "    fig.show()"
   ]
  },
  {
   "cell_type": "code",
   "execution_count": 32,
   "metadata": {},
   "outputs": [
    {
     "data": {
      "application/vnd.plotly.v1+json": {
       "config": {
        "plotlyServerURL": "https://plot.ly"
       },
       "data": [
        {
         "mode": "markers",
         "name": "Objective Value",
         "type": "scatter",
         "x": [
          0,
          1,
          2,
          3,
          4,
          19,
          41,
          51,
          63,
          72,
          73,
          75,
          76,
          79,
          80,
          81,
          82,
          83,
          85,
          91,
          94,
          96,
          97,
          108,
          111,
          121,
          124,
          127,
          130,
          138,
          140,
          141,
          142,
          143,
          146,
          152,
          153,
          154,
          155,
          158,
          161,
          164,
          165,
          166,
          170,
          171,
          172,
          173,
          179,
          181,
          184,
          185,
          186,
          192,
          193,
          198,
          201,
          202,
          203,
          221,
          222,
          223,
          225,
          229,
          235,
          244
         ],
         "y": [
          0.4879089295864105,
          0.5672515034675598,
          0.560749888420105,
          0.44821763038635254,
          0.5045685172080994,
          0.5697219967842102,
          0.578203558921814,
          0.574491560459137,
          0.5314644575119019,
          0.5379295945167542,
          0.4886399209499359,
          0.4909379780292511,
          0.4813862144947052,
          0.4968000650405884,
          0.5032088756561279,
          0.47600555419921875,
          0.4763811528682709,
          0.4996483027935028,
          0.47884809970855713,
          0.48401597142219543,
          0.5076932311058044,
          0.4612117111682892,
          0.4648953974246979,
          0.4951868951320648,
          0.4812987744808197,
          0.4924582242965698,
          0.482191801071167,
          0.4764247238636017,
          0.4775679409503937,
          0.47390732169151306,
          0.4646214544773102,
          0.4699059724807739,
          0.48980513215065,
          0.4686500132083893,
          0.4704664945602417,
          0.48622438311576843,
          0.4761626422405243,
          0.48252376914024353,
          0.46688708662986755,
          0.4649735689163208,
          0.4717423915863037,
          0.46205344796180725,
          0.4734184443950653,
          0.4636876583099365,
          0.4665796756744385,
          0.4617014229297638,
          0.5022556185722351,
          0.4868064820766449,
          0.4566989243030548,
          0.4592321813106537,
          0.4734993278980255,
          0.4975760281085968,
          0.49869123101234436,
          0.4503686726093292,
          0.4521959722042084,
          0.4705774486064911,
          0.5106508135795593,
          0.46640074253082275,
          0.4614346921443939,
          0.46880772709846497,
          0.4940810203552246,
          0.46142616868019104,
          0.4680081605911255,
          0.45741668343544006,
          0.4775347411632538,
          0.4892672598361969
         ]
        },
        {
         "mode": "lines",
         "name": "Best Value",
         "type": "scatter",
         "x": [
          0,
          1,
          2,
          3,
          4,
          5,
          6,
          7,
          8,
          9,
          10,
          11,
          12,
          13,
          14,
          15,
          16,
          17,
          18,
          19,
          20,
          21,
          22,
          23,
          24,
          25,
          26,
          27,
          28,
          29,
          30,
          31,
          32,
          33,
          34,
          35,
          36,
          37,
          38,
          39,
          40,
          41,
          42,
          43,
          44,
          45,
          46,
          47,
          48,
          49,
          50,
          51,
          52,
          53,
          54,
          55,
          56,
          57,
          58,
          59,
          60,
          61,
          62,
          63,
          64,
          65,
          66,
          67,
          68,
          69,
          70,
          71,
          72,
          73,
          74,
          75,
          76,
          77,
          78,
          79,
          80,
          81,
          82,
          83,
          84,
          85,
          86,
          87,
          88,
          89,
          90,
          91,
          92,
          93,
          94,
          95,
          96,
          97,
          98,
          99,
          100,
          101,
          102,
          103,
          104,
          105,
          106,
          107,
          108,
          109,
          110,
          111,
          112,
          113,
          114,
          115,
          116,
          117,
          118,
          119,
          120,
          121,
          122,
          123,
          124,
          125,
          126,
          127,
          128,
          129,
          130,
          131,
          132,
          133,
          134,
          135,
          136,
          137,
          138,
          139,
          140,
          141,
          142,
          143,
          144,
          145,
          146,
          147,
          148,
          149,
          150,
          151,
          152,
          153,
          154,
          155,
          156,
          157,
          158,
          159,
          160,
          161,
          162,
          163,
          164,
          165,
          166,
          167,
          168,
          169,
          170,
          171,
          172,
          173,
          174,
          175,
          176,
          177,
          178,
          179,
          180,
          181,
          182,
          183,
          184,
          185,
          186,
          187,
          188,
          189,
          190,
          191,
          192,
          193,
          194,
          195,
          196,
          197,
          198,
          199,
          200,
          201,
          202,
          203,
          204,
          205,
          206,
          207,
          208,
          209,
          210,
          211,
          212,
          213,
          214,
          215,
          216,
          217,
          218,
          219,
          220,
          221,
          222,
          223,
          224,
          225,
          226,
          227,
          228,
          229,
          230,
          231,
          232,
          233,
          234,
          235,
          236,
          237,
          238,
          239,
          240,
          241,
          242,
          243,
          244,
          245,
          246,
          247,
          248,
          249
         ],
         "y": [
          0.4879089295864105,
          0.4879089295864105,
          0.4879089295864105,
          0.44821763038635254,
          0.44821763038635254,
          0.44821763038635254,
          0.44821763038635254,
          0.44821763038635254,
          0.44821763038635254,
          0.44821763038635254,
          0.44821763038635254,
          0.44821763038635254,
          0.44821763038635254,
          0.44821763038635254,
          0.44821763038635254,
          0.44821763038635254,
          0.44821763038635254,
          0.44821763038635254,
          0.44821763038635254,
          0.44821763038635254,
          0.44821763038635254,
          0.44821763038635254,
          0.44821763038635254,
          0.44821763038635254,
          0.44821763038635254,
          0.44821763038635254,
          0.44821763038635254,
          0.44821763038635254,
          0.44821763038635254,
          0.44821763038635254,
          0.44821763038635254,
          0.44821763038635254,
          0.44821763038635254,
          0.44821763038635254,
          0.44821763038635254,
          0.44821763038635254,
          0.44821763038635254,
          0.44821763038635254,
          0.44821763038635254,
          0.44821763038635254,
          0.44821763038635254,
          0.44821763038635254,
          0.44821763038635254,
          0.44821763038635254,
          0.44821763038635254,
          0.44821763038635254,
          0.44821763038635254,
          0.44821763038635254,
          0.44821763038635254,
          0.44821763038635254,
          0.44821763038635254,
          0.44821763038635254,
          0.44821763038635254,
          0.44821763038635254,
          0.44821763038635254,
          0.44821763038635254,
          0.44821763038635254,
          0.44821763038635254,
          0.44821763038635254,
          0.44821763038635254,
          0.44821763038635254,
          0.44821763038635254,
          0.44821763038635254,
          0.44821763038635254,
          0.44821763038635254,
          0.44821763038635254,
          0.44821763038635254,
          0.44821763038635254,
          0.44821763038635254,
          0.44821763038635254,
          0.44821763038635254,
          0.44821763038635254,
          0.44821763038635254,
          0.44821763038635254,
          0.44821763038635254,
          0.44821763038635254,
          0.44821763038635254,
          0.44821763038635254,
          0.44821763038635254,
          0.44821763038635254,
          0.44821763038635254,
          0.44821763038635254,
          0.44821763038635254,
          0.44821763038635254,
          0.44821763038635254,
          0.44821763038635254,
          0.44821763038635254,
          0.44821763038635254,
          0.44821763038635254,
          0.44821763038635254,
          0.44821763038635254,
          0.44821763038635254,
          0.44821763038635254,
          0.44821763038635254,
          0.44821763038635254,
          0.44821763038635254,
          0.44821763038635254,
          0.44821763038635254,
          0.44821763038635254,
          0.44821763038635254,
          0.44821763038635254,
          0.44821763038635254,
          0.44821763038635254,
          0.44821763038635254,
          0.44821763038635254,
          0.44821763038635254,
          0.44821763038635254,
          0.44821763038635254,
          0.44821763038635254,
          0.44821763038635254,
          0.44821763038635254,
          0.44821763038635254,
          0.44821763038635254,
          0.44821763038635254,
          0.44821763038635254,
          0.44821763038635254,
          0.44821763038635254,
          0.44821763038635254,
          0.44821763038635254,
          0.44821763038635254,
          0.44821763038635254,
          0.44821763038635254,
          0.44821763038635254,
          0.44821763038635254,
          0.44821763038635254,
          0.44821763038635254,
          0.44821763038635254,
          0.44821763038635254,
          0.44821763038635254,
          0.44821763038635254,
          0.44821763038635254,
          0.44821763038635254,
          0.44821763038635254,
          0.44821763038635254,
          0.44821763038635254,
          0.44821763038635254,
          0.44821763038635254,
          0.44821763038635254,
          0.44821763038635254,
          0.44821763038635254,
          0.44821763038635254,
          0.44821763038635254,
          0.44821763038635254,
          0.44821763038635254,
          0.44821763038635254,
          0.44821763038635254,
          0.44821763038635254,
          0.44821763038635254,
          0.44821763038635254,
          0.44821763038635254,
          0.44821763038635254,
          0.44821763038635254,
          0.44821763038635254,
          0.44821763038635254,
          0.44821763038635254,
          0.44821763038635254,
          0.44821763038635254,
          0.44821763038635254,
          0.44821763038635254,
          0.44821763038635254,
          0.44821763038635254,
          0.44821763038635254,
          0.44821763038635254,
          0.44821763038635254,
          0.44821763038635254,
          0.44821763038635254,
          0.44821763038635254,
          0.44821763038635254,
          0.44821763038635254,
          0.44821763038635254,
          0.44821763038635254,
          0.44821763038635254,
          0.44821763038635254,
          0.44821763038635254,
          0.44821763038635254,
          0.44821763038635254,
          0.44821763038635254,
          0.44821763038635254,
          0.44821763038635254,
          0.44821763038635254,
          0.44821763038635254,
          0.44821763038635254,
          0.44821763038635254,
          0.44821763038635254,
          0.44821763038635254,
          0.44821763038635254,
          0.44821763038635254,
          0.44821763038635254,
          0.44821763038635254,
          0.44821763038635254,
          0.44821763038635254,
          0.44821763038635254,
          0.44821763038635254,
          0.44821763038635254,
          0.44821763038635254,
          0.44821763038635254,
          0.44821763038635254,
          0.44821763038635254,
          0.44821763038635254,
          0.44821763038635254,
          0.44821763038635254,
          0.44821763038635254,
          0.44821763038635254,
          0.44821763038635254,
          0.44821763038635254,
          0.44821763038635254,
          0.44821763038635254,
          0.44821763038635254,
          0.44821763038635254,
          0.44821763038635254,
          0.44821763038635254,
          0.44821763038635254,
          0.44821763038635254,
          0.44821763038635254,
          0.44821763038635254,
          0.44821763038635254,
          0.44821763038635254,
          0.44821763038635254,
          0.44821763038635254,
          0.44821763038635254,
          0.44821763038635254,
          0.44821763038635254,
          0.44821763038635254,
          0.44821763038635254,
          0.44821763038635254,
          0.44821763038635254,
          0.44821763038635254,
          0.44821763038635254,
          0.44821763038635254,
          0.44821763038635254,
          0.44821763038635254,
          0.44821763038635254,
          0.44821763038635254,
          0.44821763038635254,
          0.44821763038635254,
          0.44821763038635254,
          0.44821763038635254,
          0.44821763038635254,
          0.44821763038635254,
          0.44821763038635254,
          0.44821763038635254,
          0.44821763038635254,
          0.44821763038635254,
          0.44821763038635254,
          0.44821763038635254,
          0.44821763038635254,
          0.44821763038635254,
          0.44821763038635254,
          0.44821763038635254,
          0.44821763038635254
         ]
        },
        {
         "marker": {
          "color": "#cccccc"
         },
         "mode": "markers",
         "name": "Infeasible Trial",
         "showlegend": false,
         "type": "scatter",
         "x": [],
         "y": []
        }
       ],
       "layout": {
        "template": {
         "data": {
          "bar": [
           {
            "error_x": {
             "color": "#2a3f5f"
            },
            "error_y": {
             "color": "#2a3f5f"
            },
            "marker": {
             "line": {
              "color": "#E5ECF6",
              "width": 0.5
             },
             "pattern": {
              "fillmode": "overlay",
              "size": 10,
              "solidity": 0.2
             }
            },
            "type": "bar"
           }
          ],
          "barpolar": [
           {
            "marker": {
             "line": {
              "color": "#E5ECF6",
              "width": 0.5
             },
             "pattern": {
              "fillmode": "overlay",
              "size": 10,
              "solidity": 0.2
             }
            },
            "type": "barpolar"
           }
          ],
          "carpet": [
           {
            "aaxis": {
             "endlinecolor": "#2a3f5f",
             "gridcolor": "white",
             "linecolor": "white",
             "minorgridcolor": "white",
             "startlinecolor": "#2a3f5f"
            },
            "baxis": {
             "endlinecolor": "#2a3f5f",
             "gridcolor": "white",
             "linecolor": "white",
             "minorgridcolor": "white",
             "startlinecolor": "#2a3f5f"
            },
            "type": "carpet"
           }
          ],
          "choropleth": [
           {
            "colorbar": {
             "outlinewidth": 0,
             "ticks": ""
            },
            "type": "choropleth"
           }
          ],
          "contour": [
           {
            "colorbar": {
             "outlinewidth": 0,
             "ticks": ""
            },
            "colorscale": [
             [
              0,
              "#0d0887"
             ],
             [
              0.1111111111111111,
              "#46039f"
             ],
             [
              0.2222222222222222,
              "#7201a8"
             ],
             [
              0.3333333333333333,
              "#9c179e"
             ],
             [
              0.4444444444444444,
              "#bd3786"
             ],
             [
              0.5555555555555556,
              "#d8576b"
             ],
             [
              0.6666666666666666,
              "#ed7953"
             ],
             [
              0.7777777777777778,
              "#fb9f3a"
             ],
             [
              0.8888888888888888,
              "#fdca26"
             ],
             [
              1,
              "#f0f921"
             ]
            ],
            "type": "contour"
           }
          ],
          "contourcarpet": [
           {
            "colorbar": {
             "outlinewidth": 0,
             "ticks": ""
            },
            "type": "contourcarpet"
           }
          ],
          "heatmap": [
           {
            "colorbar": {
             "outlinewidth": 0,
             "ticks": ""
            },
            "colorscale": [
             [
              0,
              "#0d0887"
             ],
             [
              0.1111111111111111,
              "#46039f"
             ],
             [
              0.2222222222222222,
              "#7201a8"
             ],
             [
              0.3333333333333333,
              "#9c179e"
             ],
             [
              0.4444444444444444,
              "#bd3786"
             ],
             [
              0.5555555555555556,
              "#d8576b"
             ],
             [
              0.6666666666666666,
              "#ed7953"
             ],
             [
              0.7777777777777778,
              "#fb9f3a"
             ],
             [
              0.8888888888888888,
              "#fdca26"
             ],
             [
              1,
              "#f0f921"
             ]
            ],
            "type": "heatmap"
           }
          ],
          "heatmapgl": [
           {
            "colorbar": {
             "outlinewidth": 0,
             "ticks": ""
            },
            "colorscale": [
             [
              0,
              "#0d0887"
             ],
             [
              0.1111111111111111,
              "#46039f"
             ],
             [
              0.2222222222222222,
              "#7201a8"
             ],
             [
              0.3333333333333333,
              "#9c179e"
             ],
             [
              0.4444444444444444,
              "#bd3786"
             ],
             [
              0.5555555555555556,
              "#d8576b"
             ],
             [
              0.6666666666666666,
              "#ed7953"
             ],
             [
              0.7777777777777778,
              "#fb9f3a"
             ],
             [
              0.8888888888888888,
              "#fdca26"
             ],
             [
              1,
              "#f0f921"
             ]
            ],
            "type": "heatmapgl"
           }
          ],
          "histogram": [
           {
            "marker": {
             "pattern": {
              "fillmode": "overlay",
              "size": 10,
              "solidity": 0.2
             }
            },
            "type": "histogram"
           }
          ],
          "histogram2d": [
           {
            "colorbar": {
             "outlinewidth": 0,
             "ticks": ""
            },
            "colorscale": [
             [
              0,
              "#0d0887"
             ],
             [
              0.1111111111111111,
              "#46039f"
             ],
             [
              0.2222222222222222,
              "#7201a8"
             ],
             [
              0.3333333333333333,
              "#9c179e"
             ],
             [
              0.4444444444444444,
              "#bd3786"
             ],
             [
              0.5555555555555556,
              "#d8576b"
             ],
             [
              0.6666666666666666,
              "#ed7953"
             ],
             [
              0.7777777777777778,
              "#fb9f3a"
             ],
             [
              0.8888888888888888,
              "#fdca26"
             ],
             [
              1,
              "#f0f921"
             ]
            ],
            "type": "histogram2d"
           }
          ],
          "histogram2dcontour": [
           {
            "colorbar": {
             "outlinewidth": 0,
             "ticks": ""
            },
            "colorscale": [
             [
              0,
              "#0d0887"
             ],
             [
              0.1111111111111111,
              "#46039f"
             ],
             [
              0.2222222222222222,
              "#7201a8"
             ],
             [
              0.3333333333333333,
              "#9c179e"
             ],
             [
              0.4444444444444444,
              "#bd3786"
             ],
             [
              0.5555555555555556,
              "#d8576b"
             ],
             [
              0.6666666666666666,
              "#ed7953"
             ],
             [
              0.7777777777777778,
              "#fb9f3a"
             ],
             [
              0.8888888888888888,
              "#fdca26"
             ],
             [
              1,
              "#f0f921"
             ]
            ],
            "type": "histogram2dcontour"
           }
          ],
          "mesh3d": [
           {
            "colorbar": {
             "outlinewidth": 0,
             "ticks": ""
            },
            "type": "mesh3d"
           }
          ],
          "parcoords": [
           {
            "line": {
             "colorbar": {
              "outlinewidth": 0,
              "ticks": ""
             }
            },
            "type": "parcoords"
           }
          ],
          "pie": [
           {
            "automargin": true,
            "type": "pie"
           }
          ],
          "scatter": [
           {
            "fillpattern": {
             "fillmode": "overlay",
             "size": 10,
             "solidity": 0.2
            },
            "type": "scatter"
           }
          ],
          "scatter3d": [
           {
            "line": {
             "colorbar": {
              "outlinewidth": 0,
              "ticks": ""
             }
            },
            "marker": {
             "colorbar": {
              "outlinewidth": 0,
              "ticks": ""
             }
            },
            "type": "scatter3d"
           }
          ],
          "scattercarpet": [
           {
            "marker": {
             "colorbar": {
              "outlinewidth": 0,
              "ticks": ""
             }
            },
            "type": "scattercarpet"
           }
          ],
          "scattergeo": [
           {
            "marker": {
             "colorbar": {
              "outlinewidth": 0,
              "ticks": ""
             }
            },
            "type": "scattergeo"
           }
          ],
          "scattergl": [
           {
            "marker": {
             "colorbar": {
              "outlinewidth": 0,
              "ticks": ""
             }
            },
            "type": "scattergl"
           }
          ],
          "scattermapbox": [
           {
            "marker": {
             "colorbar": {
              "outlinewidth": 0,
              "ticks": ""
             }
            },
            "type": "scattermapbox"
           }
          ],
          "scatterpolar": [
           {
            "marker": {
             "colorbar": {
              "outlinewidth": 0,
              "ticks": ""
             }
            },
            "type": "scatterpolar"
           }
          ],
          "scatterpolargl": [
           {
            "marker": {
             "colorbar": {
              "outlinewidth": 0,
              "ticks": ""
             }
            },
            "type": "scatterpolargl"
           }
          ],
          "scatterternary": [
           {
            "marker": {
             "colorbar": {
              "outlinewidth": 0,
              "ticks": ""
             }
            },
            "type": "scatterternary"
           }
          ],
          "surface": [
           {
            "colorbar": {
             "outlinewidth": 0,
             "ticks": ""
            },
            "colorscale": [
             [
              0,
              "#0d0887"
             ],
             [
              0.1111111111111111,
              "#46039f"
             ],
             [
              0.2222222222222222,
              "#7201a8"
             ],
             [
              0.3333333333333333,
              "#9c179e"
             ],
             [
              0.4444444444444444,
              "#bd3786"
             ],
             [
              0.5555555555555556,
              "#d8576b"
             ],
             [
              0.6666666666666666,
              "#ed7953"
             ],
             [
              0.7777777777777778,
              "#fb9f3a"
             ],
             [
              0.8888888888888888,
              "#fdca26"
             ],
             [
              1,
              "#f0f921"
             ]
            ],
            "type": "surface"
           }
          ],
          "table": [
           {
            "cells": {
             "fill": {
              "color": "#EBF0F8"
             },
             "line": {
              "color": "white"
             }
            },
            "header": {
             "fill": {
              "color": "#C8D4E3"
             },
             "line": {
              "color": "white"
             }
            },
            "type": "table"
           }
          ]
         },
         "layout": {
          "annotationdefaults": {
           "arrowcolor": "#2a3f5f",
           "arrowhead": 0,
           "arrowwidth": 1
          },
          "autotypenumbers": "strict",
          "coloraxis": {
           "colorbar": {
            "outlinewidth": 0,
            "ticks": ""
           }
          },
          "colorscale": {
           "diverging": [
            [
             0,
             "#8e0152"
            ],
            [
             0.1,
             "#c51b7d"
            ],
            [
             0.2,
             "#de77ae"
            ],
            [
             0.3,
             "#f1b6da"
            ],
            [
             0.4,
             "#fde0ef"
            ],
            [
             0.5,
             "#f7f7f7"
            ],
            [
             0.6,
             "#e6f5d0"
            ],
            [
             0.7,
             "#b8e186"
            ],
            [
             0.8,
             "#7fbc41"
            ],
            [
             0.9,
             "#4d9221"
            ],
            [
             1,
             "#276419"
            ]
           ],
           "sequential": [
            [
             0,
             "#0d0887"
            ],
            [
             0.1111111111111111,
             "#46039f"
            ],
            [
             0.2222222222222222,
             "#7201a8"
            ],
            [
             0.3333333333333333,
             "#9c179e"
            ],
            [
             0.4444444444444444,
             "#bd3786"
            ],
            [
             0.5555555555555556,
             "#d8576b"
            ],
            [
             0.6666666666666666,
             "#ed7953"
            ],
            [
             0.7777777777777778,
             "#fb9f3a"
            ],
            [
             0.8888888888888888,
             "#fdca26"
            ],
            [
             1,
             "#f0f921"
            ]
           ],
           "sequentialminus": [
            [
             0,
             "#0d0887"
            ],
            [
             0.1111111111111111,
             "#46039f"
            ],
            [
             0.2222222222222222,
             "#7201a8"
            ],
            [
             0.3333333333333333,
             "#9c179e"
            ],
            [
             0.4444444444444444,
             "#bd3786"
            ],
            [
             0.5555555555555556,
             "#d8576b"
            ],
            [
             0.6666666666666666,
             "#ed7953"
            ],
            [
             0.7777777777777778,
             "#fb9f3a"
            ],
            [
             0.8888888888888888,
             "#fdca26"
            ],
            [
             1,
             "#f0f921"
            ]
           ]
          },
          "colorway": [
           "#636efa",
           "#EF553B",
           "#00cc96",
           "#ab63fa",
           "#FFA15A",
           "#19d3f3",
           "#FF6692",
           "#B6E880",
           "#FF97FF",
           "#FECB52"
          ],
          "font": {
           "color": "#2a3f5f"
          },
          "geo": {
           "bgcolor": "white",
           "lakecolor": "white",
           "landcolor": "#E5ECF6",
           "showlakes": true,
           "showland": true,
           "subunitcolor": "white"
          },
          "hoverlabel": {
           "align": "left"
          },
          "hovermode": "closest",
          "mapbox": {
           "style": "light"
          },
          "paper_bgcolor": "white",
          "plot_bgcolor": "#E5ECF6",
          "polar": {
           "angularaxis": {
            "gridcolor": "white",
            "linecolor": "white",
            "ticks": ""
           },
           "bgcolor": "#E5ECF6",
           "radialaxis": {
            "gridcolor": "white",
            "linecolor": "white",
            "ticks": ""
           }
          },
          "scene": {
           "xaxis": {
            "backgroundcolor": "#E5ECF6",
            "gridcolor": "white",
            "gridwidth": 2,
            "linecolor": "white",
            "showbackground": true,
            "ticks": "",
            "zerolinecolor": "white"
           },
           "yaxis": {
            "backgroundcolor": "#E5ECF6",
            "gridcolor": "white",
            "gridwidth": 2,
            "linecolor": "white",
            "showbackground": true,
            "ticks": "",
            "zerolinecolor": "white"
           },
           "zaxis": {
            "backgroundcolor": "#E5ECF6",
            "gridcolor": "white",
            "gridwidth": 2,
            "linecolor": "white",
            "showbackground": true,
            "ticks": "",
            "zerolinecolor": "white"
           }
          },
          "shapedefaults": {
           "line": {
            "color": "#2a3f5f"
           }
          },
          "ternary": {
           "aaxis": {
            "gridcolor": "white",
            "linecolor": "white",
            "ticks": ""
           },
           "baxis": {
            "gridcolor": "white",
            "linecolor": "white",
            "ticks": ""
           },
           "bgcolor": "#E5ECF6",
           "caxis": {
            "gridcolor": "white",
            "linecolor": "white",
            "ticks": ""
           }
          },
          "title": {
           "x": 0.05
          },
          "xaxis": {
           "automargin": true,
           "gridcolor": "white",
           "linecolor": "white",
           "ticks": "",
           "title": {
            "standoff": 15
           },
           "zerolinecolor": "white",
           "zerolinewidth": 2
          },
          "yaxis": {
           "automargin": true,
           "gridcolor": "white",
           "linecolor": "white",
           "ticks": "",
           "title": {
            "standoff": 15
           },
           "zerolinecolor": "white",
           "zerolinewidth": 2
          }
         }
        },
        "title": {
         "text": "Optimization History Plot"
        },
        "xaxis": {
         "title": {
          "text": "Trial"
         }
        },
        "yaxis": {
         "title": {
          "text": "Objective Value"
         }
        }
       }
      }
     },
     "metadata": {},
     "output_type": "display_data"
    }
   ],
   "source": [
    "if is_multi_objective:\n",
    "    fig = vis.plot_optimization_history(study, target=lambda t: t.values[1], target_name='Accuracy')\n",
    "else:\n",
    "    fig = vis.plot_optimization_history(study)\n",
    "fig.show()"
   ]
  },
  {
   "cell_type": "code",
   "execution_count": 33,
   "metadata": {},
   "outputs": [],
   "source": [
    "if is_multi_objective:\n",
    "    fig = vis.plot_slice(study, target=lambda t: t.values[0], target_name='Loss')\n",
    "    fig.show()"
   ]
  },
  {
   "cell_type": "code",
   "execution_count": 34,
   "metadata": {},
   "outputs": [
    {
     "data": {
      "application/vnd.plotly.v1+json": {
       "config": {
        "plotlyServerURL": "https://plot.ly"
       },
       "data": [
        {
         "marker": {
          "color": [
           0,
           1,
           2,
           3,
           4,
           19,
           41,
           51,
           63,
           72,
           73,
           75,
           76,
           79,
           80,
           81,
           82,
           83,
           85,
           91,
           94,
           96,
           97,
           108,
           111,
           121,
           124,
           127,
           130,
           138,
           140,
           141,
           142,
           143,
           146,
           152,
           153,
           154,
           155,
           158,
           161,
           164,
           165,
           166,
           170,
           171,
           172,
           173,
           179,
           181,
           184,
           185,
           186,
           192,
           193,
           198,
           201,
           202,
           203,
           221,
           222,
           223,
           225,
           229,
           235,
           244
          ],
          "colorbar": {
           "title": {
            "text": "Trial"
           },
           "x": 1,
           "xpad": 40
          },
          "colorscale": [
           [
            0,
            "rgb(247,251,255)"
           ],
           [
            0.125,
            "rgb(222,235,247)"
           ],
           [
            0.25,
            "rgb(198,219,239)"
           ],
           [
            0.375,
            "rgb(158,202,225)"
           ],
           [
            0.5,
            "rgb(107,174,214)"
           ],
           [
            0.625,
            "rgb(66,146,198)"
           ],
           [
            0.75,
            "rgb(33,113,181)"
           ],
           [
            0.875,
            "rgb(8,81,156)"
           ],
           [
            1,
            "rgb(8,48,107)"
           ]
          ],
          "line": {
           "color": "Grey",
           "width": 0.5
          },
          "showscale": true
         },
         "mode": "markers",
         "name": "Feasible Trial",
         "showlegend": false,
         "type": "scatter",
         "x": [
          52,
          74,
          247,
          197,
          215,
          167,
          48,
          166,
          187,
          147,
          142,
          129,
          130,
          145,
          108,
          104,
          102,
          99,
          88,
          118,
          131,
          69,
          69,
          86,
          89,
          87,
          77,
          81,
          83,
          70,
          66,
          65,
          68,
          66,
          78,
          77,
          65,
          51,
          66,
          62,
          68,
          50,
          49,
          46,
          37,
          55,
          54,
          37,
          33,
          33,
          46,
          33,
          47,
          39,
          39,
          44,
          44,
          52,
          53,
          47,
          40,
          33,
          37,
          43,
          37,
          61
         ],
         "xaxis": "x",
         "y": [
          0.4879089295864105,
          0.5672515034675598,
          0.560749888420105,
          0.44821763038635254,
          0.5045685172080994,
          0.5697219967842102,
          0.578203558921814,
          0.574491560459137,
          0.5314644575119019,
          0.5379295945167542,
          0.4886399209499359,
          0.4909379780292511,
          0.4813862144947052,
          0.4968000650405884,
          0.5032088756561279,
          0.47600555419921875,
          0.4763811528682709,
          0.4996483027935028,
          0.47884809970855713,
          0.48401597142219543,
          0.5076932311058044,
          0.4612117111682892,
          0.4648953974246979,
          0.4951868951320648,
          0.4812987744808197,
          0.4924582242965698,
          0.482191801071167,
          0.4764247238636017,
          0.4775679409503937,
          0.47390732169151306,
          0.4646214544773102,
          0.4699059724807739,
          0.48980513215065,
          0.4686500132083893,
          0.4704664945602417,
          0.48622438311576843,
          0.4761626422405243,
          0.48252376914024353,
          0.46688708662986755,
          0.4649735689163208,
          0.4717423915863037,
          0.46205344796180725,
          0.4734184443950653,
          0.4636876583099365,
          0.4665796756744385,
          0.4617014229297638,
          0.5022556185722351,
          0.4868064820766449,
          0.4566989243030548,
          0.4592321813106537,
          0.4734993278980255,
          0.4975760281085968,
          0.49869123101234436,
          0.4503686726093292,
          0.4521959722042084,
          0.4705774486064911,
          0.5106508135795593,
          0.46640074253082275,
          0.4614346921443939,
          0.46880772709846497,
          0.4940810203552246,
          0.46142616868019104,
          0.4680081605911255,
          0.45741668343544006,
          0.4775347411632538,
          0.4892672598361969
         ],
         "yaxis": "y"
        },
        {
         "marker": {
          "color": [
           0,
           1,
           2,
           3,
           4,
           19,
           41,
           51,
           63,
           72,
           73,
           75,
           76,
           79,
           80,
           81,
           82,
           83,
           85,
           91,
           94,
           96,
           97,
           108,
           111,
           121,
           124,
           127,
           130,
           138,
           140,
           141,
           142,
           143,
           146,
           152,
           153,
           154,
           155,
           158,
           161,
           164,
           165,
           166,
           170,
           171,
           172,
           173,
           179,
           181,
           184,
           185,
           186,
           192,
           193,
           198,
           201,
           202,
           203,
           221,
           222,
           223,
           225,
           229,
           235,
           244
          ],
          "colorbar": {
           "title": {
            "text": "Trial"
           },
           "x": 1,
           "xpad": 40
          },
          "colorscale": [
           [
            0,
            "rgb(247,251,255)"
           ],
           [
            0.125,
            "rgb(222,235,247)"
           ],
           [
            0.25,
            "rgb(198,219,239)"
           ],
           [
            0.375,
            "rgb(158,202,225)"
           ],
           [
            0.5,
            "rgb(107,174,214)"
           ],
           [
            0.625,
            "rgb(66,146,198)"
           ],
           [
            0.75,
            "rgb(33,113,181)"
           ],
           [
            0.875,
            "rgb(8,81,156)"
           ],
           [
            1,
            "rgb(8,48,107)"
           ]
          ],
          "line": {
           "color": "Grey",
           "width": 0.5
          },
          "showscale": false
         },
         "mode": "markers",
         "name": "Feasible Trial",
         "showlegend": false,
         "type": "scatter",
         "x": [
          0.8898859239123407,
          0.8389150936481796,
          0.8093837952014711,
          0.8809122932625301,
          0.9337293907683221,
          0.8650187084974075,
          0.8145331751915494,
          0.8644988111279301,
          0.8709929627360523,
          0.8695112530394853,
          0.870408577983321,
          0.8989458030063212,
          0.8894753365583185,
          0.8806234898804569,
          0.8825095167038259,
          0.8822588097400964,
          0.8806069051335418,
          0.8810614842616913,
          0.8789281883276414,
          0.880869693246886,
          0.876700757039572,
          0.8932193988931693,
          0.9060725478139832,
          0.8987391151428508,
          0.899818528378083,
          0.8989366689340796,
          0.8959758005540677,
          0.886719548506961,
          0.8782741873589227,
          0.8809918361131497,
          0.881653174556144,
          0.8824830838774701,
          0.8820830326262632,
          0.8794245322906878,
          0.8952288657031404,
          0.8926460623526002,
          0.8955697475480215,
          0.8841011193710994,
          0.875654889692158,
          0.8684777441799665,
          0.8594591001445733,
          0.8613746167339851,
          0.8598997699723592,
          0.8561946360726876,
          0.8534448575136105,
          0.8625709965757357,
          0.8540400983361293,
          0.8623024913945387,
          0.8508491685042994,
          0.8560461421116041,
          0.8354899766802147,
          0.8477167114448668,
          0.8611481291397436,
          0.8639776153359914,
          0.8634250451012546,
          0.8398139170889002,
          0.8540052259603608,
          0.8350289471745649,
          0.8330827673641711,
          0.8337655489016531,
          0.8329877341747526,
          0.847364033110147,
          0.8402265673737632,
          0.8428086551648006,
          0.8443100240847973,
          0.8497790470474416
         ],
         "xaxis": "x2",
         "y": [
          0.4879089295864105,
          0.5672515034675598,
          0.560749888420105,
          0.44821763038635254,
          0.5045685172080994,
          0.5697219967842102,
          0.578203558921814,
          0.574491560459137,
          0.5314644575119019,
          0.5379295945167542,
          0.4886399209499359,
          0.4909379780292511,
          0.4813862144947052,
          0.4968000650405884,
          0.5032088756561279,
          0.47600555419921875,
          0.4763811528682709,
          0.4996483027935028,
          0.47884809970855713,
          0.48401597142219543,
          0.5076932311058044,
          0.4612117111682892,
          0.4648953974246979,
          0.4951868951320648,
          0.4812987744808197,
          0.4924582242965698,
          0.482191801071167,
          0.4764247238636017,
          0.4775679409503937,
          0.47390732169151306,
          0.4646214544773102,
          0.4699059724807739,
          0.48980513215065,
          0.4686500132083893,
          0.4704664945602417,
          0.48622438311576843,
          0.4761626422405243,
          0.48252376914024353,
          0.46688708662986755,
          0.4649735689163208,
          0.4717423915863037,
          0.46205344796180725,
          0.4734184443950653,
          0.4636876583099365,
          0.4665796756744385,
          0.4617014229297638,
          0.5022556185722351,
          0.4868064820766449,
          0.4566989243030548,
          0.4592321813106537,
          0.4734993278980255,
          0.4975760281085968,
          0.49869123101234436,
          0.4503686726093292,
          0.4521959722042084,
          0.4705774486064911,
          0.5106508135795593,
          0.46640074253082275,
          0.4614346921443939,
          0.46880772709846497,
          0.4940810203552246,
          0.46142616868019104,
          0.4680081605911255,
          0.45741668343544006,
          0.4775347411632538,
          0.4892672598361969
         ],
         "yaxis": "y2"
        },
        {
         "marker": {
          "color": [
           0,
           1,
           2,
           3,
           4,
           19,
           41,
           51,
           63,
           72,
           73,
           75,
           76,
           79,
           80,
           81,
           82,
           83,
           85,
           91,
           94,
           96,
           97,
           108,
           111,
           121,
           124,
           127,
           130,
           138,
           140,
           141,
           142,
           143,
           146,
           152,
           153,
           154,
           155,
           158,
           161,
           164,
           165,
           166,
           170,
           171,
           172,
           173,
           179,
           181,
           184,
           185,
           186,
           192,
           193,
           198,
           201,
           202,
           203,
           221,
           222,
           223,
           225,
           229,
           235,
           244
          ],
          "colorbar": {
           "title": {
            "text": "Trial"
           },
           "x": 1,
           "xpad": 40
          },
          "colorscale": [
           [
            0,
            "rgb(247,251,255)"
           ],
           [
            0.125,
            "rgb(222,235,247)"
           ],
           [
            0.25,
            "rgb(198,219,239)"
           ],
           [
            0.375,
            "rgb(158,202,225)"
           ],
           [
            0.5,
            "rgb(107,174,214)"
           ],
           [
            0.625,
            "rgb(66,146,198)"
           ],
           [
            0.75,
            "rgb(33,113,181)"
           ],
           [
            0.875,
            "rgb(8,81,156)"
           ],
           [
            1,
            "rgb(8,48,107)"
           ]
          ],
          "line": {
           "color": "Grey",
           "width": 0.5
          },
          "showscale": false
         },
         "mode": "markers",
         "name": "Feasible Trial",
         "showlegend": false,
         "type": "scatter",
         "x": [
          0.5728491471393109,
          0.7934327242304123,
          0.5601291065315908,
          0.9577746389051253,
          0.778099758052956,
          0.6877089484319181,
          0.7502016115578417,
          0.6202293905707045,
          0.5986935007970083,
          0.6261384966434171,
          0.6571510130966027,
          0.6265637490699152,
          0.6249138770733138,
          0.6754457856418871,
          0.6645500487416456,
          0.6731824192200622,
          0.6662730593116528,
          0.6643279380736662,
          0.6744061410837913,
          0.6499752372278316,
          0.7143209878486505,
          0.6923370100421581,
          0.6949045682712424,
          0.669645911266733,
          0.6714561253692269,
          0.6648547545164751,
          0.6341658025444282,
          0.6097783356935567,
          0.6189321387170976,
          0.9457778067973787,
          0.9778203787064007,
          0.980709604990402,
          0.9476079860231266,
          0.9724567438669914,
          0.9790927556659367,
          0.9167632237634075,
          0.9397855832664797,
          0.9563070107562208,
          0.9930594529479866,
          0.9729704021601164,
          0.9781192386367566,
          0.9746775474706934,
          0.9974290418811522,
          0.9748698864817635,
          0.9721001081769027,
          0.975029847667198,
          0.9709334684694533,
          0.9867701393781679,
          0.9578207227096011,
          0.9774056416288758,
          0.9653516088013022,
          0.9606179190411432,
          0.9746940167428051,
          0.9696247410962365,
          0.9706242103961714,
          0.9780333811750928,
          0.9667539928716289,
          0.9530293889606496,
          0.9515093054890218,
          0.9631550496459712,
          0.96095161794701,
          0.9752608395125915,
          0.971609396223449,
          0.9430976393334736,
          0.9537529828225076,
          0.9503455688155683
         ],
         "xaxis": "x3",
         "y": [
          0.4879089295864105,
          0.5672515034675598,
          0.560749888420105,
          0.44821763038635254,
          0.5045685172080994,
          0.5697219967842102,
          0.578203558921814,
          0.574491560459137,
          0.5314644575119019,
          0.5379295945167542,
          0.4886399209499359,
          0.4909379780292511,
          0.4813862144947052,
          0.4968000650405884,
          0.5032088756561279,
          0.47600555419921875,
          0.4763811528682709,
          0.4996483027935028,
          0.47884809970855713,
          0.48401597142219543,
          0.5076932311058044,
          0.4612117111682892,
          0.4648953974246979,
          0.4951868951320648,
          0.4812987744808197,
          0.4924582242965698,
          0.482191801071167,
          0.4764247238636017,
          0.4775679409503937,
          0.47390732169151306,
          0.4646214544773102,
          0.4699059724807739,
          0.48980513215065,
          0.4686500132083893,
          0.4704664945602417,
          0.48622438311576843,
          0.4761626422405243,
          0.48252376914024353,
          0.46688708662986755,
          0.4649735689163208,
          0.4717423915863037,
          0.46205344796180725,
          0.4734184443950653,
          0.4636876583099365,
          0.4665796756744385,
          0.4617014229297638,
          0.5022556185722351,
          0.4868064820766449,
          0.4566989243030548,
          0.4592321813106537,
          0.4734993278980255,
          0.4975760281085968,
          0.49869123101234436,
          0.4503686726093292,
          0.4521959722042084,
          0.4705774486064911,
          0.5106508135795593,
          0.46640074253082275,
          0.4614346921443939,
          0.46880772709846497,
          0.4940810203552246,
          0.46142616868019104,
          0.4680081605911255,
          0.45741668343544006,
          0.4775347411632538,
          0.4892672598361969
         ],
         "yaxis": "y3"
        },
        {
         "marker": {
          "color": [
           0,
           1,
           2,
           3,
           4,
           19,
           41,
           51,
           63,
           72,
           73,
           75,
           76,
           79,
           80,
           81,
           82,
           83,
           85,
           91,
           94,
           96,
           97,
           108,
           111,
           121,
           124,
           127,
           130,
           138,
           140,
           141,
           142,
           143,
           146,
           152,
           153,
           154,
           155,
           158,
           161,
           164,
           165,
           166,
           170,
           171,
           172,
           173,
           179,
           181,
           184,
           185,
           186,
           192,
           193,
           198,
           201,
           202,
           203,
           221,
           222,
           223,
           225,
           229,
           235,
           244
          ],
          "colorbar": {
           "title": {
            "text": "Trial"
           },
           "x": 1,
           "xpad": 40
          },
          "colorscale": [
           [
            0,
            "rgb(247,251,255)"
           ],
           [
            0.125,
            "rgb(222,235,247)"
           ],
           [
            0.25,
            "rgb(198,219,239)"
           ],
           [
            0.375,
            "rgb(158,202,225)"
           ],
           [
            0.5,
            "rgb(107,174,214)"
           ],
           [
            0.625,
            "rgb(66,146,198)"
           ],
           [
            0.75,
            "rgb(33,113,181)"
           ],
           [
            0.875,
            "rgb(8,81,156)"
           ],
           [
            1,
            "rgb(8,48,107)"
           ]
          ],
          "line": {
           "color": "Grey",
           "width": 0.5
          },
          "showscale": false
         },
         "mode": "markers",
         "name": "Feasible Trial",
         "showlegend": false,
         "type": "scatter",
         "x": [
          0.02062453290547389,
          0.016724551044683955,
          0.36047767210156867,
          0.26129272058809466,
          0.16556508297778638,
          0.060710004498974124,
          0.06112941273801048,
          0.00039200384542165123,
          0.059582869716186884,
          0.08518469436412836,
          0.0969970291764401,
          0.10887525602968834,
          0.10867381898771283,
          0.1107074129880381,
          0.09792985577414784,
          0.11089304423442455,
          0.10931241470083569,
          0.11721292402215927,
          0.11633262407941708,
          0.11771679417582477,
          0.18068093886673642,
          0.26320954045637446,
          0.24545326611880408,
          0.1205291245477949,
          0.12452813150339943,
          0.11602737331186272,
          0.11667782995180555,
          0.12962930670043232,
          0.15627993692527756,
          0.1129309772642039,
          0.1181210149097282,
          0.1162800933204597,
          0.118916884238076,
          0.11362264547522015,
          0.10932618306134738,
          0.08523573533712694,
          0.09968968641648526,
          0.09613387632161413,
          0.10414802939623977,
          0.0815789154369283,
          0.10534702287472457,
          0.07770438978068123,
          0.08606250410407174,
          0.07733899359148505,
          0.084300321766689,
          0.08379322285801058,
          0.07920973550313941,
          0.08962885552022874,
          0.09287985838424048,
          0.38785066277597946,
          0.42605087174952605,
          0.37809303051192983,
          0.4558962343505016,
          0.08352102556834058,
          0.41777462986463015,
          0.42488969536054594,
          0.42556004057311964,
          0.4335636463891511,
          0.07746439877116046,
          0.42718576208483794,
          0.4346590372395869,
          0.4237338584740908,
          0.41849743249543087,
          0.4458399708448701,
          0.37324980973910094,
          0.46095066977030336
         ],
         "xaxis": "x4",
         "y": [
          0.4879089295864105,
          0.5672515034675598,
          0.560749888420105,
          0.44821763038635254,
          0.5045685172080994,
          0.5697219967842102,
          0.578203558921814,
          0.574491560459137,
          0.5314644575119019,
          0.5379295945167542,
          0.4886399209499359,
          0.4909379780292511,
          0.4813862144947052,
          0.4968000650405884,
          0.5032088756561279,
          0.47600555419921875,
          0.4763811528682709,
          0.4996483027935028,
          0.47884809970855713,
          0.48401597142219543,
          0.5076932311058044,
          0.4612117111682892,
          0.4648953974246979,
          0.4951868951320648,
          0.4812987744808197,
          0.4924582242965698,
          0.482191801071167,
          0.4764247238636017,
          0.4775679409503937,
          0.47390732169151306,
          0.4646214544773102,
          0.4699059724807739,
          0.48980513215065,
          0.4686500132083893,
          0.4704664945602417,
          0.48622438311576843,
          0.4761626422405243,
          0.48252376914024353,
          0.46688708662986755,
          0.4649735689163208,
          0.4717423915863037,
          0.46205344796180725,
          0.4734184443950653,
          0.4636876583099365,
          0.4665796756744385,
          0.4617014229297638,
          0.5022556185722351,
          0.4868064820766449,
          0.4566989243030548,
          0.4592321813106537,
          0.4734993278980255,
          0.4975760281085968,
          0.49869123101234436,
          0.4503686726093292,
          0.4521959722042084,
          0.4705774486064911,
          0.5106508135795593,
          0.46640074253082275,
          0.4614346921443939,
          0.46880772709846497,
          0.4940810203552246,
          0.46142616868019104,
          0.4680081605911255,
          0.45741668343544006,
          0.4775347411632538,
          0.4892672598361969
         ],
         "yaxis": "y4"
        },
        {
         "marker": {
          "color": [
           0,
           1,
           2,
           3,
           4,
           19,
           41,
           51,
           63,
           72,
           73,
           75,
           76,
           79,
           80,
           81,
           82,
           83,
           85,
           91,
           94,
           96,
           97,
           108,
           111,
           121,
           124,
           127,
           130,
           138,
           140,
           141,
           142,
           143,
           146,
           152,
           153,
           154,
           155,
           158,
           161,
           164,
           165,
           166,
           170,
           171,
           172,
           173,
           179,
           181,
           184,
           185,
           186,
           192,
           193,
           198,
           201,
           202,
           203,
           221,
           222,
           223,
           225,
           229,
           235,
           244
          ],
          "colorbar": {
           "title": {
            "text": "Trial"
           },
           "x": 1,
           "xpad": 40
          },
          "colorscale": [
           [
            0,
            "rgb(247,251,255)"
           ],
           [
            0.125,
            "rgb(222,235,247)"
           ],
           [
            0.25,
            "rgb(198,219,239)"
           ],
           [
            0.375,
            "rgb(158,202,225)"
           ],
           [
            0.5,
            "rgb(107,174,214)"
           ],
           [
            0.625,
            "rgb(66,146,198)"
           ],
           [
            0.75,
            "rgb(33,113,181)"
           ],
           [
            0.875,
            "rgb(8,81,156)"
           ],
           [
            1,
            "rgb(8,48,107)"
           ]
          ],
          "line": {
           "color": "Grey",
           "width": 0.5
          },
          "showscale": false
         },
         "mode": "markers",
         "name": "Feasible Trial",
         "showlegend": false,
         "type": "scatter",
         "x": [
          12,
          4,
          10,
          12,
          10,
          3,
          3,
          3,
          4,
          3,
          8,
          8,
          8,
          7,
          7,
          7,
          7,
          7,
          6,
          7,
          6,
          7,
          8,
          6,
          6,
          6,
          6,
          6,
          6,
          7,
          7,
          7,
          7,
          7,
          7,
          6,
          7,
          7,
          7,
          7,
          7,
          7,
          7,
          7,
          7,
          7,
          7,
          7,
          7,
          7,
          7,
          7,
          7,
          7,
          7,
          7,
          7,
          7,
          7,
          7,
          7,
          7,
          7,
          7,
          7,
          7
         ],
         "xaxis": "x5",
         "y": [
          0.4879089295864105,
          0.5672515034675598,
          0.560749888420105,
          0.44821763038635254,
          0.5045685172080994,
          0.5697219967842102,
          0.578203558921814,
          0.574491560459137,
          0.5314644575119019,
          0.5379295945167542,
          0.4886399209499359,
          0.4909379780292511,
          0.4813862144947052,
          0.4968000650405884,
          0.5032088756561279,
          0.47600555419921875,
          0.4763811528682709,
          0.4996483027935028,
          0.47884809970855713,
          0.48401597142219543,
          0.5076932311058044,
          0.4612117111682892,
          0.4648953974246979,
          0.4951868951320648,
          0.4812987744808197,
          0.4924582242965698,
          0.482191801071167,
          0.4764247238636017,
          0.4775679409503937,
          0.47390732169151306,
          0.4646214544773102,
          0.4699059724807739,
          0.48980513215065,
          0.4686500132083893,
          0.4704664945602417,
          0.48622438311576843,
          0.4761626422405243,
          0.48252376914024353,
          0.46688708662986755,
          0.4649735689163208,
          0.4717423915863037,
          0.46205344796180725,
          0.4734184443950653,
          0.4636876583099365,
          0.4665796756744385,
          0.4617014229297638,
          0.5022556185722351,
          0.4868064820766449,
          0.4566989243030548,
          0.4592321813106537,
          0.4734993278980255,
          0.4975760281085968,
          0.49869123101234436,
          0.4503686726093292,
          0.4521959722042084,
          0.4705774486064911,
          0.5106508135795593,
          0.46640074253082275,
          0.4614346921443939,
          0.46880772709846497,
          0.4940810203552246,
          0.46142616868019104,
          0.4680081605911255,
          0.45741668343544006,
          0.4775347411632538,
          0.4892672598361969
         ],
         "yaxis": "y5"
        },
        {
         "marker": {
          "color": [
           0,
           1,
           2,
           3,
           4,
           19,
           41,
           51,
           63,
           72,
           73,
           75,
           76,
           79,
           80,
           81,
           82,
           83,
           85,
           91,
           94,
           96,
           97,
           108,
           111,
           121,
           124,
           127,
           130,
           138,
           140,
           141,
           142,
           143,
           146,
           152,
           153,
           154,
           155,
           158,
           161,
           164,
           165,
           166,
           170,
           171,
           172,
           173,
           179,
           181,
           184,
           185,
           186,
           192,
           193,
           198,
           201,
           202,
           203,
           221,
           222,
           223,
           225,
           229,
           235,
           244
          ],
          "colorbar": {
           "title": {
            "text": "Trial"
           },
           "x": 1,
           "xpad": 40
          },
          "colorscale": [
           [
            0,
            "rgb(247,251,255)"
           ],
           [
            0.125,
            "rgb(222,235,247)"
           ],
           [
            0.25,
            "rgb(198,219,239)"
           ],
           [
            0.375,
            "rgb(158,202,225)"
           ],
           [
            0.5,
            "rgb(107,174,214)"
           ],
           [
            0.625,
            "rgb(66,146,198)"
           ],
           [
            0.75,
            "rgb(33,113,181)"
           ],
           [
            0.875,
            "rgb(8,81,156)"
           ],
           [
            1,
            "rgb(8,48,107)"
           ]
          ],
          "line": {
           "color": "Grey",
           "width": 0.5
          },
          "showscale": false
         },
         "mode": "markers",
         "name": "Feasible Trial",
         "showlegend": false,
         "type": "scatter",
         "x": [
          1,
          0,
          1,
          0,
          1,
          1,
          0,
          1,
          1,
          1,
          1,
          1,
          1,
          1,
          1,
          1,
          1,
          1,
          1,
          1,
          1,
          1,
          1,
          1,
          1,
          1,
          1,
          1,
          1,
          1,
          1,
          1,
          1,
          1,
          1,
          1,
          1,
          1,
          1,
          1,
          1,
          1,
          1,
          1,
          1,
          1,
          1,
          1,
          1,
          1,
          1,
          1,
          1,
          1,
          1,
          1,
          1,
          1,
          1,
          1,
          1,
          1,
          1,
          1,
          1,
          1
         ],
         "xaxis": "x6",
         "y": [
          0.4879089295864105,
          0.5672515034675598,
          0.560749888420105,
          0.44821763038635254,
          0.5045685172080994,
          0.5697219967842102,
          0.578203558921814,
          0.574491560459137,
          0.5314644575119019,
          0.5379295945167542,
          0.4886399209499359,
          0.4909379780292511,
          0.4813862144947052,
          0.4968000650405884,
          0.5032088756561279,
          0.47600555419921875,
          0.4763811528682709,
          0.4996483027935028,
          0.47884809970855713,
          0.48401597142219543,
          0.5076932311058044,
          0.4612117111682892,
          0.4648953974246979,
          0.4951868951320648,
          0.4812987744808197,
          0.4924582242965698,
          0.482191801071167,
          0.4764247238636017,
          0.4775679409503937,
          0.47390732169151306,
          0.4646214544773102,
          0.4699059724807739,
          0.48980513215065,
          0.4686500132083893,
          0.4704664945602417,
          0.48622438311576843,
          0.4761626422405243,
          0.48252376914024353,
          0.46688708662986755,
          0.4649735689163208,
          0.4717423915863037,
          0.46205344796180725,
          0.4734184443950653,
          0.4636876583099365,
          0.4665796756744385,
          0.4617014229297638,
          0.5022556185722351,
          0.4868064820766449,
          0.4566989243030548,
          0.4592321813106537,
          0.4734993278980255,
          0.4975760281085968,
          0.49869123101234436,
          0.4503686726093292,
          0.4521959722042084,
          0.4705774486064911,
          0.5106508135795593,
          0.46640074253082275,
          0.4614346921443939,
          0.46880772709846497,
          0.4940810203552246,
          0.46142616868019104,
          0.4680081605911255,
          0.45741668343544006,
          0.4775347411632538,
          0.4892672598361969
         ],
         "yaxis": "y6"
        },
        {
         "marker": {
          "color": [
           0,
           1,
           2,
           3,
           4,
           19,
           41,
           51,
           63,
           72,
           73,
           75,
           76,
           79,
           80,
           81,
           82,
           83,
           85,
           91,
           94,
           96,
           97,
           108,
           111,
           121,
           124,
           127,
           130,
           138,
           140,
           141,
           142,
           143,
           146,
           152,
           153,
           154,
           155,
           158,
           161,
           164,
           165,
           166,
           170,
           171,
           172,
           173,
           179,
           181,
           184,
           185,
           186,
           192,
           193,
           198,
           201,
           202,
           203,
           221,
           222,
           223,
           225,
           229,
           235,
           244
          ],
          "colorbar": {
           "title": {
            "text": "Trial"
           },
           "x": 1,
           "xpad": 40
          },
          "colorscale": [
           [
            0,
            "rgb(247,251,255)"
           ],
           [
            0.125,
            "rgb(222,235,247)"
           ],
           [
            0.25,
            "rgb(198,219,239)"
           ],
           [
            0.375,
            "rgb(158,202,225)"
           ],
           [
            0.5,
            "rgb(107,174,214)"
           ],
           [
            0.625,
            "rgb(66,146,198)"
           ],
           [
            0.75,
            "rgb(33,113,181)"
           ],
           [
            0.875,
            "rgb(8,81,156)"
           ],
           [
            1,
            "rgb(8,48,107)"
           ]
          ],
          "line": {
           "color": "Grey",
           "width": 0.5
          },
          "showscale": false
         },
         "mode": "markers",
         "name": "Feasible Trial",
         "showlegend": false,
         "type": "scatter",
         "x": [
          0.001142728741447961,
          0.0002217910107918792,
          0.0004446486058335218,
          0.04139286141968069,
          0.021640314357146348,
          0.0012270827046669062,
          0.00020536324813825305,
          0.001136385890593423,
          0.0026237457352901008,
          0.001574332329594732,
          0.0026338018806304634,
          0.0031149621167301717,
          0.0029549039849405758,
          0.0026852188972270293,
          0.0028745978315569925,
          0.003184388287729244,
          0.0033050639283811857,
          0.003299266866694604,
          0.0034515650070709556,
          0.003437943033340954,
          0.003425546040142485,
          0.004920917885187258,
          0.004966535723469315,
          0.0034867741538883467,
          0.004050950235656093,
          0.0031822224013780985,
          0.0030021174518241106,
          0.004088041444786621,
          0.004969088667789827,
          0.004442114862381985,
          0.004836713830874667,
          0.00506615771597883,
          0.005205982515208697,
          0.006298099088179835,
          0.004397035901223792,
          0.004940269237597022,
          0.003735436874746508,
          0.0038004530822309027,
          0.0063129516451951835,
          0.007397314147453062,
          0.004501133436789845,
          0.004624382885613967,
          0.0048502232346075095,
          0.006343360415472483,
          0.005505046052360681,
          0.005783196639746062,
          0.00604081055760961,
          0.005142697267435903,
          0.005858967959431869,
          0.005980944325518158,
          0.005267671750284679,
          0.005183790094758542,
          0.006910032007623955,
          0.005628168634724575,
          0.005808596642758562,
          0.005485799047526266,
          0.005249535104471723,
          0.005718484633145031,
          0.00648687753136028,
          0.005419830855394247,
          0.005349909047396549,
          0.004394156682569001,
          0.004440895348062983,
          0.0067174250435380655,
          0.004353113730035779,
          0.005630739043640404
         ],
         "xaxis": "x7",
         "y": [
          0.4879089295864105,
          0.5672515034675598,
          0.560749888420105,
          0.44821763038635254,
          0.5045685172080994,
          0.5697219967842102,
          0.578203558921814,
          0.574491560459137,
          0.5314644575119019,
          0.5379295945167542,
          0.4886399209499359,
          0.4909379780292511,
          0.4813862144947052,
          0.4968000650405884,
          0.5032088756561279,
          0.47600555419921875,
          0.4763811528682709,
          0.4996483027935028,
          0.47884809970855713,
          0.48401597142219543,
          0.5076932311058044,
          0.4612117111682892,
          0.4648953974246979,
          0.4951868951320648,
          0.4812987744808197,
          0.4924582242965698,
          0.482191801071167,
          0.4764247238636017,
          0.4775679409503937,
          0.47390732169151306,
          0.4646214544773102,
          0.4699059724807739,
          0.48980513215065,
          0.4686500132083893,
          0.4704664945602417,
          0.48622438311576843,
          0.4761626422405243,
          0.48252376914024353,
          0.46688708662986755,
          0.4649735689163208,
          0.4717423915863037,
          0.46205344796180725,
          0.4734184443950653,
          0.4636876583099365,
          0.4665796756744385,
          0.4617014229297638,
          0.5022556185722351,
          0.4868064820766449,
          0.4566989243030548,
          0.4592321813106537,
          0.4734993278980255,
          0.4975760281085968,
          0.49869123101234436,
          0.4503686726093292,
          0.4521959722042084,
          0.4705774486064911,
          0.5106508135795593,
          0.46640074253082275,
          0.4614346921443939,
          0.46880772709846497,
          0.4940810203552246,
          0.46142616868019104,
          0.4680081605911255,
          0.45741668343544006,
          0.4775347411632538,
          0.4892672598361969
         ],
         "yaxis": "y7"
        },
        {
         "marker": {
          "color": [
           0,
           1,
           2,
           3,
           4,
           19,
           41,
           51,
           63,
           72,
           73,
           75,
           76,
           79,
           80,
           81,
           82,
           83,
           85,
           91,
           94,
           96,
           97,
           108,
           111,
           121,
           124,
           127,
           130,
           138,
           140,
           141,
           142,
           143,
           146,
           152,
           153,
           154,
           155,
           158,
           161,
           164,
           165,
           166,
           170,
           171,
           172,
           173,
           179,
           181,
           184,
           185,
           186,
           192,
           193,
           198,
           201,
           202,
           203,
           221,
           222,
           223,
           225,
           229,
           235,
           244
          ],
          "colorbar": {
           "title": {
            "text": "Trial"
           },
           "x": 1,
           "xpad": 40
          },
          "colorscale": [
           [
            0,
            "rgb(247,251,255)"
           ],
           [
            0.125,
            "rgb(222,235,247)"
           ],
           [
            0.25,
            "rgb(198,219,239)"
           ],
           [
            0.375,
            "rgb(158,202,225)"
           ],
           [
            0.5,
            "rgb(107,174,214)"
           ],
           [
            0.625,
            "rgb(66,146,198)"
           ],
           [
            0.75,
            "rgb(33,113,181)"
           ],
           [
            0.875,
            "rgb(8,81,156)"
           ],
           [
            1,
            "rgb(8,48,107)"
           ]
          ],
          "line": {
           "color": "Grey",
           "width": 0.5
          },
          "showscale": false
         },
         "mode": "markers",
         "name": "Feasible Trial",
         "showlegend": false,
         "type": "scatter",
         "x": [
          0.30730746557311917,
          0.38359634802144155,
          0.22312046022729937,
          0.11581830142097305,
          0.12194275166469731,
          0.3385747243465752,
          0.38004502077300195,
          0.34804325124134905,
          0.3055487597334798,
          0.33848411835140363,
          0.28406255447795475,
          0.30866254128807485,
          0.3093657348608158,
          0.2630002993791818,
          0.2552131520955596,
          0.2634009671364156,
          0.25187237242022276,
          0.25979399854137886,
          0.2639957388623206,
          0.218544644499647,
          0.21744263670125005,
          0.24394410360265253,
          0.29703903408898025,
          0.2220266686372389,
          0.27499228891620925,
          0.2389536590248064,
          0.2279216368898519,
          0.32710361085514267,
          0.11195081735959476,
          0.2629666356817968,
          0.08781135771099245,
          0.05862919100801958,
          0.08758111815245762,
          0.05766737396125092,
          0.030803754451284138,
          0.006496419510372518,
          0.05386016742793458,
          0.0841649758820773,
          0.04837710391492958,
          0.03574855492097245,
          0.09454596923627734,
          0.03149883332429807,
          0.03436938771441663,
          0.03343219469097615,
          0.03885012272384719,
          0.04047259404924839,
          0.03570344749479505,
          0.06545574314203194,
          0.021367040833647287,
          0.03925352579262556,
          0.0330169823512738,
          0.0389518030021759,
          0.016819136365346838,
          0.05961532997294727,
          0.060982029435910835,
          0.0981823770595098,
          0.039990897480833745,
          0.09998521456843985,
          0.1023278582722365,
          0.03411671950956571,
          0.014759591519277353,
          0.03717568619258886,
          0.029590336166184547,
          0.00041445177703794064,
          0.058591005444913656,
          0.03939413569687037
         ],
         "xaxis": "x8",
         "y": [
          0.4879089295864105,
          0.5672515034675598,
          0.560749888420105,
          0.44821763038635254,
          0.5045685172080994,
          0.5697219967842102,
          0.578203558921814,
          0.574491560459137,
          0.5314644575119019,
          0.5379295945167542,
          0.4886399209499359,
          0.4909379780292511,
          0.4813862144947052,
          0.4968000650405884,
          0.5032088756561279,
          0.47600555419921875,
          0.4763811528682709,
          0.4996483027935028,
          0.47884809970855713,
          0.48401597142219543,
          0.5076932311058044,
          0.4612117111682892,
          0.4648953974246979,
          0.4951868951320648,
          0.4812987744808197,
          0.4924582242965698,
          0.482191801071167,
          0.4764247238636017,
          0.4775679409503937,
          0.47390732169151306,
          0.4646214544773102,
          0.4699059724807739,
          0.48980513215065,
          0.4686500132083893,
          0.4704664945602417,
          0.48622438311576843,
          0.4761626422405243,
          0.48252376914024353,
          0.46688708662986755,
          0.4649735689163208,
          0.4717423915863037,
          0.46205344796180725,
          0.4734184443950653,
          0.4636876583099365,
          0.4665796756744385,
          0.4617014229297638,
          0.5022556185722351,
          0.4868064820766449,
          0.4566989243030548,
          0.4592321813106537,
          0.4734993278980255,
          0.4975760281085968,
          0.49869123101234436,
          0.4503686726093292,
          0.4521959722042084,
          0.4705774486064911,
          0.5106508135795593,
          0.46640074253082275,
          0.4614346921443939,
          0.46880772709846497,
          0.4940810203552246,
          0.46142616868019104,
          0.4680081605911255,
          0.45741668343544006,
          0.4775347411632538,
          0.4892672598361969
         ],
         "yaxis": "y8"
        },
        {
         "marker": {
          "color": [
           0,
           1,
           2,
           3,
           4,
           19,
           41,
           51,
           63,
           72,
           73,
           75,
           76,
           79,
           80,
           81,
           82,
           83,
           85,
           91,
           94,
           96,
           97,
           108,
           111,
           121,
           124,
           127,
           130,
           138,
           140,
           141,
           142,
           143,
           146,
           152,
           153,
           154,
           155,
           158,
           161,
           164,
           165,
           166,
           170,
           171,
           172,
           173,
           179,
           181,
           184,
           185,
           186,
           192,
           193,
           198,
           201,
           202,
           203,
           221,
           222,
           223,
           225,
           229,
           235,
           244
          ],
          "colorbar": {
           "title": {
            "text": "Trial"
           },
           "x": 1,
           "xpad": 40
          },
          "colorscale": [
           [
            0,
            "rgb(247,251,255)"
           ],
           [
            0.125,
            "rgb(222,235,247)"
           ],
           [
            0.25,
            "rgb(198,219,239)"
           ],
           [
            0.375,
            "rgb(158,202,225)"
           ],
           [
            0.5,
            "rgb(107,174,214)"
           ],
           [
            0.625,
            "rgb(66,146,198)"
           ],
           [
            0.75,
            "rgb(33,113,181)"
           ],
           [
            0.875,
            "rgb(8,81,156)"
           ],
           [
            1,
            "rgb(8,48,107)"
           ]
          ],
          "line": {
           "color": "Grey",
           "width": 0.5
          },
          "showscale": false
         },
         "mode": "markers",
         "name": "Feasible Trial",
         "showlegend": false,
         "type": "scatter",
         "x": [
          0,
          1,
          0,
          0,
          0,
          0,
          1,
          0,
          0,
          0,
          0,
          0,
          0,
          0,
          0,
          0,
          0,
          0,
          0,
          0,
          0,
          0,
          0,
          0,
          0,
          0,
          0,
          0,
          0,
          0,
          0,
          0,
          0,
          0,
          0,
          0,
          0,
          0,
          0,
          0,
          0,
          0,
          0,
          0,
          0,
          0,
          0,
          0,
          0,
          0,
          0,
          0,
          0,
          0,
          0,
          0,
          0,
          0,
          0,
          0,
          0,
          0,
          0,
          0,
          0,
          0
         ],
         "xaxis": "x9",
         "y": [
          0.4879089295864105,
          0.5672515034675598,
          0.560749888420105,
          0.44821763038635254,
          0.5045685172080994,
          0.5697219967842102,
          0.578203558921814,
          0.574491560459137,
          0.5314644575119019,
          0.5379295945167542,
          0.4886399209499359,
          0.4909379780292511,
          0.4813862144947052,
          0.4968000650405884,
          0.5032088756561279,
          0.47600555419921875,
          0.4763811528682709,
          0.4996483027935028,
          0.47884809970855713,
          0.48401597142219543,
          0.5076932311058044,
          0.4612117111682892,
          0.4648953974246979,
          0.4951868951320648,
          0.4812987744808197,
          0.4924582242965698,
          0.482191801071167,
          0.4764247238636017,
          0.4775679409503937,
          0.47390732169151306,
          0.4646214544773102,
          0.4699059724807739,
          0.48980513215065,
          0.4686500132083893,
          0.4704664945602417,
          0.48622438311576843,
          0.4761626422405243,
          0.48252376914024353,
          0.46688708662986755,
          0.4649735689163208,
          0.4717423915863037,
          0.46205344796180725,
          0.4734184443950653,
          0.4636876583099365,
          0.4665796756744385,
          0.4617014229297638,
          0.5022556185722351,
          0.4868064820766449,
          0.4566989243030548,
          0.4592321813106537,
          0.4734993278980255,
          0.4975760281085968,
          0.49869123101234436,
          0.4503686726093292,
          0.4521959722042084,
          0.4705774486064911,
          0.5106508135795593,
          0.46640074253082275,
          0.4614346921443939,
          0.46880772709846497,
          0.4940810203552246,
          0.46142616868019104,
          0.4680081605911255,
          0.45741668343544006,
          0.4775347411632538,
          0.4892672598361969
         ],
         "yaxis": "y9"
        },
        {
         "marker": {
          "color": [
           0,
           1,
           2,
           3,
           4,
           19,
           41,
           51,
           63,
           72,
           73,
           75,
           76,
           79,
           80,
           81,
           82,
           83,
           85,
           91,
           94,
           96,
           97,
           108,
           111,
           121,
           124,
           127,
           130,
           138,
           140,
           141,
           142,
           143,
           146,
           152,
           153,
           154,
           155,
           158,
           161,
           164,
           165,
           166,
           170,
           171,
           172,
           173,
           179,
           181,
           184,
           185,
           186,
           192,
           193,
           198,
           201,
           202,
           203,
           221,
           222,
           223,
           225,
           229,
           235,
           244
          ],
          "colorbar": {
           "title": {
            "text": "Trial"
           },
           "x": 1,
           "xpad": 40
          },
          "colorscale": [
           [
            0,
            "rgb(247,251,255)"
           ],
           [
            0.125,
            "rgb(222,235,247)"
           ],
           [
            0.25,
            "rgb(198,219,239)"
           ],
           [
            0.375,
            "rgb(158,202,225)"
           ],
           [
            0.5,
            "rgb(107,174,214)"
           ],
           [
            0.625,
            "rgb(66,146,198)"
           ],
           [
            0.75,
            "rgb(33,113,181)"
           ],
           [
            0.875,
            "rgb(8,81,156)"
           ],
           [
            1,
            "rgb(8,48,107)"
           ]
          ],
          "line": {
           "color": "Grey",
           "width": 0.5
          },
          "showscale": false
         },
         "mode": "markers",
         "name": "Feasible Trial",
         "showlegend": false,
         "type": "scatter",
         "x": [
          0.2527687433562035,
          0.1630764678134892,
          0.022055192091597498,
          0.08638643746760653,
          0.08033577012744259,
          0.39808471373353527,
          0.22701328409894522,
          0.39590126260833114,
          0.3249391109603348,
          0.24563159137433274,
          0.24009948414049814,
          0.23928275651457373,
          0.23847897308172517,
          0.2741933403277045,
          0.27370610671377854,
          0.266371277880606,
          0.2715791169277486,
          0.2740207227754178,
          0.26583631178937417,
          0.2689787739612966,
          0.22474619443662333,
          0.28236246474900895,
          0.20421119643954883,
          0.20645250332451587,
          0.20871684402986992,
          0.20653568748802953,
          0.2632450967402231,
          0.2419525179371932,
          0.22020319788087678,
          0.27991545746188956,
          0.28934572126210834,
          0.29050071247570863,
          0.28855715694301937,
          0.27383180266153995,
          0.31896473565461136,
          0.28639966909279874,
          0.2771776596844514,
          0.28158971099461394,
          0.27477270461840714,
          0.28859620571512673,
          0.27401071456931003,
          0.29059997001199056,
          0.28621881523637727,
          0.2850154957289255,
          0.2835005893414876,
          0.28358401829062185,
          0.28212417444741417,
          0.2919531301174758,
          0.26992524915199406,
          0.2749372932447654,
          0.2993740056071006,
          0.3017870609558562,
          0.2951834245720874,
          0.26789996150157536,
          0.2946696617054129,
          0.1090459559079986,
          0.2703554038527202,
          0.06128224048213119,
          0.05343568530521863,
          0.28776624675711,
          0.28662779008970646,
          0.2871042747195751,
          0.26876055843672403,
          0.2674880035394359,
          0.2703770833393788,
          0.2843370861913483
         ],
         "xaxis": "x10",
         "y": [
          0.4879089295864105,
          0.5672515034675598,
          0.560749888420105,
          0.44821763038635254,
          0.5045685172080994,
          0.5697219967842102,
          0.578203558921814,
          0.574491560459137,
          0.5314644575119019,
          0.5379295945167542,
          0.4886399209499359,
          0.4909379780292511,
          0.4813862144947052,
          0.4968000650405884,
          0.5032088756561279,
          0.47600555419921875,
          0.4763811528682709,
          0.4996483027935028,
          0.47884809970855713,
          0.48401597142219543,
          0.5076932311058044,
          0.4612117111682892,
          0.4648953974246979,
          0.4951868951320648,
          0.4812987744808197,
          0.4924582242965698,
          0.482191801071167,
          0.4764247238636017,
          0.4775679409503937,
          0.47390732169151306,
          0.4646214544773102,
          0.4699059724807739,
          0.48980513215065,
          0.4686500132083893,
          0.4704664945602417,
          0.48622438311576843,
          0.4761626422405243,
          0.48252376914024353,
          0.46688708662986755,
          0.4649735689163208,
          0.4717423915863037,
          0.46205344796180725,
          0.4734184443950653,
          0.4636876583099365,
          0.4665796756744385,
          0.4617014229297638,
          0.5022556185722351,
          0.4868064820766449,
          0.4566989243030548,
          0.4592321813106537,
          0.4734993278980255,
          0.4975760281085968,
          0.49869123101234436,
          0.4503686726093292,
          0.4521959722042084,
          0.4705774486064911,
          0.5106508135795593,
          0.46640074253082275,
          0.4614346921443939,
          0.46880772709846497,
          0.4940810203552246,
          0.46142616868019104,
          0.4680081605911255,
          0.45741668343544006,
          0.4775347411632538,
          0.4892672598361969
         ],
         "yaxis": "y10"
        },
        {
         "marker": {
          "color": [
           0,
           1,
           2,
           3,
           4,
           19,
           41,
           51,
           63,
           72,
           73,
           75,
           76,
           79,
           80,
           81,
           82,
           83,
           85,
           91,
           94,
           96,
           97,
           108,
           111,
           121,
           124,
           127,
           130,
           138,
           140,
           141,
           142,
           143,
           146,
           152,
           153,
           154,
           155,
           158,
           161,
           164,
           165,
           166,
           170,
           171,
           172,
           173,
           179,
           181,
           184,
           185,
           186,
           192,
           193,
           198,
           201,
           202,
           203,
           221,
           222,
           223,
           225,
           229,
           235,
           244
          ],
          "colorbar": {
           "title": {
            "text": "Trial"
           },
           "x": 1,
           "xpad": 40
          },
          "colorscale": [
           [
            0,
            "rgb(247,251,255)"
           ],
           [
            0.125,
            "rgb(222,235,247)"
           ],
           [
            0.25,
            "rgb(198,219,239)"
           ],
           [
            0.375,
            "rgb(158,202,225)"
           ],
           [
            0.5,
            "rgb(107,174,214)"
           ],
           [
            0.625,
            "rgb(66,146,198)"
           ],
           [
            0.75,
            "rgb(33,113,181)"
           ],
           [
            0.875,
            "rgb(8,81,156)"
           ],
           [
            1,
            "rgb(8,48,107)"
           ]
          ],
          "line": {
           "color": "Grey",
           "width": 0.5
          },
          "showscale": false
         },
         "mode": "markers",
         "name": "Feasible Trial",
         "showlegend": false,
         "type": "scatter",
         "x": [
          0.8817780445990966,
          0.8672373736203103,
          0.9056470874300472,
          0.8918444023885264,
          0.8621152862971694,
          0.9120750070147129,
          0.8632106704848942,
          0.911507752176917,
          0.9142448711926763,
          0.914941297069115,
          0.9259141302217296,
          0.9410267491184395,
          0.9423947113907257,
          0.9279977678399498,
          0.9550598930422349,
          0.9519358975053687,
          0.9599484911470205,
          0.9568317923011294,
          0.9507643803437159,
          0.985263315419644,
          0.9837630924367012,
          0.9645821216706125,
          0.9651447324860989,
          0.9586558235792448,
          0.9575317509245143,
          0.9578296847432058,
          0.9431918214705517,
          0.939075574653148,
          0.8768795498459567,
          0.8794081362887892,
          0.8789980254127345,
          0.8782855648959056,
          0.8801026930026655,
          0.8966343022323893,
          0.8720961016955561,
          0.8865331095041202,
          0.9001798487200109,
          0.877957494597301,
          0.8830768655136381,
          0.8838652582830966,
          0.8720492545610015,
          0.8979129187211097,
          0.8972770505068274,
          0.9046899229006061,
          0.9053373597716489,
          0.9071608291771073,
          0.906535151517249,
          0.900581752895748,
          0.8563518390271079,
          0.8851717268395985,
          0.8474102100932795,
          0.8465151770038399,
          0.8647261967866197,
          0.8797960805252975,
          0.8806285448882143,
          0.9075762859460283,
          0.8755342546282532,
          0.9170885964151949,
          0.9066788188623226,
          0.9021915469828933,
          0.9028627741021982,
          0.9093494987128022,
          0.916217937492907,
          0.9034802689436024,
          0.8941762500117688,
          0.9112590954146571
         ],
         "xaxis": "x11",
         "y": [
          0.4879089295864105,
          0.5672515034675598,
          0.560749888420105,
          0.44821763038635254,
          0.5045685172080994,
          0.5697219967842102,
          0.578203558921814,
          0.574491560459137,
          0.5314644575119019,
          0.5379295945167542,
          0.4886399209499359,
          0.4909379780292511,
          0.4813862144947052,
          0.4968000650405884,
          0.5032088756561279,
          0.47600555419921875,
          0.4763811528682709,
          0.4996483027935028,
          0.47884809970855713,
          0.48401597142219543,
          0.5076932311058044,
          0.4612117111682892,
          0.4648953974246979,
          0.4951868951320648,
          0.4812987744808197,
          0.4924582242965698,
          0.482191801071167,
          0.4764247238636017,
          0.4775679409503937,
          0.47390732169151306,
          0.4646214544773102,
          0.4699059724807739,
          0.48980513215065,
          0.4686500132083893,
          0.4704664945602417,
          0.48622438311576843,
          0.4761626422405243,
          0.48252376914024353,
          0.46688708662986755,
          0.4649735689163208,
          0.4717423915863037,
          0.46205344796180725,
          0.4734184443950653,
          0.4636876583099365,
          0.4665796756744385,
          0.4617014229297638,
          0.5022556185722351,
          0.4868064820766449,
          0.4566989243030548,
          0.4592321813106537,
          0.4734993278980255,
          0.4975760281085968,
          0.49869123101234436,
          0.4503686726093292,
          0.4521959722042084,
          0.4705774486064911,
          0.5106508135795593,
          0.46640074253082275,
          0.4614346921443939,
          0.46880772709846497,
          0.4940810203552246,
          0.46142616868019104,
          0.4680081605911255,
          0.45741668343544006,
          0.4775347411632538,
          0.4892672598361969
         ],
         "yaxis": "y11"
        },
        {
         "marker": {
          "color": [
           0,
           1,
           2,
           3,
           4,
           19,
           41,
           51,
           63,
           72,
           73,
           75,
           76,
           79,
           80,
           81,
           82,
           83,
           85,
           91,
           94,
           96,
           97,
           108,
           111,
           121,
           124,
           127,
           130,
           138,
           140,
           141,
           142,
           143,
           146,
           152,
           153,
           154,
           155,
           158,
           161,
           164,
           165,
           166,
           170,
           171,
           172,
           173,
           179,
           181,
           184,
           185,
           186,
           192,
           193,
           198,
           201,
           202,
           203,
           221,
           222,
           223,
           225,
           229,
           235,
           244
          ],
          "colorbar": {
           "title": {
            "text": "Trial"
           },
           "x": 1,
           "xpad": 40
          },
          "colorscale": [
           [
            0,
            "rgb(247,251,255)"
           ],
           [
            0.125,
            "rgb(222,235,247)"
           ],
           [
            0.25,
            "rgb(198,219,239)"
           ],
           [
            0.375,
            "rgb(158,202,225)"
           ],
           [
            0.5,
            "rgb(107,174,214)"
           ],
           [
            0.625,
            "rgb(66,146,198)"
           ],
           [
            0.75,
            "rgb(33,113,181)"
           ],
           [
            0.875,
            "rgb(8,81,156)"
           ],
           [
            1,
            "rgb(8,48,107)"
           ]
          ],
          "line": {
           "color": "Grey",
           "width": 0.5
          },
          "showscale": false
         },
         "mode": "markers",
         "name": "Feasible Trial",
         "showlegend": false,
         "type": "scatter",
         "x": [
          0.018869294959028633,
          0.026150189576073176,
          0.05736638338869666,
          0.10845276806869801,
          0.33272587494522426,
          0.015407058619637712,
          0.0250871372087672,
          0.01465484534129594,
          0.01674270456187711,
          0.013555956427267748,
          0.01336427867298244,
          0.010529409291240056,
          0.010002615616074755,
          0.011554894505593109,
          0.011881006742627055,
          0.011808880242257697,
          0.01190834343839712,
          0.011523274442118602,
          0.010003740756559217,
          0.011328095167241354,
          0.01312187460780968,
          0.015976072917823193,
          0.015435978013832159,
          0.01794179191117044,
          0.014418875292769253,
          0.017861371821452098,
          0.13675913101836315,
          0.13114778573825223,
          0.10818883306072301,
          0.13797640602942984,
          0.19416430409542296,
          0.19794181087891027,
          0.2547300607212243,
          0.1837264134206387,
          0.14727133681187,
          0.1371891763174468,
          0.14670984283091862,
          0.2085824183578881,
          0.18815126383502564,
          0.1482811977167213,
          0.1175752421029288,
          0.14805102286244964,
          0.15147327819015968,
          0.14469227148469005,
          0.18250108010562793,
          0.18008272463747266,
          0.18551877384066123,
          0.17208900259429,
          0.187788535467845,
          0.14272658981110947,
          0.18369222599287047,
          0.18008667880520096,
          0.12857842560241323,
          0.16476082630202768,
          0.16143731496239389,
          0.2045611604346012,
          0.2024992621524492,
          0.1877903852860681,
          0.21943242248362882,
          0.17788506891594336,
          0.17552173393302403,
          0.15131213947111247,
          0.16551884282144402,
          0.20063182139264873,
          0.05929356402834716,
          0.14766791209243704
         ],
         "xaxis": "x12",
         "y": [
          0.4879089295864105,
          0.5672515034675598,
          0.560749888420105,
          0.44821763038635254,
          0.5045685172080994,
          0.5697219967842102,
          0.578203558921814,
          0.574491560459137,
          0.5314644575119019,
          0.5379295945167542,
          0.4886399209499359,
          0.4909379780292511,
          0.4813862144947052,
          0.4968000650405884,
          0.5032088756561279,
          0.47600555419921875,
          0.4763811528682709,
          0.4996483027935028,
          0.47884809970855713,
          0.48401597142219543,
          0.5076932311058044,
          0.4612117111682892,
          0.4648953974246979,
          0.4951868951320648,
          0.4812987744808197,
          0.4924582242965698,
          0.482191801071167,
          0.4764247238636017,
          0.4775679409503937,
          0.47390732169151306,
          0.4646214544773102,
          0.4699059724807739,
          0.48980513215065,
          0.4686500132083893,
          0.4704664945602417,
          0.48622438311576843,
          0.4761626422405243,
          0.48252376914024353,
          0.46688708662986755,
          0.4649735689163208,
          0.4717423915863037,
          0.46205344796180725,
          0.4734184443950653,
          0.4636876583099365,
          0.4665796756744385,
          0.4617014229297638,
          0.5022556185722351,
          0.4868064820766449,
          0.4566989243030548,
          0.4592321813106537,
          0.4734993278980255,
          0.4975760281085968,
          0.49869123101234436,
          0.4503686726093292,
          0.4521959722042084,
          0.4705774486064911,
          0.5106508135795593,
          0.46640074253082275,
          0.4614346921443939,
          0.46880772709846497,
          0.4940810203552246,
          0.46142616868019104,
          0.4680081605911255,
          0.45741668343544006,
          0.4775347411632538,
          0.4892672598361969
         ],
         "yaxis": "y12"
        }
       ],
       "layout": {
        "template": {
         "data": {
          "bar": [
           {
            "error_x": {
             "color": "#2a3f5f"
            },
            "error_y": {
             "color": "#2a3f5f"
            },
            "marker": {
             "line": {
              "color": "#E5ECF6",
              "width": 0.5
             },
             "pattern": {
              "fillmode": "overlay",
              "size": 10,
              "solidity": 0.2
             }
            },
            "type": "bar"
           }
          ],
          "barpolar": [
           {
            "marker": {
             "line": {
              "color": "#E5ECF6",
              "width": 0.5
             },
             "pattern": {
              "fillmode": "overlay",
              "size": 10,
              "solidity": 0.2
             }
            },
            "type": "barpolar"
           }
          ],
          "carpet": [
           {
            "aaxis": {
             "endlinecolor": "#2a3f5f",
             "gridcolor": "white",
             "linecolor": "white",
             "minorgridcolor": "white",
             "startlinecolor": "#2a3f5f"
            },
            "baxis": {
             "endlinecolor": "#2a3f5f",
             "gridcolor": "white",
             "linecolor": "white",
             "minorgridcolor": "white",
             "startlinecolor": "#2a3f5f"
            },
            "type": "carpet"
           }
          ],
          "choropleth": [
           {
            "colorbar": {
             "outlinewidth": 0,
             "ticks": ""
            },
            "type": "choropleth"
           }
          ],
          "contour": [
           {
            "colorbar": {
             "outlinewidth": 0,
             "ticks": ""
            },
            "colorscale": [
             [
              0,
              "#0d0887"
             ],
             [
              0.1111111111111111,
              "#46039f"
             ],
             [
              0.2222222222222222,
              "#7201a8"
             ],
             [
              0.3333333333333333,
              "#9c179e"
             ],
             [
              0.4444444444444444,
              "#bd3786"
             ],
             [
              0.5555555555555556,
              "#d8576b"
             ],
             [
              0.6666666666666666,
              "#ed7953"
             ],
             [
              0.7777777777777778,
              "#fb9f3a"
             ],
             [
              0.8888888888888888,
              "#fdca26"
             ],
             [
              1,
              "#f0f921"
             ]
            ],
            "type": "contour"
           }
          ],
          "contourcarpet": [
           {
            "colorbar": {
             "outlinewidth": 0,
             "ticks": ""
            },
            "type": "contourcarpet"
           }
          ],
          "heatmap": [
           {
            "colorbar": {
             "outlinewidth": 0,
             "ticks": ""
            },
            "colorscale": [
             [
              0,
              "#0d0887"
             ],
             [
              0.1111111111111111,
              "#46039f"
             ],
             [
              0.2222222222222222,
              "#7201a8"
             ],
             [
              0.3333333333333333,
              "#9c179e"
             ],
             [
              0.4444444444444444,
              "#bd3786"
             ],
             [
              0.5555555555555556,
              "#d8576b"
             ],
             [
              0.6666666666666666,
              "#ed7953"
             ],
             [
              0.7777777777777778,
              "#fb9f3a"
             ],
             [
              0.8888888888888888,
              "#fdca26"
             ],
             [
              1,
              "#f0f921"
             ]
            ],
            "type": "heatmap"
           }
          ],
          "heatmapgl": [
           {
            "colorbar": {
             "outlinewidth": 0,
             "ticks": ""
            },
            "colorscale": [
             [
              0,
              "#0d0887"
             ],
             [
              0.1111111111111111,
              "#46039f"
             ],
             [
              0.2222222222222222,
              "#7201a8"
             ],
             [
              0.3333333333333333,
              "#9c179e"
             ],
             [
              0.4444444444444444,
              "#bd3786"
             ],
             [
              0.5555555555555556,
              "#d8576b"
             ],
             [
              0.6666666666666666,
              "#ed7953"
             ],
             [
              0.7777777777777778,
              "#fb9f3a"
             ],
             [
              0.8888888888888888,
              "#fdca26"
             ],
             [
              1,
              "#f0f921"
             ]
            ],
            "type": "heatmapgl"
           }
          ],
          "histogram": [
           {
            "marker": {
             "pattern": {
              "fillmode": "overlay",
              "size": 10,
              "solidity": 0.2
             }
            },
            "type": "histogram"
           }
          ],
          "histogram2d": [
           {
            "colorbar": {
             "outlinewidth": 0,
             "ticks": ""
            },
            "colorscale": [
             [
              0,
              "#0d0887"
             ],
             [
              0.1111111111111111,
              "#46039f"
             ],
             [
              0.2222222222222222,
              "#7201a8"
             ],
             [
              0.3333333333333333,
              "#9c179e"
             ],
             [
              0.4444444444444444,
              "#bd3786"
             ],
             [
              0.5555555555555556,
              "#d8576b"
             ],
             [
              0.6666666666666666,
              "#ed7953"
             ],
             [
              0.7777777777777778,
              "#fb9f3a"
             ],
             [
              0.8888888888888888,
              "#fdca26"
             ],
             [
              1,
              "#f0f921"
             ]
            ],
            "type": "histogram2d"
           }
          ],
          "histogram2dcontour": [
           {
            "colorbar": {
             "outlinewidth": 0,
             "ticks": ""
            },
            "colorscale": [
             [
              0,
              "#0d0887"
             ],
             [
              0.1111111111111111,
              "#46039f"
             ],
             [
              0.2222222222222222,
              "#7201a8"
             ],
             [
              0.3333333333333333,
              "#9c179e"
             ],
             [
              0.4444444444444444,
              "#bd3786"
             ],
             [
              0.5555555555555556,
              "#d8576b"
             ],
             [
              0.6666666666666666,
              "#ed7953"
             ],
             [
              0.7777777777777778,
              "#fb9f3a"
             ],
             [
              0.8888888888888888,
              "#fdca26"
             ],
             [
              1,
              "#f0f921"
             ]
            ],
            "type": "histogram2dcontour"
           }
          ],
          "mesh3d": [
           {
            "colorbar": {
             "outlinewidth": 0,
             "ticks": ""
            },
            "type": "mesh3d"
           }
          ],
          "parcoords": [
           {
            "line": {
             "colorbar": {
              "outlinewidth": 0,
              "ticks": ""
             }
            },
            "type": "parcoords"
           }
          ],
          "pie": [
           {
            "automargin": true,
            "type": "pie"
           }
          ],
          "scatter": [
           {
            "fillpattern": {
             "fillmode": "overlay",
             "size": 10,
             "solidity": 0.2
            },
            "type": "scatter"
           }
          ],
          "scatter3d": [
           {
            "line": {
             "colorbar": {
              "outlinewidth": 0,
              "ticks": ""
             }
            },
            "marker": {
             "colorbar": {
              "outlinewidth": 0,
              "ticks": ""
             }
            },
            "type": "scatter3d"
           }
          ],
          "scattercarpet": [
           {
            "marker": {
             "colorbar": {
              "outlinewidth": 0,
              "ticks": ""
             }
            },
            "type": "scattercarpet"
           }
          ],
          "scattergeo": [
           {
            "marker": {
             "colorbar": {
              "outlinewidth": 0,
              "ticks": ""
             }
            },
            "type": "scattergeo"
           }
          ],
          "scattergl": [
           {
            "marker": {
             "colorbar": {
              "outlinewidth": 0,
              "ticks": ""
             }
            },
            "type": "scattergl"
           }
          ],
          "scattermapbox": [
           {
            "marker": {
             "colorbar": {
              "outlinewidth": 0,
              "ticks": ""
             }
            },
            "type": "scattermapbox"
           }
          ],
          "scatterpolar": [
           {
            "marker": {
             "colorbar": {
              "outlinewidth": 0,
              "ticks": ""
             }
            },
            "type": "scatterpolar"
           }
          ],
          "scatterpolargl": [
           {
            "marker": {
             "colorbar": {
              "outlinewidth": 0,
              "ticks": ""
             }
            },
            "type": "scatterpolargl"
           }
          ],
          "scatterternary": [
           {
            "marker": {
             "colorbar": {
              "outlinewidth": 0,
              "ticks": ""
             }
            },
            "type": "scatterternary"
           }
          ],
          "surface": [
           {
            "colorbar": {
             "outlinewidth": 0,
             "ticks": ""
            },
            "colorscale": [
             [
              0,
              "#0d0887"
             ],
             [
              0.1111111111111111,
              "#46039f"
             ],
             [
              0.2222222222222222,
              "#7201a8"
             ],
             [
              0.3333333333333333,
              "#9c179e"
             ],
             [
              0.4444444444444444,
              "#bd3786"
             ],
             [
              0.5555555555555556,
              "#d8576b"
             ],
             [
              0.6666666666666666,
              "#ed7953"
             ],
             [
              0.7777777777777778,
              "#fb9f3a"
             ],
             [
              0.8888888888888888,
              "#fdca26"
             ],
             [
              1,
              "#f0f921"
             ]
            ],
            "type": "surface"
           }
          ],
          "table": [
           {
            "cells": {
             "fill": {
              "color": "#EBF0F8"
             },
             "line": {
              "color": "white"
             }
            },
            "header": {
             "fill": {
              "color": "#C8D4E3"
             },
             "line": {
              "color": "white"
             }
            },
            "type": "table"
           }
          ]
         },
         "layout": {
          "annotationdefaults": {
           "arrowcolor": "#2a3f5f",
           "arrowhead": 0,
           "arrowwidth": 1
          },
          "autotypenumbers": "strict",
          "coloraxis": {
           "colorbar": {
            "outlinewidth": 0,
            "ticks": ""
           }
          },
          "colorscale": {
           "diverging": [
            [
             0,
             "#8e0152"
            ],
            [
             0.1,
             "#c51b7d"
            ],
            [
             0.2,
             "#de77ae"
            ],
            [
             0.3,
             "#f1b6da"
            ],
            [
             0.4,
             "#fde0ef"
            ],
            [
             0.5,
             "#f7f7f7"
            ],
            [
             0.6,
             "#e6f5d0"
            ],
            [
             0.7,
             "#b8e186"
            ],
            [
             0.8,
             "#7fbc41"
            ],
            [
             0.9,
             "#4d9221"
            ],
            [
             1,
             "#276419"
            ]
           ],
           "sequential": [
            [
             0,
             "#0d0887"
            ],
            [
             0.1111111111111111,
             "#46039f"
            ],
            [
             0.2222222222222222,
             "#7201a8"
            ],
            [
             0.3333333333333333,
             "#9c179e"
            ],
            [
             0.4444444444444444,
             "#bd3786"
            ],
            [
             0.5555555555555556,
             "#d8576b"
            ],
            [
             0.6666666666666666,
             "#ed7953"
            ],
            [
             0.7777777777777778,
             "#fb9f3a"
            ],
            [
             0.8888888888888888,
             "#fdca26"
            ],
            [
             1,
             "#f0f921"
            ]
           ],
           "sequentialminus": [
            [
             0,
             "#0d0887"
            ],
            [
             0.1111111111111111,
             "#46039f"
            ],
            [
             0.2222222222222222,
             "#7201a8"
            ],
            [
             0.3333333333333333,
             "#9c179e"
            ],
            [
             0.4444444444444444,
             "#bd3786"
            ],
            [
             0.5555555555555556,
             "#d8576b"
            ],
            [
             0.6666666666666666,
             "#ed7953"
            ],
            [
             0.7777777777777778,
             "#fb9f3a"
            ],
            [
             0.8888888888888888,
             "#fdca26"
            ],
            [
             1,
             "#f0f921"
            ]
           ]
          },
          "colorway": [
           "#636efa",
           "#EF553B",
           "#00cc96",
           "#ab63fa",
           "#FFA15A",
           "#19d3f3",
           "#FF6692",
           "#B6E880",
           "#FF97FF",
           "#FECB52"
          ],
          "font": {
           "color": "#2a3f5f"
          },
          "geo": {
           "bgcolor": "white",
           "lakecolor": "white",
           "landcolor": "#E5ECF6",
           "showlakes": true,
           "showland": true,
           "subunitcolor": "white"
          },
          "hoverlabel": {
           "align": "left"
          },
          "hovermode": "closest",
          "mapbox": {
           "style": "light"
          },
          "paper_bgcolor": "white",
          "plot_bgcolor": "#E5ECF6",
          "polar": {
           "angularaxis": {
            "gridcolor": "white",
            "linecolor": "white",
            "ticks": ""
           },
           "bgcolor": "#E5ECF6",
           "radialaxis": {
            "gridcolor": "white",
            "linecolor": "white",
            "ticks": ""
           }
          },
          "scene": {
           "xaxis": {
            "backgroundcolor": "#E5ECF6",
            "gridcolor": "white",
            "gridwidth": 2,
            "linecolor": "white",
            "showbackground": true,
            "ticks": "",
            "zerolinecolor": "white"
           },
           "yaxis": {
            "backgroundcolor": "#E5ECF6",
            "gridcolor": "white",
            "gridwidth": 2,
            "linecolor": "white",
            "showbackground": true,
            "ticks": "",
            "zerolinecolor": "white"
           },
           "zaxis": {
            "backgroundcolor": "#E5ECF6",
            "gridcolor": "white",
            "gridwidth": 2,
            "linecolor": "white",
            "showbackground": true,
            "ticks": "",
            "zerolinecolor": "white"
           }
          },
          "shapedefaults": {
           "line": {
            "color": "#2a3f5f"
           }
          },
          "ternary": {
           "aaxis": {
            "gridcolor": "white",
            "linecolor": "white",
            "ticks": ""
           },
           "baxis": {
            "gridcolor": "white",
            "linecolor": "white",
            "ticks": ""
           },
           "bgcolor": "#E5ECF6",
           "caxis": {
            "gridcolor": "white",
            "linecolor": "white",
            "ticks": ""
           }
          },
          "title": {
           "x": 0.05
          },
          "xaxis": {
           "automargin": true,
           "gridcolor": "white",
           "linecolor": "white",
           "ticks": "",
           "title": {
            "standoff": 15
           },
           "zerolinecolor": "white",
           "zerolinewidth": 2
          },
          "yaxis": {
           "automargin": true,
           "gridcolor": "white",
           "linecolor": "white",
           "ticks": "",
           "title": {
            "standoff": 15
           },
           "zerolinecolor": "white",
           "zerolinewidth": 2
          }
         }
        },
        "title": {
         "text": "Slice Plot"
        },
        "width": 3600,
        "xaxis": {
         "anchor": "y",
         "domain": [
          0,
          0.06805555555555555
         ],
         "title": {
          "text": "batch_size"
         }
        },
        "xaxis10": {
         "anchor": "y10",
         "domain": [
          0.7625,
          0.8305555555555555
         ],
         "title": {
          "text": "relu_slope"
         }
        },
        "xaxis11": {
         "anchor": "y11",
         "domain": [
          0.8472222222222221,
          0.9152777777777776
         ],
         "title": {
          "text": "scheduler_gamma"
         }
        },
        "xaxis12": {
         "anchor": "y12",
         "domain": [
          0.9319444444444444,
          0.9999999999999999
         ],
         "title": {
          "text": "weight_decay"
         },
         "type": "log"
        },
        "xaxis2": {
         "anchor": "y2",
         "domain": [
          0.08472222222222221,
          0.15277777777777776
         ],
         "title": {
          "text": "beta1"
         }
        },
        "xaxis3": {
         "anchor": "y3",
         "domain": [
          0.16944444444444443,
          0.2375
         ],
         "title": {
          "text": "beta2"
         }
        },
        "xaxis4": {
         "anchor": "y4",
         "domain": [
          0.25416666666666665,
          0.3222222222222222
         ],
         "title": {
          "text": "dampening"
         }
        },
        "xaxis5": {
         "anchor": "y5",
         "domain": [
          0.33888888888888885,
          0.4069444444444444
         ],
         "title": {
          "text": "epochs"
         }
        },
        "xaxis6": {
         "anchor": "y6",
         "domain": [
          0.42361111111111105,
          0.4916666666666666
         ],
         "title": {
          "text": "loss_idx"
         }
        },
        "xaxis7": {
         "anchor": "y7",
         "domain": [
          0.5083333333333333,
          0.5763888888888888
         ],
         "title": {
          "text": "lr"
         },
         "type": "log"
        },
        "xaxis8": {
         "anchor": "y8",
         "domain": [
          0.5930555555555556,
          0.6611111111111111
         ],
         "title": {
          "text": "momentum"
         }
        },
        "xaxis9": {
         "anchor": "y9",
         "domain": [
          0.6777777777777777,
          0.7458333333333332
         ],
         "title": {
          "text": "optimizer_idx"
         }
        },
        "yaxis": {
         "anchor": "x",
         "domain": [
          0,
          1
         ],
         "title": {
          "text": "Objective Value"
         }
        },
        "yaxis10": {
         "anchor": "x10",
         "domain": [
          0,
          1
         ],
         "matches": "y",
         "showticklabels": false
        },
        "yaxis11": {
         "anchor": "x11",
         "domain": [
          0,
          1
         ],
         "matches": "y",
         "showticklabels": false
        },
        "yaxis12": {
         "anchor": "x12",
         "domain": [
          0,
          1
         ],
         "matches": "y",
         "showticklabels": false
        },
        "yaxis2": {
         "anchor": "x2",
         "domain": [
          0,
          1
         ],
         "matches": "y",
         "showticklabels": false
        },
        "yaxis3": {
         "anchor": "x3",
         "domain": [
          0,
          1
         ],
         "matches": "y",
         "showticklabels": false
        },
        "yaxis4": {
         "anchor": "x4",
         "domain": [
          0,
          1
         ],
         "matches": "y",
         "showticklabels": false
        },
        "yaxis5": {
         "anchor": "x5",
         "domain": [
          0,
          1
         ],
         "matches": "y",
         "showticklabels": false
        },
        "yaxis6": {
         "anchor": "x6",
         "domain": [
          0,
          1
         ],
         "matches": "y",
         "showticklabels": false
        },
        "yaxis7": {
         "anchor": "x7",
         "domain": [
          0,
          1
         ],
         "matches": "y",
         "showticklabels": false
        },
        "yaxis8": {
         "anchor": "x8",
         "domain": [
          0,
          1
         ],
         "matches": "y",
         "showticklabels": false
        },
        "yaxis9": {
         "anchor": "x9",
         "domain": [
          0,
          1
         ],
         "matches": "y",
         "showticklabels": false
        }
       }
      }
     },
     "metadata": {},
     "output_type": "display_data"
    }
   ],
   "source": [
    "if is_multi_objective:\n",
    "    fig = vis.plot_slice(study, target=lambda t: t.values[1], target_name='Accuracy')\n",
    "else:\n",
    "    fig = vis.plot_slice(study)\n",
    "fig.show()"
   ]
  },
  {
   "cell_type": "code",
   "execution_count": 35,
   "metadata": {},
   "outputs": [
    {
     "data": {
      "text/plain": [
       "{'lr': 0.04139286141968069,\n",
       " 'weight_decay': 0.10845276806869801,\n",
       " 'beta1': 0.8809122932625301,\n",
       " 'beta2': 0.9577746389051253,\n",
       " 'momentum': 0.11581830142097305,\n",
       " 'dampening': 0.26129272058809466,\n",
       " 'optimizer_idx': 0,\n",
       " 'scheduler_gamma': 0.8918444023885264,\n",
       " 'epochs': 12,\n",
       " 'batch_size': 197,\n",
       " 'loss_idx': 0,\n",
       " 'relu_slope': 0.08638643746760653}"
      ]
     },
     "execution_count": 35,
     "metadata": {},
     "output_type": "execute_result"
    }
   ],
   "source": [
    "if is_multi_objective:\n",
    "    best_trials = study.best_trials\n",
    "    sorted_trials = sorted([(trial.values[1], trial.params) for trial in best_trials])\n",
    "    best_params = sorted_trials[0][1]\n",
    "else:\n",
    "    best_params = study.best_trial.params\n",
    "best_params"
   ]
  },
  {
   "cell_type": "code",
   "execution_count": 36,
   "metadata": {},
   "outputs": [],
   "source": [
    "# best_params = {'lr': 0.0031239818374237715, 'weight_decay': 0.14891528374027796, 'beta1': 0.8710182886970091, 'beta2': 0.832292578797416, 'scheduler_gamma': 0.9753505211333497, 'epochs': 81, 'batch_size': 214, 'loss_idx': 0}\n",
    "# best_params = {'lr': 0.0019835932606001487,\n",
    "#   'weight_decay': 0.1611461330556558,\n",
    "#   'beta1': 0.9280989285369666,\n",
    "#   'beta2': 0.5597870586857281,\n",
    "#   'scheduler_gamma': 0.9736202263428526,\n",
    "#   'epochs': 110,\n",
    "#   'batch_size': 153,\n",
    "#   'loss_idx': 0}\n",
    "# best_params = {'lr': 0.0029897736276809804,\n",
    "#   'weight_decay': 0.23209144621035505,\n",
    "#   'beta1': 0.9307172994606788,\n",
    "#   'beta2': 0.7849642531368178,\n",
    "#   'momentum': 0.26520601842233205,\n",
    "#   'dampening': 0.027926590435548706,\n",
    "#   'optimizer_idx': 1,\n",
    "#   'scheduler_gamma': 0.9380209962450397,\n",
    "#   'epochs': 90,\n",
    "#   'batch_size': 88,\n",
    "#   'loss_idx': 0}\n",
    "# best_params = {'lr': 0.00836489425162464, 'weight_decay': 0.34102140588295116, 'beta1': 0.8201411977785976, 'beta2': 0.7828316699445848, 'momentum': 0.4068030886893087, 'dampening': 0.0875530112100895, 'optimizer_idx': 1, 'scheduler_gamma': 0.9552905615276255, 'epochs': 121, 'batch_size': 219, 'loss_idx': 1, 'num_blocks': 3}"
   ]
  },
  {
   "cell_type": "code",
   "execution_count": 37,
   "metadata": {},
   "outputs": [],
   "source": [
    "lr = best_params['lr']\n",
    "weight_decay = best_params['weight_decay']\n",
    "betas = (best_params['beta1'], best_params['beta2'])\n",
    "momentum = best_params['momentum']\n",
    "dampening = best_params['dampening']\n",
    "scheduler_gamma = best_params['scheduler_gamma']\n",
    "batch_size = best_params['batch_size']\n",
    "epochs = best_params['epochs']\n",
    "relu_slope = best_params['relu_slope']\n",
    "\n",
    "model = ConvClassifier(train_params=train_best_params, num_classes=len(np.unique(labels)),\n",
    "                       relu_slope=relu_slope, device=device).to(device)\n",
    "\n",
    "# trainable_parameters = [param for name, param in model.named_parameters() if name.startswith('seq_')]\n",
    "if best_params['optimizer_idx'] == 0:\n",
    "    optimizer = torch.optim.Adam(model.parameters(), lr=lr, weight_decay=weight_decay, betas=betas)\n",
    "else:\n",
    "    optimizer = torch.optim.SGD(model.parameters(), lr=lr, weight_decay=weight_decay, momentum=momentum, dampening=dampening)\n",
    "scheduler = torch.optim.lr_scheduler.ExponentialLR(optimizer, gamma=scheduler_gamma)\n",
    "\n",
    "loss_func = get_classification_loss_function(best_params['loss_idx'], device=model.device)"
   ]
  },
  {
   "cell_type": "code",
   "execution_count": 38,
   "metadata": {},
   "outputs": [
    {
     "data": {
      "text/plain": [
       "({'lr': 0.04139286141968069,\n",
       "  'weight_decay': 0.10845276806869801,\n",
       "  'beta1': 0.8809122932625301,\n",
       "  'beta2': 0.9577746389051253,\n",
       "  'momentum': 0.11581830142097305,\n",
       "  'dampening': 0.26129272058809466,\n",
       "  'optimizer_idx': 0,\n",
       "  'scheduler_gamma': 0.8918444023885264,\n",
       "  'epochs': 12,\n",
       "  'batch_size': 197,\n",
       "  'loss_idx': 0,\n",
       "  'relu_slope': 0.08638643746760653},\n",
       " 1639176)"
      ]
     },
     "execution_count": 38,
     "metadata": {},
     "output_type": "execute_result"
    }
   ],
   "source": [
    "best_params, sum(p.numel() for p in model.parameters())"
   ]
  },
  {
   "cell_type": "code",
   "execution_count": 39,
   "metadata": {},
   "outputs": [],
   "source": [
    "dataset = AlzheimerDataset(images, labels)"
   ]
  },
  {
   "cell_type": "code",
   "execution_count": 40,
   "metadata": {},
   "outputs": [],
   "source": [
    "dataloader = torch.utils.data.DataLoader(train_dataset, batch_size=batch_size, shuffle=True)"
   ]
  },
  {
   "cell_type": "code",
   "execution_count": 41,
   "metadata": {},
   "outputs": [
    {
     "data": {
      "application/vnd.jupyter.widget-view+json": {
       "model_id": "fb9ad87b57664c07a05c112ca224c518",
       "version_major": 2,
       "version_minor": 0
      },
      "text/plain": [
       "  0%|          | 0/12 [00:00<?, ?it/s]"
      ]
     },
     "metadata": {},
     "output_type": "display_data"
    },
    {
     "data": {
      "image/png": "[encoded data removed]",
      "text/plain": [
       "<Figure size 1600x1000 with 2 Axes>"
      ]
     },
     "metadata": {},
     "output_type": "display_data"
    }
   ],
   "source": [
    "overall, accuracy = train(\n",
    "    model=model,\n",
    "    optimizer=optimizer,\n",
    "    loss=loss_func,\n",
    "    epochs=epochs,\n",
    "    dataloader=dataloader,\n",
    "    val_dataset=val_dataset,\n",
    "    scheduler=scheduler,\n",
    "    plot=True,\n",
    "    show_progress=True,\n",
    "    trial=None\n",
    ")"
   ]
  },
  {
   "cell_type": "code",
   "execution_count": 42,
   "metadata": {},
   "outputs": [
    {
     "data": {
      "text/plain": [
       "ConvClassifier(\n",
       "  (encoder): ConvEncoder(\n",
       "    (relu): ReLU()\n",
       "    (flatten): Flatten(start_dim=1, end_dim=-1)\n",
       "    (conv1): Conv2d(1, 8, kernel_size=(5, 5), stride=(2, 2), padding=(3, 3), bias=False)\n",
       "    (bn1): BatchNorm2d(8, eps=1e-05, momentum=0.1, affine=True, track_running_stats=True)\n",
       "    (maxpool): MaxPool2d(kernel_size=(3, 3), stride=(2, 2), padding=(1, 1), dilation=1, ceil_mode=False)\n",
       "    (block0): Sequential(\n",
       "      (0): Conv2d(8, 8, kernel_size=(3, 3), stride=(1, 1), padding=(1, 1), bias=False)\n",
       "      (1): BatchNorm2d(8, eps=1e-05, momentum=0.1, affine=True, track_running_stats=True)\n",
       "      (2): ReLU()\n",
       "      (3): MaxPool2d(kernel_size=(3, 3), stride=1, padding=1, dilation=1, ceil_mode=False)\n",
       "      (4): BatchNorm2d(8, eps=1e-05, momentum=0.1, affine=True, track_running_stats=True)\n",
       "    )\n",
       "    (max_pool_block0): MaxPoolBlock(\n",
       "      (max_pool): MaxPool2d(kernel_size=(3, 3), stride=1, padding=1, dilation=1, ceil_mode=True)\n",
       "      (bn): BatchNorm2d(8, eps=1e-05, momentum=0.1, affine=True, track_running_stats=True)\n",
       "      (relu): ReLU()\n",
       "    )\n",
       "    (down_sample0): Sequential(\n",
       "      (0): Conv2d(8, 16, kernel_size=(3, 3), stride=(2, 2), padding=(1, 1), bias=False)\n",
       "      (1): BatchNorm2d(16, eps=1e-05, momentum=0.1, affine=True, track_running_stats=True)\n",
       "      (2): ReLU()\n",
       "    )\n",
       "    (block1): Sequential(\n",
       "      (0): Conv2d(16, 16, kernel_size=(3, 3), stride=(1, 1), padding=(1, 1), bias=False)\n",
       "      (1): BatchNorm2d(16, eps=1e-05, momentum=0.1, affine=True, track_running_stats=True)\n",
       "      (2): ReLU()\n",
       "      (3): MaxPool2d(kernel_size=(3, 3), stride=1, padding=1, dilation=1, ceil_mode=False)\n",
       "      (4): BatchNorm2d(16, eps=1e-05, momentum=0.1, affine=True, track_running_stats=True)\n",
       "    )\n",
       "    (max_pool_block1): MaxPoolBlock(\n",
       "      (max_pool): MaxPool2d(kernel_size=(3, 3), stride=1, padding=1, dilation=1, ceil_mode=True)\n",
       "      (bn): BatchNorm2d(16, eps=1e-05, momentum=0.1, affine=True, track_running_stats=True)\n",
       "      (relu): ReLU()\n",
       "    )\n",
       "    (down_sample1): Sequential(\n",
       "      (0): Conv2d(16, 32, kernel_size=(3, 3), stride=(2, 2), padding=(1, 1), bias=False)\n",
       "      (1): BatchNorm2d(32, eps=1e-05, momentum=0.1, affine=True, track_running_stats=True)\n",
       "      (2): ReLU()\n",
       "    )\n",
       "    (block2): Sequential(\n",
       "      (0): Conv2d(32, 32, kernel_size=(3, 3), stride=(1, 1), padding=(1, 1), bias=False)\n",
       "      (1): BatchNorm2d(32, eps=1e-05, momentum=0.1, affine=True, track_running_stats=True)\n",
       "      (2): ReLU()\n",
       "      (3): MaxPool2d(kernel_size=(3, 3), stride=1, padding=1, dilation=1, ceil_mode=False)\n",
       "      (4): BatchNorm2d(32, eps=1e-05, momentum=0.1, affine=True, track_running_stats=True)\n",
       "    )\n",
       "    (max_pool_block2): MaxPoolBlock(\n",
       "      (max_pool): MaxPool2d(kernel_size=(3, 3), stride=1, padding=1, dilation=1, ceil_mode=True)\n",
       "      (bn): BatchNorm2d(32, eps=1e-05, momentum=0.1, affine=True, track_running_stats=True)\n",
       "      (relu): ReLU()\n",
       "    )\n",
       "    (down_sample2): Sequential(\n",
       "      (0): Conv2d(32, 64, kernel_size=(3, 3), stride=(2, 2), padding=(1, 1), bias=False)\n",
       "      (1): BatchNorm2d(64, eps=1e-05, momentum=0.1, affine=True, track_running_stats=True)\n",
       "      (2): ReLU()\n",
       "    )\n",
       "    (encoded_mean): Linear(in_features=1920, out_features=414, bias=True)\n",
       "    (encoded_log_variance): Linear(in_features=1920, out_features=414, bias=True)\n",
       "  )\n",
       "  (bn): BatchNorm1d(1920, eps=1e-05, momentum=0.1, affine=True, track_running_stats=True)\n",
       "  (relu): LeakyReLU(negative_slope=0.08638643746760653)\n",
       "  (seq_output): Linear(in_features=1920, out_features=4, bias=True)\n",
       "  (log_softmax): LogSoftmax(dim=1)\n",
       ")"
      ]
     },
     "execution_count": 42,
     "metadata": {},
     "output_type": "execute_result"
    }
   ],
   "source": [
    "model.eval()"
   ]
  },
  {
   "cell_type": "code",
   "execution_count": 43,
   "metadata": {},
   "outputs": [],
   "source": [
    "from PIL import Image"
   ]
  },
  {
   "cell_type": "code",
   "execution_count": 44,
   "metadata": {},
   "outputs": [],
   "source": [
    "test_data_dir = './data/alzheimer/test'\n",
    "classes = os.listdir(test_data_dir)\n",
    "class_to_idx = {}\n",
    "for i in range(len(classes)):\n",
    "    class_to_idx[classes[i]] = i\n",
    "\n",
    "total_test_images = 0\n",
    "for class_name in classes:\n",
    "    total_test_images += len(os.listdir(f'{test_data_dir}/{class_name}'))"
   ]
  },
  {
   "cell_type": "code",
   "execution_count": 45,
   "metadata": {},
   "outputs": [],
   "source": [
    "test_images = np.empty((total_test_images, 208, 176), dtype=np.uint8)\n",
    "test_labels = np.empty(total_test_images, dtype=np.uint8)"
   ]
  },
  {
   "cell_type": "code",
   "execution_count": 46,
   "metadata": {},
   "outputs": [
    {
     "data": {
      "application/vnd.jupyter.widget-view+json": {
       "model_id": "c671dfe9f6d44d8ea79d0fe129b3d9bc",
       "version_major": 2,
       "version_minor": 0
      },
      "text/plain": [
       "  0%|          | 0/179 [00:00<?, ?it/s]"
      ]
     },
     "metadata": {},
     "output_type": "display_data"
    },
    {
     "data": {
      "application/vnd.jupyter.widget-view+json": {
       "model_id": "c7993aba2a344130a5a0fa40ce14ce23",
       "version_major": 2,
       "version_minor": 0
      },
      "text/plain": [
       "  0%|          | 0/12 [00:00<?, ?it/s]"
      ]
     },
     "metadata": {},
     "output_type": "display_data"
    },
    {
     "data": {
      "application/vnd.jupyter.widget-view+json": {
       "model_id": "71135ceb15a048b3bf920dcea99597c2",
       "version_major": 2,
       "version_minor": 0
      },
      "text/plain": [
       "  0%|          | 0/640 [00:00<?, ?it/s]"
      ]
     },
     "metadata": {},
     "output_type": "display_data"
    },
    {
     "data": {
      "application/vnd.jupyter.widget-view+json": {
       "model_id": "2296fd4009a347eda213737124cbb74a",
       "version_major": 2,
       "version_minor": 0
      },
      "text/plain": [
       "  0%|          | 0/448 [00:00<?, ?it/s]"
      ]
     },
     "metadata": {},
     "output_type": "display_data"
    }
   ],
   "source": [
    "image_idx = 0\n",
    "for class_name in classes:\n",
    "    for image_name in tqdm(os.listdir(f'{test_data_dir}/{class_name}')):\n",
    "        image_path = f'{test_data_dir}/{class_name}/{image_name}'\n",
    "        test_images[image_idx] = np.array(Image.open(image_path)).astype(np.uint8)\n",
    "        test_labels[image_idx] = class_to_idx[class_name]\n",
    "        image_idx += 1"
   ]
  },
  {
   "cell_type": "code",
   "execution_count": 47,
   "metadata": {},
   "outputs": [],
   "source": [
    "leftmost_pixel, uppermost_pixel = 16, 16\n",
    "rightmost_pixel, bottommost_pixel = 159, 191\n",
    "\n",
    "test_images = test_images[:, uppermost_pixel:bottommost_pixel+1, leftmost_pixel:rightmost_pixel+1]"
   ]
  },
  {
   "cell_type": "code",
   "execution_count": 48,
   "metadata": {},
   "outputs": [
    {
     "data": {
      "text/plain": [
       "<matplotlib.image.AxesImage at 0x1726a2efdd0>"
      ]
     },
     "execution_count": 48,
     "metadata": {},
     "output_type": "execute_result"
    },
    {
     "data": {
      "image/png": "[encoded data removed]",
      "text/plain": [
       "<Figure size 640x480 with 1 Axes>"
      ]
     },
     "metadata": {},
     "output_type": "display_data"
    }
   ],
   "source": [
    "plt.imshow(test_images[test_labels == 1].mean(axis=0), cmap='gray')"
   ]
  },
  {
   "cell_type": "code",
   "execution_count": 49,
   "metadata": {},
   "outputs": [],
   "source": [
    "test_dataset = AlzheimerDataset(test_images, test_labels)"
   ]
  },
  {
   "cell_type": "code",
   "execution_count": 50,
   "metadata": {},
   "outputs": [],
   "source": [
    "test_output = model(test_dataset.X.to(model.device))\n",
    "predictions = torch.argmax(test_output, dim=1).to(model.device)\n",
    "accuracy = (predictions == test_dataset.y.to(model.device)).sum().item() / predictions.shape[0]"
   ]
  },
  {
   "cell_type": "code",
   "execution_count": 51,
   "metadata": {},
   "outputs": [
    {
     "data": {
      "text/plain": [
       "0.5168100078186083"
      ]
     },
     "execution_count": 51,
     "metadata": {},
     "output_type": "execute_result"
    }
   ],
   "source": [
    "accuracy"
   ]
  },
  {
   "cell_type": "code",
   "execution_count": 52,
   "metadata": {},
   "outputs": [],
   "source": [
    "from sklearn.metrics import confusion_matrix, precision_score, recall_score, f1_score"
   ]
  },
  {
   "cell_type": "code",
   "execution_count": 53,
   "metadata": {},
   "outputs": [],
   "source": [
    "import seaborn as sns"
   ]
  },
  {
   "cell_type": "code",
   "execution_count": 54,
   "metadata": {},
   "outputs": [],
   "source": [
    "# choosing weighted because we want to calculate per class and then calculate the weighted sum since our labels are imbalanced\n",
    "average_policy = None"
   ]
  },
  {
   "cell_type": "code",
   "execution_count": 55,
   "metadata": {},
   "outputs": [
    {
     "name": "stdout",
     "output_type": "stream",
     "text": [
      "MildDemented: 0.14814814814814814\n",
      "ModerateDemented: 0.0\n",
      "NonDemented: 0.560488346281909\n",
      "VeryMildDemented: 0.43304843304843305\n"
     ]
    }
   ],
   "source": [
    "# tp / (tp + fp)\n",
    "precisions = precision_score(test_labels, predictions.cpu().numpy(), average=average_policy, zero_division=0)\n",
    "for class_idx in range(len(classes)):\n",
    "    print(f'{classes[class_idx]}: {precisions[class_idx]}')"
   ]
  },
  {
   "cell_type": "code",
   "execution_count": 56,
   "metadata": {},
   "outputs": [
    {
     "name": "stdout",
     "output_type": "stream",
     "text": [
      "MildDemented: 0.0223463687150838\n",
      "ModerateDemented: 0.0\n",
      "NonDemented: 0.7890625\n",
      "VeryMildDemented: 0.3392857142857143\n"
     ]
    }
   ],
   "source": [
    "# tp / (tp + fn)\n",
    "recalls = recall_score(test_labels, predictions.cpu().numpy(), average=average_policy, zero_division=0)\n",
    "for class_idx in range(len(classes)):\n",
    "    print(f'{classes[class_idx]}: {recalls[class_idx]}')"
   ]
  },
  {
   "cell_type": "code",
   "execution_count": 57,
   "metadata": {},
   "outputs": [
    {
     "data": {
      "text/plain": [
       "[Text(0.5, 0, 'MildDemented'),\n",
       " Text(1.5, 0, 'ModerateDemented'),\n",
       " Text(2.5, 0, 'NonDemented'),\n",
       " Text(3.5, 0, 'VeryMildDemented')]"
      ]
     },
     "execution_count": 57,
     "metadata": {},
     "output_type": "execute_result"
    },
    {
     "data": {
      "image/png": "[encoded data removed]",
      "text/plain": [
       "<Figure size 640x480 with 2 Axes>"
      ]
     },
     "metadata": {},
     "output_type": "display_data"
    }
   ],
   "source": [
    "g = sns.heatmap(confusion_matrix(test_labels, predictions.cpu().numpy()), annot=True, fmt='.3g', yticklabels=classes)\n",
    "g.set_xticklabels(labels=classes, rotation=30)"
   ]
  },
  {
   "cell_type": "code",
   "execution_count": null,
   "metadata": {},
   "outputs": [],
   "source": []
  }
 ],
 "metadata": {
  "kernelspec": {
   "display_name": "ml-pipeline",
   "language": "python",
   "name": "python3"
  },
  "language_info": {
   "codemirror_mode": {
    "name": "ipython",
    "version": 3
   },
   "file_extension": ".py",
   "mimetype": "text/x-python",
   "name": "python",
   "nbconvert_exporter": "python",
   "pygments_lexer": "ipython3",
   "version": "3.12.3"
  }
 },
 "nbformat": 4,
 "nbformat_minor": 2
}
