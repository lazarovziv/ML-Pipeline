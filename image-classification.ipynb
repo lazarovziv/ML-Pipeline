{
 "cells": [
  {
   "cell_type": "markdown",
   "metadata": {},
   "source": [
    "## Classification"
   ]
  },
  {
   "cell_type": "markdown",
   "metadata": {},
   "source": [
    "Here we'll utilize the previous' notebook output and logic to be able to try and classify our data."
   ]
  },
  {
   "cell_type": "code",
   "execution_count": 1,
   "metadata": {},
   "outputs": [],
   "source": [
    "import numpy as np\n",
    "import os\n",
    "import matplotlib.pyplot as plt"
   ]
  },
  {
   "cell_type": "code",
   "execution_count": 2,
   "metadata": {},
   "outputs": [],
   "source": [
    "base_data_dir = './data'"
   ]
  },
  {
   "cell_type": "markdown",
   "metadata": {},
   "source": [
    "Reading the data that was saved to disk from the augmentation notebook."
   ]
  },
  {
   "cell_type": "code",
   "execution_count": 3,
   "metadata": {},
   "outputs": [],
   "source": [
    "latest_data_dir_num = max([int(dir.split('_')[-1]) for dir in os.listdir(base_data_dir) if dir.split('_')[-1].isdigit()])\n",
    "data_dir = [dir for dir in os.listdir(base_data_dir) if dir.split('_')[-1].isdigit() and int(dir.split('_')[-1]) == latest_data_dir_num][0]\n",
    "data_dir = f'{base_data_dir}/{data_dir}'"
   ]
  },
  {
   "cell_type": "code",
   "execution_count": 4,
   "metadata": {},
   "outputs": [
    {
     "data": {
      "text/plain": [
       "'./data/decoded_data_57'"
      ]
     },
     "execution_count": 4,
     "metadata": {},
     "output_type": "execute_result"
    }
   ],
   "source": [
    "data_dir"
   ]
  },
  {
   "cell_type": "code",
   "execution_count": 5,
   "metadata": {},
   "outputs": [],
   "source": [
    "import h5py"
   ]
  },
  {
   "cell_type": "code",
   "execution_count": 6,
   "metadata": {},
   "outputs": [],
   "source": [
    "with h5py.File(f'{data_dir}/final_images.h5') as f:\n",
    "    images = f['final_images'][:].squeeze()\n",
    "\n",
    "with h5py.File(f'{data_dir}/final_labels.h5') as f:\n",
    "    labels = f['final_labels'][:]"
   ]
  },
  {
   "cell_type": "code",
   "execution_count": 7,
   "metadata": {},
   "outputs": [
    {
     "data": {
      "text/plain": [
       "(30726, 176, 144)"
      ]
     },
     "execution_count": 7,
     "metadata": {},
     "output_type": "execute_result"
    }
   ],
   "source": [
    "images.shape"
   ]
  },
  {
   "cell_type": "code",
   "execution_count": 8,
   "metadata": {},
   "outputs": [],
   "source": [
    "def normalize_images(imgs, lib=np):\n",
    "    imgs += lib.abs(imgs.min())\n",
    "    imgs /= imgs.max()\n",
    "    imgs *= 255\n",
    "    return imgs"
   ]
  },
  {
   "cell_type": "markdown",
   "metadata": {},
   "source": [
    "Since our first $10242$ images are normalized and properly visualized, we want to normalize the generated images."
   ]
  },
  {
   "cell_type": "code",
   "execution_count": 9,
   "metadata": {},
   "outputs": [],
   "source": [
    "# original shape of images from augmentation notebook is 10242\n",
    "original_images_factor = images.shape[0] // 10242\n",
    "generated_images_start_idx = images.shape[0] // original_images_factor"
   ]
  },
  {
   "cell_type": "code",
   "execution_count": 10,
   "metadata": {},
   "outputs": [],
   "source": [
    "# images = images.astype(np.float32)\n",
    "images[generated_images_start_idx:] = normalize_images(images[generated_images_start_idx:])\n",
    "images = images.astype(np.uint8)"
   ]
  },
  {
   "cell_type": "code",
   "execution_count": 11,
   "metadata": {},
   "outputs": [
    {
     "data": {
      "text/plain": [
       "(0, 255)"
      ]
     },
     "execution_count": 11,
     "metadata": {},
     "output_type": "execute_result"
    }
   ],
   "source": [
    "images[generated_images_start_idx:].min(), images[generated_images_start_idx:].max()"
   ]
  },
  {
   "cell_type": "code",
   "execution_count": 12,
   "metadata": {},
   "outputs": [
    {
     "data": {
      "text/plain": [
       "(30726, 176, 144)"
      ]
     },
     "execution_count": 12,
     "metadata": {},
     "output_type": "execute_result"
    }
   ],
   "source": [
    "images.shape"
   ]
  },
  {
   "cell_type": "markdown",
   "metadata": {},
   "source": [
    "And since those generated images are a bit blurry and noisy, I wanted to clean it as much as I could to \"remove\" the blurriness and make it look like a low-resolution brain image, to still be able to see the main characteristics and attributes of the brain. \n",
    "\n",
    "For this case, I've decided to use the SVD (Singular Value Decomposition) algorithm, which is decomposing the flattened images matrix (flattening the `xy` axes to a single `y` axis), let's call it $A$, to get the $U$, $S$ and $V^*$ matrices, where $U$ and $V^*$ are unitary matrices and $V^*$ is the conjugate transpose of $V$ such that $A = U \\cdot S \\cdot V^*$.\n",
    "\n",
    "$S$ is a diagonal (`numpy` returns a vector) matrix with the singular values of $A$ in a descending order.\n",
    "\n",
    "$U$'s and $V^*$'s columns are orthonormal bases due to them being unitary matrices. \n",
    "\n",
    "$U \\in \\mathbb{R}^{mxm}$ where $m = images.shape[0]$, i.e: $m$ = number of images,\n",
    "\n",
    "$V \\in \\mathbb{R}^{nxn}$ where $n = images.shape[1]*image.shape[2] = 176*144 = 25344$ \n",
    "\n",
    "and $S \\in \\mathbb{R}^{mxn}$. \n",
    "\n",
    "Generally, they're all supposed to uphold $\\in \\mathbb{C}^{k_1 x k_2}$, with the relevant $k1$ and $k2$ values, but since $A$ is real, they are as well.\n",
    "\n",
    "So this algorithm can help us use the $S$ diagonal matrix to use the bigger singular values of $A$ that represent \"feature importance\" in $A$ to filter out \"non important\" features and in that, clean some noise.\n",
    "\n",
    "It is important to say the the SVD is not unique, except for the singular values, i.e: $S$ is unique but $U$, $V^*$ aren't.\n",
    "\n",
    "NOTE: it takes a long time to compute so we've cached it for using the same data across different runs of the notebook (using the same data from the augmentation notebook)."
   ]
  },
  {
   "cell_type": "code",
   "execution_count": 13,
   "metadata": {},
   "outputs": [],
   "source": [
    "if not os.path.exists(f'{data_dir}/svd.h5'):\n",
    "    print('Calculating singular values and singular vectors of the flattened images matrix...')\n",
    "    # 40 mins to calculate on i9 13th generation\n",
    "    U, S, V_t = np.linalg.svd(images.reshape(images.shape[0], -1), full_matrices=False)\n",
    "\n",
    "    print('Saving U, S, V_t to disk...')\n",
    "    with h5py.File(f'{data_dir}/svd.h5', 'w') as f:\n",
    "        f.create_dataset('U', data=U)\n",
    "        f.create_dataset('S', data=S)\n",
    "        f.create_dataset('V_t', data=V_t)\n",
    "else:\n",
    "    with h5py.File(f'{data_dir}/svd.h5') as f:\n",
    "        U = f['U'][:]\n",
    "        S = f['S'][:]\n",
    "        V_t = f['V_t'][:]"
   ]
  },
  {
   "cell_type": "code",
   "execution_count": 14,
   "metadata": {},
   "outputs": [
    {
     "data": {
      "text/plain": [
       "((30726, 25344), (25344,), (25344, 25344))"
      ]
     },
     "execution_count": 14,
     "metadata": {},
     "output_type": "execute_result"
    }
   ],
   "source": [
    "U.shape, S.shape, V_t.shape"
   ]
  },
  {
   "cell_type": "markdown",
   "metadata": {},
   "source": [
    "We'll have $S.shape[0] = 176*144 = 25344$) singular values and we care only for a certain percent of them, where the remaining singular values (and vectors) will be zeroed out to perform some sort of noise cleaning"
   ]
  },
  {
   "cell_type": "code",
   "execution_count": 15,
   "metadata": {},
   "outputs": [
    {
     "data": {
      "text/plain": [
       "1267"
      ]
     },
     "execution_count": 15,
     "metadata": {},
     "output_type": "execute_result"
    }
   ],
   "source": [
    "k = int(0.05 * S.shape[0])\n",
    "k"
   ]
  },
  {
   "cell_type": "markdown",
   "metadata": {},
   "source": [
    "Here we're actually performing the noise cleaning. Since $A = U \\cdot diag(S) \\cdot V^*$, we'll always get a matrix $A' \\in \\mathbb{R}^{mxn}$.\n",
    "\n",
    "And for that, we can control which \"part\" of the matrices will be multiplied since we don't want to fully recover our $A$ matrix.\n",
    "\n",
    "This is why we've calculated $k$ to use only $5 \\%$ of the singular values to perform a massive cleaning."
   ]
  },
  {
   "cell_type": "code",
   "execution_count": 16,
   "metadata": {},
   "outputs": [],
   "source": [
    "# svd_images = torch.bmm(U[..., :k], torch.bmm(torch.diag_embed(S[:, :k]), V_t[:, :k, :]))\n",
    "svd_images = U[..., :k] @ (np.diag(S[..., :k]) @ V_t[..., :k, :])\n",
    "svd_images = svd_images.reshape(*images.shape)"
   ]
  },
  {
   "cell_type": "code",
   "execution_count": 17,
   "metadata": {},
   "outputs": [
    {
     "data": {
      "text/plain": [
       "(30726, 176, 144)"
      ]
     },
     "execution_count": 17,
     "metadata": {},
     "output_type": "execute_result"
    }
   ],
   "source": [
    "svd_images.shape"
   ]
  },
  {
   "cell_type": "markdown",
   "metadata": {},
   "source": [
    "Now for the normalization to the $[0, 255]$ range of the restored images from the `SVD` process."
   ]
  },
  {
   "cell_type": "code",
   "execution_count": 18,
   "metadata": {},
   "outputs": [
    {
     "data": {
      "text/plain": [
       "(-25.542690222071425, 249.51431860050954)"
      ]
     },
     "execution_count": 18,
     "metadata": {},
     "output_type": "execute_result"
    }
   ],
   "source": [
    "svd_images[generated_images_start_idx:].min(), svd_images[generated_images_start_idx:].max()"
   ]
  },
  {
   "cell_type": "code",
   "execution_count": 19,
   "metadata": {},
   "outputs": [],
   "source": [
    "svd_images[generated_images_start_idx:] = normalize_images(svd_images[generated_images_start_idx:], lib=np)\n",
    "svd_images = svd_images.astype(np.uint8)"
   ]
  },
  {
   "cell_type": "code",
   "execution_count": 20,
   "metadata": {},
   "outputs": [
    {
     "data": {
      "text/plain": [
       "(0, 255)"
      ]
     },
     "execution_count": 20,
     "metadata": {},
     "output_type": "execute_result"
    }
   ],
   "source": [
    "svd_images.min(), svd_images.max()"
   ]
  },
  {
   "cell_type": "code",
   "execution_count": 21,
   "metadata": {},
   "outputs": [
    {
     "data": {
      "text/plain": [
       "Text(0.5, 1.0, 'Generated Image After SVD')"
      ]
     },
     "execution_count": 21,
     "metadata": {},
     "output_type": "execute_result"
    },
    {
     "data": {
      "image/png": "[encoded data removed]",
      "text/plain": [
       "<Figure size 1000x1000 with 2 Axes>"
      ]
     },
     "metadata": {},
     "output_type": "display_data"
    }
   ],
   "source": [
    "fig, axes = plt.subplots(1, 2, figsize=(10, 10))\n",
    "axes[0].imshow(images[-1], cmap='gray')\n",
    "axes[0].set_title('Generated Image Before SVD')\n",
    "axes[1].imshow(svd_images[-1], cmap='gray')\n",
    "axes[1].set_title('Generated Image After SVD')"
   ]
  },
  {
   "cell_type": "markdown",
   "metadata": {},
   "source": [
    "As we can see, a large amount of noise was cleaned, the blurriness level dropped while keeping the relevant data of the image. Also, we did get a \"low-resolution\" image as we initially wanted."
   ]
  },
  {
   "cell_type": "code",
   "execution_count": 22,
   "metadata": {},
   "outputs": [
    {
     "data": {
      "text/plain": [
       "(255, 0)"
      ]
     },
     "execution_count": 22,
     "metadata": {},
     "output_type": "execute_result"
    }
   ],
   "source": [
    "images[generated_images_start_idx:].max(), images[generated_images_start_idx:].min()"
   ]
  },
  {
   "cell_type": "code",
   "execution_count": 23,
   "metadata": {},
   "outputs": [],
   "source": [
    "# replacing the existing blurry images with the svd ones\n",
    "images[generated_images_start_idx:] = svd_images[generated_images_start_idx:]"
   ]
  },
  {
   "cell_type": "code",
   "execution_count": 24,
   "metadata": {},
   "outputs": [],
   "source": [
    "data_dir='./data/alzheimer/train'\n",
    "classes = os.listdir(data_dir)"
   ]
  },
  {
   "cell_type": "code",
   "execution_count": 25,
   "metadata": {},
   "outputs": [],
   "source": [
    "import seaborn as sns"
   ]
  },
  {
   "cell_type": "code",
   "execution_count": 26,
   "metadata": {},
   "outputs": [],
   "source": [
    "def transform_image(image, threshold=None, return_inverse=False):\n",
    "    fft_image = np.fft.fft2(image)\n",
    "    if threshold is None:\n",
    "        threshold = 0.0000005 * np.abs(fft_image)\n",
    "    # creating a mask for zeroing low amplitudes, i.e: below the threshold\n",
    "    mask = np.ones_like(fft_image)\n",
    "    mask[np.abs(fft_image) <= threshold] = 0\n",
    "    filtered_fft_image = fft_image * mask\n",
    "    # getting the inverse fourier transform on the filtered image\n",
    "    inverse_fft_image = np.fft.ifft2(filtered_fft_image)\n",
    "    transformed_image = np.real(inverse_fft_image * np.conj(inverse_fft_image))\n",
    "    # normalizing to [0, 255] range\n",
    "    transformed_image = transformed_image / transformed_image.max()\n",
    "    transformed_image *= 255\n",
    "    if return_inverse:\n",
    "        return fft_image, transformed_image\n",
    "    return transformed_image\n",
    "\n",
    "def filter(inverse):\n",
    "    ones = np.ones_like(inverse)\n",
    "    epsilon = 0.000001\n",
    "    border = 0\n",
    "    center_y, center_x = ones.shape[0]//2, ones.shape[1]//2\n",
    "    center = np.array([center_y, center_x])\n",
    "\n",
    "    ones[center_y-border:center_y+border+1, center_x-border:center_x+border+1] = 0 + epsilon\n",
    "    v, u = np.mgrid[:inverse.shape[0], :inverse.shape[1]]\n",
    "\n",
    "    distances_from_center = np.sqrt(\n",
    "        np.square(v - center[0]) + np.square(u - center[1])\n",
    "    )\n",
    "    threshold = 40\n",
    "    mask = distances_from_center <= threshold\n",
    "\n",
    "    return inverse * mask"
   ]
  },
  {
   "cell_type": "markdown",
   "metadata": {},
   "source": [
    "### Fine tuning"
   ]
  },
  {
   "cell_type": "code",
   "execution_count": 27,
   "metadata": {},
   "outputs": [],
   "source": [
    "import torch"
   ]
  },
  {
   "cell_type": "code",
   "execution_count": 28,
   "metadata": {},
   "outputs": [
    {
     "data": {
      "text/plain": [
       "device(type='cuda')"
      ]
     },
     "execution_count": 28,
     "metadata": {},
     "output_type": "execute_result"
    }
   ],
   "source": [
    "device = torch.device('cuda' if torch.cuda.is_available() else 'cpu')\n",
    "device"
   ]
  },
  {
   "cell_type": "code",
   "execution_count": 29,
   "metadata": {},
   "outputs": [],
   "source": [
    "import torch.nn as nn"
   ]
  },
  {
   "cell_type": "markdown",
   "metadata": {},
   "source": [
    "Our `ConvClassifier` is using the `ConvAutoEncoder` class from the augmentation notebook, but in the `forward` method we're only using the `encoder`."
   ]
  },
  {
   "cell_type": "code",
   "execution_count": 30,
   "metadata": {},
   "outputs": [],
   "source": [
    "import modules.models\n",
    "from modules.models.models import ConvClassifier\n",
    "from modules.models.dataset import AlzheimerDataset"
   ]
  },
  {
   "cell_type": "code",
   "execution_count": 31,
   "metadata": {},
   "outputs": [],
   "source": [
    "import modules.db\n",
    "from modules.db.optuna_report import get_best_hyperparameters"
   ]
  },
  {
   "cell_type": "markdown",
   "metadata": {},
   "source": [
    "Same as with the augmentation, we'll create a train and validation datasets for the training evaluation."
   ]
  },
  {
   "cell_type": "code",
   "execution_count": 32,
   "metadata": {},
   "outputs": [],
   "source": [
    "perm = torch.randperm(images.shape[0])\n",
    "val_indices = perm[:int(images.shape[0] * 0.15)].numpy()\n",
    "train_indices = np.setdiff1d(np.arange(images.shape[0]), val_indices)"
   ]
  },
  {
   "cell_type": "code",
   "execution_count": 33,
   "metadata": {},
   "outputs": [],
   "source": [
    "# using the same training and validation datasets from the autoencoder training\n",
    "train_dataset = AlzheimerDataset(images[train_indices], labels[train_indices])\n",
    "val_dataset = AlzheimerDataset(images[val_indices], labels[val_indices])"
   ]
  },
  {
   "cell_type": "markdown",
   "metadata": {},
   "source": [
    "This part is important. To initialize our `classifier` we need the augmentation model's exact architecture to use the encoder, and since we saved our model as a file at the end of the previous notebook, with all the relevant parameters in its name, we can parse that name later on, given we have the parameters.\n",
    "\n",
    "So I've decided to use the best model in all of my attempts, and not the one from the last study, and for that I'm fetching its parameters from the database."
   ]
  },
  {
   "cell_type": "code",
   "execution_count": 34,
   "metadata": {},
   "outputs": [],
   "source": [
    "params = get_best_hyperparameters(from_last_study=False) # get hyperparameters from the study, if studied\n",
    "\n",
    "train_best_params = params\n",
    "train_best_params['lr'] = train_best_params['learning_rate']"
   ]
  },
  {
   "cell_type": "code",
   "execution_count": 35,
   "metadata": {},
   "outputs": [],
   "source": [
    "def train_epoch(model, optimizer, loss, dataloader, val_dataset, overall_losses, val_overall_losses, accuracy, val_accuracy, epoch, scheduler=None, writer=None):\n",
    "    for _, (batch_X, batch_y) in enumerate(dataloader):\n",
    "        batch_X = batch_X.to(device=model.device)\n",
    "        batch_y = batch_y.to(device=model.device)\n",
    "\n",
    "        if batch_X.shape[0] == 1:\n",
    "            batch_X = torch.concat((batch_X, batch_X), dim=0).to(device=model.device)\n",
    "            batch_y = torch.concat((batch_y, batch_y), dim=0).to(device=model.device)\n",
    "        \n",
    "        optimizer.zero_grad()\n",
    "        \n",
    "        batch_output = model(batch_X)\n",
    "        batch_loss = loss(batch_output, batch_y)\n",
    "        overall_losses[epoch] += batch_loss.item()\n",
    "\n",
    "        predictions = torch.argmax(batch_output, dim=1).to(model.device)\n",
    "        accuracy[epoch] += (predictions == batch_y).sum().item()\n",
    "    \n",
    "        batch_loss.backward()\n",
    "        optimizer.step()\n",
    "    \n",
    "    # updating train metrics\n",
    "    overall_losses[epoch] /= dataloader.dataset.y.shape[0]\n",
    "    accuracy[epoch] /= dataloader.dataset.y.shape[0]\n",
    "\n",
    "    if writer:\n",
    "        writer.add_scalar('Overall Loss/Train', overall_losses[epoch], epoch)\n",
    "        writer.add_scalar('Accuracy/Train', accuracy[epoch], epoch)\n",
    "        \n",
    "    # validation\n",
    "    with torch.no_grad():\n",
    "        model.eval()\n",
    "        val_output = model(val_dataset.X.to(model.device))\n",
    "        loss_value = loss(val_output, val_dataset.y.to(model.device))\n",
    "\n",
    "        val_overall_losses[epoch] = loss_value.item() / val_dataset.y.shape[0]\n",
    "\n",
    "        predictions = torch.argmax(val_output, dim=1).to(model.device)\n",
    "        val_accuracy[epoch] = (predictions == val_dataset.y.to(model.device)).sum().item() / predictions.shape[0]\n",
    "\n",
    "        if writer:\n",
    "            writer.add_scalar('Overall Loss/Validation', val_overall_losses[epoch], epoch)\n",
    "            writer.add_scalar('Accuracy/Validation', val_accuracy[epoch], epoch)\n",
    "\n",
    "    # update learning rate after each epoch to have equal effect for every batch\n",
    "    if scheduler is not None:\n",
    "        scheduler.step()\n",
    "    "
   ]
  },
  {
   "cell_type": "code",
   "execution_count": 36,
   "metadata": {},
   "outputs": [],
   "source": [
    "from tqdm.notebook import tqdm"
   ]
  },
  {
   "cell_type": "code",
   "execution_count": 37,
   "metadata": {},
   "outputs": [],
   "source": [
    "import modules.db\n",
    "from modules.db.optuna_report import report_optuna_trial, get_last_study_id"
   ]
  },
  {
   "cell_type": "code",
   "execution_count": 38,
   "metadata": {},
   "outputs": [],
   "source": [
    "# using tensorboard for the visualizations and progress of the trials\n",
    "from torch.utils.tensorboard import SummaryWriter\n",
    "import optuna"
   ]
  },
  {
   "cell_type": "code",
   "execution_count": 39,
   "metadata": {},
   "outputs": [
    {
     "data": {
      "text/plain": [
       "69"
      ]
     },
     "execution_count": 39,
     "metadata": {},
     "output_type": "execute_result"
    }
   ],
   "source": [
    "classification_studies_dir = './data/studies/classification'\n",
    "if not os.path.isdir(classification_studies_dir):\n",
    "    os.mkdir(classification_studies_dir)\n",
    "studies_directories = os.listdir(classification_studies_dir)\n",
    "# if last study wasn't finished, use that study id in tensorboard and later on in resuming the optuna study\n",
    "if len(studies_directories) > 0:\n",
    "    current_study_id = studies_directories[-1].split('-')[-1]\n",
    "# last study finished successfully so we'll start a brand new one\n",
    "else:\n",
    "    current_study_id = get_last_study_id()\n",
    "current_study_id"
   ]
  },
  {
   "cell_type": "markdown",
   "metadata": {},
   "source": [
    "### Training functions"
   ]
  },
  {
   "cell_type": "code",
   "execution_count": 40,
   "metadata": {},
   "outputs": [],
   "source": [
    "# if trial is None we're going for multi-objective optimization or we're normally training\n",
    "def train(trial, model, optimizer, loss, epochs, dataloader, val_dataset, scheduler=None, plot=True, show_progress=True):\n",
    "    log_dir = f'./logs/classification/study-{current_study_id}/trial-{trial.number}' if trial else f'./logs/classification/study-{current_study_id}/final'\n",
    "    writer = SummaryWriter(log_dir=log_dir)\n",
    "\n",
    "    writer.add_graph(model, next(iter(dataloader))[0].to(device=model.device))\n",
    "    \n",
    "    overall_losses, val_overall_losses = torch.zeros(epochs), torch.zeros(epochs)\n",
    "    accuracy, val_accuracy = torch.zeros(epochs), torch.zeros(epochs)\n",
    "    \n",
    "    # using tqdm has conflicts with optuna's study progress bar\n",
    "    epochs_range = tqdm(range(epochs)) if show_progress else range(epochs)\n",
    "    for epoch in epochs_range:\n",
    "        model.train()\n",
    "        \n",
    "        train_epoch(\n",
    "            model=model,\n",
    "            optimizer=optimizer, \n",
    "            loss=loss,\n",
    "            epoch=epoch,\n",
    "            dataloader=dataloader,\n",
    "            val_dataset=val_dataset,\n",
    "            val_overall_losses=val_overall_losses,\n",
    "            accuracy=accuracy,\n",
    "            val_accuracy=val_accuracy,\n",
    "            overall_losses=overall_losses,\n",
    "            scheduler=scheduler,\n",
    "            writer=writer\n",
    "        )\n",
    "\n",
    "        writer.flush()\n",
    "        \n",
    "        if trial is not None:\n",
    "            trial.report(overall_losses[epoch].item(), epoch)\n",
    "\n",
    "            if trial.should_prune():\n",
    "                writer.close()\n",
    "                raise optuna.TrialPruned()\n",
    "\n",
    "    if plot:\n",
    "        fig, axes = plt.subplots(1, 2, sharex=True, sharey=False, figsize=(16, 10))\n",
    "        \n",
    "        axes[0].plot(overall_losses.cpu(), color='blue', label='Train')\n",
    "        axes[0].plot(val_overall_losses.cpu(), color='orange', label='Validation')\n",
    "        axes[0].set_title('Overall Loss')\n",
    "        axes[0].legend()\n",
    "\n",
    "        axes[1].plot(accuracy.cpu(), color='blue', label='Train Accuracy')\n",
    "        axes[1].plot(val_accuracy.cpu(), color='orange', label='Validation Accuracy')\n",
    "        axes[1].set_title('Accuracy')\n",
    "        axes[1].legend()\n",
    "\n",
    "    # writer.flush()\n",
    "    writer.close()\n",
    "    \n",
    "    return (overall_losses, val_overall_losses), (accuracy, val_accuracy)"
   ]
  },
  {
   "cell_type": "markdown",
   "metadata": {},
   "source": [
    "Our loss function here is different from the augmentation one, since we're using supervised learning, and we want to train a classifier, our basic options are `CrossEntropyLoss` and `NLLLoss`. \n",
    "\n",
    "Naturally, I've decided to let Optuna choose which one is best.\n",
    "\n",
    "But note that we're not using the \"vanilla\" arguments, but we're calculating a weights vector for each of the classes and letting the loss function use those weights when calculating the loss value. This will try and balance the minority classes by giving them a larger weight when calculating the gradients, and will do the opposite for the majority classes."
   ]
  },
  {
   "cell_type": "code",
   "execution_count": 41,
   "metadata": {},
   "outputs": [],
   "source": [
    "def get_classification_loss_function(idx, weighted_loss=True, reduction='mean', device='cpu'):\n",
    "    if weighted_loss:\n",
    "        # getting the distribution of data\n",
    "        _, counts = np.unique(labels, return_counts=True)\n",
    "        counts = counts.astype(np.float32)\n",
    "        for i in range(len(counts)):\n",
    "            counts[i] = counts.sum() / (len(counts) * counts[i])\n",
    "        # giving minority classes larger weights\n",
    "        weights = torch.from_numpy(counts).to(dtype=torch.float32, device=device)\n",
    "        return nn.CrossEntropyLoss(reduction=reduction, weight=weights) if idx == 0 else nn.NLLLoss(reduction=reduction, weight=weights)\n",
    "    # not weighted loss\n",
    "    return nn.CrossEntropyLoss(reduction=reduction) if idx == 0 else nn.NLLLoss(reduction=reduction)"
   ]
  },
  {
   "cell_type": "markdown",
   "metadata": {},
   "source": [
    "NOTE: I've tweaked the values here from the augmentation notebook, again, after trial and error, and I've added a `fine_tune` parameter for deciding whether we want to actually fine tune the `encoder` or retrain its' weights.\n",
    "\n",
    "There's an option to use different optimizer parameters for the `encoder` model, and specific ones for the `classifier`'s parameters, in the `optimizer` initialization, which will probably be best, but currently I couldn't think of the values that will be given to the `encoder` parameters."
   ]
  },
  {
   "cell_type": "code",
   "execution_count": 42,
   "metadata": {},
   "outputs": [],
   "source": [
    "def initialize_hyperparameters(trial):\n",
    "    lr = trial.suggest_float('lr', 1e-6, 1e-1)\n",
    "    weight_decay = trial.suggest_float('weight_decay', 0, 0.1)\n",
    "    beta1 = trial.suggest_float('beta1', 0.5, 0.999)\n",
    "    beta2 = trial.suggest_float('beta2', 0.5, 0.999)\n",
    "\n",
    "    momentum = trial.suggest_float('momentum', 0, 0.75)\n",
    "    dampening = trial.suggest_float('dampening', 0, 0.3)\n",
    "\n",
    "    optimizer_idx = trial.suggest_int('optimizer_idx', 0, 1)\n",
    "\n",
    "    scheduler_gamma = trial.suggest_float('scheduler_gamma', 0.8, 0.999)\n",
    "\n",
    "    fine_tune = trial.suggest_categorical('fine_tune', [True, False])\n",
    "    \n",
    "    # lower the number of epochs when retraining the encoder to avoid overfitting\n",
    "    if not fine_tune:\n",
    "        epochs = trial.suggest_int('epochs', 4, 25)\n",
    "    else:\n",
    "        epochs = trial.suggest_int('epochs', 32, 72)\n",
    "    \n",
    "    batch_size = trial.suggest_int('batch_size', 32, 256)\n",
    "\n",
    "    loss_function_id = trial.suggest_int('loss_function_id', 0, 1)\n",
    "    reduction = trial.suggest_categorical('reduction', ['sum'])\n",
    "\n",
    "    weighted_loss = trial.suggest_categorical('weighted_loss', [True, False])\n",
    "\n",
    "    relu_slope = trial.suggest_float('relu_slope', 0, 0.2)\n",
    "    linear_blocks = trial.suggest_categorical('linear_blocks', [True, False])\n",
    "\n",
    "    return lr, weight_decay, (beta1, beta2), momentum, dampening, optimizer_idx, scheduler_gamma, epochs, \\\n",
    "        batch_size, loss_function_id, reduction, fine_tune, weighted_loss, relu_slope, linear_blocks"
   ]
  },
  {
   "cell_type": "code",
   "execution_count": 43,
   "metadata": {},
   "outputs": [],
   "source": [
    "def objective(trial):\n",
    "    (lr,\n",
    "     weight_decay,\n",
    "     betas,\n",
    "     momentum,\n",
    "     dampening,\n",
    "     optimizer_idx,\n",
    "     scheduler_gamma,\n",
    "     epochs,\n",
    "     batch_size,\n",
    "     loss_function_id,\n",
    "     reduction,\n",
    "     fine_tune,\n",
    "     weighted_loss,\n",
    "     relu_slope,\n",
    "     linear_blocks) = initialize_hyperparameters(trial)\n",
    "    \n",
    "    model = ConvClassifier(train_params=train_best_params, num_classes=len(np.unique(labels)),\n",
    "                           relu_slope=relu_slope, device=device, fine_tune=fine_tune, linear_blocks=linear_blocks).to(device)\n",
    "    # trainable_parameters = [param for name, param in model.named_parameters() if name.startswith('seq_')]\n",
    "\n",
    "    if optimizer_idx == 0:\n",
    "        optimizer = torch.optim.Adam(model.parameters(), lr=lr, weight_decay=weight_decay, betas=betas)\n",
    "    else:\n",
    "        optimizer = torch.optim.SGD(model.parameters(), lr=lr, weight_decay=weight_decay, momentum=momentum, dampening=dampening)\n",
    "    \n",
    "    scheduler = torch.optim.lr_scheduler.ExponentialLR(optimizer, gamma=scheduler_gamma)\n",
    "    loss = get_classification_loss_function(loss_function_id, weighted_loss, reduction, device=model.device)\n",
    "    \n",
    "    dataloader = torch.utils.data.DataLoader(train_dataset, batch_size=batch_size, shuffle=True)\n",
    "    \n",
    "    overall, _ = train(\n",
    "        model=model,\n",
    "        optimizer=optimizer,\n",
    "        loss=loss,\n",
    "        epochs=epochs,\n",
    "        dataloader=dataloader,\n",
    "        val_dataset=val_dataset,\n",
    "        scheduler=scheduler,\n",
    "        plot=False,\n",
    "        show_progress=False,\n",
    "        trial=trial\n",
    "    )\n",
    "    \n",
    "    overall_train_losses, val_overall_losses = overall\n",
    "    \n",
    "    # saving the best trained model exploded the VRAM so we'll have to do with the best parameters and then retrain \n",
    "    # trial.set_user_attr(key='best_booster', value=autoencoder)\n",
    "    \n",
    "    return val_overall_losses[-1].item() # overall_train_losses[-1].item()"
   ]
  },
  {
   "cell_type": "code",
   "execution_count": 44,
   "metadata": {},
   "outputs": [],
   "source": [
    "def multi_objective(trial):\n",
    "    (lr,\n",
    "     weight_decay,\n",
    "     betas,\n",
    "     momentum,\n",
    "     dampening,\n",
    "     optimizer_idx,\n",
    "     scheduler_gamma,\n",
    "     epochs,\n",
    "     batch_size,\n",
    "     loss_function_id,\n",
    "     reduction,\n",
    "     fine_tune,\n",
    "     weighted_loss,\n",
    "     relu_slope,\n",
    "     linear_blocks) = initialize_hyperparameters(trial)\n",
    "    \n",
    "    model = ConvClassifier(train_params=train_best_params, num_classes=len(np.unique(labels)),\n",
    "                           relu_slope=relu_slope, device=device, fine_tune=fine_tune, linear_blocks=linear_blocks).to(device)\n",
    "    # trainable_parameters = [param for name, param in model.named_parameters() if name.startswith('seq_')]\n",
    "\n",
    "    if optimizer_idx == 0:\n",
    "        optimizer = torch.optim.Adam(model.parameters(), lr=lr, weight_decay=weight_decay, betas=betas)\n",
    "    else:\n",
    "        optimizer = torch.optim.SGD(model.parameters(), lr=lr, weight_decay=weight_decay, momentum=momentum, dampening=dampening)\n",
    "\n",
    "    scheduler = torch.optim.lr_scheduler.ExponentialLR(optimizer, gamma=scheduler_gamma)\n",
    "    loss = get_classification_loss_function(loss_function_id, weighted_loss, reduction, device=model.device)\n",
    "    \n",
    "    dataloader = torch.utils.data.DataLoader(train_dataset, batch_size=batch_size, shuffle=True)\n",
    "    \n",
    "    overall, _ = train(\n",
    "        model=model,\n",
    "        optimizer=optimizer,\n",
    "        loss=loss,\n",
    "        epochs=epochs,\n",
    "        dataloader=dataloader,\n",
    "        val_dataset=val_dataset,\n",
    "        scheduler=scheduler,\n",
    "        plot=False,\n",
    "        show_progress=False,\n",
    "        trial=None\n",
    "    )\n",
    "    \n",
    "    overall_train_losses, val_overall_losses = overall\n",
    "    # train_accuracy, val_accuracy = accuracy\n",
    "    \n",
    "    # TODO: check BCE vs NLLLoss scales\n",
    "    return overall_train_losses[-1].item(), val_overall_losses[-1].item()"
   ]
  },
  {
   "cell_type": "code",
   "execution_count": 45,
   "metadata": {},
   "outputs": [],
   "source": [
    "def callback(study, trial):\n",
    "    report_optuna_trial(study, trial)"
   ]
  },
  {
   "cell_type": "code",
   "execution_count": 46,
   "metadata": {},
   "outputs": [],
   "source": [
    "def optimize(is_multi_objective, n_trials=100):\n",
    "    directions = ['minimize', 'minimize'] if is_multi_objective else ['minimize']\n",
    "    objective_func = multi_objective if is_multi_objective else objective\n",
    "    study = optuna.create_study(directions=directions)\n",
    "    study.optimize(objective_func, n_trials=n_trials, timeout=3600*(n_trials // 30), show_progress_bar=True, gc_after_trial=True) # , callbacks=[callback])\n",
    "    return study"
   ]
  },
  {
   "cell_type": "markdown",
   "metadata": {},
   "source": [
    "Starting the study"
   ]
  },
  {
   "cell_type": "code",
   "execution_count": 47,
   "metadata": {},
   "outputs": [
    {
     "name": "stderr",
     "output_type": "stream",
     "text": [
      "[I 2025-02-01 20:43:45,565] A new study created in memory with name: no-name-8caacab3-a0a6-4aaa-a3ba-5bca2111907e\n"
     ]
    },
    {
     "data": {
      "application/vnd.jupyter.widget-view+json": {
       "model_id": "ec942a7183e14bd19cf20d98ab5efa17",
       "version_major": 2,
       "version_minor": 0
      },
      "text/plain": [
       "  0%|          | 0/100 [00:00<?, ?it/s]"
      ]
     },
     "metadata": {},
     "output_type": "display_data"
    },
    {
     "name": "stdout",
     "output_type": "stream",
     "text": [
      "[I 2025-02-01 20:44:32,188] Trial 0 finished with value: 0.8246742486953735 and parameters: {'lr': 0.0664261315414164, 'weight_decay': 0.09816406826996439, 'beta1': 0.9414969132407247, 'beta2': 0.8120217032217074, 'momentum': 0.24934093456825365, 'dampening': 0.1921922996463018, 'optimizer_idx': 0, 'scheduler_gamma': 0.9349492365011978, 'fine_tune': True, 'epochs': 39, 'batch_size': 148, 'loss_function_id': 0, 'reduction': 'sum', 'weighted_loss': False, 'relu_slope': 0.058261048197632365, 'linear_blocks': False}. Best is trial 0 with value: 0.8246742486953735.\n",
      "[I 2025-02-01 20:45:49,567] Trial 1 finished with value: 0.539512574672699 and parameters: {'lr': 0.07361900733278608, 'weight_decay': 0.03743227986303702, 'beta1': 0.9706440227711186, 'beta2': 0.9306616539638628, 'momentum': 0.3740117854772737, 'dampening': 0.2753660138065692, 'optimizer_idx': 0, 'scheduler_gamma': 0.8238531099347833, 'fine_tune': True, 'epochs': 64, 'batch_size': 212, 'loss_function_id': 1, 'reduction': 'sum', 'weighted_loss': False, 'relu_slope': 0.05546607756131719, 'linear_blocks': True}. Best is trial 1 with value: 0.539512574672699.\n",
      "[I 2025-02-01 20:46:50,539] Trial 2 finished with value: 0.9069592356681824 and parameters: {'lr': 0.0805688557332111, 'weight_decay': 0.005373943326189613, 'beta1': 0.5971055219849319, 'beta2': 0.7005958312665593, 'momentum': 0.6237603677472855, 'dampening': 0.06591003461844631, 'optimizer_idx': 1, 'scheduler_gamma': 0.9499163105685845, 'fine_tune': True, 'epochs': 38, 'batch_size': 68, 'loss_function_id': 1, 'reduction': 'sum', 'weighted_loss': True, 'relu_slope': 0.15798120503554033, 'linear_blocks': True}. Best is trial 1 with value: 0.539512574672699.\n",
      "[I 2025-02-01 20:47:29,086] Trial 3 finished with value: 0.9273800253868103 and parameters: {'lr': 0.061175494043412944, 'weight_decay': 0.021476406239869374, 'beta1': 0.8058315396340785, 'beta2': 0.6058635914231657, 'momentum': 0.546451585996448, 'dampening': 0.14155665679145718, 'optimizer_idx': 1, 'scheduler_gamma': 0.8063613961257962, 'fine_tune': False, 'epochs': 24, 'batch_size': 115, 'loss_function_id': 0, 'reduction': 'sum', 'weighted_loss': False, 'relu_slope': 0.031263199600677076, 'linear_blocks': True}. Best is trial 1 with value: 0.539512574672699.\n",
      "[I 2025-02-01 20:48:24,717] Trial 4 finished with value: 0.7358436584472656 and parameters: {'lr': 0.074810240430003, 'weight_decay': 0.05939972467709484, 'beta1': 0.9318097410563924, 'beta2': 0.5651610065371814, 'momentum': 0.29072958963483597, 'dampening': 0.02432835490366586, 'optimizer_idx': 0, 'scheduler_gamma': 0.8987383437324818, 'fine_tune': True, 'epochs': 50, 'batch_size': 203, 'loss_function_id': 0, 'reduction': 'sum', 'weighted_loss': False, 'relu_slope': 0.0858244544084968, 'linear_blocks': False}. Best is trial 1 with value: 0.539512574672699.\n",
      "[I 2025-02-01 20:49:27,967] Trial 5 finished with value: 0.49086794257164 and parameters: {'lr': 0.009457702825027928, 'weight_decay': 0.07559035555157853, 'beta1': 0.634925774101206, 'beta2': 0.9253714759510854, 'momentum': 0.6890545881022653, 'dampening': 0.04706016426661249, 'optimizer_idx': 0, 'scheduler_gamma': 0.8996505725954164, 'fine_tune': True, 'epochs': 53, 'batch_size': 250, 'loss_function_id': 0, 'reduction': 'sum', 'weighted_loss': True, 'relu_slope': 0.1118196225298924, 'linear_blocks': True}. Best is trial 5 with value: 0.49086794257164.\n",
      "[I 2025-02-01 20:49:47,788] Trial 6 finished with value: 1.0963001251220703 and parameters: {'lr': 0.07482230856186148, 'weight_decay': 0.030837958953032055, 'beta1': 0.9398875994680203, 'beta2': 0.8621230187991215, 'momentum': 0.43568730013365686, 'dampening': 0.029059924228687473, 'optimizer_idx': 0, 'scheduler_gamma': 0.9809622752595297, 'fine_tune': False, 'epochs': 14, 'batch_size': 143, 'loss_function_id': 1, 'reduction': 'sum', 'weighted_loss': True, 'relu_slope': 0.021753619473206334, 'linear_blocks': False}. Best is trial 5 with value: 0.49086794257164.\n",
      "[I 2025-02-01 20:50:42,291] Trial 7 finished with value: 0.5189188122749329 and parameters: {'lr': 0.005193276509192587, 'weight_decay': 0.032037945449095565, 'beta1': 0.5172693399330102, 'beta2': 0.648434310679344, 'momentum': 0.2937914456272035, 'dampening': 0.18761871841888125, 'optimizer_idx': 0, 'scheduler_gamma': 0.8760393244669277, 'fine_tune': True, 'epochs': 49, 'batch_size': 186, 'loss_function_id': 1, 'reduction': 'sum', 'weighted_loss': True, 'relu_slope': 0.16745515509519418, 'linear_blocks': False}. Best is trial 5 with value: 0.49086794257164.\n",
      "[I 2025-02-01 20:50:44,153] Trial 8 pruned. \n",
      "[I 2025-02-01 20:51:09,223] Trial 9 finished with value: 1.3015379905700684 and parameters: {'lr': 0.015125003810444383, 'weight_decay': 0.021204925580142364, 'beta1': 0.7857031197537527, 'beta2': 0.5848045337108164, 'momentum': 0.0784274385506108, 'dampening': 0.13199378350029892, 'optimizer_idx': 0, 'scheduler_gamma': 0.8466790049684932, 'fine_tune': False, 'epochs': 18, 'batch_size': 250, 'loss_function_id': 0, 'reduction': 'sum', 'weighted_loss': False, 'relu_slope': 0.17749245964360494, 'linear_blocks': False}. Best is trial 5 with value: 0.49086794257164.\n",
      "[I 2025-02-01 20:51:11,021] Trial 10 pruned. \n",
      "[I 2025-02-01 20:52:25,110] Trial 11 finished with value: 0.41274240612983704 and parameters: {'lr': 0.00023933206090173166, 'weight_decay': 0.08049395696267644, 'beta1': 0.5027805813325206, 'beta2': 0.7099684324315484, 'momentum': 0.4946512602811846, 'dampening': 0.21836845253732598, 'optimizer_idx': 0, 'scheduler_gamma': 0.8675501312824575, 'fine_tune': True, 'epochs': 60, 'batch_size': 194, 'loss_function_id': 1, 'reduction': 'sum', 'weighted_loss': True, 'relu_slope': 0.13220540364908456, 'linear_blocks': True}. Best is trial 11 with value: 0.41274240612983704.\n",
      "[I 2025-02-01 20:52:26,685] Trial 12 pruned. \n",
      "[I 2025-02-01 20:53:31,420] Trial 13 pruned. \n",
      "[I 2025-02-01 20:53:32,973] Trial 14 pruned. \n",
      "[I 2025-02-01 20:53:34,614] Trial 15 pruned. \n",
      "[I 2025-02-01 20:54:17,433] Trial 16 pruned. \n",
      "[I 2025-02-01 20:54:18,945] Trial 17 pruned. \n",
      "[I 2025-02-01 20:54:20,711] Trial 18 pruned. \n",
      "[I 2025-02-01 20:55:22,131] Trial 19 pruned. \n",
      "[I 2025-02-01 20:55:23,688] Trial 20 pruned. \n",
      "[I 2025-02-01 20:55:51,095] Trial 21 pruned. \n",
      "[I 2025-02-01 20:55:53,590] Trial 22 pruned. \n",
      "[I 2025-02-01 20:56:47,906] Trial 23 pruned. \n",
      "[I 2025-02-01 20:57:30,940] Trial 24 pruned. \n",
      "[I 2025-02-01 20:57:52,940] Trial 25 pruned. \n",
      "[I 2025-02-01 20:57:59,344] Trial 26 pruned. \n",
      "[I 2025-02-01 20:59:11,113] Trial 27 finished with value: 0.5991939306259155 and parameters: {'lr': 0.006094063728893734, 'weight_decay': 0.06719848708053536, 'beta1': 0.5669942828627151, 'beta2': 0.6962200116585943, 'momentum': 0.5013085549965326, 'dampening': 0.17737672332831453, 'optimizer_idx': 0, 'scheduler_gamma': 0.8795805914101267, 'fine_tune': True, 'epochs': 60, 'batch_size': 240, 'loss_function_id': 1, 'reduction': 'sum', 'weighted_loss': True, 'relu_slope': 0.0820649685269213, 'linear_blocks': True}. Best is trial 11 with value: 0.41274240612983704.\n",
      "[I 2025-02-01 20:59:54,792] Trial 28 pruned. \n",
      "[I 2025-02-01 21:00:07,971] Trial 29 pruned. \n",
      "[I 2025-02-01 21:00:37,969] Trial 30 pruned. \n",
      "[I 2025-02-01 21:00:39,497] Trial 31 pruned. \n",
      "[I 2025-02-01 21:00:41,013] Trial 32 pruned. \n",
      "[I 2025-02-01 21:00:42,583] Trial 33 pruned. \n",
      "[I 2025-02-01 21:00:44,102] Trial 34 pruned. \n",
      "[I 2025-02-01 21:00:45,603] Trial 35 pruned. \n",
      "[I 2025-02-01 21:00:51,586] Trial 36 pruned. \n",
      "[I 2025-02-01 21:00:52,990] Trial 37 pruned. \n",
      "[I 2025-02-01 21:00:54,710] Trial 38 pruned. \n",
      "[I 2025-02-01 21:00:56,106] Trial 39 pruned. \n",
      "[I 2025-02-01 21:00:57,687] Trial 40 pruned. \n",
      "[I 2025-02-01 21:02:09,946] Trial 41 finished with value: 0.5915195941925049 and parameters: {'lr': 0.006264799431794763, 'weight_decay': 0.0629794135148754, 'beta1': 0.5777785998604571, 'beta2': 0.6889721376978741, 'momentum': 0.49796591702634707, 'dampening': 0.1461327933290149, 'optimizer_idx': 0, 'scheduler_gamma': 0.8854940831442445, 'fine_tune': True, 'epochs': 62, 'batch_size': 241, 'loss_function_id': 1, 'reduction': 'sum', 'weighted_loss': True, 'relu_slope': 0.0847675631597489, 'linear_blocks': True}. Best is trial 11 with value: 0.41274240612983704.\n",
      "[I 2025-02-01 21:02:27,612] Trial 42 pruned. \n",
      "[I 2025-02-01 21:03:33,334] Trial 43 finished with value: 0.5752480030059814 and parameters: {'lr': 0.005405869718056768, 'weight_decay': 0.06081628100224272, 'beta1': 0.583968410001125, 'beta2': 0.6670774681147712, 'momentum': 0.4466707300237146, 'dampening': 0.11750890225940272, 'optimizer_idx': 0, 'scheduler_gamma': 0.8982310450155601, 'fine_tune': True, 'epochs': 56, 'batch_size': 231, 'loss_function_id': 1, 'reduction': 'sum', 'weighted_loss': True, 'relu_slope': 0.08389574693100824, 'linear_blocks': True}. Best is trial 11 with value: 0.41274240612983704.\n",
      "[I 2025-02-01 21:04:41,578] Trial 44 finished with value: 0.5238749384880066 and parameters: {'lr': 0.004821100985365461, 'weight_decay': 0.0576240367778932, 'beta1': 0.6208871817417025, 'beta2': 0.7626328563231068, 'momentum': 0.4498520508228122, 'dampening': 0.08569156963365693, 'optimizer_idx': 0, 'scheduler_gamma': 0.9027950069842207, 'fine_tune': True, 'epochs': 57, 'batch_size': 220, 'loss_function_id': 1, 'reduction': 'sum', 'weighted_loss': True, 'relu_slope': 0.11840301025419493, 'linear_blocks': True}. Best is trial 11 with value: 0.41274240612983704.\n",
      "[I 2025-02-01 21:04:43,135] Trial 45 pruned. \n",
      "[I 2025-02-01 21:04:46,369] Trial 46 pruned. \n",
      "[I 2025-02-01 21:05:02,412] Trial 47 pruned. \n",
      "[I 2025-02-01 21:05:28,057] Trial 48 pruned. \n",
      "[I 2025-02-01 21:05:29,591] Trial 49 pruned. \n",
      "[I 2025-02-01 21:05:31,117] Trial 50 pruned. \n",
      "[I 2025-02-01 21:06:35,964] Trial 51 finished with value: 0.5352096557617188 and parameters: {'lr': 0.00530359980931343, 'weight_decay': 0.061095515146783526, 'beta1': 0.5954175760716368, 'beta2': 0.6530934673838128, 'momentum': 0.5347481038805773, 'dampening': 0.11721239038309703, 'optimizer_idx': 0, 'scheduler_gamma': 0.8991556834874141, 'fine_tune': True, 'epochs': 55, 'batch_size': 233, 'loss_function_id': 1, 'reduction': 'sum', 'weighted_loss': True, 'relu_slope': 0.05973627863466739, 'linear_blocks': True}. Best is trial 11 with value: 0.41274240612983704.\n",
      "[I 2025-02-01 21:06:38,637] Trial 52 pruned. \n",
      "[I 2025-02-01 21:06:40,157] Trial 53 pruned. \n",
      "[I 2025-02-01 21:06:41,721] Trial 54 pruned. \n",
      "[I 2025-02-01 21:07:55,204] Trial 55 finished with value: 0.5724642276763916 and parameters: {'lr': 0.0034295594950583845, 'weight_decay': 0.06315430867578807, 'beta1': 0.6477197090689534, 'beta2': 0.5552499695720318, 'momentum': 0.42798260794671755, 'dampening': 0.08917239340144863, 'optimizer_idx': 0, 'scheduler_gamma': 0.912655819056906, 'fine_tune': True, 'epochs': 63, 'batch_size': 248, 'loss_function_id': 1, 'reduction': 'sum', 'weighted_loss': True, 'relu_slope': 0.07490615129633918, 'linear_blocks': True}. Best is trial 11 with value: 0.41274240612983704.\n",
      "[I 2025-02-01 21:07:56,843] Trial 56 pruned. \n",
      "[I 2025-02-01 21:08:01,976] Trial 57 pruned. \n",
      "[I 2025-02-01 21:08:03,502] Trial 58 pruned. \n",
      "[I 2025-02-01 21:08:04,919] Trial 59 pruned. \n",
      "[I 2025-02-01 21:08:35,585] Trial 60 pruned. \n",
      "[I 2025-02-01 21:09:49,239] Trial 61 finished with value: 0.5285178422927856 and parameters: {'lr': 0.0028542225505146152, 'weight_decay': 0.06373415856615952, 'beta1': 0.6440293460489086, 'beta2': 0.5499663038704082, 'momentum': 0.4358296406535897, 'dampening': 0.10856880723805994, 'optimizer_idx': 0, 'scheduler_gamma': 0.9105994758496954, 'fine_tune': True, 'epochs': 63, 'batch_size': 247, 'loss_function_id': 1, 'reduction': 'sum', 'weighted_loss': True, 'relu_slope': 0.07742932745907988, 'linear_blocks': True}. Best is trial 11 with value: 0.41274240612983704.\n",
      "[I 2025-02-01 21:09:51,988] Trial 62 pruned. \n",
      "[I 2025-02-01 21:09:53,524] Trial 63 pruned. \n",
      "[I 2025-02-01 21:09:55,090] Trial 64 pruned. \n",
      "[I 2025-02-01 21:09:59,021] Trial 65 pruned. \n",
      "[I 2025-02-01 21:10:00,595] Trial 66 pruned. \n",
      "[I 2025-02-01 21:10:02,055] Trial 67 pruned. \n",
      "[I 2025-02-01 21:10:03,862] Trial 68 pruned. \n",
      "[I 2025-02-01 21:10:56,270] Trial 69 finished with value: 0.5215802192687988 and parameters: {'lr': 0.00251195617253102, 'weight_decay': 0.05252520248772845, 'beta1': 0.5902441259226187, 'beta2': 0.8406224971598368, 'momentum': 0.437551022456281, 'dampening': 0.09285612583175175, 'optimizer_idx': 0, 'scheduler_gamma': 0.9407336379760582, 'fine_tune': True, 'epochs': 44, 'batch_size': 224, 'loss_function_id': 1, 'reduction': 'sum', 'weighted_loss': True, 'relu_slope': 0.09562624568985222, 'linear_blocks': True}. Best is trial 11 with value: 0.41274240612983704.\n",
      "[I 2025-02-01 21:11:00,727] Trial 70 pruned. \n",
      "[I 2025-02-01 21:11:03,450] Trial 71 pruned. \n",
      "[I 2025-02-01 21:11:05,000] Trial 72 pruned. \n",
      "[I 2025-02-01 21:12:11,147] Trial 73 finished with value: 0.3885498046875 and parameters: {'lr': 0.00011638022335265074, 'weight_decay': 0.054141983370454096, 'beta1': 0.6678964768144925, 'beta2': 0.8748310014236099, 'momentum': 0.4195845196351884, 'dampening': 0.06973421885499101, 'optimizer_idx': 0, 'scheduler_gamma': 0.9667200321759163, 'fine_tune': True, 'epochs': 56, 'batch_size': 238, 'loss_function_id': 1, 'reduction': 'sum', 'weighted_loss': True, 'relu_slope': 0.08654241433904084, 'linear_blocks': True}. Best is trial 73 with value: 0.3885498046875.\n",
      "[I 2025-02-01 21:12:13,809] Trial 74 pruned. \n",
      "[I 2025-02-01 21:12:15,315] Trial 75 pruned. \n",
      "[I 2025-02-01 21:12:30,833] Trial 76 pruned. \n",
      "[I 2025-02-01 21:12:32,344] Trial 77 pruned. \n",
      "[I 2025-02-01 21:13:27,465] Trial 78 finished with value: 0.5545569658279419 and parameters: {'lr': 0.005234891305688911, 'weight_decay': 0.060513600377109115, 'beta1': 0.5760529171890754, 'beta2': 0.7204804977480943, 'momentum': 0.4803995067487209, 'dampening': 0.04917946455844534, 'optimizer_idx': 0, 'scheduler_gamma': 0.8773169356823955, 'fine_tune': True, 'epochs': 47, 'batch_size': 239, 'loss_function_id': 1, 'reduction': 'sum', 'weighted_loss': True, 'relu_slope': 0.13149073513610943, 'linear_blocks': True}. Best is trial 73 with value: 0.3885498046875.\n",
      "[I 2025-02-01 21:13:29,069] Trial 79 pruned. \n",
      "[I 2025-02-01 21:13:51,411] Trial 80 finished with value: 0.34999287128448486 and parameters: {'lr': 0.0015610089311819454, 'weight_decay': 0.07500361032560723, 'beta1': 0.6674880935024725, 'beta2': 0.9141632628710653, 'momentum': 0.6765592072337447, 'dampening': 0.0813083518102023, 'optimizer_idx': 0, 'scheduler_gamma': 0.8878056605174024, 'fine_tune': False, 'epochs': 16, 'batch_size': 256, 'loss_function_id': 0, 'reduction': 'sum', 'weighted_loss': True, 'relu_slope': 0.08030501713598283, 'linear_blocks': False}. Best is trial 80 with value: 0.34999287128448486.\n",
      "[I 2025-02-01 21:13:54,465] Trial 81 pruned. \n",
      "[I 2025-02-01 21:13:56,151] Trial 82 pruned. \n",
      "[I 2025-02-01 21:13:57,846] Trial 83 pruned. \n",
      "[I 2025-02-01 21:13:59,521] Trial 84 pruned. \n",
      "[I 2025-02-01 21:14:01,288] Trial 85 pruned. \n",
      "[I 2025-02-01 21:14:38,203] Trial 86 pruned. \n",
      "[I 2025-02-01 21:14:39,731] Trial 87 pruned. \n",
      "[I 2025-02-01 21:14:55,389] Trial 88 pruned. \n",
      "[I 2025-02-01 21:14:57,151] Trial 89 pruned. \n",
      "[I 2025-02-01 21:14:58,692] Trial 90 pruned. \n",
      "[I 2025-02-01 21:15:00,303] Trial 91 pruned. \n",
      "[I 2025-02-01 21:15:01,858] Trial 92 pruned. \n",
      "[I 2025-02-01 21:15:03,403] Trial 93 pruned. \n",
      "[I 2025-02-01 21:15:34,739] Trial 94 pruned. \n",
      "[I 2025-02-01 21:15:36,294] Trial 95 pruned. \n",
      "[I 2025-02-01 21:15:37,744] Trial 96 pruned. \n",
      "[I 2025-02-01 21:15:39,341] Trial 97 pruned. \n",
      "[I 2025-02-01 21:15:40,913] Trial 98 pruned. \n",
      "[I 2025-02-01 21:15:42,492] Trial 99 pruned. \n"
     ]
    }
   ],
   "source": [
    "is_multi_objective = False\n",
    "n_trials = 100\n",
    "study = optimize(is_multi_objective=is_multi_objective, n_trials=n_trials)"
   ]
  },
  {
   "cell_type": "code",
   "execution_count": 48,
   "metadata": {},
   "outputs": [
    {
     "data": {
      "text/html": [
       "        <script type=\"text/javascript\">\n",
       "        window.PlotlyConfig = {MathJaxConfig: 'local'};\n",
       "        if (window.MathJax && window.MathJax.Hub && window.MathJax.Hub.Config) {window.MathJax.Hub.Config({SVG: {font: \"STIX-Web\"}});}\n",
       "        if (typeof require !== 'undefined') {\n",
       "        require.undef(\"plotly\");\n",
       "        requirejs.config({\n",
       "            paths: {\n",
       "                'plotly': ['https://cdn.plot.ly/plotly-2.35.2.min']\n",
       "            }\n",
       "        });\n",
       "        require(['plotly'], function(Plotly) {\n",
       "            window._Plotly = Plotly;\n",
       "        });\n",
       "        }\n",
       "        </script>\n",
       "        "
      ]
     },
     "metadata": {},
     "output_type": "display_data"
    }
   ],
   "source": [
    "from plotly.offline import init_notebook_mode\n",
    "init_notebook_mode(connected=True)"
   ]
  },
  {
   "cell_type": "code",
   "execution_count": 49,
   "metadata": {},
   "outputs": [],
   "source": [
    "import optuna.visualization as vis"
   ]
  },
  {
   "cell_type": "markdown",
   "metadata": {},
   "source": [
    "Since the results in the below plots are non-deterministic across studies, I'll just note that for the specific study I've ran, we're seeing some unexpected parameters with the highest importances, like `beta1`."
   ]
  },
  {
   "cell_type": "code",
   "execution_count": 50,
   "metadata": {},
   "outputs": [
    {
     "data": {
      "application/vnd.plotly.v1+json": {
       "config": {
        "plotlyServerURL": "https://plot.ly"
       },
       "data": [
        {
         "cliponaxis": false,
         "hovertemplate": [
          "reduction (CategoricalDistribution): 0.0<extra></extra>",
          "loss_function_id (IntDistribution): 0.0013527309959931874<extra></extra>",
          "weighted_loss (CategoricalDistribution): 0.005974955938709339<extra></extra>",
          "linear_blocks (CategoricalDistribution): 0.008357546003263841<extra></extra>",
          "dampening (FloatDistribution): 0.009484858041969661<extra></extra>",
          "beta2 (FloatDistribution): 0.01130023170699608<extra></extra>",
          "optimizer_idx (IntDistribution): 0.017664144941211997<extra></extra>",
          "beta1 (FloatDistribution): 0.03320514630165255<extra></extra>",
          "relu_slope (FloatDistribution): 0.03772776592859829<extra></extra>",
          "scheduler_gamma (FloatDistribution): 0.039403026152125896<extra></extra>",
          "fine_tune (CategoricalDistribution): 0.061897916622879245<extra></extra>",
          "momentum (FloatDistribution): 0.07820057885714768<extra></extra>",
          "lr (FloatDistribution): 0.14312166092387352<extra></extra>",
          "batch_size (IntDistribution): 0.20055551165246627<extra></extra>",
          "weight_decay (FloatDistribution): 0.3517539259331123<extra></extra>"
         ],
         "name": "Objective Value",
         "orientation": "h",
         "text": [
          "<0.01",
          "<0.01",
          "<0.01",
          "<0.01",
          "<0.01",
          "0.01",
          "0.02",
          "0.03",
          "0.04",
          "0.04",
          "0.06",
          "0.08",
          "0.14",
          "0.20",
          "0.35"
         ],
         "textposition": "outside",
         "type": "bar",
         "x": [
          0,
          0.0013527309959931874,
          0.005974955938709339,
          0.008357546003263841,
          0.009484858041969661,
          0.01130023170699608,
          0.017664144941211997,
          0.03320514630165255,
          0.03772776592859829,
          0.039403026152125896,
          0.061897916622879245,
          0.07820057885714768,
          0.14312166092387352,
          0.20055551165246627,
          0.3517539259331123
         ],
         "y": [
          "reduction",
          "loss_function_id",
          "weighted_loss",
          "linear_blocks",
          "dampening",
          "beta2",
          "optimizer_idx",
          "beta1",
          "relu_slope",
          "scheduler_gamma",
          "fine_tune",
          "momentum",
          "lr",
          "batch_size",
          "weight_decay"
         ]
        }
       ],
       "layout": {
        "template": {
         "data": {
          "bar": [
           {
            "error_x": {
             "color": "#2a3f5f"
            },
            "error_y": {
             "color": "#2a3f5f"
            },
            "marker": {
             "line": {
              "color": "#E5ECF6",
              "width": 0.5
             },
             "pattern": {
              "fillmode": "overlay",
              "size": 10,
              "solidity": 0.2
             }
            },
            "type": "bar"
           }
          ],
          "barpolar": [
           {
            "marker": {
             "line": {
              "color": "#E5ECF6",
              "width": 0.5
             },
             "pattern": {
              "fillmode": "overlay",
              "size": 10,
              "solidity": 0.2
             }
            },
            "type": "barpolar"
           }
          ],
          "carpet": [
           {
            "aaxis": {
             "endlinecolor": "#2a3f5f",
             "gridcolor": "white",
             "linecolor": "white",
             "minorgridcolor": "white",
             "startlinecolor": "#2a3f5f"
            },
            "baxis": {
             "endlinecolor": "#2a3f5f",
             "gridcolor": "white",
             "linecolor": "white",
             "minorgridcolor": "white",
             "startlinecolor": "#2a3f5f"
            },
            "type": "carpet"
           }
          ],
          "choropleth": [
           {
            "colorbar": {
             "outlinewidth": 0,
             "ticks": ""
            },
            "type": "choropleth"
           }
          ],
          "contour": [
           {
            "colorbar": {
             "outlinewidth": 0,
             "ticks": ""
            },
            "colorscale": [
             [
              0,
              "#0d0887"
             ],
             [
              0.1111111111111111,
              "#46039f"
             ],
             [
              0.2222222222222222,
              "#7201a8"
             ],
             [
              0.3333333333333333,
              "#9c179e"
             ],
             [
              0.4444444444444444,
              "#bd3786"
             ],
             [
              0.5555555555555556,
              "#d8576b"
             ],
             [
              0.6666666666666666,
              "#ed7953"
             ],
             [
              0.7777777777777778,
              "#fb9f3a"
             ],
             [
              0.8888888888888888,
              "#fdca26"
             ],
             [
              1,
              "#f0f921"
             ]
            ],
            "type": "contour"
           }
          ],
          "contourcarpet": [
           {
            "colorbar": {
             "outlinewidth": 0,
             "ticks": ""
            },
            "type": "contourcarpet"
           }
          ],
          "heatmap": [
           {
            "colorbar": {
             "outlinewidth": 0,
             "ticks": ""
            },
            "colorscale": [
             [
              0,
              "#0d0887"
             ],
             [
              0.1111111111111111,
              "#46039f"
             ],
             [
              0.2222222222222222,
              "#7201a8"
             ],
             [
              0.3333333333333333,
              "#9c179e"
             ],
             [
              0.4444444444444444,
              "#bd3786"
             ],
             [
              0.5555555555555556,
              "#d8576b"
             ],
             [
              0.6666666666666666,
              "#ed7953"
             ],
             [
              0.7777777777777778,
              "#fb9f3a"
             ],
             [
              0.8888888888888888,
              "#fdca26"
             ],
             [
              1,
              "#f0f921"
             ]
            ],
            "type": "heatmap"
           }
          ],
          "heatmapgl": [
           {
            "colorbar": {
             "outlinewidth": 0,
             "ticks": ""
            },
            "colorscale": [
             [
              0,
              "#0d0887"
             ],
             [
              0.1111111111111111,
              "#46039f"
             ],
             [
              0.2222222222222222,
              "#7201a8"
             ],
             [
              0.3333333333333333,
              "#9c179e"
             ],
             [
              0.4444444444444444,
              "#bd3786"
             ],
             [
              0.5555555555555556,
              "#d8576b"
             ],
             [
              0.6666666666666666,
              "#ed7953"
             ],
             [
              0.7777777777777778,
              "#fb9f3a"
             ],
             [
              0.8888888888888888,
              "#fdca26"
             ],
             [
              1,
              "#f0f921"
             ]
            ],
            "type": "heatmapgl"
           }
          ],
          "histogram": [
           {
            "marker": {
             "pattern": {
              "fillmode": "overlay",
              "size": 10,
              "solidity": 0.2
             }
            },
            "type": "histogram"
           }
          ],
          "histogram2d": [
           {
            "colorbar": {
             "outlinewidth": 0,
             "ticks": ""
            },
            "colorscale": [
             [
              0,
              "#0d0887"
             ],
             [
              0.1111111111111111,
              "#46039f"
             ],
             [
              0.2222222222222222,
              "#7201a8"
             ],
             [
              0.3333333333333333,
              "#9c179e"
             ],
             [
              0.4444444444444444,
              "#bd3786"
             ],
             [
              0.5555555555555556,
              "#d8576b"
             ],
             [
              0.6666666666666666,
              "#ed7953"
             ],
             [
              0.7777777777777778,
              "#fb9f3a"
             ],
             [
              0.8888888888888888,
              "#fdca26"
             ],
             [
              1,
              "#f0f921"
             ]
            ],
            "type": "histogram2d"
           }
          ],
          "histogram2dcontour": [
           {
            "colorbar": {
             "outlinewidth": 0,
             "ticks": ""
            },
            "colorscale": [
             [
              0,
              "#0d0887"
             ],
             [
              0.1111111111111111,
              "#46039f"
             ],
             [
              0.2222222222222222,
              "#7201a8"
             ],
             [
              0.3333333333333333,
              "#9c179e"
             ],
             [
              0.4444444444444444,
              "#bd3786"
             ],
             [
              0.5555555555555556,
              "#d8576b"
             ],
             [
              0.6666666666666666,
              "#ed7953"
             ],
             [
              0.7777777777777778,
              "#fb9f3a"
             ],
             [
              0.8888888888888888,
              "#fdca26"
             ],
             [
              1,
              "#f0f921"
             ]
            ],
            "type": "histogram2dcontour"
           }
          ],
          "mesh3d": [
           {
            "colorbar": {
             "outlinewidth": 0,
             "ticks": ""
            },
            "type": "mesh3d"
           }
          ],
          "parcoords": [
           {
            "line": {
             "colorbar": {
              "outlinewidth": 0,
              "ticks": ""
             }
            },
            "type": "parcoords"
           }
          ],
          "pie": [
           {
            "automargin": true,
            "type": "pie"
           }
          ],
          "scatter": [
           {
            "fillpattern": {
             "fillmode": "overlay",
             "size": 10,
             "solidity": 0.2
            },
            "type": "scatter"
           }
          ],
          "scatter3d": [
           {
            "line": {
             "colorbar": {
              "outlinewidth": 0,
              "ticks": ""
             }
            },
            "marker": {
             "colorbar": {
              "outlinewidth": 0,
              "ticks": ""
             }
            },
            "type": "scatter3d"
           }
          ],
          "scattercarpet": [
           {
            "marker": {
             "colorbar": {
              "outlinewidth": 0,
              "ticks": ""
             }
            },
            "type": "scattercarpet"
           }
          ],
          "scattergeo": [
           {
            "marker": {
             "colorbar": {
              "outlinewidth": 0,
              "ticks": ""
             }
            },
            "type": "scattergeo"
           }
          ],
          "scattergl": [
           {
            "marker": {
             "colorbar": {
              "outlinewidth": 0,
              "ticks": ""
             }
            },
            "type": "scattergl"
           }
          ],
          "scattermapbox": [
           {
            "marker": {
             "colorbar": {
              "outlinewidth": 0,
              "ticks": ""
             }
            },
            "type": "scattermapbox"
           }
          ],
          "scatterpolar": [
           {
            "marker": {
             "colorbar": {
              "outlinewidth": 0,
              "ticks": ""
             }
            },
            "type": "scatterpolar"
           }
          ],
          "scatterpolargl": [
           {
            "marker": {
             "colorbar": {
              "outlinewidth": 0,
              "ticks": ""
             }
            },
            "type": "scatterpolargl"
           }
          ],
          "scatterternary": [
           {
            "marker": {
             "colorbar": {
              "outlinewidth": 0,
              "ticks": ""
             }
            },
            "type": "scatterternary"
           }
          ],
          "surface": [
           {
            "colorbar": {
             "outlinewidth": 0,
             "ticks": ""
            },
            "colorscale": [
             [
              0,
              "#0d0887"
             ],
             [
              0.1111111111111111,
              "#46039f"
             ],
             [
              0.2222222222222222,
              "#7201a8"
             ],
             [
              0.3333333333333333,
              "#9c179e"
             ],
             [
              0.4444444444444444,
              "#bd3786"
             ],
             [
              0.5555555555555556,
              "#d8576b"
             ],
             [
              0.6666666666666666,
              "#ed7953"
             ],
             [
              0.7777777777777778,
              "#fb9f3a"
             ],
             [
              0.8888888888888888,
              "#fdca26"
             ],
             [
              1,
              "#f0f921"
             ]
            ],
            "type": "surface"
           }
          ],
          "table": [
           {
            "cells": {
             "fill": {
              "color": "#EBF0F8"
             },
             "line": {
              "color": "white"
             }
            },
            "header": {
             "fill": {
              "color": "#C8D4E3"
             },
             "line": {
              "color": "white"
             }
            },
            "type": "table"
           }
          ]
         },
         "layout": {
          "annotationdefaults": {
           "arrowcolor": "#2a3f5f",
           "arrowhead": 0,
           "arrowwidth": 1
          },
          "autotypenumbers": "strict",
          "coloraxis": {
           "colorbar": {
            "outlinewidth": 0,
            "ticks": ""
           }
          },
          "colorscale": {
           "diverging": [
            [
             0,
             "#8e0152"
            ],
            [
             0.1,
             "#c51b7d"
            ],
            [
             0.2,
             "#de77ae"
            ],
            [
             0.3,
             "#f1b6da"
            ],
            [
             0.4,
             "#fde0ef"
            ],
            [
             0.5,
             "#f7f7f7"
            ],
            [
             0.6,
             "#e6f5d0"
            ],
            [
             0.7,
             "#b8e186"
            ],
            [
             0.8,
             "#7fbc41"
            ],
            [
             0.9,
             "#4d9221"
            ],
            [
             1,
             "#276419"
            ]
           ],
           "sequential": [
            [
             0,
             "#0d0887"
            ],
            [
             0.1111111111111111,
             "#46039f"
            ],
            [
             0.2222222222222222,
             "#7201a8"
            ],
            [
             0.3333333333333333,
             "#9c179e"
            ],
            [
             0.4444444444444444,
             "#bd3786"
            ],
            [
             0.5555555555555556,
             "#d8576b"
            ],
            [
             0.6666666666666666,
             "#ed7953"
            ],
            [
             0.7777777777777778,
             "#fb9f3a"
            ],
            [
             0.8888888888888888,
             "#fdca26"
            ],
            [
             1,
             "#f0f921"
            ]
           ],
           "sequentialminus": [
            [
             0,
             "#0d0887"
            ],
            [
             0.1111111111111111,
             "#46039f"
            ],
            [
             0.2222222222222222,
             "#7201a8"
            ],
            [
             0.3333333333333333,
             "#9c179e"
            ],
            [
             0.4444444444444444,
             "#bd3786"
            ],
            [
             0.5555555555555556,
             "#d8576b"
            ],
            [
             0.6666666666666666,
             "#ed7953"
            ],
            [
             0.7777777777777778,
             "#fb9f3a"
            ],
            [
             0.8888888888888888,
             "#fdca26"
            ],
            [
             1,
             "#f0f921"
            ]
           ]
          },
          "colorway": [
           "#636efa",
           "#EF553B",
           "#00cc96",
           "#ab63fa",
           "#FFA15A",
           "#19d3f3",
           "#FF6692",
           "#B6E880",
           "#FF97FF",
           "#FECB52"
          ],
          "font": {
           "color": "#2a3f5f"
          },
          "geo": {
           "bgcolor": "white",
           "lakecolor": "white",
           "landcolor": "#E5ECF6",
           "showlakes": true,
           "showland": true,
           "subunitcolor": "white"
          },
          "hoverlabel": {
           "align": "left"
          },
          "hovermode": "closest",
          "mapbox": {
           "style": "light"
          },
          "paper_bgcolor": "white",
          "plot_bgcolor": "#E5ECF6",
          "polar": {
           "angularaxis": {
            "gridcolor": "white",
            "linecolor": "white",
            "ticks": ""
           },
           "bgcolor": "#E5ECF6",
           "radialaxis": {
            "gridcolor": "white",
            "linecolor": "white",
            "ticks": ""
           }
          },
          "scene": {
           "xaxis": {
            "backgroundcolor": "#E5ECF6",
            "gridcolor": "white",
            "gridwidth": 2,
            "linecolor": "white",
            "showbackground": true,
            "ticks": "",
            "zerolinecolor": "white"
           },
           "yaxis": {
            "backgroundcolor": "#E5ECF6",
            "gridcolor": "white",
            "gridwidth": 2,
            "linecolor": "white",
            "showbackground": true,
            "ticks": "",
            "zerolinecolor": "white"
           },
           "zaxis": {
            "backgroundcolor": "#E5ECF6",
            "gridcolor": "white",
            "gridwidth": 2,
            "linecolor": "white",
            "showbackground": true,
            "ticks": "",
            "zerolinecolor": "white"
           }
          },
          "shapedefaults": {
           "line": {
            "color": "#2a3f5f"
           }
          },
          "ternary": {
           "aaxis": {
            "gridcolor": "white",
            "linecolor": "white",
            "ticks": ""
           },
           "baxis": {
            "gridcolor": "white",
            "linecolor": "white",
            "ticks": ""
           },
           "bgcolor": "#E5ECF6",
           "caxis": {
            "gridcolor": "white",
            "linecolor": "white",
            "ticks": ""
           }
          },
          "title": {
           "x": 0.05
          },
          "xaxis": {
           "automargin": true,
           "gridcolor": "white",
           "linecolor": "white",
           "ticks": "",
           "title": {
            "standoff": 15
           },
           "zerolinecolor": "white",
           "zerolinewidth": 2
          },
          "yaxis": {
           "automargin": true,
           "gridcolor": "white",
           "linecolor": "white",
           "ticks": "",
           "title": {
            "standoff": 15
           },
           "zerolinecolor": "white",
           "zerolinewidth": 2
          }
         }
        },
        "title": {
         "text": "Hyperparameter Importances"
        },
        "xaxis": {
         "title": {
          "text": "Hyperparameter Importance"
         }
        },
        "yaxis": {
         "title": {
          "text": "Hyperparameter"
         }
        }
       }
      },
      "text/html": [
       "<div>                            <div id=\"c82e64c5-fdfb-4e8c-9504-6f5033be1fa8\" class=\"plotly-graph-div\" style=\"height:525px; width:100%;\"></div>            <script type=\"text/javascript\">                require([\"plotly\"], function(Plotly) {                    window.PLOTLYENV=window.PLOTLYENV || {};                                    if (document.getElementById(\"c82e64c5-fdfb-4e8c-9504-6f5033be1fa8\")) {                    Plotly.newPlot(                        \"c82e64c5-fdfb-4e8c-9504-6f5033be1fa8\",                        [{\"cliponaxis\":false,\"hovertemplate\":[\"reduction (CategoricalDistribution): 0.0\\u003cextra\\u003e\\u003c\\u002fextra\\u003e\",\"loss_function_id (IntDistribution): 0.0013527309959931874\\u003cextra\\u003e\\u003c\\u002fextra\\u003e\",\"weighted_loss (CategoricalDistribution): 0.005974955938709339\\u003cextra\\u003e\\u003c\\u002fextra\\u003e\",\"linear_blocks (CategoricalDistribution): 0.008357546003263841\\u003cextra\\u003e\\u003c\\u002fextra\\u003e\",\"dampening (FloatDistribution): 0.009484858041969661\\u003cextra\\u003e\\u003c\\u002fextra\\u003e\",\"beta2 (FloatDistribution): 0.01130023170699608\\u003cextra\\u003e\\u003c\\u002fextra\\u003e\",\"optimizer_idx (IntDistribution): 0.017664144941211997\\u003cextra\\u003e\\u003c\\u002fextra\\u003e\",\"beta1 (FloatDistribution): 0.03320514630165255\\u003cextra\\u003e\\u003c\\u002fextra\\u003e\",\"relu_slope (FloatDistribution): 0.03772776592859829\\u003cextra\\u003e\\u003c\\u002fextra\\u003e\",\"scheduler_gamma (FloatDistribution): 0.039403026152125896\\u003cextra\\u003e\\u003c\\u002fextra\\u003e\",\"fine_tune (CategoricalDistribution): 0.061897916622879245\\u003cextra\\u003e\\u003c\\u002fextra\\u003e\",\"momentum (FloatDistribution): 0.07820057885714768\\u003cextra\\u003e\\u003c\\u002fextra\\u003e\",\"lr (FloatDistribution): 0.14312166092387352\\u003cextra\\u003e\\u003c\\u002fextra\\u003e\",\"batch_size (IntDistribution): 0.20055551165246627\\u003cextra\\u003e\\u003c\\u002fextra\\u003e\",\"weight_decay (FloatDistribution): 0.3517539259331123\\u003cextra\\u003e\\u003c\\u002fextra\\u003e\"],\"name\":\"Objective Value\",\"orientation\":\"h\",\"text\":[\"\\u003c0.01\",\"\\u003c0.01\",\"\\u003c0.01\",\"\\u003c0.01\",\"\\u003c0.01\",\"0.01\",\"0.02\",\"0.03\",\"0.04\",\"0.04\",\"0.06\",\"0.08\",\"0.14\",\"0.20\",\"0.35\"],\"textposition\":\"outside\",\"x\":[0.0,0.0013527309959931874,0.005974955938709339,0.008357546003263841,0.009484858041969661,0.01130023170699608,0.017664144941211997,0.03320514630165255,0.03772776592859829,0.039403026152125896,0.061897916622879245,0.07820057885714768,0.14312166092387352,0.20055551165246627,0.3517539259331123],\"y\":[\"reduction\",\"loss_function_id\",\"weighted_loss\",\"linear_blocks\",\"dampening\",\"beta2\",\"optimizer_idx\",\"beta1\",\"relu_slope\",\"scheduler_gamma\",\"fine_tune\",\"momentum\",\"lr\",\"batch_size\",\"weight_decay\"],\"type\":\"bar\"}],                        {\"title\":{\"text\":\"Hyperparameter Importances\"},\"xaxis\":{\"title\":{\"text\":\"Hyperparameter Importance\"}},\"yaxis\":{\"title\":{\"text\":\"Hyperparameter\"}},\"template\":{\"data\":{\"histogram2dcontour\":[{\"type\":\"histogram2dcontour\",\"colorbar\":{\"outlinewidth\":0,\"ticks\":\"\"},\"colorscale\":[[0.0,\"#0d0887\"],[0.1111111111111111,\"#46039f\"],[0.2222222222222222,\"#7201a8\"],[0.3333333333333333,\"#9c179e\"],[0.4444444444444444,\"#bd3786\"],[0.5555555555555556,\"#d8576b\"],[0.6666666666666666,\"#ed7953\"],[0.7777777777777778,\"#fb9f3a\"],[0.8888888888888888,\"#fdca26\"],[1.0,\"#f0f921\"]]}],\"choropleth\":[{\"type\":\"choropleth\",\"colorbar\":{\"outlinewidth\":0,\"ticks\":\"\"}}],\"histogram2d\":[{\"type\":\"histogram2d\",\"colorbar\":{\"outlinewidth\":0,\"ticks\":\"\"},\"colorscale\":[[0.0,\"#0d0887\"],[0.1111111111111111,\"#46039f\"],[0.2222222222222222,\"#7201a8\"],[0.3333333333333333,\"#9c179e\"],[0.4444444444444444,\"#bd3786\"],[0.5555555555555556,\"#d8576b\"],[0.6666666666666666,\"#ed7953\"],[0.7777777777777778,\"#fb9f3a\"],[0.8888888888888888,\"#fdca26\"],[1.0,\"#f0f921\"]]}],\"heatmap\":[{\"type\":\"heatmap\",\"colorbar\":{\"outlinewidth\":0,\"ticks\":\"\"},\"colorscale\":[[0.0,\"#0d0887\"],[0.1111111111111111,\"#46039f\"],[0.2222222222222222,\"#7201a8\"],[0.3333333333333333,\"#9c179e\"],[0.4444444444444444,\"#bd3786\"],[0.5555555555555556,\"#d8576b\"],[0.6666666666666666,\"#ed7953\"],[0.7777777777777778,\"#fb9f3a\"],[0.8888888888888888,\"#fdca26\"],[1.0,\"#f0f921\"]]}],\"heatmapgl\":[{\"type\":\"heatmapgl\",\"colorbar\":{\"outlinewidth\":0,\"ticks\":\"\"},\"colorscale\":[[0.0,\"#0d0887\"],[0.1111111111111111,\"#46039f\"],[0.2222222222222222,\"#7201a8\"],[0.3333333333333333,\"#9c179e\"],[0.4444444444444444,\"#bd3786\"],[0.5555555555555556,\"#d8576b\"],[0.6666666666666666,\"#ed7953\"],[0.7777777777777778,\"#fb9f3a\"],[0.8888888888888888,\"#fdca26\"],[1.0,\"#f0f921\"]]}],\"contourcarpet\":[{\"type\":\"contourcarpet\",\"colorbar\":{\"outlinewidth\":0,\"ticks\":\"\"}}],\"contour\":[{\"type\":\"contour\",\"colorbar\":{\"outlinewidth\":0,\"ticks\":\"\"},\"colorscale\":[[0.0,\"#0d0887\"],[0.1111111111111111,\"#46039f\"],[0.2222222222222222,\"#7201a8\"],[0.3333333333333333,\"#9c179e\"],[0.4444444444444444,\"#bd3786\"],[0.5555555555555556,\"#d8576b\"],[0.6666666666666666,\"#ed7953\"],[0.7777777777777778,\"#fb9f3a\"],[0.8888888888888888,\"#fdca26\"],[1.0,\"#f0f921\"]]}],\"surface\":[{\"type\":\"surface\",\"colorbar\":{\"outlinewidth\":0,\"ticks\":\"\"},\"colorscale\":[[0.0,\"#0d0887\"],[0.1111111111111111,\"#46039f\"],[0.2222222222222222,\"#7201a8\"],[0.3333333333333333,\"#9c179e\"],[0.4444444444444444,\"#bd3786\"],[0.5555555555555556,\"#d8576b\"],[0.6666666666666666,\"#ed7953\"],[0.7777777777777778,\"#fb9f3a\"],[0.8888888888888888,\"#fdca26\"],[1.0,\"#f0f921\"]]}],\"mesh3d\":[{\"type\":\"mesh3d\",\"colorbar\":{\"outlinewidth\":0,\"ticks\":\"\"}}],\"scatter\":[{\"fillpattern\":{\"fillmode\":\"overlay\",\"size\":10,\"solidity\":0.2},\"type\":\"scatter\"}],\"parcoords\":[{\"type\":\"parcoords\",\"line\":{\"colorbar\":{\"outlinewidth\":0,\"ticks\":\"\"}}}],\"scatterpolargl\":[{\"type\":\"scatterpolargl\",\"marker\":{\"colorbar\":{\"outlinewidth\":0,\"ticks\":\"\"}}}],\"bar\":[{\"error_x\":{\"color\":\"#2a3f5f\"},\"error_y\":{\"color\":\"#2a3f5f\"},\"marker\":{\"line\":{\"color\":\"#E5ECF6\",\"width\":0.5},\"pattern\":{\"fillmode\":\"overlay\",\"size\":10,\"solidity\":0.2}},\"type\":\"bar\"}],\"scattergeo\":[{\"type\":\"scattergeo\",\"marker\":{\"colorbar\":{\"outlinewidth\":0,\"ticks\":\"\"}}}],\"scatterpolar\":[{\"type\":\"scatterpolar\",\"marker\":{\"colorbar\":{\"outlinewidth\":0,\"ticks\":\"\"}}}],\"histogram\":[{\"marker\":{\"pattern\":{\"fillmode\":\"overlay\",\"size\":10,\"solidity\":0.2}},\"type\":\"histogram\"}],\"scattergl\":[{\"type\":\"scattergl\",\"marker\":{\"colorbar\":{\"outlinewidth\":0,\"ticks\":\"\"}}}],\"scatter3d\":[{\"type\":\"scatter3d\",\"line\":{\"colorbar\":{\"outlinewidth\":0,\"ticks\":\"\"}},\"marker\":{\"colorbar\":{\"outlinewidth\":0,\"ticks\":\"\"}}}],\"scattermapbox\":[{\"type\":\"scattermapbox\",\"marker\":{\"colorbar\":{\"outlinewidth\":0,\"ticks\":\"\"}}}],\"scatterternary\":[{\"type\":\"scatterternary\",\"marker\":{\"colorbar\":{\"outlinewidth\":0,\"ticks\":\"\"}}}],\"scattercarpet\":[{\"type\":\"scattercarpet\",\"marker\":{\"colorbar\":{\"outlinewidth\":0,\"ticks\":\"\"}}}],\"carpet\":[{\"aaxis\":{\"endlinecolor\":\"#2a3f5f\",\"gridcolor\":\"white\",\"linecolor\":\"white\",\"minorgridcolor\":\"white\",\"startlinecolor\":\"#2a3f5f\"},\"baxis\":{\"endlinecolor\":\"#2a3f5f\",\"gridcolor\":\"white\",\"linecolor\":\"white\",\"minorgridcolor\":\"white\",\"startlinecolor\":\"#2a3f5f\"},\"type\":\"carpet\"}],\"table\":[{\"cells\":{\"fill\":{\"color\":\"#EBF0F8\"},\"line\":{\"color\":\"white\"}},\"header\":{\"fill\":{\"color\":\"#C8D4E3\"},\"line\":{\"color\":\"white\"}},\"type\":\"table\"}],\"barpolar\":[{\"marker\":{\"line\":{\"color\":\"#E5ECF6\",\"width\":0.5},\"pattern\":{\"fillmode\":\"overlay\",\"size\":10,\"solidity\":0.2}},\"type\":\"barpolar\"}],\"pie\":[{\"automargin\":true,\"type\":\"pie\"}]},\"layout\":{\"autotypenumbers\":\"strict\",\"colorway\":[\"#636efa\",\"#EF553B\",\"#00cc96\",\"#ab63fa\",\"#FFA15A\",\"#19d3f3\",\"#FF6692\",\"#B6E880\",\"#FF97FF\",\"#FECB52\"],\"font\":{\"color\":\"#2a3f5f\"},\"hovermode\":\"closest\",\"hoverlabel\":{\"align\":\"left\"},\"paper_bgcolor\":\"white\",\"plot_bgcolor\":\"#E5ECF6\",\"polar\":{\"bgcolor\":\"#E5ECF6\",\"angularaxis\":{\"gridcolor\":\"white\",\"linecolor\":\"white\",\"ticks\":\"\"},\"radialaxis\":{\"gridcolor\":\"white\",\"linecolor\":\"white\",\"ticks\":\"\"}},\"ternary\":{\"bgcolor\":\"#E5ECF6\",\"aaxis\":{\"gridcolor\":\"white\",\"linecolor\":\"white\",\"ticks\":\"\"},\"baxis\":{\"gridcolor\":\"white\",\"linecolor\":\"white\",\"ticks\":\"\"},\"caxis\":{\"gridcolor\":\"white\",\"linecolor\":\"white\",\"ticks\":\"\"}},\"coloraxis\":{\"colorbar\":{\"outlinewidth\":0,\"ticks\":\"\"}},\"colorscale\":{\"sequential\":[[0.0,\"#0d0887\"],[0.1111111111111111,\"#46039f\"],[0.2222222222222222,\"#7201a8\"],[0.3333333333333333,\"#9c179e\"],[0.4444444444444444,\"#bd3786\"],[0.5555555555555556,\"#d8576b\"],[0.6666666666666666,\"#ed7953\"],[0.7777777777777778,\"#fb9f3a\"],[0.8888888888888888,\"#fdca26\"],[1.0,\"#f0f921\"]],\"sequentialminus\":[[0.0,\"#0d0887\"],[0.1111111111111111,\"#46039f\"],[0.2222222222222222,\"#7201a8\"],[0.3333333333333333,\"#9c179e\"],[0.4444444444444444,\"#bd3786\"],[0.5555555555555556,\"#d8576b\"],[0.6666666666666666,\"#ed7953\"],[0.7777777777777778,\"#fb9f3a\"],[0.8888888888888888,\"#fdca26\"],[1.0,\"#f0f921\"]],\"diverging\":[[0,\"#8e0152\"],[0.1,\"#c51b7d\"],[0.2,\"#de77ae\"],[0.3,\"#f1b6da\"],[0.4,\"#fde0ef\"],[0.5,\"#f7f7f7\"],[0.6,\"#e6f5d0\"],[0.7,\"#b8e186\"],[0.8,\"#7fbc41\"],[0.9,\"#4d9221\"],[1,\"#276419\"]]},\"xaxis\":{\"gridcolor\":\"white\",\"linecolor\":\"white\",\"ticks\":\"\",\"title\":{\"standoff\":15},\"zerolinecolor\":\"white\",\"automargin\":true,\"zerolinewidth\":2},\"yaxis\":{\"gridcolor\":\"white\",\"linecolor\":\"white\",\"ticks\":\"\",\"title\":{\"standoff\":15},\"zerolinecolor\":\"white\",\"automargin\":true,\"zerolinewidth\":2},\"scene\":{\"xaxis\":{\"backgroundcolor\":\"#E5ECF6\",\"gridcolor\":\"white\",\"linecolor\":\"white\",\"showbackground\":true,\"ticks\":\"\",\"zerolinecolor\":\"white\",\"gridwidth\":2},\"yaxis\":{\"backgroundcolor\":\"#E5ECF6\",\"gridcolor\":\"white\",\"linecolor\":\"white\",\"showbackground\":true,\"ticks\":\"\",\"zerolinecolor\":\"white\",\"gridwidth\":2},\"zaxis\":{\"backgroundcolor\":\"#E5ECF6\",\"gridcolor\":\"white\",\"linecolor\":\"white\",\"showbackground\":true,\"ticks\":\"\",\"zerolinecolor\":\"white\",\"gridwidth\":2}},\"shapedefaults\":{\"line\":{\"color\":\"#2a3f5f\"}},\"annotationdefaults\":{\"arrowcolor\":\"#2a3f5f\",\"arrowhead\":0,\"arrowwidth\":1},\"geo\":{\"bgcolor\":\"white\",\"landcolor\":\"#E5ECF6\",\"subunitcolor\":\"white\",\"showland\":true,\"showlakes\":true,\"lakecolor\":\"white\"},\"title\":{\"x\":0.05},\"mapbox\":{\"style\":\"light\"}}}},                        {\"responsive\": true}                    ).then(function(){\n",
       "                            \n",
       "var gd = document.getElementById('c82e64c5-fdfb-4e8c-9504-6f5033be1fa8');\n",
       "var x = new MutationObserver(function (mutations, observer) {{\n",
       "        var display = window.getComputedStyle(gd).display;\n",
       "        if (!display || display === 'none') {{\n",
       "            console.log([gd, 'removed!']);\n",
       "            Plotly.purge(gd);\n",
       "            observer.disconnect();\n",
       "        }}\n",
       "}});\n",
       "\n",
       "// Listen for the removal of the full notebook cells\n",
       "var notebookContainer = gd.closest('#notebook-container');\n",
       "if (notebookContainer) {{\n",
       "    x.observe(notebookContainer, {childList: true});\n",
       "}}\n",
       "\n",
       "// Listen for the clearing of the current output cell\n",
       "var outputEl = gd.closest('.output');\n",
       "if (outputEl) {{\n",
       "    x.observe(outputEl, {childList: true});\n",
       "}}\n",
       "\n",
       "                        })                };                });            </script>        </div>"
      ]
     },
     "metadata": {},
     "output_type": "display_data"
    }
   ],
   "source": [
    "vis.plot_param_importances(study)"
   ]
  },
  {
   "cell_type": "code",
   "execution_count": 51,
   "metadata": {},
   "outputs": [],
   "source": [
    "if is_multi_objective:\n",
    "    fig = vis.plot_optimization_history(study, target=lambda t: t.values[0], target_name='Loss')\n",
    "    fig.show()"
   ]
  },
  {
   "cell_type": "markdown",
   "metadata": {},
   "source": [
    "Unfortunately, our study found its best parameters fairly at the beginning and didn't succeed at finding better ones."
   ]
  },
  {
   "cell_type": "code",
   "execution_count": 52,
   "metadata": {},
   "outputs": [
    {
     "data": {
      "application/vnd.plotly.v1+json": {
       "config": {
        "plotlyServerURL": "https://plot.ly"
       },
       "data": [
        {
         "mode": "markers",
         "name": "Objective Value",
         "type": "scatter",
         "x": [
          0,
          1,
          2,
          3,
          4,
          5,
          6,
          7,
          9,
          11,
          27,
          41,
          43,
          44,
          51,
          55,
          61,
          69,
          73,
          78,
          80
         ],
         "y": [
          0.8246742486953735,
          0.539512574672699,
          0.9069592356681824,
          0.9273800253868103,
          0.7358436584472656,
          0.49086794257164,
          1.0963001251220703,
          0.5189188122749329,
          1.3015379905700684,
          0.41274240612983704,
          0.5991939306259155,
          0.5915195941925049,
          0.5752480030059814,
          0.5238749384880066,
          0.5352096557617188,
          0.5724642276763916,
          0.5285178422927856,
          0.5215802192687988,
          0.3885498046875,
          0.5545569658279419,
          0.34999287128448486
         ]
        },
        {
         "mode": "lines",
         "name": "Best Value",
         "type": "scatter",
         "x": [
          0,
          1,
          2,
          3,
          4,
          5,
          6,
          7,
          8,
          9,
          10,
          11,
          12,
          13,
          14,
          15,
          16,
          17,
          18,
          19,
          20,
          21,
          22,
          23,
          24,
          25,
          26,
          27,
          28,
          29,
          30,
          31,
          32,
          33,
          34,
          35,
          36,
          37,
          38,
          39,
          40,
          41,
          42,
          43,
          44,
          45,
          46,
          47,
          48,
          49,
          50,
          51,
          52,
          53,
          54,
          55,
          56,
          57,
          58,
          59,
          60,
          61,
          62,
          63,
          64,
          65,
          66,
          67,
          68,
          69,
          70,
          71,
          72,
          73,
          74,
          75,
          76,
          77,
          78,
          79,
          80,
          81,
          82,
          83,
          84,
          85,
          86,
          87,
          88,
          89,
          90,
          91,
          92,
          93,
          94,
          95,
          96,
          97,
          98,
          99
         ],
         "y": [
          0.8246742486953735,
          0.539512574672699,
          0.539512574672699,
          0.539512574672699,
          0.539512574672699,
          0.49086794257164,
          0.49086794257164,
          0.49086794257164,
          0.49086794257164,
          0.49086794257164,
          0.49086794257164,
          0.41274240612983704,
          0.41274240612983704,
          0.41274240612983704,
          0.41274240612983704,
          0.41274240612983704,
          0.41274240612983704,
          0.41274240612983704,
          0.41274240612983704,
          0.41274240612983704,
          0.41274240612983704,
          0.41274240612983704,
          0.41274240612983704,
          0.41274240612983704,
          0.41274240612983704,
          0.41274240612983704,
          0.41274240612983704,
          0.41274240612983704,
          0.41274240612983704,
          0.41274240612983704,
          0.41274240612983704,
          0.41274240612983704,
          0.41274240612983704,
          0.41274240612983704,
          0.41274240612983704,
          0.41274240612983704,
          0.41274240612983704,
          0.41274240612983704,
          0.41274240612983704,
          0.41274240612983704,
          0.41274240612983704,
          0.41274240612983704,
          0.41274240612983704,
          0.41274240612983704,
          0.41274240612983704,
          0.41274240612983704,
          0.41274240612983704,
          0.41274240612983704,
          0.41274240612983704,
          0.41274240612983704,
          0.41274240612983704,
          0.41274240612983704,
          0.41274240612983704,
          0.41274240612983704,
          0.41274240612983704,
          0.41274240612983704,
          0.41274240612983704,
          0.41274240612983704,
          0.41274240612983704,
          0.41274240612983704,
          0.41274240612983704,
          0.41274240612983704,
          0.41274240612983704,
          0.41274240612983704,
          0.41274240612983704,
          0.41274240612983704,
          0.41274240612983704,
          0.41274240612983704,
          0.41274240612983704,
          0.41274240612983704,
          0.41274240612983704,
          0.41274240612983704,
          0.41274240612983704,
          0.3885498046875,
          0.3885498046875,
          0.3885498046875,
          0.3885498046875,
          0.3885498046875,
          0.3885498046875,
          0.3885498046875,
          0.34999287128448486,
          0.34999287128448486,
          0.34999287128448486,
          0.34999287128448486,
          0.34999287128448486,
          0.34999287128448486,
          0.34999287128448486,
          0.34999287128448486,
          0.34999287128448486,
          0.34999287128448486,
          0.34999287128448486,
          0.34999287128448486,
          0.34999287128448486,
          0.34999287128448486,
          0.34999287128448486,
          0.34999287128448486,
          0.34999287128448486,
          0.34999287128448486,
          0.34999287128448486,
          0.34999287128448486
         ]
        },
        {
         "marker": {
          "color": "#cccccc"
         },
         "mode": "markers",
         "name": "Infeasible Trial",
         "showlegend": false,
         "type": "scatter",
         "x": [],
         "y": []
        }
       ],
       "layout": {
        "template": {
         "data": {
          "bar": [
           {
            "error_x": {
             "color": "#2a3f5f"
            },
            "error_y": {
             "color": "#2a3f5f"
            },
            "marker": {
             "line": {
              "color": "#E5ECF6",
              "width": 0.5
             },
             "pattern": {
              "fillmode": "overlay",
              "size": 10,
              "solidity": 0.2
             }
            },
            "type": "bar"
           }
          ],
          "barpolar": [
           {
            "marker": {
             "line": {
              "color": "#E5ECF6",
              "width": 0.5
             },
             "pattern": {
              "fillmode": "overlay",
              "size": 10,
              "solidity": 0.2
             }
            },
            "type": "barpolar"
           }
          ],
          "carpet": [
           {
            "aaxis": {
             "endlinecolor": "#2a3f5f",
             "gridcolor": "white",
             "linecolor": "white",
             "minorgridcolor": "white",
             "startlinecolor": "#2a3f5f"
            },
            "baxis": {
             "endlinecolor": "#2a3f5f",
             "gridcolor": "white",
             "linecolor": "white",
             "minorgridcolor": "white",
             "startlinecolor": "#2a3f5f"
            },
            "type": "carpet"
           }
          ],
          "choropleth": [
           {
            "colorbar": {
             "outlinewidth": 0,
             "ticks": ""
            },
            "type": "choropleth"
           }
          ],
          "contour": [
           {
            "colorbar": {
             "outlinewidth": 0,
             "ticks": ""
            },
            "colorscale": [
             [
              0,
              "#0d0887"
             ],
             [
              0.1111111111111111,
              "#46039f"
             ],
             [
              0.2222222222222222,
              "#7201a8"
             ],
             [
              0.3333333333333333,
              "#9c179e"
             ],
             [
              0.4444444444444444,
              "#bd3786"
             ],
             [
              0.5555555555555556,
              "#d8576b"
             ],
             [
              0.6666666666666666,
              "#ed7953"
             ],
             [
              0.7777777777777778,
              "#fb9f3a"
             ],
             [
              0.8888888888888888,
              "#fdca26"
             ],
             [
              1,
              "#f0f921"
             ]
            ],
            "type": "contour"
           }
          ],
          "contourcarpet": [
           {
            "colorbar": {
             "outlinewidth": 0,
             "ticks": ""
            },
            "type": "contourcarpet"
           }
          ],
          "heatmap": [
           {
            "colorbar": {
             "outlinewidth": 0,
             "ticks": ""
            },
            "colorscale": [
             [
              0,
              "#0d0887"
             ],
             [
              0.1111111111111111,
              "#46039f"
             ],
             [
              0.2222222222222222,
              "#7201a8"
             ],
             [
              0.3333333333333333,
              "#9c179e"
             ],
             [
              0.4444444444444444,
              "#bd3786"
             ],
             [
              0.5555555555555556,
              "#d8576b"
             ],
             [
              0.6666666666666666,
              "#ed7953"
             ],
             [
              0.7777777777777778,
              "#fb9f3a"
             ],
             [
              0.8888888888888888,
              "#fdca26"
             ],
             [
              1,
              "#f0f921"
             ]
            ],
            "type": "heatmap"
           }
          ],
          "heatmapgl": [
           {
            "colorbar": {
             "outlinewidth": 0,
             "ticks": ""
            },
            "colorscale": [
             [
              0,
              "#0d0887"
             ],
             [
              0.1111111111111111,
              "#46039f"
             ],
             [
              0.2222222222222222,
              "#7201a8"
             ],
             [
              0.3333333333333333,
              "#9c179e"
             ],
             [
              0.4444444444444444,
              "#bd3786"
             ],
             [
              0.5555555555555556,
              "#d8576b"
             ],
             [
              0.6666666666666666,
              "#ed7953"
             ],
             [
              0.7777777777777778,
              "#fb9f3a"
             ],
             [
              0.8888888888888888,
              "#fdca26"
             ],
             [
              1,
              "#f0f921"
             ]
            ],
            "type": "heatmapgl"
           }
          ],
          "histogram": [
           {
            "marker": {
             "pattern": {
              "fillmode": "overlay",
              "size": 10,
              "solidity": 0.2
             }
            },
            "type": "histogram"
           }
          ],
          "histogram2d": [
           {
            "colorbar": {
             "outlinewidth": 0,
             "ticks": ""
            },
            "colorscale": [
             [
              0,
              "#0d0887"
             ],
             [
              0.1111111111111111,
              "#46039f"
             ],
             [
              0.2222222222222222,
              "#7201a8"
             ],
             [
              0.3333333333333333,
              "#9c179e"
             ],
             [
              0.4444444444444444,
              "#bd3786"
             ],
             [
              0.5555555555555556,
              "#d8576b"
             ],
             [
              0.6666666666666666,
              "#ed7953"
             ],
             [
              0.7777777777777778,
              "#fb9f3a"
             ],
             [
              0.8888888888888888,
              "#fdca26"
             ],
             [
              1,
              "#f0f921"
             ]
            ],
            "type": "histogram2d"
           }
          ],
          "histogram2dcontour": [
           {
            "colorbar": {
             "outlinewidth": 0,
             "ticks": ""
            },
            "colorscale": [
             [
              0,
              "#0d0887"
             ],
             [
              0.1111111111111111,
              "#46039f"
             ],
             [
              0.2222222222222222,
              "#7201a8"
             ],
             [
              0.3333333333333333,
              "#9c179e"
             ],
             [
              0.4444444444444444,
              "#bd3786"
             ],
             [
              0.5555555555555556,
              "#d8576b"
             ],
             [
              0.6666666666666666,
              "#ed7953"
             ],
             [
              0.7777777777777778,
              "#fb9f3a"
             ],
             [
              0.8888888888888888,
              "#fdca26"
             ],
             [
              1,
              "#f0f921"
             ]
            ],
            "type": "histogram2dcontour"
           }
          ],
          "mesh3d": [
           {
            "colorbar": {
             "outlinewidth": 0,
             "ticks": ""
            },
            "type": "mesh3d"
           }
          ],
          "parcoords": [
           {
            "line": {
             "colorbar": {
              "outlinewidth": 0,
              "ticks": ""
             }
            },
            "type": "parcoords"
           }
          ],
          "pie": [
           {
            "automargin": true,
            "type": "pie"
           }
          ],
          "scatter": [
           {
            "fillpattern": {
             "fillmode": "overlay",
             "size": 10,
             "solidity": 0.2
            },
            "type": "scatter"
           }
          ],
          "scatter3d": [
           {
            "line": {
             "colorbar": {
              "outlinewidth": 0,
              "ticks": ""
             }
            },
            "marker": {
             "colorbar": {
              "outlinewidth": 0,
              "ticks": ""
             }
            },
            "type": "scatter3d"
           }
          ],
          "scattercarpet": [
           {
            "marker": {
             "colorbar": {
              "outlinewidth": 0,
              "ticks": ""
             }
            },
            "type": "scattercarpet"
           }
          ],
          "scattergeo": [
           {
            "marker": {
             "colorbar": {
              "outlinewidth": 0,
              "ticks": ""
             }
            },
            "type": "scattergeo"
           }
          ],
          "scattergl": [
           {
            "marker": {
             "colorbar": {
              "outlinewidth": 0,
              "ticks": ""
             }
            },
            "type": "scattergl"
           }
          ],
          "scattermapbox": [
           {
            "marker": {
             "colorbar": {
              "outlinewidth": 0,
              "ticks": ""
             }
            },
            "type": "scattermapbox"
           }
          ],
          "scatterpolar": [
           {
            "marker": {
             "colorbar": {
              "outlinewidth": 0,
              "ticks": ""
             }
            },
            "type": "scatterpolar"
           }
          ],
          "scatterpolargl": [
           {
            "marker": {
             "colorbar": {
              "outlinewidth": 0,
              "ticks": ""
             }
            },
            "type": "scatterpolargl"
           }
          ],
          "scatterternary": [
           {
            "marker": {
             "colorbar": {
              "outlinewidth": 0,
              "ticks": ""
             }
            },
            "type": "scatterternary"
           }
          ],
          "surface": [
           {
            "colorbar": {
             "outlinewidth": 0,
             "ticks": ""
            },
            "colorscale": [
             [
              0,
              "#0d0887"
             ],
             [
              0.1111111111111111,
              "#46039f"
             ],
             [
              0.2222222222222222,
              "#7201a8"
             ],
             [
              0.3333333333333333,
              "#9c179e"
             ],
             [
              0.4444444444444444,
              "#bd3786"
             ],
             [
              0.5555555555555556,
              "#d8576b"
             ],
             [
              0.6666666666666666,
              "#ed7953"
             ],
             [
              0.7777777777777778,
              "#fb9f3a"
             ],
             [
              0.8888888888888888,
              "#fdca26"
             ],
             [
              1,
              "#f0f921"
             ]
            ],
            "type": "surface"
           }
          ],
          "table": [
           {
            "cells": {
             "fill": {
              "color": "#EBF0F8"
             },
             "line": {
              "color": "white"
             }
            },
            "header": {
             "fill": {
              "color": "#C8D4E3"
             },
             "line": {
              "color": "white"
             }
            },
            "type": "table"
           }
          ]
         },
         "layout": {
          "annotationdefaults": {
           "arrowcolor": "#2a3f5f",
           "arrowhead": 0,
           "arrowwidth": 1
          },
          "autotypenumbers": "strict",
          "coloraxis": {
           "colorbar": {
            "outlinewidth": 0,
            "ticks": ""
           }
          },
          "colorscale": {
           "diverging": [
            [
             0,
             "#8e0152"
            ],
            [
             0.1,
             "#c51b7d"
            ],
            [
             0.2,
             "#de77ae"
            ],
            [
             0.3,
             "#f1b6da"
            ],
            [
             0.4,
             "#fde0ef"
            ],
            [
             0.5,
             "#f7f7f7"
            ],
            [
             0.6,
             "#e6f5d0"
            ],
            [
             0.7,
             "#b8e186"
            ],
            [
             0.8,
             "#7fbc41"
            ],
            [
             0.9,
             "#4d9221"
            ],
            [
             1,
             "#276419"
            ]
           ],
           "sequential": [
            [
             0,
             "#0d0887"
            ],
            [
             0.1111111111111111,
             "#46039f"
            ],
            [
             0.2222222222222222,
             "#7201a8"
            ],
            [
             0.3333333333333333,
             "#9c179e"
            ],
            [
             0.4444444444444444,
             "#bd3786"
            ],
            [
             0.5555555555555556,
             "#d8576b"
            ],
            [
             0.6666666666666666,
             "#ed7953"
            ],
            [
             0.7777777777777778,
             "#fb9f3a"
            ],
            [
             0.8888888888888888,
             "#fdca26"
            ],
            [
             1,
             "#f0f921"
            ]
           ],
           "sequentialminus": [
            [
             0,
             "#0d0887"
            ],
            [
             0.1111111111111111,
             "#46039f"
            ],
            [
             0.2222222222222222,
             "#7201a8"
            ],
            [
             0.3333333333333333,
             "#9c179e"
            ],
            [
             0.4444444444444444,
             "#bd3786"
            ],
            [
             0.5555555555555556,
             "#d8576b"
            ],
            [
             0.6666666666666666,
             "#ed7953"
            ],
            [
             0.7777777777777778,
             "#fb9f3a"
            ],
            [
             0.8888888888888888,
             "#fdca26"
            ],
            [
             1,
             "#f0f921"
            ]
           ]
          },
          "colorway": [
           "#636efa",
           "#EF553B",
           "#00cc96",
           "#ab63fa",
           "#FFA15A",
           "#19d3f3",
           "#FF6692",
           "#B6E880",
           "#FF97FF",
           "#FECB52"
          ],
          "font": {
           "color": "#2a3f5f"
          },
          "geo": {
           "bgcolor": "white",
           "lakecolor": "white",
           "landcolor": "#E5ECF6",
           "showlakes": true,
           "showland": true,
           "subunitcolor": "white"
          },
          "hoverlabel": {
           "align": "left"
          },
          "hovermode": "closest",
          "mapbox": {
           "style": "light"
          },
          "paper_bgcolor": "white",
          "plot_bgcolor": "#E5ECF6",
          "polar": {
           "angularaxis": {
            "gridcolor": "white",
            "linecolor": "white",
            "ticks": ""
           },
           "bgcolor": "#E5ECF6",
           "radialaxis": {
            "gridcolor": "white",
            "linecolor": "white",
            "ticks": ""
           }
          },
          "scene": {
           "xaxis": {
            "backgroundcolor": "#E5ECF6",
            "gridcolor": "white",
            "gridwidth": 2,
            "linecolor": "white",
            "showbackground": true,
            "ticks": "",
            "zerolinecolor": "white"
           },
           "yaxis": {
            "backgroundcolor": "#E5ECF6",
            "gridcolor": "white",
            "gridwidth": 2,
            "linecolor": "white",
            "showbackground": true,
            "ticks": "",
            "zerolinecolor": "white"
           },
           "zaxis": {
            "backgroundcolor": "#E5ECF6",
            "gridcolor": "white",
            "gridwidth": 2,
            "linecolor": "white",
            "showbackground": true,
            "ticks": "",
            "zerolinecolor": "white"
           }
          },
          "shapedefaults": {
           "line": {
            "color": "#2a3f5f"
           }
          },
          "ternary": {
           "aaxis": {
            "gridcolor": "white",
            "linecolor": "white",
            "ticks": ""
           },
           "baxis": {
            "gridcolor": "white",
            "linecolor": "white",
            "ticks": ""
           },
           "bgcolor": "#E5ECF6",
           "caxis": {
            "gridcolor": "white",
            "linecolor": "white",
            "ticks": ""
           }
          },
          "title": {
           "x": 0.05
          },
          "xaxis": {
           "automargin": true,
           "gridcolor": "white",
           "linecolor": "white",
           "ticks": "",
           "title": {
            "standoff": 15
           },
           "zerolinecolor": "white",
           "zerolinewidth": 2
          },
          "yaxis": {
           "automargin": true,
           "gridcolor": "white",
           "linecolor": "white",
           "ticks": "",
           "title": {
            "standoff": 15
           },
           "zerolinecolor": "white",
           "zerolinewidth": 2
          }
         }
        },
        "title": {
         "text": "Optimization History Plot"
        },
        "xaxis": {
         "title": {
          "text": "Trial"
         }
        },
        "yaxis": {
         "title": {
          "text": "Objective Value"
         }
        }
       }
      },
      "text/html": [
       "<div>                            <div id=\"ff29157c-d6b6-421c-b720-4b66c998aa42\" class=\"plotly-graph-div\" style=\"height:525px; width:100%;\"></div>            <script type=\"text/javascript\">                require([\"plotly\"], function(Plotly) {                    window.PLOTLYENV=window.PLOTLYENV || {};                                    if (document.getElementById(\"ff29157c-d6b6-421c-b720-4b66c998aa42\")) {                    Plotly.newPlot(                        \"ff29157c-d6b6-421c-b720-4b66c998aa42\",                        [{\"mode\":\"markers\",\"name\":\"Objective Value\",\"x\":[0,1,2,3,4,5,6,7,9,11,27,41,43,44,51,55,61,69,73,78,80],\"y\":[0.8246742486953735,0.539512574672699,0.9069592356681824,0.9273800253868103,0.7358436584472656,0.49086794257164,1.0963001251220703,0.5189188122749329,1.3015379905700684,0.41274240612983704,0.5991939306259155,0.5915195941925049,0.5752480030059814,0.5238749384880066,0.5352096557617188,0.5724642276763916,0.5285178422927856,0.5215802192687988,0.3885498046875,0.5545569658279419,0.34999287128448486],\"type\":\"scatter\"},{\"mode\":\"lines\",\"name\":\"Best Value\",\"x\":[0,1,2,3,4,5,6,7,8,9,10,11,12,13,14,15,16,17,18,19,20,21,22,23,24,25,26,27,28,29,30,31,32,33,34,35,36,37,38,39,40,41,42,43,44,45,46,47,48,49,50,51,52,53,54,55,56,57,58,59,60,61,62,63,64,65,66,67,68,69,70,71,72,73,74,75,76,77,78,79,80,81,82,83,84,85,86,87,88,89,90,91,92,93,94,95,96,97,98,99],\"y\":[0.8246742486953735,0.539512574672699,0.539512574672699,0.539512574672699,0.539512574672699,0.49086794257164,0.49086794257164,0.49086794257164,0.49086794257164,0.49086794257164,0.49086794257164,0.41274240612983704,0.41274240612983704,0.41274240612983704,0.41274240612983704,0.41274240612983704,0.41274240612983704,0.41274240612983704,0.41274240612983704,0.41274240612983704,0.41274240612983704,0.41274240612983704,0.41274240612983704,0.41274240612983704,0.41274240612983704,0.41274240612983704,0.41274240612983704,0.41274240612983704,0.41274240612983704,0.41274240612983704,0.41274240612983704,0.41274240612983704,0.41274240612983704,0.41274240612983704,0.41274240612983704,0.41274240612983704,0.41274240612983704,0.41274240612983704,0.41274240612983704,0.41274240612983704,0.41274240612983704,0.41274240612983704,0.41274240612983704,0.41274240612983704,0.41274240612983704,0.41274240612983704,0.41274240612983704,0.41274240612983704,0.41274240612983704,0.41274240612983704,0.41274240612983704,0.41274240612983704,0.41274240612983704,0.41274240612983704,0.41274240612983704,0.41274240612983704,0.41274240612983704,0.41274240612983704,0.41274240612983704,0.41274240612983704,0.41274240612983704,0.41274240612983704,0.41274240612983704,0.41274240612983704,0.41274240612983704,0.41274240612983704,0.41274240612983704,0.41274240612983704,0.41274240612983704,0.41274240612983704,0.41274240612983704,0.41274240612983704,0.41274240612983704,0.3885498046875,0.3885498046875,0.3885498046875,0.3885498046875,0.3885498046875,0.3885498046875,0.3885498046875,0.34999287128448486,0.34999287128448486,0.34999287128448486,0.34999287128448486,0.34999287128448486,0.34999287128448486,0.34999287128448486,0.34999287128448486,0.34999287128448486,0.34999287128448486,0.34999287128448486,0.34999287128448486,0.34999287128448486,0.34999287128448486,0.34999287128448486,0.34999287128448486,0.34999287128448486,0.34999287128448486,0.34999287128448486,0.34999287128448486],\"type\":\"scatter\"},{\"marker\":{\"color\":\"#cccccc\"},\"mode\":\"markers\",\"name\":\"Infeasible Trial\",\"showlegend\":false,\"x\":[],\"y\":[],\"type\":\"scatter\"}],                        {\"title\":{\"text\":\"Optimization History Plot\"},\"xaxis\":{\"title\":{\"text\":\"Trial\"}},\"yaxis\":{\"title\":{\"text\":\"Objective Value\"}},\"template\":{\"data\":{\"histogram2dcontour\":[{\"type\":\"histogram2dcontour\",\"colorbar\":{\"outlinewidth\":0,\"ticks\":\"\"},\"colorscale\":[[0.0,\"#0d0887\"],[0.1111111111111111,\"#46039f\"],[0.2222222222222222,\"#7201a8\"],[0.3333333333333333,\"#9c179e\"],[0.4444444444444444,\"#bd3786\"],[0.5555555555555556,\"#d8576b\"],[0.6666666666666666,\"#ed7953\"],[0.7777777777777778,\"#fb9f3a\"],[0.8888888888888888,\"#fdca26\"],[1.0,\"#f0f921\"]]}],\"choropleth\":[{\"type\":\"choropleth\",\"colorbar\":{\"outlinewidth\":0,\"ticks\":\"\"}}],\"histogram2d\":[{\"type\":\"histogram2d\",\"colorbar\":{\"outlinewidth\":0,\"ticks\":\"\"},\"colorscale\":[[0.0,\"#0d0887\"],[0.1111111111111111,\"#46039f\"],[0.2222222222222222,\"#7201a8\"],[0.3333333333333333,\"#9c179e\"],[0.4444444444444444,\"#bd3786\"],[0.5555555555555556,\"#d8576b\"],[0.6666666666666666,\"#ed7953\"],[0.7777777777777778,\"#fb9f3a\"],[0.8888888888888888,\"#fdca26\"],[1.0,\"#f0f921\"]]}],\"heatmap\":[{\"type\":\"heatmap\",\"colorbar\":{\"outlinewidth\":0,\"ticks\":\"\"},\"colorscale\":[[0.0,\"#0d0887\"],[0.1111111111111111,\"#46039f\"],[0.2222222222222222,\"#7201a8\"],[0.3333333333333333,\"#9c179e\"],[0.4444444444444444,\"#bd3786\"],[0.5555555555555556,\"#d8576b\"],[0.6666666666666666,\"#ed7953\"],[0.7777777777777778,\"#fb9f3a\"],[0.8888888888888888,\"#fdca26\"],[1.0,\"#f0f921\"]]}],\"heatmapgl\":[{\"type\":\"heatmapgl\",\"colorbar\":{\"outlinewidth\":0,\"ticks\":\"\"},\"colorscale\":[[0.0,\"#0d0887\"],[0.1111111111111111,\"#46039f\"],[0.2222222222222222,\"#7201a8\"],[0.3333333333333333,\"#9c179e\"],[0.4444444444444444,\"#bd3786\"],[0.5555555555555556,\"#d8576b\"],[0.6666666666666666,\"#ed7953\"],[0.7777777777777778,\"#fb9f3a\"],[0.8888888888888888,\"#fdca26\"],[1.0,\"#f0f921\"]]}],\"contourcarpet\":[{\"type\":\"contourcarpet\",\"colorbar\":{\"outlinewidth\":0,\"ticks\":\"\"}}],\"contour\":[{\"type\":\"contour\",\"colorbar\":{\"outlinewidth\":0,\"ticks\":\"\"},\"colorscale\":[[0.0,\"#0d0887\"],[0.1111111111111111,\"#46039f\"],[0.2222222222222222,\"#7201a8\"],[0.3333333333333333,\"#9c179e\"],[0.4444444444444444,\"#bd3786\"],[0.5555555555555556,\"#d8576b\"],[0.6666666666666666,\"#ed7953\"],[0.7777777777777778,\"#fb9f3a\"],[0.8888888888888888,\"#fdca26\"],[1.0,\"#f0f921\"]]}],\"surface\":[{\"type\":\"surface\",\"colorbar\":{\"outlinewidth\":0,\"ticks\":\"\"},\"colorscale\":[[0.0,\"#0d0887\"],[0.1111111111111111,\"#46039f\"],[0.2222222222222222,\"#7201a8\"],[0.3333333333333333,\"#9c179e\"],[0.4444444444444444,\"#bd3786\"],[0.5555555555555556,\"#d8576b\"],[0.6666666666666666,\"#ed7953\"],[0.7777777777777778,\"#fb9f3a\"],[0.8888888888888888,\"#fdca26\"],[1.0,\"#f0f921\"]]}],\"mesh3d\":[{\"type\":\"mesh3d\",\"colorbar\":{\"outlinewidth\":0,\"ticks\":\"\"}}],\"scatter\":[{\"fillpattern\":{\"fillmode\":\"overlay\",\"size\":10,\"solidity\":0.2},\"type\":\"scatter\"}],\"parcoords\":[{\"type\":\"parcoords\",\"line\":{\"colorbar\":{\"outlinewidth\":0,\"ticks\":\"\"}}}],\"scatterpolargl\":[{\"type\":\"scatterpolargl\",\"marker\":{\"colorbar\":{\"outlinewidth\":0,\"ticks\":\"\"}}}],\"bar\":[{\"error_x\":{\"color\":\"#2a3f5f\"},\"error_y\":{\"color\":\"#2a3f5f\"},\"marker\":{\"line\":{\"color\":\"#E5ECF6\",\"width\":0.5},\"pattern\":{\"fillmode\":\"overlay\",\"size\":10,\"solidity\":0.2}},\"type\":\"bar\"}],\"scattergeo\":[{\"type\":\"scattergeo\",\"marker\":{\"colorbar\":{\"outlinewidth\":0,\"ticks\":\"\"}}}],\"scatterpolar\":[{\"type\":\"scatterpolar\",\"marker\":{\"colorbar\":{\"outlinewidth\":0,\"ticks\":\"\"}}}],\"histogram\":[{\"marker\":{\"pattern\":{\"fillmode\":\"overlay\",\"size\":10,\"solidity\":0.2}},\"type\":\"histogram\"}],\"scattergl\":[{\"type\":\"scattergl\",\"marker\":{\"colorbar\":{\"outlinewidth\":0,\"ticks\":\"\"}}}],\"scatter3d\":[{\"type\":\"scatter3d\",\"line\":{\"colorbar\":{\"outlinewidth\":0,\"ticks\":\"\"}},\"marker\":{\"colorbar\":{\"outlinewidth\":0,\"ticks\":\"\"}}}],\"scattermapbox\":[{\"type\":\"scattermapbox\",\"marker\":{\"colorbar\":{\"outlinewidth\":0,\"ticks\":\"\"}}}],\"scatterternary\":[{\"type\":\"scatterternary\",\"marker\":{\"colorbar\":{\"outlinewidth\":0,\"ticks\":\"\"}}}],\"scattercarpet\":[{\"type\":\"scattercarpet\",\"marker\":{\"colorbar\":{\"outlinewidth\":0,\"ticks\":\"\"}}}],\"carpet\":[{\"aaxis\":{\"endlinecolor\":\"#2a3f5f\",\"gridcolor\":\"white\",\"linecolor\":\"white\",\"minorgridcolor\":\"white\",\"startlinecolor\":\"#2a3f5f\"},\"baxis\":{\"endlinecolor\":\"#2a3f5f\",\"gridcolor\":\"white\",\"linecolor\":\"white\",\"minorgridcolor\":\"white\",\"startlinecolor\":\"#2a3f5f\"},\"type\":\"carpet\"}],\"table\":[{\"cells\":{\"fill\":{\"color\":\"#EBF0F8\"},\"line\":{\"color\":\"white\"}},\"header\":{\"fill\":{\"color\":\"#C8D4E3\"},\"line\":{\"color\":\"white\"}},\"type\":\"table\"}],\"barpolar\":[{\"marker\":{\"line\":{\"color\":\"#E5ECF6\",\"width\":0.5},\"pattern\":{\"fillmode\":\"overlay\",\"size\":10,\"solidity\":0.2}},\"type\":\"barpolar\"}],\"pie\":[{\"automargin\":true,\"type\":\"pie\"}]},\"layout\":{\"autotypenumbers\":\"strict\",\"colorway\":[\"#636efa\",\"#EF553B\",\"#00cc96\",\"#ab63fa\",\"#FFA15A\",\"#19d3f3\",\"#FF6692\",\"#B6E880\",\"#FF97FF\",\"#FECB52\"],\"font\":{\"color\":\"#2a3f5f\"},\"hovermode\":\"closest\",\"hoverlabel\":{\"align\":\"left\"},\"paper_bgcolor\":\"white\",\"plot_bgcolor\":\"#E5ECF6\",\"polar\":{\"bgcolor\":\"#E5ECF6\",\"angularaxis\":{\"gridcolor\":\"white\",\"linecolor\":\"white\",\"ticks\":\"\"},\"radialaxis\":{\"gridcolor\":\"white\",\"linecolor\":\"white\",\"ticks\":\"\"}},\"ternary\":{\"bgcolor\":\"#E5ECF6\",\"aaxis\":{\"gridcolor\":\"white\",\"linecolor\":\"white\",\"ticks\":\"\"},\"baxis\":{\"gridcolor\":\"white\",\"linecolor\":\"white\",\"ticks\":\"\"},\"caxis\":{\"gridcolor\":\"white\",\"linecolor\":\"white\",\"ticks\":\"\"}},\"coloraxis\":{\"colorbar\":{\"outlinewidth\":0,\"ticks\":\"\"}},\"colorscale\":{\"sequential\":[[0.0,\"#0d0887\"],[0.1111111111111111,\"#46039f\"],[0.2222222222222222,\"#7201a8\"],[0.3333333333333333,\"#9c179e\"],[0.4444444444444444,\"#bd3786\"],[0.5555555555555556,\"#d8576b\"],[0.6666666666666666,\"#ed7953\"],[0.7777777777777778,\"#fb9f3a\"],[0.8888888888888888,\"#fdca26\"],[1.0,\"#f0f921\"]],\"sequentialminus\":[[0.0,\"#0d0887\"],[0.1111111111111111,\"#46039f\"],[0.2222222222222222,\"#7201a8\"],[0.3333333333333333,\"#9c179e\"],[0.4444444444444444,\"#bd3786\"],[0.5555555555555556,\"#d8576b\"],[0.6666666666666666,\"#ed7953\"],[0.7777777777777778,\"#fb9f3a\"],[0.8888888888888888,\"#fdca26\"],[1.0,\"#f0f921\"]],\"diverging\":[[0,\"#8e0152\"],[0.1,\"#c51b7d\"],[0.2,\"#de77ae\"],[0.3,\"#f1b6da\"],[0.4,\"#fde0ef\"],[0.5,\"#f7f7f7\"],[0.6,\"#e6f5d0\"],[0.7,\"#b8e186\"],[0.8,\"#7fbc41\"],[0.9,\"#4d9221\"],[1,\"#276419\"]]},\"xaxis\":{\"gridcolor\":\"white\",\"linecolor\":\"white\",\"ticks\":\"\",\"title\":{\"standoff\":15},\"zerolinecolor\":\"white\",\"automargin\":true,\"zerolinewidth\":2},\"yaxis\":{\"gridcolor\":\"white\",\"linecolor\":\"white\",\"ticks\":\"\",\"title\":{\"standoff\":15},\"zerolinecolor\":\"white\",\"automargin\":true,\"zerolinewidth\":2},\"scene\":{\"xaxis\":{\"backgroundcolor\":\"#E5ECF6\",\"gridcolor\":\"white\",\"linecolor\":\"white\",\"showbackground\":true,\"ticks\":\"\",\"zerolinecolor\":\"white\",\"gridwidth\":2},\"yaxis\":{\"backgroundcolor\":\"#E5ECF6\",\"gridcolor\":\"white\",\"linecolor\":\"white\",\"showbackground\":true,\"ticks\":\"\",\"zerolinecolor\":\"white\",\"gridwidth\":2},\"zaxis\":{\"backgroundcolor\":\"#E5ECF6\",\"gridcolor\":\"white\",\"linecolor\":\"white\",\"showbackground\":true,\"ticks\":\"\",\"zerolinecolor\":\"white\",\"gridwidth\":2}},\"shapedefaults\":{\"line\":{\"color\":\"#2a3f5f\"}},\"annotationdefaults\":{\"arrowcolor\":\"#2a3f5f\",\"arrowhead\":0,\"arrowwidth\":1},\"geo\":{\"bgcolor\":\"white\",\"landcolor\":\"#E5ECF6\",\"subunitcolor\":\"white\",\"showland\":true,\"showlakes\":true,\"lakecolor\":\"white\"},\"title\":{\"x\":0.05},\"mapbox\":{\"style\":\"light\"}}}},                        {\"responsive\": true}                    ).then(function(){\n",
       "                            \n",
       "var gd = document.getElementById('ff29157c-d6b6-421c-b720-4b66c998aa42');\n",
       "var x = new MutationObserver(function (mutations, observer) {{\n",
       "        var display = window.getComputedStyle(gd).display;\n",
       "        if (!display || display === 'none') {{\n",
       "            console.log([gd, 'removed!']);\n",
       "            Plotly.purge(gd);\n",
       "            observer.disconnect();\n",
       "        }}\n",
       "}});\n",
       "\n",
       "// Listen for the removal of the full notebook cells\n",
       "var notebookContainer = gd.closest('#notebook-container');\n",
       "if (notebookContainer) {{\n",
       "    x.observe(notebookContainer, {childList: true});\n",
       "}}\n",
       "\n",
       "// Listen for the clearing of the current output cell\n",
       "var outputEl = gd.closest('.output');\n",
       "if (outputEl) {{\n",
       "    x.observe(outputEl, {childList: true});\n",
       "}}\n",
       "\n",
       "                        })                };                });            </script>        </div>"
      ]
     },
     "metadata": {},
     "output_type": "display_data"
    }
   ],
   "source": [
    "if is_multi_objective:\n",
    "    fig = vis.plot_optimization_history(study, target=lambda t: t.values[1], target_name='Accuracy')\n",
    "else:\n",
    "    fig = vis.plot_optimization_history(study)\n",
    "fig.show()"
   ]
  },
  {
   "cell_type": "code",
   "execution_count": 53,
   "metadata": {},
   "outputs": [],
   "source": [
    "if is_multi_objective:\n",
    "    fig = vis.plot_slice(study, target=lambda t: t.values[0], target_name='Loss')\n",
    "    fig.show()"
   ]
  },
  {
   "cell_type": "code",
   "execution_count": 54,
   "metadata": {},
   "outputs": [
    {
     "data": {
      "application/vnd.plotly.v1+json": {
       "config": {
        "plotlyServerURL": "https://plot.ly"
       },
       "data": [
        {
         "marker": {
          "color": [
           0,
           1,
           2,
           3,
           4,
           5,
           6,
           7,
           9,
           11,
           27,
           41,
           43,
           44,
           51,
           55,
           61,
           69,
           73,
           78,
           80
          ],
          "colorbar": {
           "title": {
            "text": "Trial"
           },
           "x": 1,
           "xpad": 40
          },
          "colorscale": [
           [
            0,
            "rgb(247,251,255)"
           ],
           [
            0.125,
            "rgb(222,235,247)"
           ],
           [
            0.25,
            "rgb(198,219,239)"
           ],
           [
            0.375,
            "rgb(158,202,225)"
           ],
           [
            0.5,
            "rgb(107,174,214)"
           ],
           [
            0.625,
            "rgb(66,146,198)"
           ],
           [
            0.75,
            "rgb(33,113,181)"
           ],
           [
            0.875,
            "rgb(8,81,156)"
           ],
           [
            1,
            "rgb(8,48,107)"
           ]
          ],
          "line": {
           "color": "Grey",
           "width": 0.5
          },
          "showscale": true
         },
         "mode": "markers",
         "name": "Feasible Trial",
         "showlegend": false,
         "type": "scatter",
         "x": [
          148,
          212,
          68,
          115,
          203,
          250,
          143,
          186,
          250,
          194,
          240,
          241,
          231,
          220,
          233,
          248,
          247,
          224,
          238,
          239,
          256
         ],
         "xaxis": "x",
         "y": [
          0.8246742486953735,
          0.539512574672699,
          0.9069592356681824,
          0.9273800253868103,
          0.7358436584472656,
          0.49086794257164,
          1.0963001251220703,
          0.5189188122749329,
          1.3015379905700684,
          0.41274240612983704,
          0.5991939306259155,
          0.5915195941925049,
          0.5752480030059814,
          0.5238749384880066,
          0.5352096557617188,
          0.5724642276763916,
          0.5285178422927856,
          0.5215802192687988,
          0.3885498046875,
          0.5545569658279419,
          0.34999287128448486
         ],
         "yaxis": "y"
        },
        {
         "marker": {
          "color": [
           0,
           1,
           2,
           3,
           4,
           5,
           6,
           7,
           9,
           11,
           27,
           41,
           43,
           44,
           51,
           55,
           61,
           69,
           73,
           78,
           80
          ],
          "colorbar": {
           "title": {
            "text": "Trial"
           },
           "x": 1,
           "xpad": 40
          },
          "colorscale": [
           [
            0,
            "rgb(247,251,255)"
           ],
           [
            0.125,
            "rgb(222,235,247)"
           ],
           [
            0.25,
            "rgb(198,219,239)"
           ],
           [
            0.375,
            "rgb(158,202,225)"
           ],
           [
            0.5,
            "rgb(107,174,214)"
           ],
           [
            0.625,
            "rgb(66,146,198)"
           ],
           [
            0.75,
            "rgb(33,113,181)"
           ],
           [
            0.875,
            "rgb(8,81,156)"
           ],
           [
            1,
            "rgb(8,48,107)"
           ]
          ],
          "line": {
           "color": "Grey",
           "width": 0.5
          },
          "showscale": false
         },
         "mode": "markers",
         "name": "Feasible Trial",
         "showlegend": false,
         "type": "scatter",
         "x": [
          0.9414969132407247,
          0.9706440227711186,
          0.5971055219849319,
          0.8058315396340785,
          0.9318097410563924,
          0.634925774101206,
          0.9398875994680203,
          0.5172693399330102,
          0.7857031197537527,
          0.5027805813325206,
          0.5669942828627151,
          0.5777785998604571,
          0.583968410001125,
          0.6208871817417025,
          0.5954175760716368,
          0.6477197090689534,
          0.6440293460489086,
          0.5902441259226187,
          0.6678964768144925,
          0.5760529171890754,
          0.6674880935024725
         ],
         "xaxis": "x2",
         "y": [
          0.8246742486953735,
          0.539512574672699,
          0.9069592356681824,
          0.9273800253868103,
          0.7358436584472656,
          0.49086794257164,
          1.0963001251220703,
          0.5189188122749329,
          1.3015379905700684,
          0.41274240612983704,
          0.5991939306259155,
          0.5915195941925049,
          0.5752480030059814,
          0.5238749384880066,
          0.5352096557617188,
          0.5724642276763916,
          0.5285178422927856,
          0.5215802192687988,
          0.3885498046875,
          0.5545569658279419,
          0.34999287128448486
         ],
         "yaxis": "y2"
        },
        {
         "marker": {
          "color": [
           0,
           1,
           2,
           3,
           4,
           5,
           6,
           7,
           9,
           11,
           27,
           41,
           43,
           44,
           51,
           55,
           61,
           69,
           73,
           78,
           80
          ],
          "colorbar": {
           "title": {
            "text": "Trial"
           },
           "x": 1,
           "xpad": 40
          },
          "colorscale": [
           [
            0,
            "rgb(247,251,255)"
           ],
           [
            0.125,
            "rgb(222,235,247)"
           ],
           [
            0.25,
            "rgb(198,219,239)"
           ],
           [
            0.375,
            "rgb(158,202,225)"
           ],
           [
            0.5,
            "rgb(107,174,214)"
           ],
           [
            0.625,
            "rgb(66,146,198)"
           ],
           [
            0.75,
            "rgb(33,113,181)"
           ],
           [
            0.875,
            "rgb(8,81,156)"
           ],
           [
            1,
            "rgb(8,48,107)"
           ]
          ],
          "line": {
           "color": "Grey",
           "width": 0.5
          },
          "showscale": false
         },
         "mode": "markers",
         "name": "Feasible Trial",
         "showlegend": false,
         "type": "scatter",
         "x": [
          0.8120217032217074,
          0.9306616539638628,
          0.7005958312665593,
          0.6058635914231657,
          0.5651610065371814,
          0.9253714759510854,
          0.8621230187991215,
          0.648434310679344,
          0.5848045337108164,
          0.7099684324315484,
          0.6962200116585943,
          0.6889721376978741,
          0.6670774681147712,
          0.7626328563231068,
          0.6530934673838128,
          0.5552499695720318,
          0.5499663038704082,
          0.8406224971598368,
          0.8748310014236099,
          0.7204804977480943,
          0.9141632628710653
         ],
         "xaxis": "x3",
         "y": [
          0.8246742486953735,
          0.539512574672699,
          0.9069592356681824,
          0.9273800253868103,
          0.7358436584472656,
          0.49086794257164,
          1.0963001251220703,
          0.5189188122749329,
          1.3015379905700684,
          0.41274240612983704,
          0.5991939306259155,
          0.5915195941925049,
          0.5752480030059814,
          0.5238749384880066,
          0.5352096557617188,
          0.5724642276763916,
          0.5285178422927856,
          0.5215802192687988,
          0.3885498046875,
          0.5545569658279419,
          0.34999287128448486
         ],
         "yaxis": "y3"
        },
        {
         "marker": {
          "color": [
           0,
           1,
           2,
           3,
           4,
           5,
           6,
           7,
           9,
           11,
           27,
           41,
           43,
           44,
           51,
           55,
           61,
           69,
           73,
           78,
           80
          ],
          "colorbar": {
           "title": {
            "text": "Trial"
           },
           "x": 1,
           "xpad": 40
          },
          "colorscale": [
           [
            0,
            "rgb(247,251,255)"
           ],
           [
            0.125,
            "rgb(222,235,247)"
           ],
           [
            0.25,
            "rgb(198,219,239)"
           ],
           [
            0.375,
            "rgb(158,202,225)"
           ],
           [
            0.5,
            "rgb(107,174,214)"
           ],
           [
            0.625,
            "rgb(66,146,198)"
           ],
           [
            0.75,
            "rgb(33,113,181)"
           ],
           [
            0.875,
            "rgb(8,81,156)"
           ],
           [
            1,
            "rgb(8,48,107)"
           ]
          ],
          "line": {
           "color": "Grey",
           "width": 0.5
          },
          "showscale": false
         },
         "mode": "markers",
         "name": "Feasible Trial",
         "showlegend": false,
         "type": "scatter",
         "x": [
          0.1921922996463018,
          0.2753660138065692,
          0.06591003461844631,
          0.14155665679145718,
          0.02432835490366586,
          0.04706016426661249,
          0.029059924228687473,
          0.18761871841888125,
          0.13199378350029892,
          0.21836845253732598,
          0.17737672332831453,
          0.1461327933290149,
          0.11750890225940272,
          0.08569156963365693,
          0.11721239038309703,
          0.08917239340144863,
          0.10856880723805994,
          0.09285612583175175,
          0.06973421885499101,
          0.04917946455844534,
          0.0813083518102023
         ],
         "xaxis": "x4",
         "y": [
          0.8246742486953735,
          0.539512574672699,
          0.9069592356681824,
          0.9273800253868103,
          0.7358436584472656,
          0.49086794257164,
          1.0963001251220703,
          0.5189188122749329,
          1.3015379905700684,
          0.41274240612983704,
          0.5991939306259155,
          0.5915195941925049,
          0.5752480030059814,
          0.5238749384880066,
          0.5352096557617188,
          0.5724642276763916,
          0.5285178422927856,
          0.5215802192687988,
          0.3885498046875,
          0.5545569658279419,
          0.34999287128448486
         ],
         "yaxis": "y4"
        },
        {
         "marker": {
          "color": [
           0,
           1,
           2,
           3,
           4,
           5,
           6,
           7,
           9,
           11,
           27,
           41,
           43,
           44,
           51,
           55,
           61,
           69,
           73,
           78,
           80
          ],
          "colorbar": {
           "title": {
            "text": "Trial"
           },
           "x": 1,
           "xpad": 40
          },
          "colorscale": [
           [
            0,
            "rgb(247,251,255)"
           ],
           [
            0.125,
            "rgb(222,235,247)"
           ],
           [
            0.25,
            "rgb(198,219,239)"
           ],
           [
            0.375,
            "rgb(158,202,225)"
           ],
           [
            0.5,
            "rgb(107,174,214)"
           ],
           [
            0.625,
            "rgb(66,146,198)"
           ],
           [
            0.75,
            "rgb(33,113,181)"
           ],
           [
            0.875,
            "rgb(8,81,156)"
           ],
           [
            1,
            "rgb(8,48,107)"
           ]
          ],
          "line": {
           "color": "Grey",
           "width": 0.5
          },
          "showscale": false
         },
         "mode": "markers",
         "name": "Feasible Trial",
         "showlegend": false,
         "type": "scatter",
         "x": [
          39,
          64,
          38,
          24,
          50,
          53,
          14,
          49,
          18,
          60,
          60,
          62,
          56,
          57,
          55,
          63,
          63,
          44,
          56,
          47,
          16
         ],
         "xaxis": "x5",
         "y": [
          0.8246742486953735,
          0.539512574672699,
          0.9069592356681824,
          0.9273800253868103,
          0.7358436584472656,
          0.49086794257164,
          1.0963001251220703,
          0.5189188122749329,
          1.3015379905700684,
          0.41274240612983704,
          0.5991939306259155,
          0.5915195941925049,
          0.5752480030059814,
          0.5238749384880066,
          0.5352096557617188,
          0.5724642276763916,
          0.5285178422927856,
          0.5215802192687988,
          0.3885498046875,
          0.5545569658279419,
          0.34999287128448486
         ],
         "yaxis": "y5"
        },
        {
         "marker": {
          "color": [
           0,
           1,
           2,
           3,
           4,
           5,
           6,
           7,
           9,
           11,
           27,
           41,
           43,
           44,
           51,
           55,
           61,
           69,
           73,
           78,
           80
          ],
          "colorbar": {
           "title": {
            "text": "Trial"
           },
           "x": 1,
           "xpad": 40
          },
          "colorscale": [
           [
            0,
            "rgb(247,251,255)"
           ],
           [
            0.125,
            "rgb(222,235,247)"
           ],
           [
            0.25,
            "rgb(198,219,239)"
           ],
           [
            0.375,
            "rgb(158,202,225)"
           ],
           [
            0.5,
            "rgb(107,174,214)"
           ],
           [
            0.625,
            "rgb(66,146,198)"
           ],
           [
            0.75,
            "rgb(33,113,181)"
           ],
           [
            0.875,
            "rgb(8,81,156)"
           ],
           [
            1,
            "rgb(8,48,107)"
           ]
          ],
          "line": {
           "color": "Grey",
           "width": 0.5
          },
          "showscale": false
         },
         "mode": "markers",
         "name": "Feasible Trial",
         "showlegend": false,
         "type": "scatter",
         "x": [
          true,
          true,
          true,
          false,
          true,
          true,
          false,
          true,
          false,
          true,
          true,
          true,
          true,
          true,
          true,
          true,
          true,
          true,
          true,
          true,
          false
         ],
         "xaxis": "x6",
         "y": [
          0.8246742486953735,
          0.539512574672699,
          0.9069592356681824,
          0.9273800253868103,
          0.7358436584472656,
          0.49086794257164,
          1.0963001251220703,
          0.5189188122749329,
          1.3015379905700684,
          0.41274240612983704,
          0.5991939306259155,
          0.5915195941925049,
          0.5752480030059814,
          0.5238749384880066,
          0.5352096557617188,
          0.5724642276763916,
          0.5285178422927856,
          0.5215802192687988,
          0.3885498046875,
          0.5545569658279419,
          0.34999287128448486
         ],
         "yaxis": "y6"
        },
        {
         "marker": {
          "color": [
           0,
           1,
           2,
           3,
           4,
           5,
           6,
           7,
           9,
           11,
           27,
           41,
           43,
           44,
           51,
           55,
           61,
           69,
           73,
           78,
           80
          ],
          "colorbar": {
           "title": {
            "text": "Trial"
           },
           "x": 1,
           "xpad": 40
          },
          "colorscale": [
           [
            0,
            "rgb(247,251,255)"
           ],
           [
            0.125,
            "rgb(222,235,247)"
           ],
           [
            0.25,
            "rgb(198,219,239)"
           ],
           [
            0.375,
            "rgb(158,202,225)"
           ],
           [
            0.5,
            "rgb(107,174,214)"
           ],
           [
            0.625,
            "rgb(66,146,198)"
           ],
           [
            0.75,
            "rgb(33,113,181)"
           ],
           [
            0.875,
            "rgb(8,81,156)"
           ],
           [
            1,
            "rgb(8,48,107)"
           ]
          ],
          "line": {
           "color": "Grey",
           "width": 0.5
          },
          "showscale": false
         },
         "mode": "markers",
         "name": "Feasible Trial",
         "showlegend": false,
         "type": "scatter",
         "x": [
          false,
          true,
          true,
          true,
          false,
          true,
          false,
          false,
          false,
          true,
          true,
          true,
          true,
          true,
          true,
          true,
          true,
          true,
          true,
          true,
          false
         ],
         "xaxis": "x7",
         "y": [
          0.8246742486953735,
          0.539512574672699,
          0.9069592356681824,
          0.9273800253868103,
          0.7358436584472656,
          0.49086794257164,
          1.0963001251220703,
          0.5189188122749329,
          1.3015379905700684,
          0.41274240612983704,
          0.5991939306259155,
          0.5915195941925049,
          0.5752480030059814,
          0.5238749384880066,
          0.5352096557617188,
          0.5724642276763916,
          0.5285178422927856,
          0.5215802192687988,
          0.3885498046875,
          0.5545569658279419,
          0.34999287128448486
         ],
         "yaxis": "y7"
        },
        {
         "marker": {
          "color": [
           0,
           1,
           2,
           3,
           4,
           5,
           6,
           7,
           9,
           11,
           27,
           41,
           43,
           44,
           51,
           55,
           61,
           69,
           73,
           78,
           80
          ],
          "colorbar": {
           "title": {
            "text": "Trial"
           },
           "x": 1,
           "xpad": 40
          },
          "colorscale": [
           [
            0,
            "rgb(247,251,255)"
           ],
           [
            0.125,
            "rgb(222,235,247)"
           ],
           [
            0.25,
            "rgb(198,219,239)"
           ],
           [
            0.375,
            "rgb(158,202,225)"
           ],
           [
            0.5,
            "rgb(107,174,214)"
           ],
           [
            0.625,
            "rgb(66,146,198)"
           ],
           [
            0.75,
            "rgb(33,113,181)"
           ],
           [
            0.875,
            "rgb(8,81,156)"
           ],
           [
            1,
            "rgb(8,48,107)"
           ]
          ],
          "line": {
           "color": "Grey",
           "width": 0.5
          },
          "showscale": false
         },
         "mode": "markers",
         "name": "Feasible Trial",
         "showlegend": false,
         "type": "scatter",
         "x": [
          0,
          1,
          1,
          0,
          0,
          0,
          1,
          1,
          0,
          1,
          1,
          1,
          1,
          1,
          1,
          1,
          1,
          1,
          1,
          1,
          0
         ],
         "xaxis": "x8",
         "y": [
          0.8246742486953735,
          0.539512574672699,
          0.9069592356681824,
          0.9273800253868103,
          0.7358436584472656,
          0.49086794257164,
          1.0963001251220703,
          0.5189188122749329,
          1.3015379905700684,
          0.41274240612983704,
          0.5991939306259155,
          0.5915195941925049,
          0.5752480030059814,
          0.5238749384880066,
          0.5352096557617188,
          0.5724642276763916,
          0.5285178422927856,
          0.5215802192687988,
          0.3885498046875,
          0.5545569658279419,
          0.34999287128448486
         ],
         "yaxis": "y8"
        },
        {
         "marker": {
          "color": [
           0,
           1,
           2,
           3,
           4,
           5,
           6,
           7,
           9,
           11,
           27,
           41,
           43,
           44,
           51,
           55,
           61,
           69,
           73,
           78,
           80
          ],
          "colorbar": {
           "title": {
            "text": "Trial"
           },
           "x": 1,
           "xpad": 40
          },
          "colorscale": [
           [
            0,
            "rgb(247,251,255)"
           ],
           [
            0.125,
            "rgb(222,235,247)"
           ],
           [
            0.25,
            "rgb(198,219,239)"
           ],
           [
            0.375,
            "rgb(158,202,225)"
           ],
           [
            0.5,
            "rgb(107,174,214)"
           ],
           [
            0.625,
            "rgb(66,146,198)"
           ],
           [
            0.75,
            "rgb(33,113,181)"
           ],
           [
            0.875,
            "rgb(8,81,156)"
           ],
           [
            1,
            "rgb(8,48,107)"
           ]
          ],
          "line": {
           "color": "Grey",
           "width": 0.5
          },
          "showscale": false
         },
         "mode": "markers",
         "name": "Feasible Trial",
         "showlegend": false,
         "type": "scatter",
         "x": [
          0.0664261315414164,
          0.07361900733278608,
          0.0805688557332111,
          0.061175494043412944,
          0.074810240430003,
          0.009457702825027928,
          0.07482230856186148,
          0.005193276509192587,
          0.015125003810444383,
          0.00023933206090173166,
          0.006094063728893734,
          0.006264799431794763,
          0.005405869718056768,
          0.004821100985365461,
          0.00530359980931343,
          0.0034295594950583845,
          0.0028542225505146152,
          0.00251195617253102,
          0.00011638022335265074,
          0.005234891305688911,
          0.0015610089311819454
         ],
         "xaxis": "x9",
         "y": [
          0.8246742486953735,
          0.539512574672699,
          0.9069592356681824,
          0.9273800253868103,
          0.7358436584472656,
          0.49086794257164,
          1.0963001251220703,
          0.5189188122749329,
          1.3015379905700684,
          0.41274240612983704,
          0.5991939306259155,
          0.5915195941925049,
          0.5752480030059814,
          0.5238749384880066,
          0.5352096557617188,
          0.5724642276763916,
          0.5285178422927856,
          0.5215802192687988,
          0.3885498046875,
          0.5545569658279419,
          0.34999287128448486
         ],
         "yaxis": "y9"
        },
        {
         "marker": {
          "color": [
           0,
           1,
           2,
           3,
           4,
           5,
           6,
           7,
           9,
           11,
           27,
           41,
           43,
           44,
           51,
           55,
           61,
           69,
           73,
           78,
           80
          ],
          "colorbar": {
           "title": {
            "text": "Trial"
           },
           "x": 1,
           "xpad": 40
          },
          "colorscale": [
           [
            0,
            "rgb(247,251,255)"
           ],
           [
            0.125,
            "rgb(222,235,247)"
           ],
           [
            0.25,
            "rgb(198,219,239)"
           ],
           [
            0.375,
            "rgb(158,202,225)"
           ],
           [
            0.5,
            "rgb(107,174,214)"
           ],
           [
            0.625,
            "rgb(66,146,198)"
           ],
           [
            0.75,
            "rgb(33,113,181)"
           ],
           [
            0.875,
            "rgb(8,81,156)"
           ],
           [
            1,
            "rgb(8,48,107)"
           ]
          ],
          "line": {
           "color": "Grey",
           "width": 0.5
          },
          "showscale": false
         },
         "mode": "markers",
         "name": "Feasible Trial",
         "showlegend": false,
         "type": "scatter",
         "x": [
          0.24934093456825365,
          0.3740117854772737,
          0.6237603677472855,
          0.546451585996448,
          0.29072958963483597,
          0.6890545881022653,
          0.43568730013365686,
          0.2937914456272035,
          0.0784274385506108,
          0.4946512602811846,
          0.5013085549965326,
          0.49796591702634707,
          0.4466707300237146,
          0.4498520508228122,
          0.5347481038805773,
          0.42798260794671755,
          0.4358296406535897,
          0.437551022456281,
          0.4195845196351884,
          0.4803995067487209,
          0.6765592072337447
         ],
         "xaxis": "x10",
         "y": [
          0.8246742486953735,
          0.539512574672699,
          0.9069592356681824,
          0.9273800253868103,
          0.7358436584472656,
          0.49086794257164,
          1.0963001251220703,
          0.5189188122749329,
          1.3015379905700684,
          0.41274240612983704,
          0.5991939306259155,
          0.5915195941925049,
          0.5752480030059814,
          0.5238749384880066,
          0.5352096557617188,
          0.5724642276763916,
          0.5285178422927856,
          0.5215802192687988,
          0.3885498046875,
          0.5545569658279419,
          0.34999287128448486
         ],
         "yaxis": "y10"
        },
        {
         "marker": {
          "color": [
           0,
           1,
           2,
           3,
           4,
           5,
           6,
           7,
           9,
           11,
           27,
           41,
           43,
           44,
           51,
           55,
           61,
           69,
           73,
           78,
           80
          ],
          "colorbar": {
           "title": {
            "text": "Trial"
           },
           "x": 1,
           "xpad": 40
          },
          "colorscale": [
           [
            0,
            "rgb(247,251,255)"
           ],
           [
            0.125,
            "rgb(222,235,247)"
           ],
           [
            0.25,
            "rgb(198,219,239)"
           ],
           [
            0.375,
            "rgb(158,202,225)"
           ],
           [
            0.5,
            "rgb(107,174,214)"
           ],
           [
            0.625,
            "rgb(66,146,198)"
           ],
           [
            0.75,
            "rgb(33,113,181)"
           ],
           [
            0.875,
            "rgb(8,81,156)"
           ],
           [
            1,
            "rgb(8,48,107)"
           ]
          ],
          "line": {
           "color": "Grey",
           "width": 0.5
          },
          "showscale": false
         },
         "mode": "markers",
         "name": "Feasible Trial",
         "showlegend": false,
         "type": "scatter",
         "x": [
          0,
          0,
          1,
          1,
          0,
          0,
          0,
          0,
          0,
          0,
          0,
          0,
          0,
          0,
          0,
          0,
          0,
          0,
          0,
          0,
          0
         ],
         "xaxis": "x11",
         "y": [
          0.8246742486953735,
          0.539512574672699,
          0.9069592356681824,
          0.9273800253868103,
          0.7358436584472656,
          0.49086794257164,
          1.0963001251220703,
          0.5189188122749329,
          1.3015379905700684,
          0.41274240612983704,
          0.5991939306259155,
          0.5915195941925049,
          0.5752480030059814,
          0.5238749384880066,
          0.5352096557617188,
          0.5724642276763916,
          0.5285178422927856,
          0.5215802192687988,
          0.3885498046875,
          0.5545569658279419,
          0.34999287128448486
         ],
         "yaxis": "y11"
        },
        {
         "marker": {
          "color": [
           0,
           1,
           2,
           3,
           4,
           5,
           6,
           7,
           9,
           11,
           27,
           41,
           43,
           44,
           51,
           55,
           61,
           69,
           73,
           78,
           80
          ],
          "colorbar": {
           "title": {
            "text": "Trial"
           },
           "x": 1,
           "xpad": 40
          },
          "colorscale": [
           [
            0,
            "rgb(247,251,255)"
           ],
           [
            0.125,
            "rgb(222,235,247)"
           ],
           [
            0.25,
            "rgb(198,219,239)"
           ],
           [
            0.375,
            "rgb(158,202,225)"
           ],
           [
            0.5,
            "rgb(107,174,214)"
           ],
           [
            0.625,
            "rgb(66,146,198)"
           ],
           [
            0.75,
            "rgb(33,113,181)"
           ],
           [
            0.875,
            "rgb(8,81,156)"
           ],
           [
            1,
            "rgb(8,48,107)"
           ]
          ],
          "line": {
           "color": "Grey",
           "width": 0.5
          },
          "showscale": false
         },
         "mode": "markers",
         "name": "Feasible Trial",
         "showlegend": false,
         "type": "scatter",
         "x": [
          "sum",
          "sum",
          "sum",
          "sum",
          "sum",
          "sum",
          "sum",
          "sum",
          "sum",
          "sum",
          "sum",
          "sum",
          "sum",
          "sum",
          "sum",
          "sum",
          "sum",
          "sum",
          "sum",
          "sum",
          "sum"
         ],
         "xaxis": "x12",
         "y": [
          0.8246742486953735,
          0.539512574672699,
          0.9069592356681824,
          0.9273800253868103,
          0.7358436584472656,
          0.49086794257164,
          1.0963001251220703,
          0.5189188122749329,
          1.3015379905700684,
          0.41274240612983704,
          0.5991939306259155,
          0.5915195941925049,
          0.5752480030059814,
          0.5238749384880066,
          0.5352096557617188,
          0.5724642276763916,
          0.5285178422927856,
          0.5215802192687988,
          0.3885498046875,
          0.5545569658279419,
          0.34999287128448486
         ],
         "yaxis": "y12"
        },
        {
         "marker": {
          "color": [
           0,
           1,
           2,
           3,
           4,
           5,
           6,
           7,
           9,
           11,
           27,
           41,
           43,
           44,
           51,
           55,
           61,
           69,
           73,
           78,
           80
          ],
          "colorbar": {
           "title": {
            "text": "Trial"
           },
           "x": 1,
           "xpad": 40
          },
          "colorscale": [
           [
            0,
            "rgb(247,251,255)"
           ],
           [
            0.125,
            "rgb(222,235,247)"
           ],
           [
            0.25,
            "rgb(198,219,239)"
           ],
           [
            0.375,
            "rgb(158,202,225)"
           ],
           [
            0.5,
            "rgb(107,174,214)"
           ],
           [
            0.625,
            "rgb(66,146,198)"
           ],
           [
            0.75,
            "rgb(33,113,181)"
           ],
           [
            0.875,
            "rgb(8,81,156)"
           ],
           [
            1,
            "rgb(8,48,107)"
           ]
          ],
          "line": {
           "color": "Grey",
           "width": 0.5
          },
          "showscale": false
         },
         "mode": "markers",
         "name": "Feasible Trial",
         "showlegend": false,
         "type": "scatter",
         "x": [
          0.058261048197632365,
          0.05546607756131719,
          0.15798120503554033,
          0.031263199600677076,
          0.0858244544084968,
          0.1118196225298924,
          0.021753619473206334,
          0.16745515509519418,
          0.17749245964360494,
          0.13220540364908456,
          0.0820649685269213,
          0.0847675631597489,
          0.08389574693100824,
          0.11840301025419493,
          0.05973627863466739,
          0.07490615129633918,
          0.07742932745907988,
          0.09562624568985222,
          0.08654241433904084,
          0.13149073513610943,
          0.08030501713598283
         ],
         "xaxis": "x13",
         "y": [
          0.8246742486953735,
          0.539512574672699,
          0.9069592356681824,
          0.9273800253868103,
          0.7358436584472656,
          0.49086794257164,
          1.0963001251220703,
          0.5189188122749329,
          1.3015379905700684,
          0.41274240612983704,
          0.5991939306259155,
          0.5915195941925049,
          0.5752480030059814,
          0.5238749384880066,
          0.5352096557617188,
          0.5724642276763916,
          0.5285178422927856,
          0.5215802192687988,
          0.3885498046875,
          0.5545569658279419,
          0.34999287128448486
         ],
         "yaxis": "y13"
        },
        {
         "marker": {
          "color": [
           0,
           1,
           2,
           3,
           4,
           5,
           6,
           7,
           9,
           11,
           27,
           41,
           43,
           44,
           51,
           55,
           61,
           69,
           73,
           78,
           80
          ],
          "colorbar": {
           "title": {
            "text": "Trial"
           },
           "x": 1,
           "xpad": 40
          },
          "colorscale": [
           [
            0,
            "rgb(247,251,255)"
           ],
           [
            0.125,
            "rgb(222,235,247)"
           ],
           [
            0.25,
            "rgb(198,219,239)"
           ],
           [
            0.375,
            "rgb(158,202,225)"
           ],
           [
            0.5,
            "rgb(107,174,214)"
           ],
           [
            0.625,
            "rgb(66,146,198)"
           ],
           [
            0.75,
            "rgb(33,113,181)"
           ],
           [
            0.875,
            "rgb(8,81,156)"
           ],
           [
            1,
            "rgb(8,48,107)"
           ]
          ],
          "line": {
           "color": "Grey",
           "width": 0.5
          },
          "showscale": false
         },
         "mode": "markers",
         "name": "Feasible Trial",
         "showlegend": false,
         "type": "scatter",
         "x": [
          0.9349492365011978,
          0.8238531099347833,
          0.9499163105685845,
          0.8063613961257962,
          0.8987383437324818,
          0.8996505725954164,
          0.9809622752595297,
          0.8760393244669277,
          0.8466790049684932,
          0.8675501312824575,
          0.8795805914101267,
          0.8854940831442445,
          0.8982310450155601,
          0.9027950069842207,
          0.8991556834874141,
          0.912655819056906,
          0.9105994758496954,
          0.9407336379760582,
          0.9667200321759163,
          0.8773169356823955,
          0.8878056605174024
         ],
         "xaxis": "x14",
         "y": [
          0.8246742486953735,
          0.539512574672699,
          0.9069592356681824,
          0.9273800253868103,
          0.7358436584472656,
          0.49086794257164,
          1.0963001251220703,
          0.5189188122749329,
          1.3015379905700684,
          0.41274240612983704,
          0.5991939306259155,
          0.5915195941925049,
          0.5752480030059814,
          0.5238749384880066,
          0.5352096557617188,
          0.5724642276763916,
          0.5285178422927856,
          0.5215802192687988,
          0.3885498046875,
          0.5545569658279419,
          0.34999287128448486
         ],
         "yaxis": "y14"
        },
        {
         "marker": {
          "color": [
           0,
           1,
           2,
           3,
           4,
           5,
           6,
           7,
           9,
           11,
           27,
           41,
           43,
           44,
           51,
           55,
           61,
           69,
           73,
           78,
           80
          ],
          "colorbar": {
           "title": {
            "text": "Trial"
           },
           "x": 1,
           "xpad": 40
          },
          "colorscale": [
           [
            0,
            "rgb(247,251,255)"
           ],
           [
            0.125,
            "rgb(222,235,247)"
           ],
           [
            0.25,
            "rgb(198,219,239)"
           ],
           [
            0.375,
            "rgb(158,202,225)"
           ],
           [
            0.5,
            "rgb(107,174,214)"
           ],
           [
            0.625,
            "rgb(66,146,198)"
           ],
           [
            0.75,
            "rgb(33,113,181)"
           ],
           [
            0.875,
            "rgb(8,81,156)"
           ],
           [
            1,
            "rgb(8,48,107)"
           ]
          ],
          "line": {
           "color": "Grey",
           "width": 0.5
          },
          "showscale": false
         },
         "mode": "markers",
         "name": "Feasible Trial",
         "showlegend": false,
         "type": "scatter",
         "x": [
          0.09816406826996439,
          0.03743227986303702,
          0.005373943326189613,
          0.021476406239869374,
          0.05939972467709484,
          0.07559035555157853,
          0.030837958953032055,
          0.032037945449095565,
          0.021204925580142364,
          0.08049395696267644,
          0.06719848708053536,
          0.0629794135148754,
          0.06081628100224272,
          0.0576240367778932,
          0.061095515146783526,
          0.06315430867578807,
          0.06373415856615952,
          0.05252520248772845,
          0.054141983370454096,
          0.060513600377109115,
          0.07500361032560723
         ],
         "xaxis": "x15",
         "y": [
          0.8246742486953735,
          0.539512574672699,
          0.9069592356681824,
          0.9273800253868103,
          0.7358436584472656,
          0.49086794257164,
          1.0963001251220703,
          0.5189188122749329,
          1.3015379905700684,
          0.41274240612983704,
          0.5991939306259155,
          0.5915195941925049,
          0.5752480030059814,
          0.5238749384880066,
          0.5352096557617188,
          0.5724642276763916,
          0.5285178422927856,
          0.5215802192687988,
          0.3885498046875,
          0.5545569658279419,
          0.34999287128448486
         ],
         "yaxis": "y15"
        },
        {
         "marker": {
          "color": [
           0,
           1,
           2,
           3,
           4,
           5,
           6,
           7,
           9,
           11,
           27,
           41,
           43,
           44,
           51,
           55,
           61,
           69,
           73,
           78,
           80
          ],
          "colorbar": {
           "title": {
            "text": "Trial"
           },
           "x": 1,
           "xpad": 40
          },
          "colorscale": [
           [
            0,
            "rgb(247,251,255)"
           ],
           [
            0.125,
            "rgb(222,235,247)"
           ],
           [
            0.25,
            "rgb(198,219,239)"
           ],
           [
            0.375,
            "rgb(158,202,225)"
           ],
           [
            0.5,
            "rgb(107,174,214)"
           ],
           [
            0.625,
            "rgb(66,146,198)"
           ],
           [
            0.75,
            "rgb(33,113,181)"
           ],
           [
            0.875,
            "rgb(8,81,156)"
           ],
           [
            1,
            "rgb(8,48,107)"
           ]
          ],
          "line": {
           "color": "Grey",
           "width": 0.5
          },
          "showscale": false
         },
         "mode": "markers",
         "name": "Feasible Trial",
         "showlegend": false,
         "type": "scatter",
         "x": [
          false,
          false,
          true,
          false,
          false,
          true,
          true,
          true,
          false,
          true,
          true,
          true,
          true,
          true,
          true,
          true,
          true,
          true,
          true,
          true,
          true
         ],
         "xaxis": "x16",
         "y": [
          0.8246742486953735,
          0.539512574672699,
          0.9069592356681824,
          0.9273800253868103,
          0.7358436584472656,
          0.49086794257164,
          1.0963001251220703,
          0.5189188122749329,
          1.3015379905700684,
          0.41274240612983704,
          0.5991939306259155,
          0.5915195941925049,
          0.5752480030059814,
          0.5238749384880066,
          0.5352096557617188,
          0.5724642276763916,
          0.5285178422927856,
          0.5215802192687988,
          0.3885498046875,
          0.5545569658279419,
          0.34999287128448486
         ],
         "yaxis": "y16"
        }
       ],
       "layout": {
        "template": {
         "data": {
          "bar": [
           {
            "error_x": {
             "color": "#2a3f5f"
            },
            "error_y": {
             "color": "#2a3f5f"
            },
            "marker": {
             "line": {
              "color": "#E5ECF6",
              "width": 0.5
             },
             "pattern": {
              "fillmode": "overlay",
              "size": 10,
              "solidity": 0.2
             }
            },
            "type": "bar"
           }
          ],
          "barpolar": [
           {
            "marker": {
             "line": {
              "color": "#E5ECF6",
              "width": 0.5
             },
             "pattern": {
              "fillmode": "overlay",
              "size": 10,
              "solidity": 0.2
             }
            },
            "type": "barpolar"
           }
          ],
          "carpet": [
           {
            "aaxis": {
             "endlinecolor": "#2a3f5f",
             "gridcolor": "white",
             "linecolor": "white",
             "minorgridcolor": "white",
             "startlinecolor": "#2a3f5f"
            },
            "baxis": {
             "endlinecolor": "#2a3f5f",
             "gridcolor": "white",
             "linecolor": "white",
             "minorgridcolor": "white",
             "startlinecolor": "#2a3f5f"
            },
            "type": "carpet"
           }
          ],
          "choropleth": [
           {
            "colorbar": {
             "outlinewidth": 0,
             "ticks": ""
            },
            "type": "choropleth"
           }
          ],
          "contour": [
           {
            "colorbar": {
             "outlinewidth": 0,
             "ticks": ""
            },
            "colorscale": [
             [
              0,
              "#0d0887"
             ],
             [
              0.1111111111111111,
              "#46039f"
             ],
             [
              0.2222222222222222,
              "#7201a8"
             ],
             [
              0.3333333333333333,
              "#9c179e"
             ],
             [
              0.4444444444444444,
              "#bd3786"
             ],
             [
              0.5555555555555556,
              "#d8576b"
             ],
             [
              0.6666666666666666,
              "#ed7953"
             ],
             [
              0.7777777777777778,
              "#fb9f3a"
             ],
             [
              0.8888888888888888,
              "#fdca26"
             ],
             [
              1,
              "#f0f921"
             ]
            ],
            "type": "contour"
           }
          ],
          "contourcarpet": [
           {
            "colorbar": {
             "outlinewidth": 0,
             "ticks": ""
            },
            "type": "contourcarpet"
           }
          ],
          "heatmap": [
           {
            "colorbar": {
             "outlinewidth": 0,
             "ticks": ""
            },
            "colorscale": [
             [
              0,
              "#0d0887"
             ],
             [
              0.1111111111111111,
              "#46039f"
             ],
             [
              0.2222222222222222,
              "#7201a8"
             ],
             [
              0.3333333333333333,
              "#9c179e"
             ],
             [
              0.4444444444444444,
              "#bd3786"
             ],
             [
              0.5555555555555556,
              "#d8576b"
             ],
             [
              0.6666666666666666,
              "#ed7953"
             ],
             [
              0.7777777777777778,
              "#fb9f3a"
             ],
             [
              0.8888888888888888,
              "#fdca26"
             ],
             [
              1,
              "#f0f921"
             ]
            ],
            "type": "heatmap"
           }
          ],
          "heatmapgl": [
           {
            "colorbar": {
             "outlinewidth": 0,
             "ticks": ""
            },
            "colorscale": [
             [
              0,
              "#0d0887"
             ],
             [
              0.1111111111111111,
              "#46039f"
             ],
             [
              0.2222222222222222,
              "#7201a8"
             ],
             [
              0.3333333333333333,
              "#9c179e"
             ],
             [
              0.4444444444444444,
              "#bd3786"
             ],
             [
              0.5555555555555556,
              "#d8576b"
             ],
             [
              0.6666666666666666,
              "#ed7953"
             ],
             [
              0.7777777777777778,
              "#fb9f3a"
             ],
             [
              0.8888888888888888,
              "#fdca26"
             ],
             [
              1,
              "#f0f921"
             ]
            ],
            "type": "heatmapgl"
           }
          ],
          "histogram": [
           {
            "marker": {
             "pattern": {
              "fillmode": "overlay",
              "size": 10,
              "solidity": 0.2
             }
            },
            "type": "histogram"
           }
          ],
          "histogram2d": [
           {
            "colorbar": {
             "outlinewidth": 0,
             "ticks": ""
            },
            "colorscale": [
             [
              0,
              "#0d0887"
             ],
             [
              0.1111111111111111,
              "#46039f"
             ],
             [
              0.2222222222222222,
              "#7201a8"
             ],
             [
              0.3333333333333333,
              "#9c179e"
             ],
             [
              0.4444444444444444,
              "#bd3786"
             ],
             [
              0.5555555555555556,
              "#d8576b"
             ],
             [
              0.6666666666666666,
              "#ed7953"
             ],
             [
              0.7777777777777778,
              "#fb9f3a"
             ],
             [
              0.8888888888888888,
              "#fdca26"
             ],
             [
              1,
              "#f0f921"
             ]
            ],
            "type": "histogram2d"
           }
          ],
          "histogram2dcontour": [
           {
            "colorbar": {
             "outlinewidth": 0,
             "ticks": ""
            },
            "colorscale": [
             [
              0,
              "#0d0887"
             ],
             [
              0.1111111111111111,
              "#46039f"
             ],
             [
              0.2222222222222222,
              "#7201a8"
             ],
             [
              0.3333333333333333,
              "#9c179e"
             ],
             [
              0.4444444444444444,
              "#bd3786"
             ],
             [
              0.5555555555555556,
              "#d8576b"
             ],
             [
              0.6666666666666666,
              "#ed7953"
             ],
             [
              0.7777777777777778,
              "#fb9f3a"
             ],
             [
              0.8888888888888888,
              "#fdca26"
             ],
             [
              1,
              "#f0f921"
             ]
            ],
            "type": "histogram2dcontour"
           }
          ],
          "mesh3d": [
           {
            "colorbar": {
             "outlinewidth": 0,
             "ticks": ""
            },
            "type": "mesh3d"
           }
          ],
          "parcoords": [
           {
            "line": {
             "colorbar": {
              "outlinewidth": 0,
              "ticks": ""
             }
            },
            "type": "parcoords"
           }
          ],
          "pie": [
           {
            "automargin": true,
            "type": "pie"
           }
          ],
          "scatter": [
           {
            "fillpattern": {
             "fillmode": "overlay",
             "size": 10,
             "solidity": 0.2
            },
            "type": "scatter"
           }
          ],
          "scatter3d": [
           {
            "line": {
             "colorbar": {
              "outlinewidth": 0,
              "ticks": ""
             }
            },
            "marker": {
             "colorbar": {
              "outlinewidth": 0,
              "ticks": ""
             }
            },
            "type": "scatter3d"
           }
          ],
          "scattercarpet": [
           {
            "marker": {
             "colorbar": {
              "outlinewidth": 0,
              "ticks": ""
             }
            },
            "type": "scattercarpet"
           }
          ],
          "scattergeo": [
           {
            "marker": {
             "colorbar": {
              "outlinewidth": 0,
              "ticks": ""
             }
            },
            "type": "scattergeo"
           }
          ],
          "scattergl": [
           {
            "marker": {
             "colorbar": {
              "outlinewidth": 0,
              "ticks": ""
             }
            },
            "type": "scattergl"
           }
          ],
          "scattermapbox": [
           {
            "marker": {
             "colorbar": {
              "outlinewidth": 0,
              "ticks": ""
             }
            },
            "type": "scattermapbox"
           }
          ],
          "scatterpolar": [
           {
            "marker": {
             "colorbar": {
              "outlinewidth": 0,
              "ticks": ""
             }
            },
            "type": "scatterpolar"
           }
          ],
          "scatterpolargl": [
           {
            "marker": {
             "colorbar": {
              "outlinewidth": 0,
              "ticks": ""
             }
            },
            "type": "scatterpolargl"
           }
          ],
          "scatterternary": [
           {
            "marker": {
             "colorbar": {
              "outlinewidth": 0,
              "ticks": ""
             }
            },
            "type": "scatterternary"
           }
          ],
          "surface": [
           {
            "colorbar": {
             "outlinewidth": 0,
             "ticks": ""
            },
            "colorscale": [
             [
              0,
              "#0d0887"
             ],
             [
              0.1111111111111111,
              "#46039f"
             ],
             [
              0.2222222222222222,
              "#7201a8"
             ],
             [
              0.3333333333333333,
              "#9c179e"
             ],
             [
              0.4444444444444444,
              "#bd3786"
             ],
             [
              0.5555555555555556,
              "#d8576b"
             ],
             [
              0.6666666666666666,
              "#ed7953"
             ],
             [
              0.7777777777777778,
              "#fb9f3a"
             ],
             [
              0.8888888888888888,
              "#fdca26"
             ],
             [
              1,
              "#f0f921"
             ]
            ],
            "type": "surface"
           }
          ],
          "table": [
           {
            "cells": {
             "fill": {
              "color": "#EBF0F8"
             },
             "line": {
              "color": "white"
             }
            },
            "header": {
             "fill": {
              "color": "#C8D4E3"
             },
             "line": {
              "color": "white"
             }
            },
            "type": "table"
           }
          ]
         },
         "layout": {
          "annotationdefaults": {
           "arrowcolor": "#2a3f5f",
           "arrowhead": 0,
           "arrowwidth": 1
          },
          "autotypenumbers": "strict",
          "coloraxis": {
           "colorbar": {
            "outlinewidth": 0,
            "ticks": ""
           }
          },
          "colorscale": {
           "diverging": [
            [
             0,
             "#8e0152"
            ],
            [
             0.1,
             "#c51b7d"
            ],
            [
             0.2,
             "#de77ae"
            ],
            [
             0.3,
             "#f1b6da"
            ],
            [
             0.4,
             "#fde0ef"
            ],
            [
             0.5,
             "#f7f7f7"
            ],
            [
             0.6,
             "#e6f5d0"
            ],
            [
             0.7,
             "#b8e186"
            ],
            [
             0.8,
             "#7fbc41"
            ],
            [
             0.9,
             "#4d9221"
            ],
            [
             1,
             "#276419"
            ]
           ],
           "sequential": [
            [
             0,
             "#0d0887"
            ],
            [
             0.1111111111111111,
             "#46039f"
            ],
            [
             0.2222222222222222,
             "#7201a8"
            ],
            [
             0.3333333333333333,
             "#9c179e"
            ],
            [
             0.4444444444444444,
             "#bd3786"
            ],
            [
             0.5555555555555556,
             "#d8576b"
            ],
            [
             0.6666666666666666,
             "#ed7953"
            ],
            [
             0.7777777777777778,
             "#fb9f3a"
            ],
            [
             0.8888888888888888,
             "#fdca26"
            ],
            [
             1,
             "#f0f921"
            ]
           ],
           "sequentialminus": [
            [
             0,
             "#0d0887"
            ],
            [
             0.1111111111111111,
             "#46039f"
            ],
            [
             0.2222222222222222,
             "#7201a8"
            ],
            [
             0.3333333333333333,
             "#9c179e"
            ],
            [
             0.4444444444444444,
             "#bd3786"
            ],
            [
             0.5555555555555556,
             "#d8576b"
            ],
            [
             0.6666666666666666,
             "#ed7953"
            ],
            [
             0.7777777777777778,
             "#fb9f3a"
            ],
            [
             0.8888888888888888,
             "#fdca26"
            ],
            [
             1,
             "#f0f921"
            ]
           ]
          },
          "colorway": [
           "#636efa",
           "#EF553B",
           "#00cc96",
           "#ab63fa",
           "#FFA15A",
           "#19d3f3",
           "#FF6692",
           "#B6E880",
           "#FF97FF",
           "#FECB52"
          ],
          "font": {
           "color": "#2a3f5f"
          },
          "geo": {
           "bgcolor": "white",
           "lakecolor": "white",
           "landcolor": "#E5ECF6",
           "showlakes": true,
           "showland": true,
           "subunitcolor": "white"
          },
          "hoverlabel": {
           "align": "left"
          },
          "hovermode": "closest",
          "mapbox": {
           "style": "light"
          },
          "paper_bgcolor": "white",
          "plot_bgcolor": "#E5ECF6",
          "polar": {
           "angularaxis": {
            "gridcolor": "white",
            "linecolor": "white",
            "ticks": ""
           },
           "bgcolor": "#E5ECF6",
           "radialaxis": {
            "gridcolor": "white",
            "linecolor": "white",
            "ticks": ""
           }
          },
          "scene": {
           "xaxis": {
            "backgroundcolor": "#E5ECF6",
            "gridcolor": "white",
            "gridwidth": 2,
            "linecolor": "white",
            "showbackground": true,
            "ticks": "",
            "zerolinecolor": "white"
           },
           "yaxis": {
            "backgroundcolor": "#E5ECF6",
            "gridcolor": "white",
            "gridwidth": 2,
            "linecolor": "white",
            "showbackground": true,
            "ticks": "",
            "zerolinecolor": "white"
           },
           "zaxis": {
            "backgroundcolor": "#E5ECF6",
            "gridcolor": "white",
            "gridwidth": 2,
            "linecolor": "white",
            "showbackground": true,
            "ticks": "",
            "zerolinecolor": "white"
           }
          },
          "shapedefaults": {
           "line": {
            "color": "#2a3f5f"
           }
          },
          "ternary": {
           "aaxis": {
            "gridcolor": "white",
            "linecolor": "white",
            "ticks": ""
           },
           "baxis": {
            "gridcolor": "white",
            "linecolor": "white",
            "ticks": ""
           },
           "bgcolor": "#E5ECF6",
           "caxis": {
            "gridcolor": "white",
            "linecolor": "white",
            "ticks": ""
           }
          },
          "title": {
           "x": 0.05
          },
          "xaxis": {
           "automargin": true,
           "gridcolor": "white",
           "linecolor": "white",
           "ticks": "",
           "title": {
            "standoff": 15
           },
           "zerolinecolor": "white",
           "zerolinewidth": 2
          },
          "yaxis": {
           "automargin": true,
           "gridcolor": "white",
           "linecolor": "white",
           "ticks": "",
           "title": {
            "standoff": 15
           },
           "zerolinecolor": "white",
           "zerolinewidth": 2
          }
         }
        },
        "title": {
         "text": "Slice Plot"
        },
        "width": 4800,
        "xaxis": {
         "anchor": "y",
         "domain": [
          0,
          0.05078125
         ],
         "title": {
          "text": "batch_size"
         }
        },
        "xaxis10": {
         "anchor": "y10",
         "domain": [
          0.56953125,
          0.6203125
         ],
         "title": {
          "text": "momentum"
         }
        },
        "xaxis11": {
         "anchor": "y11",
         "domain": [
          0.6328125,
          0.68359375
         ],
         "title": {
          "text": "optimizer_idx"
         }
        },
        "xaxis12": {
         "anchor": "y12",
         "categoryarray": [
          "sum"
         ],
         "categoryorder": "array",
         "domain": [
          0.69609375,
          0.746875
         ],
         "title": {
          "text": "reduction"
         },
         "type": "category"
        },
        "xaxis13": {
         "anchor": "y13",
         "domain": [
          0.759375,
          0.81015625
         ],
         "title": {
          "text": "relu_slope"
         }
        },
        "xaxis14": {
         "anchor": "y14",
         "domain": [
          0.82265625,
          0.8734375
         ],
         "title": {
          "text": "scheduler_gamma"
         }
        },
        "xaxis15": {
         "anchor": "y15",
         "domain": [
          0.8859375,
          0.93671875
         ],
         "title": {
          "text": "weight_decay"
         }
        },
        "xaxis16": {
         "anchor": "y16",
         "categoryarray": [
          true,
          false
         ],
         "categoryorder": "array",
         "domain": [
          0.94921875,
          1
         ],
         "title": {
          "text": "weighted_loss"
         },
         "type": "category"
        },
        "xaxis2": {
         "anchor": "y2",
         "domain": [
          0.06328125,
          0.1140625
         ],
         "title": {
          "text": "beta1"
         }
        },
        "xaxis3": {
         "anchor": "y3",
         "domain": [
          0.1265625,
          0.17734375
         ],
         "title": {
          "text": "beta2"
         }
        },
        "xaxis4": {
         "anchor": "y4",
         "domain": [
          0.18984375,
          0.240625
         ],
         "title": {
          "text": "dampening"
         }
        },
        "xaxis5": {
         "anchor": "y5",
         "domain": [
          0.253125,
          0.30390625
         ],
         "title": {
          "text": "epochs"
         }
        },
        "xaxis6": {
         "anchor": "y6",
         "categoryarray": [
          true,
          false
         ],
         "categoryorder": "array",
         "domain": [
          0.31640625,
          0.3671875
         ],
         "title": {
          "text": "fine_tune"
         },
         "type": "category"
        },
        "xaxis7": {
         "anchor": "y7",
         "categoryarray": [
          true,
          false
         ],
         "categoryorder": "array",
         "domain": [
          0.3796875,
          0.43046875
         ],
         "title": {
          "text": "linear_blocks"
         },
         "type": "category"
        },
        "xaxis8": {
         "anchor": "y8",
         "domain": [
          0.44296875,
          0.49375
         ],
         "title": {
          "text": "loss_function_id"
         }
        },
        "xaxis9": {
         "anchor": "y9",
         "domain": [
          0.50625,
          0.55703125
         ],
         "title": {
          "text": "lr"
         }
        },
        "yaxis": {
         "anchor": "x",
         "domain": [
          0,
          1
         ],
         "title": {
          "text": "Objective Value"
         }
        },
        "yaxis10": {
         "anchor": "x10",
         "domain": [
          0,
          1
         ],
         "matches": "y",
         "showticklabels": false
        },
        "yaxis11": {
         "anchor": "x11",
         "domain": [
          0,
          1
         ],
         "matches": "y",
         "showticklabels": false
        },
        "yaxis12": {
         "anchor": "x12",
         "domain": [
          0,
          1
         ],
         "matches": "y",
         "showticklabels": false
        },
        "yaxis13": {
         "anchor": "x13",
         "domain": [
          0,
          1
         ],
         "matches": "y",
         "showticklabels": false
        },
        "yaxis14": {
         "anchor": "x14",
         "domain": [
          0,
          1
         ],
         "matches": "y",
         "showticklabels": false
        },
        "yaxis15": {
         "anchor": "x15",
         "domain": [
          0,
          1
         ],
         "matches": "y",
         "showticklabels": false
        },
        "yaxis16": {
         "anchor": "x16",
         "domain": [
          0,
          1
         ],
         "matches": "y",
         "showticklabels": false
        },
        "yaxis2": {
         "anchor": "x2",
         "domain": [
          0,
          1
         ],
         "matches": "y",
         "showticklabels": false
        },
        "yaxis3": {
         "anchor": "x3",
         "domain": [
          0,
          1
         ],
         "matches": "y",
         "showticklabels": false
        },
        "yaxis4": {
         "anchor": "x4",
         "domain": [
          0,
          1
         ],
         "matches": "y",
         "showticklabels": false
        },
        "yaxis5": {
         "anchor": "x5",
         "domain": [
          0,
          1
         ],
         "matches": "y",
         "showticklabels": false
        },
        "yaxis6": {
         "anchor": "x6",
         "domain": [
          0,
          1
         ],
         "matches": "y",
         "showticklabels": false
        },
        "yaxis7": {
         "anchor": "x7",
         "domain": [
          0,
          1
         ],
         "matches": "y",
         "showticklabels": false
        },
        "yaxis8": {
         "anchor": "x8",
         "domain": [
          0,
          1
         ],
         "matches": "y",
         "showticklabels": false
        },
        "yaxis9": {
         "anchor": "x9",
         "domain": [
          0,
          1
         ],
         "matches": "y",
         "showticklabels": false
        }
       }
      },
      "text/html": [
       "<div>                            <div id=\"6ca423b1-be70-4df3-8fdf-0ac62eaac47a\" class=\"plotly-graph-div\" style=\"height:525px; width:4800px;\"></div>            <script type=\"text/javascript\">                require([\"plotly\"], function(Plotly) {                    window.PLOTLYENV=window.PLOTLYENV || {};                                    if (document.getElementById(\"6ca423b1-be70-4df3-8fdf-0ac62eaac47a\")) {                    Plotly.newPlot(                        \"6ca423b1-be70-4df3-8fdf-0ac62eaac47a\",                        [{\"marker\":{\"color\":[0,1,2,3,4,5,6,7,9,11,27,41,43,44,51,55,61,69,73,78,80],\"colorbar\":{\"title\":{\"text\":\"Trial\"},\"x\":1.0,\"xpad\":40},\"colorscale\":[[0.0,\"rgb(247,251,255)\"],[0.125,\"rgb(222,235,247)\"],[0.25,\"rgb(198,219,239)\"],[0.375,\"rgb(158,202,225)\"],[0.5,\"rgb(107,174,214)\"],[0.625,\"rgb(66,146,198)\"],[0.75,\"rgb(33,113,181)\"],[0.875,\"rgb(8,81,156)\"],[1.0,\"rgb(8,48,107)\"]],\"line\":{\"color\":\"Grey\",\"width\":0.5},\"showscale\":true},\"mode\":\"markers\",\"name\":\"Feasible Trial\",\"showlegend\":false,\"x\":[148,212,68,115,203,250,143,186,250,194,240,241,231,220,233,248,247,224,238,239,256],\"y\":[0.8246742486953735,0.539512574672699,0.9069592356681824,0.9273800253868103,0.7358436584472656,0.49086794257164,1.0963001251220703,0.5189188122749329,1.3015379905700684,0.41274240612983704,0.5991939306259155,0.5915195941925049,0.5752480030059814,0.5238749384880066,0.5352096557617188,0.5724642276763916,0.5285178422927856,0.5215802192687988,0.3885498046875,0.5545569658279419,0.34999287128448486],\"type\":\"scatter\",\"xaxis\":\"x\",\"yaxis\":\"y\"},{\"marker\":{\"color\":[0,1,2,3,4,5,6,7,9,11,27,41,43,44,51,55,61,69,73,78,80],\"colorbar\":{\"title\":{\"text\":\"Trial\"},\"x\":1.0,\"xpad\":40},\"colorscale\":[[0.0,\"rgb(247,251,255)\"],[0.125,\"rgb(222,235,247)\"],[0.25,\"rgb(198,219,239)\"],[0.375,\"rgb(158,202,225)\"],[0.5,\"rgb(107,174,214)\"],[0.625,\"rgb(66,146,198)\"],[0.75,\"rgb(33,113,181)\"],[0.875,\"rgb(8,81,156)\"],[1.0,\"rgb(8,48,107)\"]],\"line\":{\"color\":\"Grey\",\"width\":0.5},\"showscale\":false},\"mode\":\"markers\",\"name\":\"Feasible Trial\",\"showlegend\":false,\"x\":[0.9414969132407247,0.9706440227711186,0.5971055219849319,0.8058315396340785,0.9318097410563924,0.634925774101206,0.9398875994680203,0.5172693399330102,0.7857031197537527,0.5027805813325206,0.5669942828627151,0.5777785998604571,0.583968410001125,0.6208871817417025,0.5954175760716368,0.6477197090689534,0.6440293460489086,0.5902441259226187,0.6678964768144925,0.5760529171890754,0.6674880935024725],\"y\":[0.8246742486953735,0.539512574672699,0.9069592356681824,0.9273800253868103,0.7358436584472656,0.49086794257164,1.0963001251220703,0.5189188122749329,1.3015379905700684,0.41274240612983704,0.5991939306259155,0.5915195941925049,0.5752480030059814,0.5238749384880066,0.5352096557617188,0.5724642276763916,0.5285178422927856,0.5215802192687988,0.3885498046875,0.5545569658279419,0.34999287128448486],\"type\":\"scatter\",\"xaxis\":\"x2\",\"yaxis\":\"y2\"},{\"marker\":{\"color\":[0,1,2,3,4,5,6,7,9,11,27,41,43,44,51,55,61,69,73,78,80],\"colorbar\":{\"title\":{\"text\":\"Trial\"},\"x\":1.0,\"xpad\":40},\"colorscale\":[[0.0,\"rgb(247,251,255)\"],[0.125,\"rgb(222,235,247)\"],[0.25,\"rgb(198,219,239)\"],[0.375,\"rgb(158,202,225)\"],[0.5,\"rgb(107,174,214)\"],[0.625,\"rgb(66,146,198)\"],[0.75,\"rgb(33,113,181)\"],[0.875,\"rgb(8,81,156)\"],[1.0,\"rgb(8,48,107)\"]],\"line\":{\"color\":\"Grey\",\"width\":0.5},\"showscale\":false},\"mode\":\"markers\",\"name\":\"Feasible Trial\",\"showlegend\":false,\"x\":[0.8120217032217074,0.9306616539638628,0.7005958312665593,0.6058635914231657,0.5651610065371814,0.9253714759510854,0.8621230187991215,0.648434310679344,0.5848045337108164,0.7099684324315484,0.6962200116585943,0.6889721376978741,0.6670774681147712,0.7626328563231068,0.6530934673838128,0.5552499695720318,0.5499663038704082,0.8406224971598368,0.8748310014236099,0.7204804977480943,0.9141632628710653],\"y\":[0.8246742486953735,0.539512574672699,0.9069592356681824,0.9273800253868103,0.7358436584472656,0.49086794257164,1.0963001251220703,0.5189188122749329,1.3015379905700684,0.41274240612983704,0.5991939306259155,0.5915195941925049,0.5752480030059814,0.5238749384880066,0.5352096557617188,0.5724642276763916,0.5285178422927856,0.5215802192687988,0.3885498046875,0.5545569658279419,0.34999287128448486],\"type\":\"scatter\",\"xaxis\":\"x3\",\"yaxis\":\"y3\"},{\"marker\":{\"color\":[0,1,2,3,4,5,6,7,9,11,27,41,43,44,51,55,61,69,73,78,80],\"colorbar\":{\"title\":{\"text\":\"Trial\"},\"x\":1.0,\"xpad\":40},\"colorscale\":[[0.0,\"rgb(247,251,255)\"],[0.125,\"rgb(222,235,247)\"],[0.25,\"rgb(198,219,239)\"],[0.375,\"rgb(158,202,225)\"],[0.5,\"rgb(107,174,214)\"],[0.625,\"rgb(66,146,198)\"],[0.75,\"rgb(33,113,181)\"],[0.875,\"rgb(8,81,156)\"],[1.0,\"rgb(8,48,107)\"]],\"line\":{\"color\":\"Grey\",\"width\":0.5},\"showscale\":false},\"mode\":\"markers\",\"name\":\"Feasible Trial\",\"showlegend\":false,\"x\":[0.1921922996463018,0.2753660138065692,0.06591003461844631,0.14155665679145718,0.02432835490366586,0.04706016426661249,0.029059924228687473,0.18761871841888125,0.13199378350029892,0.21836845253732598,0.17737672332831453,0.1461327933290149,0.11750890225940272,0.08569156963365693,0.11721239038309703,0.08917239340144863,0.10856880723805994,0.09285612583175175,0.06973421885499101,0.04917946455844534,0.0813083518102023],\"y\":[0.8246742486953735,0.539512574672699,0.9069592356681824,0.9273800253868103,0.7358436584472656,0.49086794257164,1.0963001251220703,0.5189188122749329,1.3015379905700684,0.41274240612983704,0.5991939306259155,0.5915195941925049,0.5752480030059814,0.5238749384880066,0.5352096557617188,0.5724642276763916,0.5285178422927856,0.5215802192687988,0.3885498046875,0.5545569658279419,0.34999287128448486],\"type\":\"scatter\",\"xaxis\":\"x4\",\"yaxis\":\"y4\"},{\"marker\":{\"color\":[0,1,2,3,4,5,6,7,9,11,27,41,43,44,51,55,61,69,73,78,80],\"colorbar\":{\"title\":{\"text\":\"Trial\"},\"x\":1.0,\"xpad\":40},\"colorscale\":[[0.0,\"rgb(247,251,255)\"],[0.125,\"rgb(222,235,247)\"],[0.25,\"rgb(198,219,239)\"],[0.375,\"rgb(158,202,225)\"],[0.5,\"rgb(107,174,214)\"],[0.625,\"rgb(66,146,198)\"],[0.75,\"rgb(33,113,181)\"],[0.875,\"rgb(8,81,156)\"],[1.0,\"rgb(8,48,107)\"]],\"line\":{\"color\":\"Grey\",\"width\":0.5},\"showscale\":false},\"mode\":\"markers\",\"name\":\"Feasible Trial\",\"showlegend\":false,\"x\":[39,64,38,24,50,53,14,49,18,60,60,62,56,57,55,63,63,44,56,47,16],\"y\":[0.8246742486953735,0.539512574672699,0.9069592356681824,0.9273800253868103,0.7358436584472656,0.49086794257164,1.0963001251220703,0.5189188122749329,1.3015379905700684,0.41274240612983704,0.5991939306259155,0.5915195941925049,0.5752480030059814,0.5238749384880066,0.5352096557617188,0.5724642276763916,0.5285178422927856,0.5215802192687988,0.3885498046875,0.5545569658279419,0.34999287128448486],\"type\":\"scatter\",\"xaxis\":\"x5\",\"yaxis\":\"y5\"},{\"marker\":{\"color\":[0,1,2,3,4,5,6,7,9,11,27,41,43,44,51,55,61,69,73,78,80],\"colorbar\":{\"title\":{\"text\":\"Trial\"},\"x\":1.0,\"xpad\":40},\"colorscale\":[[0.0,\"rgb(247,251,255)\"],[0.125,\"rgb(222,235,247)\"],[0.25,\"rgb(198,219,239)\"],[0.375,\"rgb(158,202,225)\"],[0.5,\"rgb(107,174,214)\"],[0.625,\"rgb(66,146,198)\"],[0.75,\"rgb(33,113,181)\"],[0.875,\"rgb(8,81,156)\"],[1.0,\"rgb(8,48,107)\"]],\"line\":{\"color\":\"Grey\",\"width\":0.5},\"showscale\":false},\"mode\":\"markers\",\"name\":\"Feasible Trial\",\"showlegend\":false,\"x\":[true,true,true,false,true,true,false,true,false,true,true,true,true,true,true,true,true,true,true,true,false],\"y\":[0.8246742486953735,0.539512574672699,0.9069592356681824,0.9273800253868103,0.7358436584472656,0.49086794257164,1.0963001251220703,0.5189188122749329,1.3015379905700684,0.41274240612983704,0.5991939306259155,0.5915195941925049,0.5752480030059814,0.5238749384880066,0.5352096557617188,0.5724642276763916,0.5285178422927856,0.5215802192687988,0.3885498046875,0.5545569658279419,0.34999287128448486],\"type\":\"scatter\",\"xaxis\":\"x6\",\"yaxis\":\"y6\"},{\"marker\":{\"color\":[0,1,2,3,4,5,6,7,9,11,27,41,43,44,51,55,61,69,73,78,80],\"colorbar\":{\"title\":{\"text\":\"Trial\"},\"x\":1.0,\"xpad\":40},\"colorscale\":[[0.0,\"rgb(247,251,255)\"],[0.125,\"rgb(222,235,247)\"],[0.25,\"rgb(198,219,239)\"],[0.375,\"rgb(158,202,225)\"],[0.5,\"rgb(107,174,214)\"],[0.625,\"rgb(66,146,198)\"],[0.75,\"rgb(33,113,181)\"],[0.875,\"rgb(8,81,156)\"],[1.0,\"rgb(8,48,107)\"]],\"line\":{\"color\":\"Grey\",\"width\":0.5},\"showscale\":false},\"mode\":\"markers\",\"name\":\"Feasible Trial\",\"showlegend\":false,\"x\":[false,true,true,true,false,true,false,false,false,true,true,true,true,true,true,true,true,true,true,true,false],\"y\":[0.8246742486953735,0.539512574672699,0.9069592356681824,0.9273800253868103,0.7358436584472656,0.49086794257164,1.0963001251220703,0.5189188122749329,1.3015379905700684,0.41274240612983704,0.5991939306259155,0.5915195941925049,0.5752480030059814,0.5238749384880066,0.5352096557617188,0.5724642276763916,0.5285178422927856,0.5215802192687988,0.3885498046875,0.5545569658279419,0.34999287128448486],\"type\":\"scatter\",\"xaxis\":\"x7\",\"yaxis\":\"y7\"},{\"marker\":{\"color\":[0,1,2,3,4,5,6,7,9,11,27,41,43,44,51,55,61,69,73,78,80],\"colorbar\":{\"title\":{\"text\":\"Trial\"},\"x\":1.0,\"xpad\":40},\"colorscale\":[[0.0,\"rgb(247,251,255)\"],[0.125,\"rgb(222,235,247)\"],[0.25,\"rgb(198,219,239)\"],[0.375,\"rgb(158,202,225)\"],[0.5,\"rgb(107,174,214)\"],[0.625,\"rgb(66,146,198)\"],[0.75,\"rgb(33,113,181)\"],[0.875,\"rgb(8,81,156)\"],[1.0,\"rgb(8,48,107)\"]],\"line\":{\"color\":\"Grey\",\"width\":0.5},\"showscale\":false},\"mode\":\"markers\",\"name\":\"Feasible Trial\",\"showlegend\":false,\"x\":[0,1,1,0,0,0,1,1,0,1,1,1,1,1,1,1,1,1,1,1,0],\"y\":[0.8246742486953735,0.539512574672699,0.9069592356681824,0.9273800253868103,0.7358436584472656,0.49086794257164,1.0963001251220703,0.5189188122749329,1.3015379905700684,0.41274240612983704,0.5991939306259155,0.5915195941925049,0.5752480030059814,0.5238749384880066,0.5352096557617188,0.5724642276763916,0.5285178422927856,0.5215802192687988,0.3885498046875,0.5545569658279419,0.34999287128448486],\"type\":\"scatter\",\"xaxis\":\"x8\",\"yaxis\":\"y8\"},{\"marker\":{\"color\":[0,1,2,3,4,5,6,7,9,11,27,41,43,44,51,55,61,69,73,78,80],\"colorbar\":{\"title\":{\"text\":\"Trial\"},\"x\":1.0,\"xpad\":40},\"colorscale\":[[0.0,\"rgb(247,251,255)\"],[0.125,\"rgb(222,235,247)\"],[0.25,\"rgb(198,219,239)\"],[0.375,\"rgb(158,202,225)\"],[0.5,\"rgb(107,174,214)\"],[0.625,\"rgb(66,146,198)\"],[0.75,\"rgb(33,113,181)\"],[0.875,\"rgb(8,81,156)\"],[1.0,\"rgb(8,48,107)\"]],\"line\":{\"color\":\"Grey\",\"width\":0.5},\"showscale\":false},\"mode\":\"markers\",\"name\":\"Feasible Trial\",\"showlegend\":false,\"x\":[0.0664261315414164,0.07361900733278608,0.0805688557332111,0.061175494043412944,0.074810240430003,0.009457702825027928,0.07482230856186148,0.005193276509192587,0.015125003810444383,0.00023933206090173166,0.006094063728893734,0.006264799431794763,0.005405869718056768,0.004821100985365461,0.00530359980931343,0.0034295594950583845,0.0028542225505146152,0.00251195617253102,0.00011638022335265074,0.005234891305688911,0.0015610089311819454],\"y\":[0.8246742486953735,0.539512574672699,0.9069592356681824,0.9273800253868103,0.7358436584472656,0.49086794257164,1.0963001251220703,0.5189188122749329,1.3015379905700684,0.41274240612983704,0.5991939306259155,0.5915195941925049,0.5752480030059814,0.5238749384880066,0.5352096557617188,0.5724642276763916,0.5285178422927856,0.5215802192687988,0.3885498046875,0.5545569658279419,0.34999287128448486],\"type\":\"scatter\",\"xaxis\":\"x9\",\"yaxis\":\"y9\"},{\"marker\":{\"color\":[0,1,2,3,4,5,6,7,9,11,27,41,43,44,51,55,61,69,73,78,80],\"colorbar\":{\"title\":{\"text\":\"Trial\"},\"x\":1.0,\"xpad\":40},\"colorscale\":[[0.0,\"rgb(247,251,255)\"],[0.125,\"rgb(222,235,247)\"],[0.25,\"rgb(198,219,239)\"],[0.375,\"rgb(158,202,225)\"],[0.5,\"rgb(107,174,214)\"],[0.625,\"rgb(66,146,198)\"],[0.75,\"rgb(33,113,181)\"],[0.875,\"rgb(8,81,156)\"],[1.0,\"rgb(8,48,107)\"]],\"line\":{\"color\":\"Grey\",\"width\":0.5},\"showscale\":false},\"mode\":\"markers\",\"name\":\"Feasible Trial\",\"showlegend\":false,\"x\":[0.24934093456825365,0.3740117854772737,0.6237603677472855,0.546451585996448,0.29072958963483597,0.6890545881022653,0.43568730013365686,0.2937914456272035,0.0784274385506108,0.4946512602811846,0.5013085549965326,0.49796591702634707,0.4466707300237146,0.4498520508228122,0.5347481038805773,0.42798260794671755,0.4358296406535897,0.437551022456281,0.4195845196351884,0.4803995067487209,0.6765592072337447],\"y\":[0.8246742486953735,0.539512574672699,0.9069592356681824,0.9273800253868103,0.7358436584472656,0.49086794257164,1.0963001251220703,0.5189188122749329,1.3015379905700684,0.41274240612983704,0.5991939306259155,0.5915195941925049,0.5752480030059814,0.5238749384880066,0.5352096557617188,0.5724642276763916,0.5285178422927856,0.5215802192687988,0.3885498046875,0.5545569658279419,0.34999287128448486],\"type\":\"scatter\",\"xaxis\":\"x10\",\"yaxis\":\"y10\"},{\"marker\":{\"color\":[0,1,2,3,4,5,6,7,9,11,27,41,43,44,51,55,61,69,73,78,80],\"colorbar\":{\"title\":{\"text\":\"Trial\"},\"x\":1.0,\"xpad\":40},\"colorscale\":[[0.0,\"rgb(247,251,255)\"],[0.125,\"rgb(222,235,247)\"],[0.25,\"rgb(198,219,239)\"],[0.375,\"rgb(158,202,225)\"],[0.5,\"rgb(107,174,214)\"],[0.625,\"rgb(66,146,198)\"],[0.75,\"rgb(33,113,181)\"],[0.875,\"rgb(8,81,156)\"],[1.0,\"rgb(8,48,107)\"]],\"line\":{\"color\":\"Grey\",\"width\":0.5},\"showscale\":false},\"mode\":\"markers\",\"name\":\"Feasible Trial\",\"showlegend\":false,\"x\":[0,0,1,1,0,0,0,0,0,0,0,0,0,0,0,0,0,0,0,0,0],\"y\":[0.8246742486953735,0.539512574672699,0.9069592356681824,0.9273800253868103,0.7358436584472656,0.49086794257164,1.0963001251220703,0.5189188122749329,1.3015379905700684,0.41274240612983704,0.5991939306259155,0.5915195941925049,0.5752480030059814,0.5238749384880066,0.5352096557617188,0.5724642276763916,0.5285178422927856,0.5215802192687988,0.3885498046875,0.5545569658279419,0.34999287128448486],\"type\":\"scatter\",\"xaxis\":\"x11\",\"yaxis\":\"y11\"},{\"marker\":{\"color\":[0,1,2,3,4,5,6,7,9,11,27,41,43,44,51,55,61,69,73,78,80],\"colorbar\":{\"title\":{\"text\":\"Trial\"},\"x\":1.0,\"xpad\":40},\"colorscale\":[[0.0,\"rgb(247,251,255)\"],[0.125,\"rgb(222,235,247)\"],[0.25,\"rgb(198,219,239)\"],[0.375,\"rgb(158,202,225)\"],[0.5,\"rgb(107,174,214)\"],[0.625,\"rgb(66,146,198)\"],[0.75,\"rgb(33,113,181)\"],[0.875,\"rgb(8,81,156)\"],[1.0,\"rgb(8,48,107)\"]],\"line\":{\"color\":\"Grey\",\"width\":0.5},\"showscale\":false},\"mode\":\"markers\",\"name\":\"Feasible Trial\",\"showlegend\":false,\"x\":[\"sum\",\"sum\",\"sum\",\"sum\",\"sum\",\"sum\",\"sum\",\"sum\",\"sum\",\"sum\",\"sum\",\"sum\",\"sum\",\"sum\",\"sum\",\"sum\",\"sum\",\"sum\",\"sum\",\"sum\",\"sum\"],\"y\":[0.8246742486953735,0.539512574672699,0.9069592356681824,0.9273800253868103,0.7358436584472656,0.49086794257164,1.0963001251220703,0.5189188122749329,1.3015379905700684,0.41274240612983704,0.5991939306259155,0.5915195941925049,0.5752480030059814,0.5238749384880066,0.5352096557617188,0.5724642276763916,0.5285178422927856,0.5215802192687988,0.3885498046875,0.5545569658279419,0.34999287128448486],\"type\":\"scatter\",\"xaxis\":\"x12\",\"yaxis\":\"y12\"},{\"marker\":{\"color\":[0,1,2,3,4,5,6,7,9,11,27,41,43,44,51,55,61,69,73,78,80],\"colorbar\":{\"title\":{\"text\":\"Trial\"},\"x\":1.0,\"xpad\":40},\"colorscale\":[[0.0,\"rgb(247,251,255)\"],[0.125,\"rgb(222,235,247)\"],[0.25,\"rgb(198,219,239)\"],[0.375,\"rgb(158,202,225)\"],[0.5,\"rgb(107,174,214)\"],[0.625,\"rgb(66,146,198)\"],[0.75,\"rgb(33,113,181)\"],[0.875,\"rgb(8,81,156)\"],[1.0,\"rgb(8,48,107)\"]],\"line\":{\"color\":\"Grey\",\"width\":0.5},\"showscale\":false},\"mode\":\"markers\",\"name\":\"Feasible Trial\",\"showlegend\":false,\"x\":[0.058261048197632365,0.05546607756131719,0.15798120503554033,0.031263199600677076,0.0858244544084968,0.1118196225298924,0.021753619473206334,0.16745515509519418,0.17749245964360494,0.13220540364908456,0.0820649685269213,0.0847675631597489,0.08389574693100824,0.11840301025419493,0.05973627863466739,0.07490615129633918,0.07742932745907988,0.09562624568985222,0.08654241433904084,0.13149073513610943,0.08030501713598283],\"y\":[0.8246742486953735,0.539512574672699,0.9069592356681824,0.9273800253868103,0.7358436584472656,0.49086794257164,1.0963001251220703,0.5189188122749329,1.3015379905700684,0.41274240612983704,0.5991939306259155,0.5915195941925049,0.5752480030059814,0.5238749384880066,0.5352096557617188,0.5724642276763916,0.5285178422927856,0.5215802192687988,0.3885498046875,0.5545569658279419,0.34999287128448486],\"type\":\"scatter\",\"xaxis\":\"x13\",\"yaxis\":\"y13\"},{\"marker\":{\"color\":[0,1,2,3,4,5,6,7,9,11,27,41,43,44,51,55,61,69,73,78,80],\"colorbar\":{\"title\":{\"text\":\"Trial\"},\"x\":1.0,\"xpad\":40},\"colorscale\":[[0.0,\"rgb(247,251,255)\"],[0.125,\"rgb(222,235,247)\"],[0.25,\"rgb(198,219,239)\"],[0.375,\"rgb(158,202,225)\"],[0.5,\"rgb(107,174,214)\"],[0.625,\"rgb(66,146,198)\"],[0.75,\"rgb(33,113,181)\"],[0.875,\"rgb(8,81,156)\"],[1.0,\"rgb(8,48,107)\"]],\"line\":{\"color\":\"Grey\",\"width\":0.5},\"showscale\":false},\"mode\":\"markers\",\"name\":\"Feasible Trial\",\"showlegend\":false,\"x\":[0.9349492365011978,0.8238531099347833,0.9499163105685845,0.8063613961257962,0.8987383437324818,0.8996505725954164,0.9809622752595297,0.8760393244669277,0.8466790049684932,0.8675501312824575,0.8795805914101267,0.8854940831442445,0.8982310450155601,0.9027950069842207,0.8991556834874141,0.912655819056906,0.9105994758496954,0.9407336379760582,0.9667200321759163,0.8773169356823955,0.8878056605174024],\"y\":[0.8246742486953735,0.539512574672699,0.9069592356681824,0.9273800253868103,0.7358436584472656,0.49086794257164,1.0963001251220703,0.5189188122749329,1.3015379905700684,0.41274240612983704,0.5991939306259155,0.5915195941925049,0.5752480030059814,0.5238749384880066,0.5352096557617188,0.5724642276763916,0.5285178422927856,0.5215802192687988,0.3885498046875,0.5545569658279419,0.34999287128448486],\"type\":\"scatter\",\"xaxis\":\"x14\",\"yaxis\":\"y14\"},{\"marker\":{\"color\":[0,1,2,3,4,5,6,7,9,11,27,41,43,44,51,55,61,69,73,78,80],\"colorbar\":{\"title\":{\"text\":\"Trial\"},\"x\":1.0,\"xpad\":40},\"colorscale\":[[0.0,\"rgb(247,251,255)\"],[0.125,\"rgb(222,235,247)\"],[0.25,\"rgb(198,219,239)\"],[0.375,\"rgb(158,202,225)\"],[0.5,\"rgb(107,174,214)\"],[0.625,\"rgb(66,146,198)\"],[0.75,\"rgb(33,113,181)\"],[0.875,\"rgb(8,81,156)\"],[1.0,\"rgb(8,48,107)\"]],\"line\":{\"color\":\"Grey\",\"width\":0.5},\"showscale\":false},\"mode\":\"markers\",\"name\":\"Feasible Trial\",\"showlegend\":false,\"x\":[0.09816406826996439,0.03743227986303702,0.005373943326189613,0.021476406239869374,0.05939972467709484,0.07559035555157853,0.030837958953032055,0.032037945449095565,0.021204925580142364,0.08049395696267644,0.06719848708053536,0.0629794135148754,0.06081628100224272,0.0576240367778932,0.061095515146783526,0.06315430867578807,0.06373415856615952,0.05252520248772845,0.054141983370454096,0.060513600377109115,0.07500361032560723],\"y\":[0.8246742486953735,0.539512574672699,0.9069592356681824,0.9273800253868103,0.7358436584472656,0.49086794257164,1.0963001251220703,0.5189188122749329,1.3015379905700684,0.41274240612983704,0.5991939306259155,0.5915195941925049,0.5752480030059814,0.5238749384880066,0.5352096557617188,0.5724642276763916,0.5285178422927856,0.5215802192687988,0.3885498046875,0.5545569658279419,0.34999287128448486],\"type\":\"scatter\",\"xaxis\":\"x15\",\"yaxis\":\"y15\"},{\"marker\":{\"color\":[0,1,2,3,4,5,6,7,9,11,27,41,43,44,51,55,61,69,73,78,80],\"colorbar\":{\"title\":{\"text\":\"Trial\"},\"x\":1.0,\"xpad\":40},\"colorscale\":[[0.0,\"rgb(247,251,255)\"],[0.125,\"rgb(222,235,247)\"],[0.25,\"rgb(198,219,239)\"],[0.375,\"rgb(158,202,225)\"],[0.5,\"rgb(107,174,214)\"],[0.625,\"rgb(66,146,198)\"],[0.75,\"rgb(33,113,181)\"],[0.875,\"rgb(8,81,156)\"],[1.0,\"rgb(8,48,107)\"]],\"line\":{\"color\":\"Grey\",\"width\":0.5},\"showscale\":false},\"mode\":\"markers\",\"name\":\"Feasible Trial\",\"showlegend\":false,\"x\":[false,false,true,false,false,true,true,true,false,true,true,true,true,true,true,true,true,true,true,true,true],\"y\":[0.8246742486953735,0.539512574672699,0.9069592356681824,0.9273800253868103,0.7358436584472656,0.49086794257164,1.0963001251220703,0.5189188122749329,1.3015379905700684,0.41274240612983704,0.5991939306259155,0.5915195941925049,0.5752480030059814,0.5238749384880066,0.5352096557617188,0.5724642276763916,0.5285178422927856,0.5215802192687988,0.3885498046875,0.5545569658279419,0.34999287128448486],\"type\":\"scatter\",\"xaxis\":\"x16\",\"yaxis\":\"y16\"}],                        {\"template\":{\"data\":{\"histogram2dcontour\":[{\"type\":\"histogram2dcontour\",\"colorbar\":{\"outlinewidth\":0,\"ticks\":\"\"},\"colorscale\":[[0.0,\"#0d0887\"],[0.1111111111111111,\"#46039f\"],[0.2222222222222222,\"#7201a8\"],[0.3333333333333333,\"#9c179e\"],[0.4444444444444444,\"#bd3786\"],[0.5555555555555556,\"#d8576b\"],[0.6666666666666666,\"#ed7953\"],[0.7777777777777778,\"#fb9f3a\"],[0.8888888888888888,\"#fdca26\"],[1.0,\"#f0f921\"]]}],\"choropleth\":[{\"type\":\"choropleth\",\"colorbar\":{\"outlinewidth\":0,\"ticks\":\"\"}}],\"histogram2d\":[{\"type\":\"histogram2d\",\"colorbar\":{\"outlinewidth\":0,\"ticks\":\"\"},\"colorscale\":[[0.0,\"#0d0887\"],[0.1111111111111111,\"#46039f\"],[0.2222222222222222,\"#7201a8\"],[0.3333333333333333,\"#9c179e\"],[0.4444444444444444,\"#bd3786\"],[0.5555555555555556,\"#d8576b\"],[0.6666666666666666,\"#ed7953\"],[0.7777777777777778,\"#fb9f3a\"],[0.8888888888888888,\"#fdca26\"],[1.0,\"#f0f921\"]]}],\"heatmap\":[{\"type\":\"heatmap\",\"colorbar\":{\"outlinewidth\":0,\"ticks\":\"\"},\"colorscale\":[[0.0,\"#0d0887\"],[0.1111111111111111,\"#46039f\"],[0.2222222222222222,\"#7201a8\"],[0.3333333333333333,\"#9c179e\"],[0.4444444444444444,\"#bd3786\"],[0.5555555555555556,\"#d8576b\"],[0.6666666666666666,\"#ed7953\"],[0.7777777777777778,\"#fb9f3a\"],[0.8888888888888888,\"#fdca26\"],[1.0,\"#f0f921\"]]}],\"heatmapgl\":[{\"type\":\"heatmapgl\",\"colorbar\":{\"outlinewidth\":0,\"ticks\":\"\"},\"colorscale\":[[0.0,\"#0d0887\"],[0.1111111111111111,\"#46039f\"],[0.2222222222222222,\"#7201a8\"],[0.3333333333333333,\"#9c179e\"],[0.4444444444444444,\"#bd3786\"],[0.5555555555555556,\"#d8576b\"],[0.6666666666666666,\"#ed7953\"],[0.7777777777777778,\"#fb9f3a\"],[0.8888888888888888,\"#fdca26\"],[1.0,\"#f0f921\"]]}],\"contourcarpet\":[{\"type\":\"contourcarpet\",\"colorbar\":{\"outlinewidth\":0,\"ticks\":\"\"}}],\"contour\":[{\"type\":\"contour\",\"colorbar\":{\"outlinewidth\":0,\"ticks\":\"\"},\"colorscale\":[[0.0,\"#0d0887\"],[0.1111111111111111,\"#46039f\"],[0.2222222222222222,\"#7201a8\"],[0.3333333333333333,\"#9c179e\"],[0.4444444444444444,\"#bd3786\"],[0.5555555555555556,\"#d8576b\"],[0.6666666666666666,\"#ed7953\"],[0.7777777777777778,\"#fb9f3a\"],[0.8888888888888888,\"#fdca26\"],[1.0,\"#f0f921\"]]}],\"surface\":[{\"type\":\"surface\",\"colorbar\":{\"outlinewidth\":0,\"ticks\":\"\"},\"colorscale\":[[0.0,\"#0d0887\"],[0.1111111111111111,\"#46039f\"],[0.2222222222222222,\"#7201a8\"],[0.3333333333333333,\"#9c179e\"],[0.4444444444444444,\"#bd3786\"],[0.5555555555555556,\"#d8576b\"],[0.6666666666666666,\"#ed7953\"],[0.7777777777777778,\"#fb9f3a\"],[0.8888888888888888,\"#fdca26\"],[1.0,\"#f0f921\"]]}],\"mesh3d\":[{\"type\":\"mesh3d\",\"colorbar\":{\"outlinewidth\":0,\"ticks\":\"\"}}],\"scatter\":[{\"fillpattern\":{\"fillmode\":\"overlay\",\"size\":10,\"solidity\":0.2},\"type\":\"scatter\"}],\"parcoords\":[{\"type\":\"parcoords\",\"line\":{\"colorbar\":{\"outlinewidth\":0,\"ticks\":\"\"}}}],\"scatterpolargl\":[{\"type\":\"scatterpolargl\",\"marker\":{\"colorbar\":{\"outlinewidth\":0,\"ticks\":\"\"}}}],\"bar\":[{\"error_x\":{\"color\":\"#2a3f5f\"},\"error_y\":{\"color\":\"#2a3f5f\"},\"marker\":{\"line\":{\"color\":\"#E5ECF6\",\"width\":0.5},\"pattern\":{\"fillmode\":\"overlay\",\"size\":10,\"solidity\":0.2}},\"type\":\"bar\"}],\"scattergeo\":[{\"type\":\"scattergeo\",\"marker\":{\"colorbar\":{\"outlinewidth\":0,\"ticks\":\"\"}}}],\"scatterpolar\":[{\"type\":\"scatterpolar\",\"marker\":{\"colorbar\":{\"outlinewidth\":0,\"ticks\":\"\"}}}],\"histogram\":[{\"marker\":{\"pattern\":{\"fillmode\":\"overlay\",\"size\":10,\"solidity\":0.2}},\"type\":\"histogram\"}],\"scattergl\":[{\"type\":\"scattergl\",\"marker\":{\"colorbar\":{\"outlinewidth\":0,\"ticks\":\"\"}}}],\"scatter3d\":[{\"type\":\"scatter3d\",\"line\":{\"colorbar\":{\"outlinewidth\":0,\"ticks\":\"\"}},\"marker\":{\"colorbar\":{\"outlinewidth\":0,\"ticks\":\"\"}}}],\"scattermapbox\":[{\"type\":\"scattermapbox\",\"marker\":{\"colorbar\":{\"outlinewidth\":0,\"ticks\":\"\"}}}],\"scatterternary\":[{\"type\":\"scatterternary\",\"marker\":{\"colorbar\":{\"outlinewidth\":0,\"ticks\":\"\"}}}],\"scattercarpet\":[{\"type\":\"scattercarpet\",\"marker\":{\"colorbar\":{\"outlinewidth\":0,\"ticks\":\"\"}}}],\"carpet\":[{\"aaxis\":{\"endlinecolor\":\"#2a3f5f\",\"gridcolor\":\"white\",\"linecolor\":\"white\",\"minorgridcolor\":\"white\",\"startlinecolor\":\"#2a3f5f\"},\"baxis\":{\"endlinecolor\":\"#2a3f5f\",\"gridcolor\":\"white\",\"linecolor\":\"white\",\"minorgridcolor\":\"white\",\"startlinecolor\":\"#2a3f5f\"},\"type\":\"carpet\"}],\"table\":[{\"cells\":{\"fill\":{\"color\":\"#EBF0F8\"},\"line\":{\"color\":\"white\"}},\"header\":{\"fill\":{\"color\":\"#C8D4E3\"},\"line\":{\"color\":\"white\"}},\"type\":\"table\"}],\"barpolar\":[{\"marker\":{\"line\":{\"color\":\"#E5ECF6\",\"width\":0.5},\"pattern\":{\"fillmode\":\"overlay\",\"size\":10,\"solidity\":0.2}},\"type\":\"barpolar\"}],\"pie\":[{\"automargin\":true,\"type\":\"pie\"}]},\"layout\":{\"autotypenumbers\":\"strict\",\"colorway\":[\"#636efa\",\"#EF553B\",\"#00cc96\",\"#ab63fa\",\"#FFA15A\",\"#19d3f3\",\"#FF6692\",\"#B6E880\",\"#FF97FF\",\"#FECB52\"],\"font\":{\"color\":\"#2a3f5f\"},\"hovermode\":\"closest\",\"hoverlabel\":{\"align\":\"left\"},\"paper_bgcolor\":\"white\",\"plot_bgcolor\":\"#E5ECF6\",\"polar\":{\"bgcolor\":\"#E5ECF6\",\"angularaxis\":{\"gridcolor\":\"white\",\"linecolor\":\"white\",\"ticks\":\"\"},\"radialaxis\":{\"gridcolor\":\"white\",\"linecolor\":\"white\",\"ticks\":\"\"}},\"ternary\":{\"bgcolor\":\"#E5ECF6\",\"aaxis\":{\"gridcolor\":\"white\",\"linecolor\":\"white\",\"ticks\":\"\"},\"baxis\":{\"gridcolor\":\"white\",\"linecolor\":\"white\",\"ticks\":\"\"},\"caxis\":{\"gridcolor\":\"white\",\"linecolor\":\"white\",\"ticks\":\"\"}},\"coloraxis\":{\"colorbar\":{\"outlinewidth\":0,\"ticks\":\"\"}},\"colorscale\":{\"sequential\":[[0.0,\"#0d0887\"],[0.1111111111111111,\"#46039f\"],[0.2222222222222222,\"#7201a8\"],[0.3333333333333333,\"#9c179e\"],[0.4444444444444444,\"#bd3786\"],[0.5555555555555556,\"#d8576b\"],[0.6666666666666666,\"#ed7953\"],[0.7777777777777778,\"#fb9f3a\"],[0.8888888888888888,\"#fdca26\"],[1.0,\"#f0f921\"]],\"sequentialminus\":[[0.0,\"#0d0887\"],[0.1111111111111111,\"#46039f\"],[0.2222222222222222,\"#7201a8\"],[0.3333333333333333,\"#9c179e\"],[0.4444444444444444,\"#bd3786\"],[0.5555555555555556,\"#d8576b\"],[0.6666666666666666,\"#ed7953\"],[0.7777777777777778,\"#fb9f3a\"],[0.8888888888888888,\"#fdca26\"],[1.0,\"#f0f921\"]],\"diverging\":[[0,\"#8e0152\"],[0.1,\"#c51b7d\"],[0.2,\"#de77ae\"],[0.3,\"#f1b6da\"],[0.4,\"#fde0ef\"],[0.5,\"#f7f7f7\"],[0.6,\"#e6f5d0\"],[0.7,\"#b8e186\"],[0.8,\"#7fbc41\"],[0.9,\"#4d9221\"],[1,\"#276419\"]]},\"xaxis\":{\"gridcolor\":\"white\",\"linecolor\":\"white\",\"ticks\":\"\",\"title\":{\"standoff\":15},\"zerolinecolor\":\"white\",\"automargin\":true,\"zerolinewidth\":2},\"yaxis\":{\"gridcolor\":\"white\",\"linecolor\":\"white\",\"ticks\":\"\",\"title\":{\"standoff\":15},\"zerolinecolor\":\"white\",\"automargin\":true,\"zerolinewidth\":2},\"scene\":{\"xaxis\":{\"backgroundcolor\":\"#E5ECF6\",\"gridcolor\":\"white\",\"linecolor\":\"white\",\"showbackground\":true,\"ticks\":\"\",\"zerolinecolor\":\"white\",\"gridwidth\":2},\"yaxis\":{\"backgroundcolor\":\"#E5ECF6\",\"gridcolor\":\"white\",\"linecolor\":\"white\",\"showbackground\":true,\"ticks\":\"\",\"zerolinecolor\":\"white\",\"gridwidth\":2},\"zaxis\":{\"backgroundcolor\":\"#E5ECF6\",\"gridcolor\":\"white\",\"linecolor\":\"white\",\"showbackground\":true,\"ticks\":\"\",\"zerolinecolor\":\"white\",\"gridwidth\":2}},\"shapedefaults\":{\"line\":{\"color\":\"#2a3f5f\"}},\"annotationdefaults\":{\"arrowcolor\":\"#2a3f5f\",\"arrowhead\":0,\"arrowwidth\":1},\"geo\":{\"bgcolor\":\"white\",\"landcolor\":\"#E5ECF6\",\"subunitcolor\":\"white\",\"showland\":true,\"showlakes\":true,\"lakecolor\":\"white\"},\"title\":{\"x\":0.05},\"mapbox\":{\"style\":\"light\"}}},\"xaxis\":{\"anchor\":\"y\",\"domain\":[0.0,0.05078125],\"title\":{\"text\":\"batch_size\"}},\"yaxis\":{\"anchor\":\"x\",\"domain\":[0.0,1.0],\"title\":{\"text\":\"Objective Value\"}},\"xaxis2\":{\"anchor\":\"y2\",\"domain\":[0.06328125,0.1140625],\"title\":{\"text\":\"beta1\"}},\"yaxis2\":{\"anchor\":\"x2\",\"domain\":[0.0,1.0],\"matches\":\"y\",\"showticklabels\":false},\"xaxis3\":{\"anchor\":\"y3\",\"domain\":[0.1265625,0.17734375],\"title\":{\"text\":\"beta2\"}},\"yaxis3\":{\"anchor\":\"x3\",\"domain\":[0.0,1.0],\"matches\":\"y\",\"showticklabels\":false},\"xaxis4\":{\"anchor\":\"y4\",\"domain\":[0.18984375,0.240625],\"title\":{\"text\":\"dampening\"}},\"yaxis4\":{\"anchor\":\"x4\",\"domain\":[0.0,1.0],\"matches\":\"y\",\"showticklabels\":false},\"xaxis5\":{\"anchor\":\"y5\",\"domain\":[0.253125,0.30390625],\"title\":{\"text\":\"epochs\"}},\"yaxis5\":{\"anchor\":\"x5\",\"domain\":[0.0,1.0],\"matches\":\"y\",\"showticklabels\":false},\"xaxis6\":{\"anchor\":\"y6\",\"domain\":[0.31640625,0.3671875],\"title\":{\"text\":\"fine_tune\"},\"type\":\"category\",\"categoryorder\":\"array\",\"categoryarray\":[true,false]},\"yaxis6\":{\"anchor\":\"x6\",\"domain\":[0.0,1.0],\"matches\":\"y\",\"showticklabels\":false},\"xaxis7\":{\"anchor\":\"y7\",\"domain\":[0.3796875,0.43046875],\"title\":{\"text\":\"linear_blocks\"},\"type\":\"category\",\"categoryorder\":\"array\",\"categoryarray\":[true,false]},\"yaxis7\":{\"anchor\":\"x7\",\"domain\":[0.0,1.0],\"matches\":\"y\",\"showticklabels\":false},\"xaxis8\":{\"anchor\":\"y8\",\"domain\":[0.44296875,0.49375],\"title\":{\"text\":\"loss_function_id\"}},\"yaxis8\":{\"anchor\":\"x8\",\"domain\":[0.0,1.0],\"matches\":\"y\",\"showticklabels\":false},\"xaxis9\":{\"anchor\":\"y9\",\"domain\":[0.50625,0.55703125],\"title\":{\"text\":\"lr\"}},\"yaxis9\":{\"anchor\":\"x9\",\"domain\":[0.0,1.0],\"matches\":\"y\",\"showticklabels\":false},\"xaxis10\":{\"anchor\":\"y10\",\"domain\":[0.56953125,0.6203125],\"title\":{\"text\":\"momentum\"}},\"yaxis10\":{\"anchor\":\"x10\",\"domain\":[0.0,1.0],\"matches\":\"y\",\"showticklabels\":false},\"xaxis11\":{\"anchor\":\"y11\",\"domain\":[0.6328125,0.68359375],\"title\":{\"text\":\"optimizer_idx\"}},\"yaxis11\":{\"anchor\":\"x11\",\"domain\":[0.0,1.0],\"matches\":\"y\",\"showticklabels\":false},\"xaxis12\":{\"anchor\":\"y12\",\"domain\":[0.69609375,0.746875],\"title\":{\"text\":\"reduction\"},\"type\":\"category\",\"categoryorder\":\"array\",\"categoryarray\":[\"sum\"]},\"yaxis12\":{\"anchor\":\"x12\",\"domain\":[0.0,1.0],\"matches\":\"y\",\"showticklabels\":false},\"xaxis13\":{\"anchor\":\"y13\",\"domain\":[0.759375,0.81015625],\"title\":{\"text\":\"relu_slope\"}},\"yaxis13\":{\"anchor\":\"x13\",\"domain\":[0.0,1.0],\"matches\":\"y\",\"showticklabels\":false},\"xaxis14\":{\"anchor\":\"y14\",\"domain\":[0.82265625,0.8734375],\"title\":{\"text\":\"scheduler_gamma\"}},\"yaxis14\":{\"anchor\":\"x14\",\"domain\":[0.0,1.0],\"matches\":\"y\",\"showticklabels\":false},\"xaxis15\":{\"anchor\":\"y15\",\"domain\":[0.8859375,0.93671875],\"title\":{\"text\":\"weight_decay\"}},\"yaxis15\":{\"anchor\":\"x15\",\"domain\":[0.0,1.0],\"matches\":\"y\",\"showticklabels\":false},\"xaxis16\":{\"anchor\":\"y16\",\"domain\":[0.94921875,1.0],\"title\":{\"text\":\"weighted_loss\"},\"type\":\"category\",\"categoryorder\":\"array\",\"categoryarray\":[true,false]},\"yaxis16\":{\"anchor\":\"x16\",\"domain\":[0.0,1.0],\"matches\":\"y\",\"showticklabels\":false},\"title\":{\"text\":\"Slice Plot\"},\"width\":4800},                        {\"responsive\": true}                    ).then(function(){\n",
       "                            \n",
       "var gd = document.getElementById('6ca423b1-be70-4df3-8fdf-0ac62eaac47a');\n",
       "var x = new MutationObserver(function (mutations, observer) {{\n",
       "        var display = window.getComputedStyle(gd).display;\n",
       "        if (!display || display === 'none') {{\n",
       "            console.log([gd, 'removed!']);\n",
       "            Plotly.purge(gd);\n",
       "            observer.disconnect();\n",
       "        }}\n",
       "}});\n",
       "\n",
       "// Listen for the removal of the full notebook cells\n",
       "var notebookContainer = gd.closest('#notebook-container');\n",
       "if (notebookContainer) {{\n",
       "    x.observe(notebookContainer, {childList: true});\n",
       "}}\n",
       "\n",
       "// Listen for the clearing of the current output cell\n",
       "var outputEl = gd.closest('.output');\n",
       "if (outputEl) {{\n",
       "    x.observe(outputEl, {childList: true});\n",
       "}}\n",
       "\n",
       "                        })                };                });            </script>        </div>"
      ]
     },
     "metadata": {},
     "output_type": "display_data"
    }
   ],
   "source": [
    "if is_multi_objective:\n",
    "    fig = vis.plot_slice(study, target=lambda t: t.values[1], target_name='Accuracy')\n",
    "else:\n",
    "    fig = vis.plot_slice(study)\n",
    "fig.show()"
   ]
  },
  {
   "cell_type": "markdown",
   "metadata": {},
   "source": [
    "Preparing our classification model using the data from the study."
   ]
  },
  {
   "cell_type": "code",
   "execution_count": 55,
   "metadata": {},
   "outputs": [
    {
     "data": {
      "text/plain": [
       "{'lr': 0.0015610089311819454,\n",
       " 'weight_decay': 0.07500361032560723,\n",
       " 'beta1': 0.6674880935024725,\n",
       " 'beta2': 0.9141632628710653,\n",
       " 'momentum': 0.6765592072337447,\n",
       " 'dampening': 0.0813083518102023,\n",
       " 'optimizer_idx': 0,\n",
       " 'scheduler_gamma': 0.8878056605174024,\n",
       " 'fine_tune': False,\n",
       " 'epochs': 16,\n",
       " 'batch_size': 256,\n",
       " 'loss_function_id': 0,\n",
       " 'reduction': 'sum',\n",
       " 'weighted_loss': True,\n",
       " 'relu_slope': 0.08030501713598283,\n",
       " 'linear_blocks': False}"
      ]
     },
     "execution_count": 55,
     "metadata": {},
     "output_type": "execute_result"
    }
   ],
   "source": [
    "if is_multi_objective:\n",
    "    best_trials = study.best_trials\n",
    "    sorted_trials = sorted([(trial.values[1], trial.params) for trial in best_trials])\n",
    "    best_params = sorted_trials[0][1]\n",
    "else:\n",
    "    best_params = study.best_trial.params\n",
    "best_params"
   ]
  },
  {
   "cell_type": "code",
   "execution_count": 56,
   "metadata": {},
   "outputs": [],
   "source": [
    "lr = best_params['lr']\n",
    "weight_decay = best_params['weight_decay']\n",
    "betas = (best_params['beta1'], best_params['beta2'])\n",
    "momentum = best_params['momentum']\n",
    "dampening = best_params['dampening']\n",
    "scheduler_gamma = best_params['scheduler_gamma']\n",
    "batch_size = best_params['batch_size']\n",
    "epochs = best_params['epochs']\n",
    "relu_slope = best_params['relu_slope']\n",
    "linear_blocks = best_params['linear_blocks']\n",
    "fine_tune = best_params['fine_tune']\n",
    "weighted_loss = best_params['weighted_loss']\n",
    "\n",
    "# using the train_best_params like in the study for the encoder's architecture\n",
    "model = ConvClassifier(train_params=train_best_params, num_classes=len(np.unique(labels)),\n",
    "                       relu_slope=relu_slope, device=device, fine_tune=fine_tune, linear_blocks=linear_blocks).to(device)\n",
    "\n",
    "# trainable_parameters = [param for name, param in model.named_parameters() if name.startswith('seq_')]\n",
    "if best_params['optimizer_idx'] == 0:\n",
    "    optimizer = torch.optim.Adam(model.parameters(), lr=lr, weight_decay=weight_decay, betas=betas)\n",
    "else:\n",
    "    optimizer = torch.optim.SGD(model.parameters(), lr=lr, weight_decay=weight_decay, momentum=momentum, dampening=dampening)\n",
    "scheduler = torch.optim.lr_scheduler.ExponentialLR(optimizer, gamma=scheduler_gamma)\n",
    "\n",
    "loss_func = get_classification_loss_function(best_params['loss_function_id'], weighted_loss, best_params['reduction'], device=model.device)"
   ]
  },
  {
   "cell_type": "code",
   "execution_count": 57,
   "metadata": {},
   "outputs": [
    {
     "data": {
      "text/plain": [
       "({'lr': 0.0015610089311819454,\n",
       "  'weight_decay': 0.07500361032560723,\n",
       "  'beta1': 0.6674880935024725,\n",
       "  'beta2': 0.9141632628710653,\n",
       "  'momentum': 0.6765592072337447,\n",
       "  'dampening': 0.0813083518102023,\n",
       "  'optimizer_idx': 0,\n",
       "  'scheduler_gamma': 0.8878056605174024,\n",
       "  'fine_tune': False,\n",
       "  'epochs': 16,\n",
       "  'batch_size': 256,\n",
       "  'loss_function_id': 0,\n",
       "  'reduction': 'sum',\n",
       "  'weighted_loss': True,\n",
       "  'relu_slope': 0.08030501713598283,\n",
       "  'linear_blocks': False},\n",
       " 1635336)"
      ]
     },
     "execution_count": 57,
     "metadata": {},
     "output_type": "execute_result"
    }
   ],
   "source": [
    "best_params, sum(p.numel() for p in model.parameters())"
   ]
  },
  {
   "cell_type": "code",
   "execution_count": 58,
   "metadata": {},
   "outputs": [],
   "source": [
    "dataset = AlzheimerDataset(images, labels)"
   ]
  },
  {
   "cell_type": "code",
   "execution_count": 59,
   "metadata": {},
   "outputs": [],
   "source": [
    "dataloader = torch.utils.data.DataLoader(train_dataset, batch_size=batch_size, shuffle=True)"
   ]
  },
  {
   "cell_type": "markdown",
   "metadata": {},
   "source": [
    "Training the final classifier model"
   ]
  },
  {
   "cell_type": "code",
   "execution_count": 60,
   "metadata": {},
   "outputs": [
    {
     "data": {
      "application/vnd.jupyter.widget-view+json": {
       "model_id": "9bdacb9b04d24428b43ba1169d59770c",
       "version_major": 2,
       "version_minor": 0
      },
      "text/plain": [
       "  0%|          | 0/16 [00:00<?, ?it/s]"
      ]
     },
     "metadata": {},
     "output_type": "display_data"
    },
    {
     "data": {
      "image/png": "[encoded data removed]",
      "text/plain": [
       "<Figure size 1600x1000 with 2 Axes>"
      ]
     },
     "metadata": {},
     "output_type": "display_data"
    }
   ],
   "source": [
    "overall, accuracy = train(\n",
    "    model=model,\n",
    "    optimizer=optimizer,\n",
    "    loss=loss_func,\n",
    "    epochs=epochs,\n",
    "    dataloader=dataloader,\n",
    "    val_dataset=val_dataset,\n",
    "    scheduler=scheduler,\n",
    "    plot=True,\n",
    "    show_progress=True,\n",
    "    trial=None\n",
    ")"
   ]
  },
  {
   "cell_type": "markdown",
   "metadata": {},
   "source": [
    "As we can see, the validation and training loss and accuracy are fairly similar, having the same tendentiousness, which is a good sign (mostly).\n",
    "\n",
    "If `fine_tune = False` then it's a good possibility that we've retrained our `encoder` using some of the data we've used to initially train it. Personally, I don't really like this idea, but we can look at it as we've added \"more epochs\" to the initial training, even though the backpropagation process is very different with our `classifier` model.\n",
    "\n",
    "In the case where `fine_tune = True`, our training was done solely on the new layers we've added, which means the `encoder` weights and biases were left untouched, and for that the plot from above shows good promise."
   ]
  },
  {
   "cell_type": "markdown",
   "metadata": {},
   "source": [
    "### Evaluation"
   ]
  },
  {
   "cell_type": "markdown",
   "metadata": {},
   "source": [
    "Now for the evaluation of the trained model."
   ]
  },
  {
   "cell_type": "markdown",
   "metadata": {},
   "source": [
    "Since we're dealing with a problem that affects a human's life, there are some metrics which we should care about more than others, and even some that we wouldn't care at all.\n",
    "\n",
    "Let's break it down first:\n",
    "* Our dataset is very imbalanced, so using `accuracy` as a performance and evaluation metric isn't the way to go, since not predicting the minority class (and somehow predicting the correct one, which is safe to assume that predicting correctly is with a probability that's higher than $\\frac{1}{3}$) will cause neglecting the minority class, which we'll never get right.\n",
    "* We're predicting Alzheimer's dementia levels, meaning that for a given patient that is feared to have the disease, we'd rather predict it has a stronger level of dementia than a weaker one, for which we can treat the patient more carefully, if possible, and not underestimate the severity. I'm not 100% sure of the medical consequences but logically that's a good way to think about it.\n",
    "* So from the above assumptions, we'd want to measure `precision` and `recall`.\n",
    "\n",
    "To refresh our memory, `precision` means \"from all the predictions I made for class X, how many did I predict as X and was correct?\", i.e: `precision = tp / (tp + fp)`.\n",
    "\n",
    "As for `recall`, it is somewhat similar to `precision`. I like to think of it as the `precision`'s transpose. `Recall` means \"from all the samples from class X, how many did I predict as X and was correct?\", i.e: `recall = tp / (tp + fn)`.\n",
    "\n",
    "My observation at it would be that using the `confusion matrix`, the `precision` is the columns and the `recall` is the rows (where the `x axis` is the predictions and the `y axis` is the true values), hence the \"transpose\".\n",
    "\n",
    "Also, since we care about `precision` and `recall`, it would be natural to also measure the `F1 score`, which is, according to Wikipedia, an \"harmonic mean\" of those two metrics. And just to be precise, $F_1 = \\frac {2TP}{2TP + FP + FN} = 2 \\cdot \\frac{precision \\cdot recall}{precision + recall}$, so the range here is $[0, 1]$, where $1$ is best and $0$ is worst.\n",
    "\n",
    "If we want to give \"more weight\" to a specific metric, we can use the $F_\\beta$ score, where $\\beta$ is the weight for the `recall` such that $F_\\beta = (1 + \\beta^2) \\cdot \\frac{precision \\cdot recall}{\\beta^2 \\cdot precision + recall}$. $\\beta$ can be higher than $1$. According to Wikipedia, \"Two commonly used values for $\\beta$ are $2$, which weighs `recall` higher than `precision`, and $0.5$, which weighs `recall` lower than `precision`.\"\n",
    "\n",
    "So in our use case here, there are classes that are more important to have a high `recall` and some to have a high `precision`. So for now, we'll give both metrics the same \"weight\", or say $\\beta = 1$, and use the $F_1$ score.\n",
    "\n",
    "For that, there's an option to optimize our hyperparameters search trying to optimize each of those metrics, but that would be very compute and time intensive since all trials would run. So we'll decide to keep with the decision to optimize the validation's loss."
   ]
  },
  {
   "cell_type": "code",
   "execution_count": 61,
   "metadata": {},
   "outputs": [
    {
     "data": {
      "text/plain": [
       "ConvClassifier(\n",
       "  (encoder): ConvEncoder(\n",
       "    (relu): ReLU()\n",
       "    (flatten): Flatten(start_dim=1, end_dim=-1)\n",
       "    (conv1): Conv2d(1, 8, kernel_size=(5, 5), stride=(2, 2), padding=(3, 3), bias=False)\n",
       "    (bn1): BatchNorm2d(8, eps=1e-05, momentum=0.1, affine=True, track_running_stats=True)\n",
       "    (maxpool): MaxPool2d(kernel_size=(3, 3), stride=(2, 2), padding=(1, 1), dilation=1, ceil_mode=False)\n",
       "    (block0): Sequential(\n",
       "      (0): Conv2d(8, 8, kernel_size=(3, 3), stride=(1, 1), padding=(1, 1), bias=False)\n",
       "      (1): BatchNorm2d(8, eps=1e-05, momentum=0.1, affine=True, track_running_stats=True)\n",
       "      (2): ReLU()\n",
       "      (3): MaxPool2d(kernel_size=(3, 3), stride=1, padding=1, dilation=1, ceil_mode=False)\n",
       "      (4): BatchNorm2d(8, eps=1e-05, momentum=0.1, affine=True, track_running_stats=True)\n",
       "      (5): Dropout(p=0.2, inplace=False)\n",
       "    )\n",
       "    (max_pool_block0): MaxPoolBlock(\n",
       "      (max_pool): MaxPool2d(kernel_size=(3, 3), stride=1, padding=1, dilation=1, ceil_mode=True)\n",
       "      (bn): BatchNorm2d(8, eps=1e-05, momentum=0.1, affine=True, track_running_stats=True)\n",
       "      (relu): ReLU()\n",
       "    )\n",
       "    (down_sample0): Sequential(\n",
       "      (0): Conv2d(8, 16, kernel_size=(3, 3), stride=(2, 2), padding=(1, 1), bias=False)\n",
       "      (1): BatchNorm2d(16, eps=1e-05, momentum=0.1, affine=True, track_running_stats=True)\n",
       "      (2): ReLU()\n",
       "    )\n",
       "    (block1): Sequential(\n",
       "      (0): Conv2d(16, 16, kernel_size=(3, 3), stride=(1, 1), padding=(1, 1), bias=False)\n",
       "      (1): BatchNorm2d(16, eps=1e-05, momentum=0.1, affine=True, track_running_stats=True)\n",
       "      (2): ReLU()\n",
       "      (3): MaxPool2d(kernel_size=(3, 3), stride=1, padding=1, dilation=1, ceil_mode=False)\n",
       "      (4): BatchNorm2d(16, eps=1e-05, momentum=0.1, affine=True, track_running_stats=True)\n",
       "      (5): Dropout(p=0.2, inplace=False)\n",
       "    )\n",
       "    (max_pool_block1): MaxPoolBlock(\n",
       "      (max_pool): MaxPool2d(kernel_size=(3, 3), stride=1, padding=1, dilation=1, ceil_mode=True)\n",
       "      (bn): BatchNorm2d(16, eps=1e-05, momentum=0.1, affine=True, track_running_stats=True)\n",
       "      (relu): ReLU()\n",
       "    )\n",
       "    (down_sample1): Sequential(\n",
       "      (0): Conv2d(16, 32, kernel_size=(3, 3), stride=(2, 2), padding=(1, 1), bias=False)\n",
       "      (1): BatchNorm2d(32, eps=1e-05, momentum=0.1, affine=True, track_running_stats=True)\n",
       "      (2): ReLU()\n",
       "    )\n",
       "    (block2): Sequential(\n",
       "      (0): Conv2d(32, 32, kernel_size=(3, 3), stride=(1, 1), padding=(1, 1), bias=False)\n",
       "      (1): BatchNorm2d(32, eps=1e-05, momentum=0.1, affine=True, track_running_stats=True)\n",
       "      (2): ReLU()\n",
       "      (3): MaxPool2d(kernel_size=(3, 3), stride=1, padding=1, dilation=1, ceil_mode=False)\n",
       "      (4): BatchNorm2d(32, eps=1e-05, momentum=0.1, affine=True, track_running_stats=True)\n",
       "      (5): Dropout(p=0.2, inplace=False)\n",
       "    )\n",
       "    (max_pool_block2): MaxPoolBlock(\n",
       "      (max_pool): MaxPool2d(kernel_size=(3, 3), stride=1, padding=1, dilation=1, ceil_mode=True)\n",
       "      (bn): BatchNorm2d(32, eps=1e-05, momentum=0.1, affine=True, track_running_stats=True)\n",
       "      (relu): ReLU()\n",
       "    )\n",
       "    (down_sample2): Sequential(\n",
       "      (0): Conv2d(32, 64, kernel_size=(3, 3), stride=(2, 2), padding=(1, 1), bias=False)\n",
       "      (1): BatchNorm2d(64, eps=1e-05, momentum=0.1, affine=True, track_running_stats=True)\n",
       "      (2): ReLU()\n",
       "    )\n",
       "    (encoded_mean): Linear(in_features=1920, out_features=414, bias=True)\n",
       "    (encoded_log_variance): Linear(in_features=1920, out_features=414, bias=True)\n",
       "  )\n",
       "  (relu): ReLU()\n",
       "  (seq_linear_blocks): ModuleList()\n",
       "  (seq_classification_head): Linear(in_features=1920, out_features=4, bias=True)\n",
       "  (log_softmax): LogSoftmax(dim=1)\n",
       ")"
      ]
     },
     "execution_count": 61,
     "metadata": {},
     "output_type": "execute_result"
    }
   ],
   "source": [
    "model.eval()"
   ]
  },
  {
   "cell_type": "code",
   "execution_count": 62,
   "metadata": {},
   "outputs": [],
   "source": [
    "from sklearn.metrics import confusion_matrix, precision_score, recall_score, f1_score"
   ]
  },
  {
   "cell_type": "code",
   "execution_count": 63,
   "metadata": {},
   "outputs": [],
   "source": [
    "import seaborn as sns"
   ]
  },
  {
   "cell_type": "code",
   "execution_count": 64,
   "metadata": {},
   "outputs": [],
   "source": [
    "def show_metrics(model, dataset, data_dir='./data/alzheimer/train'):\n",
    "    classes = os.listdir(data_dir)\n",
    "\n",
    "    output = model(dataset.X.to(model.device))\n",
    "    predictions = torch.argmax(output, dim=1).to(model.device)\n",
    "    accuracy = (predictions == dataset.y.to(model.device)).sum().item() / predictions.shape[0]\n",
    "\n",
    "    print(f'Total Accuracy: {accuracy}\\n')\n",
    "\n",
    "    # choosing weighted because we want to calculate per class and then calculate the weighted sum since our labels are imbalanced\n",
    "    average_policy = None\n",
    "\n",
    "    # precision = tp / (tp + fp)\n",
    "    print('Precision: ')\n",
    "    precisions = precision_score(dataset.y.cpu().numpy(), predictions.cpu().numpy(), average=average_policy, zero_division=0)\n",
    "    for class_idx in range(len(classes)):\n",
    "        print(f'{classes[class_idx]}: {precisions[class_idx]}')\n",
    "    print()\n",
    "\n",
    "    # recall = tp / (tp + fn)\n",
    "    print('Recall: ')\n",
    "    recalls = recall_score(dataset.y.cpu().numpy(), predictions.cpu().numpy(), average=average_policy, zero_division=0)\n",
    "    for class_idx in range(len(classes)):\n",
    "        print(f'{classes[class_idx]}: {recalls[class_idx]}')\n",
    "    print()\n",
    "\n",
    "    print('F1 Score:')\n",
    "    f1_scores = f1_score(dataset.y.cpu().numpy(), predictions.cpu().numpy(), average=average_policy, zero_division=0)\n",
    "    for class_idx in range(len(classes)):\n",
    "        print(f'{classes[class_idx]}: {f1_scores[class_idx]}')\n",
    "    print()\n",
    "\n",
    "    g = sns.heatmap(confusion_matrix(dataset.y.cpu().numpy(), predictions.cpu().numpy()), annot=True, fmt='.3g', yticklabels=classes)\n",
    "\n",
    "    g.set_xticklabels(labels=[f'{class_name}' for class_name in classes], rotation=60)\n",
    "\n",
    "    plt.xlabel('Prediction')\n",
    "    plt.ylabel('Truth')"
   ]
  },
  {
   "cell_type": "code",
   "execution_count": 65,
   "metadata": {},
   "outputs": [],
   "source": [
    "from PIL import Image"
   ]
  },
  {
   "cell_type": "markdown",
   "metadata": {},
   "source": [
    "Creating the test dataset for the final evaluation"
   ]
  },
  {
   "cell_type": "code",
   "execution_count": 66,
   "metadata": {},
   "outputs": [],
   "source": [
    "test_data_dir = './data/alzheimer/test'\n",
    "classes = os.listdir(test_data_dir)\n",
    "class_to_idx = {}\n",
    "for i in range(len(classes)):\n",
    "    class_to_idx[classes[i]] = i\n",
    "\n",
    "total_test_images = 0\n",
    "for class_name in classes:\n",
    "    total_test_images += len(os.listdir(f'{test_data_dir}/{class_name}'))"
   ]
  },
  {
   "cell_type": "code",
   "execution_count": 67,
   "metadata": {},
   "outputs": [],
   "source": [
    "test_images = np.empty((total_test_images, 208, 176), dtype=np.uint8)\n",
    "test_labels = np.empty(total_test_images, dtype=np.uint8)"
   ]
  },
  {
   "cell_type": "code",
   "execution_count": 68,
   "metadata": {},
   "outputs": [
    {
     "data": {
      "application/vnd.jupyter.widget-view+json": {
       "model_id": "df430982849b48e8828b8987f5f464f7",
       "version_major": 2,
       "version_minor": 0
      },
      "text/plain": [
       "  0%|          | 0/179 [00:00<?, ?it/s]"
      ]
     },
     "metadata": {},
     "output_type": "display_data"
    },
    {
     "data": {
      "application/vnd.jupyter.widget-view+json": {
       "model_id": "655c6b96a8a345f2a722029f0f6e3294",
       "version_major": 2,
       "version_minor": 0
      },
      "text/plain": [
       "  0%|          | 0/12 [00:00<?, ?it/s]"
      ]
     },
     "metadata": {},
     "output_type": "display_data"
    },
    {
     "data": {
      "application/vnd.jupyter.widget-view+json": {
       "model_id": "d7a568f8590f47a3b0dc08b5334f7d67",
       "version_major": 2,
       "version_minor": 0
      },
      "text/plain": [
       "  0%|          | 0/640 [00:00<?, ?it/s]"
      ]
     },
     "metadata": {},
     "output_type": "display_data"
    },
    {
     "data": {
      "application/vnd.jupyter.widget-view+json": {
       "model_id": "318fbb5b05c846c58d7745d1017c0b15",
       "version_major": 2,
       "version_minor": 0
      },
      "text/plain": [
       "  0%|          | 0/448 [00:00<?, ?it/s]"
      ]
     },
     "metadata": {},
     "output_type": "display_data"
    }
   ],
   "source": [
    "image_idx = 0\n",
    "for class_name in classes:\n",
    "    for image_name in tqdm(os.listdir(f'{test_data_dir}/{class_name}')):\n",
    "        image_path = f'{test_data_dir}/{class_name}/{image_name}'\n",
    "        test_images[image_idx] = np.array(Image.open(image_path)).astype(np.uint8)\n",
    "        test_labels[image_idx] = class_to_idx[class_name]\n",
    "        image_idx += 1"
   ]
  },
  {
   "cell_type": "code",
   "execution_count": 69,
   "metadata": {},
   "outputs": [],
   "source": [
    "leftmost_pixel, uppermost_pixel = 16, 16\n",
    "rightmost_pixel, bottommost_pixel = 159, 191\n",
    "\n",
    "test_images = test_images[:, uppermost_pixel:bottommost_pixel+1, leftmost_pixel:rightmost_pixel+1]"
   ]
  },
  {
   "cell_type": "code",
   "execution_count": 70,
   "metadata": {},
   "outputs": [
    {
     "data": {
      "text/plain": [
       "<matplotlib.image.AxesImage at 0x24286d40e00>"
      ]
     },
     "execution_count": 70,
     "metadata": {},
     "output_type": "execute_result"
    },
    {
     "data": {
      "image/png": "[encoded data removed]",
      "text/plain": [
       "<Figure size 640x480 with 1 Axes>"
      ]
     },
     "metadata": {},
     "output_type": "display_data"
    }
   ],
   "source": [
    "plt.imshow(test_images[test_labels == 1].mean(axis=0), cmap='gray')"
   ]
  },
  {
   "cell_type": "code",
   "execution_count": 71,
   "metadata": {},
   "outputs": [],
   "source": [
    "test_dataset = AlzheimerDataset(test_images, test_labels)"
   ]
  },
  {
   "cell_type": "code",
   "execution_count": 72,
   "metadata": {},
   "outputs": [
    {
     "name": "stdout",
     "output_type": "stream",
     "text": [
      "Total Accuracy: 0.599687255668491\n",
      "\n",
      "Precision: \n",
      "MildDemented: 0.6057692307692307\n",
      "ModerateDemented: 0.5\n",
      "NonDemented: 0.6168757126567845\n",
      "VeryMildDemented: 0.55\n",
      "\n",
      "Recall: \n",
      "MildDemented: 0.35195530726256985\n",
      "ModerateDemented: 0.75\n",
      "NonDemented: 0.8453125\n",
      "VeryMildDemented: 0.34375\n",
      "\n",
      "F1 Score:\n",
      "MildDemented: 0.4452296819787986\n",
      "ModerateDemented: 0.6\n",
      "NonDemented: 0.7132498352010547\n",
      "VeryMildDemented: 0.4230769230769231\n",
      "\n"
     ]
    },
    {
     "data": {
      "image/png": "[encoded data removed]",
      "text/plain": [
       "<Figure size 640x480 with 2 Axes>"
      ]
     },
     "metadata": {},
     "output_type": "display_data"
    }
   ],
   "source": [
    "show_metrics(model, test_dataset)"
   ]
  },
  {
   "cell_type": "markdown",
   "metadata": {},
   "source": [
    "The confusion matrix is not very assuring, and the same can be said for the `precision`, `recall` and `F1 score` for each of the classes. My guess is that the enforcement of the `KL Divergence` regularization term from the `AutoEncoder`'s training, missed a lot of important features when compressing to the latent space, in favor of making it normally distributed. So there's a tradeoff.\n",
    "\n",
    "I'm not familiar with any methods to show it, but the easiest solution would be to train a new `AutoEncoder` without the `KL Divergence` regularization term, and obviously, without the `reparameterization trick` in the `encoder`, and compare the results."
   ]
  },
  {
   "cell_type": "markdown",
   "metadata": {},
   "source": [
    "On the other hand, the validation's metrics are off the charts. Including `accuracy` and the 3 metrics.\n",
    "\n",
    "This is not a surprise since the hyperparameters Optuna chose for us included `fine_tune = False` which caused the entire network (mainly the `encoder`) to retrain, and specifically, with data that was used in its previous trainings, which causes an overfit."
   ]
  },
  {
   "cell_type": "code",
   "execution_count": 74,
   "metadata": {},
   "outputs": [],
   "source": [
    "import shutil\n",
    "try:\n",
    "    shutil.rmtree(f'./logs/classification/study-{current_study_id}')\n",
    "except Exception as e:\n",
    "    print(e)"
   ]
  },
  {
   "cell_type": "markdown",
   "metadata": {},
   "source": [
    "#### Potential solutions"
   ]
  },
  {
   "cell_type": "markdown",
   "metadata": {},
   "source": [
    "* Use a trained network that was trained on medical data such as brain images, and fine tune it to this dataset.\n",
    "* Perform a more robust and comprehensive EDA and understand the domain's limitations and more advanced legitimate assumptions (maybe taking the mirror image of each brain is really wrong!).\n",
    "* Try and use a ResNet model and fine tune it."
   ]
  },
  {
   "cell_type": "markdown",
   "metadata": {},
   "source": [
    "#### Results and conclusions"
   ]
  },
  {
   "cell_type": "markdown",
   "metadata": {},
   "source": [
    "* The results for me are pretty disappointing. After working on such a large project for so long, with the motivation to possibly be able to help others and expecting good results, it wasn't the case. Nonetheless, this project taught me a lot on Computer Vision and problem solving. I used many techniques which I didn't learn in class, so I had to search and learn about them, which motivates self learning, which is a critical skill in this ongoing transformative field.\n",
    "* I used many algorithms and techniques that I did learn in the university, and for that I saw the potential and a real-life use case for those tools.\n",
    "* Regarding the results themselves, this model is not fit for production use or any use case whatsoever, but I believe that with the right approach, this direction can be very promising."
   ]
  },
  {
   "cell_type": "markdown",
   "metadata": {},
   "source": [
    "#### Compute and resources"
   ]
  },
  {
   "cell_type": "markdown",
   "metadata": {},
   "source": [
    "* My compute was pretty intensive for a modern PC, using an Intel i9 13900 5GHz 24-core CPU, 32 GB of DDR5 RAM, 1TB NVME storage device and a NVIDIA RTX 4070 Super with 12 GB of VRAM, which made my life a lot easier so that I could work offline without paying for a Kaggle/Colab subscription, since the free tier GPUs performed slower, and obviously unlimited GPU time.\n",
    "* For version control, I used Git and GitHub.\n",
    "* For tracking my history and model's trainings and performances, I used an external PostgreSQL database using an API written in FastAPI for the reports during training, and TensorBoard for the visualizations during training.\n",
    "* Most of the resources that I used in terms of ideas, explanations and code, were from Wikipedia (for a formal explanation and understanding), arXiv papers (mainly the `VAE`) and the \"Deep Learning\" and course by Dr. Idan Alter, \"Intro to Machine Learning\" course by Dr. Shay Maimon and \"Image Processing\" course by Dr. Azaria Cohen (for the models' training flow and EDA), both from of The Open University of Israel syllabus."
   ]
  },
  {
   "cell_type": "markdown",
   "metadata": {},
   "source": [
    "#### Personal notes"
   ]
  },
  {
   "cell_type": "markdown",
   "metadata": {},
   "source": [
    "I'd like to thank Dr. Idan Alter for his help and contribution in this project. After many ping pong emails regarding ideas, implementations, directions and way of thinking, I was able to complete this project. So thank you."
   ]
  }
 ],
 "metadata": {
  "kernelspec": {
   "display_name": "ml-pipeline",
   "language": "python",
   "name": "python3"
  },
  "language_info": {
   "codemirror_mode": {
    "name": "ipython",
    "version": 3
   },
   "file_extension": ".py",
   "mimetype": "text/x-python",
   "name": "python",
   "nbconvert_exporter": "python",
   "pygments_lexer": "ipython3",
   "version": "3.12.3"
  }
 },
 "nbformat": 4,
 "nbformat_minor": 2
}
