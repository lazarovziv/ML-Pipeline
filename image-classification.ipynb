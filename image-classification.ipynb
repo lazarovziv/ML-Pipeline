{
 "cells": [
  {
   "cell_type": "code",
   "execution_count": 1,
   "metadata": {},
   "outputs": [],
   "source": [
    "import numpy as np\n",
    "import os\n",
    "import matplotlib.pyplot as plt"
   ]
  },
  {
   "cell_type": "code",
   "execution_count": 2,
   "metadata": {},
   "outputs": [],
   "source": [
    "base_data_dir = './data'"
   ]
  },
  {
   "cell_type": "code",
   "execution_count": 3,
   "metadata": {},
   "outputs": [],
   "source": [
    "latest_data_dir_num = max([int(dir.split('_')[-1]) for dir in os.listdir(base_data_dir) if dir.split('_')[-1].isdigit()])\n",
    "data_dir = [dir for dir in os.listdir(base_data_dir) if dir.split('_')[-1].isdigit() and int(dir.split('_')[-1]) == latest_data_dir_num][0]\n",
    "data_dir = f'{base_data_dir}/{data_dir}'"
   ]
  },
  {
   "cell_type": "code",
   "execution_count": 4,
   "metadata": {},
   "outputs": [
    {
     "data": {
      "text/plain": [
       "'./data/decoded_data_41'"
      ]
     },
     "execution_count": 4,
     "metadata": {},
     "output_type": "execute_result"
    }
   ],
   "source": [
    "data_dir"
   ]
  },
  {
   "cell_type": "code",
   "execution_count": 5,
   "metadata": {},
   "outputs": [],
   "source": [
    "import h5py"
   ]
  },
  {
   "cell_type": "code",
   "execution_count": 6,
   "metadata": {},
   "outputs": [],
   "source": [
    "with h5py.File(f'{data_dir}/images.h5') as f:\n",
    "    images = f['images'][:].squeeze()\n",
    "\n",
    "with h5py.File(f'{data_dir}/labels.h5') as f:\n",
    "    labels = f['labels'][:]\n",
    "\n",
    "# loading the training and validation arrays\n",
    "# with h5py.File(f'{data_dir}/train_images.h5') as f:\n",
    "#     train_images = f['images'][:].squeeze()\n",
    "\n",
    "# with h5py.File(f'{data_dir}/train_labels.h5') as f:\n",
    "#     train_labels = f['labels'][:]\n",
    "\n",
    "# with h5py.File(f'{data_dir}/val_images.h5') as f:\n",
    "#     val_images = f['images'][:].squeeze()\n",
    "\n",
    "# with h5py.File(f'{data_dir}/val_labels.h5') as f:\n",
    "#     val_labels = f['labels'][:]"
   ]
  },
  {
   "cell_type": "code",
   "execution_count": 7,
   "metadata": {},
   "outputs": [],
   "source": [
    "def transform_image(image, threshold=None, return_inverse=False):\n",
    "    fft_image = np.fft.fft2(image)\n",
    "    if threshold is None:\n",
    "        threshold = 0.0000005 * np.abs(fft_image)\n",
    "    # creating a mask for zeroing low amplitudes, i.e: below the threshold\n",
    "    mask = np.ones_like(fft_image)\n",
    "    mask[np.abs(fft_image) <= threshold] = 0\n",
    "    filtered_fft_image = fft_image * mask\n",
    "    # getting the inverse fourier transform on the filtered image\n",
    "    inverse_fft_image = np.fft.ifft2(filtered_fft_image)\n",
    "    transformed_image = np.real(inverse_fft_image * np.conj(inverse_fft_image))\n",
    "    # normalizing to [0, 255] range\n",
    "    transformed_image = transformed_image / transformed_image.max()\n",
    "    transformed_image *= 255\n",
    "    if return_inverse:\n",
    "        return fft_image, transformed_image\n",
    "    return transformed_image\n",
    "\n",
    "def filter(inverse):\n",
    "    ones = np.ones_like(inverse)\n",
    "    epsilon = 0.000001\n",
    "    border = 0\n",
    "    center_y, center_x = ones.shape[0]//2, ones.shape[1]//2\n",
    "    center = np.array([center_y, center_x])\n",
    "\n",
    "    ones[center_y-border:center_y+border+1, center_x-border:center_x+border+1] = 0 + epsilon\n",
    "    v, u = np.mgrid[:inverse.shape[0], :inverse.shape[1]]\n",
    "\n",
    "    distances_from_center = np.sqrt(\n",
    "        np.square(v - center[0]) + np.square(u - center[1])\n",
    "    )\n",
    "    threshold = 40\n",
    "    mask = distances_from_center <= threshold\n",
    "\n",
    "    return inverse * mask"
   ]
  },
  {
   "cell_type": "markdown",
   "metadata": {},
   "source": [
    "## Fine tuning the autoencoder model"
   ]
  },
  {
   "cell_type": "code",
   "execution_count": 8,
   "metadata": {},
   "outputs": [],
   "source": [
    "import torch\n",
    "import torch.nn as nn"
   ]
  },
  {
   "cell_type": "code",
   "execution_count": 9,
   "metadata": {},
   "outputs": [
    {
     "data": {
      "text/plain": [
       "device(type='cuda')"
      ]
     },
     "execution_count": 9,
     "metadata": {},
     "output_type": "execute_result"
    }
   ],
   "source": [
    "device = torch.device('cuda' if torch.cuda.is_available() else 'cpu')\n",
    "device"
   ]
  },
  {
   "cell_type": "code",
   "execution_count": 10,
   "metadata": {},
   "outputs": [],
   "source": [
    "import modules.models\n",
    "from modules.models.models import ConvClassifier\n",
    "from modules.models.dataset import AlzheimerDataset"
   ]
  },
  {
   "cell_type": "code",
   "execution_count": 11,
   "metadata": {},
   "outputs": [],
   "source": [
    "import modules.db\n",
    "from modules.db.optuna_report import report_optuna_trial, report_study_best_loss_value, get_best_hyperparameters"
   ]
  },
  {
   "cell_type": "code",
   "execution_count": 12,
   "metadata": {},
   "outputs": [],
   "source": [
    "alzheimer_dataset = AlzheimerDataset(images, labels)\n",
    "# train_dataset = AlzheimerDataset(train_images, train_labels)\n",
    "# val_dataset = AlzheimerDataset(val_images, val_labels)"
   ]
  },
  {
   "cell_type": "code",
   "execution_count": 13,
   "metadata": {},
   "outputs": [],
   "source": [
    "(encoded_dim, \n",
    "    initial_out_channels,\n",
    "    learning_rate,\n",
    "    weight_decay,\n",
    "    betas,\n",
    "    momentum,\n",
    "    dampening,\n",
    "    optimizer_idx,\n",
    "    scheduler_gamma,\n",
    "    kl_divergence_lambda,\n",
    "    epochs,\n",
    "    batch_size,\n",
    "    relu_slope) = get_best_hyperparameters(from_last_study=True) # get hyperparameters from the study, if studied\n",
    "\n",
    "train_best_params = {\n",
    "    'encoded_dim': encoded_dim,\n",
    "    'initial_out_channels': initial_out_channels,\n",
    "    'lr': learning_rate,\n",
    "    'weight_decay': weight_decay,\n",
    "    'betas': betas,\n",
    "    'momentum': momentum,\n",
    "    'dampening': dampening,\n",
    "    'optimizer_idx': optimizer_idx,\n",
    "    'scheduler_gamma': scheduler_gamma,\n",
    "    'kl_divergence_lambda': kl_divergence_lambda,\n",
    "    'epochs': epochs,\n",
    "    'batch_size': batch_size,\n",
    "    'loss_idx': 0,\n",
    "    'relu_slope': relu_slope\n",
    "}"
   ]
  },
  {
   "cell_type": "code",
   "execution_count": 14,
   "metadata": {},
   "outputs": [],
   "source": [
    "def train_epoch(model, optimizer, loss, dataloader, val_dataset, overall_losses, val_overall_losses, accuracy, val_accuracy, epoch, scheduler=None, writer=None):\n",
    "    for _, (batch_X, batch_y) in enumerate(dataloader):\n",
    "        batch_X = batch_X.to(device=model.device)\n",
    "        batch_y = batch_y.to(device=model.device)\n",
    "\n",
    "        if batch_X.shape[0] == 1:\n",
    "            batch_X = torch.concat((batch_X, batch_X), dim=0).to(device=model.device)\n",
    "            batch_y = torch.concat((batch_y, batch_y), dim=0).to(device=model.device)\n",
    "        \n",
    "        optimizer.zero_grad()\n",
    "        \n",
    "        batch_output = model(batch_X)\n",
    "        batch_loss = loss(batch_output, batch_y)\n",
    "        overall_losses[epoch] += batch_loss.item()\n",
    "\n",
    "        predictions = torch.argmax(batch_output, dim=1).to(model.device)\n",
    "        accuracy[epoch] += (predictions == batch_y).sum().item()\n",
    "    \n",
    "        batch_loss.backward()\n",
    "        optimizer.step()\n",
    "    \n",
    "    # updating train metrics\n",
    "    overall_losses[epoch] /= dataloader.dataset.y.shape[0]\n",
    "    accuracy[epoch] /= dataloader.dataset.y.shape[0]\n",
    "\n",
    "    if writer:\n",
    "        writer.add_scalar('Overall Loss/Train', overall_losses[epoch], epoch)\n",
    "        writer.add_scalar('Accuracy/Train', accuracy[epoch], epoch)\n",
    "        \n",
    "    # validation\n",
    "    with torch.no_grad():\n",
    "        model.eval()\n",
    "        val_output = model(val_dataset.X.to(model.device))\n",
    "        loss_value = loss(val_output, val_dataset.y.to(model.device))\n",
    "\n",
    "        val_overall_losses[epoch] = loss_value.item() / val_dataset.y.shape[0]\n",
    "\n",
    "        predictions = torch.argmax(val_output, dim=1).to(model.device)\n",
    "        val_accuracy[epoch] = (predictions == val_dataset.y.to(model.device)).sum().item() / predictions.shape[0]\n",
    "\n",
    "        if writer:\n",
    "            writer.add_scalar('Overall Loss/Validation', val_overall_losses[epoch], epoch)\n",
    "            writer.add_scalar('Accuracy/Validation', val_accuracy[epoch], epoch)\n",
    "\n",
    "    # update learning rate after each epoch to have equal effect for every batch\n",
    "    if scheduler is not None:\n",
    "        scheduler.step()\n",
    "    "
   ]
  },
  {
   "cell_type": "code",
   "execution_count": 15,
   "metadata": {},
   "outputs": [],
   "source": [
    "from tqdm.notebook import tqdm"
   ]
  },
  {
   "cell_type": "code",
   "execution_count": 16,
   "metadata": {},
   "outputs": [],
   "source": [
    "import modules.db\n",
    "from modules.db.optuna_report import report_optuna_trial, report_study_best_loss_value"
   ]
  },
  {
   "cell_type": "code",
   "execution_count": 17,
   "metadata": {},
   "outputs": [],
   "source": [
    "from torch.utils.tensorboard import SummaryWriter\n",
    "import optuna"
   ]
  },
  {
   "cell_type": "code",
   "execution_count": 18,
   "metadata": {},
   "outputs": [],
   "source": [
    "classification_studies_dir = './data/studies/classification'\n",
    "if not os.path.isdir(classification_studies_dir):\n",
    "    os.mkdir(classification_studies_dir)\n",
    "studies_directories = os.listdir(classification_studies_dir)\n",
    "# if last study wasn't finished, use that study id in tensorboard and later on in resuming the optuna study\n",
    "if len(studies_directories) > 0:\n",
    "    current_study_id = studies_directories[-1].split('-')[-1]\n",
    "# last study finished successfully so we'll start a brand new one\n",
    "# else:\n",
    "#     current_study_id = get_last_study_id() + 1\n",
    "# current_study_id"
   ]
  },
  {
   "cell_type": "code",
   "execution_count": 42,
   "metadata": {},
   "outputs": [],
   "source": [
    "# if trial is None we're going for multi-objective optimization or we're normally training\n",
    "def train(trial, model, optimizer, loss, epochs, dataloader, val_dataset, scheduler=None, plot=True, show_progress=True):\n",
    "    log_dir = f'./logs/classification/study-{0}/trial-{trial.number}' if trial else f'./logs/classiciation/regular/'\n",
    "    writer = SummaryWriter(log_dir=log_dir)\n",
    "\n",
    "    writer.add_graph(model, next(iter(dataloader))[0].to(device=model.device))\n",
    "    \n",
    "    overall_losses, val_overall_losses = torch.zeros(epochs), torch.zeros(epochs)\n",
    "    accuracy, val_accuracy = torch.zeros(epochs), torch.zeros(epochs)\n",
    "    \n",
    "    # using tqdm has conflicts with optuna's study progress bar\n",
    "    epochs_range = tqdm(range(epochs)) if show_progress else range(epochs)\n",
    "    for epoch in epochs_range:\n",
    "        model.train()\n",
    "        \n",
    "        train_epoch(\n",
    "            model=model,\n",
    "            optimizer=optimizer, \n",
    "            loss=loss,\n",
    "            epoch=epoch,\n",
    "            dataloader=dataloader,\n",
    "            val_dataset=val_dataset,\n",
    "            val_overall_losses=val_overall_losses,\n",
    "            accuracy=accuracy,\n",
    "            val_accuracy=val_accuracy,\n",
    "            overall_losses=overall_losses,\n",
    "            scheduler=scheduler,\n",
    "            writer=writer\n",
    "        )\n",
    "\n",
    "        writer.flush()\n",
    "        \n",
    "        if trial is not None:\n",
    "            trial.report(overall_losses[epoch].item(), epoch)\n",
    "\n",
    "            if trial.should_prune():\n",
    "                writer.close()\n",
    "                raise optuna.TrialPruned()\n",
    "\n",
    "    if plot:\n",
    "        fig, axes = plt.subplots(1, 2, sharex=True, sharey=False, figsize=(16, 10))\n",
    "        \n",
    "        axes[0].plot(overall_losses.cpu(), color='blue', label='Train')\n",
    "        axes[0].plot(val_overall_losses.cpu(), color='orange', label='Validation')\n",
    "        axes[0].set_title('Overall Loss')\n",
    "        axes[0].legend()\n",
    "\n",
    "        axes[1].plot(accuracy.cpu(), color='blue', label='Train Accuracy')\n",
    "        axes[1].plot(val_accuracy.cpu(), color='orange', label='Validation Accuracy')\n",
    "        axes[1].set_title('Accuracy')\n",
    "        axes[1].legend()\n",
    "\n",
    "    # writer.flush()\n",
    "    writer.close()\n",
    "    \n",
    "    return (overall_losses, val_overall_losses), (accuracy, val_accuracy)"
   ]
  },
  {
   "cell_type": "code",
   "execution_count": 20,
   "metadata": {},
   "outputs": [],
   "source": [
    "def get_classification_loss_function(idx, device='cpu'):\n",
    "    # getting the distribution of data\n",
    "    _, counts = np.unique(labels, return_counts=True)\n",
    "    counts = counts.astype(np.float32)\n",
    "    counts /= counts.sum()\n",
    "    # giving minority classes larger weights\n",
    "    weights = 1 - torch.from_numpy(counts).to(dtype=torch.float32, device=device)\n",
    "    return nn.CrossEntropyLoss(reduction='sum', weight=weights) if idx == 0 else nn.NLLLoss(reduction='sum', weight=weights)"
   ]
  },
  {
   "cell_type": "code",
   "execution_count": 21,
   "metadata": {},
   "outputs": [],
   "source": [
    "def initialize_hyperparameters(trial):\n",
    "    lr = trial.suggest_float('lr', 1e-5, 1e-2, log=True)\n",
    "    weight_decay = trial.suggest_float('weight_decay', 0.1, 0.4, log=True)\n",
    "    beta1 = trial.suggest_float('beta1', 0.8, 0.999)\n",
    "    beta2 = trial.suggest_float('beta2', 0.5, 0.999)\n",
    "\n",
    "    momentum = trial.suggest_float('momentum', 0, 0.5)\n",
    "    dampening = trial.suggest_float('dampening', 0, 0.5)\n",
    "\n",
    "    optimizer_idx = trial.suggest_int('optimizer_idx', 0, 1)\n",
    "    # optimizer = torch.optim.Adam(autoencoder.parameters(), lr=lr, weight_decay=weight_decay, betas=(beta1, beta2))\n",
    "\n",
    "    scheduler_gamma = trial.suggest_float('scheduler_gamma', 0.8, 0.999)\n",
    "    # scheduler = torch.optim.lr_scheduler.ExponentialLR(optimizer, gamma=scheduler_gamma)\n",
    "\n",
    "    epochs = trial.suggest_int('epochs', 50, 128)\n",
    "    batch_size = trial.suggest_int('batch_size', 33, 256)\n",
    "\n",
    "    loss_idx = trial.suggest_int('loss_idx', 0, 1)\n",
    "\n",
    "    relu_slope = trial.suggest_float('relu_slope', 0, 0.1)\n",
    "    num_blocks = trial.suggest_int('num_blocks', 0, 5)\n",
    "\n",
    "    # dataset_idx = trial.suggest_int('dataset_idx', 0, 2)\n",
    "    # dataset = datasets[dataset_idx]\n",
    "\n",
    "    # dataloader = torch.utils.data.DataLoader(alzheimer_dataset, batch_size=batch_size, shuffle=True)\n",
    "\n",
    "    return lr, weight_decay, (beta1, beta2), momentum, dampening, optimizer_idx, scheduler_gamma, epochs, batch_size, loss_idx, relu_slope, num_blocks"
   ]
  },
  {
   "cell_type": "code",
   "execution_count": 22,
   "metadata": {},
   "outputs": [],
   "source": [
    "def objective(trial):\n",
    "    (lr,\n",
    "     weight_decay,\n",
    "     betas,\n",
    "     momentum,\n",
    "     dampening,\n",
    "     optimizer_idx,\n",
    "     scheduler_gamma,\n",
    "     epochs,\n",
    "     batch_size,\n",
    "     loss_idx,\n",
    "     relu_slope,\n",
    "     num_blocks) = initialize_hyperparameters(trial)\n",
    "    \n",
    "    model = ConvClassifier(train_params=train_best_params, num_classes=len(np.unique(labels)),\n",
    "                           num_blocks=num_blocks, relu_slope=relu_slope, device=device).to(device)\n",
    "\n",
    "    if optimizer_idx == 0:\n",
    "        optimizer = torch.optim.Adam(model.parameters(), lr=lr, weight_decay=weight_decay, betas=betas)\n",
    "    else:\n",
    "        optimizer = torch.optim.SGD(model.parameters(), lr=lr, weight_decay=weight_decay, momentum=momentum, dampening=dampening)\n",
    "    \n",
    "    scheduler = torch.optim.lr_scheduler.ExponentialLR(optimizer, gamma=scheduler_gamma)\n",
    "    loss = get_classification_loss_function(loss_idx, device=model.device)\n",
    "\n",
    "    # if train_dataset.X.shape[0] % batch_size == 1:\n",
    "    #     return float('inf')\n",
    "    \n",
    "    dataloader = torch.utils.data.DataLoader(alzheimer_dataset, batch_size=batch_size, shuffle=True)\n",
    "    \n",
    "    overall, _ = train(\n",
    "        model=model,\n",
    "        optimizer=optimizer,\n",
    "        loss=loss,\n",
    "        epochs=epochs,\n",
    "        dataloader=dataloader,\n",
    "        val_dataset=alzheimer_dataset,\n",
    "        scheduler=scheduler,\n",
    "        plot=False,\n",
    "        show_progress=False,\n",
    "        trial=trial\n",
    "    )\n",
    "    \n",
    "    overall_train_losses, val_overall_losses = overall\n",
    "    \n",
    "    # saving the best trained model exploded the VRAM so we'll have to do with the best parameters and then retrain \n",
    "    # trial.set_user_attr(key='best_booster', value=autoencoder)\n",
    "    \n",
    "    return val_overall_losses[-1].item() # overall_train_losses[-1].item()"
   ]
  },
  {
   "cell_type": "code",
   "execution_count": 23,
   "metadata": {},
   "outputs": [],
   "source": [
    "def multi_objective(trial):\n",
    "    (lr,\n",
    "     weight_decay,\n",
    "     betas,\n",
    "     momentum,\n",
    "     dampening,\n",
    "     optimizer_idx,\n",
    "     scheduler_gamma,\n",
    "     epochs,\n",
    "     batch_size,\n",
    "     loss_idx,\n",
    "     relu_slope,\n",
    "     num_blocks) = initialize_hyperparameters(trial)\n",
    "    \n",
    "    model = ConvClassifier(train_params=train_best_params, num_classes=len(np.unique(labels)),\n",
    "                           num_blocks=num_blocks, relu_slope=relu_slope, device=device).to(device)\n",
    "\n",
    "    if optimizer_idx == 0:\n",
    "        optimizer = torch.optim.Adam(model.parameters(), lr=lr, weight_decay=weight_decay, betas=betas)\n",
    "    else:\n",
    "        optimizer = torch.optim.SGD(model.parameters(), lr=lr, weight_decay=weight_decay, momentum=momentum, dampening=dampening)\n",
    "\n",
    "    scheduler = torch.optim.lr_scheduler.ExponentialLR(optimizer, gamma=scheduler_gamma) if scheduler_gamma < 0.9 else None\n",
    "    loss = get_classification_loss_function(loss_idx, device=model.device)\n",
    "\n",
    "    # if train_dataset.X.shape[0] % batch_size == 1:\n",
    "    #     return float('inf')\n",
    "    \n",
    "    dataloader = torch.utils.data.DataLoader(alzheimer_dataset, batch_size=batch_size, shuffle=True)\n",
    "    \n",
    "    overall, _ = train(\n",
    "        model=model,\n",
    "        optimizer=optimizer,\n",
    "        loss=loss,\n",
    "        epochs=epochs,\n",
    "        dataloader=dataloader,\n",
    "        val_dataset=alzheimer_dataset,\n",
    "        scheduler=scheduler,\n",
    "        plot=False,\n",
    "        show_progress=False,\n",
    "        trial=None\n",
    "    )\n",
    "    \n",
    "    overall_train_losses, val_overall_losses = overall\n",
    "    # train_accuracy, val_accuracy = accuracy\n",
    "    \n",
    "    # TODO: check BCE vs NLLLoss scales\n",
    "    return overall_train_losses[-1].item(), val_overall_losses[-1].item()"
   ]
  },
  {
   "cell_type": "code",
   "execution_count": 24,
   "metadata": {},
   "outputs": [],
   "source": [
    "import asyncio\n",
    "import nest_asyncio"
   ]
  },
  {
   "cell_type": "code",
   "execution_count": 25,
   "metadata": {},
   "outputs": [],
   "source": [
    "def callback(study, trial):\n",
    "    report_optuna_trial(study, trial)"
   ]
  },
  {
   "cell_type": "code",
   "execution_count": 26,
   "metadata": {},
   "outputs": [],
   "source": [
    "def optimize(is_multi_objective, n_trials=100):\n",
    "    directions = ['minimize', 'minimize'] if is_multi_objective else ['minimize']\n",
    "    objective_func = multi_objective if is_multi_objective else objective\n",
    "    study = optuna.create_study(directions=directions)\n",
    "    study.optimize(objective_func, n_trials=n_trials, timeout=3600*(n_trials // 30), show_progress_bar=True, gc_after_trial=True) # , callbacks=[callback])\n",
    "    return study"
   ]
  },
  {
   "cell_type": "code",
   "execution_count": 27,
   "metadata": {},
   "outputs": [
    {
     "name": "stderr",
     "output_type": "stream",
     "text": [
      "[I 2024-12-16 10:04:37,759] A new study created in memory with name: no-name-cde09bcb-c863-46c1-a205-c105046abe73\n"
     ]
    },
    {
     "data": {
      "application/vnd.jupyter.widget-view+json": {
       "model_id": "2156cf6b62c34838a1e73d02078dcb05",
       "version_major": 2,
       "version_minor": 0
      },
      "text/plain": [
       "  0%|          | 0/50 [00:00<?, ?it/s]"
      ]
     },
     "metadata": {},
     "output_type": "display_data"
    },
    {
     "name": "stderr",
     "output_type": "stream",
     "text": [
      "c:\\Users\\Ziv\\miniconda3\\envs\\ml-pipeline\\Lib\\site-packages\\torch\\jit\\_trace.py:1303: TracerWarning: Output nr 1. of the traced function does not match the corresponding output of the Python function. Detailed error:\n",
      "Tensor-likes are not close!\n",
      "\n",
      "Mismatched elements: 191 / 192 (99.5%)\n",
      "Greatest absolute difference: 0.02552652359008789 at index (2, 1) (up to 1e-05 allowed)\n",
      "Greatest relative difference: 0.017465865493945038 at index (2, 1) (up to 1e-05 allowed)\n",
      "  _check_trace(\n"
     ]
    },
    {
     "name": "stdout",
     "output_type": "stream",
     "text": [
      "[I 2024-12-16 10:05:52,125] Trial 0 finished with value: 0.05814164876937866 and parameters: {'lr': 0.001211287021352115, 'weight_decay': 0.3344911970360955, 'beta1': 0.8359912550332532, 'beta2': 0.6236940569595526, 'momentum': 0.40527756753575667, 'dampening': 0.40886112013700293, 'optimizer_idx': 0, 'scheduler_gamma': 0.8816765158812544, 'epochs': 66, 'batch_size': 48, 'loss_idx': 1, 'relu_slope': 0.017009134052838527, 'num_blocks': 4}. Best is trial 0 with value: 0.05814164876937866.\n"
     ]
    },
    {
     "name": "stderr",
     "output_type": "stream",
     "text": [
      "c:\\Users\\Ziv\\miniconda3\\envs\\ml-pipeline\\Lib\\site-packages\\torch\\jit\\_trace.py:1303: TracerWarning: Output nr 1. of the traced function does not match the corresponding output of the Python function. Detailed error:\n",
      "Tensor-likes are not close!\n",
      "\n",
      "Mismatched elements: 1004 / 1004 (100.0%)\n",
      "Greatest absolute difference: 0.17814600467681885 at index (147, 2) (up to 1e-05 allowed)\n",
      "Greatest relative difference: 0.135221874639022 at index (120, 0) (up to 1e-05 allowed)\n",
      "  _check_trace(\n"
     ]
    },
    {
     "name": "stdout",
     "output_type": "stream",
     "text": [
      "[I 2024-12-16 10:06:36,226] Trial 1 finished with value: 0.6157715320587158 and parameters: {'lr': 5.752588452329611e-05, 'weight_decay': 0.218633986175645, 'beta1': 0.921300931335223, 'beta2': 0.510130451831242, 'momentum': 0.2642883678620352, 'dampening': 0.17673054040136088, 'optimizer_idx': 1, 'scheduler_gamma': 0.9454980179887886, 'epochs': 70, 'batch_size': 251, 'loss_idx': 0, 'relu_slope': 0.08788785866020572, 'num_blocks': 0}. Best is trial 0 with value: 0.05814164876937866.\n"
     ]
    },
    {
     "name": "stderr",
     "output_type": "stream",
     "text": [
      "c:\\Users\\Ziv\\miniconda3\\envs\\ml-pipeline\\Lib\\site-packages\\torch\\jit\\_trace.py:1303: TracerWarning: Output nr 1. of the traced function does not match the corresponding output of the Python function. Detailed error:\n",
      "Tensor-likes are not close!\n",
      "\n",
      "Mismatched elements: 936 / 936 (100.0%)\n",
      "Greatest absolute difference: 0.06072127819061279 at index (130, 0) (up to 1e-05 allowed)\n",
      "Greatest relative difference: 0.04475340016964166 at index (130, 0) (up to 1e-05 allowed)\n",
      "  _check_trace(\n"
     ]
    },
    {
     "name": "stdout",
     "output_type": "stream",
     "text": [
      "[I 2024-12-16 10:07:28,085] Trial 2 finished with value: 0.9070464372634888 and parameters: {'lr': 1.605631305591169e-05, 'weight_decay': 0.2425542356971112, 'beta1': 0.9293971288644326, 'beta2': 0.9292570110098592, 'momentum': 0.13049132517901402, 'dampening': 0.04882911674238399, 'optimizer_idx': 0, 'scheduler_gamma': 0.9145080650621913, 'epochs': 81, 'batch_size': 234, 'loss_idx': 0, 'relu_slope': 0.03184176618047179, 'num_blocks': 3}. Best is trial 0 with value: 0.05814164876937866.\n"
     ]
    },
    {
     "name": "stderr",
     "output_type": "stream",
     "text": [
      "c:\\Users\\Ziv\\miniconda3\\envs\\ml-pipeline\\Lib\\site-packages\\torch\\jit\\_trace.py:1303: TracerWarning: Output nr 1. of the traced function does not match the corresponding output of the Python function. Detailed error:\n",
      "Tensor-likes are not close!\n",
      "\n",
      "Mismatched elements: 1019 / 1020 (99.9%)\n",
      "Greatest absolute difference: 0.06208682060241699 at index (76, 0) (up to 1e-05 allowed)\n",
      "Greatest relative difference: 0.04830172986710723 at index (76, 0) (up to 1e-05 allowed)\n",
      "  _check_trace(\n"
     ]
    },
    {
     "name": "stdout",
     "output_type": "stream",
     "text": [
      "[I 2024-12-16 10:08:12,951] Trial 3 finished with value: 0.521583616733551 and parameters: {'lr': 0.0003096473878643601, 'weight_decay': 0.19444057493526276, 'beta1': 0.9200403055351045, 'beta2': 0.5769374940580068, 'momentum': 0.13221290955240822, 'dampening': 0.3390004865165268, 'optimizer_idx': 1, 'scheduler_gamma': 0.9696120574173871, 'epochs': 71, 'batch_size': 255, 'loss_idx': 1, 'relu_slope': 0.07196274074650555, 'num_blocks': 3}. Best is trial 0 with value: 0.05814164876937866.\n"
     ]
    },
    {
     "name": "stderr",
     "output_type": "stream",
     "text": [
      "c:\\Users\\Ziv\\miniconda3\\envs\\ml-pipeline\\Lib\\site-packages\\torch\\jit\\_trace.py:1303: TracerWarning: Output nr 1. of the traced function does not match the corresponding output of the Python function. Detailed error:\n",
      "Tensor-likes are not close!\n",
      "\n",
      "Mismatched elements: 636 / 636 (100.0%)\n",
      "Greatest absolute difference: 0.14213573932647705 at index (23, 2) (up to 1e-05 allowed)\n",
      "Greatest relative difference: 0.10182809946575991 at index (23, 2) (up to 1e-05 allowed)\n",
      "  _check_trace(\n"
     ]
    },
    {
     "name": "stdout",
     "output_type": "stream",
     "text": [
      "[I 2024-12-16 10:09:21,679] Trial 4 finished with value: 0.775968611240387 and parameters: {'lr': 1.4880887476790556e-05, 'weight_decay': 0.28897791372106546, 'beta1': 0.8616459010456193, 'beta2': 0.9226744381769505, 'momentum': 0.3830593679898071, 'dampening': 0.05766289985498224, 'optimizer_idx': 0, 'scheduler_gamma': 0.8370152964585382, 'epochs': 108, 'batch_size': 159, 'loss_idx': 1, 'relu_slope': 0.026683898362195126, 'num_blocks': 1}. Best is trial 0 with value: 0.05814164876937866.\n"
     ]
    },
    {
     "name": "stderr",
     "output_type": "stream",
     "text": [
      "c:\\Users\\Ziv\\miniconda3\\envs\\ml-pipeline\\Lib\\site-packages\\torch\\jit\\_trace.py:1303: TracerWarning: Output nr 1. of the traced function does not match the corresponding output of the Python function. Detailed error:\n",
      "Tensor-likes are not close!\n",
      "\n",
      "Mismatched elements: 280 / 280 (100.0%)\n",
      "Greatest absolute difference: 0.15392076969146729 at index (6, 2) (up to 1e-05 allowed)\n",
      "Greatest relative difference: 0.12194532476334163 at index (12, 3) (up to 1e-05 allowed)\n",
      "  _check_trace(\n"
     ]
    },
    {
     "name": "stdout",
     "output_type": "stream",
     "text": [
      "[I 2024-12-16 10:09:22,729] Trial 5 pruned. \n"
     ]
    },
    {
     "name": "stderr",
     "output_type": "stream",
     "text": [
      "c:\\Users\\Ziv\\miniconda3\\envs\\ml-pipeline\\Lib\\site-packages\\torch\\jit\\_trace.py:1303: TracerWarning: Output nr 1. of the traced function does not match the corresponding output of the Python function. Detailed error:\n",
      "Tensor-likes are not close!\n",
      "\n",
      "Mismatched elements: 959 / 964 (99.5%)\n",
      "Greatest absolute difference: 0.00814366340637207 at index (86, 3) (up to 1e-05 allowed)\n",
      "Greatest relative difference: 0.005800149635268279 at index (86, 3) (up to 1e-05 allowed)\n",
      "  _check_trace(\n"
     ]
    },
    {
     "name": "stdout",
     "output_type": "stream",
     "text": [
      "[I 2024-12-16 10:09:25,620] Trial 6 pruned. \n"
     ]
    },
    {
     "name": "stderr",
     "output_type": "stream",
     "text": [
      "c:\\Users\\Ziv\\miniconda3\\envs\\ml-pipeline\\Lib\\site-packages\\torch\\jit\\_trace.py:1303: TracerWarning: Output nr 1. of the traced function does not match the corresponding output of the Python function. Detailed error:\n",
      "Tensor-likes are not close!\n",
      "\n",
      "Mismatched elements: 332 / 332 (100.0%)\n",
      "Greatest absolute difference: 0.195043683052063 at index (18, 3) (up to 1e-05 allowed)\n",
      "Greatest relative difference: 0.1665462977524859 at index (18, 3) (up to 1e-05 allowed)\n",
      "  _check_trace(\n"
     ]
    },
    {
     "name": "stdout",
     "output_type": "stream",
     "text": [
      "[I 2024-12-16 10:10:48,186] Trial 7 finished with value: 0.5646856427192688 and parameters: {'lr': 0.00022997911689321367, 'weight_decay': 0.2047743287290711, 'beta1': 0.908574827097376, 'beta2': 0.5890905842227375, 'momentum': 0.06526520489849053, 'dampening': 0.0006740889663572891, 'optimizer_idx': 0, 'scheduler_gamma': 0.8333886796041338, 'epochs': 107, 'batch_size': 83, 'loss_idx': 1, 'relu_slope': 0.08891623791913528, 'num_blocks': 1}. Best is trial 0 with value: 0.05814164876937866.\n"
     ]
    },
    {
     "name": "stderr",
     "output_type": "stream",
     "text": [
      "c:\\Users\\Ziv\\miniconda3\\envs\\ml-pipeline\\Lib\\site-packages\\torch\\jit\\_trace.py:1303: TracerWarning: Output nr 1. of the traced function does not match the corresponding output of the Python function. Detailed error:\n",
      "Tensor-likes are not close!\n",
      "\n",
      "Mismatched elements: 552 / 552 (100.0%)\n",
      "Greatest absolute difference: 0.1752016544342041 at index (98, 0) (up to 1e-05 allowed)\n",
      "Greatest relative difference: 0.1104747692933093 at index (98, 0) (up to 1e-05 allowed)\n",
      "  _check_trace(\n"
     ]
    },
    {
     "name": "stdout",
     "output_type": "stream",
     "text": [
      "[I 2024-12-16 10:10:49,138] Trial 8 pruned. \n"
     ]
    },
    {
     "name": "stderr",
     "output_type": "stream",
     "text": [
      "c:\\Users\\Ziv\\miniconda3\\envs\\ml-pipeline\\Lib\\site-packages\\torch\\jit\\_trace.py:1303: TracerWarning: Output nr 1. of the traced function does not match the corresponding output of the Python function. Detailed error:\n",
      "Tensor-likes are not close!\n",
      "\n",
      "Mismatched elements: 209 / 212 (98.6%)\n",
      "Greatest absolute difference: 0.006545424461364746 at index (7, 1) (up to 1e-05 allowed)\n",
      "Greatest relative difference: 0.004976040276432728 at index (46, 3) (up to 1e-05 allowed)\n",
      "  _check_trace(\n"
     ]
    },
    {
     "name": "stdout",
     "output_type": "stream",
     "text": [
      "[I 2024-12-16 10:13:04,180] Trial 9 finished with value: 0.009352552704513073 and parameters: {'lr': 0.0004295428605636667, 'weight_decay': 0.22592512375376486, 'beta1': 0.9845205217917045, 'beta2': 0.5172377188022288, 'momentum': 0.06741407894150775, 'dampening': 0.352362194556757, 'optimizer_idx': 0, 'scheduler_gamma': 0.9802384680061976, 'epochs': 128, 'batch_size': 53, 'loss_idx': 1, 'relu_slope': 0.05900208513849843, 'num_blocks': 5}. Best is trial 9 with value: 0.009352552704513073.\n"
     ]
    },
    {
     "name": "stderr",
     "output_type": "stream",
     "text": [
      "c:\\Users\\Ziv\\miniconda3\\envs\\ml-pipeline\\Lib\\site-packages\\torch\\jit\\_trace.py:1303: TracerWarning: Output nr 1. of the traced function does not match the corresponding output of the Python function. Detailed error:\n",
      "Tensor-likes are not close!\n",
      "\n",
      "Mismatched elements: 465 / 468 (99.4%)\n",
      "Greatest absolute difference: 0.007393836975097656 at index (67, 0) (up to 1e-05 allowed)\n",
      "Greatest relative difference: 0.005245188491144009 at index (65, 1) (up to 1e-05 allowed)\n",
      "  _check_trace(\n"
     ]
    },
    {
     "name": "stdout",
     "output_type": "stream",
     "text": [
      "[I 2024-12-16 10:14:23,498] Trial 10 pruned. \n"
     ]
    },
    {
     "name": "stderr",
     "output_type": "stream",
     "text": [
      "c:\\Users\\Ziv\\miniconda3\\envs\\ml-pipeline\\Lib\\site-packages\\torch\\jit\\_trace.py:1303: TracerWarning: Output nr 1. of the traced function does not match the corresponding output of the Python function. Detailed error:\n",
      "Tensor-likes are not close!\n",
      "\n",
      "Mismatched elements: 203 / 204 (99.5%)\n",
      "Greatest absolute difference: 0.024248480796813965 at index (41, 3) (up to 1e-05 allowed)\n",
      "Greatest relative difference: 0.019560186921423844 at index (41, 3) (up to 1e-05 allowed)\n",
      "  _check_trace(\n"
     ]
    },
    {
     "name": "stdout",
     "output_type": "stream",
     "text": [
      "[I 2024-12-16 10:16:12,931] Trial 11 pruned. \n"
     ]
    },
    {
     "name": "stderr",
     "output_type": "stream",
     "text": [
      "c:\\Users\\Ziv\\miniconda3\\envs\\ml-pipeline\\Lib\\site-packages\\torch\\jit\\_trace.py:1303: TracerWarning: Output nr 1. of the traced function does not match the corresponding output of the Python function. Detailed error:\n",
      "Tensor-likes are not close!\n",
      "\n",
      "Mismatched elements: 132 / 132 (100.0%)\n",
      "Greatest absolute difference: 0.01735377311706543 at index (18, 0) (up to 1e-05 allowed)\n",
      "Greatest relative difference: 0.012064553545330953 at index (23, 1) (up to 1e-05 allowed)\n",
      "  _check_trace(\n"
     ]
    },
    {
     "name": "stdout",
     "output_type": "stream",
     "text": [
      "[I 2024-12-16 10:17:28,098] Trial 12 finished with value: 0.09185585379600525 and parameters: {'lr': 0.001505407819132134, 'weight_decay': 0.3896280776774108, 'beta1': 0.8804359219003356, 'beta2': 0.5008613405309434, 'momentum': 0.0008971996804417737, 'dampening': 0.37988051659953226, 'optimizer_idx': 0, 'scheduler_gamma': 0.9386788998996548, 'epochs': 50, 'batch_size': 33, 'loss_idx': 1, 'relu_slope': 0.029310387484361645, 'num_blocks': 4}. Best is trial 9 with value: 0.009352552704513073.\n"
     ]
    },
    {
     "name": "stderr",
     "output_type": "stream",
     "text": [
      "c:\\Users\\Ziv\\miniconda3\\envs\\ml-pipeline\\Lib\\site-packages\\torch\\jit\\_trace.py:1303: TracerWarning: Output nr 1. of the traced function does not match the corresponding output of the Python function. Detailed error:\n",
      "Tensor-likes are not close!\n",
      "\n",
      "Mismatched elements: 383 / 384 (99.7%)\n",
      "Greatest absolute difference: 0.02207803726196289 at index (47, 1) (up to 1e-05 allowed)\n",
      "Greatest relative difference: 0.016706177607187615 at index (47, 1) (up to 1e-05 allowed)\n",
      "  _check_trace(\n"
     ]
    },
    {
     "name": "stdout",
     "output_type": "stream",
     "text": [
      "[I 2024-12-16 10:18:34,376] Trial 13 finished with value: 0.08986946940422058 and parameters: {'lr': 0.001272443002403599, 'weight_decay': 0.2749895655133591, 'beta1': 0.9599838285518243, 'beta2': 0.6062487591357854, 'momentum': 0.3558374853558518, 'dampening': 0.402438768803687, 'optimizer_idx': 0, 'scheduler_gamma': 0.8664003577790484, 'epochs': 90, 'batch_size': 96, 'loss_idx': 1, 'relu_slope': 0.06446563751722278, 'num_blocks': 4}. Best is trial 9 with value: 0.009352552704513073.\n"
     ]
    },
    {
     "name": "stderr",
     "output_type": "stream",
     "text": [
      "c:\\Users\\Ziv\\miniconda3\\envs\\ml-pipeline\\Lib\\site-packages\\torch\\jit\\_trace.py:1303: TracerWarning: Output nr 1. of the traced function does not match the corresponding output of the Python function. Detailed error:\n",
      "Tensor-likes are not close!\n",
      "\n",
      "Mismatched elements: 713 / 716 (99.6%)\n",
      "Greatest absolute difference: 0.00804448127746582 at index (52, 1) (up to 1e-05 allowed)\n",
      "Greatest relative difference: 0.006121519815474485 at index (52, 1) (up to 1e-05 allowed)\n",
      "  _check_trace(\n"
     ]
    },
    {
     "name": "stdout",
     "output_type": "stream",
     "text": [
      "[I 2024-12-16 10:19:14,785] Trial 14 finished with value: 0.07818207144737244 and parameters: {'lr': 0.004538263376689642, 'weight_decay': 0.32261321507516155, 'beta1': 0.8018869142421673, 'beta2': 0.6870666136752196, 'momentum': 0.48895368727181143, 'dampening': 0.2936969126559804, 'optimizer_idx': 0, 'scheduler_gamma': 0.9954563444714424, 'epochs': 60, 'batch_size': 179, 'loss_idx': 0, 'relu_slope': 0.03952000392250864, 'num_blocks': 5}. Best is trial 9 with value: 0.009352552704513073.\n"
     ]
    },
    {
     "name": "stderr",
     "output_type": "stream",
     "text": [
      "c:\\Users\\Ziv\\miniconda3\\envs\\ml-pipeline\\Lib\\site-packages\\torch\\jit\\_trace.py:1303: TracerWarning: Output nr 1. of the traced function does not match the corresponding output of the Python function. Detailed error:\n",
      "Tensor-likes are not close!\n",
      "\n",
      "Mismatched elements: 155 / 156 (99.4%)\n",
      "Greatest absolute difference: 0.02474522590637207 at index (9, 1) (up to 1e-05 allowed)\n",
      "Greatest relative difference: 0.01696157828034185 at index (9, 1) (up to 1e-05 allowed)\n",
      "  _check_trace(\n"
     ]
    },
    {
     "name": "stdout",
     "output_type": "stream",
     "text": [
      "[I 2024-12-16 10:20:56,495] Trial 15 finished with value: 0.02424880675971508 and parameters: {'lr': 0.0006457918200823985, 'weight_decay': 0.17009083794804025, 'beta1': 0.8464696794492337, 'beta2': 0.5502827191958379, 'momentum': 0.1977726465242594, 'dampening': 0.4850564918838676, 'optimizer_idx': 0, 'scheduler_gamma': 0.9281238533556375, 'epochs': 85, 'batch_size': 39, 'loss_idx': 1, 'relu_slope': 0.010834447586784725, 'num_blocks': 4}. Best is trial 9 with value: 0.009352552704513073.\n"
     ]
    },
    {
     "name": "stderr",
     "output_type": "stream",
     "text": [
      "c:\\Users\\Ziv\\miniconda3\\envs\\ml-pipeline\\Lib\\site-packages\\torch\\jit\\_trace.py:1303: TracerWarning: Output nr 1. of the traced function does not match the corresponding output of the Python function. Detailed error:\n",
      "Tensor-likes are not close!\n",
      "\n",
      "Mismatched elements: 420 / 420 (100.0%)\n",
      "Greatest absolute difference: 0.059638381004333496 at index (46, 3) (up to 1e-05 allowed)\n",
      "Greatest relative difference: 0.04091849981449868 at index (46, 3) (up to 1e-05 allowed)\n",
      "  _check_trace(\n"
     ]
    },
    {
     "name": "stdout",
     "output_type": "stream",
     "text": [
      "[I 2024-12-16 10:20:57,513] Trial 16 pruned. \n"
     ]
    },
    {
     "name": "stderr",
     "output_type": "stream",
     "text": [
      "c:\\Users\\Ziv\\miniconda3\\envs\\ml-pipeline\\Lib\\site-packages\\torch\\jit\\_trace.py:1303: TracerWarning: Output nr 1. of the traced function does not match the corresponding output of the Python function. Detailed error:\n",
      "Tensor-likes are not close!\n",
      "\n",
      "Mismatched elements: 259 / 260 (99.6%)\n",
      "Greatest absolute difference: 0.008502483367919922 at index (50, 2) (up to 1e-05 allowed)\n",
      "Greatest relative difference: 0.00583756598608655 at index (50, 2) (up to 1e-05 allowed)\n",
      "  _check_trace(\n"
     ]
    },
    {
     "name": "stdout",
     "output_type": "stream",
     "text": [
      "[I 2024-12-16 10:20:58,800] Trial 17 pruned. \n"
     ]
    },
    {
     "name": "stderr",
     "output_type": "stream",
     "text": [
      "c:\\Users\\Ziv\\miniconda3\\envs\\ml-pipeline\\Lib\\site-packages\\torch\\jit\\_trace.py:1303: TracerWarning: Output nr 1. of the traced function does not match the corresponding output of the Python function. Detailed error:\n",
      "Tensor-likes are not close!\n",
      "\n",
      "Mismatched elements: 799 / 800 (99.9%)\n",
      "Greatest absolute difference: 0.14709234237670898 at index (90, 1) (up to 1e-05 allowed)\n",
      "Greatest relative difference: 0.11085169751600203 at index (90, 1) (up to 1e-05 allowed)\n",
      "  _check_trace(\n"
     ]
    },
    {
     "name": "stdout",
     "output_type": "stream",
     "text": [
      "[I 2024-12-16 10:21:58,657] Trial 18 finished with value: 0.027891917154192924 and parameters: {'lr': 0.0034956073688344417, 'weight_decay': 0.250033374199358, 'beta1': 0.9568567448101964, 'beta2': 0.841897807005185, 'momentum': 0.08480510069318117, 'dampening': 0.4456740075910355, 'optimizer_idx': 0, 'scheduler_gamma': 0.9242623981465015, 'epochs': 93, 'batch_size': 200, 'loss_idx': 1, 'relu_slope': 0.013571626416142138, 'num_blocks': 2}. Best is trial 9 with value: 0.009352552704513073.\n"
     ]
    },
    {
     "name": "stderr",
     "output_type": "stream",
     "text": [
      "c:\\Users\\Ziv\\miniconda3\\envs\\ml-pipeline\\Lib\\site-packages\\torch\\jit\\_trace.py:1303: TracerWarning: Output nr 1. of the traced function does not match the corresponding output of the Python function. Detailed error:\n",
      "Tensor-likes are not close!\n",
      "\n",
      "Mismatched elements: 135 / 136 (99.3%)\n",
      "Greatest absolute difference: 0.02331686019897461 at index (33, 2) (up to 1e-05 allowed)\n",
      "Greatest relative difference: 0.016266315606578787 at index (33, 0) (up to 1e-05 allowed)\n",
      "  _check_trace(\n"
     ]
    },
    {
     "name": "stdout",
     "output_type": "stream",
     "text": [
      "[I 2024-12-16 10:22:00,345] Trial 19 pruned. \n"
     ]
    },
    {
     "name": "stderr",
     "output_type": "stream",
     "text": [
      "c:\\Users\\Ziv\\miniconda3\\envs\\ml-pipeline\\Lib\\site-packages\\torch\\jit\\_trace.py:1303: TracerWarning: Output nr 1. of the traced function does not match the corresponding output of the Python function. Detailed error:\n",
      "Tensor-likes are not close!\n",
      "\n",
      "Mismatched elements: 524 / 524 (100.0%)\n",
      "Greatest absolute difference: 0.1780935525894165 at index (11, 0) (up to 1e-05 allowed)\n",
      "Greatest relative difference: 0.12971010346632011 at index (11, 0) (up to 1e-05 allowed)\n",
      "  _check_trace(\n"
     ]
    },
    {
     "name": "stdout",
     "output_type": "stream",
     "text": [
      "[I 2024-12-16 10:22:01,296] Trial 20 pruned. \n"
     ]
    },
    {
     "name": "stderr",
     "output_type": "stream",
     "text": [
      "c:\\Users\\Ziv\\miniconda3\\envs\\ml-pipeline\\Lib\\site-packages\\torch\\jit\\_trace.py:1303: TracerWarning: Output nr 1. of the traced function does not match the corresponding output of the Python function. Detailed error:\n",
      "Tensor-likes are not close!\n",
      "\n",
      "Mismatched elements: 812 / 812 (100.0%)\n",
      "Greatest absolute difference: 0.16675424575805664 at index (31, 1) (up to 1e-05 allowed)\n",
      "Greatest relative difference: 0.11104621850440598 at index (31, 1) (up to 1e-05 allowed)\n",
      "  _check_trace(\n"
     ]
    },
    {
     "name": "stdout",
     "output_type": "stream",
     "text": [
      "[I 2024-12-16 10:23:02,297] Trial 21 finished with value: 0.050683245062828064 and parameters: {'lr': 0.0030323542119372517, 'weight_decay': 0.24433601252657514, 'beta1': 0.9609572559836079, 'beta2': 0.8325524502157454, 'momentum': 0.08443253784522788, 'dampening': 0.43609424356792076, 'optimizer_idx': 0, 'scheduler_gamma': 0.9184755920238217, 'epochs': 96, 'batch_size': 203, 'loss_idx': 1, 'relu_slope': 0.015615924564940764, 'num_blocks': 2}. Best is trial 9 with value: 0.009352552704513073.\n"
     ]
    },
    {
     "name": "stderr",
     "output_type": "stream",
     "text": [
      "c:\\Users\\Ziv\\miniconda3\\envs\\ml-pipeline\\Lib\\site-packages\\torch\\jit\\_trace.py:1303: TracerWarning: Output nr 1. of the traced function does not match the corresponding output of the Python function. Detailed error:\n",
      "Tensor-likes are not close!\n",
      "\n",
      "Mismatched elements: 832 / 832 (100.0%)\n",
      "Greatest absolute difference: 0.24632740020751953 at index (149, 2) (up to 1e-05 allowed)\n",
      "Greatest relative difference: 0.14973193091613368 at index (64, 1) (up to 1e-05 allowed)\n",
      "  _check_trace(\n"
     ]
    },
    {
     "name": "stdout",
     "output_type": "stream",
     "text": [
      "[I 2024-12-16 10:23:03,296] Trial 22 pruned. \n"
     ]
    },
    {
     "name": "stderr",
     "output_type": "stream",
     "text": [
      "c:\\Users\\Ziv\\miniconda3\\envs\\ml-pipeline\\Lib\\site-packages\\torch\\jit\\_trace.py:1303: TracerWarning: Output nr 1. of the traced function does not match the corresponding output of the Python function. Detailed error:\n",
      "Tensor-likes are not close!\n",
      "\n",
      "Mismatched elements: 659 / 660 (99.8%)\n",
      "Greatest absolute difference: 0.06441748142242432 at index (0, 0) (up to 1e-05 allowed)\n",
      "Greatest relative difference: 0.04247268121095948 at index (0, 0) (up to 1e-05 allowed)\n",
      "  _check_trace(\n"
     ]
    },
    {
     "name": "stdout",
     "output_type": "stream",
     "text": [
      "[I 2024-12-16 10:24:02,239] Trial 23 finished with value: 0.007966095581650734 and parameters: {'lr': 0.008840809634223838, 'weight_decay': 0.19243691415014547, 'beta1': 0.9925846770169967, 'beta2': 0.8304403737542916, 'momentum': 0.11727177847136401, 'dampening': 0.421370329693668, 'optimizer_idx': 0, 'scheduler_gamma': 0.8991394165785839, 'epochs': 90, 'batch_size': 165, 'loss_idx': 1, 'relu_slope': 0.021782384184013993, 'num_blocks': 3}. Best is trial 23 with value: 0.007966095581650734.\n"
     ]
    },
    {
     "name": "stderr",
     "output_type": "stream",
     "text": [
      "c:\\Users\\Ziv\\miniconda3\\envs\\ml-pipeline\\Lib\\site-packages\\torch\\jit\\_trace.py:1303: TracerWarning: Output nr 1. of the traced function does not match the corresponding output of the Python function. Detailed error:\n",
      "Tensor-likes are not close!\n",
      "\n",
      "Mismatched elements: 656 / 656 (100.0%)\n",
      "Greatest absolute difference: 0.06917750835418701 at index (31, 3) (up to 1e-05 allowed)\n",
      "Greatest relative difference: 0.04986198020894322 at index (31, 3) (up to 1e-05 allowed)\n",
      "  _check_trace(\n"
     ]
    },
    {
     "name": "stdout",
     "output_type": "stream",
     "text": [
      "[I 2024-12-16 10:25:12,740] Trial 24 finished with value: 0.00878258515149355 and parameters: {'lr': 0.00951893242099467, 'weight_decay': 0.19158799051025374, 'beta1': 0.9962203347605068, 'beta2': 0.8016582269690384, 'momentum': 0.13253243928824288, 'dampening': 0.30023062699667585, 'optimizer_idx': 0, 'scheduler_gamma': 0.8983534897273019, 'epochs': 108, 'batch_size': 164, 'loss_idx': 1, 'relu_slope': 0.022687432758838035, 'num_blocks': 3}. Best is trial 23 with value: 0.007966095581650734.\n"
     ]
    },
    {
     "name": "stderr",
     "output_type": "stream",
     "text": [
      "c:\\Users\\Ziv\\miniconda3\\envs\\ml-pipeline\\Lib\\site-packages\\torch\\jit\\_trace.py:1303: TracerWarning: Output nr 1. of the traced function does not match the corresponding output of the Python function. Detailed error:\n",
      "Tensor-likes are not close!\n",
      "\n",
      "Mismatched elements: 640 / 640 (100.0%)\n",
      "Greatest absolute difference: 0.051337599754333496 at index (3, 0) (up to 1e-05 allowed)\n",
      "Greatest relative difference: 0.03767563111019193 at index (3, 0) (up to 1e-05 allowed)\n",
      "  _check_trace(\n"
     ]
    },
    {
     "name": "stdout",
     "output_type": "stream",
     "text": [
      "[I 2024-12-16 10:26:26,673] Trial 25 finished with value: 0.028564926236867905 and parameters: {'lr': 0.00882199954137118, 'weight_decay': 0.19475611893435862, 'beta1': 0.9981095804160695, 'beta2': 0.7923250312128737, 'momentum': 0.12819777831134693, 'dampening': 0.3109753375340825, 'optimizer_idx': 0, 'scheduler_gamma': 0.8932898055645477, 'epochs': 114, 'batch_size': 160, 'loss_idx': 1, 'relu_slope': 0.037451142523119665, 'num_blocks': 3}. Best is trial 23 with value: 0.007966095581650734.\n"
     ]
    },
    {
     "name": "stderr",
     "output_type": "stream",
     "text": [
      "c:\\Users\\Ziv\\miniconda3\\envs\\ml-pipeline\\Lib\\site-packages\\torch\\jit\\_trace.py:1303: TracerWarning: Output nr 1. of the traced function does not match the corresponding output of the Python function. Detailed error:\n",
      "Tensor-likes are not close!\n",
      "\n",
      "Mismatched elements: 698 / 700 (99.7%)\n",
      "Greatest absolute difference: 0.06457030773162842 at index (62, 3) (up to 1e-05 allowed)\n",
      "Greatest relative difference: 0.04660781450045945 at index (62, 3) (up to 1e-05 allowed)\n",
      "  _check_trace(\n"
     ]
    },
    {
     "name": "stdout",
     "output_type": "stream",
     "text": [
      "[I 2024-12-16 10:27:34,755] Trial 26 finished with value: 0.012986687943339348 and parameters: {'lr': 0.009873864840785748, 'weight_decay': 0.20888741912245612, 'beta1': 0.9789863332292489, 'beta2': 0.8836312892077718, 'momentum': 0.04086118971146302, 'dampening': 0.30206390536277344, 'optimizer_idx': 0, 'scheduler_gamma': 0.8514288567243531, 'epochs': 106, 'batch_size': 175, 'loss_idx': 1, 'relu_slope': 0.02119731854749691, 'num_blocks': 3}. Best is trial 23 with value: 0.007966095581650734.\n"
     ]
    },
    {
     "name": "stderr",
     "output_type": "stream",
     "text": [
      "c:\\Users\\Ziv\\miniconda3\\envs\\ml-pipeline\\Lib\\site-packages\\torch\\jit\\_trace.py:1303: TracerWarning: Output nr 1. of the traced function does not match the corresponding output of the Python function. Detailed error:\n",
      "Tensor-likes are not close!\n",
      "\n",
      "Mismatched elements: 600 / 600 (100.0%)\n",
      "Greatest absolute difference: 0.20256710052490234 at index (145, 2) (up to 1e-05 allowed)\n",
      "Greatest relative difference: 0.16395210348093425 at index (145, 2) (up to 1e-05 allowed)\n",
      "  _check_trace(\n"
     ]
    },
    {
     "name": "stdout",
     "output_type": "stream",
     "text": [
      "[I 2024-12-16 10:28:39,097] Trial 27 finished with value: 0.022111155092716217 and parameters: {'lr': 0.005282969606329824, 'weight_decay': 0.29195102045062415, 'beta1': 0.9818278342517995, 'beta2': 0.7350394315945111, 'momentum': 0.10711102490444714, 'dampening': 0.1870458257324385, 'optimizer_idx': 0, 'scheduler_gamma': 0.8966911292579046, 'epochs': 99, 'batch_size': 150, 'loss_idx': 1, 'relu_slope': 0.048105423679690194, 'num_blocks': 0}. Best is trial 23 with value: 0.007966095581650734.\n"
     ]
    },
    {
     "name": "stderr",
     "output_type": "stream",
     "text": [
      "c:\\Users\\Ziv\\miniconda3\\envs\\ml-pipeline\\Lib\\site-packages\\torch\\jit\\_trace.py:1303: TracerWarning: Output nr 1. of the traced function does not match the corresponding output of the Python function. Detailed error:\n",
      "Tensor-likes are not close!\n",
      "\n",
      "Mismatched elements: 727 / 728 (99.9%)\n",
      "Greatest absolute difference: 0.06616997718811035 at index (86, 2) (up to 1e-05 allowed)\n",
      "Greatest relative difference: 0.04923421728163833 at index (86, 2) (up to 1e-05 allowed)\n",
      "  _check_trace(\n"
     ]
    },
    {
     "name": "stdout",
     "output_type": "stream",
     "text": [
      "[I 2024-12-16 10:28:40,082] Trial 28 pruned. \n"
     ]
    },
    {
     "name": "stderr",
     "output_type": "stream",
     "text": [
      "c:\\Users\\Ziv\\miniconda3\\envs\\ml-pipeline\\Lib\\site-packages\\torch\\jit\\_trace.py:1303: TracerWarning: Output nr 1. of the traced function does not match the corresponding output of the Python function. Detailed error:\n",
      "Tensor-likes are not close!\n",
      "\n",
      "Mismatched elements: 464 / 464 (100.0%)\n",
      "Greatest absolute difference: 0.022763967514038086 at index (84, 1) (up to 1e-05 allowed)\n",
      "Greatest relative difference: 0.01730502104608389 at index (84, 1) (up to 1e-05 allowed)\n",
      "  _check_trace(\n"
     ]
    },
    {
     "name": "stdout",
     "output_type": "stream",
     "text": [
      "[I 2024-12-16 10:29:25,530] Trial 29 pruned. \n"
     ]
    },
    {
     "name": "stderr",
     "output_type": "stream",
     "text": [
      "c:\\Users\\Ziv\\miniconda3\\envs\\ml-pipeline\\Lib\\site-packages\\torch\\jit\\_trace.py:1303: TracerWarning: Output nr 1. of the traced function does not match the corresponding output of the Python function. Detailed error:\n",
      "Tensor-likes are not close!\n",
      "\n",
      "Mismatched elements: 864 / 872 (99.1%)\n",
      "Greatest absolute difference: 0.00807487964630127 at index (122, 1) (up to 1e-05 allowed)\n",
      "Greatest relative difference: 0.005903588282135579 at index (71, 3) (up to 1e-05 allowed)\n",
      "  _check_trace(\n"
     ]
    },
    {
     "name": "stdout",
     "output_type": "stream",
     "text": [
      "[I 2024-12-16 10:29:26,603] Trial 30 pruned. \n"
     ]
    },
    {
     "name": "stderr",
     "output_type": "stream",
     "text": [
      "c:\\Users\\Ziv\\miniconda3\\envs\\ml-pipeline\\Lib\\site-packages\\torch\\jit\\_trace.py:1303: TracerWarning: Output nr 1. of the traced function does not match the corresponding output of the Python function. Detailed error:\n",
      "Tensor-likes are not close!\n",
      "\n",
      "Mismatched elements: 716 / 716 (100.0%)\n",
      "Greatest absolute difference: 0.06623351573944092 at index (106, 3) (up to 1e-05 allowed)\n",
      "Greatest relative difference: 0.04718429404446767 at index (106, 3) (up to 1e-05 allowed)\n",
      "  _check_trace(\n"
     ]
    },
    {
     "name": "stdout",
     "output_type": "stream",
     "text": [
      "[I 2024-12-16 10:30:35,830] Trial 31 finished with value: 0.015133039094507694 and parameters: {'lr': 0.009775277833484104, 'weight_decay': 0.21460429421049074, 'beta1': 0.9863142020775468, 'beta2': 0.8855509764065401, 'momentum': 0.0397585581573585, 'dampening': 0.2905518338995003, 'optimizer_idx': 0, 'scheduler_gamma': 0.8438268010164429, 'epochs': 107, 'batch_size': 179, 'loss_idx': 1, 'relu_slope': 0.021903050401990858, 'num_blocks': 3}. Best is trial 23 with value: 0.007966095581650734.\n"
     ]
    },
    {
     "name": "stderr",
     "output_type": "stream",
     "text": [
      "c:\\Users\\Ziv\\miniconda3\\envs\\ml-pipeline\\Lib\\site-packages\\torch\\jit\\_trace.py:1303: TracerWarning: Output nr 1. of the traced function does not match the corresponding output of the Python function. Detailed error:\n",
      "Tensor-likes are not close!\n",
      "\n",
      "Mismatched elements: 684 / 684 (100.0%)\n",
      "Greatest absolute difference: 0.15915322303771973 at index (79, 1) (up to 1e-05 allowed)\n",
      "Greatest relative difference: 0.12591817319174314 at index (79, 1) (up to 1e-05 allowed)\n",
      "  _check_trace(\n"
     ]
    },
    {
     "name": "stdout",
     "output_type": "stream",
     "text": [
      "[I 2024-12-16 10:31:12,460] Trial 32 pruned. \n"
     ]
    },
    {
     "name": "stderr",
     "output_type": "stream",
     "text": [
      "c:\\Users\\Ziv\\miniconda3\\envs\\ml-pipeline\\Lib\\site-packages\\torch\\jit\\_trace.py:1303: TracerWarning: Output nr 1. of the traced function does not match the corresponding output of the Python function. Detailed error:\n",
      "Tensor-likes are not close!\n",
      "\n",
      "Mismatched elements: 512 / 512 (100.0%)\n",
      "Greatest absolute difference: 0.0749579668045044 at index (48, 3) (up to 1e-05 allowed)\n",
      "Greatest relative difference: 0.05734980395232836 at index (48, 3) (up to 1e-05 allowed)\n",
      "  _check_trace(\n"
     ]
    },
    {
     "name": "stdout",
     "output_type": "stream",
     "text": [
      "[I 2024-12-16 10:32:30,616] Trial 33 finished with value: 0.023666663095355034 and parameters: {'lr': 0.007056873421231652, 'weight_decay': 0.2622680457987071, 'beta1': 0.9903635649739893, 'beta2': 0.8065178633132553, 'momentum': 0.12040146964628329, 'dampening': 0.2583905927790001, 'optimizer_idx': 0, 'scheduler_gamma': 0.8857975302582463, 'epochs': 119, 'batch_size': 128, 'loss_idx': 1, 'relu_slope': 0.027456559435870803, 'num_blocks': 3}. Best is trial 23 with value: 0.007966095581650734.\n"
     ]
    },
    {
     "name": "stderr",
     "output_type": "stream",
     "text": [
      "c:\\Users\\Ziv\\miniconda3\\envs\\ml-pipeline\\Lib\\site-packages\\torch\\jit\\_trace.py:1303: TracerWarning: Output nr 1. of the traced function does not match the corresponding output of the Python function. Detailed error:\n",
      "Tensor-likes are not close!\n",
      "\n",
      "Mismatched elements: 759 / 760 (99.9%)\n",
      "Greatest absolute difference: 0.05332803726196289 at index (46, 2) (up to 1e-05 allowed)\n",
      "Greatest relative difference: 0.04120902580727355 at index (46, 2) (up to 1e-05 allowed)\n",
      "  _check_trace(\n"
     ]
    },
    {
     "name": "stdout",
     "output_type": "stream",
     "text": [
      "[I 2024-12-16 10:32:31,590] Trial 34 pruned. \n"
     ]
    },
    {
     "name": "stderr",
     "output_type": "stream",
     "text": [
      "c:\\Users\\Ziv\\miniconda3\\envs\\ml-pipeline\\Lib\\site-packages\\torch\\jit\\_trace.py:1303: TracerWarning: Output nr 1. of the traced function does not match the corresponding output of the Python function. Detailed error:\n",
      "Tensor-likes are not close!\n",
      "\n",
      "Mismatched elements: 644 / 644 (100.0%)\n",
      "Greatest absolute difference: 0.1726912260055542 at index (25, 2) (up to 1e-05 allowed)\n",
      "Greatest relative difference: 0.13783876799855524 at index (25, 2) (up to 1e-05 allowed)\n",
      "  _check_trace(\n"
     ]
    },
    {
     "name": "stdout",
     "output_type": "stream",
     "text": [
      "[I 2024-12-16 10:32:32,530] Trial 35 pruned. \n"
     ]
    },
    {
     "name": "stderr",
     "output_type": "stream",
     "text": [
      "c:\\Users\\Ziv\\miniconda3\\envs\\ml-pipeline\\Lib\\site-packages\\torch\\jit\\_trace.py:1303: TracerWarning: Output nr 1. of the traced function does not match the corresponding output of the Python function. Detailed error:\n",
      "Tensor-likes are not close!\n",
      "\n",
      "Mismatched elements: 563 / 564 (99.8%)\n",
      "Greatest absolute difference: 0.018375277519226074 at index (103, 1) (up to 1e-05 allowed)\n",
      "Greatest relative difference: 0.013261318290360074 at index (135, 3) (up to 1e-05 allowed)\n",
      "  _check_trace(\n"
     ]
    },
    {
     "name": "stdout",
     "output_type": "stream",
     "text": [
      "[I 2024-12-16 10:32:33,512] Trial 36 pruned. \n"
     ]
    },
    {
     "name": "stderr",
     "output_type": "stream",
     "text": [
      "c:\\Users\\Ziv\\miniconda3\\envs\\ml-pipeline\\Lib\\site-packages\\torch\\jit\\_trace.py:1303: TracerWarning: Output nr 1. of the traced function does not match the corresponding output of the Python function. Detailed error:\n",
      "Tensor-likes are not close!\n",
      "\n",
      "Mismatched elements: 871 / 872 (99.9%)\n",
      "Greatest absolute difference: 0.05314326286315918 at index (99, 3) (up to 1e-05 allowed)\n",
      "Greatest relative difference: 0.03991211059554006 at index (99, 3) (up to 1e-05 allowed)\n",
      "  _check_trace(\n"
     ]
    },
    {
     "name": "stdout",
     "output_type": "stream",
     "text": [
      "[I 2024-12-16 10:32:34,459] Trial 37 pruned. \n"
     ]
    },
    {
     "name": "stderr",
     "output_type": "stream",
     "text": [
      "c:\\Users\\Ziv\\miniconda3\\envs\\ml-pipeline\\Lib\\site-packages\\torch\\jit\\_trace.py:1303: TracerWarning: Output nr 1. of the traced function does not match the corresponding output of the Python function. Detailed error:\n",
      "Tensor-likes are not close!\n",
      "\n",
      "Mismatched elements: 604 / 604 (100.0%)\n",
      "Greatest absolute difference: 0.15196073055267334 at index (75, 3) (up to 1e-05 allowed)\n",
      "Greatest relative difference: 0.12323562689605369 at index (129, 2) (up to 1e-05 allowed)\n",
      "  _check_trace(\n"
     ]
    },
    {
     "name": "stdout",
     "output_type": "stream",
     "text": [
      "[I 2024-12-16 10:32:35,398] Trial 38 pruned. \n"
     ]
    },
    {
     "name": "stderr",
     "output_type": "stream",
     "text": [
      "c:\\Users\\Ziv\\miniconda3\\envs\\ml-pipeline\\Lib\\site-packages\\torch\\jit\\_trace.py:1303: TracerWarning: Output nr 1. of the traced function does not match the corresponding output of the Python function. Detailed error:\n",
      "Tensor-likes are not close!\n",
      "\n",
      "Mismatched elements: 674 / 676 (99.7%)\n",
      "Greatest absolute difference: 0.06466794013977051 at index (105, 0) (up to 1e-05 allowed)\n",
      "Greatest relative difference: 0.047921680648395075 at index (105, 0) (up to 1e-05 allowed)\n",
      "  _check_trace(\n"
     ]
    },
    {
     "name": "stdout",
     "output_type": "stream",
     "text": [
      "[I 2024-12-16 10:33:43,186] Trial 39 finished with value: 0.006654753815382719 and parameters: {'lr': 0.009920852848966152, 'weight_decay': 0.20279278515425006, 'beta1': 0.9320966455962626, 'beta2': 0.7895481420947481, 'momentum': 0.07398323911992821, 'dampening': 0.31514189785754415, 'optimizer_idx': 0, 'scheduler_gamma': 0.9494864343098268, 'epochs': 105, 'batch_size': 169, 'loss_idx': 1, 'relu_slope': 0.02542745499834341, 'num_blocks': 3}. Best is trial 39 with value: 0.006654753815382719.\n"
     ]
    },
    {
     "name": "stderr",
     "output_type": "stream",
     "text": [
      "c:\\Users\\Ziv\\miniconda3\\envs\\ml-pipeline\\Lib\\site-packages\\torch\\jit\\_trace.py:1303: TracerWarning: Output nr 1. of the traced function does not match the corresponding output of the Python function. Detailed error:\n",
      "Tensor-likes are not close!\n",
      "\n",
      "Mismatched elements: 663 / 664 (99.8%)\n",
      "Greatest absolute difference: 0.15038001537322998 at index (66, 2) (up to 1e-05 allowed)\n",
      "Greatest relative difference: 0.10555946569536395 at index (66, 2) (up to 1e-05 allowed)\n",
      "  _check_trace(\n"
     ]
    },
    {
     "name": "stdout",
     "output_type": "stream",
     "text": [
      "[I 2024-12-16 10:33:44,101] Trial 40 pruned. \n"
     ]
    },
    {
     "name": "stderr",
     "output_type": "stream",
     "text": [
      "c:\\Users\\Ziv\\miniconda3\\envs\\ml-pipeline\\Lib\\site-packages\\torch\\jit\\_trace.py:1303: TracerWarning: Output nr 1. of the traced function does not match the corresponding output of the Python function. Detailed error:\n",
      "Tensor-likes are not close!\n",
      "\n",
      "Mismatched elements: 758 / 760 (99.7%)\n",
      "Greatest absolute difference: 0.07123255729675293 at index (164, 0) (up to 1e-05 allowed)\n",
      "Greatest relative difference: 0.054554469835885494 at index (74, 1) (up to 1e-05 allowed)\n",
      "  _check_trace(\n"
     ]
    },
    {
     "name": "stdout",
     "output_type": "stream",
     "text": [
      "[I 2024-12-16 10:34:26,566] Trial 41 pruned. \n"
     ]
    },
    {
     "name": "stderr",
     "output_type": "stream",
     "text": [
      "c:\\Users\\Ziv\\miniconda3\\envs\\ml-pipeline\\Lib\\site-packages\\torch\\jit\\_trace.py:1303: TracerWarning: Output nr 1. of the traced function does not match the corresponding output of the Python function. Detailed error:\n",
      "Tensor-likes are not close!\n",
      "\n",
      "Mismatched elements: 688 / 688 (100.0%)\n",
      "Greatest absolute difference: 0.0656583309173584 at index (138, 0) (up to 1e-05 allowed)\n",
      "Greatest relative difference: 0.045489954716689415 at index (138, 0) (up to 1e-05 allowed)\n",
      "  _check_trace(\n"
     ]
    },
    {
     "name": "stdout",
     "output_type": "stream",
     "text": [
      "[I 2024-12-16 10:35:39,989] Trial 42 finished with value: 0.0039237625896930695 and parameters: {'lr': 0.006692685316384107, 'weight_decay': 0.1859960046899889, 'beta1': 0.935333547084636, 'beta2': 0.78428474807859, 'momentum': 0.04838448701197648, 'dampening': 0.36113563277500815, 'optimizer_idx': 0, 'scheduler_gamma': 0.9608530365996862, 'epochs': 111, 'batch_size': 172, 'loss_idx': 1, 'relu_slope': 0.0073904904610118324, 'num_blocks': 3}. Best is trial 42 with value: 0.0039237625896930695.\n"
     ]
    },
    {
     "name": "stderr",
     "output_type": "stream",
     "text": [
      "c:\\Users\\Ziv\\miniconda3\\envs\\ml-pipeline\\Lib\\site-packages\\torch\\jit\\_trace.py:1303: TracerWarning: Output nr 1. of the traced function does not match the corresponding output of the Python function. Detailed error:\n",
      "Tensor-likes are not close!\n",
      "\n",
      "Mismatched elements: 592 / 592 (100.0%)\n",
      "Greatest absolute difference: 0.07298815250396729 at index (5, 0) (up to 1e-05 allowed)\n",
      "Greatest relative difference: 0.04979323335634039 at index (5, 0) (up to 1e-05 allowed)\n",
      "  _check_trace(\n"
     ]
    },
    {
     "name": "stdout",
     "output_type": "stream",
     "text": [
      "[I 2024-12-16 10:36:53,636] Trial 43 finished with value: 0.005112630780786276 and parameters: {'lr': 0.005778249860259751, 'weight_decay': 0.18288402563336723, 'beta1': 0.9381672204539326, 'beta2': 0.7185408022027012, 'momentum': 0.07417897953447612, 'dampening': 0.3623044393801933, 'optimizer_idx': 0, 'scheduler_gamma': 0.9637821769298227, 'epochs': 111, 'batch_size': 148, 'loss_idx': 1, 'relu_slope': 0.006636865632067956, 'num_blocks': 3}. Best is trial 42 with value: 0.0039237625896930695.\n"
     ]
    },
    {
     "name": "stderr",
     "output_type": "stream",
     "text": [
      "c:\\Users\\Ziv\\miniconda3\\envs\\ml-pipeline\\Lib\\site-packages\\torch\\jit\\_trace.py:1303: TracerWarning: Output nr 1. of the traced function does not match the corresponding output of the Python function. Detailed error:\n",
      "Tensor-likes are not close!\n",
      "\n",
      "Mismatched elements: 596 / 596 (100.0%)\n",
      "Greatest absolute difference: 0.05539405345916748 at index (110, 0) (up to 1e-05 allowed)\n",
      "Greatest relative difference: 0.03924268581073378 at index (110, 0) (up to 1e-05 allowed)\n",
      "  _check_trace(\n"
     ]
    },
    {
     "name": "stdout",
     "output_type": "stream",
     "text": [
      "[I 2024-12-16 10:38:04,700] Trial 44 finished with value: 0.004454635549336672 and parameters: {'lr': 0.005758480086464695, 'weight_decay': 0.1839191516374754, 'beta1': 0.9287551965518753, 'beta2': 0.6978187903054467, 'momentum': 0.010069994778542646, 'dampening': 0.38158233297456645, 'optimizer_idx': 0, 'scheduler_gamma': 0.9445489606005435, 'epochs': 109, 'batch_size': 149, 'loss_idx': 1, 'relu_slope': 0.005935906834287363, 'num_blocks': 3}. Best is trial 42 with value: 0.0039237625896930695.\n"
     ]
    },
    {
     "name": "stderr",
     "output_type": "stream",
     "text": [
      "c:\\Users\\Ziv\\miniconda3\\envs\\ml-pipeline\\Lib\\site-packages\\torch\\jit\\_trace.py:1303: TracerWarning: Output nr 1. of the traced function does not match the corresponding output of the Python function. Detailed error:\n",
      "Tensor-likes are not close!\n",
      "\n",
      "Mismatched elements: 600 / 600 (100.0%)\n",
      "Greatest absolute difference: 0.05653846263885498 at index (145, 2) (up to 1e-05 allowed)\n",
      "Greatest relative difference: 0.04075006465482059 at index (145, 2) (up to 1e-05 allowed)\n",
      "  _check_trace(\n"
     ]
    },
    {
     "name": "stdout",
     "output_type": "stream",
     "text": [
      "[I 2024-12-16 10:39:17,418] Trial 45 finished with value: 0.0048816632479429245 and parameters: {'lr': 0.006514801531001456, 'weight_decay': 0.15476409173047007, 'beta1': 0.9299992028178414, 'beta2': 0.7026641193600932, 'momentum': 0.0018816632757324564, 'dampening': 0.3833933225864155, 'optimizer_idx': 0, 'scheduler_gamma': 0.9645614533439604, 'epochs': 112, 'batch_size': 150, 'loss_idx': 1, 'relu_slope': 0.005409917499641093, 'num_blocks': 3}. Best is trial 42 with value: 0.0039237625896930695.\n"
     ]
    },
    {
     "name": "stderr",
     "output_type": "stream",
     "text": [
      "c:\\Users\\Ziv\\miniconda3\\envs\\ml-pipeline\\Lib\\site-packages\\torch\\jit\\_trace.py:1303: TracerWarning: Output nr 1. of the traced function does not match the corresponding output of the Python function. Detailed error:\n",
      "Tensor-likes are not close!\n",
      "\n",
      "Mismatched elements: 592 / 592 (100.0%)\n",
      "Greatest absolute difference: 0.16272568702697754 at index (32, 1) (up to 1e-05 allowed)\n",
      "Greatest relative difference: 0.10820849971034308 at index (32, 1) (up to 1e-05 allowed)\n",
      "  _check_trace(\n"
     ]
    },
    {
     "name": "stdout",
     "output_type": "stream",
     "text": [
      "[I 2024-12-16 10:39:23,057] Trial 46 pruned. \n"
     ]
    },
    {
     "name": "stderr",
     "output_type": "stream",
     "text": [
      "c:\\Users\\Ziv\\miniconda3\\envs\\ml-pipeline\\Lib\\site-packages\\torch\\jit\\_trace.py:1303: TracerWarning: Output nr 1. of the traced function does not match the corresponding output of the Python function. Detailed error:\n",
      "Tensor-likes are not close!\n",
      "\n",
      "Mismatched elements: 508 / 508 (100.0%)\n",
      "Greatest absolute difference: 0.0362318754196167 at index (26, 3) (up to 1e-05 allowed)\n",
      "Greatest relative difference: 0.028185391595970964 at index (26, 3) (up to 1e-05 allowed)\n",
      "  _check_trace(\n"
     ]
    },
    {
     "name": "stdout",
     "output_type": "stream",
     "text": [
      "[I 2024-12-16 10:40:44,733] Trial 47 finished with value: 0.004877071361988783 and parameters: {'lr': 0.0063272261872571465, 'weight_decay': 0.13160214903300532, 'beta1': 0.9121778071566138, 'beta2': 0.6681355950102102, 'momentum': 0.013723309601896057, 'dampening': 0.38625355767628494, 'optimizer_idx': 0, 'scheduler_gamma': 0.9390520799679726, 'epochs': 117, 'batch_size': 127, 'loss_idx': 1, 'relu_slope': 0.0002480734136314257, 'num_blocks': 4}. Best is trial 42 with value: 0.0039237625896930695.\n"
     ]
    },
    {
     "name": "stderr",
     "output_type": "stream",
     "text": [
      "c:\\Users\\Ziv\\miniconda3\\envs\\ml-pipeline\\Lib\\site-packages\\torch\\jit\\_trace.py:1303: TracerWarning: Output nr 1. of the traced function does not match the corresponding output of the Python function. Detailed error:\n",
      "Tensor-likes are not close!\n",
      "\n",
      "Mismatched elements: 490 / 492 (99.6%)\n",
      "Greatest absolute difference: 0.02047109603881836 at index (48, 2) (up to 1e-05 allowed)\n",
      "Greatest relative difference: 0.015646021117809827 at index (48, 2) (up to 1e-05 allowed)\n",
      "  _check_trace(\n"
     ]
    },
    {
     "name": "stdout",
     "output_type": "stream",
     "text": [
      "[I 2024-12-16 10:42:07,721] Trial 48 finished with value: 0.005346468649804592 and parameters: {'lr': 0.006106469440973853, 'weight_decay': 0.11105463304732896, 'beta1': 0.9133158771677307, 'beta2': 0.6646438388247974, 'momentum': 0.0033406219864321185, 'dampening': 0.4672477304418266, 'optimizer_idx': 0, 'scheduler_gamma': 0.9370569007559398, 'epochs': 117, 'batch_size': 123, 'loss_idx': 1, 'relu_slope': 0.00034037807272805417, 'num_blocks': 4}. Best is trial 42 with value: 0.0039237625896930695.\n"
     ]
    },
    {
     "name": "stderr",
     "output_type": "stream",
     "text": [
      "c:\\Users\\Ziv\\miniconda3\\envs\\ml-pipeline\\Lib\\site-packages\\torch\\jit\\_trace.py:1303: TracerWarning: Output nr 1. of the traced function does not match the corresponding output of the Python function. Detailed error:\n",
      "Tensor-likes are not close!\n",
      "\n",
      "Mismatched elements: 426 / 428 (99.5%)\n",
      "Greatest absolute difference: 0.02756679058074951 at index (55, 0) (up to 1e-05 allowed)\n",
      "Greatest relative difference: 0.02009400553932663 at index (55, 0) (up to 1e-05 allowed)\n",
      "  _check_trace(\n"
     ]
    },
    {
     "name": "stdout",
     "output_type": "stream",
     "text": [
      "[I 2024-12-16 10:42:09,457] Trial 49 pruned. \n"
     ]
    }
   ],
   "source": [
    "is_multi_objective = False\n",
    "n_trials = 50\n",
    "study = optimize(is_multi_objective=is_multi_objective, n_trials=n_trials)"
   ]
  },
  {
   "cell_type": "code",
   "execution_count": 28,
   "metadata": {},
   "outputs": [],
   "source": [
    "study_id = report_study_best_loss_value(dataset_size=alzheimer_dataset.X.shape[0])"
   ]
  },
  {
   "cell_type": "code",
   "execution_count": 29,
   "metadata": {},
   "outputs": [],
   "source": [
    "import optuna.visualization as vis"
   ]
  },
  {
   "cell_type": "code",
   "execution_count": 30,
   "metadata": {},
   "outputs": [
    {
     "data": {
      "application/vnd.plotly.v1+json": {
       "config": {
        "plotlyServerURL": "https://plot.ly"
       },
       "data": [
        {
         "cliponaxis": false,
         "hovertemplate": [
          "loss_idx (IntDistribution): 3.053190983296865e-05<extra></extra>",
          "optimizer_idx (IntDistribution): 4.8735511336922044e-05<extra></extra>",
          "num_blocks (IntDistribution): 8.35049716480768e-05<extra></extra>",
          "scheduler_gamma (FloatDistribution): 0.00039685804741580613<extra></extra>",
          "beta1 (FloatDistribution): 0.0027614680813953687<extra></extra>",
          "epochs (IntDistribution): 0.008660404737218606<extra></extra>",
          "momentum (FloatDistribution): 0.00895694617922054<extra></extra>",
          "weight_decay (FloatDistribution): 0.014730372515119885<extra></extra>",
          "batch_size (IntDistribution): 0.01644001916457748<extra></extra>",
          "beta2 (FloatDistribution): 0.03272746498150615<extra></extra>",
          "relu_slope (FloatDistribution): 0.04937291448740419<extra></extra>",
          "dampening (FloatDistribution): 0.15332357219805756<extra></extra>",
          "lr (FloatDistribution): 0.7124672072152665<extra></extra>"
         ],
         "name": "Objective Value",
         "orientation": "h",
         "text": [
          "<0.01",
          "<0.01",
          "<0.01",
          "<0.01",
          "<0.01",
          "<0.01",
          "<0.01",
          "0.01",
          "0.02",
          "0.03",
          "0.05",
          "0.15",
          "0.71"
         ],
         "textposition": "outside",
         "type": "bar",
         "x": [
          0.00003053190983296865,
          0.000048735511336922044,
          0.0000835049716480768,
          0.00039685804741580613,
          0.0027614680813953687,
          0.008660404737218606,
          0.00895694617922054,
          0.014730372515119885,
          0.01644001916457748,
          0.03272746498150615,
          0.04937291448740419,
          0.15332357219805756,
          0.7124672072152665
         ],
         "y": [
          "loss_idx",
          "optimizer_idx",
          "num_blocks",
          "scheduler_gamma",
          "beta1",
          "epochs",
          "momentum",
          "weight_decay",
          "batch_size",
          "beta2",
          "relu_slope",
          "dampening",
          "lr"
         ]
        }
       ],
       "layout": {
        "template": {
         "data": {
          "bar": [
           {
            "error_x": {
             "color": "#2a3f5f"
            },
            "error_y": {
             "color": "#2a3f5f"
            },
            "marker": {
             "line": {
              "color": "#E5ECF6",
              "width": 0.5
             },
             "pattern": {
              "fillmode": "overlay",
              "size": 10,
              "solidity": 0.2
             }
            },
            "type": "bar"
           }
          ],
          "barpolar": [
           {
            "marker": {
             "line": {
              "color": "#E5ECF6",
              "width": 0.5
             },
             "pattern": {
              "fillmode": "overlay",
              "size": 10,
              "solidity": 0.2
             }
            },
            "type": "barpolar"
           }
          ],
          "carpet": [
           {
            "aaxis": {
             "endlinecolor": "#2a3f5f",
             "gridcolor": "white",
             "linecolor": "white",
             "minorgridcolor": "white",
             "startlinecolor": "#2a3f5f"
            },
            "baxis": {
             "endlinecolor": "#2a3f5f",
             "gridcolor": "white",
             "linecolor": "white",
             "minorgridcolor": "white",
             "startlinecolor": "#2a3f5f"
            },
            "type": "carpet"
           }
          ],
          "choropleth": [
           {
            "colorbar": {
             "outlinewidth": 0,
             "ticks": ""
            },
            "type": "choropleth"
           }
          ],
          "contour": [
           {
            "colorbar": {
             "outlinewidth": 0,
             "ticks": ""
            },
            "colorscale": [
             [
              0,
              "#0d0887"
             ],
             [
              0.1111111111111111,
              "#46039f"
             ],
             [
              0.2222222222222222,
              "#7201a8"
             ],
             [
              0.3333333333333333,
              "#9c179e"
             ],
             [
              0.4444444444444444,
              "#bd3786"
             ],
             [
              0.5555555555555556,
              "#d8576b"
             ],
             [
              0.6666666666666666,
              "#ed7953"
             ],
             [
              0.7777777777777778,
              "#fb9f3a"
             ],
             [
              0.8888888888888888,
              "#fdca26"
             ],
             [
              1,
              "#f0f921"
             ]
            ],
            "type": "contour"
           }
          ],
          "contourcarpet": [
           {
            "colorbar": {
             "outlinewidth": 0,
             "ticks": ""
            },
            "type": "contourcarpet"
           }
          ],
          "heatmap": [
           {
            "colorbar": {
             "outlinewidth": 0,
             "ticks": ""
            },
            "colorscale": [
             [
              0,
              "#0d0887"
             ],
             [
              0.1111111111111111,
              "#46039f"
             ],
             [
              0.2222222222222222,
              "#7201a8"
             ],
             [
              0.3333333333333333,
              "#9c179e"
             ],
             [
              0.4444444444444444,
              "#bd3786"
             ],
             [
              0.5555555555555556,
              "#d8576b"
             ],
             [
              0.6666666666666666,
              "#ed7953"
             ],
             [
              0.7777777777777778,
              "#fb9f3a"
             ],
             [
              0.8888888888888888,
              "#fdca26"
             ],
             [
              1,
              "#f0f921"
             ]
            ],
            "type": "heatmap"
           }
          ],
          "heatmapgl": [
           {
            "colorbar": {
             "outlinewidth": 0,
             "ticks": ""
            },
            "colorscale": [
             [
              0,
              "#0d0887"
             ],
             [
              0.1111111111111111,
              "#46039f"
             ],
             [
              0.2222222222222222,
              "#7201a8"
             ],
             [
              0.3333333333333333,
              "#9c179e"
             ],
             [
              0.4444444444444444,
              "#bd3786"
             ],
             [
              0.5555555555555556,
              "#d8576b"
             ],
             [
              0.6666666666666666,
              "#ed7953"
             ],
             [
              0.7777777777777778,
              "#fb9f3a"
             ],
             [
              0.8888888888888888,
              "#fdca26"
             ],
             [
              1,
              "#f0f921"
             ]
            ],
            "type": "heatmapgl"
           }
          ],
          "histogram": [
           {
            "marker": {
             "pattern": {
              "fillmode": "overlay",
              "size": 10,
              "solidity": 0.2
             }
            },
            "type": "histogram"
           }
          ],
          "histogram2d": [
           {
            "colorbar": {
             "outlinewidth": 0,
             "ticks": ""
            },
            "colorscale": [
             [
              0,
              "#0d0887"
             ],
             [
              0.1111111111111111,
              "#46039f"
             ],
             [
              0.2222222222222222,
              "#7201a8"
             ],
             [
              0.3333333333333333,
              "#9c179e"
             ],
             [
              0.4444444444444444,
              "#bd3786"
             ],
             [
              0.5555555555555556,
              "#d8576b"
             ],
             [
              0.6666666666666666,
              "#ed7953"
             ],
             [
              0.7777777777777778,
              "#fb9f3a"
             ],
             [
              0.8888888888888888,
              "#fdca26"
             ],
             [
              1,
              "#f0f921"
             ]
            ],
            "type": "histogram2d"
           }
          ],
          "histogram2dcontour": [
           {
            "colorbar": {
             "outlinewidth": 0,
             "ticks": ""
            },
            "colorscale": [
             [
              0,
              "#0d0887"
             ],
             [
              0.1111111111111111,
              "#46039f"
             ],
             [
              0.2222222222222222,
              "#7201a8"
             ],
             [
              0.3333333333333333,
              "#9c179e"
             ],
             [
              0.4444444444444444,
              "#bd3786"
             ],
             [
              0.5555555555555556,
              "#d8576b"
             ],
             [
              0.6666666666666666,
              "#ed7953"
             ],
             [
              0.7777777777777778,
              "#fb9f3a"
             ],
             [
              0.8888888888888888,
              "#fdca26"
             ],
             [
              1,
              "#f0f921"
             ]
            ],
            "type": "histogram2dcontour"
           }
          ],
          "mesh3d": [
           {
            "colorbar": {
             "outlinewidth": 0,
             "ticks": ""
            },
            "type": "mesh3d"
           }
          ],
          "parcoords": [
           {
            "line": {
             "colorbar": {
              "outlinewidth": 0,
              "ticks": ""
             }
            },
            "type": "parcoords"
           }
          ],
          "pie": [
           {
            "automargin": true,
            "type": "pie"
           }
          ],
          "scatter": [
           {
            "fillpattern": {
             "fillmode": "overlay",
             "size": 10,
             "solidity": 0.2
            },
            "type": "scatter"
           }
          ],
          "scatter3d": [
           {
            "line": {
             "colorbar": {
              "outlinewidth": 0,
              "ticks": ""
             }
            },
            "marker": {
             "colorbar": {
              "outlinewidth": 0,
              "ticks": ""
             }
            },
            "type": "scatter3d"
           }
          ],
          "scattercarpet": [
           {
            "marker": {
             "colorbar": {
              "outlinewidth": 0,
              "ticks": ""
             }
            },
            "type": "scattercarpet"
           }
          ],
          "scattergeo": [
           {
            "marker": {
             "colorbar": {
              "outlinewidth": 0,
              "ticks": ""
             }
            },
            "type": "scattergeo"
           }
          ],
          "scattergl": [
           {
            "marker": {
             "colorbar": {
              "outlinewidth": 0,
              "ticks": ""
             }
            },
            "type": "scattergl"
           }
          ],
          "scattermapbox": [
           {
            "marker": {
             "colorbar": {
              "outlinewidth": 0,
              "ticks": ""
             }
            },
            "type": "scattermapbox"
           }
          ],
          "scatterpolar": [
           {
            "marker": {
             "colorbar": {
              "outlinewidth": 0,
              "ticks": ""
             }
            },
            "type": "scatterpolar"
           }
          ],
          "scatterpolargl": [
           {
            "marker": {
             "colorbar": {
              "outlinewidth": 0,
              "ticks": ""
             }
            },
            "type": "scatterpolargl"
           }
          ],
          "scatterternary": [
           {
            "marker": {
             "colorbar": {
              "outlinewidth": 0,
              "ticks": ""
             }
            },
            "type": "scatterternary"
           }
          ],
          "surface": [
           {
            "colorbar": {
             "outlinewidth": 0,
             "ticks": ""
            },
            "colorscale": [
             [
              0,
              "#0d0887"
             ],
             [
              0.1111111111111111,
              "#46039f"
             ],
             [
              0.2222222222222222,
              "#7201a8"
             ],
             [
              0.3333333333333333,
              "#9c179e"
             ],
             [
              0.4444444444444444,
              "#bd3786"
             ],
             [
              0.5555555555555556,
              "#d8576b"
             ],
             [
              0.6666666666666666,
              "#ed7953"
             ],
             [
              0.7777777777777778,
              "#fb9f3a"
             ],
             [
              0.8888888888888888,
              "#fdca26"
             ],
             [
              1,
              "#f0f921"
             ]
            ],
            "type": "surface"
           }
          ],
          "table": [
           {
            "cells": {
             "fill": {
              "color": "#EBF0F8"
             },
             "line": {
              "color": "white"
             }
            },
            "header": {
             "fill": {
              "color": "#C8D4E3"
             },
             "line": {
              "color": "white"
             }
            },
            "type": "table"
           }
          ]
         },
         "layout": {
          "annotationdefaults": {
           "arrowcolor": "#2a3f5f",
           "arrowhead": 0,
           "arrowwidth": 1
          },
          "autotypenumbers": "strict",
          "coloraxis": {
           "colorbar": {
            "outlinewidth": 0,
            "ticks": ""
           }
          },
          "colorscale": {
           "diverging": [
            [
             0,
             "#8e0152"
            ],
            [
             0.1,
             "#c51b7d"
            ],
            [
             0.2,
             "#de77ae"
            ],
            [
             0.3,
             "#f1b6da"
            ],
            [
             0.4,
             "#fde0ef"
            ],
            [
             0.5,
             "#f7f7f7"
            ],
            [
             0.6,
             "#e6f5d0"
            ],
            [
             0.7,
             "#b8e186"
            ],
            [
             0.8,
             "#7fbc41"
            ],
            [
             0.9,
             "#4d9221"
            ],
            [
             1,
             "#276419"
            ]
           ],
           "sequential": [
            [
             0,
             "#0d0887"
            ],
            [
             0.1111111111111111,
             "#46039f"
            ],
            [
             0.2222222222222222,
             "#7201a8"
            ],
            [
             0.3333333333333333,
             "#9c179e"
            ],
            [
             0.4444444444444444,
             "#bd3786"
            ],
            [
             0.5555555555555556,
             "#d8576b"
            ],
            [
             0.6666666666666666,
             "#ed7953"
            ],
            [
             0.7777777777777778,
             "#fb9f3a"
            ],
            [
             0.8888888888888888,
             "#fdca26"
            ],
            [
             1,
             "#f0f921"
            ]
           ],
           "sequentialminus": [
            [
             0,
             "#0d0887"
            ],
            [
             0.1111111111111111,
             "#46039f"
            ],
            [
             0.2222222222222222,
             "#7201a8"
            ],
            [
             0.3333333333333333,
             "#9c179e"
            ],
            [
             0.4444444444444444,
             "#bd3786"
            ],
            [
             0.5555555555555556,
             "#d8576b"
            ],
            [
             0.6666666666666666,
             "#ed7953"
            ],
            [
             0.7777777777777778,
             "#fb9f3a"
            ],
            [
             0.8888888888888888,
             "#fdca26"
            ],
            [
             1,
             "#f0f921"
            ]
           ]
          },
          "colorway": [
           "#636efa",
           "#EF553B",
           "#00cc96",
           "#ab63fa",
           "#FFA15A",
           "#19d3f3",
           "#FF6692",
           "#B6E880",
           "#FF97FF",
           "#FECB52"
          ],
          "font": {
           "color": "#2a3f5f"
          },
          "geo": {
           "bgcolor": "white",
           "lakecolor": "white",
           "landcolor": "#E5ECF6",
           "showlakes": true,
           "showland": true,
           "subunitcolor": "white"
          },
          "hoverlabel": {
           "align": "left"
          },
          "hovermode": "closest",
          "mapbox": {
           "style": "light"
          },
          "paper_bgcolor": "white",
          "plot_bgcolor": "#E5ECF6",
          "polar": {
           "angularaxis": {
            "gridcolor": "white",
            "linecolor": "white",
            "ticks": ""
           },
           "bgcolor": "#E5ECF6",
           "radialaxis": {
            "gridcolor": "white",
            "linecolor": "white",
            "ticks": ""
           }
          },
          "scene": {
           "xaxis": {
            "backgroundcolor": "#E5ECF6",
            "gridcolor": "white",
            "gridwidth": 2,
            "linecolor": "white",
            "showbackground": true,
            "ticks": "",
            "zerolinecolor": "white"
           },
           "yaxis": {
            "backgroundcolor": "#E5ECF6",
            "gridcolor": "white",
            "gridwidth": 2,
            "linecolor": "white",
            "showbackground": true,
            "ticks": "",
            "zerolinecolor": "white"
           },
           "zaxis": {
            "backgroundcolor": "#E5ECF6",
            "gridcolor": "white",
            "gridwidth": 2,
            "linecolor": "white",
            "showbackground": true,
            "ticks": "",
            "zerolinecolor": "white"
           }
          },
          "shapedefaults": {
           "line": {
            "color": "#2a3f5f"
           }
          },
          "ternary": {
           "aaxis": {
            "gridcolor": "white",
            "linecolor": "white",
            "ticks": ""
           },
           "baxis": {
            "gridcolor": "white",
            "linecolor": "white",
            "ticks": ""
           },
           "bgcolor": "#E5ECF6",
           "caxis": {
            "gridcolor": "white",
            "linecolor": "white",
            "ticks": ""
           }
          },
          "title": {
           "x": 0.05
          },
          "xaxis": {
           "automargin": true,
           "gridcolor": "white",
           "linecolor": "white",
           "ticks": "",
           "title": {
            "standoff": 15
           },
           "zerolinecolor": "white",
           "zerolinewidth": 2
          },
          "yaxis": {
           "automargin": true,
           "gridcolor": "white",
           "linecolor": "white",
           "ticks": "",
           "title": {
            "standoff": 15
           },
           "zerolinecolor": "white",
           "zerolinewidth": 2
          }
         }
        },
        "title": {
         "text": "Hyperparameter Importances"
        },
        "xaxis": {
         "title": {
          "text": "Hyperparameter Importance"
         }
        },
        "yaxis": {
         "title": {
          "text": "Hyperparameter"
         }
        }
       }
      }
     },
     "metadata": {},
     "output_type": "display_data"
    }
   ],
   "source": [
    "vis.plot_param_importances(study)"
   ]
  },
  {
   "cell_type": "code",
   "execution_count": 31,
   "metadata": {},
   "outputs": [],
   "source": [
    "if is_multi_objective:\n",
    "    fig = vis.plot_optimization_history(study, target=lambda t: t.values[0], target_name='Loss')\n",
    "    fig.show()"
   ]
  },
  {
   "cell_type": "code",
   "execution_count": 32,
   "metadata": {},
   "outputs": [
    {
     "data": {
      "application/vnd.plotly.v1+json": {
       "config": {
        "plotlyServerURL": "https://plot.ly"
       },
       "data": [
        {
         "mode": "markers",
         "name": "Objective Value",
         "type": "scatter",
         "x": [
          0,
          1,
          2,
          3,
          4,
          7,
          9,
          12,
          13,
          14,
          15,
          18,
          21,
          23,
          24,
          25,
          26,
          27,
          31,
          33,
          39,
          42,
          43,
          44,
          45,
          47,
          48
         ],
         "y": [
          0.05814164876937866,
          0.6157715320587158,
          0.9070464372634888,
          0.521583616733551,
          0.775968611240387,
          0.5646856427192688,
          0.009352552704513073,
          0.09185585379600525,
          0.08986946940422058,
          0.07818207144737244,
          0.02424880675971508,
          0.027891917154192924,
          0.050683245062828064,
          0.007966095581650734,
          0.00878258515149355,
          0.028564926236867905,
          0.012986687943339348,
          0.022111155092716217,
          0.015133039094507694,
          0.023666663095355034,
          0.006654753815382719,
          0.0039237625896930695,
          0.005112630780786276,
          0.004454635549336672,
          0.0048816632479429245,
          0.004877071361988783,
          0.005346468649804592
         ]
        },
        {
         "mode": "lines",
         "name": "Best Value",
         "type": "scatter",
         "x": [
          0,
          1,
          2,
          3,
          4,
          5,
          6,
          7,
          8,
          9,
          10,
          11,
          12,
          13,
          14,
          15,
          16,
          17,
          18,
          19,
          20,
          21,
          22,
          23,
          24,
          25,
          26,
          27,
          28,
          29,
          30,
          31,
          32,
          33,
          34,
          35,
          36,
          37,
          38,
          39,
          40,
          41,
          42,
          43,
          44,
          45,
          46,
          47,
          48,
          49
         ],
         "y": [
          0.05814164876937866,
          0.05814164876937866,
          0.05814164876937866,
          0.05814164876937866,
          0.05814164876937866,
          0.05814164876937866,
          0.05814164876937866,
          0.05814164876937866,
          0.05814164876937866,
          0.009352552704513073,
          0.009352552704513073,
          0.009352552704513073,
          0.009352552704513073,
          0.009352552704513073,
          0.009352552704513073,
          0.009352552704513073,
          0.009352552704513073,
          0.009352552704513073,
          0.009352552704513073,
          0.009352552704513073,
          0.009352552704513073,
          0.009352552704513073,
          0.009352552704513073,
          0.007966095581650734,
          0.007966095581650734,
          0.007966095581650734,
          0.007966095581650734,
          0.007966095581650734,
          0.007966095581650734,
          0.007966095581650734,
          0.007966095581650734,
          0.007966095581650734,
          0.007966095581650734,
          0.007966095581650734,
          0.007966095581650734,
          0.007966095581650734,
          0.007966095581650734,
          0.007966095581650734,
          0.007966095581650734,
          0.006654753815382719,
          0.006654753815382719,
          0.006654753815382719,
          0.0039237625896930695,
          0.0039237625896930695,
          0.0039237625896930695,
          0.0039237625896930695,
          0.0039237625896930695,
          0.0039237625896930695,
          0.0039237625896930695,
          0.0039237625896930695
         ]
        },
        {
         "marker": {
          "color": "#cccccc"
         },
         "mode": "markers",
         "name": "Infeasible Trial",
         "showlegend": false,
         "type": "scatter",
         "x": [],
         "y": []
        }
       ],
       "layout": {
        "template": {
         "data": {
          "bar": [
           {
            "error_x": {
             "color": "#2a3f5f"
            },
            "error_y": {
             "color": "#2a3f5f"
            },
            "marker": {
             "line": {
              "color": "#E5ECF6",
              "width": 0.5
             },
             "pattern": {
              "fillmode": "overlay",
              "size": 10,
              "solidity": 0.2
             }
            },
            "type": "bar"
           }
          ],
          "barpolar": [
           {
            "marker": {
             "line": {
              "color": "#E5ECF6",
              "width": 0.5
             },
             "pattern": {
              "fillmode": "overlay",
              "size": 10,
              "solidity": 0.2
             }
            },
            "type": "barpolar"
           }
          ],
          "carpet": [
           {
            "aaxis": {
             "endlinecolor": "#2a3f5f",
             "gridcolor": "white",
             "linecolor": "white",
             "minorgridcolor": "white",
             "startlinecolor": "#2a3f5f"
            },
            "baxis": {
             "endlinecolor": "#2a3f5f",
             "gridcolor": "white",
             "linecolor": "white",
             "minorgridcolor": "white",
             "startlinecolor": "#2a3f5f"
            },
            "type": "carpet"
           }
          ],
          "choropleth": [
           {
            "colorbar": {
             "outlinewidth": 0,
             "ticks": ""
            },
            "type": "choropleth"
           }
          ],
          "contour": [
           {
            "colorbar": {
             "outlinewidth": 0,
             "ticks": ""
            },
            "colorscale": [
             [
              0,
              "#0d0887"
             ],
             [
              0.1111111111111111,
              "#46039f"
             ],
             [
              0.2222222222222222,
              "#7201a8"
             ],
             [
              0.3333333333333333,
              "#9c179e"
             ],
             [
              0.4444444444444444,
              "#bd3786"
             ],
             [
              0.5555555555555556,
              "#d8576b"
             ],
             [
              0.6666666666666666,
              "#ed7953"
             ],
             [
              0.7777777777777778,
              "#fb9f3a"
             ],
             [
              0.8888888888888888,
              "#fdca26"
             ],
             [
              1,
              "#f0f921"
             ]
            ],
            "type": "contour"
           }
          ],
          "contourcarpet": [
           {
            "colorbar": {
             "outlinewidth": 0,
             "ticks": ""
            },
            "type": "contourcarpet"
           }
          ],
          "heatmap": [
           {
            "colorbar": {
             "outlinewidth": 0,
             "ticks": ""
            },
            "colorscale": [
             [
              0,
              "#0d0887"
             ],
             [
              0.1111111111111111,
              "#46039f"
             ],
             [
              0.2222222222222222,
              "#7201a8"
             ],
             [
              0.3333333333333333,
              "#9c179e"
             ],
             [
              0.4444444444444444,
              "#bd3786"
             ],
             [
              0.5555555555555556,
              "#d8576b"
             ],
             [
              0.6666666666666666,
              "#ed7953"
             ],
             [
              0.7777777777777778,
              "#fb9f3a"
             ],
             [
              0.8888888888888888,
              "#fdca26"
             ],
             [
              1,
              "#f0f921"
             ]
            ],
            "type": "heatmap"
           }
          ],
          "heatmapgl": [
           {
            "colorbar": {
             "outlinewidth": 0,
             "ticks": ""
            },
            "colorscale": [
             [
              0,
              "#0d0887"
             ],
             [
              0.1111111111111111,
              "#46039f"
             ],
             [
              0.2222222222222222,
              "#7201a8"
             ],
             [
              0.3333333333333333,
              "#9c179e"
             ],
             [
              0.4444444444444444,
              "#bd3786"
             ],
             [
              0.5555555555555556,
              "#d8576b"
             ],
             [
              0.6666666666666666,
              "#ed7953"
             ],
             [
              0.7777777777777778,
              "#fb9f3a"
             ],
             [
              0.8888888888888888,
              "#fdca26"
             ],
             [
              1,
              "#f0f921"
             ]
            ],
            "type": "heatmapgl"
           }
          ],
          "histogram": [
           {
            "marker": {
             "pattern": {
              "fillmode": "overlay",
              "size": 10,
              "solidity": 0.2
             }
            },
            "type": "histogram"
           }
          ],
          "histogram2d": [
           {
            "colorbar": {
             "outlinewidth": 0,
             "ticks": ""
            },
            "colorscale": [
             [
              0,
              "#0d0887"
             ],
             [
              0.1111111111111111,
              "#46039f"
             ],
             [
              0.2222222222222222,
              "#7201a8"
             ],
             [
              0.3333333333333333,
              "#9c179e"
             ],
             [
              0.4444444444444444,
              "#bd3786"
             ],
             [
              0.5555555555555556,
              "#d8576b"
             ],
             [
              0.6666666666666666,
              "#ed7953"
             ],
             [
              0.7777777777777778,
              "#fb9f3a"
             ],
             [
              0.8888888888888888,
              "#fdca26"
             ],
             [
              1,
              "#f0f921"
             ]
            ],
            "type": "histogram2d"
           }
          ],
          "histogram2dcontour": [
           {
            "colorbar": {
             "outlinewidth": 0,
             "ticks": ""
            },
            "colorscale": [
             [
              0,
              "#0d0887"
             ],
             [
              0.1111111111111111,
              "#46039f"
             ],
             [
              0.2222222222222222,
              "#7201a8"
             ],
             [
              0.3333333333333333,
              "#9c179e"
             ],
             [
              0.4444444444444444,
              "#bd3786"
             ],
             [
              0.5555555555555556,
              "#d8576b"
             ],
             [
              0.6666666666666666,
              "#ed7953"
             ],
             [
              0.7777777777777778,
              "#fb9f3a"
             ],
             [
              0.8888888888888888,
              "#fdca26"
             ],
             [
              1,
              "#f0f921"
             ]
            ],
            "type": "histogram2dcontour"
           }
          ],
          "mesh3d": [
           {
            "colorbar": {
             "outlinewidth": 0,
             "ticks": ""
            },
            "type": "mesh3d"
           }
          ],
          "parcoords": [
           {
            "line": {
             "colorbar": {
              "outlinewidth": 0,
              "ticks": ""
             }
            },
            "type": "parcoords"
           }
          ],
          "pie": [
           {
            "automargin": true,
            "type": "pie"
           }
          ],
          "scatter": [
           {
            "fillpattern": {
             "fillmode": "overlay",
             "size": 10,
             "solidity": 0.2
            },
            "type": "scatter"
           }
          ],
          "scatter3d": [
           {
            "line": {
             "colorbar": {
              "outlinewidth": 0,
              "ticks": ""
             }
            },
            "marker": {
             "colorbar": {
              "outlinewidth": 0,
              "ticks": ""
             }
            },
            "type": "scatter3d"
           }
          ],
          "scattercarpet": [
           {
            "marker": {
             "colorbar": {
              "outlinewidth": 0,
              "ticks": ""
             }
            },
            "type": "scattercarpet"
           }
          ],
          "scattergeo": [
           {
            "marker": {
             "colorbar": {
              "outlinewidth": 0,
              "ticks": ""
             }
            },
            "type": "scattergeo"
           }
          ],
          "scattergl": [
           {
            "marker": {
             "colorbar": {
              "outlinewidth": 0,
              "ticks": ""
             }
            },
            "type": "scattergl"
           }
          ],
          "scattermapbox": [
           {
            "marker": {
             "colorbar": {
              "outlinewidth": 0,
              "ticks": ""
             }
            },
            "type": "scattermapbox"
           }
          ],
          "scatterpolar": [
           {
            "marker": {
             "colorbar": {
              "outlinewidth": 0,
              "ticks": ""
             }
            },
            "type": "scatterpolar"
           }
          ],
          "scatterpolargl": [
           {
            "marker": {
             "colorbar": {
              "outlinewidth": 0,
              "ticks": ""
             }
            },
            "type": "scatterpolargl"
           }
          ],
          "scatterternary": [
           {
            "marker": {
             "colorbar": {
              "outlinewidth": 0,
              "ticks": ""
             }
            },
            "type": "scatterternary"
           }
          ],
          "surface": [
           {
            "colorbar": {
             "outlinewidth": 0,
             "ticks": ""
            },
            "colorscale": [
             [
              0,
              "#0d0887"
             ],
             [
              0.1111111111111111,
              "#46039f"
             ],
             [
              0.2222222222222222,
              "#7201a8"
             ],
             [
              0.3333333333333333,
              "#9c179e"
             ],
             [
              0.4444444444444444,
              "#bd3786"
             ],
             [
              0.5555555555555556,
              "#d8576b"
             ],
             [
              0.6666666666666666,
              "#ed7953"
             ],
             [
              0.7777777777777778,
              "#fb9f3a"
             ],
             [
              0.8888888888888888,
              "#fdca26"
             ],
             [
              1,
              "#f0f921"
             ]
            ],
            "type": "surface"
           }
          ],
          "table": [
           {
            "cells": {
             "fill": {
              "color": "#EBF0F8"
             },
             "line": {
              "color": "white"
             }
            },
            "header": {
             "fill": {
              "color": "#C8D4E3"
             },
             "line": {
              "color": "white"
             }
            },
            "type": "table"
           }
          ]
         },
         "layout": {
          "annotationdefaults": {
           "arrowcolor": "#2a3f5f",
           "arrowhead": 0,
           "arrowwidth": 1
          },
          "autotypenumbers": "strict",
          "coloraxis": {
           "colorbar": {
            "outlinewidth": 0,
            "ticks": ""
           }
          },
          "colorscale": {
           "diverging": [
            [
             0,
             "#8e0152"
            ],
            [
             0.1,
             "#c51b7d"
            ],
            [
             0.2,
             "#de77ae"
            ],
            [
             0.3,
             "#f1b6da"
            ],
            [
             0.4,
             "#fde0ef"
            ],
            [
             0.5,
             "#f7f7f7"
            ],
            [
             0.6,
             "#e6f5d0"
            ],
            [
             0.7,
             "#b8e186"
            ],
            [
             0.8,
             "#7fbc41"
            ],
            [
             0.9,
             "#4d9221"
            ],
            [
             1,
             "#276419"
            ]
           ],
           "sequential": [
            [
             0,
             "#0d0887"
            ],
            [
             0.1111111111111111,
             "#46039f"
            ],
            [
             0.2222222222222222,
             "#7201a8"
            ],
            [
             0.3333333333333333,
             "#9c179e"
            ],
            [
             0.4444444444444444,
             "#bd3786"
            ],
            [
             0.5555555555555556,
             "#d8576b"
            ],
            [
             0.6666666666666666,
             "#ed7953"
            ],
            [
             0.7777777777777778,
             "#fb9f3a"
            ],
            [
             0.8888888888888888,
             "#fdca26"
            ],
            [
             1,
             "#f0f921"
            ]
           ],
           "sequentialminus": [
            [
             0,
             "#0d0887"
            ],
            [
             0.1111111111111111,
             "#46039f"
            ],
            [
             0.2222222222222222,
             "#7201a8"
            ],
            [
             0.3333333333333333,
             "#9c179e"
            ],
            [
             0.4444444444444444,
             "#bd3786"
            ],
            [
             0.5555555555555556,
             "#d8576b"
            ],
            [
             0.6666666666666666,
             "#ed7953"
            ],
            [
             0.7777777777777778,
             "#fb9f3a"
            ],
            [
             0.8888888888888888,
             "#fdca26"
            ],
            [
             1,
             "#f0f921"
            ]
           ]
          },
          "colorway": [
           "#636efa",
           "#EF553B",
           "#00cc96",
           "#ab63fa",
           "#FFA15A",
           "#19d3f3",
           "#FF6692",
           "#B6E880",
           "#FF97FF",
           "#FECB52"
          ],
          "font": {
           "color": "#2a3f5f"
          },
          "geo": {
           "bgcolor": "white",
           "lakecolor": "white",
           "landcolor": "#E5ECF6",
           "showlakes": true,
           "showland": true,
           "subunitcolor": "white"
          },
          "hoverlabel": {
           "align": "left"
          },
          "hovermode": "closest",
          "mapbox": {
           "style": "light"
          },
          "paper_bgcolor": "white",
          "plot_bgcolor": "#E5ECF6",
          "polar": {
           "angularaxis": {
            "gridcolor": "white",
            "linecolor": "white",
            "ticks": ""
           },
           "bgcolor": "#E5ECF6",
           "radialaxis": {
            "gridcolor": "white",
            "linecolor": "white",
            "ticks": ""
           }
          },
          "scene": {
           "xaxis": {
            "backgroundcolor": "#E5ECF6",
            "gridcolor": "white",
            "gridwidth": 2,
            "linecolor": "white",
            "showbackground": true,
            "ticks": "",
            "zerolinecolor": "white"
           },
           "yaxis": {
            "backgroundcolor": "#E5ECF6",
            "gridcolor": "white",
            "gridwidth": 2,
            "linecolor": "white",
            "showbackground": true,
            "ticks": "",
            "zerolinecolor": "white"
           },
           "zaxis": {
            "backgroundcolor": "#E5ECF6",
            "gridcolor": "white",
            "gridwidth": 2,
            "linecolor": "white",
            "showbackground": true,
            "ticks": "",
            "zerolinecolor": "white"
           }
          },
          "shapedefaults": {
           "line": {
            "color": "#2a3f5f"
           }
          },
          "ternary": {
           "aaxis": {
            "gridcolor": "white",
            "linecolor": "white",
            "ticks": ""
           },
           "baxis": {
            "gridcolor": "white",
            "linecolor": "white",
            "ticks": ""
           },
           "bgcolor": "#E5ECF6",
           "caxis": {
            "gridcolor": "white",
            "linecolor": "white",
            "ticks": ""
           }
          },
          "title": {
           "x": 0.05
          },
          "xaxis": {
           "automargin": true,
           "gridcolor": "white",
           "linecolor": "white",
           "ticks": "",
           "title": {
            "standoff": 15
           },
           "zerolinecolor": "white",
           "zerolinewidth": 2
          },
          "yaxis": {
           "automargin": true,
           "gridcolor": "white",
           "linecolor": "white",
           "ticks": "",
           "title": {
            "standoff": 15
           },
           "zerolinecolor": "white",
           "zerolinewidth": 2
          }
         }
        },
        "title": {
         "text": "Optimization History Plot"
        },
        "xaxis": {
         "title": {
          "text": "Trial"
         }
        },
        "yaxis": {
         "title": {
          "text": "Objective Value"
         }
        }
       }
      }
     },
     "metadata": {},
     "output_type": "display_data"
    }
   ],
   "source": [
    "if is_multi_objective:\n",
    "    fig = vis.plot_optimization_history(study, target=lambda t: t.values[1], target_name='Accuracy')\n",
    "else:\n",
    "    fig = vis.plot_optimization_history(study)\n",
    "fig.show()"
   ]
  },
  {
   "cell_type": "code",
   "execution_count": 33,
   "metadata": {},
   "outputs": [],
   "source": [
    "if is_multi_objective:\n",
    "    fig = vis.plot_slice(study, target=lambda t: t.values[0], target_name='Loss')\n",
    "    fig.show()"
   ]
  },
  {
   "cell_type": "code",
   "execution_count": 34,
   "metadata": {},
   "outputs": [
    {
     "data": {
      "application/vnd.plotly.v1+json": {
       "config": {
        "plotlyServerURL": "https://plot.ly"
       },
       "data": [
        {
         "marker": {
          "color": [
           0,
           1,
           2,
           3,
           4,
           7,
           9,
           12,
           13,
           14,
           15,
           18,
           21,
           23,
           24,
           25,
           26,
           27,
           31,
           33,
           39,
           42,
           43,
           44,
           45,
           47,
           48
          ],
          "colorbar": {
           "title": {
            "text": "Trial"
           },
           "x": 1,
           "xpad": 40
          },
          "colorscale": [
           [
            0,
            "rgb(247,251,255)"
           ],
           [
            0.125,
            "rgb(222,235,247)"
           ],
           [
            0.25,
            "rgb(198,219,239)"
           ],
           [
            0.375,
            "rgb(158,202,225)"
           ],
           [
            0.5,
            "rgb(107,174,214)"
           ],
           [
            0.625,
            "rgb(66,146,198)"
           ],
           [
            0.75,
            "rgb(33,113,181)"
           ],
           [
            0.875,
            "rgb(8,81,156)"
           ],
           [
            1,
            "rgb(8,48,107)"
           ]
          ],
          "line": {
           "color": "Grey",
           "width": 0.5
          },
          "showscale": true
         },
         "mode": "markers",
         "name": "Feasible Trial",
         "showlegend": false,
         "type": "scatter",
         "x": [
          48,
          251,
          234,
          255,
          159,
          83,
          53,
          33,
          96,
          179,
          39,
          200,
          203,
          165,
          164,
          160,
          175,
          150,
          179,
          128,
          169,
          172,
          148,
          149,
          150,
          127,
          123
         ],
         "xaxis": "x",
         "y": [
          0.05814164876937866,
          0.6157715320587158,
          0.9070464372634888,
          0.521583616733551,
          0.775968611240387,
          0.5646856427192688,
          0.009352552704513073,
          0.09185585379600525,
          0.08986946940422058,
          0.07818207144737244,
          0.02424880675971508,
          0.027891917154192924,
          0.050683245062828064,
          0.007966095581650734,
          0.00878258515149355,
          0.028564926236867905,
          0.012986687943339348,
          0.022111155092716217,
          0.015133039094507694,
          0.023666663095355034,
          0.006654753815382719,
          0.0039237625896930695,
          0.005112630780786276,
          0.004454635549336672,
          0.0048816632479429245,
          0.004877071361988783,
          0.005346468649804592
         ],
         "yaxis": "y"
        },
        {
         "marker": {
          "color": [
           0,
           1,
           2,
           3,
           4,
           7,
           9,
           12,
           13,
           14,
           15,
           18,
           21,
           23,
           24,
           25,
           26,
           27,
           31,
           33,
           39,
           42,
           43,
           44,
           45,
           47,
           48
          ],
          "colorbar": {
           "title": {
            "text": "Trial"
           },
           "x": 1,
           "xpad": 40
          },
          "colorscale": [
           [
            0,
            "rgb(247,251,255)"
           ],
           [
            0.125,
            "rgb(222,235,247)"
           ],
           [
            0.25,
            "rgb(198,219,239)"
           ],
           [
            0.375,
            "rgb(158,202,225)"
           ],
           [
            0.5,
            "rgb(107,174,214)"
           ],
           [
            0.625,
            "rgb(66,146,198)"
           ],
           [
            0.75,
            "rgb(33,113,181)"
           ],
           [
            0.875,
            "rgb(8,81,156)"
           ],
           [
            1,
            "rgb(8,48,107)"
           ]
          ],
          "line": {
           "color": "Grey",
           "width": 0.5
          },
          "showscale": false
         },
         "mode": "markers",
         "name": "Feasible Trial",
         "showlegend": false,
         "type": "scatter",
         "x": [
          0.8359912550332532,
          0.921300931335223,
          0.9293971288644326,
          0.9200403055351045,
          0.8616459010456193,
          0.908574827097376,
          0.9845205217917045,
          0.8804359219003356,
          0.9599838285518243,
          0.8018869142421673,
          0.8464696794492337,
          0.9568567448101964,
          0.9609572559836079,
          0.9925846770169967,
          0.9962203347605068,
          0.9981095804160695,
          0.9789863332292489,
          0.9818278342517995,
          0.9863142020775468,
          0.9903635649739893,
          0.9320966455962626,
          0.935333547084636,
          0.9381672204539326,
          0.9287551965518753,
          0.9299992028178414,
          0.9121778071566138,
          0.9133158771677307
         ],
         "xaxis": "x2",
         "y": [
          0.05814164876937866,
          0.6157715320587158,
          0.9070464372634888,
          0.521583616733551,
          0.775968611240387,
          0.5646856427192688,
          0.009352552704513073,
          0.09185585379600525,
          0.08986946940422058,
          0.07818207144737244,
          0.02424880675971508,
          0.027891917154192924,
          0.050683245062828064,
          0.007966095581650734,
          0.00878258515149355,
          0.028564926236867905,
          0.012986687943339348,
          0.022111155092716217,
          0.015133039094507694,
          0.023666663095355034,
          0.006654753815382719,
          0.0039237625896930695,
          0.005112630780786276,
          0.004454635549336672,
          0.0048816632479429245,
          0.004877071361988783,
          0.005346468649804592
         ],
         "yaxis": "y2"
        },
        {
         "marker": {
          "color": [
           0,
           1,
           2,
           3,
           4,
           7,
           9,
           12,
           13,
           14,
           15,
           18,
           21,
           23,
           24,
           25,
           26,
           27,
           31,
           33,
           39,
           42,
           43,
           44,
           45,
           47,
           48
          ],
          "colorbar": {
           "title": {
            "text": "Trial"
           },
           "x": 1,
           "xpad": 40
          },
          "colorscale": [
           [
            0,
            "rgb(247,251,255)"
           ],
           [
            0.125,
            "rgb(222,235,247)"
           ],
           [
            0.25,
            "rgb(198,219,239)"
           ],
           [
            0.375,
            "rgb(158,202,225)"
           ],
           [
            0.5,
            "rgb(107,174,214)"
           ],
           [
            0.625,
            "rgb(66,146,198)"
           ],
           [
            0.75,
            "rgb(33,113,181)"
           ],
           [
            0.875,
            "rgb(8,81,156)"
           ],
           [
            1,
            "rgb(8,48,107)"
           ]
          ],
          "line": {
           "color": "Grey",
           "width": 0.5
          },
          "showscale": false
         },
         "mode": "markers",
         "name": "Feasible Trial",
         "showlegend": false,
         "type": "scatter",
         "x": [
          0.6236940569595526,
          0.510130451831242,
          0.9292570110098592,
          0.5769374940580068,
          0.9226744381769505,
          0.5890905842227375,
          0.5172377188022288,
          0.5008613405309434,
          0.6062487591357854,
          0.6870666136752196,
          0.5502827191958379,
          0.841897807005185,
          0.8325524502157454,
          0.8304403737542916,
          0.8016582269690384,
          0.7923250312128737,
          0.8836312892077718,
          0.7350394315945111,
          0.8855509764065401,
          0.8065178633132553,
          0.7895481420947481,
          0.78428474807859,
          0.7185408022027012,
          0.6978187903054467,
          0.7026641193600932,
          0.6681355950102102,
          0.6646438388247974
         ],
         "xaxis": "x3",
         "y": [
          0.05814164876937866,
          0.6157715320587158,
          0.9070464372634888,
          0.521583616733551,
          0.775968611240387,
          0.5646856427192688,
          0.009352552704513073,
          0.09185585379600525,
          0.08986946940422058,
          0.07818207144737244,
          0.02424880675971508,
          0.027891917154192924,
          0.050683245062828064,
          0.007966095581650734,
          0.00878258515149355,
          0.028564926236867905,
          0.012986687943339348,
          0.022111155092716217,
          0.015133039094507694,
          0.023666663095355034,
          0.006654753815382719,
          0.0039237625896930695,
          0.005112630780786276,
          0.004454635549336672,
          0.0048816632479429245,
          0.004877071361988783,
          0.005346468649804592
         ],
         "yaxis": "y3"
        },
        {
         "marker": {
          "color": [
           0,
           1,
           2,
           3,
           4,
           7,
           9,
           12,
           13,
           14,
           15,
           18,
           21,
           23,
           24,
           25,
           26,
           27,
           31,
           33,
           39,
           42,
           43,
           44,
           45,
           47,
           48
          ],
          "colorbar": {
           "title": {
            "text": "Trial"
           },
           "x": 1,
           "xpad": 40
          },
          "colorscale": [
           [
            0,
            "rgb(247,251,255)"
           ],
           [
            0.125,
            "rgb(222,235,247)"
           ],
           [
            0.25,
            "rgb(198,219,239)"
           ],
           [
            0.375,
            "rgb(158,202,225)"
           ],
           [
            0.5,
            "rgb(107,174,214)"
           ],
           [
            0.625,
            "rgb(66,146,198)"
           ],
           [
            0.75,
            "rgb(33,113,181)"
           ],
           [
            0.875,
            "rgb(8,81,156)"
           ],
           [
            1,
            "rgb(8,48,107)"
           ]
          ],
          "line": {
           "color": "Grey",
           "width": 0.5
          },
          "showscale": false
         },
         "mode": "markers",
         "name": "Feasible Trial",
         "showlegend": false,
         "type": "scatter",
         "x": [
          0.40886112013700293,
          0.17673054040136088,
          0.04882911674238399,
          0.3390004865165268,
          0.05766289985498224,
          0.0006740889663572891,
          0.352362194556757,
          0.37988051659953226,
          0.402438768803687,
          0.2936969126559804,
          0.4850564918838676,
          0.4456740075910355,
          0.43609424356792076,
          0.421370329693668,
          0.30023062699667585,
          0.3109753375340825,
          0.30206390536277344,
          0.1870458257324385,
          0.2905518338995003,
          0.2583905927790001,
          0.31514189785754415,
          0.36113563277500815,
          0.3623044393801933,
          0.38158233297456645,
          0.3833933225864155,
          0.38625355767628494,
          0.4672477304418266
         ],
         "xaxis": "x4",
         "y": [
          0.05814164876937866,
          0.6157715320587158,
          0.9070464372634888,
          0.521583616733551,
          0.775968611240387,
          0.5646856427192688,
          0.009352552704513073,
          0.09185585379600525,
          0.08986946940422058,
          0.07818207144737244,
          0.02424880675971508,
          0.027891917154192924,
          0.050683245062828064,
          0.007966095581650734,
          0.00878258515149355,
          0.028564926236867905,
          0.012986687943339348,
          0.022111155092716217,
          0.015133039094507694,
          0.023666663095355034,
          0.006654753815382719,
          0.0039237625896930695,
          0.005112630780786276,
          0.004454635549336672,
          0.0048816632479429245,
          0.004877071361988783,
          0.005346468649804592
         ],
         "yaxis": "y4"
        },
        {
         "marker": {
          "color": [
           0,
           1,
           2,
           3,
           4,
           7,
           9,
           12,
           13,
           14,
           15,
           18,
           21,
           23,
           24,
           25,
           26,
           27,
           31,
           33,
           39,
           42,
           43,
           44,
           45,
           47,
           48
          ],
          "colorbar": {
           "title": {
            "text": "Trial"
           },
           "x": 1,
           "xpad": 40
          },
          "colorscale": [
           [
            0,
            "rgb(247,251,255)"
           ],
           [
            0.125,
            "rgb(222,235,247)"
           ],
           [
            0.25,
            "rgb(198,219,239)"
           ],
           [
            0.375,
            "rgb(158,202,225)"
           ],
           [
            0.5,
            "rgb(107,174,214)"
           ],
           [
            0.625,
            "rgb(66,146,198)"
           ],
           [
            0.75,
            "rgb(33,113,181)"
           ],
           [
            0.875,
            "rgb(8,81,156)"
           ],
           [
            1,
            "rgb(8,48,107)"
           ]
          ],
          "line": {
           "color": "Grey",
           "width": 0.5
          },
          "showscale": false
         },
         "mode": "markers",
         "name": "Feasible Trial",
         "showlegend": false,
         "type": "scatter",
         "x": [
          66,
          70,
          81,
          71,
          108,
          107,
          128,
          50,
          90,
          60,
          85,
          93,
          96,
          90,
          108,
          114,
          106,
          99,
          107,
          119,
          105,
          111,
          111,
          109,
          112,
          117,
          117
         ],
         "xaxis": "x5",
         "y": [
          0.05814164876937866,
          0.6157715320587158,
          0.9070464372634888,
          0.521583616733551,
          0.775968611240387,
          0.5646856427192688,
          0.009352552704513073,
          0.09185585379600525,
          0.08986946940422058,
          0.07818207144737244,
          0.02424880675971508,
          0.027891917154192924,
          0.050683245062828064,
          0.007966095581650734,
          0.00878258515149355,
          0.028564926236867905,
          0.012986687943339348,
          0.022111155092716217,
          0.015133039094507694,
          0.023666663095355034,
          0.006654753815382719,
          0.0039237625896930695,
          0.005112630780786276,
          0.004454635549336672,
          0.0048816632479429245,
          0.004877071361988783,
          0.005346468649804592
         ],
         "yaxis": "y5"
        },
        {
         "marker": {
          "color": [
           0,
           1,
           2,
           3,
           4,
           7,
           9,
           12,
           13,
           14,
           15,
           18,
           21,
           23,
           24,
           25,
           26,
           27,
           31,
           33,
           39,
           42,
           43,
           44,
           45,
           47,
           48
          ],
          "colorbar": {
           "title": {
            "text": "Trial"
           },
           "x": 1,
           "xpad": 40
          },
          "colorscale": [
           [
            0,
            "rgb(247,251,255)"
           ],
           [
            0.125,
            "rgb(222,235,247)"
           ],
           [
            0.25,
            "rgb(198,219,239)"
           ],
           [
            0.375,
            "rgb(158,202,225)"
           ],
           [
            0.5,
            "rgb(107,174,214)"
           ],
           [
            0.625,
            "rgb(66,146,198)"
           ],
           [
            0.75,
            "rgb(33,113,181)"
           ],
           [
            0.875,
            "rgb(8,81,156)"
           ],
           [
            1,
            "rgb(8,48,107)"
           ]
          ],
          "line": {
           "color": "Grey",
           "width": 0.5
          },
          "showscale": false
         },
         "mode": "markers",
         "name": "Feasible Trial",
         "showlegend": false,
         "type": "scatter",
         "x": [
          1,
          0,
          0,
          1,
          1,
          1,
          1,
          1,
          1,
          0,
          1,
          1,
          1,
          1,
          1,
          1,
          1,
          1,
          1,
          1,
          1,
          1,
          1,
          1,
          1,
          1,
          1
         ],
         "xaxis": "x6",
         "y": [
          0.05814164876937866,
          0.6157715320587158,
          0.9070464372634888,
          0.521583616733551,
          0.775968611240387,
          0.5646856427192688,
          0.009352552704513073,
          0.09185585379600525,
          0.08986946940422058,
          0.07818207144737244,
          0.02424880675971508,
          0.027891917154192924,
          0.050683245062828064,
          0.007966095581650734,
          0.00878258515149355,
          0.028564926236867905,
          0.012986687943339348,
          0.022111155092716217,
          0.015133039094507694,
          0.023666663095355034,
          0.006654753815382719,
          0.0039237625896930695,
          0.005112630780786276,
          0.004454635549336672,
          0.0048816632479429245,
          0.004877071361988783,
          0.005346468649804592
         ],
         "yaxis": "y6"
        },
        {
         "marker": {
          "color": [
           0,
           1,
           2,
           3,
           4,
           7,
           9,
           12,
           13,
           14,
           15,
           18,
           21,
           23,
           24,
           25,
           26,
           27,
           31,
           33,
           39,
           42,
           43,
           44,
           45,
           47,
           48
          ],
          "colorbar": {
           "title": {
            "text": "Trial"
           },
           "x": 1,
           "xpad": 40
          },
          "colorscale": [
           [
            0,
            "rgb(247,251,255)"
           ],
           [
            0.125,
            "rgb(222,235,247)"
           ],
           [
            0.25,
            "rgb(198,219,239)"
           ],
           [
            0.375,
            "rgb(158,202,225)"
           ],
           [
            0.5,
            "rgb(107,174,214)"
           ],
           [
            0.625,
            "rgb(66,146,198)"
           ],
           [
            0.75,
            "rgb(33,113,181)"
           ],
           [
            0.875,
            "rgb(8,81,156)"
           ],
           [
            1,
            "rgb(8,48,107)"
           ]
          ],
          "line": {
           "color": "Grey",
           "width": 0.5
          },
          "showscale": false
         },
         "mode": "markers",
         "name": "Feasible Trial",
         "showlegend": false,
         "type": "scatter",
         "x": [
          0.001211287021352115,
          0.00005752588452329611,
          0.00001605631305591169,
          0.0003096473878643601,
          0.000014880887476790556,
          0.00022997911689321367,
          0.0004295428605636667,
          0.001505407819132134,
          0.001272443002403599,
          0.004538263376689642,
          0.0006457918200823985,
          0.0034956073688344417,
          0.0030323542119372517,
          0.008840809634223838,
          0.00951893242099467,
          0.00882199954137118,
          0.009873864840785748,
          0.005282969606329824,
          0.009775277833484104,
          0.007056873421231652,
          0.009920852848966152,
          0.006692685316384107,
          0.005778249860259751,
          0.005758480086464695,
          0.006514801531001456,
          0.0063272261872571465,
          0.006106469440973853
         ],
         "xaxis": "x7",
         "y": [
          0.05814164876937866,
          0.6157715320587158,
          0.9070464372634888,
          0.521583616733551,
          0.775968611240387,
          0.5646856427192688,
          0.009352552704513073,
          0.09185585379600525,
          0.08986946940422058,
          0.07818207144737244,
          0.02424880675971508,
          0.027891917154192924,
          0.050683245062828064,
          0.007966095581650734,
          0.00878258515149355,
          0.028564926236867905,
          0.012986687943339348,
          0.022111155092716217,
          0.015133039094507694,
          0.023666663095355034,
          0.006654753815382719,
          0.0039237625896930695,
          0.005112630780786276,
          0.004454635549336672,
          0.0048816632479429245,
          0.004877071361988783,
          0.005346468649804592
         ],
         "yaxis": "y7"
        },
        {
         "marker": {
          "color": [
           0,
           1,
           2,
           3,
           4,
           7,
           9,
           12,
           13,
           14,
           15,
           18,
           21,
           23,
           24,
           25,
           26,
           27,
           31,
           33,
           39,
           42,
           43,
           44,
           45,
           47,
           48
          ],
          "colorbar": {
           "title": {
            "text": "Trial"
           },
           "x": 1,
           "xpad": 40
          },
          "colorscale": [
           [
            0,
            "rgb(247,251,255)"
           ],
           [
            0.125,
            "rgb(222,235,247)"
           ],
           [
            0.25,
            "rgb(198,219,239)"
           ],
           [
            0.375,
            "rgb(158,202,225)"
           ],
           [
            0.5,
            "rgb(107,174,214)"
           ],
           [
            0.625,
            "rgb(66,146,198)"
           ],
           [
            0.75,
            "rgb(33,113,181)"
           ],
           [
            0.875,
            "rgb(8,81,156)"
           ],
           [
            1,
            "rgb(8,48,107)"
           ]
          ],
          "line": {
           "color": "Grey",
           "width": 0.5
          },
          "showscale": false
         },
         "mode": "markers",
         "name": "Feasible Trial",
         "showlegend": false,
         "type": "scatter",
         "x": [
          0.40527756753575667,
          0.2642883678620352,
          0.13049132517901402,
          0.13221290955240822,
          0.3830593679898071,
          0.06526520489849053,
          0.06741407894150775,
          0.0008971996804417737,
          0.3558374853558518,
          0.48895368727181143,
          0.1977726465242594,
          0.08480510069318117,
          0.08443253784522788,
          0.11727177847136401,
          0.13253243928824288,
          0.12819777831134693,
          0.04086118971146302,
          0.10711102490444714,
          0.0397585581573585,
          0.12040146964628329,
          0.07398323911992821,
          0.04838448701197648,
          0.07417897953447612,
          0.010069994778542646,
          0.0018816632757324564,
          0.013723309601896057,
          0.0033406219864321185
         ],
         "xaxis": "x8",
         "y": [
          0.05814164876937866,
          0.6157715320587158,
          0.9070464372634888,
          0.521583616733551,
          0.775968611240387,
          0.5646856427192688,
          0.009352552704513073,
          0.09185585379600525,
          0.08986946940422058,
          0.07818207144737244,
          0.02424880675971508,
          0.027891917154192924,
          0.050683245062828064,
          0.007966095581650734,
          0.00878258515149355,
          0.028564926236867905,
          0.012986687943339348,
          0.022111155092716217,
          0.015133039094507694,
          0.023666663095355034,
          0.006654753815382719,
          0.0039237625896930695,
          0.005112630780786276,
          0.004454635549336672,
          0.0048816632479429245,
          0.004877071361988783,
          0.005346468649804592
         ],
         "yaxis": "y8"
        },
        {
         "marker": {
          "color": [
           0,
           1,
           2,
           3,
           4,
           7,
           9,
           12,
           13,
           14,
           15,
           18,
           21,
           23,
           24,
           25,
           26,
           27,
           31,
           33,
           39,
           42,
           43,
           44,
           45,
           47,
           48
          ],
          "colorbar": {
           "title": {
            "text": "Trial"
           },
           "x": 1,
           "xpad": 40
          },
          "colorscale": [
           [
            0,
            "rgb(247,251,255)"
           ],
           [
            0.125,
            "rgb(222,235,247)"
           ],
           [
            0.25,
            "rgb(198,219,239)"
           ],
           [
            0.375,
            "rgb(158,202,225)"
           ],
           [
            0.5,
            "rgb(107,174,214)"
           ],
           [
            0.625,
            "rgb(66,146,198)"
           ],
           [
            0.75,
            "rgb(33,113,181)"
           ],
           [
            0.875,
            "rgb(8,81,156)"
           ],
           [
            1,
            "rgb(8,48,107)"
           ]
          ],
          "line": {
           "color": "Grey",
           "width": 0.5
          },
          "showscale": false
         },
         "mode": "markers",
         "name": "Feasible Trial",
         "showlegend": false,
         "type": "scatter",
         "x": [
          4,
          0,
          3,
          3,
          1,
          1,
          5,
          4,
          4,
          5,
          4,
          2,
          2,
          3,
          3,
          3,
          3,
          0,
          3,
          3,
          3,
          3,
          3,
          3,
          3,
          4,
          4
         ],
         "xaxis": "x9",
         "y": [
          0.05814164876937866,
          0.6157715320587158,
          0.9070464372634888,
          0.521583616733551,
          0.775968611240387,
          0.5646856427192688,
          0.009352552704513073,
          0.09185585379600525,
          0.08986946940422058,
          0.07818207144737244,
          0.02424880675971508,
          0.027891917154192924,
          0.050683245062828064,
          0.007966095581650734,
          0.00878258515149355,
          0.028564926236867905,
          0.012986687943339348,
          0.022111155092716217,
          0.015133039094507694,
          0.023666663095355034,
          0.006654753815382719,
          0.0039237625896930695,
          0.005112630780786276,
          0.004454635549336672,
          0.0048816632479429245,
          0.004877071361988783,
          0.005346468649804592
         ],
         "yaxis": "y9"
        },
        {
         "marker": {
          "color": [
           0,
           1,
           2,
           3,
           4,
           7,
           9,
           12,
           13,
           14,
           15,
           18,
           21,
           23,
           24,
           25,
           26,
           27,
           31,
           33,
           39,
           42,
           43,
           44,
           45,
           47,
           48
          ],
          "colorbar": {
           "title": {
            "text": "Trial"
           },
           "x": 1,
           "xpad": 40
          },
          "colorscale": [
           [
            0,
            "rgb(247,251,255)"
           ],
           [
            0.125,
            "rgb(222,235,247)"
           ],
           [
            0.25,
            "rgb(198,219,239)"
           ],
           [
            0.375,
            "rgb(158,202,225)"
           ],
           [
            0.5,
            "rgb(107,174,214)"
           ],
           [
            0.625,
            "rgb(66,146,198)"
           ],
           [
            0.75,
            "rgb(33,113,181)"
           ],
           [
            0.875,
            "rgb(8,81,156)"
           ],
           [
            1,
            "rgb(8,48,107)"
           ]
          ],
          "line": {
           "color": "Grey",
           "width": 0.5
          },
          "showscale": false
         },
         "mode": "markers",
         "name": "Feasible Trial",
         "showlegend": false,
         "type": "scatter",
         "x": [
          0,
          1,
          0,
          1,
          0,
          0,
          0,
          0,
          0,
          0,
          0,
          0,
          0,
          0,
          0,
          0,
          0,
          0,
          0,
          0,
          0,
          0,
          0,
          0,
          0,
          0,
          0
         ],
         "xaxis": "x10",
         "y": [
          0.05814164876937866,
          0.6157715320587158,
          0.9070464372634888,
          0.521583616733551,
          0.775968611240387,
          0.5646856427192688,
          0.009352552704513073,
          0.09185585379600525,
          0.08986946940422058,
          0.07818207144737244,
          0.02424880675971508,
          0.027891917154192924,
          0.050683245062828064,
          0.007966095581650734,
          0.00878258515149355,
          0.028564926236867905,
          0.012986687943339348,
          0.022111155092716217,
          0.015133039094507694,
          0.023666663095355034,
          0.006654753815382719,
          0.0039237625896930695,
          0.005112630780786276,
          0.004454635549336672,
          0.0048816632479429245,
          0.004877071361988783,
          0.005346468649804592
         ],
         "yaxis": "y10"
        },
        {
         "marker": {
          "color": [
           0,
           1,
           2,
           3,
           4,
           7,
           9,
           12,
           13,
           14,
           15,
           18,
           21,
           23,
           24,
           25,
           26,
           27,
           31,
           33,
           39,
           42,
           43,
           44,
           45,
           47,
           48
          ],
          "colorbar": {
           "title": {
            "text": "Trial"
           },
           "x": 1,
           "xpad": 40
          },
          "colorscale": [
           [
            0,
            "rgb(247,251,255)"
           ],
           [
            0.125,
            "rgb(222,235,247)"
           ],
           [
            0.25,
            "rgb(198,219,239)"
           ],
           [
            0.375,
            "rgb(158,202,225)"
           ],
           [
            0.5,
            "rgb(107,174,214)"
           ],
           [
            0.625,
            "rgb(66,146,198)"
           ],
           [
            0.75,
            "rgb(33,113,181)"
           ],
           [
            0.875,
            "rgb(8,81,156)"
           ],
           [
            1,
            "rgb(8,48,107)"
           ]
          ],
          "line": {
           "color": "Grey",
           "width": 0.5
          },
          "showscale": false
         },
         "mode": "markers",
         "name": "Feasible Trial",
         "showlegend": false,
         "type": "scatter",
         "x": [
          0.017009134052838527,
          0.08788785866020572,
          0.03184176618047179,
          0.07196274074650555,
          0.026683898362195126,
          0.08891623791913528,
          0.05900208513849843,
          0.029310387484361645,
          0.06446563751722278,
          0.03952000392250864,
          0.010834447586784725,
          0.013571626416142138,
          0.015615924564940764,
          0.021782384184013993,
          0.022687432758838035,
          0.037451142523119665,
          0.02119731854749691,
          0.048105423679690194,
          0.021903050401990858,
          0.027456559435870803,
          0.02542745499834341,
          0.0073904904610118324,
          0.006636865632067956,
          0.005935906834287363,
          0.005409917499641093,
          0.0002480734136314257,
          0.00034037807272805417
         ],
         "xaxis": "x11",
         "y": [
          0.05814164876937866,
          0.6157715320587158,
          0.9070464372634888,
          0.521583616733551,
          0.775968611240387,
          0.5646856427192688,
          0.009352552704513073,
          0.09185585379600525,
          0.08986946940422058,
          0.07818207144737244,
          0.02424880675971508,
          0.027891917154192924,
          0.050683245062828064,
          0.007966095581650734,
          0.00878258515149355,
          0.028564926236867905,
          0.012986687943339348,
          0.022111155092716217,
          0.015133039094507694,
          0.023666663095355034,
          0.006654753815382719,
          0.0039237625896930695,
          0.005112630780786276,
          0.004454635549336672,
          0.0048816632479429245,
          0.004877071361988783,
          0.005346468649804592
         ],
         "yaxis": "y11"
        },
        {
         "marker": {
          "color": [
           0,
           1,
           2,
           3,
           4,
           7,
           9,
           12,
           13,
           14,
           15,
           18,
           21,
           23,
           24,
           25,
           26,
           27,
           31,
           33,
           39,
           42,
           43,
           44,
           45,
           47,
           48
          ],
          "colorbar": {
           "title": {
            "text": "Trial"
           },
           "x": 1,
           "xpad": 40
          },
          "colorscale": [
           [
            0,
            "rgb(247,251,255)"
           ],
           [
            0.125,
            "rgb(222,235,247)"
           ],
           [
            0.25,
            "rgb(198,219,239)"
           ],
           [
            0.375,
            "rgb(158,202,225)"
           ],
           [
            0.5,
            "rgb(107,174,214)"
           ],
           [
            0.625,
            "rgb(66,146,198)"
           ],
           [
            0.75,
            "rgb(33,113,181)"
           ],
           [
            0.875,
            "rgb(8,81,156)"
           ],
           [
            1,
            "rgb(8,48,107)"
           ]
          ],
          "line": {
           "color": "Grey",
           "width": 0.5
          },
          "showscale": false
         },
         "mode": "markers",
         "name": "Feasible Trial",
         "showlegend": false,
         "type": "scatter",
         "x": [
          0.8816765158812544,
          0.9454980179887886,
          0.9145080650621913,
          0.9696120574173871,
          0.8370152964585382,
          0.8333886796041338,
          0.9802384680061976,
          0.9386788998996548,
          0.8664003577790484,
          0.9954563444714424,
          0.9281238533556375,
          0.9242623981465015,
          0.9184755920238217,
          0.8991394165785839,
          0.8983534897273019,
          0.8932898055645477,
          0.8514288567243531,
          0.8966911292579046,
          0.8438268010164429,
          0.8857975302582463,
          0.9494864343098268,
          0.9608530365996862,
          0.9637821769298227,
          0.9445489606005435,
          0.9645614533439604,
          0.9390520799679726,
          0.9370569007559398
         ],
         "xaxis": "x12",
         "y": [
          0.05814164876937866,
          0.6157715320587158,
          0.9070464372634888,
          0.521583616733551,
          0.775968611240387,
          0.5646856427192688,
          0.009352552704513073,
          0.09185585379600525,
          0.08986946940422058,
          0.07818207144737244,
          0.02424880675971508,
          0.027891917154192924,
          0.050683245062828064,
          0.007966095581650734,
          0.00878258515149355,
          0.028564926236867905,
          0.012986687943339348,
          0.022111155092716217,
          0.015133039094507694,
          0.023666663095355034,
          0.006654753815382719,
          0.0039237625896930695,
          0.005112630780786276,
          0.004454635549336672,
          0.0048816632479429245,
          0.004877071361988783,
          0.005346468649804592
         ],
         "yaxis": "y12"
        },
        {
         "marker": {
          "color": [
           0,
           1,
           2,
           3,
           4,
           7,
           9,
           12,
           13,
           14,
           15,
           18,
           21,
           23,
           24,
           25,
           26,
           27,
           31,
           33,
           39,
           42,
           43,
           44,
           45,
           47,
           48
          ],
          "colorbar": {
           "title": {
            "text": "Trial"
           },
           "x": 1,
           "xpad": 40
          },
          "colorscale": [
           [
            0,
            "rgb(247,251,255)"
           ],
           [
            0.125,
            "rgb(222,235,247)"
           ],
           [
            0.25,
            "rgb(198,219,239)"
           ],
           [
            0.375,
            "rgb(158,202,225)"
           ],
           [
            0.5,
            "rgb(107,174,214)"
           ],
           [
            0.625,
            "rgb(66,146,198)"
           ],
           [
            0.75,
            "rgb(33,113,181)"
           ],
           [
            0.875,
            "rgb(8,81,156)"
           ],
           [
            1,
            "rgb(8,48,107)"
           ]
          ],
          "line": {
           "color": "Grey",
           "width": 0.5
          },
          "showscale": false
         },
         "mode": "markers",
         "name": "Feasible Trial",
         "showlegend": false,
         "type": "scatter",
         "x": [
          0.3344911970360955,
          0.218633986175645,
          0.2425542356971112,
          0.19444057493526276,
          0.28897791372106546,
          0.2047743287290711,
          0.22592512375376486,
          0.3896280776774108,
          0.2749895655133591,
          0.32261321507516155,
          0.17009083794804025,
          0.250033374199358,
          0.24433601252657514,
          0.19243691415014547,
          0.19158799051025374,
          0.19475611893435862,
          0.20888741912245612,
          0.29195102045062415,
          0.21460429421049074,
          0.2622680457987071,
          0.20279278515425006,
          0.1859960046899889,
          0.18288402563336723,
          0.1839191516374754,
          0.15476409173047007,
          0.13160214903300532,
          0.11105463304732896
         ],
         "xaxis": "x13",
         "y": [
          0.05814164876937866,
          0.6157715320587158,
          0.9070464372634888,
          0.521583616733551,
          0.775968611240387,
          0.5646856427192688,
          0.009352552704513073,
          0.09185585379600525,
          0.08986946940422058,
          0.07818207144737244,
          0.02424880675971508,
          0.027891917154192924,
          0.050683245062828064,
          0.007966095581650734,
          0.00878258515149355,
          0.028564926236867905,
          0.012986687943339348,
          0.022111155092716217,
          0.015133039094507694,
          0.023666663095355034,
          0.006654753815382719,
          0.0039237625896930695,
          0.005112630780786276,
          0.004454635549336672,
          0.0048816632479429245,
          0.004877071361988783,
          0.005346468649804592
         ],
         "yaxis": "y13"
        }
       ],
       "layout": {
        "template": {
         "data": {
          "bar": [
           {
            "error_x": {
             "color": "#2a3f5f"
            },
            "error_y": {
             "color": "#2a3f5f"
            },
            "marker": {
             "line": {
              "color": "#E5ECF6",
              "width": 0.5
             },
             "pattern": {
              "fillmode": "overlay",
              "size": 10,
              "solidity": 0.2
             }
            },
            "type": "bar"
           }
          ],
          "barpolar": [
           {
            "marker": {
             "line": {
              "color": "#E5ECF6",
              "width": 0.5
             },
             "pattern": {
              "fillmode": "overlay",
              "size": 10,
              "solidity": 0.2
             }
            },
            "type": "barpolar"
           }
          ],
          "carpet": [
           {
            "aaxis": {
             "endlinecolor": "#2a3f5f",
             "gridcolor": "white",
             "linecolor": "white",
             "minorgridcolor": "white",
             "startlinecolor": "#2a3f5f"
            },
            "baxis": {
             "endlinecolor": "#2a3f5f",
             "gridcolor": "white",
             "linecolor": "white",
             "minorgridcolor": "white",
             "startlinecolor": "#2a3f5f"
            },
            "type": "carpet"
           }
          ],
          "choropleth": [
           {
            "colorbar": {
             "outlinewidth": 0,
             "ticks": ""
            },
            "type": "choropleth"
           }
          ],
          "contour": [
           {
            "colorbar": {
             "outlinewidth": 0,
             "ticks": ""
            },
            "colorscale": [
             [
              0,
              "#0d0887"
             ],
             [
              0.1111111111111111,
              "#46039f"
             ],
             [
              0.2222222222222222,
              "#7201a8"
             ],
             [
              0.3333333333333333,
              "#9c179e"
             ],
             [
              0.4444444444444444,
              "#bd3786"
             ],
             [
              0.5555555555555556,
              "#d8576b"
             ],
             [
              0.6666666666666666,
              "#ed7953"
             ],
             [
              0.7777777777777778,
              "#fb9f3a"
             ],
             [
              0.8888888888888888,
              "#fdca26"
             ],
             [
              1,
              "#f0f921"
             ]
            ],
            "type": "contour"
           }
          ],
          "contourcarpet": [
           {
            "colorbar": {
             "outlinewidth": 0,
             "ticks": ""
            },
            "type": "contourcarpet"
           }
          ],
          "heatmap": [
           {
            "colorbar": {
             "outlinewidth": 0,
             "ticks": ""
            },
            "colorscale": [
             [
              0,
              "#0d0887"
             ],
             [
              0.1111111111111111,
              "#46039f"
             ],
             [
              0.2222222222222222,
              "#7201a8"
             ],
             [
              0.3333333333333333,
              "#9c179e"
             ],
             [
              0.4444444444444444,
              "#bd3786"
             ],
             [
              0.5555555555555556,
              "#d8576b"
             ],
             [
              0.6666666666666666,
              "#ed7953"
             ],
             [
              0.7777777777777778,
              "#fb9f3a"
             ],
             [
              0.8888888888888888,
              "#fdca26"
             ],
             [
              1,
              "#f0f921"
             ]
            ],
            "type": "heatmap"
           }
          ],
          "heatmapgl": [
           {
            "colorbar": {
             "outlinewidth": 0,
             "ticks": ""
            },
            "colorscale": [
             [
              0,
              "#0d0887"
             ],
             [
              0.1111111111111111,
              "#46039f"
             ],
             [
              0.2222222222222222,
              "#7201a8"
             ],
             [
              0.3333333333333333,
              "#9c179e"
             ],
             [
              0.4444444444444444,
              "#bd3786"
             ],
             [
              0.5555555555555556,
              "#d8576b"
             ],
             [
              0.6666666666666666,
              "#ed7953"
             ],
             [
              0.7777777777777778,
              "#fb9f3a"
             ],
             [
              0.8888888888888888,
              "#fdca26"
             ],
             [
              1,
              "#f0f921"
             ]
            ],
            "type": "heatmapgl"
           }
          ],
          "histogram": [
           {
            "marker": {
             "pattern": {
              "fillmode": "overlay",
              "size": 10,
              "solidity": 0.2
             }
            },
            "type": "histogram"
           }
          ],
          "histogram2d": [
           {
            "colorbar": {
             "outlinewidth": 0,
             "ticks": ""
            },
            "colorscale": [
             [
              0,
              "#0d0887"
             ],
             [
              0.1111111111111111,
              "#46039f"
             ],
             [
              0.2222222222222222,
              "#7201a8"
             ],
             [
              0.3333333333333333,
              "#9c179e"
             ],
             [
              0.4444444444444444,
              "#bd3786"
             ],
             [
              0.5555555555555556,
              "#d8576b"
             ],
             [
              0.6666666666666666,
              "#ed7953"
             ],
             [
              0.7777777777777778,
              "#fb9f3a"
             ],
             [
              0.8888888888888888,
              "#fdca26"
             ],
             [
              1,
              "#f0f921"
             ]
            ],
            "type": "histogram2d"
           }
          ],
          "histogram2dcontour": [
           {
            "colorbar": {
             "outlinewidth": 0,
             "ticks": ""
            },
            "colorscale": [
             [
              0,
              "#0d0887"
             ],
             [
              0.1111111111111111,
              "#46039f"
             ],
             [
              0.2222222222222222,
              "#7201a8"
             ],
             [
              0.3333333333333333,
              "#9c179e"
             ],
             [
              0.4444444444444444,
              "#bd3786"
             ],
             [
              0.5555555555555556,
              "#d8576b"
             ],
             [
              0.6666666666666666,
              "#ed7953"
             ],
             [
              0.7777777777777778,
              "#fb9f3a"
             ],
             [
              0.8888888888888888,
              "#fdca26"
             ],
             [
              1,
              "#f0f921"
             ]
            ],
            "type": "histogram2dcontour"
           }
          ],
          "mesh3d": [
           {
            "colorbar": {
             "outlinewidth": 0,
             "ticks": ""
            },
            "type": "mesh3d"
           }
          ],
          "parcoords": [
           {
            "line": {
             "colorbar": {
              "outlinewidth": 0,
              "ticks": ""
             }
            },
            "type": "parcoords"
           }
          ],
          "pie": [
           {
            "automargin": true,
            "type": "pie"
           }
          ],
          "scatter": [
           {
            "fillpattern": {
             "fillmode": "overlay",
             "size": 10,
             "solidity": 0.2
            },
            "type": "scatter"
           }
          ],
          "scatter3d": [
           {
            "line": {
             "colorbar": {
              "outlinewidth": 0,
              "ticks": ""
             }
            },
            "marker": {
             "colorbar": {
              "outlinewidth": 0,
              "ticks": ""
             }
            },
            "type": "scatter3d"
           }
          ],
          "scattercarpet": [
           {
            "marker": {
             "colorbar": {
              "outlinewidth": 0,
              "ticks": ""
             }
            },
            "type": "scattercarpet"
           }
          ],
          "scattergeo": [
           {
            "marker": {
             "colorbar": {
              "outlinewidth": 0,
              "ticks": ""
             }
            },
            "type": "scattergeo"
           }
          ],
          "scattergl": [
           {
            "marker": {
             "colorbar": {
              "outlinewidth": 0,
              "ticks": ""
             }
            },
            "type": "scattergl"
           }
          ],
          "scattermapbox": [
           {
            "marker": {
             "colorbar": {
              "outlinewidth": 0,
              "ticks": ""
             }
            },
            "type": "scattermapbox"
           }
          ],
          "scatterpolar": [
           {
            "marker": {
             "colorbar": {
              "outlinewidth": 0,
              "ticks": ""
             }
            },
            "type": "scatterpolar"
           }
          ],
          "scatterpolargl": [
           {
            "marker": {
             "colorbar": {
              "outlinewidth": 0,
              "ticks": ""
             }
            },
            "type": "scatterpolargl"
           }
          ],
          "scatterternary": [
           {
            "marker": {
             "colorbar": {
              "outlinewidth": 0,
              "ticks": ""
             }
            },
            "type": "scatterternary"
           }
          ],
          "surface": [
           {
            "colorbar": {
             "outlinewidth": 0,
             "ticks": ""
            },
            "colorscale": [
             [
              0,
              "#0d0887"
             ],
             [
              0.1111111111111111,
              "#46039f"
             ],
             [
              0.2222222222222222,
              "#7201a8"
             ],
             [
              0.3333333333333333,
              "#9c179e"
             ],
             [
              0.4444444444444444,
              "#bd3786"
             ],
             [
              0.5555555555555556,
              "#d8576b"
             ],
             [
              0.6666666666666666,
              "#ed7953"
             ],
             [
              0.7777777777777778,
              "#fb9f3a"
             ],
             [
              0.8888888888888888,
              "#fdca26"
             ],
             [
              1,
              "#f0f921"
             ]
            ],
            "type": "surface"
           }
          ],
          "table": [
           {
            "cells": {
             "fill": {
              "color": "#EBF0F8"
             },
             "line": {
              "color": "white"
             }
            },
            "header": {
             "fill": {
              "color": "#C8D4E3"
             },
             "line": {
              "color": "white"
             }
            },
            "type": "table"
           }
          ]
         },
         "layout": {
          "annotationdefaults": {
           "arrowcolor": "#2a3f5f",
           "arrowhead": 0,
           "arrowwidth": 1
          },
          "autotypenumbers": "strict",
          "coloraxis": {
           "colorbar": {
            "outlinewidth": 0,
            "ticks": ""
           }
          },
          "colorscale": {
           "diverging": [
            [
             0,
             "#8e0152"
            ],
            [
             0.1,
             "#c51b7d"
            ],
            [
             0.2,
             "#de77ae"
            ],
            [
             0.3,
             "#f1b6da"
            ],
            [
             0.4,
             "#fde0ef"
            ],
            [
             0.5,
             "#f7f7f7"
            ],
            [
             0.6,
             "#e6f5d0"
            ],
            [
             0.7,
             "#b8e186"
            ],
            [
             0.8,
             "#7fbc41"
            ],
            [
             0.9,
             "#4d9221"
            ],
            [
             1,
             "#276419"
            ]
           ],
           "sequential": [
            [
             0,
             "#0d0887"
            ],
            [
             0.1111111111111111,
             "#46039f"
            ],
            [
             0.2222222222222222,
             "#7201a8"
            ],
            [
             0.3333333333333333,
             "#9c179e"
            ],
            [
             0.4444444444444444,
             "#bd3786"
            ],
            [
             0.5555555555555556,
             "#d8576b"
            ],
            [
             0.6666666666666666,
             "#ed7953"
            ],
            [
             0.7777777777777778,
             "#fb9f3a"
            ],
            [
             0.8888888888888888,
             "#fdca26"
            ],
            [
             1,
             "#f0f921"
            ]
           ],
           "sequentialminus": [
            [
             0,
             "#0d0887"
            ],
            [
             0.1111111111111111,
             "#46039f"
            ],
            [
             0.2222222222222222,
             "#7201a8"
            ],
            [
             0.3333333333333333,
             "#9c179e"
            ],
            [
             0.4444444444444444,
             "#bd3786"
            ],
            [
             0.5555555555555556,
             "#d8576b"
            ],
            [
             0.6666666666666666,
             "#ed7953"
            ],
            [
             0.7777777777777778,
             "#fb9f3a"
            ],
            [
             0.8888888888888888,
             "#fdca26"
            ],
            [
             1,
             "#f0f921"
            ]
           ]
          },
          "colorway": [
           "#636efa",
           "#EF553B",
           "#00cc96",
           "#ab63fa",
           "#FFA15A",
           "#19d3f3",
           "#FF6692",
           "#B6E880",
           "#FF97FF",
           "#FECB52"
          ],
          "font": {
           "color": "#2a3f5f"
          },
          "geo": {
           "bgcolor": "white",
           "lakecolor": "white",
           "landcolor": "#E5ECF6",
           "showlakes": true,
           "showland": true,
           "subunitcolor": "white"
          },
          "hoverlabel": {
           "align": "left"
          },
          "hovermode": "closest",
          "mapbox": {
           "style": "light"
          },
          "paper_bgcolor": "white",
          "plot_bgcolor": "#E5ECF6",
          "polar": {
           "angularaxis": {
            "gridcolor": "white",
            "linecolor": "white",
            "ticks": ""
           },
           "bgcolor": "#E5ECF6",
           "radialaxis": {
            "gridcolor": "white",
            "linecolor": "white",
            "ticks": ""
           }
          },
          "scene": {
           "xaxis": {
            "backgroundcolor": "#E5ECF6",
            "gridcolor": "white",
            "gridwidth": 2,
            "linecolor": "white",
            "showbackground": true,
            "ticks": "",
            "zerolinecolor": "white"
           },
           "yaxis": {
            "backgroundcolor": "#E5ECF6",
            "gridcolor": "white",
            "gridwidth": 2,
            "linecolor": "white",
            "showbackground": true,
            "ticks": "",
            "zerolinecolor": "white"
           },
           "zaxis": {
            "backgroundcolor": "#E5ECF6",
            "gridcolor": "white",
            "gridwidth": 2,
            "linecolor": "white",
            "showbackground": true,
            "ticks": "",
            "zerolinecolor": "white"
           }
          },
          "shapedefaults": {
           "line": {
            "color": "#2a3f5f"
           }
          },
          "ternary": {
           "aaxis": {
            "gridcolor": "white",
            "linecolor": "white",
            "ticks": ""
           },
           "baxis": {
            "gridcolor": "white",
            "linecolor": "white",
            "ticks": ""
           },
           "bgcolor": "#E5ECF6",
           "caxis": {
            "gridcolor": "white",
            "linecolor": "white",
            "ticks": ""
           }
          },
          "title": {
           "x": 0.05
          },
          "xaxis": {
           "automargin": true,
           "gridcolor": "white",
           "linecolor": "white",
           "ticks": "",
           "title": {
            "standoff": 15
           },
           "zerolinecolor": "white",
           "zerolinewidth": 2
          },
          "yaxis": {
           "automargin": true,
           "gridcolor": "white",
           "linecolor": "white",
           "ticks": "",
           "title": {
            "standoff": 15
           },
           "zerolinecolor": "white",
           "zerolinewidth": 2
          }
         }
        },
        "title": {
         "text": "Slice Plot"
        },
        "width": 3900,
        "xaxis": {
         "anchor": "y",
         "domain": [
          0,
          0.06272189349112425
         ],
         "title": {
          "text": "batch_size"
         }
        },
        "xaxis10": {
         "anchor": "y10",
         "domain": [
          0.7029585798816567,
          0.7656804733727809
         ],
         "title": {
          "text": "optimizer_idx"
         }
        },
        "xaxis11": {
         "anchor": "y11",
         "domain": [
          0.7810650887573963,
          0.8437869822485206
         ],
         "title": {
          "text": "relu_slope"
         }
        },
        "xaxis12": {
         "anchor": "y12",
         "domain": [
          0.859171597633136,
          0.9218934911242602
         ],
         "title": {
          "text": "scheduler_gamma"
         }
        },
        "xaxis13": {
         "anchor": "y13",
         "domain": [
          0.9372781065088757,
          0.9999999999999999
         ],
         "title": {
          "text": "weight_decay"
         },
         "type": "log"
        },
        "xaxis2": {
         "anchor": "y2",
         "domain": [
          0.07810650887573964,
          0.1408284023668639
         ],
         "title": {
          "text": "beta1"
         }
        },
        "xaxis3": {
         "anchor": "y3",
         "domain": [
          0.15621301775147928,
          0.21893491124260353
         ],
         "title": {
          "text": "beta2"
         }
        },
        "xaxis4": {
         "anchor": "y4",
         "domain": [
          0.23431952662721892,
          0.29704142011834317
         ],
         "title": {
          "text": "dampening"
         }
        },
        "xaxis5": {
         "anchor": "y5",
         "domain": [
          0.31242603550295855,
          0.3751479289940828
         ],
         "title": {
          "text": "epochs"
         }
        },
        "xaxis6": {
         "anchor": "y6",
         "domain": [
          0.39053254437869817,
          0.45325443786982245
         ],
         "title": {
          "text": "loss_idx"
         }
        },
        "xaxis7": {
         "anchor": "y7",
         "domain": [
          0.46863905325443783,
          0.5313609467455621
         ],
         "title": {
          "text": "lr"
         },
         "type": "log"
        },
        "xaxis8": {
         "anchor": "y8",
         "domain": [
          0.5467455621301776,
          0.6094674556213018
         ],
         "title": {
          "text": "momentum"
         }
        },
        "xaxis9": {
         "anchor": "y9",
         "domain": [
          0.6248520710059171,
          0.6875739644970413
         ],
         "title": {
          "text": "num_blocks"
         }
        },
        "yaxis": {
         "anchor": "x",
         "domain": [
          0,
          1
         ],
         "title": {
          "text": "Objective Value"
         }
        },
        "yaxis10": {
         "anchor": "x10",
         "domain": [
          0,
          1
         ],
         "matches": "y",
         "showticklabels": false
        },
        "yaxis11": {
         "anchor": "x11",
         "domain": [
          0,
          1
         ],
         "matches": "y",
         "showticklabels": false
        },
        "yaxis12": {
         "anchor": "x12",
         "domain": [
          0,
          1
         ],
         "matches": "y",
         "showticklabels": false
        },
        "yaxis13": {
         "anchor": "x13",
         "domain": [
          0,
          1
         ],
         "matches": "y",
         "showticklabels": false
        },
        "yaxis2": {
         "anchor": "x2",
         "domain": [
          0,
          1
         ],
         "matches": "y",
         "showticklabels": false
        },
        "yaxis3": {
         "anchor": "x3",
         "domain": [
          0,
          1
         ],
         "matches": "y",
         "showticklabels": false
        },
        "yaxis4": {
         "anchor": "x4",
         "domain": [
          0,
          1
         ],
         "matches": "y",
         "showticklabels": false
        },
        "yaxis5": {
         "anchor": "x5",
         "domain": [
          0,
          1
         ],
         "matches": "y",
         "showticklabels": false
        },
        "yaxis6": {
         "anchor": "x6",
         "domain": [
          0,
          1
         ],
         "matches": "y",
         "showticklabels": false
        },
        "yaxis7": {
         "anchor": "x7",
         "domain": [
          0,
          1
         ],
         "matches": "y",
         "showticklabels": false
        },
        "yaxis8": {
         "anchor": "x8",
         "domain": [
          0,
          1
         ],
         "matches": "y",
         "showticklabels": false
        },
        "yaxis9": {
         "anchor": "x9",
         "domain": [
          0,
          1
         ],
         "matches": "y",
         "showticklabels": false
        }
       }
      }
     },
     "metadata": {},
     "output_type": "display_data"
    }
   ],
   "source": [
    "if is_multi_objective:\n",
    "    fig = vis.plot_slice(study, target=lambda t: t.values[1], target_name='Accuracy')\n",
    "else:\n",
    "    fig = vis.plot_slice(study)\n",
    "fig.show()"
   ]
  },
  {
   "cell_type": "code",
   "execution_count": 35,
   "metadata": {},
   "outputs": [
    {
     "data": {
      "text/plain": [
       "{'lr': 0.006692685316384107,\n",
       " 'weight_decay': 0.1859960046899889,\n",
       " 'beta1': 0.935333547084636,\n",
       " 'beta2': 0.78428474807859,\n",
       " 'momentum': 0.04838448701197648,\n",
       " 'dampening': 0.36113563277500815,\n",
       " 'optimizer_idx': 0,\n",
       " 'scheduler_gamma': 0.9608530365996862,\n",
       " 'epochs': 111,\n",
       " 'batch_size': 172,\n",
       " 'loss_idx': 1,\n",
       " 'relu_slope': 0.0073904904610118324,\n",
       " 'num_blocks': 3}"
      ]
     },
     "execution_count": 35,
     "metadata": {},
     "output_type": "execute_result"
    }
   ],
   "source": [
    "if is_multi_objective:\n",
    "    best_trials = study.best_trials\n",
    "    sorted_trials = sorted([(trial.values[1], trial.params) for trial in best_trials])\n",
    "    best_params = sorted_trials[0][1]\n",
    "else:\n",
    "    best_params = study.best_trial.params\n",
    "best_params"
   ]
  },
  {
   "cell_type": "code",
   "execution_count": 36,
   "metadata": {},
   "outputs": [],
   "source": [
    "# best_params = {'lr': 0.0031239818374237715, 'weight_decay': 0.14891528374027796, 'beta1': 0.8710182886970091, 'beta2': 0.832292578797416, 'scheduler_gamma': 0.9753505211333497, 'epochs': 81, 'batch_size': 214, 'loss_idx': 0}\n",
    "# best_params = {'lr': 0.0019835932606001487,\n",
    "#   'weight_decay': 0.1611461330556558,\n",
    "#   'beta1': 0.9280989285369666,\n",
    "#   'beta2': 0.5597870586857281,\n",
    "#   'scheduler_gamma': 0.9736202263428526,\n",
    "#   'epochs': 110,\n",
    "#   'batch_size': 153,\n",
    "#   'loss_idx': 0}\n",
    "# best_params = {'lr': 0.0029897736276809804,\n",
    "#   'weight_decay': 0.23209144621035505,\n",
    "#   'beta1': 0.9307172994606788,\n",
    "#   'beta2': 0.7849642531368178,\n",
    "#   'momentum': 0.26520601842233205,\n",
    "#   'dampening': 0.027926590435548706,\n",
    "#   'optimizer_idx': 1,\n",
    "#   'scheduler_gamma': 0.9380209962450397,\n",
    "#   'epochs': 90,\n",
    "#   'batch_size': 88,\n",
    "#   'loss_idx': 0}\n",
    "# best_params = {'lr': 0.00836489425162464, 'weight_decay': 0.34102140588295116, 'beta1': 0.8201411977785976, 'beta2': 0.7828316699445848, 'momentum': 0.4068030886893087, 'dampening': 0.0875530112100895, 'optimizer_idx': 1, 'scheduler_gamma': 0.9552905615276255, 'epochs': 121, 'batch_size': 219, 'loss_idx': 1, 'num_blocks': 3}"
   ]
  },
  {
   "cell_type": "code",
   "execution_count": 37,
   "metadata": {},
   "outputs": [],
   "source": [
    "lr = best_params['lr']\n",
    "weight_decay = best_params['weight_decay']\n",
    "betas = (best_params['beta1'], best_params['beta2'])\n",
    "momentum = best_params['momentum']\n",
    "dampening = best_params['dampening']\n",
    "scheduler_gamma = best_params['scheduler_gamma']\n",
    "batch_size = best_params['batch_size']\n",
    "epochs = best_params['epochs']\n",
    "relu_slope = best_params['relu_slope']\n",
    "num_blocks = best_params['num_blocks']\n",
    "\n",
    "model = ConvClassifier(train_params=train_best_params, num_classes=len(np.unique(labels)),\n",
    "                       num_blocks=num_blocks, relu_slope=relu_slope, device=device).to(device)\n",
    "\n",
    "# trainable_parameters = [param for name, param in model.named_parameters() if name.startswith('seq_')]\n",
    "if best_params['optimizer_idx'] == 0:\n",
    "    optimizer = torch.optim.Adam(model.parameters(), lr=lr, weight_decay=weight_decay, betas=betas)\n",
    "else:\n",
    "    optimizer = torch.optim.SGD(model.parameters(), lr=lr, weight_decay=weight_decay, momentum=momentum, dampening=dampening)\n",
    "scheduler = torch.optim.lr_scheduler.ExponentialLR(optimizer, gamma=scheduler_gamma)\n",
    "\n",
    "loss_func = get_classification_loss_function(best_params['loss_idx'], device=model.device)"
   ]
  },
  {
   "cell_type": "code",
   "execution_count": 38,
   "metadata": {},
   "outputs": [
    {
     "data": {
      "text/plain": [
       "({'lr': 0.006692685316384107,\n",
       "  'weight_decay': 0.1859960046899889,\n",
       "  'beta1': 0.935333547084636,\n",
       "  'beta2': 0.78428474807859,\n",
       "  'momentum': 0.04838448701197648,\n",
       "  'dampening': 0.36113563277500815,\n",
       "  'optimizer_idx': 0,\n",
       "  'scheduler_gamma': 0.9608530365996862,\n",
       "  'epochs': 111,\n",
       "  'batch_size': 172,\n",
       "  'loss_idx': 1,\n",
       "  'relu_slope': 0.0073904904610118324,\n",
       "  'num_blocks': 3},\n",
       " 1817796)"
      ]
     },
     "execution_count": 38,
     "metadata": {},
     "output_type": "execute_result"
    }
   ],
   "source": [
    "best_params, sum(p.numel() for p in model.parameters())"
   ]
  },
  {
   "cell_type": "code",
   "execution_count": 39,
   "metadata": {},
   "outputs": [],
   "source": [
    "dataset = AlzheimerDataset(images, labels)"
   ]
  },
  {
   "cell_type": "code",
   "execution_count": 40,
   "metadata": {},
   "outputs": [],
   "source": [
    "dataloader = torch.utils.data.DataLoader(alzheimer_dataset, batch_size=batch_size, shuffle=True)"
   ]
  },
  {
   "cell_type": "code",
   "execution_count": 43,
   "metadata": {},
   "outputs": [
    {
     "name": "stderr",
     "output_type": "stream",
     "text": [
      "c:\\Users\\Ziv\\miniconda3\\envs\\ml-pipeline\\Lib\\site-packages\\torch\\jit\\_trace.py:1303: TracerWarning:\n",
      "\n",
      "Output nr 1. of the traced function does not match the corresponding output of the Python function. Detailed error:\n",
      "Tensor-likes are not close!\n",
      "\n",
      "Mismatched elements: 687 / 688 (99.9%)\n",
      "Greatest absolute difference: 0.061415910720825195 at index (52, 3) (up to 1e-05 allowed)\n",
      "Greatest relative difference: 0.045109700865205826 at index (165, 2) (up to 1e-05 allowed)\n",
      "\n"
     ]
    },
    {
     "data": {
      "application/vnd.jupyter.widget-view+json": {
       "model_id": "fef4ec6f09034a78abe27de81c179b52",
       "version_major": 2,
       "version_minor": 0
      },
      "text/plain": [
       "  0%|          | 0/111 [00:00<?, ?it/s]"
      ]
     },
     "metadata": {},
     "output_type": "display_data"
    },
    {
     "data": {
      "image/png": "[encoded data removed]",
      "text/plain": [
       "<Figure size 1600x1000 with 2 Axes>"
      ]
     },
     "metadata": {},
     "output_type": "display_data"
    }
   ],
   "source": [
    "overall, accuracy = train(\n",
    "    model=model,\n",
    "    optimizer=optimizer,\n",
    "    loss=loss_func,\n",
    "    epochs=epochs,\n",
    "    dataloader=dataloader,\n",
    "    val_dataset=alzheimer_dataset,\n",
    "    scheduler=scheduler,\n",
    "    plot=True,\n",
    "    show_progress=True,\n",
    "    trial=None\n",
    ")"
   ]
  },
  {
   "cell_type": "code",
   "execution_count": 58,
   "metadata": {},
   "outputs": [
    {
     "data": {
      "text/plain": [
       "ConvClassifier(\n",
       "  (encoder): ConvEncoder(\n",
       "    (relu): ReLU()\n",
       "    (flatten): Flatten(start_dim=1, end_dim=-1)\n",
       "    (conv1): Conv2d(1, 8, kernel_size=(5, 5), stride=(2, 2), padding=(3, 3), bias=False)\n",
       "    (bn1): BatchNorm2d(8, eps=1e-05, momentum=0.1, affine=True, track_running_stats=True)\n",
       "    (maxpool): MaxPool2d(kernel_size=(3, 3), stride=(2, 2), padding=(1, 1), dilation=1, ceil_mode=False)\n",
       "    (block0): Sequential(\n",
       "      (0): Conv2d(8, 8, kernel_size=(3, 3), stride=(1, 1), padding=(1, 1), bias=False)\n",
       "      (1): BatchNorm2d(8, eps=1e-05, momentum=0.1, affine=True, track_running_stats=True)\n",
       "      (2): ReLU()\n",
       "      (3): MaxPool2d(kernel_size=(3, 3), stride=1, padding=1, dilation=1, ceil_mode=False)\n",
       "      (4): BatchNorm2d(8, eps=1e-05, momentum=0.1, affine=True, track_running_stats=True)\n",
       "    )\n",
       "    (max_pool_block0): MaxPoolBlock(\n",
       "      (max_pool): MaxPool2d(kernel_size=(3, 3), stride=1, padding=1, dilation=1, ceil_mode=True)\n",
       "      (bn): BatchNorm2d(8, eps=1e-05, momentum=0.1, affine=True, track_running_stats=True)\n",
       "      (relu): ReLU()\n",
       "    )\n",
       "    (down_sample0): Sequential(\n",
       "      (0): Conv2d(8, 16, kernel_size=(3, 3), stride=(2, 2), padding=(1, 1), bias=False)\n",
       "      (1): BatchNorm2d(16, eps=1e-05, momentum=0.1, affine=True, track_running_stats=True)\n",
       "      (2): ReLU()\n",
       "    )\n",
       "    (block1): Sequential(\n",
       "      (0): Conv2d(16, 16, kernel_size=(3, 3), stride=(1, 1), padding=(1, 1), bias=False)\n",
       "      (1): BatchNorm2d(16, eps=1e-05, momentum=0.1, affine=True, track_running_stats=True)\n",
       "      (2): ReLU()\n",
       "      (3): MaxPool2d(kernel_size=(3, 3), stride=1, padding=1, dilation=1, ceil_mode=False)\n",
       "      (4): BatchNorm2d(16, eps=1e-05, momentum=0.1, affine=True, track_running_stats=True)\n",
       "    )\n",
       "    (max_pool_block1): MaxPoolBlock(\n",
       "      (max_pool): MaxPool2d(kernel_size=(3, 3), stride=1, padding=1, dilation=1, ceil_mode=True)\n",
       "      (bn): BatchNorm2d(16, eps=1e-05, momentum=0.1, affine=True, track_running_stats=True)\n",
       "      (relu): ReLU()\n",
       "    )\n",
       "    (down_sample1): Sequential(\n",
       "      (0): Conv2d(16, 32, kernel_size=(3, 3), stride=(2, 2), padding=(1, 1), bias=False)\n",
       "      (1): BatchNorm2d(32, eps=1e-05, momentum=0.1, affine=True, track_running_stats=True)\n",
       "      (2): ReLU()\n",
       "    )\n",
       "    (block2): Sequential(\n",
       "      (0): Conv2d(32, 32, kernel_size=(3, 3), stride=(1, 1), padding=(1, 1), bias=False)\n",
       "      (1): BatchNorm2d(32, eps=1e-05, momentum=0.1, affine=True, track_running_stats=True)\n",
       "      (2): ReLU()\n",
       "      (3): MaxPool2d(kernel_size=(3, 3), stride=1, padding=1, dilation=1, ceil_mode=False)\n",
       "      (4): BatchNorm2d(32, eps=1e-05, momentum=0.1, affine=True, track_running_stats=True)\n",
       "    )\n",
       "    (max_pool_block2): MaxPoolBlock(\n",
       "      (max_pool): MaxPool2d(kernel_size=(3, 3), stride=1, padding=1, dilation=1, ceil_mode=True)\n",
       "      (bn): BatchNorm2d(32, eps=1e-05, momentum=0.1, affine=True, track_running_stats=True)\n",
       "      (relu): ReLU()\n",
       "    )\n",
       "    (down_sample2): Sequential(\n",
       "      (0): Conv2d(32, 64, kernel_size=(3, 3), stride=(2, 2), padding=(1, 1), bias=False)\n",
       "      (1): BatchNorm2d(64, eps=1e-05, momentum=0.1, affine=True, track_running_stats=True)\n",
       "      (2): ReLU()\n",
       "    )\n",
       "    (encoded_mean): Linear(in_features=1920, out_features=414, bias=True)\n",
       "    (encoded_log_variance): Linear(in_features=1920, out_features=414, bias=True)\n",
       "  )\n",
       "  (block_modules): ModuleList(\n",
       "    (0): Sequential(\n",
       "      (0): Linear(in_features=414, out_features=256, bias=False)\n",
       "      (1): BatchNorm1d(256, eps=1e-05, momentum=0.1, affine=True, track_running_stats=True)\n",
       "      (2): ReLU()\n",
       "    )\n",
       "    (1): Linear(in_features=256, out_features=256, bias=False)\n",
       "    (2): BatchNorm1d(256, eps=1e-05, momentum=0.1, affine=True, track_running_stats=True)\n",
       "    (3): ReLU()\n",
       "    (4): Linear(in_features=256, out_features=64, bias=False)\n",
       "    (5): BatchNorm1d(64, eps=1e-05, momentum=0.1, affine=True, track_running_stats=True)\n",
       "    (6): ReLU()\n",
       "  )\n",
       "  (seq_output): Linear(in_features=64, out_features=4, bias=True)\n",
       "  (bn): BatchNorm1d(414, eps=1e-05, momentum=0.1, affine=True, track_running_stats=True)\n",
       "  (relu): ReLU()\n",
       "  (log_softmax): LogSoftmax(dim=1)\n",
       ")"
      ]
     },
     "execution_count": 58,
     "metadata": {},
     "output_type": "execute_result"
    }
   ],
   "source": [
    "model.eval()"
   ]
  },
  {
   "cell_type": "code",
   "execution_count": 44,
   "metadata": {},
   "outputs": [],
   "source": [
    "from PIL import Image"
   ]
  },
  {
   "cell_type": "code",
   "execution_count": 46,
   "metadata": {},
   "outputs": [],
   "source": [
    "test_data_dir = './data/alzheimer/test'\n",
    "classes = os.listdir(test_data_dir)\n",
    "class_to_idx = {}\n",
    "for i in range(len(classes)):\n",
    "    class_to_idx[classes[i]] = i\n",
    "\n",
    "total_test_images = 0\n",
    "for class_name in classes:\n",
    "    total_test_images += len(os.listdir(f'{test_data_dir}/{class_name}'))"
   ]
  },
  {
   "cell_type": "code",
   "execution_count": 52,
   "metadata": {},
   "outputs": [],
   "source": [
    "test_images = np.empty((total_test_images, 208, 176), dtype=np.uint8)\n",
    "test_labels = np.empty(total_test_images, dtype=np.uint8)"
   ]
  },
  {
   "cell_type": "code",
   "execution_count": 53,
   "metadata": {},
   "outputs": [
    {
     "data": {
      "application/vnd.jupyter.widget-view+json": {
       "model_id": "24ac7f89ef184980b375634b3126f676",
       "version_major": 2,
       "version_minor": 0
      },
      "text/plain": [
       "  0%|          | 0/179 [00:00<?, ?it/s]"
      ]
     },
     "metadata": {},
     "output_type": "display_data"
    },
    {
     "data": {
      "application/vnd.jupyter.widget-view+json": {
       "model_id": "05254b1077f94382ae3a20902d40bbd9",
       "version_major": 2,
       "version_minor": 0
      },
      "text/plain": [
       "  0%|          | 0/12 [00:00<?, ?it/s]"
      ]
     },
     "metadata": {},
     "output_type": "display_data"
    },
    {
     "data": {
      "application/vnd.jupyter.widget-view+json": {
       "model_id": "efd5f19a3495433a905b4ca758c79dfc",
       "version_major": 2,
       "version_minor": 0
      },
      "text/plain": [
       "  0%|          | 0/640 [00:00<?, ?it/s]"
      ]
     },
     "metadata": {},
     "output_type": "display_data"
    },
    {
     "data": {
      "application/vnd.jupyter.widget-view+json": {
       "model_id": "d5c16f9c4ed3442c90310771dd362357",
       "version_major": 2,
       "version_minor": 0
      },
      "text/plain": [
       "  0%|          | 0/448 [00:00<?, ?it/s]"
      ]
     },
     "metadata": {},
     "output_type": "display_data"
    }
   ],
   "source": [
    "image_idx = 0\n",
    "for class_name in classes:\n",
    "    for image_name in tqdm(os.listdir(f'{test_data_dir}/{class_name}')):\n",
    "        image_path = f'{test_data_dir}/{class_name}/{image_name}'\n",
    "        test_images[image_idx] = np.array(Image.open(image_path)).astype(np.uint8)\n",
    "        test_labels[image_idx] = class_to_idx[class_name]\n",
    "        image_idx += 1"
   ]
  },
  {
   "cell_type": "code",
   "execution_count": 54,
   "metadata": {},
   "outputs": [],
   "source": [
    "leftmost_pixel, uppermost_pixel = 16, 16\n",
    "rightmost_pixel, bottommost_pixel = 159, 191\n",
    "\n",
    "test_images = test_images[:, uppermost_pixel:bottommost_pixel+1, leftmost_pixel:rightmost_pixel+1]"
   ]
  },
  {
   "cell_type": "code",
   "execution_count": 56,
   "metadata": {},
   "outputs": [
    {
     "data": {
      "text/plain": [
       "<matplotlib.image.AxesImage at 0x1c47eccc6e0>"
      ]
     },
     "execution_count": 56,
     "metadata": {},
     "output_type": "execute_result"
    },
    {
     "data": {
      "image/png": "[encoded data removed]",
      "text/plain": [
       "<Figure size 640x480 with 1 Axes>"
      ]
     },
     "metadata": {},
     "output_type": "display_data"
    }
   ],
   "source": [
    "plt.imshow(test_images[test_labels == 1].mean(axis=0), cmap='gray')"
   ]
  },
  {
   "cell_type": "code",
   "execution_count": 57,
   "metadata": {},
   "outputs": [],
   "source": [
    "test_dataset = AlzheimerDataset(test_images, test_labels)"
   ]
  },
  {
   "cell_type": "code",
   "execution_count": 59,
   "metadata": {},
   "outputs": [],
   "source": [
    "test_output = model(test_dataset.X.to(model.device))\n",
    "predictions = torch.argmax(test_output, dim=1).to(model.device)\n",
    "accuracy = (predictions == test_dataset.y.to(model.device)).sum().item() / predictions.shape[0]"
   ]
  },
  {
   "cell_type": "code",
   "execution_count": 60,
   "metadata": {},
   "outputs": [
    {
     "data": {
      "text/plain": [
       "0.6090695856137608"
      ]
     },
     "execution_count": 60,
     "metadata": {},
     "output_type": "execute_result"
    }
   ],
   "source": [
    "accuracy"
   ]
  },
  {
   "cell_type": "code",
   "execution_count": null,
   "metadata": {},
   "outputs": [],
   "source": []
  }
 ],
 "metadata": {
  "kernelspec": {
   "display_name": "ml-pipeline",
   "language": "python",
   "name": "python3"
  },
  "language_info": {
   "codemirror_mode": {
    "name": "ipython",
    "version": 3
   },
   "file_extension": ".py",
   "mimetype": "text/x-python",
   "name": "python",
   "nbconvert_exporter": "python",
   "pygments_lexer": "ipython3",
   "version": "3.12.3"
  }
 },
 "nbformat": 4,
 "nbformat_minor": 2
}
