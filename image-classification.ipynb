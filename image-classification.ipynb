{
 "cells": [
  {
   "cell_type": "code",
   "execution_count": 1,
   "metadata": {},
   "outputs": [],
   "source": [
    "import numpy as np\n",
    "import os\n",
    "import matplotlib.pyplot as plt"
   ]
  },
  {
   "cell_type": "code",
   "execution_count": 2,
   "metadata": {},
   "outputs": [],
   "source": [
    "base_data_dir = './data'"
   ]
  },
  {
   "cell_type": "code",
   "execution_count": 3,
   "metadata": {},
   "outputs": [],
   "source": [
    "latest_data_dir_num = max([int(dir.split('_')[-1]) for dir in os.listdir(base_data_dir) if dir.split('_')[-1].isdigit()])\n",
    "data_dir = [dir for dir in os.listdir(base_data_dir) if dir.split('_')[-1].isdigit() and int(dir.split('_')[-1]) == latest_data_dir_num][0]\n",
    "data_dir = f'{base_data_dir}/{data_dir}'"
   ]
  },
  {
   "cell_type": "code",
   "execution_count": 4,
   "metadata": {},
   "outputs": [
    {
     "data": {
      "text/plain": [
       "'./data/decoded_data_50'"
      ]
     },
     "execution_count": 4,
     "metadata": {},
     "output_type": "execute_result"
    }
   ],
   "source": [
    "data_dir"
   ]
  },
  {
   "cell_type": "code",
   "execution_count": 5,
   "metadata": {},
   "outputs": [],
   "source": [
    "import h5py"
   ]
  },
  {
   "cell_type": "code",
   "execution_count": 6,
   "metadata": {},
   "outputs": [],
   "source": [
    "with h5py.File('./data/images.h5') as f:\n",
    "    images = f['images'][:]\n",
    "    labels = f['labels'][:]"
   ]
  },
  {
   "cell_type": "code",
   "execution_count": 7,
   "metadata": {},
   "outputs": [],
   "source": [
    "images = images.astype(np.float32)\n",
    "images[images.shape[0]//2:] -= images[images.shape[0]//2:].min()\n",
    "images[images.shape[0]//2:] /= images[images.shape[0]//2:].max()\n",
    "images[images.shape[0]//2:] *= 255\n",
    "images = images.astype(np.uint8)"
   ]
  },
  {
   "cell_type": "code",
   "execution_count": 8,
   "metadata": {},
   "outputs": [
    {
     "data": {
      "text/plain": [
       "(0, 255)"
      ]
     },
     "execution_count": 8,
     "metadata": {},
     "output_type": "execute_result"
    }
   ],
   "source": [
    "images[images.shape[0]//2:].min(), images[images.shape[0]//2:].max()"
   ]
  },
  {
   "cell_type": "code",
   "execution_count": 9,
   "metadata": {},
   "outputs": [],
   "source": [
    "# with h5py.File(f'{data_dir}/final_images.h5') as f:\n",
    "#     images = f['final_images'][:].squeeze()\n",
    "\n",
    "# with h5py.File(f'{data_dir}/final_labels.h5') as f:\n",
    "#     labels = f['final_labels'][:]\n",
    "\n",
    "# # loading the training and validation arrays\n",
    "# with h5py.File(f'{data_dir}/train_images.h5') as f:\n",
    "#     train_images = f['images'][:].squeeze()\n",
    "\n",
    "# with h5py.File(f'{data_dir}/train_labels.h5') as f:\n",
    "#     train_labels = f['labels'][:]\n",
    "\n",
    "# with h5py.File(f'{data_dir}/val_images.h5') as f:\n",
    "#     val_images = f['images'][:].squeeze()\n",
    "\n",
    "# with h5py.File(f'{data_dir}/val_labels.h5') as f:\n",
    "#     val_labels = f['labels'][:]"
   ]
  },
  {
   "cell_type": "code",
   "execution_count": 10,
   "metadata": {},
   "outputs": [
    {
     "data": {
      "text/plain": [
       "(20484, 176, 144)"
      ]
     },
     "execution_count": 10,
     "metadata": {},
     "output_type": "execute_result"
    }
   ],
   "source": [
    "images.shape"
   ]
  },
  {
   "cell_type": "code",
   "execution_count": 11,
   "metadata": {},
   "outputs": [],
   "source": [
    "data_dir='./data/alzheimer/train'\n",
    "classes = os.listdir(data_dir)"
   ]
  },
  {
   "cell_type": "code",
   "execution_count": 12,
   "metadata": {},
   "outputs": [],
   "source": [
    "import seaborn as sns"
   ]
  },
  {
   "cell_type": "code",
   "execution_count": 13,
   "metadata": {},
   "outputs": [],
   "source": [
    "def transform_image(image, threshold=None, return_inverse=False):\n",
    "    fft_image = np.fft.fft2(image)\n",
    "    if threshold is None:\n",
    "        threshold = 0.0000005 * np.abs(fft_image)\n",
    "    # creating a mask for zeroing low amplitudes, i.e: below the threshold\n",
    "    mask = np.ones_like(fft_image)\n",
    "    mask[np.abs(fft_image) <= threshold] = 0\n",
    "    filtered_fft_image = fft_image * mask\n",
    "    # getting the inverse fourier transform on the filtered image\n",
    "    inverse_fft_image = np.fft.ifft2(filtered_fft_image)\n",
    "    transformed_image = np.real(inverse_fft_image * np.conj(inverse_fft_image))\n",
    "    # normalizing to [0, 255] range\n",
    "    transformed_image = transformed_image / transformed_image.max()\n",
    "    transformed_image *= 255\n",
    "    if return_inverse:\n",
    "        return fft_image, transformed_image\n",
    "    return transformed_image\n",
    "\n",
    "def filter(inverse):\n",
    "    ones = np.ones_like(inverse)\n",
    "    epsilon = 0.000001\n",
    "    border = 0\n",
    "    center_y, center_x = ones.shape[0]//2, ones.shape[1]//2\n",
    "    center = np.array([center_y, center_x])\n",
    "\n",
    "    ones[center_y-border:center_y+border+1, center_x-border:center_x+border+1] = 0 + epsilon\n",
    "    v, u = np.mgrid[:inverse.shape[0], :inverse.shape[1]]\n",
    "\n",
    "    distances_from_center = np.sqrt(\n",
    "        np.square(v - center[0]) + np.square(u - center[1])\n",
    "    )\n",
    "    threshold = 40\n",
    "    mask = distances_from_center <= threshold\n",
    "\n",
    "    return inverse * mask"
   ]
  },
  {
   "cell_type": "markdown",
   "metadata": {},
   "source": [
    "## Fine tuning the autoencoder model"
   ]
  },
  {
   "cell_type": "code",
   "execution_count": 14,
   "metadata": {},
   "outputs": [],
   "source": [
    "import torch\n",
    "import torch.nn as nn"
   ]
  },
  {
   "cell_type": "code",
   "execution_count": 15,
   "metadata": {},
   "outputs": [
    {
     "data": {
      "text/plain": [
       "device(type='cuda')"
      ]
     },
     "execution_count": 15,
     "metadata": {},
     "output_type": "execute_result"
    }
   ],
   "source": [
    "device = torch.device('cuda' if torch.cuda.is_available() else 'cpu')\n",
    "device"
   ]
  },
  {
   "cell_type": "code",
   "execution_count": 16,
   "metadata": {},
   "outputs": [],
   "source": [
    "import modules.models\n",
    "from modules.models.models import ConvClassifier\n",
    "from modules.models.dataset import AlzheimerDataset"
   ]
  },
  {
   "cell_type": "code",
   "execution_count": 17,
   "metadata": {},
   "outputs": [],
   "source": [
    "import modules.db\n",
    "from modules.db.optuna_report import get_best_hyperparameters"
   ]
  },
  {
   "cell_type": "code",
   "execution_count": 18,
   "metadata": {},
   "outputs": [],
   "source": [
    "perm = torch.randperm(images.shape[0])\n",
    "val_indices = perm[:int(images.shape[0] * 0.15)].numpy()\n",
    "train_indices = np.setdiff1d(np.arange(images.shape[0]), val_indices)"
   ]
  },
  {
   "cell_type": "code",
   "execution_count": 19,
   "metadata": {},
   "outputs": [],
   "source": [
    "# using the same training and validation datasets from the autoencoder training\n",
    "train_dataset = AlzheimerDataset(images[train_indices], labels[train_indices])\n",
    "val_dataset = AlzheimerDataset(images[val_indices], labels[val_indices])"
   ]
  },
  {
   "cell_type": "code",
   "execution_count": 20,
   "metadata": {},
   "outputs": [],
   "source": [
    "params = get_best_hyperparameters(from_last_study=True) # get hyperparameters from the study, if studied\n",
    "\n",
    "train_best_params = params\n",
    "train_best_params['lr'] = train_best_params['learning_rate']"
   ]
  },
  {
   "cell_type": "code",
   "execution_count": 21,
   "metadata": {},
   "outputs": [],
   "source": [
    "params = await get_best_hyperparameters(from_last_study=True) # get hyperparameters from the study, if studied\n",
    "\n",
    "train_best_params = params[0]\n",
    "train_best_params['lr'] = train_best_params['learning_rate']"
   ]
  },
  {
   "cell_type": "code",
   "execution_count": 15,
   "metadata": {},
   "outputs": [],
   "source": [
    "def train_epoch(model, optimizer, loss, dataloader, val_dataset, overall_losses, val_overall_losses, accuracy, val_accuracy, epoch, scheduler=None, writer=None):\n",
    "    for _, (batch_X, batch_y) in enumerate(dataloader):\n",
    "        batch_X = batch_X.to(device=model.device)\n",
    "        batch_y = batch_y.to(device=model.device)\n",
    "\n",
    "        if batch_X.shape[0] == 1:\n",
    "            batch_X = torch.concat((batch_X, batch_X), dim=0).to(device=model.device)\n",
    "            batch_y = torch.concat((batch_y, batch_y), dim=0).to(device=model.device)\n",
    "        \n",
    "        optimizer.zero_grad()\n",
    "        \n",
    "        batch_output = model(batch_X)\n",
    "        batch_loss = loss(batch_output, batch_y)\n",
    "        overall_losses[epoch] += batch_loss.item()\n",
    "\n",
    "        predictions = torch.argmax(batch_output, dim=1).to(model.device)\n",
    "        accuracy[epoch] += (predictions == batch_y).sum().item()\n",
    "    \n",
    "        batch_loss.backward()\n",
    "        optimizer.step()\n",
    "    \n",
    "    # updating train metrics\n",
    "    overall_losses[epoch] /= dataloader.dataset.y.shape[0]\n",
    "    accuracy[epoch] /= dataloader.dataset.y.shape[0]\n",
    "\n",
    "    if writer:\n",
    "        writer.add_scalar('Overall Loss/Train', overall_losses[epoch], epoch)\n",
    "        writer.add_scalar('Accuracy/Train', accuracy[epoch], epoch)\n",
    "        \n",
    "    # validation\n",
    "    with torch.no_grad():\n",
    "        model.eval()\n",
    "        val_output = model(val_dataset.X.to(model.device))\n",
    "        loss_value = loss(val_output, val_dataset.y.to(model.device))\n",
    "\n",
    "        val_overall_losses[epoch] = loss_value.item() / val_dataset.y.shape[0]\n",
    "\n",
    "        predictions = torch.argmax(val_output, dim=1).to(model.device)\n",
    "        val_accuracy[epoch] = (predictions == val_dataset.y.to(model.device)).sum().item() / predictions.shape[0]\n",
    "\n",
    "        if writer:\n",
    "            writer.add_scalar('Overall Loss/Validation', val_overall_losses[epoch], epoch)\n",
    "            writer.add_scalar('Accuracy/Validation', val_accuracy[epoch], epoch)\n",
    "\n",
    "    # update learning rate after each epoch to have equal effect for every batch\n",
    "    if scheduler is not None:\n",
    "        scheduler.step()\n",
    "    "
   ]
  },
  {
   "cell_type": "code",
   "execution_count": 22,
   "metadata": {},
   "outputs": [],
   "source": [
    "from tqdm.notebook import tqdm"
   ]
  },
  {
   "cell_type": "code",
   "execution_count": 23,
   "metadata": {},
   "outputs": [],
   "source": [
    "import modules.db\n",
    "from modules.db.optuna_report import report_optuna_trial, get_last_study_id"
   ]
  },
  {
   "cell_type": "code",
   "execution_count": 24,
   "metadata": {},
   "outputs": [],
   "source": [
    "from torch.utils.tensorboard import SummaryWriter\n",
    "import optuna"
   ]
  },
  {
   "cell_type": "code",
   "execution_count": 25,
   "metadata": {},
   "outputs": [
    {
     "data": {
      "text/plain": [
       "51"
      ]
     },
     "execution_count": 25,
     "metadata": {},
     "output_type": "execute_result"
    }
   ],
   "source": [
    "classification_studies_dir = './data/studies/classification'\n",
    "if not os.path.isdir(classification_studies_dir):\n",
    "    os.mkdir(classification_studies_dir)\n",
    "studies_directories = os.listdir(classification_studies_dir)\n",
    "# if last study wasn't finished, use that study id in tensorboard and later on in resuming the optuna study\n",
    "if len(studies_directories) > 0:\n",
    "    current_study_id = studies_directories[-1].split('-')[-1]\n",
    "# last study finished successfully so we'll start a brand new one\n",
    "else:\n",
    "    current_study_id = get_last_study_id()\n",
    "current_study_id"
   ]
  },
  {
   "cell_type": "code",
   "execution_count": 26,
   "metadata": {},
   "outputs": [],
   "source": [
    "# if trial is None we're going for multi-objective optimization or we're normally training\n",
    "def train(trial, model, optimizer, loss, epochs, dataloader, val_dataset, scheduler=None, plot=True, show_progress=True):\n",
    "    log_dir = f'./logs/classification/study-{current_study_id}/trial-{trial.number}' if trial else f'./logs/classification/study-{current_study_id}/final'\n",
    "    writer = SummaryWriter(log_dir=log_dir)\n",
    "\n",
    "    writer.add_graph(model, next(iter(dataloader))[0].to(device=model.device))\n",
    "    \n",
    "    overall_losses, val_overall_losses = torch.zeros(epochs), torch.zeros(epochs)\n",
    "    accuracy, val_accuracy = torch.zeros(epochs), torch.zeros(epochs)\n",
    "    \n",
    "    # using tqdm has conflicts with optuna's study progress bar\n",
    "    epochs_range = tqdm(range(epochs)) if show_progress else range(epochs)\n",
    "    for epoch in epochs_range:\n",
    "        model.train()\n",
    "        \n",
    "        train_epoch(\n",
    "            model=model,\n",
    "            optimizer=optimizer, \n",
    "            loss=loss,\n",
    "            epoch=epoch,\n",
    "            dataloader=dataloader,\n",
    "            val_dataset=val_dataset,\n",
    "            val_overall_losses=val_overall_losses,\n",
    "            accuracy=accuracy,\n",
    "            val_accuracy=val_accuracy,\n",
    "            overall_losses=overall_losses,\n",
    "            scheduler=scheduler,\n",
    "            writer=writer\n",
    "        )\n",
    "\n",
    "        writer.flush()\n",
    "        \n",
    "        if trial is not None:\n",
    "            trial.report(overall_losses[epoch].item(), epoch)\n",
    "\n",
    "            if trial.should_prune():\n",
    "                writer.close()\n",
    "                raise optuna.TrialPruned()\n",
    "\n",
    "    if plot:\n",
    "        fig, axes = plt.subplots(1, 2, sharex=True, sharey=False, figsize=(16, 10))\n",
    "        \n",
    "        axes[0].plot(overall_losses.cpu(), color='blue', label='Train')\n",
    "        axes[0].plot(val_overall_losses.cpu(), color='orange', label='Validation')\n",
    "        axes[0].set_title('Overall Loss')\n",
    "        axes[0].legend()\n",
    "\n",
    "        axes[1].plot(accuracy.cpu(), color='blue', label='Train Accuracy')\n",
    "        axes[1].plot(val_accuracy.cpu(), color='orange', label='Validation Accuracy')\n",
    "        axes[1].set_title('Accuracy')\n",
    "        axes[1].legend()\n",
    "\n",
    "    # writer.flush()\n",
    "    writer.close()\n",
    "    \n",
    "    return (overall_losses, val_overall_losses), (accuracy, val_accuracy)"
   ]
  },
  {
   "cell_type": "code",
   "execution_count": 27,
   "metadata": {},
   "outputs": [],
   "source": [
    "def get_classification_loss_function(idx, reduction='mean', device='cpu'):\n",
    "    # getting the distribution of data\n",
    "    _, counts = np.unique(labels, return_counts=True)\n",
    "    counts = counts.astype(np.float32)\n",
    "    for i in range(len(counts)):\n",
    "        counts[i] = counts.sum() / (len(counts) * counts[i])\n",
    "    # giving minority classes larger weights\n",
    "    weights = torch.from_numpy(counts).to(dtype=torch.float32, device=device)\n",
    "    return nn.CrossEntropyLoss(reduction=reduction, weight=weights) if idx == 0 else nn.NLLLoss(reduction=reduction, weight=weights)"
   ]
  },
  {
   "cell_type": "code",
   "execution_count": 28,
   "metadata": {},
   "outputs": [],
   "source": [
    "def initialize_hyperparameters(trial):\n",
    "    lr = trial.suggest_float('lr', 1e-6, 1e-2)\n",
    "    weight_decay = trial.suggest_float('weight_decay', 0, 0)\n",
    "    beta1 = trial.suggest_float('beta1', 0.8, 0.999)\n",
    "    beta2 = trial.suggest_float('beta2', 0.5, 0.999)\n",
    "\n",
    "    momentum = trial.suggest_float('momentum', 0, 0.5)\n",
    "    dampening = trial.suggest_float('dampening', 0, 0.5)\n",
    "\n",
    "    optimizer_idx = trial.suggest_int('optimizer_idx', 0, 1)\n",
    "\n",
    "    scheduler_gamma = trial.suggest_float('scheduler_gamma', 0.8, 0.999)\n",
    "\n",
    "    epochs = trial.suggest_int('epochs', 32, 72)\n",
    "    batch_size = trial.suggest_int('batch_size', 128, 256)\n",
    "\n",
    "    loss_idx = trial.suggest_int('loss_idx', 0, 1)\n",
    "    reduction = trial.suggest_categorical('reduction', ['sum'])\n",
    "\n",
    "    relu_slope = trial.suggest_float('relu_slope', 0, 0.4)\n",
    "\n",
    "    return lr, weight_decay, (beta1, beta2), momentum, dampening, optimizer_idx, scheduler_gamma, epochs, batch_size, loss_idx, reduction, relu_slope"
   ]
  },
  {
   "cell_type": "code",
   "execution_count": 29,
   "metadata": {},
   "outputs": [],
   "source": [
    "def objective(trial):\n",
    "    (lr,\n",
    "     weight_decay,\n",
    "     betas,\n",
    "     momentum,\n",
    "     dampening,\n",
    "     optimizer_idx,\n",
    "     scheduler_gamma,\n",
    "     epochs,\n",
    "     batch_size,\n",
    "     loss_idx,\n",
    "     reduction,\n",
    "     relu_slope) = initialize_hyperparameters(trial)\n",
    "    \n",
    "    model = ConvClassifier(train_params=train_best_params, num_classes=len(np.unique(labels)),\n",
    "                           relu_slope=relu_slope, device=device, fine_tune=False).to(device)\n",
    "\n",
    "    if optimizer_idx == 0:\n",
    "        optimizer = torch.optim.Adam(model.parameters(), lr=lr, weight_decay=weight_decay, betas=betas)\n",
    "    else:\n",
    "        optimizer = torch.optim.SGD(model.parameters(), lr=lr, weight_decay=weight_decay, momentum=momentum, dampening=dampening)\n",
    "    \n",
    "    scheduler = torch.optim.lr_scheduler.ExponentialLR(optimizer, gamma=scheduler_gamma)\n",
    "    loss = get_classification_loss_function(loss_idx, reduction, device=model.device)\n",
    "    \n",
    "    dataloader = torch.utils.data.DataLoader(train_dataset, batch_size=batch_size, shuffle=True)\n",
    "    \n",
    "    overall, _ = train(\n",
    "        model=model,\n",
    "        optimizer=optimizer,\n",
    "        loss=loss,\n",
    "        epochs=epochs,\n",
    "        dataloader=dataloader,\n",
    "        val_dataset=val_dataset,\n",
    "        scheduler=scheduler,\n",
    "        plot=False,\n",
    "        show_progress=False,\n",
    "        trial=trial\n",
    "    )\n",
    "    \n",
    "    overall_train_losses, val_overall_losses = overall\n",
    "    \n",
    "    # saving the best trained model exploded the VRAM so we'll have to do with the best parameters and then retrain \n",
    "    # trial.set_user_attr(key='best_booster', value=autoencoder)\n",
    "    \n",
    "    return val_overall_losses[-1].item() # overall_train_losses[-1].item()"
   ]
  },
  {
   "cell_type": "code",
   "execution_count": 30,
   "metadata": {},
   "outputs": [],
   "source": [
    "def multi_objective(trial):\n",
    "    (lr,\n",
    "     weight_decay,\n",
    "     betas,\n",
    "     momentum,\n",
    "     dampening,\n",
    "     optimizer_idx,\n",
    "     scheduler_gamma,\n",
    "     epochs,\n",
    "     batch_size,\n",
    "     loss_idx,\n",
    "     reduction,\n",
    "     relu_slope) = initialize_hyperparameters(trial)\n",
    "    \n",
    "    model = ConvClassifier(train_params=train_best_params, num_classes=len(np.unique(labels)),\n",
    "                           relu_slope=relu_slope, device=device, fine_tune=False).to(device)\n",
    "\n",
    "    if optimizer_idx == 0:\n",
    "        optimizer = torch.optim.Adam(model.parameters(), lr=lr, weight_decay=weight_decay, betas=betas)\n",
    "    else:\n",
    "        optimizer = torch.optim.SGD(model.parameters(), lr=lr, weight_decay=weight_decay, momentum=momentum, dampening=dampening)\n",
    "\n",
    "    scheduler = torch.optim.lr_scheduler.ExponentialLR(optimizer, gamma=scheduler_gamma)\n",
    "    loss = get_classification_loss_function(loss_idx, reduction, device=model.device)\n",
    "    \n",
    "    dataloader = torch.utils.data.DataLoader(train_dataset, batch_size=batch_size, shuffle=True)\n",
    "    \n",
    "    overall, _ = train(\n",
    "        model=model,\n",
    "        optimizer=optimizer,\n",
    "        loss=loss,\n",
    "        epochs=epochs,\n",
    "        dataloader=dataloader,\n",
    "        val_dataset=val_dataset,\n",
    "        scheduler=scheduler,\n",
    "        plot=False,\n",
    "        show_progress=False,\n",
    "        trial=None\n",
    "    )\n",
    "    \n",
    "    overall_train_losses, val_overall_losses = overall\n",
    "    # train_accuracy, val_accuracy = accuracy\n",
    "    \n",
    "    # TODO: check BCE vs NLLLoss scales\n",
    "    return overall_train_losses[-1].item(), val_overall_losses[-1].item()"
   ]
  },
  {
   "cell_type": "code",
   "execution_count": 31,
   "metadata": {},
   "outputs": [],
   "source": [
    "def callback(study, trial):\n",
    "    loop = asyncio.get_event_loop()\n",
    "    loop.create_task(report_optuna_trial(study, trial))"
   ]
  },
  {
   "cell_type": "code",
   "execution_count": 32,
   "metadata": {},
   "outputs": [],
   "source": [
    "def optimize(is_multi_objective, n_trials=100):\n",
    "    directions = ['minimize', 'minimize'] if is_multi_objective else ['minimize']\n",
    "    objective_func = multi_objective if is_multi_objective else objective\n",
    "    study = optuna.create_study(directions=directions)\n",
    "    study.optimize(objective_func, n_trials=n_trials, timeout=3600*(n_trials // 30), show_progress_bar=True, gc_after_trial=True) # , callbacks=[callback])\n",
    "    return study"
   ]
  },
  {
   "cell_type": "code",
   "execution_count": 33,
   "metadata": {},
   "outputs": [
    {
     "name": "stderr",
     "output_type": "stream",
     "text": [
      "[I 2025-01-25 19:25:57,225] A new study created in memory with name: no-name-56be4e56-74a2-4962-9a5d-fce8d4782a9f\n"
     ]
    },
    {
     "data": {
      "application/vnd.jupyter.widget-view+json": {
       "model_id": "500e1366c38d4e04837ec7693c92c6bd",
       "version_major": 2,
       "version_minor": 0
      },
      "text/plain": [
       "  0%|          | 0/250 [00:00<?, ?it/s]"
      ]
     },
     "metadata": {},
     "output_type": "display_data"
    },
    {
     "name": "stdout",
     "output_type": "stream",
     "text": [
      "[I 2025-01-25 19:26:54,328] Trial 0 finished with value: 0.7325511574745178 and parameters: {'lr': 0.007296963450073473, 'weight_decay': 0.0, 'beta1': 0.8251842780101865, 'beta2': 0.7811078617066253, 'momentum': 0.0236529332079477, 'dampening': 0.48379465406810673, 'optimizer_idx': 1, 'scheduler_gamma': 0.9492746641901176, 'epochs': 63, 'batch_size': 253, 'loss_idx': 0, 'reduction': 'sum', 'relu_slope': 0.08713152101800037}. Best is trial 0 with value: 0.7325511574745178.\n",
      "[I 2025-01-25 19:27:55,875] Trial 1 finished with value: 0.6694260239601135 and parameters: {'lr': 0.007941106330307307, 'weight_decay': 0.0, 'beta1': 0.8371181142115711, 'beta2': 0.692663141017135, 'momentum': 0.47701587815596685, 'dampening': 0.19612004915795295, 'optimizer_idx': 0, 'scheduler_gamma': 0.8410006178171605, 'epochs': 67, 'batch_size': 185, 'loss_idx': 0, 'reduction': 'sum', 'relu_slope': 0.12799473093674016}. Best is trial 1 with value: 0.6694260239601135.\n",
      "[I 2025-01-25 19:28:55,218] Trial 2 finished with value: 1.0632320642471313 and parameters: {'lr': 0.000867022854537317, 'weight_decay': 0.0, 'beta1': 0.9837256357375603, 'beta2': 0.5125898591958868, 'momentum': 0.4936729577923043, 'dampening': 0.3351341472751035, 'optimizer_idx': 0, 'scheduler_gamma': 0.919049078507953, 'epochs': 66, 'batch_size': 226, 'loss_idx': 1, 'reduction': 'sum', 'relu_slope': 0.03847316117142836}. Best is trial 1 with value: 0.6694260239601135.\n",
      "[I 2025-01-25 19:29:55,961] Trial 3 finished with value: 0.6382666230201721 and parameters: {'lr': 0.0006420087616205146, 'weight_decay': 0.0, 'beta1': 0.9556940696267451, 'beta2': 0.8546843374767812, 'momentum': 0.4656402887989322, 'dampening': 0.4661781055903695, 'optimizer_idx': 1, 'scheduler_gamma': 0.9345644575478849, 'epochs': 65, 'batch_size': 151, 'loss_idx': 1, 'reduction': 'sum', 'relu_slope': 0.3141217492786763}. Best is trial 3 with value: 0.6382666230201721.\n",
      "[I 2025-01-25 19:30:36,306] Trial 4 finished with value: 0.8491696715354919 and parameters: {'lr': 0.008158844181812884, 'weight_decay': 0.0, 'beta1': 0.8441244510417344, 'beta2': 0.9351879952559845, 'momentum': 0.1322273758154675, 'dampening': 0.4319125457805241, 'optimizer_idx': 1, 'scheduler_gamma': 0.8329837600779276, 'epochs': 46, 'batch_size': 202, 'loss_idx': 0, 'reduction': 'sum', 'relu_slope': 0.021651539450198112}. Best is trial 3 with value: 0.6382666230201721.\n",
      "[I 2025-01-25 19:31:24,491] Trial 5 finished with value: 0.5994433760643005 and parameters: {'lr': 0.004743093534730086, 'weight_decay': 0.0, 'beta1': 0.8450098924270432, 'beta2': 0.7300270066839651, 'momentum': 0.09283812875348907, 'dampening': 0.08102741403298641, 'optimizer_idx': 0, 'scheduler_gamma': 0.9840898449350342, 'epochs': 55, 'batch_size': 194, 'loss_idx': 1, 'reduction': 'sum', 'relu_slope': 0.23156916700590988}. Best is trial 5 with value: 0.5994433760643005.\n",
      "[I 2025-01-25 19:31:41,327] Trial 6 pruned. \n",
      "[I 2025-01-25 19:31:42,526] Trial 7 pruned. \n",
      "[I 2025-01-25 19:31:43,854] Trial 8 pruned. \n",
      "[I 2025-01-25 19:31:45,054] Trial 9 pruned. \n",
      "[I 2025-01-25 19:31:47,132] Trial 10 pruned. \n",
      "[I 2025-01-25 19:31:48,450] Trial 11 pruned. \n",
      "[I 2025-01-25 19:31:49,763] Trial 12 pruned. \n",
      "[I 2025-01-25 19:31:51,032] Trial 13 pruned. \n",
      "[I 2025-01-25 19:32:39,622] Trial 14 finished with value: 0.5532320737838745 and parameters: {'lr': 0.0058423090761161554, 'weight_decay': 0.0, 'beta1': 0.8706950375044319, 'beta2': 0.8806691165963237, 'momentum': 0.41924090767319544, 'dampening': 0.1324523978244771, 'optimizer_idx': 0, 'scheduler_gamma': 0.963797241383421, 'epochs': 50, 'batch_size': 136, 'loss_idx': 1, 'reduction': 'sum', 'relu_slope': 0.3252126706735006}. Best is trial 14 with value: 0.5532320737838745.\n",
      "[I 2025-01-25 19:32:41,749] Trial 15 pruned. \n",
      "[I 2025-01-25 19:32:43,052] Trial 16 pruned. \n",
      "[I 2025-01-25 19:32:45,160] Trial 17 pruned. \n",
      "[I 2025-01-25 19:33:37,030] Trial 18 finished with value: 0.5036700963973999 and parameters: {'lr': 0.003977281700947611, 'weight_decay': 0.0, 'beta1': 0.8600891826836341, 'beta2': 0.9921317007962734, 'momentum': 0.3880849000070831, 'dampening': 0.1545860104423954, 'optimizer_idx': 0, 'scheduler_gamma': 0.9114181558361368, 'epochs': 57, 'batch_size': 212, 'loss_idx': 1, 'reduction': 'sum', 'relu_slope': 0.24490403764377905}. Best is trial 18 with value: 0.5036700963973999.\n",
      "[I 2025-01-25 19:34:10,248] Trial 19 finished with value: 0.5220525860786438 and parameters: {'lr': 0.002990190960507327, 'weight_decay': 0.0, 'beta1': 0.8681534925384153, 'beta2': 0.998501879358363, 'momentum': 0.4025730693442317, 'dampening': 0.2714784870271764, 'optimizer_idx': 0, 'scheduler_gamma': 0.8999590321810613, 'epochs': 37, 'batch_size': 215, 'loss_idx': 1, 'reduction': 'sum', 'relu_slope': 0.30218697587230553}. Best is trial 18 with value: 0.5036700963973999.\n",
      "[I 2025-01-25 19:34:39,635] Trial 20 finished with value: 0.40679144859313965 and parameters: {'lr': 0.002382390513393727, 'weight_decay': 0.0, 'beta1': 0.9087607477322835, 'beta2': 0.9928084813904862, 'momentum': 0.3649565390796348, 'dampening': 0.28128153107200043, 'optimizer_idx': 0, 'scheduler_gamma': 0.8991867504108174, 'epochs': 32, 'batch_size': 221, 'loss_idx': 0, 'reduction': 'sum', 'relu_slope': 0.17884674555998642}. Best is trial 20 with value: 0.40679144859313965.\n",
      "[I 2025-01-25 19:34:42,583] Trial 21 pruned. \n",
      "[I 2025-01-25 19:34:44,683] Trial 22 pruned. \n",
      "[I 2025-01-25 19:35:19,425] Trial 23 finished with value: 0.38576507568359375 and parameters: {'lr': 0.0016219542633769796, 'weight_decay': 0.0, 'beta1': 0.8969580201306598, 'beta2': 0.988561878475989, 'momentum': 0.36368715870042645, 'dampening': 0.17869861706243853, 'optimizer_idx': 0, 'scheduler_gamma': 0.9142535151227748, 'epochs': 39, 'batch_size': 214, 'loss_idx': 0, 'reduction': 'sum', 'relu_slope': 0.27916226235374436}. Best is trial 23 with value: 0.38576507568359375.\n",
      "[I 2025-01-25 19:35:55,640] Trial 24 finished with value: 0.4020374119281769 and parameters: {'lr': 0.0016863839732160545, 'weight_decay': 0.0, 'beta1': 0.8999478537820369, 'beta2': 0.9395846713015534, 'momentum': 0.34756829314554444, 'dampening': 0.17371676510021253, 'optimizer_idx': 0, 'scheduler_gamma': 0.9193819601885709, 'epochs': 41, 'batch_size': 228, 'loss_idx': 0, 'reduction': 'sum', 'relu_slope': 0.25135203687237523}. Best is trial 23 with value: 0.38576507568359375.\n",
      "[I 2025-01-25 19:35:56,844] Trial 25 pruned. \n",
      "[I 2025-01-25 19:35:58,080] Trial 26 pruned. \n",
      "[I 2025-01-25 19:35:59,280] Trial 27 pruned. \n",
      "[I 2025-01-25 19:36:03,109] Trial 28 pruned. \n",
      "[I 2025-01-25 19:36:04,312] Trial 29 pruned. \n",
      "[I 2025-01-25 19:36:05,504] Trial 30 pruned. \n",
      "[I 2025-01-25 19:36:08,450] Trial 31 pruned. \n",
      "[I 2025-01-25 19:36:10,522] Trial 32 pruned. \n",
      "[I 2025-01-25 19:36:32,687] Trial 33 pruned. \n",
      "[I 2025-01-25 19:36:55,728] Trial 34 pruned. \n",
      "[I 2025-01-25 19:37:00,388] Trial 35 pruned. \n",
      "[I 2025-01-25 19:37:01,635] Trial 36 pruned. \n",
      "[I 2025-01-25 19:37:13,217] Trial 37 pruned. \n",
      "[I 2025-01-25 19:37:14,417] Trial 38 pruned. \n",
      "[I 2025-01-25 19:37:15,635] Trial 39 pruned. \n",
      "[I 2025-01-25 19:37:16,871] Trial 40 pruned. \n",
      "[I 2025-01-25 19:37:21,729] Trial 41 pruned. \n",
      "[I 2025-01-25 19:37:24,692] Trial 42 pruned. \n",
      "[I 2025-01-25 19:37:51,458] Trial 43 pruned. \n",
      "[I 2025-01-25 19:37:52,676] Trial 44 pruned. \n",
      "[I 2025-01-25 19:37:57,375] Trial 45 pruned. \n",
      "[I 2025-01-25 19:37:58,585] Trial 46 pruned. \n",
      "[I 2025-01-25 19:38:31,444] Trial 47 finished with value: 0.4076320230960846 and parameters: {'lr': 0.0028999418937487895, 'weight_decay': 0.0, 'beta1': 0.8511145275003406, 'beta2': 0.928918469142179, 'momentum': 0.45275076431046174, 'dampening': 0.1302581865551548, 'optimizer_idx': 0, 'scheduler_gamma': 0.9376463704642714, 'epochs': 37, 'batch_size': 218, 'loss_idx': 1, 'reduction': 'sum', 'relu_slope': 0.36343984924506384}. Best is trial 23 with value: 0.38576507568359375.\n",
      "[I 2025-01-25 19:39:23,400] Trial 48 finished with value: 0.3916908800601959 and parameters: {'lr': 0.0014970698822901665, 'weight_decay': 0.0, 'beta1': 0.8330726630552053, 'beta2': 0.9303648893560347, 'momentum': 0.44199983349079375, 'dampening': 0.05645178045523183, 'optimizer_idx': 0, 'scheduler_gamma': 0.9353985630472297, 'epochs': 57, 'batch_size': 223, 'loss_idx': 1, 'reduction': 'sum', 'relu_slope': 0.352933328318247}. Best is trial 23 with value: 0.38576507568359375.\n",
      "[I 2025-01-25 19:39:31,081] Trial 49 pruned. \n",
      "[I 2025-01-25 19:39:32,351] Trial 50 pruned. \n",
      "[I 2025-01-25 19:40:22,658] Trial 51 finished with value: 0.43568089604377747 and parameters: {'lr': 0.0025311814613448507, 'weight_decay': 0.0, 'beta1': 0.8153550356906775, 'beta2': 0.9545433557171432, 'momentum': 0.4283480813379458, 'dampening': 0.041419170770442715, 'optimizer_idx': 0, 'scheduler_gamma': 0.9219827242504784, 'epochs': 55, 'batch_size': 222, 'loss_idx': 1, 'reduction': 'sum', 'relu_slope': 0.32692542797058116}. Best is trial 23 with value: 0.38576507568359375.\n",
      "[I 2025-01-25 19:40:24,773] Trial 52 pruned. \n",
      "[I 2025-01-25 19:40:29,591] Trial 53 pruned. \n",
      "[I 2025-01-25 19:41:25,342] Trial 54 finished with value: 0.4175756275653839 and parameters: {'lr': 0.002052375459347792, 'weight_decay': 0.0, 'beta1': 0.8096439353535044, 'beta2': 0.6282972876205196, 'momentum': 0.45389148511045335, 'dampening': 0.07982113918079713, 'optimizer_idx': 0, 'scheduler_gamma': 0.9361956835132571, 'epochs': 62, 'batch_size': 202, 'loss_idx': 1, 'reduction': 'sum', 'relu_slope': 0.32198193525285623}. Best is trial 23 with value: 0.38576507568359375.\n",
      "[I 2025-01-25 19:41:32,892] Trial 55 pruned. \n",
      "[I 2025-01-25 19:41:35,031] Trial 56 pruned. \n",
      "[I 2025-01-25 19:41:37,143] Trial 57 pruned. \n",
      "[I 2025-01-25 19:41:39,243] Trial 58 pruned. \n",
      "[I 2025-01-25 19:41:40,443] Trial 59 pruned. \n",
      "[I 2025-01-25 19:41:41,649] Trial 60 pruned. \n",
      "[I 2025-01-25 19:41:45,473] Trial 61 pruned. \n",
      "[I 2025-01-25 19:41:49,435] Trial 62 pruned. \n",
      "[I 2025-01-25 19:41:51,528] Trial 63 pruned. \n",
      "[I 2025-01-25 19:41:53,609] Trial 64 pruned. \n",
      "[I 2025-01-25 19:41:57,436] Trial 65 pruned. \n",
      "[I 2025-01-25 19:42:04,704] Trial 66 pruned. \n",
      "[I 2025-01-25 19:42:07,696] Trial 67 pruned. \n",
      "[I 2025-01-25 19:42:15,017] Trial 68 pruned. \n",
      "[I 2025-01-25 19:42:17,975] Trial 69 pruned. \n",
      "[I 2025-01-25 19:42:19,376] Trial 70 pruned. \n",
      "[I 2025-01-25 19:42:20,617] Trial 71 pruned. \n",
      "[I 2025-01-25 19:42:21,829] Trial 72 pruned. \n",
      "[I 2025-01-25 19:42:23,903] Trial 73 pruned. \n",
      "[I 2025-01-25 19:42:28,647] Trial 74 pruned. \n",
      "[I 2025-01-25 19:42:43,961] Trial 75 pruned. \n",
      "[I 2025-01-25 19:42:47,772] Trial 76 pruned. \n",
      "[I 2025-01-25 19:42:49,116] Trial 77 pruned. \n",
      "[I 2025-01-25 19:42:52,973] Trial 78 pruned. \n",
      "[I 2025-01-25 19:42:54,181] Trial 79 pruned. \n",
      "[I 2025-01-25 19:42:56,276] Trial 80 pruned. \n",
      "[I 2025-01-25 19:43:03,558] Trial 81 pruned. \n",
      "[I 2025-01-25 19:43:07,415] Trial 82 pruned. \n",
      "[I 2025-01-25 19:43:09,491] Trial 83 pruned. \n",
      "[I 2025-01-25 19:43:13,318] Trial 84 pruned. \n",
      "[I 2025-01-25 19:43:32,232] Trial 85 pruned. \n",
      "[I 2025-01-25 19:43:35,196] Trial 86 pruned. \n",
      "[I 2025-01-25 19:43:36,432] Trial 87 pruned. \n",
      "[I 2025-01-25 19:43:37,663] Trial 88 pruned. \n",
      "[I 2025-01-25 19:43:38,890] Trial 89 pruned. \n",
      "[I 2025-01-25 19:44:16,310] Trial 90 finished with value: 0.32032930850982666 and parameters: {'lr': 0.002159300595494236, 'weight_decay': 0.0, 'beta1': 0.8150503080502847, 'beta2': 0.9652451332853947, 'momentum': 0.4855313241577936, 'dampening': 0.3421450339287543, 'optimizer_idx': 0, 'scheduler_gamma': 0.9414520931939679, 'epochs': 42, 'batch_size': 227, 'loss_idx': 1, 'reduction': 'sum', 'relu_slope': 0.38305175496130106}. Best is trial 90 with value: 0.32032930850982666.\n",
      "[I 2025-01-25 19:44:53,951] Trial 91 finished with value: 0.3101155757904053 and parameters: {'lr': 0.002148993005685677, 'weight_decay': 0.0, 'beta1': 0.815320536349187, 'beta2': 0.9680193068275487, 'momentum': 0.4560388102117042, 'dampening': 0.3580908973487985, 'optimizer_idx': 0, 'scheduler_gamma': 0.9410464298325246, 'epochs': 42, 'batch_size': 226, 'loss_idx': 1, 'reduction': 'sum', 'relu_slope': 0.37786970557808275}. Best is trial 91 with value: 0.3101155757904053.\n",
      "[I 2025-01-25 19:45:32,440] Trial 92 finished with value: 0.4705162048339844 and parameters: {'lr': 0.0022624744955006076, 'weight_decay': 0.0, 'beta1': 0.8149000909313757, 'beta2': 0.9670468417262326, 'momentum': 0.48529613591113374, 'dampening': 0.38777709431730484, 'optimizer_idx': 0, 'scheduler_gamma': 0.9502998990038732, 'epochs': 43, 'batch_size': 233, 'loss_idx': 1, 'reduction': 'sum', 'relu_slope': 0.3905080505013099}. Best is trial 91 with value: 0.3101155757904053.\n",
      "[I 2025-01-25 19:45:33,652] Trial 93 pruned. \n",
      "[I 2025-01-25 19:45:39,288] Trial 94 pruned. \n",
      "[I 2025-01-25 19:45:40,543] Trial 95 pruned. \n",
      "[I 2025-01-25 19:45:41,797] Trial 96 pruned. \n",
      "[I 2025-01-25 19:45:47,615] Trial 97 pruned. \n",
      "[I 2025-01-25 19:45:51,736] Trial 98 pruned. \n",
      "[I 2025-01-25 19:45:52,986] Trial 99 pruned. \n",
      "[I 2025-01-25 19:45:56,948] Trial 100 pruned. \n",
      "[I 2025-01-25 19:46:04,596] Trial 101 pruned. \n",
      "[I 2025-01-25 19:46:08,536] Trial 102 pruned. \n",
      "[I 2025-01-25 19:46:12,443] Trial 103 pruned. \n",
      "[I 2025-01-25 19:46:14,596] Trial 104 pruned. \n",
      "[I 2025-01-25 19:46:15,844] Trial 105 pruned. \n",
      "[I 2025-01-25 19:46:17,994] Trial 106 pruned. \n",
      "[I 2025-01-25 19:46:22,375] Trial 107 pruned. \n",
      "[I 2025-01-25 19:46:26,289] Trial 108 pruned. \n",
      "[I 2025-01-25 19:46:30,226] Trial 109 pruned. \n",
      "[I 2025-01-25 19:46:37,767] Trial 110 pruned. \n",
      "[I 2025-01-25 19:46:39,008] Trial 111 pruned. \n",
      "[I 2025-01-25 19:47:12,363] Trial 112 finished with value: 1.3702058792114258 and parameters: {'lr': 0.002992149907106604, 'weight_decay': 0.0, 'beta1': 0.8967413377807367, 'beta2': 0.974629503065264, 'momentum': 0.4542030944092748, 'dampening': 0.3175849818570071, 'optimizer_idx': 0, 'scheduler_gamma': 0.94636614676509, 'epochs': 37, 'batch_size': 212, 'loss_idx': 1, 'reduction': 'sum', 'relu_slope': 0.31089859538694886}. Best is trial 91 with value: 0.3101155757904053.\n",
      "[I 2025-01-25 19:47:13,593] Trial 113 pruned. \n",
      "[I 2025-01-25 19:47:15,726] Trial 114 pruned. \n",
      "[I 2025-01-25 19:47:18,089] Trial 115 pruned. \n",
      "[I 2025-01-25 19:47:22,127] Trial 116 pruned. \n",
      "[I 2025-01-25 19:47:24,254] Trial 117 pruned. \n",
      "[I 2025-01-25 19:47:28,125] Trial 118 pruned. \n",
      "[I 2025-01-25 19:47:29,345] Trial 119 pruned. \n",
      "[I 2025-01-25 19:48:02,355] Trial 120 pruned. \n",
      "[I 2025-01-25 19:48:03,671] Trial 121 pruned. \n",
      "[I 2025-01-25 19:48:07,521] Trial 122 pruned. \n",
      "[I 2025-01-25 19:48:08,771] Trial 123 pruned. \n",
      "[I 2025-01-25 19:48:09,992] Trial 124 pruned. \n",
      "[I 2025-01-25 19:48:11,293] Trial 125 pruned. \n",
      "[I 2025-01-25 19:48:13,510] Trial 126 pruned. \n",
      "[I 2025-01-25 19:48:14,781] Trial 127 pruned. \n",
      "[I 2025-01-25 19:48:15,997] Trial 128 pruned. \n",
      "[I 2025-01-25 19:48:19,930] Trial 129 pruned. \n",
      "[I 2025-01-25 19:48:22,997] Trial 130 pruned. \n",
      "[I 2025-01-25 19:48:24,204] Trial 131 pruned. \n",
      "[I 2025-01-25 19:48:25,409] Trial 132 pruned. \n",
      "[I 2025-01-25 19:48:26,659] Trial 133 pruned. \n",
      "[I 2025-01-25 19:48:28,754] Trial 134 pruned. \n",
      "[I 2025-01-25 19:48:31,723] Trial 135 pruned. \n",
      "[I 2025-01-25 19:48:32,971] Trial 136 pruned. \n",
      "[I 2025-01-25 19:48:54,525] Trial 137 pruned. \n",
      "[I 2025-01-25 19:48:56,629] Trial 138 pruned. \n",
      "[I 2025-01-25 19:48:57,888] Trial 139 pruned. \n",
      "[I 2025-01-25 19:48:59,117] Trial 140 pruned. \n",
      "[I 2025-01-25 19:49:00,432] Trial 141 pruned. \n",
      "[I 2025-01-25 19:49:01,707] Trial 142 pruned. \n",
      "[I 2025-01-25 19:49:03,043] Trial 143 pruned. \n",
      "[I 2025-01-25 19:49:04,256] Trial 144 pruned. \n",
      "[I 2025-01-25 19:49:05,547] Trial 145 pruned. \n",
      "[I 2025-01-25 19:49:06,770] Trial 146 pruned. \n",
      "[I 2025-01-25 19:49:11,038] Trial 147 pruned. \n",
      "[I 2025-01-25 19:49:12,262] Trial 148 pruned. \n",
      "[I 2025-01-25 19:49:14,347] Trial 149 pruned. \n",
      "[I 2025-01-25 19:49:15,621] Trial 150 pruned. \n",
      "[I 2025-01-25 19:49:16,843] Trial 151 pruned. \n",
      "[I 2025-01-25 19:49:18,130] Trial 152 pruned. \n",
      "[I 2025-01-25 19:49:19,608] Trial 153 pruned. \n",
      "[I 2025-01-25 19:49:21,013] Trial 154 pruned. \n",
      "[I 2025-01-25 19:49:22,346] Trial 155 pruned. \n",
      "[I 2025-01-25 19:49:24,449] Trial 156 pruned. \n",
      "[I 2025-01-25 19:49:25,752] Trial 157 pruned. \n",
      "[I 2025-01-25 19:49:27,001] Trial 158 pruned. \n",
      "[I 2025-01-25 19:49:29,257] Trial 159 pruned. \n",
      "[I 2025-01-25 19:49:30,489] Trial 160 pruned. \n",
      "[I 2025-01-25 19:49:31,716] Trial 161 pruned. \n",
      "[I 2025-01-25 19:49:32,959] Trial 162 pruned. \n",
      "[I 2025-01-25 19:49:34,237] Trial 163 pruned. \n",
      "[I 2025-01-25 19:49:35,472] Trial 164 pruned. \n",
      "[I 2025-01-25 19:49:36,703] Trial 165 pruned. \n",
      "[I 2025-01-25 19:49:37,945] Trial 166 pruned. \n",
      "[I 2025-01-25 19:49:40,084] Trial 167 pruned. \n",
      "[I 2025-01-25 19:49:41,322] Trial 168 pruned. \n",
      "[I 2025-01-25 19:49:42,585] Trial 169 pruned. \n",
      "[I 2025-01-25 19:49:44,690] Trial 170 pruned. \n",
      "[I 2025-01-25 19:49:45,958] Trial 171 pruned. \n",
      "[I 2025-01-25 19:49:47,212] Trial 172 pruned. \n",
      "[I 2025-01-25 19:49:48,456] Trial 173 pruned. \n",
      "[I 2025-01-25 19:49:49,812] Trial 174 pruned. \n",
      "[I 2025-01-25 19:49:51,149] Trial 175 pruned. \n",
      "[I 2025-01-25 19:49:52,436] Trial 176 pruned. \n",
      "[I 2025-01-25 19:49:53,688] Trial 177 pruned. \n",
      "[I 2025-01-25 19:49:54,940] Trial 178 pruned. \n",
      "[I 2025-01-25 19:49:56,175] Trial 179 pruned. \n",
      "[I 2025-01-25 19:50:00,054] Trial 180 pruned. \n",
      "[I 2025-01-25 19:50:01,296] Trial 181 pruned. \n",
      "[I 2025-01-25 19:50:02,551] Trial 182 pruned. \n",
      "[I 2025-01-25 19:50:03,806] Trial 183 pruned. \n",
      "[I 2025-01-25 19:50:05,090] Trial 184 pruned. \n",
      "[I 2025-01-25 19:50:06,334] Trial 185 pruned. \n",
      "[I 2025-01-25 19:50:07,581] Trial 186 pruned. \n",
      "[I 2025-01-25 19:50:08,836] Trial 187 pruned. \n",
      "[I 2025-01-25 19:50:10,084] Trial 188 pruned. \n",
      "[I 2025-01-25 19:50:11,357] Trial 189 pruned. \n",
      "[I 2025-01-25 19:50:12,599] Trial 190 pruned. \n",
      "[I 2025-01-25 19:50:14,708] Trial 191 pruned. \n",
      "[I 2025-01-25 19:50:16,869] Trial 192 pruned. \n",
      "[I 2025-01-25 19:50:20,969] Trial 193 pruned. \n",
      "[I 2025-01-25 19:50:22,286] Trial 194 pruned. \n",
      "[I 2025-01-25 19:50:27,895] Trial 195 pruned. \n",
      "[I 2025-01-25 19:50:31,792] Trial 196 pruned. \n",
      "[I 2025-01-25 19:50:34,774] Trial 197 pruned. \n",
      "[I 2025-01-25 19:50:36,047] Trial 198 pruned. \n",
      "[I 2025-01-25 19:50:47,822] Trial 199 pruned. \n",
      "[I 2025-01-25 19:50:49,134] Trial 200 pruned. \n",
      "[I 2025-01-25 19:50:50,512] Trial 201 pruned. \n",
      "[I 2025-01-25 19:51:23,748] Trial 202 finished with value: 0.4172022044658661 and parameters: {'lr': 0.002811348441527923, 'weight_decay': 0.0, 'beta1': 0.8169046222582473, 'beta2': 0.7234609058761935, 'momentum': 0.3554117529598991, 'dampening': 0.18673571487266538, 'optimizer_idx': 0, 'scheduler_gamma': 0.9159479656341519, 'epochs': 37, 'batch_size': 227, 'loss_idx': 1, 'reduction': 'sum', 'relu_slope': 0.28657019065307393}. Best is trial 91 with value: 0.3101155757904053.\n",
      "[I 2025-01-25 19:51:26,781] Trial 203 pruned. \n",
      "[I 2025-01-25 19:51:28,022] Trial 204 pruned. \n",
      "[I 2025-01-25 19:51:29,299] Trial 205 pruned. \n",
      "[I 2025-01-25 19:51:31,682] Trial 206 pruned. \n",
      "[I 2025-01-25 19:51:34,905] Trial 207 pruned. \n",
      "[I 2025-01-25 19:51:36,132] Trial 208 pruned. \n",
      "[I 2025-01-25 19:51:37,391] Trial 209 pruned. \n",
      "[I 2025-01-25 19:51:38,641] Trial 210 pruned. \n",
      "[I 2025-01-25 19:51:39,907] Trial 211 pruned. \n",
      "[I 2025-01-25 19:51:43,814] Trial 212 pruned. \n",
      "[I 2025-01-25 19:51:45,108] Trial 213 pruned. \n",
      "[I 2025-01-25 19:51:46,359] Trial 214 pruned. \n",
      "[I 2025-01-25 19:51:47,613] Trial 215 pruned. \n",
      "[I 2025-01-25 19:51:50,063] Trial 216 pruned. \n",
      "[I 2025-01-25 19:51:51,505] Trial 217 pruned. \n",
      "[I 2025-01-25 19:51:52,850] Trial 218 pruned. \n",
      "[I 2025-01-25 19:51:54,159] Trial 219 pruned. \n",
      "[I 2025-01-25 19:51:58,203] Trial 220 pruned. \n",
      "[I 2025-01-25 19:51:59,498] Trial 221 pruned. \n",
      "[I 2025-01-25 19:52:00,813] Trial 222 pruned. \n",
      "[I 2025-01-25 19:52:04,869] Trial 223 pruned. \n",
      "[I 2025-01-25 19:52:08,849] Trial 224 pruned. \n",
      "[I 2025-01-25 19:52:10,140] Trial 225 pruned. \n",
      "[I 2025-01-25 19:52:12,305] Trial 226 pruned. \n",
      "[I 2025-01-25 19:52:13,622] Trial 227 pruned. \n",
      "[I 2025-01-25 19:52:17,612] Trial 228 pruned. \n",
      "[I 2025-01-25 19:52:19,891] Trial 229 pruned. \n",
      "[I 2025-01-25 19:52:21,290] Trial 230 pruned. \n",
      "[I 2025-01-25 19:52:22,668] Trial 231 pruned. \n",
      "[I 2025-01-25 19:52:24,848] Trial 232 pruned. \n",
      "[I 2025-01-25 19:52:27,000] Trial 233 pruned. \n",
      "[I 2025-01-25 19:52:29,248] Trial 234 pruned. \n",
      "[I 2025-01-25 19:52:33,212] Trial 235 pruned. \n",
      "[I 2025-01-25 19:52:34,533] Trial 236 pruned. \n",
      "[I 2025-01-25 19:52:36,726] Trial 237 pruned. \n",
      "[I 2025-01-25 19:52:55,175] Trial 238 pruned. \n",
      "[I 2025-01-25 19:52:56,453] Trial 239 pruned. \n",
      "[I 2025-01-25 19:52:57,720] Trial 240 pruned. \n",
      "[I 2025-01-25 19:52:58,998] Trial 241 pruned. \n",
      "[I 2025-01-25 19:53:00,341] Trial 242 pruned. \n",
      "[I 2025-01-25 19:53:07,805] Trial 243 pruned. \n",
      "[I 2025-01-25 19:53:10,824] Trial 244 pruned. \n",
      "[I 2025-01-25 19:53:14,744] Trial 245 pruned. \n",
      "[I 2025-01-25 19:53:16,007] Trial 246 pruned. \n",
      "[I 2025-01-25 19:53:18,143] Trial 247 pruned. \n",
      "[I 2025-01-25 19:53:19,553] Trial 248 pruned. \n",
      "[I 2025-01-25 19:53:21,019] Trial 249 pruned. \n"
     ]
    }
   ],
   "source": [
    "is_multi_objective = False\n",
    "n_trials = 250\n",
    "study = optimize(is_multi_objective=is_multi_objective, n_trials=n_trials)"
   ]
  },
  {
   "cell_type": "code",
   "execution_count": 34,
   "metadata": {},
   "outputs": [],
   "source": [
    "import optuna.visualization as vis"
   ]
  },
  {
   "cell_type": "code",
   "execution_count": 35,
   "metadata": {},
   "outputs": [
    {
     "data": {
      "application/vnd.plotly.v1+json": {
       "config": {
        "plotlyServerURL": "https://plot.ly"
       },
       "data": [
        {
         "cliponaxis": false,
         "hovertemplate": [
          "reduction (CategoricalDistribution): 0.0<extra></extra>",
          "weight_decay (FloatDistribution): 0.0<extra></extra>",
          "loss_idx (IntDistribution): 0.0028455970726130827<extra></extra>",
          "momentum (FloatDistribution): 0.012863390886482315<extra></extra>",
          "scheduler_gamma (FloatDistribution): 0.015048587062636214<extra></extra>",
          "optimizer_idx (IntDistribution): 0.03492957533847455<extra></extra>",
          "beta2 (FloatDistribution): 0.039229983166017855<extra></extra>",
          "batch_size (IntDistribution): 0.0735650495521526<extra></extra>",
          "epochs (IntDistribution): 0.08389080642531092<extra></extra>",
          "beta1 (FloatDistribution): 0.10813432332554294<extra></extra>",
          "dampening (FloatDistribution): 0.1915875617617729<extra></extra>",
          "lr (FloatDistribution): 0.20379124443720184<extra></extra>",
          "relu_slope (FloatDistribution): 0.23411388097179492<extra></extra>"
         ],
         "name": "Objective Value",
         "orientation": "h",
         "text": [
          "<0.01",
          "<0.01",
          "<0.01",
          "0.01",
          "0.02",
          "0.03",
          "0.04",
          "0.07",
          "0.08",
          "0.11",
          "0.19",
          "0.20",
          "0.23"
         ],
         "textposition": "outside",
         "type": "bar",
         "x": [
          0,
          0,
          0.0028455970726130827,
          0.012863390886482315,
          0.015048587062636214,
          0.03492957533847455,
          0.039229983166017855,
          0.0735650495521526,
          0.08389080642531092,
          0.10813432332554294,
          0.1915875617617729,
          0.20379124443720184,
          0.23411388097179492
         ],
         "y": [
          "reduction",
          "weight_decay",
          "loss_idx",
          "momentum",
          "scheduler_gamma",
          "optimizer_idx",
          "beta2",
          "batch_size",
          "epochs",
          "beta1",
          "dampening",
          "lr",
          "relu_slope"
         ]
        }
       ],
       "layout": {
        "template": {
         "data": {
          "bar": [
           {
            "error_x": {
             "color": "#2a3f5f"
            },
            "error_y": {
             "color": "#2a3f5f"
            },
            "marker": {
             "line": {
              "color": "#E5ECF6",
              "width": 0.5
             },
             "pattern": {
              "fillmode": "overlay",
              "size": 10,
              "solidity": 0.2
             }
            },
            "type": "bar"
           }
          ],
          "barpolar": [
           {
            "marker": {
             "line": {
              "color": "#E5ECF6",
              "width": 0.5
             },
             "pattern": {
              "fillmode": "overlay",
              "size": 10,
              "solidity": 0.2
             }
            },
            "type": "barpolar"
           }
          ],
          "carpet": [
           {
            "aaxis": {
             "endlinecolor": "#2a3f5f",
             "gridcolor": "white",
             "linecolor": "white",
             "minorgridcolor": "white",
             "startlinecolor": "#2a3f5f"
            },
            "baxis": {
             "endlinecolor": "#2a3f5f",
             "gridcolor": "white",
             "linecolor": "white",
             "minorgridcolor": "white",
             "startlinecolor": "#2a3f5f"
            },
            "type": "carpet"
           }
          ],
          "choropleth": [
           {
            "colorbar": {
             "outlinewidth": 0,
             "ticks": ""
            },
            "type": "choropleth"
           }
          ],
          "contour": [
           {
            "colorbar": {
             "outlinewidth": 0,
             "ticks": ""
            },
            "colorscale": [
             [
              0,
              "#0d0887"
             ],
             [
              0.1111111111111111,
              "#46039f"
             ],
             [
              0.2222222222222222,
              "#7201a8"
             ],
             [
              0.3333333333333333,
              "#9c179e"
             ],
             [
              0.4444444444444444,
              "#bd3786"
             ],
             [
              0.5555555555555556,
              "#d8576b"
             ],
             [
              0.6666666666666666,
              "#ed7953"
             ],
             [
              0.7777777777777778,
              "#fb9f3a"
             ],
             [
              0.8888888888888888,
              "#fdca26"
             ],
             [
              1,
              "#f0f921"
             ]
            ],
            "type": "contour"
           }
          ],
          "contourcarpet": [
           {
            "colorbar": {
             "outlinewidth": 0,
             "ticks": ""
            },
            "type": "contourcarpet"
           }
          ],
          "heatmap": [
           {
            "colorbar": {
             "outlinewidth": 0,
             "ticks": ""
            },
            "colorscale": [
             [
              0,
              "#0d0887"
             ],
             [
              0.1111111111111111,
              "#46039f"
             ],
             [
              0.2222222222222222,
              "#7201a8"
             ],
             [
              0.3333333333333333,
              "#9c179e"
             ],
             [
              0.4444444444444444,
              "#bd3786"
             ],
             [
              0.5555555555555556,
              "#d8576b"
             ],
             [
              0.6666666666666666,
              "#ed7953"
             ],
             [
              0.7777777777777778,
              "#fb9f3a"
             ],
             [
              0.8888888888888888,
              "#fdca26"
             ],
             [
              1,
              "#f0f921"
             ]
            ],
            "type": "heatmap"
           }
          ],
          "heatmapgl": [
           {
            "colorbar": {
             "outlinewidth": 0,
             "ticks": ""
            },
            "colorscale": [
             [
              0,
              "#0d0887"
             ],
             [
              0.1111111111111111,
              "#46039f"
             ],
             [
              0.2222222222222222,
              "#7201a8"
             ],
             [
              0.3333333333333333,
              "#9c179e"
             ],
             [
              0.4444444444444444,
              "#bd3786"
             ],
             [
              0.5555555555555556,
              "#d8576b"
             ],
             [
              0.6666666666666666,
              "#ed7953"
             ],
             [
              0.7777777777777778,
              "#fb9f3a"
             ],
             [
              0.8888888888888888,
              "#fdca26"
             ],
             [
              1,
              "#f0f921"
             ]
            ],
            "type": "heatmapgl"
           }
          ],
          "histogram": [
           {
            "marker": {
             "pattern": {
              "fillmode": "overlay",
              "size": 10,
              "solidity": 0.2
             }
            },
            "type": "histogram"
           }
          ],
          "histogram2d": [
           {
            "colorbar": {
             "outlinewidth": 0,
             "ticks": ""
            },
            "colorscale": [
             [
              0,
              "#0d0887"
             ],
             [
              0.1111111111111111,
              "#46039f"
             ],
             [
              0.2222222222222222,
              "#7201a8"
             ],
             [
              0.3333333333333333,
              "#9c179e"
             ],
             [
              0.4444444444444444,
              "#bd3786"
             ],
             [
              0.5555555555555556,
              "#d8576b"
             ],
             [
              0.6666666666666666,
              "#ed7953"
             ],
             [
              0.7777777777777778,
              "#fb9f3a"
             ],
             [
              0.8888888888888888,
              "#fdca26"
             ],
             [
              1,
              "#f0f921"
             ]
            ],
            "type": "histogram2d"
           }
          ],
          "histogram2dcontour": [
           {
            "colorbar": {
             "outlinewidth": 0,
             "ticks": ""
            },
            "colorscale": [
             [
              0,
              "#0d0887"
             ],
             [
              0.1111111111111111,
              "#46039f"
             ],
             [
              0.2222222222222222,
              "#7201a8"
             ],
             [
              0.3333333333333333,
              "#9c179e"
             ],
             [
              0.4444444444444444,
              "#bd3786"
             ],
             [
              0.5555555555555556,
              "#d8576b"
             ],
             [
              0.6666666666666666,
              "#ed7953"
             ],
             [
              0.7777777777777778,
              "#fb9f3a"
             ],
             [
              0.8888888888888888,
              "#fdca26"
             ],
             [
              1,
              "#f0f921"
             ]
            ],
            "type": "histogram2dcontour"
           }
          ],
          "mesh3d": [
           {
            "colorbar": {
             "outlinewidth": 0,
             "ticks": ""
            },
            "type": "mesh3d"
           }
          ],
          "parcoords": [
           {
            "line": {
             "colorbar": {
              "outlinewidth": 0,
              "ticks": ""
             }
            },
            "type": "parcoords"
           }
          ],
          "pie": [
           {
            "automargin": true,
            "type": "pie"
           }
          ],
          "scatter": [
           {
            "fillpattern": {
             "fillmode": "overlay",
             "size": 10,
             "solidity": 0.2
            },
            "type": "scatter"
           }
          ],
          "scatter3d": [
           {
            "line": {
             "colorbar": {
              "outlinewidth": 0,
              "ticks": ""
             }
            },
            "marker": {
             "colorbar": {
              "outlinewidth": 0,
              "ticks": ""
             }
            },
            "type": "scatter3d"
           }
          ],
          "scattercarpet": [
           {
            "marker": {
             "colorbar": {
              "outlinewidth": 0,
              "ticks": ""
             }
            },
            "type": "scattercarpet"
           }
          ],
          "scattergeo": [
           {
            "marker": {
             "colorbar": {
              "outlinewidth": 0,
              "ticks": ""
             }
            },
            "type": "scattergeo"
           }
          ],
          "scattergl": [
           {
            "marker": {
             "colorbar": {
              "outlinewidth": 0,
              "ticks": ""
             }
            },
            "type": "scattergl"
           }
          ],
          "scattermapbox": [
           {
            "marker": {
             "colorbar": {
              "outlinewidth": 0,
              "ticks": ""
             }
            },
            "type": "scattermapbox"
           }
          ],
          "scatterpolar": [
           {
            "marker": {
             "colorbar": {
              "outlinewidth": 0,
              "ticks": ""
             }
            },
            "type": "scatterpolar"
           }
          ],
          "scatterpolargl": [
           {
            "marker": {
             "colorbar": {
              "outlinewidth": 0,
              "ticks": ""
             }
            },
            "type": "scatterpolargl"
           }
          ],
          "scatterternary": [
           {
            "marker": {
             "colorbar": {
              "outlinewidth": 0,
              "ticks": ""
             }
            },
            "type": "scatterternary"
           }
          ],
          "surface": [
           {
            "colorbar": {
             "outlinewidth": 0,
             "ticks": ""
            },
            "colorscale": [
             [
              0,
              "#0d0887"
             ],
             [
              0.1111111111111111,
              "#46039f"
             ],
             [
              0.2222222222222222,
              "#7201a8"
             ],
             [
              0.3333333333333333,
              "#9c179e"
             ],
             [
              0.4444444444444444,
              "#bd3786"
             ],
             [
              0.5555555555555556,
              "#d8576b"
             ],
             [
              0.6666666666666666,
              "#ed7953"
             ],
             [
              0.7777777777777778,
              "#fb9f3a"
             ],
             [
              0.8888888888888888,
              "#fdca26"
             ],
             [
              1,
              "#f0f921"
             ]
            ],
            "type": "surface"
           }
          ],
          "table": [
           {
            "cells": {
             "fill": {
              "color": "#EBF0F8"
             },
             "line": {
              "color": "white"
             }
            },
            "header": {
             "fill": {
              "color": "#C8D4E3"
             },
             "line": {
              "color": "white"
             }
            },
            "type": "table"
           }
          ]
         },
         "layout": {
          "annotationdefaults": {
           "arrowcolor": "#2a3f5f",
           "arrowhead": 0,
           "arrowwidth": 1
          },
          "autotypenumbers": "strict",
          "coloraxis": {
           "colorbar": {
            "outlinewidth": 0,
            "ticks": ""
           }
          },
          "colorscale": {
           "diverging": [
            [
             0,
             "#8e0152"
            ],
            [
             0.1,
             "#c51b7d"
            ],
            [
             0.2,
             "#de77ae"
            ],
            [
             0.3,
             "#f1b6da"
            ],
            [
             0.4,
             "#fde0ef"
            ],
            [
             0.5,
             "#f7f7f7"
            ],
            [
             0.6,
             "#e6f5d0"
            ],
            [
             0.7,
             "#b8e186"
            ],
            [
             0.8,
             "#7fbc41"
            ],
            [
             0.9,
             "#4d9221"
            ],
            [
             1,
             "#276419"
            ]
           ],
           "sequential": [
            [
             0,
             "#0d0887"
            ],
            [
             0.1111111111111111,
             "#46039f"
            ],
            [
             0.2222222222222222,
             "#7201a8"
            ],
            [
             0.3333333333333333,
             "#9c179e"
            ],
            [
             0.4444444444444444,
             "#bd3786"
            ],
            [
             0.5555555555555556,
             "#d8576b"
            ],
            [
             0.6666666666666666,
             "#ed7953"
            ],
            [
             0.7777777777777778,
             "#fb9f3a"
            ],
            [
             0.8888888888888888,
             "#fdca26"
            ],
            [
             1,
             "#f0f921"
            ]
           ],
           "sequentialminus": [
            [
             0,
             "#0d0887"
            ],
            [
             0.1111111111111111,
             "#46039f"
            ],
            [
             0.2222222222222222,
             "#7201a8"
            ],
            [
             0.3333333333333333,
             "#9c179e"
            ],
            [
             0.4444444444444444,
             "#bd3786"
            ],
            [
             0.5555555555555556,
             "#d8576b"
            ],
            [
             0.6666666666666666,
             "#ed7953"
            ],
            [
             0.7777777777777778,
             "#fb9f3a"
            ],
            [
             0.8888888888888888,
             "#fdca26"
            ],
            [
             1,
             "#f0f921"
            ]
           ]
          },
          "colorway": [
           "#636efa",
           "#EF553B",
           "#00cc96",
           "#ab63fa",
           "#FFA15A",
           "#19d3f3",
           "#FF6692",
           "#B6E880",
           "#FF97FF",
           "#FECB52"
          ],
          "font": {
           "color": "#2a3f5f"
          },
          "geo": {
           "bgcolor": "white",
           "lakecolor": "white",
           "landcolor": "#E5ECF6",
           "showlakes": true,
           "showland": true,
           "subunitcolor": "white"
          },
          "hoverlabel": {
           "align": "left"
          },
          "hovermode": "closest",
          "mapbox": {
           "style": "light"
          },
          "paper_bgcolor": "white",
          "plot_bgcolor": "#E5ECF6",
          "polar": {
           "angularaxis": {
            "gridcolor": "white",
            "linecolor": "white",
            "ticks": ""
           },
           "bgcolor": "#E5ECF6",
           "radialaxis": {
            "gridcolor": "white",
            "linecolor": "white",
            "ticks": ""
           }
          },
          "scene": {
           "xaxis": {
            "backgroundcolor": "#E5ECF6",
            "gridcolor": "white",
            "gridwidth": 2,
            "linecolor": "white",
            "showbackground": true,
            "ticks": "",
            "zerolinecolor": "white"
           },
           "yaxis": {
            "backgroundcolor": "#E5ECF6",
            "gridcolor": "white",
            "gridwidth": 2,
            "linecolor": "white",
            "showbackground": true,
            "ticks": "",
            "zerolinecolor": "white"
           },
           "zaxis": {
            "backgroundcolor": "#E5ECF6",
            "gridcolor": "white",
            "gridwidth": 2,
            "linecolor": "white",
            "showbackground": true,
            "ticks": "",
            "zerolinecolor": "white"
           }
          },
          "shapedefaults": {
           "line": {
            "color": "#2a3f5f"
           }
          },
          "ternary": {
           "aaxis": {
            "gridcolor": "white",
            "linecolor": "white",
            "ticks": ""
           },
           "baxis": {
            "gridcolor": "white",
            "linecolor": "white",
            "ticks": ""
           },
           "bgcolor": "#E5ECF6",
           "caxis": {
            "gridcolor": "white",
            "linecolor": "white",
            "ticks": ""
           }
          },
          "title": {
           "x": 0.05
          },
          "xaxis": {
           "automargin": true,
           "gridcolor": "white",
           "linecolor": "white",
           "ticks": "",
           "title": {
            "standoff": 15
           },
           "zerolinecolor": "white",
           "zerolinewidth": 2
          },
          "yaxis": {
           "automargin": true,
           "gridcolor": "white",
           "linecolor": "white",
           "ticks": "",
           "title": {
            "standoff": 15
           },
           "zerolinecolor": "white",
           "zerolinewidth": 2
          }
         }
        },
        "title": {
         "text": "Hyperparameter Importances"
        },
        "xaxis": {
         "title": {
          "text": "Hyperparameter Importance"
         }
        },
        "yaxis": {
         "title": {
          "text": "Hyperparameter"
         }
        }
       }
      }
     },
     "metadata": {},
     "output_type": "display_data"
    }
   ],
   "source": [
    "vis.plot_param_importances(study)"
   ]
  },
  {
   "cell_type": "code",
   "execution_count": 36,
   "metadata": {},
   "outputs": [],
   "source": [
    "if is_multi_objective:\n",
    "    fig = vis.plot_optimization_history(study, target=lambda t: t.values[0], target_name='Loss')\n",
    "    fig.show()"
   ]
  },
  {
   "cell_type": "code",
   "execution_count": 37,
   "metadata": {},
   "outputs": [
    {
     "data": {
      "application/vnd.plotly.v1+json": {
       "config": {
        "plotlyServerURL": "https://plot.ly"
       },
       "data": [
        {
         "mode": "markers",
         "name": "Objective Value",
         "type": "scatter",
         "x": [
          0,
          1,
          2,
          3,
          4,
          5,
          14,
          18,
          19,
          20,
          23,
          24,
          47,
          48,
          51,
          54,
          90,
          91,
          92,
          112,
          202
         ],
         "y": [
          0.7325511574745178,
          0.6694260239601135,
          1.0632320642471313,
          0.6382666230201721,
          0.8491696715354919,
          0.5994433760643005,
          0.5532320737838745,
          0.5036700963973999,
          0.5220525860786438,
          0.40679144859313965,
          0.38576507568359375,
          0.4020374119281769,
          0.4076320230960846,
          0.3916908800601959,
          0.43568089604377747,
          0.4175756275653839,
          0.32032930850982666,
          0.3101155757904053,
          0.4705162048339844,
          1.3702058792114258,
          0.4172022044658661
         ]
        },
        {
         "mode": "lines",
         "name": "Best Value",
         "type": "scatter",
         "x": [
          0,
          1,
          2,
          3,
          4,
          5,
          6,
          7,
          8,
          9,
          10,
          11,
          12,
          13,
          14,
          15,
          16,
          17,
          18,
          19,
          20,
          21,
          22,
          23,
          24,
          25,
          26,
          27,
          28,
          29,
          30,
          31,
          32,
          33,
          34,
          35,
          36,
          37,
          38,
          39,
          40,
          41,
          42,
          43,
          44,
          45,
          46,
          47,
          48,
          49,
          50,
          51,
          52,
          53,
          54,
          55,
          56,
          57,
          58,
          59,
          60,
          61,
          62,
          63,
          64,
          65,
          66,
          67,
          68,
          69,
          70,
          71,
          72,
          73,
          74,
          75,
          76,
          77,
          78,
          79,
          80,
          81,
          82,
          83,
          84,
          85,
          86,
          87,
          88,
          89,
          90,
          91,
          92,
          93,
          94,
          95,
          96,
          97,
          98,
          99,
          100,
          101,
          102,
          103,
          104,
          105,
          106,
          107,
          108,
          109,
          110,
          111,
          112,
          113,
          114,
          115,
          116,
          117,
          118,
          119,
          120,
          121,
          122,
          123,
          124,
          125,
          126,
          127,
          128,
          129,
          130,
          131,
          132,
          133,
          134,
          135,
          136,
          137,
          138,
          139,
          140,
          141,
          142,
          143,
          144,
          145,
          146,
          147,
          148,
          149,
          150,
          151,
          152,
          153,
          154,
          155,
          156,
          157,
          158,
          159,
          160,
          161,
          162,
          163,
          164,
          165,
          166,
          167,
          168,
          169,
          170,
          171,
          172,
          173,
          174,
          175,
          176,
          177,
          178,
          179,
          180,
          181,
          182,
          183,
          184,
          185,
          186,
          187,
          188,
          189,
          190,
          191,
          192,
          193,
          194,
          195,
          196,
          197,
          198,
          199,
          200,
          201,
          202,
          203,
          204,
          205,
          206,
          207,
          208,
          209,
          210,
          211,
          212,
          213,
          214,
          215,
          216,
          217,
          218,
          219,
          220,
          221,
          222,
          223,
          224,
          225,
          226,
          227,
          228,
          229,
          230,
          231,
          232,
          233,
          234,
          235,
          236,
          237,
          238,
          239,
          240,
          241,
          242,
          243,
          244,
          245,
          246,
          247,
          248,
          249
         ],
         "y": [
          0.7325511574745178,
          0.6694260239601135,
          0.6694260239601135,
          0.6382666230201721,
          0.6382666230201721,
          0.5994433760643005,
          0.5994433760643005,
          0.5994433760643005,
          0.5994433760643005,
          0.5994433760643005,
          0.5994433760643005,
          0.5994433760643005,
          0.5994433760643005,
          0.5994433760643005,
          0.5532320737838745,
          0.5532320737838745,
          0.5532320737838745,
          0.5532320737838745,
          0.5036700963973999,
          0.5036700963973999,
          0.40679144859313965,
          0.40679144859313965,
          0.40679144859313965,
          0.38576507568359375,
          0.38576507568359375,
          0.38576507568359375,
          0.38576507568359375,
          0.38576507568359375,
          0.38576507568359375,
          0.38576507568359375,
          0.38576507568359375,
          0.38576507568359375,
          0.38576507568359375,
          0.38576507568359375,
          0.38576507568359375,
          0.38576507568359375,
          0.38576507568359375,
          0.38576507568359375,
          0.38576507568359375,
          0.38576507568359375,
          0.38576507568359375,
          0.38576507568359375,
          0.38576507568359375,
          0.38576507568359375,
          0.38576507568359375,
          0.38576507568359375,
          0.38576507568359375,
          0.38576507568359375,
          0.38576507568359375,
          0.38576507568359375,
          0.38576507568359375,
          0.38576507568359375,
          0.38576507568359375,
          0.38576507568359375,
          0.38576507568359375,
          0.38576507568359375,
          0.38576507568359375,
          0.38576507568359375,
          0.38576507568359375,
          0.38576507568359375,
          0.38576507568359375,
          0.38576507568359375,
          0.38576507568359375,
          0.38576507568359375,
          0.38576507568359375,
          0.38576507568359375,
          0.38576507568359375,
          0.38576507568359375,
          0.38576507568359375,
          0.38576507568359375,
          0.38576507568359375,
          0.38576507568359375,
          0.38576507568359375,
          0.38576507568359375,
          0.38576507568359375,
          0.38576507568359375,
          0.38576507568359375,
          0.38576507568359375,
          0.38576507568359375,
          0.38576507568359375,
          0.38576507568359375,
          0.38576507568359375,
          0.38576507568359375,
          0.38576507568359375,
          0.38576507568359375,
          0.38576507568359375,
          0.38576507568359375,
          0.38576507568359375,
          0.38576507568359375,
          0.38576507568359375,
          0.32032930850982666,
          0.3101155757904053,
          0.3101155757904053,
          0.3101155757904053,
          0.3101155757904053,
          0.3101155757904053,
          0.3101155757904053,
          0.3101155757904053,
          0.3101155757904053,
          0.3101155757904053,
          0.3101155757904053,
          0.3101155757904053,
          0.3101155757904053,
          0.3101155757904053,
          0.3101155757904053,
          0.3101155757904053,
          0.3101155757904053,
          0.3101155757904053,
          0.3101155757904053,
          0.3101155757904053,
          0.3101155757904053,
          0.3101155757904053,
          0.3101155757904053,
          0.3101155757904053,
          0.3101155757904053,
          0.3101155757904053,
          0.3101155757904053,
          0.3101155757904053,
          0.3101155757904053,
          0.3101155757904053,
          0.3101155757904053,
          0.3101155757904053,
          0.3101155757904053,
          0.3101155757904053,
          0.3101155757904053,
          0.3101155757904053,
          0.3101155757904053,
          0.3101155757904053,
          0.3101155757904053,
          0.3101155757904053,
          0.3101155757904053,
          0.3101155757904053,
          0.3101155757904053,
          0.3101155757904053,
          0.3101155757904053,
          0.3101155757904053,
          0.3101155757904053,
          0.3101155757904053,
          0.3101155757904053,
          0.3101155757904053,
          0.3101155757904053,
          0.3101155757904053,
          0.3101155757904053,
          0.3101155757904053,
          0.3101155757904053,
          0.3101155757904053,
          0.3101155757904053,
          0.3101155757904053,
          0.3101155757904053,
          0.3101155757904053,
          0.3101155757904053,
          0.3101155757904053,
          0.3101155757904053,
          0.3101155757904053,
          0.3101155757904053,
          0.3101155757904053,
          0.3101155757904053,
          0.3101155757904053,
          0.3101155757904053,
          0.3101155757904053,
          0.3101155757904053,
          0.3101155757904053,
          0.3101155757904053,
          0.3101155757904053,
          0.3101155757904053,
          0.3101155757904053,
          0.3101155757904053,
          0.3101155757904053,
          0.3101155757904053,
          0.3101155757904053,
          0.3101155757904053,
          0.3101155757904053,
          0.3101155757904053,
          0.3101155757904053,
          0.3101155757904053,
          0.3101155757904053,
          0.3101155757904053,
          0.3101155757904053,
          0.3101155757904053,
          0.3101155757904053,
          0.3101155757904053,
          0.3101155757904053,
          0.3101155757904053,
          0.3101155757904053,
          0.3101155757904053,
          0.3101155757904053,
          0.3101155757904053,
          0.3101155757904053,
          0.3101155757904053,
          0.3101155757904053,
          0.3101155757904053,
          0.3101155757904053,
          0.3101155757904053,
          0.3101155757904053,
          0.3101155757904053,
          0.3101155757904053,
          0.3101155757904053,
          0.3101155757904053,
          0.3101155757904053,
          0.3101155757904053,
          0.3101155757904053,
          0.3101155757904053,
          0.3101155757904053,
          0.3101155757904053,
          0.3101155757904053,
          0.3101155757904053,
          0.3101155757904053,
          0.3101155757904053,
          0.3101155757904053,
          0.3101155757904053,
          0.3101155757904053,
          0.3101155757904053,
          0.3101155757904053,
          0.3101155757904053,
          0.3101155757904053,
          0.3101155757904053,
          0.3101155757904053,
          0.3101155757904053,
          0.3101155757904053,
          0.3101155757904053,
          0.3101155757904053,
          0.3101155757904053,
          0.3101155757904053,
          0.3101155757904053,
          0.3101155757904053,
          0.3101155757904053,
          0.3101155757904053,
          0.3101155757904053,
          0.3101155757904053,
          0.3101155757904053,
          0.3101155757904053,
          0.3101155757904053,
          0.3101155757904053,
          0.3101155757904053,
          0.3101155757904053,
          0.3101155757904053,
          0.3101155757904053,
          0.3101155757904053,
          0.3101155757904053,
          0.3101155757904053,
          0.3101155757904053,
          0.3101155757904053,
          0.3101155757904053,
          0.3101155757904053,
          0.3101155757904053,
          0.3101155757904053,
          0.3101155757904053,
          0.3101155757904053,
          0.3101155757904053,
          0.3101155757904053
         ]
        },
        {
         "marker": {
          "color": "#cccccc"
         },
         "mode": "markers",
         "name": "Infeasible Trial",
         "showlegend": false,
         "type": "scatter",
         "x": [],
         "y": []
        }
       ],
       "layout": {
        "template": {
         "data": {
          "bar": [
           {
            "error_x": {
             "color": "#2a3f5f"
            },
            "error_y": {
             "color": "#2a3f5f"
            },
            "marker": {
             "line": {
              "color": "#E5ECF6",
              "width": 0.5
             },
             "pattern": {
              "fillmode": "overlay",
              "size": 10,
              "solidity": 0.2
             }
            },
            "type": "bar"
           }
          ],
          "barpolar": [
           {
            "marker": {
             "line": {
              "color": "#E5ECF6",
              "width": 0.5
             },
             "pattern": {
              "fillmode": "overlay",
              "size": 10,
              "solidity": 0.2
             }
            },
            "type": "barpolar"
           }
          ],
          "carpet": [
           {
            "aaxis": {
             "endlinecolor": "#2a3f5f",
             "gridcolor": "white",
             "linecolor": "white",
             "minorgridcolor": "white",
             "startlinecolor": "#2a3f5f"
            },
            "baxis": {
             "endlinecolor": "#2a3f5f",
             "gridcolor": "white",
             "linecolor": "white",
             "minorgridcolor": "white",
             "startlinecolor": "#2a3f5f"
            },
            "type": "carpet"
           }
          ],
          "choropleth": [
           {
            "colorbar": {
             "outlinewidth": 0,
             "ticks": ""
            },
            "type": "choropleth"
           }
          ],
          "contour": [
           {
            "colorbar": {
             "outlinewidth": 0,
             "ticks": ""
            },
            "colorscale": [
             [
              0,
              "#0d0887"
             ],
             [
              0.1111111111111111,
              "#46039f"
             ],
             [
              0.2222222222222222,
              "#7201a8"
             ],
             [
              0.3333333333333333,
              "#9c179e"
             ],
             [
              0.4444444444444444,
              "#bd3786"
             ],
             [
              0.5555555555555556,
              "#d8576b"
             ],
             [
              0.6666666666666666,
              "#ed7953"
             ],
             [
              0.7777777777777778,
              "#fb9f3a"
             ],
             [
              0.8888888888888888,
              "#fdca26"
             ],
             [
              1,
              "#f0f921"
             ]
            ],
            "type": "contour"
           }
          ],
          "contourcarpet": [
           {
            "colorbar": {
             "outlinewidth": 0,
             "ticks": ""
            },
            "type": "contourcarpet"
           }
          ],
          "heatmap": [
           {
            "colorbar": {
             "outlinewidth": 0,
             "ticks": ""
            },
            "colorscale": [
             [
              0,
              "#0d0887"
             ],
             [
              0.1111111111111111,
              "#46039f"
             ],
             [
              0.2222222222222222,
              "#7201a8"
             ],
             [
              0.3333333333333333,
              "#9c179e"
             ],
             [
              0.4444444444444444,
              "#bd3786"
             ],
             [
              0.5555555555555556,
              "#d8576b"
             ],
             [
              0.6666666666666666,
              "#ed7953"
             ],
             [
              0.7777777777777778,
              "#fb9f3a"
             ],
             [
              0.8888888888888888,
              "#fdca26"
             ],
             [
              1,
              "#f0f921"
             ]
            ],
            "type": "heatmap"
           }
          ],
          "heatmapgl": [
           {
            "colorbar": {
             "outlinewidth": 0,
             "ticks": ""
            },
            "colorscale": [
             [
              0,
              "#0d0887"
             ],
             [
              0.1111111111111111,
              "#46039f"
             ],
             [
              0.2222222222222222,
              "#7201a8"
             ],
             [
              0.3333333333333333,
              "#9c179e"
             ],
             [
              0.4444444444444444,
              "#bd3786"
             ],
             [
              0.5555555555555556,
              "#d8576b"
             ],
             [
              0.6666666666666666,
              "#ed7953"
             ],
             [
              0.7777777777777778,
              "#fb9f3a"
             ],
             [
              0.8888888888888888,
              "#fdca26"
             ],
             [
              1,
              "#f0f921"
             ]
            ],
            "type": "heatmapgl"
           }
          ],
          "histogram": [
           {
            "marker": {
             "pattern": {
              "fillmode": "overlay",
              "size": 10,
              "solidity": 0.2
             }
            },
            "type": "histogram"
           }
          ],
          "histogram2d": [
           {
            "colorbar": {
             "outlinewidth": 0,
             "ticks": ""
            },
            "colorscale": [
             [
              0,
              "#0d0887"
             ],
             [
              0.1111111111111111,
              "#46039f"
             ],
             [
              0.2222222222222222,
              "#7201a8"
             ],
             [
              0.3333333333333333,
              "#9c179e"
             ],
             [
              0.4444444444444444,
              "#bd3786"
             ],
             [
              0.5555555555555556,
              "#d8576b"
             ],
             [
              0.6666666666666666,
              "#ed7953"
             ],
             [
              0.7777777777777778,
              "#fb9f3a"
             ],
             [
              0.8888888888888888,
              "#fdca26"
             ],
             [
              1,
              "#f0f921"
             ]
            ],
            "type": "histogram2d"
           }
          ],
          "histogram2dcontour": [
           {
            "colorbar": {
             "outlinewidth": 0,
             "ticks": ""
            },
            "colorscale": [
             [
              0,
              "#0d0887"
             ],
             [
              0.1111111111111111,
              "#46039f"
             ],
             [
              0.2222222222222222,
              "#7201a8"
             ],
             [
              0.3333333333333333,
              "#9c179e"
             ],
             [
              0.4444444444444444,
              "#bd3786"
             ],
             [
              0.5555555555555556,
              "#d8576b"
             ],
             [
              0.6666666666666666,
              "#ed7953"
             ],
             [
              0.7777777777777778,
              "#fb9f3a"
             ],
             [
              0.8888888888888888,
              "#fdca26"
             ],
             [
              1,
              "#f0f921"
             ]
            ],
            "type": "histogram2dcontour"
           }
          ],
          "mesh3d": [
           {
            "colorbar": {
             "outlinewidth": 0,
             "ticks": ""
            },
            "type": "mesh3d"
           }
          ],
          "parcoords": [
           {
            "line": {
             "colorbar": {
              "outlinewidth": 0,
              "ticks": ""
             }
            },
            "type": "parcoords"
           }
          ],
          "pie": [
           {
            "automargin": true,
            "type": "pie"
           }
          ],
          "scatter": [
           {
            "fillpattern": {
             "fillmode": "overlay",
             "size": 10,
             "solidity": 0.2
            },
            "type": "scatter"
           }
          ],
          "scatter3d": [
           {
            "line": {
             "colorbar": {
              "outlinewidth": 0,
              "ticks": ""
             }
            },
            "marker": {
             "colorbar": {
              "outlinewidth": 0,
              "ticks": ""
             }
            },
            "type": "scatter3d"
           }
          ],
          "scattercarpet": [
           {
            "marker": {
             "colorbar": {
              "outlinewidth": 0,
              "ticks": ""
             }
            },
            "type": "scattercarpet"
           }
          ],
          "scattergeo": [
           {
            "marker": {
             "colorbar": {
              "outlinewidth": 0,
              "ticks": ""
             }
            },
            "type": "scattergeo"
           }
          ],
          "scattergl": [
           {
            "marker": {
             "colorbar": {
              "outlinewidth": 0,
              "ticks": ""
             }
            },
            "type": "scattergl"
           }
          ],
          "scattermapbox": [
           {
            "marker": {
             "colorbar": {
              "outlinewidth": 0,
              "ticks": ""
             }
            },
            "type": "scattermapbox"
           }
          ],
          "scatterpolar": [
           {
            "marker": {
             "colorbar": {
              "outlinewidth": 0,
              "ticks": ""
             }
            },
            "type": "scatterpolar"
           }
          ],
          "scatterpolargl": [
           {
            "marker": {
             "colorbar": {
              "outlinewidth": 0,
              "ticks": ""
             }
            },
            "type": "scatterpolargl"
           }
          ],
          "scatterternary": [
           {
            "marker": {
             "colorbar": {
              "outlinewidth": 0,
              "ticks": ""
             }
            },
            "type": "scatterternary"
           }
          ],
          "surface": [
           {
            "colorbar": {
             "outlinewidth": 0,
             "ticks": ""
            },
            "colorscale": [
             [
              0,
              "#0d0887"
             ],
             [
              0.1111111111111111,
              "#46039f"
             ],
             [
              0.2222222222222222,
              "#7201a8"
             ],
             [
              0.3333333333333333,
              "#9c179e"
             ],
             [
              0.4444444444444444,
              "#bd3786"
             ],
             [
              0.5555555555555556,
              "#d8576b"
             ],
             [
              0.6666666666666666,
              "#ed7953"
             ],
             [
              0.7777777777777778,
              "#fb9f3a"
             ],
             [
              0.8888888888888888,
              "#fdca26"
             ],
             [
              1,
              "#f0f921"
             ]
            ],
            "type": "surface"
           }
          ],
          "table": [
           {
            "cells": {
             "fill": {
              "color": "#EBF0F8"
             },
             "line": {
              "color": "white"
             }
            },
            "header": {
             "fill": {
              "color": "#C8D4E3"
             },
             "line": {
              "color": "white"
             }
            },
            "type": "table"
           }
          ]
         },
         "layout": {
          "annotationdefaults": {
           "arrowcolor": "#2a3f5f",
           "arrowhead": 0,
           "arrowwidth": 1
          },
          "autotypenumbers": "strict",
          "coloraxis": {
           "colorbar": {
            "outlinewidth": 0,
            "ticks": ""
           }
          },
          "colorscale": {
           "diverging": [
            [
             0,
             "#8e0152"
            ],
            [
             0.1,
             "#c51b7d"
            ],
            [
             0.2,
             "#de77ae"
            ],
            [
             0.3,
             "#f1b6da"
            ],
            [
             0.4,
             "#fde0ef"
            ],
            [
             0.5,
             "#f7f7f7"
            ],
            [
             0.6,
             "#e6f5d0"
            ],
            [
             0.7,
             "#b8e186"
            ],
            [
             0.8,
             "#7fbc41"
            ],
            [
             0.9,
             "#4d9221"
            ],
            [
             1,
             "#276419"
            ]
           ],
           "sequential": [
            [
             0,
             "#0d0887"
            ],
            [
             0.1111111111111111,
             "#46039f"
            ],
            [
             0.2222222222222222,
             "#7201a8"
            ],
            [
             0.3333333333333333,
             "#9c179e"
            ],
            [
             0.4444444444444444,
             "#bd3786"
            ],
            [
             0.5555555555555556,
             "#d8576b"
            ],
            [
             0.6666666666666666,
             "#ed7953"
            ],
            [
             0.7777777777777778,
             "#fb9f3a"
            ],
            [
             0.8888888888888888,
             "#fdca26"
            ],
            [
             1,
             "#f0f921"
            ]
           ],
           "sequentialminus": [
            [
             0,
             "#0d0887"
            ],
            [
             0.1111111111111111,
             "#46039f"
            ],
            [
             0.2222222222222222,
             "#7201a8"
            ],
            [
             0.3333333333333333,
             "#9c179e"
            ],
            [
             0.4444444444444444,
             "#bd3786"
            ],
            [
             0.5555555555555556,
             "#d8576b"
            ],
            [
             0.6666666666666666,
             "#ed7953"
            ],
            [
             0.7777777777777778,
             "#fb9f3a"
            ],
            [
             0.8888888888888888,
             "#fdca26"
            ],
            [
             1,
             "#f0f921"
            ]
           ]
          },
          "colorway": [
           "#636efa",
           "#EF553B",
           "#00cc96",
           "#ab63fa",
           "#FFA15A",
           "#19d3f3",
           "#FF6692",
           "#B6E880",
           "#FF97FF",
           "#FECB52"
          ],
          "font": {
           "color": "#2a3f5f"
          },
          "geo": {
           "bgcolor": "white",
           "lakecolor": "white",
           "landcolor": "#E5ECF6",
           "showlakes": true,
           "showland": true,
           "subunitcolor": "white"
          },
          "hoverlabel": {
           "align": "left"
          },
          "hovermode": "closest",
          "mapbox": {
           "style": "light"
          },
          "paper_bgcolor": "white",
          "plot_bgcolor": "#E5ECF6",
          "polar": {
           "angularaxis": {
            "gridcolor": "white",
            "linecolor": "white",
            "ticks": ""
           },
           "bgcolor": "#E5ECF6",
           "radialaxis": {
            "gridcolor": "white",
            "linecolor": "white",
            "ticks": ""
           }
          },
          "scene": {
           "xaxis": {
            "backgroundcolor": "#E5ECF6",
            "gridcolor": "white",
            "gridwidth": 2,
            "linecolor": "white",
            "showbackground": true,
            "ticks": "",
            "zerolinecolor": "white"
           },
           "yaxis": {
            "backgroundcolor": "#E5ECF6",
            "gridcolor": "white",
            "gridwidth": 2,
            "linecolor": "white",
            "showbackground": true,
            "ticks": "",
            "zerolinecolor": "white"
           },
           "zaxis": {
            "backgroundcolor": "#E5ECF6",
            "gridcolor": "white",
            "gridwidth": 2,
            "linecolor": "white",
            "showbackground": true,
            "ticks": "",
            "zerolinecolor": "white"
           }
          },
          "shapedefaults": {
           "line": {
            "color": "#2a3f5f"
           }
          },
          "ternary": {
           "aaxis": {
            "gridcolor": "white",
            "linecolor": "white",
            "ticks": ""
           },
           "baxis": {
            "gridcolor": "white",
            "linecolor": "white",
            "ticks": ""
           },
           "bgcolor": "#E5ECF6",
           "caxis": {
            "gridcolor": "white",
            "linecolor": "white",
            "ticks": ""
           }
          },
          "title": {
           "x": 0.05
          },
          "xaxis": {
           "automargin": true,
           "gridcolor": "white",
           "linecolor": "white",
           "ticks": "",
           "title": {
            "standoff": 15
           },
           "zerolinecolor": "white",
           "zerolinewidth": 2
          },
          "yaxis": {
           "automargin": true,
           "gridcolor": "white",
           "linecolor": "white",
           "ticks": "",
           "title": {
            "standoff": 15
           },
           "zerolinecolor": "white",
           "zerolinewidth": 2
          }
         }
        },
        "title": {
         "text": "Optimization History Plot"
        },
        "xaxis": {
         "title": {
          "text": "Trial"
         }
        },
        "yaxis": {
         "title": {
          "text": "Objective Value"
         }
        }
       }
      }
     },
     "metadata": {},
     "output_type": "display_data"
    }
   ],
   "source": [
    "if is_multi_objective:\n",
    "    fig = vis.plot_optimization_history(study, target=lambda t: t.values[1], target_name='Accuracy')\n",
    "else:\n",
    "    fig = vis.plot_optimization_history(study)\n",
    "fig.show()"
   ]
  },
  {
   "cell_type": "code",
   "execution_count": 38,
   "metadata": {},
   "outputs": [],
   "source": [
    "if is_multi_objective:\n",
    "    fig = vis.plot_slice(study, target=lambda t: t.values[0], target_name='Loss')\n",
    "    fig.show()"
   ]
  },
  {
   "cell_type": "code",
   "execution_count": 39,
   "metadata": {},
   "outputs": [
    {
     "data": {
      "application/vnd.plotly.v1+json": {
       "config": {
        "plotlyServerURL": "https://plot.ly"
       },
       "data": [
        {
         "marker": {
          "color": [
           0,
           1,
           2,
           3,
           4,
           5,
           14,
           18,
           19,
           20,
           23,
           24,
           47,
           48,
           51,
           54,
           90,
           91,
           92,
           112,
           202
          ],
          "colorbar": {
           "title": {
            "text": "Trial"
           },
           "x": 1,
           "xpad": 40
          },
          "colorscale": [
           [
            0,
            "rgb(247,251,255)"
           ],
           [
            0.125,
            "rgb(222,235,247)"
           ],
           [
            0.25,
            "rgb(198,219,239)"
           ],
           [
            0.375,
            "rgb(158,202,225)"
           ],
           [
            0.5,
            "rgb(107,174,214)"
           ],
           [
            0.625,
            "rgb(66,146,198)"
           ],
           [
            0.75,
            "rgb(33,113,181)"
           ],
           [
            0.875,
            "rgb(8,81,156)"
           ],
           [
            1,
            "rgb(8,48,107)"
           ]
          ],
          "line": {
           "color": "Grey",
           "width": 0.5
          },
          "showscale": true
         },
         "mode": "markers",
         "name": "Feasible Trial",
         "showlegend": false,
         "type": "scatter",
         "x": [
          253,
          185,
          226,
          151,
          202,
          194,
          136,
          212,
          215,
          221,
          214,
          228,
          218,
          223,
          222,
          202,
          227,
          226,
          233,
          212,
          227
         ],
         "xaxis": "x",
         "y": [
          0.7325511574745178,
          0.6694260239601135,
          1.0632320642471313,
          0.6382666230201721,
          0.8491696715354919,
          0.5994433760643005,
          0.5532320737838745,
          0.5036700963973999,
          0.5220525860786438,
          0.40679144859313965,
          0.38576507568359375,
          0.4020374119281769,
          0.4076320230960846,
          0.3916908800601959,
          0.43568089604377747,
          0.4175756275653839,
          0.32032930850982666,
          0.3101155757904053,
          0.4705162048339844,
          1.3702058792114258,
          0.4172022044658661
         ],
         "yaxis": "y"
        },
        {
         "marker": {
          "color": [
           0,
           1,
           2,
           3,
           4,
           5,
           14,
           18,
           19,
           20,
           23,
           24,
           47,
           48,
           51,
           54,
           90,
           91,
           92,
           112,
           202
          ],
          "colorbar": {
           "title": {
            "text": "Trial"
           },
           "x": 1,
           "xpad": 40
          },
          "colorscale": [
           [
            0,
            "rgb(247,251,255)"
           ],
           [
            0.125,
            "rgb(222,235,247)"
           ],
           [
            0.25,
            "rgb(198,219,239)"
           ],
           [
            0.375,
            "rgb(158,202,225)"
           ],
           [
            0.5,
            "rgb(107,174,214)"
           ],
           [
            0.625,
            "rgb(66,146,198)"
           ],
           [
            0.75,
            "rgb(33,113,181)"
           ],
           [
            0.875,
            "rgb(8,81,156)"
           ],
           [
            1,
            "rgb(8,48,107)"
           ]
          ],
          "line": {
           "color": "Grey",
           "width": 0.5
          },
          "showscale": false
         },
         "mode": "markers",
         "name": "Feasible Trial",
         "showlegend": false,
         "type": "scatter",
         "x": [
          0.8251842780101865,
          0.8371181142115711,
          0.9837256357375603,
          0.9556940696267451,
          0.8441244510417344,
          0.8450098924270432,
          0.8706950375044319,
          0.8600891826836341,
          0.8681534925384153,
          0.9087607477322835,
          0.8969580201306598,
          0.8999478537820369,
          0.8511145275003406,
          0.8330726630552053,
          0.8153550356906775,
          0.8096439353535044,
          0.8150503080502847,
          0.815320536349187,
          0.8149000909313757,
          0.8967413377807367,
          0.8169046222582473
         ],
         "xaxis": "x2",
         "y": [
          0.7325511574745178,
          0.6694260239601135,
          1.0632320642471313,
          0.6382666230201721,
          0.8491696715354919,
          0.5994433760643005,
          0.5532320737838745,
          0.5036700963973999,
          0.5220525860786438,
          0.40679144859313965,
          0.38576507568359375,
          0.4020374119281769,
          0.4076320230960846,
          0.3916908800601959,
          0.43568089604377747,
          0.4175756275653839,
          0.32032930850982666,
          0.3101155757904053,
          0.4705162048339844,
          1.3702058792114258,
          0.4172022044658661
         ],
         "yaxis": "y2"
        },
        {
         "marker": {
          "color": [
           0,
           1,
           2,
           3,
           4,
           5,
           14,
           18,
           19,
           20,
           23,
           24,
           47,
           48,
           51,
           54,
           90,
           91,
           92,
           112,
           202
          ],
          "colorbar": {
           "title": {
            "text": "Trial"
           },
           "x": 1,
           "xpad": 40
          },
          "colorscale": [
           [
            0,
            "rgb(247,251,255)"
           ],
           [
            0.125,
            "rgb(222,235,247)"
           ],
           [
            0.25,
            "rgb(198,219,239)"
           ],
           [
            0.375,
            "rgb(158,202,225)"
           ],
           [
            0.5,
            "rgb(107,174,214)"
           ],
           [
            0.625,
            "rgb(66,146,198)"
           ],
           [
            0.75,
            "rgb(33,113,181)"
           ],
           [
            0.875,
            "rgb(8,81,156)"
           ],
           [
            1,
            "rgb(8,48,107)"
           ]
          ],
          "line": {
           "color": "Grey",
           "width": 0.5
          },
          "showscale": false
         },
         "mode": "markers",
         "name": "Feasible Trial",
         "showlegend": false,
         "type": "scatter",
         "x": [
          0.7811078617066253,
          0.692663141017135,
          0.5125898591958868,
          0.8546843374767812,
          0.9351879952559845,
          0.7300270066839651,
          0.8806691165963237,
          0.9921317007962734,
          0.998501879358363,
          0.9928084813904862,
          0.988561878475989,
          0.9395846713015534,
          0.928918469142179,
          0.9303648893560347,
          0.9545433557171432,
          0.6282972876205196,
          0.9652451332853947,
          0.9680193068275487,
          0.9670468417262326,
          0.974629503065264,
          0.7234609058761935
         ],
         "xaxis": "x3",
         "y": [
          0.7325511574745178,
          0.6694260239601135,
          1.0632320642471313,
          0.6382666230201721,
          0.8491696715354919,
          0.5994433760643005,
          0.5532320737838745,
          0.5036700963973999,
          0.5220525860786438,
          0.40679144859313965,
          0.38576507568359375,
          0.4020374119281769,
          0.4076320230960846,
          0.3916908800601959,
          0.43568089604377747,
          0.4175756275653839,
          0.32032930850982666,
          0.3101155757904053,
          0.4705162048339844,
          1.3702058792114258,
          0.4172022044658661
         ],
         "yaxis": "y3"
        },
        {
         "marker": {
          "color": [
           0,
           1,
           2,
           3,
           4,
           5,
           14,
           18,
           19,
           20,
           23,
           24,
           47,
           48,
           51,
           54,
           90,
           91,
           92,
           112,
           202
          ],
          "colorbar": {
           "title": {
            "text": "Trial"
           },
           "x": 1,
           "xpad": 40
          },
          "colorscale": [
           [
            0,
            "rgb(247,251,255)"
           ],
           [
            0.125,
            "rgb(222,235,247)"
           ],
           [
            0.25,
            "rgb(198,219,239)"
           ],
           [
            0.375,
            "rgb(158,202,225)"
           ],
           [
            0.5,
            "rgb(107,174,214)"
           ],
           [
            0.625,
            "rgb(66,146,198)"
           ],
           [
            0.75,
            "rgb(33,113,181)"
           ],
           [
            0.875,
            "rgb(8,81,156)"
           ],
           [
            1,
            "rgb(8,48,107)"
           ]
          ],
          "line": {
           "color": "Grey",
           "width": 0.5
          },
          "showscale": false
         },
         "mode": "markers",
         "name": "Feasible Trial",
         "showlegend": false,
         "type": "scatter",
         "x": [
          0.48379465406810673,
          0.19612004915795295,
          0.3351341472751035,
          0.4661781055903695,
          0.4319125457805241,
          0.08102741403298641,
          0.1324523978244771,
          0.1545860104423954,
          0.2714784870271764,
          0.28128153107200043,
          0.17869861706243853,
          0.17371676510021253,
          0.1302581865551548,
          0.05645178045523183,
          0.041419170770442715,
          0.07982113918079713,
          0.3421450339287543,
          0.3580908973487985,
          0.38777709431730484,
          0.3175849818570071,
          0.18673571487266538
         ],
         "xaxis": "x4",
         "y": [
          0.7325511574745178,
          0.6694260239601135,
          1.0632320642471313,
          0.6382666230201721,
          0.8491696715354919,
          0.5994433760643005,
          0.5532320737838745,
          0.5036700963973999,
          0.5220525860786438,
          0.40679144859313965,
          0.38576507568359375,
          0.4020374119281769,
          0.4076320230960846,
          0.3916908800601959,
          0.43568089604377747,
          0.4175756275653839,
          0.32032930850982666,
          0.3101155757904053,
          0.4705162048339844,
          1.3702058792114258,
          0.4172022044658661
         ],
         "yaxis": "y4"
        },
        {
         "marker": {
          "color": [
           0,
           1,
           2,
           3,
           4,
           5,
           14,
           18,
           19,
           20,
           23,
           24,
           47,
           48,
           51,
           54,
           90,
           91,
           92,
           112,
           202
          ],
          "colorbar": {
           "title": {
            "text": "Trial"
           },
           "x": 1,
           "xpad": 40
          },
          "colorscale": [
           [
            0,
            "rgb(247,251,255)"
           ],
           [
            0.125,
            "rgb(222,235,247)"
           ],
           [
            0.25,
            "rgb(198,219,239)"
           ],
           [
            0.375,
            "rgb(158,202,225)"
           ],
           [
            0.5,
            "rgb(107,174,214)"
           ],
           [
            0.625,
            "rgb(66,146,198)"
           ],
           [
            0.75,
            "rgb(33,113,181)"
           ],
           [
            0.875,
            "rgb(8,81,156)"
           ],
           [
            1,
            "rgb(8,48,107)"
           ]
          ],
          "line": {
           "color": "Grey",
           "width": 0.5
          },
          "showscale": false
         },
         "mode": "markers",
         "name": "Feasible Trial",
         "showlegend": false,
         "type": "scatter",
         "x": [
          63,
          67,
          66,
          65,
          46,
          55,
          50,
          57,
          37,
          32,
          39,
          41,
          37,
          57,
          55,
          62,
          42,
          42,
          43,
          37,
          37
         ],
         "xaxis": "x5",
         "y": [
          0.7325511574745178,
          0.6694260239601135,
          1.0632320642471313,
          0.6382666230201721,
          0.8491696715354919,
          0.5994433760643005,
          0.5532320737838745,
          0.5036700963973999,
          0.5220525860786438,
          0.40679144859313965,
          0.38576507568359375,
          0.4020374119281769,
          0.4076320230960846,
          0.3916908800601959,
          0.43568089604377747,
          0.4175756275653839,
          0.32032930850982666,
          0.3101155757904053,
          0.4705162048339844,
          1.3702058792114258,
          0.4172022044658661
         ],
         "yaxis": "y5"
        },
        {
         "marker": {
          "color": [
           0,
           1,
           2,
           3,
           4,
           5,
           14,
           18,
           19,
           20,
           23,
           24,
           47,
           48,
           51,
           54,
           90,
           91,
           92,
           112,
           202
          ],
          "colorbar": {
           "title": {
            "text": "Trial"
           },
           "x": 1,
           "xpad": 40
          },
          "colorscale": [
           [
            0,
            "rgb(247,251,255)"
           ],
           [
            0.125,
            "rgb(222,235,247)"
           ],
           [
            0.25,
            "rgb(198,219,239)"
           ],
           [
            0.375,
            "rgb(158,202,225)"
           ],
           [
            0.5,
            "rgb(107,174,214)"
           ],
           [
            0.625,
            "rgb(66,146,198)"
           ],
           [
            0.75,
            "rgb(33,113,181)"
           ],
           [
            0.875,
            "rgb(8,81,156)"
           ],
           [
            1,
            "rgb(8,48,107)"
           ]
          ],
          "line": {
           "color": "Grey",
           "width": 0.5
          },
          "showscale": false
         },
         "mode": "markers",
         "name": "Feasible Trial",
         "showlegend": false,
         "type": "scatter",
         "x": [
          0,
          1,
          0,
          1,
          1,
          0,
          1,
          1,
          0,
          1,
          1,
          1,
          1,
          0,
          0,
          0,
          1,
          1,
          1,
          1,
          1,
          1,
          1,
          1,
          1
         ],
         "xaxis": "x6",
         "y": [
          0.7325511574745178,
          0.6694260239601135,
          1.0632320642471313,
          0.6382666230201721,
          0.8491696715354919,
          0.5994433760643005,
          0.5532320737838745,
          0.5036700963973999,
          0.5220525860786438,
          0.40679144859313965,
          0.38576507568359375,
          0.4020374119281769,
          0.4076320230960846,
          0.3916908800601959,
          0.43568089604377747,
          0.4175756275653839,
          0.32032930850982666,
          0.3101155757904053,
          0.4705162048339844,
          1.3702058792114258,
          0.4172022044658661
         ],
         "yaxis": "y6"
        },
        {
         "marker": {
          "color": [
           0,
           1,
           2,
           3,
           4,
           5,
           14,
           18,
           19,
           20,
           23,
           24,
           47,
           48,
           51,
           54,
           90,
           91,
           92,
           112,
           202
          ],
          "colorbar": {
           "title": {
            "text": "Trial"
           },
           "x": 1,
           "xpad": 40
          },
          "colorscale": [
           [
            0,
            "rgb(247,251,255)"
           ],
           [
            0.125,
            "rgb(222,235,247)"
           ],
           [
            0.25,
            "rgb(198,219,239)"
           ],
           [
            0.375,
            "rgb(158,202,225)"
           ],
           [
            0.5,
            "rgb(107,174,214)"
           ],
           [
            0.625,
            "rgb(66,146,198)"
           ],
           [
            0.75,
            "rgb(33,113,181)"
           ],
           [
            0.875,
            "rgb(8,81,156)"
           ],
           [
            1,
            "rgb(8,48,107)"
           ]
          ],
          "line": {
           "color": "Grey",
           "width": 0.5
          },
          "showscale": false
         },
         "mode": "markers",
         "name": "Feasible Trial",
         "showlegend": false,
         "type": "scatter",
         "x": [
          0.007296963450073473,
          0.007941106330307307,
          0.000867022854537317,
          0.0006420087616205146,
          0.008158844181812884,
          0.004743093534730086,
          0.0058423090761161554,
          0.003977281700947611,
          0.002990190960507327,
          0.002382390513393727,
          0.0016219542633769796,
          0.0016863839732160545,
          0.0028999418937487895,
          0.0014970698822901665,
          0.0025311814613448507,
          0.002052375459347792,
          0.002159300595494236,
          0.002148993005685677,
          0.0022624744955006076,
          0.002992149907106604,
          0.002811348441527923
         ],
         "xaxis": "x7",
         "y": [
          0.7325511574745178,
          0.6694260239601135,
          1.0632320642471313,
          0.6382666230201721,
          0.8491696715354919,
          0.5994433760643005,
          0.5532320737838745,
          0.5036700963973999,
          0.5220525860786438,
          0.40679144859313965,
          0.38576507568359375,
          0.4020374119281769,
          0.4076320230960846,
          0.3916908800601959,
          0.43568089604377747,
          0.4175756275653839,
          0.32032930850982666,
          0.3101155757904053,
          0.4705162048339844,
          1.3702058792114258,
          0.4172022044658661
         ],
         "yaxis": "y7"
        },
        {
         "marker": {
          "color": [
           0,
           1,
           2,
           3,
           4,
           5,
           14,
           18,
           19,
           20,
           23,
           24,
           47,
           48,
           51,
           54,
           90,
           91,
           92,
           112,
           202
          ],
          "colorbar": {
           "title": {
            "text": "Trial"
           },
           "x": 1,
           "xpad": 40
          },
          "colorscale": [
           [
            0,
            "rgb(247,251,255)"
           ],
           [
            0.125,
            "rgb(222,235,247)"
           ],
           [
            0.25,
            "rgb(198,219,239)"
           ],
           [
            0.375,
            "rgb(158,202,225)"
           ],
           [
            0.5,
            "rgb(107,174,214)"
           ],
           [
            0.625,
            "rgb(66,146,198)"
           ],
           [
            0.75,
            "rgb(33,113,181)"
           ],
           [
            0.875,
            "rgb(8,81,156)"
           ],
           [
            1,
            "rgb(8,48,107)"
           ]
          ],
          "line": {
           "color": "Grey",
           "width": 0.5
          },
          "showscale": false
         },
         "mode": "markers",
         "name": "Feasible Trial",
         "showlegend": false,
         "type": "scatter",
         "x": [
          0.0236529332079477,
          0.47701587815596685,
          0.4936729577923043,
          0.4656402887989322,
          0.1322273758154675,
          0.09283812875348907,
          0.41924090767319544,
          0.3880849000070831,
          0.4025730693442317,
          0.3649565390796348,
          0.36368715870042645,
          0.34756829314554444,
          0.45275076431046174,
          0.44199983349079375,
          0.4283480813379458,
          0.45389148511045335,
          0.4855313241577936,
          0.4560388102117042,
          0.48529613591113374,
          0.4542030944092748,
          0.3554117529598991
         ],
         "xaxis": "x8",
         "y": [
          0.7325511574745178,
          0.6694260239601135,
          1.0632320642471313,
          0.6382666230201721,
          0.8491696715354919,
          0.5994433760643005,
          0.5532320737838745,
          0.5036700963973999,
          0.5220525860786438,
          0.40679144859313965,
          0.38576507568359375,
          0.4020374119281769,
          0.4076320230960846,
          0.3916908800601959,
          0.43568089604377747,
          0.4175756275653839,
          0.32032930850982666,
          0.3101155757904053,
          0.4705162048339844,
          1.3702058792114258,
          0.4172022044658661
         ],
         "yaxis": "y8"
        },
        {
         "marker": {
          "color": [
           0,
           1,
           2,
           3,
           4,
           5,
           14,
           18,
           19,
           20,
           23,
           24,
           47,
           48,
           51,
           54,
           90,
           91,
           92,
           112,
           202
          ],
          "colorbar": {
           "title": {
            "text": "Trial"
           },
           "x": 1,
           "xpad": 40
          },
          "colorscale": [
           [
            0,
            "rgb(247,251,255)"
           ],
           [
            0.125,
            "rgb(222,235,247)"
           ],
           [
            0.25,
            "rgb(198,219,239)"
           ],
           [
            0.375,
            "rgb(158,202,225)"
           ],
           [
            0.5,
            "rgb(107,174,214)"
           ],
           [
            0.625,
            "rgb(66,146,198)"
           ],
           [
            0.75,
            "rgb(33,113,181)"
           ],
           [
            0.875,
            "rgb(8,81,156)"
           ],
           [
            1,
            "rgb(8,48,107)"
           ]
          ],
          "line": {
           "color": "Grey",
           "width": 0.5
          },
          "showscale": false
         },
         "mode": "markers",
         "name": "Feasible Trial",
         "showlegend": false,
         "type": "scatter",
         "x": [
          1,
          0,
          0,
          1,
          1,
          0,
          0,
          0,
          0,
          0,
          0,
          0,
          0,
          0,
          0,
          0,
          0,
          0,
          0,
          0,
          0
         ],
         "xaxis": "x9",
         "y": [
          0.7325511574745178,
          0.6694260239601135,
          1.0632320642471313,
          0.6382666230201721,
          0.8491696715354919,
          0.5994433760643005,
          0.5532320737838745,
          0.5036700963973999,
          0.5220525860786438,
          0.40679144859313965,
          0.38576507568359375,
          0.4020374119281769,
          0.4076320230960846,
          0.3916908800601959,
          0.43568089604377747,
          0.4175756275653839,
          0.32032930850982666,
          0.3101155757904053,
          0.4705162048339844,
          1.3702058792114258,
          0.4172022044658661
         ],
         "yaxis": "y9"
        },
        {
         "marker": {
          "color": [
           0,
           1,
           2,
           3,
           4,
           5,
           14,
           18,
           19,
           20,
           23,
           24,
           47,
           48,
           51,
           54,
           90,
           91,
           92,
           112,
           202
          ],
          "colorbar": {
           "title": {
            "text": "Trial"
           },
           "x": 1,
           "xpad": 40
          },
          "colorscale": [
           [
            0,
            "rgb(247,251,255)"
           ],
           [
            0.125,
            "rgb(222,235,247)"
           ],
           [
            0.25,
            "rgb(198,219,239)"
           ],
           [
            0.375,
            "rgb(158,202,225)"
           ],
           [
            0.5,
            "rgb(107,174,214)"
           ],
           [
            0.625,
            "rgb(66,146,198)"
           ],
           [
            0.75,
            "rgb(33,113,181)"
           ],
           [
            0.875,
            "rgb(8,81,156)"
           ],
           [
            1,
            "rgb(8,48,107)"
           ]
          ],
          "line": {
           "color": "Grey",
           "width": 0.5
          },
          "showscale": false
         },
         "mode": "markers",
         "name": "Feasible Trial",
         "showlegend": false,
         "type": "scatter",
         "x": [
          "sum",
          "sum",
          "sum",
          "sum",
          "sum",
          "sum",
          "sum",
          "sum",
          "sum",
          "sum",
          "sum",
          "sum",
          "sum",
          "sum",
          "sum",
          "sum",
          "sum",
          "sum",
          "sum",
          "sum",
          "sum"
         ],
         "xaxis": "x10",
         "y": [
          0.7325511574745178,
          0.6694260239601135,
          1.0632320642471313,
          0.6382666230201721,
          0.8491696715354919,
          0.5994433760643005,
          0.5532320737838745,
          0.5036700963973999,
          0.5220525860786438,
          0.40679144859313965,
          0.38576507568359375,
          0.4020374119281769,
          0.4076320230960846,
          0.3916908800601959,
          0.43568089604377747,
          0.4175756275653839,
          0.32032930850982666,
          0.3101155757904053,
          0.4705162048339844,
          1.3702058792114258,
          0.4172022044658661
         ],
         "yaxis": "y10"
        },
        {
         "marker": {
          "color": [
           0,
           1,
           2,
           3,
           4,
           5,
           14,
           18,
           19,
           20,
           23,
           24,
           47,
           48,
           51,
           54,
           90,
           91,
           92,
           112,
           202
          ],
          "colorbar": {
           "title": {
            "text": "Trial"
           },
           "x": 1,
           "xpad": 40
          },
          "colorscale": [
           [
            0,
            "rgb(247,251,255)"
           ],
           [
            0.125,
            "rgb(222,235,247)"
           ],
           [
            0.25,
            "rgb(198,219,239)"
           ],
           [
            0.375,
            "rgb(158,202,225)"
           ],
           [
            0.5,
            "rgb(107,174,214)"
           ],
           [
            0.625,
            "rgb(66,146,198)"
           ],
           [
            0.75,
            "rgb(33,113,181)"
           ],
           [
            0.875,
            "rgb(8,81,156)"
           ],
           [
            1,
            "rgb(8,48,107)"
           ]
          ],
          "line": {
           "color": "Grey",
           "width": 0.5
          },
          "showscale": false
         },
         "mode": "markers",
         "name": "Feasible Trial",
         "showlegend": false,
         "type": "scatter",
         "x": [
          0.08713152101800037,
          0.12799473093674016,
          0.03847316117142836,
          0.3141217492786763,
          0.021651539450198112,
          0.23156916700590988,
          0.3252126706735006,
          0.24490403764377905,
          0.30218697587230553,
          0.17884674555998642,
          0.27916226235374436,
          0.25135203687237523,
          0.36343984924506384,
          0.352933328318247,
          0.32692542797058116,
          0.32198193525285623,
          0.38305175496130106,
          0.37786970557808275,
          0.3905080505013099,
          0.31089859538694886,
          0.28657019065307393
         ],
         "xaxis": "x11",
         "y": [
          0.7325511574745178,
          0.6694260239601135,
          1.0632320642471313,
          0.6382666230201721,
          0.8491696715354919,
          0.5994433760643005,
          0.5532320737838745,
          0.5036700963973999,
          0.5220525860786438,
          0.40679144859313965,
          0.38576507568359375,
          0.4020374119281769,
          0.4076320230960846,
          0.3916908800601959,
          0.43568089604377747,
          0.4175756275653839,
          0.32032930850982666,
          0.3101155757904053,
          0.4705162048339844,
          1.3702058792114258,
          0.4172022044658661
         ],
         "yaxis": "y11"
        },
        {
         "marker": {
          "color": [
           0,
           1,
           2,
           3,
           4,
           5,
           14,
           18,
           19,
           20,
           23,
           24,
           47,
           48,
           51,
           54,
           90,
           91,
           92,
           112,
           202
          ],
          "colorbar": {
           "title": {
            "text": "Trial"
           },
           "x": 1,
           "xpad": 40
          },
          "colorscale": [
           [
            0,
            "rgb(247,251,255)"
           ],
           [
            0.125,
            "rgb(222,235,247)"
           ],
           [
            0.25,
            "rgb(198,219,239)"
           ],
           [
            0.375,
            "rgb(158,202,225)"
           ],
           [
            0.5,
            "rgb(107,174,214)"
           ],
           [
            0.625,
            "rgb(66,146,198)"
           ],
           [
            0.75,
            "rgb(33,113,181)"
           ],
           [
            0.875,
            "rgb(8,81,156)"
           ],
           [
            1,
            "rgb(8,48,107)"
           ]
          ],
          "line": {
           "color": "Grey",
           "width": 0.5
          },
          "showscale": false
         },
         "mode": "markers",
         "name": "Feasible Trial",
         "showlegend": false,
         "type": "scatter",
         "x": [
          0.9492746641901176,
          0.8410006178171605,
          0.919049078507953,
          0.9345644575478849,
          0.8329837600779276,
          0.9840898449350342,
          0.963797241383421,
          0.9114181558361368,
          0.8999590321810613,
          0.8991867504108174,
          0.9142535151227748,
          0.9193819601885709,
          0.9376463704642714,
          0.9353985630472297,
          0.9219827242504784,
          0.9361956835132571,
          0.9414520931939679,
          0.9410464298325246,
          0.9502998990038732,
          0.94636614676509,
          0.9159479656341519
         ],
         "xaxis": "x12",
         "y": [
          0.7325511574745178,
          0.6694260239601135,
          1.0632320642471313,
          0.6382666230201721,
          0.8491696715354919,
          0.5994433760643005,
          0.5532320737838745,
          0.5036700963973999,
          0.5220525860786438,
          0.40679144859313965,
          0.38576507568359375,
          0.4020374119281769,
          0.4076320230960846,
          0.3916908800601959,
          0.43568089604377747,
          0.4175756275653839,
          0.32032930850982666,
          0.3101155757904053,
          0.4705162048339844,
          1.3702058792114258,
          0.4172022044658661
         ],
         "yaxis": "y12"
        },
        {
         "marker": {
          "color": [
           0,
           1,
           2,
           3,
           4,
           5,
           14,
           18,
           19,
           20,
           23,
           24,
           47,
           48,
           51,
           54,
           90,
           91,
           92,
           112,
           202
          ],
          "colorbar": {
           "title": {
            "text": "Trial"
           },
           "x": 1,
           "xpad": 40
          },
          "colorscale": [
           [
            0,
            "rgb(247,251,255)"
           ],
           [
            0.125,
            "rgb(222,235,247)"
           ],
           [
            0.25,
            "rgb(198,219,239)"
           ],
           [
            0.375,
            "rgb(158,202,225)"
           ],
           [
            0.5,
            "rgb(107,174,214)"
           ],
           [
            0.625,
            "rgb(66,146,198)"
           ],
           [
            0.75,
            "rgb(33,113,181)"
           ],
           [
            0.875,
            "rgb(8,81,156)"
           ],
           [
            1,
            "rgb(8,48,107)"
           ]
          ],
          "line": {
           "color": "Grey",
           "width": 0.5
          },
          "showscale": false
         },
         "mode": "markers",
         "name": "Feasible Trial",
         "showlegend": false,
         "type": "scatter",
         "x": [
          0,
          0,
          0,
          0,
          0,
          0,
          0,
          0,
          0,
          0,
          0,
          0,
          0,
          0,
          0,
          0,
          0,
          0,
          0,
          0,
          0,
          0,
          0,
          0,
          0,
          0,
          0,
          0,
          0,
          0,
          0,
          0,
          0,
          0,
          0,
          0,
          0,
          0,
          0,
          0,
          0,
          0,
          0,
          0,
          0,
          0,
          0,
          0,
          0,
          0,
          0,
          0,
          0,
          0,
          0,
          0,
          0
         ],
         "xaxis": "x13",
         "y": [
          0.7325511574745178,
          0.6694260239601135,
          1.0632320642471313,
          0.6382666230201721,
          0.8491696715354919,
          0.5994433760643005,
          0.5532320737838745,
          0.5036700963973999,
          0.5220525860786438,
          0.40679144859313965,
          0.38576507568359375,
          0.4020374119281769,
          0.4076320230960846,
          0.3916908800601959,
          0.43568089604377747,
          0.4175756275653839,
          0.32032930850982666,
          0.3101155757904053,
          0.4705162048339844,
          1.3702058792114258,
          0.4172022044658661
         ],
         "yaxis": "y13"
        }
       ],
       "layout": {
        "template": {
         "data": {
          "bar": [
           {
            "error_x": {
             "color": "#2a3f5f"
            },
            "error_y": {
             "color": "#2a3f5f"
            },
            "marker": {
             "line": {
              "color": "#E5ECF6",
              "width": 0.5
             },
             "pattern": {
              "fillmode": "overlay",
              "size": 10,
              "solidity": 0.2
             }
            },
            "type": "bar"
           }
          ],
          "barpolar": [
           {
            "marker": {
             "line": {
              "color": "#E5ECF6",
              "width": 0.5
             },
             "pattern": {
              "fillmode": "overlay",
              "size": 10,
              "solidity": 0.2
             }
            },
            "type": "barpolar"
           }
          ],
          "carpet": [
           {
            "aaxis": {
             "endlinecolor": "#2a3f5f",
             "gridcolor": "white",
             "linecolor": "white",
             "minorgridcolor": "white",
             "startlinecolor": "#2a3f5f"
            },
            "baxis": {
             "endlinecolor": "#2a3f5f",
             "gridcolor": "white",
             "linecolor": "white",
             "minorgridcolor": "white",
             "startlinecolor": "#2a3f5f"
            },
            "type": "carpet"
           }
          ],
          "choropleth": [
           {
            "colorbar": {
             "outlinewidth": 0,
             "ticks": ""
            },
            "type": "choropleth"
           }
          ],
          "contour": [
           {
            "colorbar": {
             "outlinewidth": 0,
             "ticks": ""
            },
            "colorscale": [
             [
              0,
              "#0d0887"
             ],
             [
              0.1111111111111111,
              "#46039f"
             ],
             [
              0.2222222222222222,
              "#7201a8"
             ],
             [
              0.3333333333333333,
              "#9c179e"
             ],
             [
              0.4444444444444444,
              "#bd3786"
             ],
             [
              0.5555555555555556,
              "#d8576b"
             ],
             [
              0.6666666666666666,
              "#ed7953"
             ],
             [
              0.7777777777777778,
              "#fb9f3a"
             ],
             [
              0.8888888888888888,
              "#fdca26"
             ],
             [
              1,
              "#f0f921"
             ]
            ],
            "type": "contour"
           }
          ],
          "contourcarpet": [
           {
            "colorbar": {
             "outlinewidth": 0,
             "ticks": ""
            },
            "type": "contourcarpet"
           }
          ],
          "heatmap": [
           {
            "colorbar": {
             "outlinewidth": 0,
             "ticks": ""
            },
            "colorscale": [
             [
              0,
              "#0d0887"
             ],
             [
              0.1111111111111111,
              "#46039f"
             ],
             [
              0.2222222222222222,
              "#7201a8"
             ],
             [
              0.3333333333333333,
              "#9c179e"
             ],
             [
              0.4444444444444444,
              "#bd3786"
             ],
             [
              0.5555555555555556,
              "#d8576b"
             ],
             [
              0.6666666666666666,
              "#ed7953"
             ],
             [
              0.7777777777777778,
              "#fb9f3a"
             ],
             [
              0.8888888888888888,
              "#fdca26"
             ],
             [
              1,
              "#f0f921"
             ]
            ],
            "type": "heatmap"
           }
          ],
          "heatmapgl": [
           {
            "colorbar": {
             "outlinewidth": 0,
             "ticks": ""
            },
            "colorscale": [
             [
              0,
              "#0d0887"
             ],
             [
              0.1111111111111111,
              "#46039f"
             ],
             [
              0.2222222222222222,
              "#7201a8"
             ],
             [
              0.3333333333333333,
              "#9c179e"
             ],
             [
              0.4444444444444444,
              "#bd3786"
             ],
             [
              0.5555555555555556,
              "#d8576b"
             ],
             [
              0.6666666666666666,
              "#ed7953"
             ],
             [
              0.7777777777777778,
              "#fb9f3a"
             ],
             [
              0.8888888888888888,
              "#fdca26"
             ],
             [
              1,
              "#f0f921"
             ]
            ],
            "type": "heatmapgl"
           }
          ],
          "histogram": [
           {
            "marker": {
             "pattern": {
              "fillmode": "overlay",
              "size": 10,
              "solidity": 0.2
             }
            },
            "type": "histogram"
           }
          ],
          "histogram2d": [
           {
            "colorbar": {
             "outlinewidth": 0,
             "ticks": ""
            },
            "colorscale": [
             [
              0,
              "#0d0887"
             ],
             [
              0.1111111111111111,
              "#46039f"
             ],
             [
              0.2222222222222222,
              "#7201a8"
             ],
             [
              0.3333333333333333,
              "#9c179e"
             ],
             [
              0.4444444444444444,
              "#bd3786"
             ],
             [
              0.5555555555555556,
              "#d8576b"
             ],
             [
              0.6666666666666666,
              "#ed7953"
             ],
             [
              0.7777777777777778,
              "#fb9f3a"
             ],
             [
              0.8888888888888888,
              "#fdca26"
             ],
             [
              1,
              "#f0f921"
             ]
            ],
            "type": "histogram2d"
           }
          ],
          "histogram2dcontour": [
           {
            "colorbar": {
             "outlinewidth": 0,
             "ticks": ""
            },
            "colorscale": [
             [
              0,
              "#0d0887"
             ],
             [
              0.1111111111111111,
              "#46039f"
             ],
             [
              0.2222222222222222,
              "#7201a8"
             ],
             [
              0.3333333333333333,
              "#9c179e"
             ],
             [
              0.4444444444444444,
              "#bd3786"
             ],
             [
              0.5555555555555556,
              "#d8576b"
             ],
             [
              0.6666666666666666,
              "#ed7953"
             ],
             [
              0.7777777777777778,
              "#fb9f3a"
             ],
             [
              0.8888888888888888,
              "#fdca26"
             ],
             [
              1,
              "#f0f921"
             ]
            ],
            "type": "histogram2dcontour"
           }
          ],
          "mesh3d": [
           {
            "colorbar": {
             "outlinewidth": 0,
             "ticks": ""
            },
            "type": "mesh3d"
           }
          ],
          "parcoords": [
           {
            "line": {
             "colorbar": {
              "outlinewidth": 0,
              "ticks": ""
             }
            },
            "type": "parcoords"
           }
          ],
          "pie": [
           {
            "automargin": true,
            "type": "pie"
           }
          ],
          "scatter": [
           {
            "fillpattern": {
             "fillmode": "overlay",
             "size": 10,
             "solidity": 0.2
            },
            "type": "scatter"
           }
          ],
          "scatter3d": [
           {
            "line": {
             "colorbar": {
              "outlinewidth": 0,
              "ticks": ""
             }
            },
            "marker": {
             "colorbar": {
              "outlinewidth": 0,
              "ticks": ""
             }
            },
            "type": "scatter3d"
           }
          ],
          "scattercarpet": [
           {
            "marker": {
             "colorbar": {
              "outlinewidth": 0,
              "ticks": ""
             }
            },
            "type": "scattercarpet"
           }
          ],
          "scattergeo": [
           {
            "marker": {
             "colorbar": {
              "outlinewidth": 0,
              "ticks": ""
             }
            },
            "type": "scattergeo"
           }
          ],
          "scattergl": [
           {
            "marker": {
             "colorbar": {
              "outlinewidth": 0,
              "ticks": ""
             }
            },
            "type": "scattergl"
           }
          ],
          "scattermapbox": [
           {
            "marker": {
             "colorbar": {
              "outlinewidth": 0,
              "ticks": ""
             }
            },
            "type": "scattermapbox"
           }
          ],
          "scatterpolar": [
           {
            "marker": {
             "colorbar": {
              "outlinewidth": 0,
              "ticks": ""
             }
            },
            "type": "scatterpolar"
           }
          ],
          "scatterpolargl": [
           {
            "marker": {
             "colorbar": {
              "outlinewidth": 0,
              "ticks": ""
             }
            },
            "type": "scatterpolargl"
           }
          ],
          "scatterternary": [
           {
            "marker": {
             "colorbar": {
              "outlinewidth": 0,
              "ticks": ""
             }
            },
            "type": "scatterternary"
           }
          ],
          "surface": [
           {
            "colorbar": {
             "outlinewidth": 0,
             "ticks": ""
            },
            "colorscale": [
             [
              0,
              "#0d0887"
             ],
             [
              0.1111111111111111,
              "#46039f"
             ],
             [
              0.2222222222222222,
              "#7201a8"
             ],
             [
              0.3333333333333333,
              "#9c179e"
             ],
             [
              0.4444444444444444,
              "#bd3786"
             ],
             [
              0.5555555555555556,
              "#d8576b"
             ],
             [
              0.6666666666666666,
              "#ed7953"
             ],
             [
              0.7777777777777778,
              "#fb9f3a"
             ],
             [
              0.8888888888888888,
              "#fdca26"
             ],
             [
              1,
              "#f0f921"
             ]
            ],
            "type": "surface"
           }
          ],
          "table": [
           {
            "cells": {
             "fill": {
              "color": "#EBF0F8"
             },
             "line": {
              "color": "white"
             }
            },
            "header": {
             "fill": {
              "color": "#C8D4E3"
             },
             "line": {
              "color": "white"
             }
            },
            "type": "table"
           }
          ]
         },
         "layout": {
          "annotationdefaults": {
           "arrowcolor": "#2a3f5f",
           "arrowhead": 0,
           "arrowwidth": 1
          },
          "autotypenumbers": "strict",
          "coloraxis": {
           "colorbar": {
            "outlinewidth": 0,
            "ticks": ""
           }
          },
          "colorscale": {
           "diverging": [
            [
             0,
             "#8e0152"
            ],
            [
             0.1,
             "#c51b7d"
            ],
            [
             0.2,
             "#de77ae"
            ],
            [
             0.3,
             "#f1b6da"
            ],
            [
             0.4,
             "#fde0ef"
            ],
            [
             0.5,
             "#f7f7f7"
            ],
            [
             0.6,
             "#e6f5d0"
            ],
            [
             0.7,
             "#b8e186"
            ],
            [
             0.8,
             "#7fbc41"
            ],
            [
             0.9,
             "#4d9221"
            ],
            [
             1,
             "#276419"
            ]
           ],
           "sequential": [
            [
             0,
             "#0d0887"
            ],
            [
             0.1111111111111111,
             "#46039f"
            ],
            [
             0.2222222222222222,
             "#7201a8"
            ],
            [
             0.3333333333333333,
             "#9c179e"
            ],
            [
             0.4444444444444444,
             "#bd3786"
            ],
            [
             0.5555555555555556,
             "#d8576b"
            ],
            [
             0.6666666666666666,
             "#ed7953"
            ],
            [
             0.7777777777777778,
             "#fb9f3a"
            ],
            [
             0.8888888888888888,
             "#fdca26"
            ],
            [
             1,
             "#f0f921"
            ]
           ],
           "sequentialminus": [
            [
             0,
             "#0d0887"
            ],
            [
             0.1111111111111111,
             "#46039f"
            ],
            [
             0.2222222222222222,
             "#7201a8"
            ],
            [
             0.3333333333333333,
             "#9c179e"
            ],
            [
             0.4444444444444444,
             "#bd3786"
            ],
            [
             0.5555555555555556,
             "#d8576b"
            ],
            [
             0.6666666666666666,
             "#ed7953"
            ],
            [
             0.7777777777777778,
             "#fb9f3a"
            ],
            [
             0.8888888888888888,
             "#fdca26"
            ],
            [
             1,
             "#f0f921"
            ]
           ]
          },
          "colorway": [
           "#636efa",
           "#EF553B",
           "#00cc96",
           "#ab63fa",
           "#FFA15A",
           "#19d3f3",
           "#FF6692",
           "#B6E880",
           "#FF97FF",
           "#FECB52"
          ],
          "font": {
           "color": "#2a3f5f"
          },
          "geo": {
           "bgcolor": "white",
           "lakecolor": "white",
           "landcolor": "#E5ECF6",
           "showlakes": true,
           "showland": true,
           "subunitcolor": "white"
          },
          "hoverlabel": {
           "align": "left"
          },
          "hovermode": "closest",
          "mapbox": {
           "style": "light"
          },
          "paper_bgcolor": "white",
          "plot_bgcolor": "#E5ECF6",
          "polar": {
           "angularaxis": {
            "gridcolor": "white",
            "linecolor": "white",
            "ticks": ""
           },
           "bgcolor": "#E5ECF6",
           "radialaxis": {
            "gridcolor": "white",
            "linecolor": "white",
            "ticks": ""
           }
          },
          "scene": {
           "xaxis": {
            "backgroundcolor": "#E5ECF6",
            "gridcolor": "white",
            "gridwidth": 2,
            "linecolor": "white",
            "showbackground": true,
            "ticks": "",
            "zerolinecolor": "white"
           },
           "yaxis": {
            "backgroundcolor": "#E5ECF6",
            "gridcolor": "white",
            "gridwidth": 2,
            "linecolor": "white",
            "showbackground": true,
            "ticks": "",
            "zerolinecolor": "white"
           },
           "zaxis": {
            "backgroundcolor": "#E5ECF6",
            "gridcolor": "white",
            "gridwidth": 2,
            "linecolor": "white",
            "showbackground": true,
            "ticks": "",
            "zerolinecolor": "white"
           }
          },
          "shapedefaults": {
           "line": {
            "color": "#2a3f5f"
           }
          },
          "ternary": {
           "aaxis": {
            "gridcolor": "white",
            "linecolor": "white",
            "ticks": ""
           },
           "baxis": {
            "gridcolor": "white",
            "linecolor": "white",
            "ticks": ""
           },
           "bgcolor": "#E5ECF6",
           "caxis": {
            "gridcolor": "white",
            "linecolor": "white",
            "ticks": ""
           }
          },
          "title": {
           "x": 0.05
          },
          "xaxis": {
           "automargin": true,
           "gridcolor": "white",
           "linecolor": "white",
           "ticks": "",
           "title": {
            "standoff": 15
           },
           "zerolinecolor": "white",
           "zerolinewidth": 2
          },
          "yaxis": {
           "automargin": true,
           "gridcolor": "white",
           "linecolor": "white",
           "ticks": "",
           "title": {
            "standoff": 15
           },
           "zerolinecolor": "white",
           "zerolinewidth": 2
          }
         }
        },
        "title": {
         "text": "Slice Plot"
        },
        "width": 3600,
        "xaxis": {
         "anchor": "y",
         "domain": [
          0,
          0.06805555555555555
         ],
         "title": {
          "text": "batch_size"
         }
        },
        "xaxis10": {
         "anchor": "y10",
         "categoryarray": [
          "sum"
         ],
         "categoryorder": "array",
         "domain": [
          0.7029585798816567,
          0.7656804733727809
         ],
         "title": {
          "text": "reduction"
         },
         "type": "category"
        },
        "xaxis11": {
         "anchor": "y11",
         "domain": [
          0.7810650887573963,
          0.8437869822485206
         ],
         "title": {
          "text": "optimizer_idx"
         }
        },
        "xaxis11": {
         "anchor": "y11",
         "domain": [
          0.8472222222222221,
          0.9152777777777776
         ],
         "title": {
          "text": "relu_slope"
         }
        },
        "xaxis12": {
         "anchor": "y12",
         "domain": [
          0.9319444444444444,
          0.9999999999999999
         ],
         "title": {
          "text": "weight_decay"
         }
        },
        "xaxis2": {
         "anchor": "y2",
         "domain": [
          0.08472222222222221,
          0.15277777777777776
         ],
         "title": {
          "text": "beta1"
         }
        },
        "xaxis3": {
         "anchor": "y3",
         "domain": [
          0.16944444444444443,
          0.2375
         ],
         "title": {
          "text": "beta2"
         }
        },
        "xaxis4": {
         "anchor": "y4",
         "domain": [
          0.25416666666666665,
          0.3222222222222222
         ],
         "title": {
          "text": "dampening"
         }
        },
        "xaxis5": {
         "anchor": "y5",
         "domain": [
          0.33888888888888885,
          0.4069444444444444
         ],
         "title": {
          "text": "epochs"
         }
        },
        "xaxis6": {
         "anchor": "y6",
         "domain": [
          0.42361111111111105,
          0.4916666666666666
         ],
         "title": {
          "text": "loss_idx"
         }
        },
        "xaxis7": {
         "anchor": "y7",
         "domain": [
          0.5083333333333333,
          0.5763888888888888
         ],
         "title": {
          "text": "lr"
         }
        },
        "xaxis8": {
         "anchor": "y8",
         "domain": [
          0.5930555555555556,
          0.6611111111111111
         ],
         "title": {
          "text": "momentum"
         }
        },
        "xaxis9": {
         "anchor": "y9",
         "domain": [
          0.6777777777777777,
          0.7458333333333332
         ],
         "title": {
          "text": "optimizer_idx"
         }
        },
        "yaxis": {
         "anchor": "x",
         "domain": [
          0,
          1
         ],
         "title": {
          "text": "Objective Value"
         }
        },
        "yaxis10": {
         "anchor": "x10",
         "domain": [
          0,
          1
         ],
         "matches": "y",
         "showticklabels": false
        },
        "yaxis11": {
         "anchor": "x11",
         "domain": [
          0,
          1
         ],
         "matches": "y",
         "showticklabels": false
        },
        "yaxis12": {
         "anchor": "x12",
         "domain": [
          0,
          1
         ],
         "matches": "y",
         "showticklabels": false
        },
        "yaxis2": {
         "anchor": "x2",
         "domain": [
          0,
          1
         ],
         "matches": "y",
         "showticklabels": false
        },
        "yaxis3": {
         "anchor": "x3",
         "domain": [
          0,
          1
         ],
         "matches": "y",
         "showticklabels": false
        },
        "yaxis4": {
         "anchor": "x4",
         "domain": [
          0,
          1
         ],
         "matches": "y",
         "showticklabels": false
        },
        "yaxis5": {
         "anchor": "x5",
         "domain": [
          0,
          1
         ],
         "matches": "y",
         "showticklabels": false
        },
        "yaxis6": {
         "anchor": "x6",
         "domain": [
          0,
          1
         ],
         "matches": "y",
         "showticklabels": false
        },
        "yaxis7": {
         "anchor": "x7",
         "domain": [
          0,
          1
         ],
         "matches": "y",
         "showticklabels": false
        },
        "yaxis8": {
         "anchor": "x8",
         "domain": [
          0,
          1
         ],
         "matches": "y",
         "showticklabels": false
        },
        "yaxis9": {
         "anchor": "x9",
         "domain": [
          0,
          1
         ],
         "matches": "y",
         "showticklabels": false
        }
       }
      }
     },
     "metadata": {},
     "output_type": "display_data"
    }
   ],
   "source": [
    "if is_multi_objective:\n",
    "    fig = vis.plot_slice(study, target=lambda t: t.values[1], target_name='Accuracy')\n",
    "else:\n",
    "    fig = vis.plot_slice(study)\n",
    "fig.show()"
   ]
  },
  {
   "cell_type": "code",
   "execution_count": 40,
   "metadata": {},
   "outputs": [
    {
     "data": {
      "text/plain": [
       "{'lr': 0.002148993005685677,\n",
       " 'weight_decay': 0.0,\n",
       " 'beta1': 0.815320536349187,\n",
       " 'beta2': 0.9680193068275487,\n",
       " 'momentum': 0.4560388102117042,\n",
       " 'dampening': 0.3580908973487985,\n",
       " 'optimizer_idx': 0,\n",
       " 'scheduler_gamma': 0.9410464298325246,\n",
       " 'epochs': 42,\n",
       " 'batch_size': 226,\n",
       " 'loss_idx': 1,\n",
       " 'reduction': 'sum',\n",
       " 'relu_slope': 0.37786970557808275}"
      ]
     },
     "execution_count": 40,
     "metadata": {},
     "output_type": "execute_result"
    }
   ],
   "source": [
    "if is_multi_objective:\n",
    "    best_trials = study.best_trials\n",
    "    sorted_trials = sorted([(trial.values[1], trial.params) for trial in best_trials])\n",
    "    best_params = sorted_trials[0][1]\n",
    "else:\n",
    "    best_params = study.best_trial.params\n",
    "best_params"
   ]
  },
  {
   "cell_type": "code",
   "execution_count": 41,
   "metadata": {},
   "outputs": [],
   "source": [
    "lr = best_params['lr']\n",
    "weight_decay = best_params['weight_decay']\n",
    "betas = (best_params['beta1'], best_params['beta2'])\n",
    "momentum = best_params['momentum']\n",
    "dampening = best_params['dampening']\n",
    "scheduler_gamma = best_params['scheduler_gamma']\n",
    "batch_size = best_params['batch_size']\n",
    "epochs = best_params['epochs']\n",
    "relu_slope = best_params['relu_slope']\n",
    "\n",
    "model = ConvClassifier(train_params=train_best_params, num_classes=len(np.unique(labels)),\n",
    "                       relu_slope=relu_slope, device=device, fine_tune=False).to(device)\n",
    "\n",
    "# trainable_parameters = [param for name, param in model.named_parameters() if name.startswith('seq_')]\n",
    "if best_params['optimizer_idx'] == 0:\n",
    "    optimizer = torch.optim.Adam(model.parameters(), lr=lr, weight_decay=weight_decay, betas=betas)\n",
    "else:\n",
    "    optimizer = torch.optim.SGD(model.parameters(), lr=lr, weight_decay=weight_decay, momentum=momentum, dampening=dampening)\n",
    "scheduler = torch.optim.lr_scheduler.ExponentialLR(optimizer, gamma=scheduler_gamma)\n",
    "\n",
    "loss_func = get_classification_loss_function(best_params['loss_idx'], best_params['reduction'], device=model.device)"
   ]
  },
  {
   "cell_type": "code",
   "execution_count": 42,
   "metadata": {},
   "outputs": [
    {
     "data": {
      "text/plain": [
       "({'lr': 0.002148993005685677,\n",
       "  'weight_decay': 0.0,\n",
       "  'beta1': 0.815320536349187,\n",
       "  'beta2': 0.9680193068275487,\n",
       "  'momentum': 0.4560388102117042,\n",
       "  'dampening': 0.3580908973487985,\n",
       "  'optimizer_idx': 0,\n",
       "  'scheduler_gamma': 0.9410464298325246,\n",
       "  'epochs': 42,\n",
       "  'batch_size': 226,\n",
       "  'loss_idx': 1,\n",
       "  'reduction': 'sum',\n",
       "  'relu_slope': 0.37786970557808275},\n",
       " 1316372)"
      ]
     },
     "execution_count": 42,
     "metadata": {},
     "output_type": "execute_result"
    }
   ],
   "source": [
    "best_params, sum(p.numel() for p in model.parameters())"
   ]
  },
  {
   "cell_type": "code",
   "execution_count": 43,
   "metadata": {},
   "outputs": [],
   "source": [
    "dataset = AlzheimerDataset(images, labels)"
   ]
  },
  {
   "cell_type": "code",
   "execution_count": 44,
   "metadata": {},
   "outputs": [],
   "source": [
    "dataloader = torch.utils.data.DataLoader(train_dataset, batch_size=batch_size, shuffle=True)"
   ]
  },
  {
   "cell_type": "code",
   "execution_count": 63,
   "metadata": {},
   "outputs": [
    {
     "data": {
      "application/vnd.jupyter.widget-view+json": {
       "model_id": "5c5281d150bf49dfbdcb3c1355e831c0",
       "version_major": 2,
       "version_minor": 0
      },
      "text/plain": [
       "  0%|          | 0/42 [00:00<?, ?it/s]"
      ]
     },
     "metadata": {},
     "output_type": "display_data"
    },
    {
     "data": {
      "image/png": "[encoded data removed]",
      "text/plain": [
       "<Figure size 1600x1000 with 2 Axes>"
      ]
     },
     "metadata": {},
     "output_type": "display_data"
    }
   ],
   "source": [
    "overall, accuracy = train(\n",
    "    model=model,\n",
    "    optimizer=optimizer,\n",
    "    loss=loss_func,\n",
    "    epochs=epochs,\n",
    "    dataloader=dataloader,\n",
    "    val_dataset=val_dataset,\n",
    "    scheduler=scheduler,\n",
    "    plot=True,\n",
    "    show_progress=True,\n",
    "    trial=None\n",
    ")"
   ]
  },
  {
   "cell_type": "code",
   "execution_count": 64,
   "metadata": {},
   "outputs": [
    {
     "data": {
      "text/plain": [
       "ConvClassifier(\n",
       "  (encoder): ConvEncoder(\n",
       "    (relu): ReLU()\n",
       "    (flatten): Flatten(start_dim=1, end_dim=-1)\n",
       "    (conv1): Conv2d(1, 6, kernel_size=(5, 5), stride=(2, 2), padding=(3, 3), bias=False)\n",
       "    (bn1): BatchNorm2d(6, eps=1e-05, momentum=0.1, affine=True, track_running_stats=True)\n",
       "    (maxpool): MaxPool2d(kernel_size=(3, 3), stride=(2, 2), padding=(1, 1), dilation=1, ceil_mode=False)\n",
       "    (block0): Sequential(\n",
       "      (0): Conv2d(6, 6, kernel_size=(3, 3), stride=(1, 1), padding=(1, 1), bias=False)\n",
       "      (1): BatchNorm2d(6, eps=1e-05, momentum=0.1, affine=True, track_running_stats=True)\n",
       "      (2): ReLU()\n",
       "      (3): MaxPool2d(kernel_size=(3, 3), stride=1, padding=1, dilation=1, ceil_mode=False)\n",
       "      (4): BatchNorm2d(6, eps=1e-05, momentum=0.1, affine=True, track_running_stats=True)\n",
       "      (5): Dropout(p=0.2, inplace=False)\n",
       "    )\n",
       "    (max_pool_block0): MaxPoolBlock(\n",
       "      (max_pool): MaxPool2d(kernel_size=(3, 3), stride=1, padding=1, dilation=1, ceil_mode=True)\n",
       "      (bn): BatchNorm2d(6, eps=1e-05, momentum=0.1, affine=True, track_running_stats=True)\n",
       "      (relu): ReLU()\n",
       "    )\n",
       "    (down_sample0): Sequential(\n",
       "      (0): Conv2d(6, 12, kernel_size=(3, 3), stride=(2, 2), padding=(1, 1), bias=False)\n",
       "      (1): BatchNorm2d(12, eps=1e-05, momentum=0.1, affine=True, track_running_stats=True)\n",
       "      (2): ReLU()\n",
       "    )\n",
       "    (block1): Sequential(\n",
       "      (0): Conv2d(12, 12, kernel_size=(3, 3), stride=(1, 1), padding=(1, 1), bias=False)\n",
       "      (1): BatchNorm2d(12, eps=1e-05, momentum=0.1, affine=True, track_running_stats=True)\n",
       "      (2): ReLU()\n",
       "      (3): MaxPool2d(kernel_size=(3, 3), stride=1, padding=1, dilation=1, ceil_mode=False)\n",
       "      (4): BatchNorm2d(12, eps=1e-05, momentum=0.1, affine=True, track_running_stats=True)\n",
       "      (5): Dropout(p=0.2, inplace=False)\n",
       "    )\n",
       "    (max_pool_block1): MaxPoolBlock(\n",
       "      (max_pool): MaxPool2d(kernel_size=(3, 3), stride=1, padding=1, dilation=1, ceil_mode=True)\n",
       "      (bn): BatchNorm2d(12, eps=1e-05, momentum=0.1, affine=True, track_running_stats=True)\n",
       "      (relu): ReLU()\n",
       "    )\n",
       "    (down_sample1): Sequential(\n",
       "      (0): Conv2d(12, 24, kernel_size=(3, 3), stride=(2, 2), padding=(1, 1), bias=False)\n",
       "      (1): BatchNorm2d(24, eps=1e-05, momentum=0.1, affine=True, track_running_stats=True)\n",
       "      (2): ReLU()\n",
       "    )\n",
       "    (block2): Sequential(\n",
       "      (0): Conv2d(24, 24, kernel_size=(3, 3), stride=(1, 1), padding=(1, 1), bias=False)\n",
       "      (1): BatchNorm2d(24, eps=1e-05, momentum=0.1, affine=True, track_running_stats=True)\n",
       "      (2): ReLU()\n",
       "      (3): MaxPool2d(kernel_size=(3, 3), stride=1, padding=1, dilation=1, ceil_mode=False)\n",
       "      (4): BatchNorm2d(24, eps=1e-05, momentum=0.1, affine=True, track_running_stats=True)\n",
       "      (5): Dropout(p=0.2, inplace=False)\n",
       "    )\n",
       "    (max_pool_block2): MaxPoolBlock(\n",
       "      (max_pool): MaxPool2d(kernel_size=(3, 3), stride=1, padding=1, dilation=1, ceil_mode=True)\n",
       "      (bn): BatchNorm2d(24, eps=1e-05, momentum=0.1, affine=True, track_running_stats=True)\n",
       "      (relu): ReLU()\n",
       "    )\n",
       "    (down_sample2): Sequential(\n",
       "      (0): Conv2d(24, 48, kernel_size=(3, 3), stride=(2, 2), padding=(1, 1), bias=False)\n",
       "      (1): BatchNorm2d(48, eps=1e-05, momentum=0.1, affine=True, track_running_stats=True)\n",
       "      (2): ReLU()\n",
       "    )\n",
       "    (encoded_mean): Linear(in_features=1440, out_features=135, bias=True)\n",
       "    (encoded_log_variance): Linear(in_features=1440, out_features=135, bias=True)\n",
       "  )\n",
       "  (bn): BatchNorm1d(1440, eps=1e-05, momentum=0.1, affine=True, track_running_stats=True)\n",
       "  (relu): LeakyReLU(negative_slope=0.37786970557808275)\n",
       "  (linear_blocks): ModuleList(\n",
       "    (0): Sequential(\n",
       "      (0): Linear(in_features=1440, out_features=512, bias=False)\n",
       "      (1): BatchNorm1d(512, eps=1e-05, momentum=0.1, affine=True, track_running_stats=True)\n",
       "      (2): LeakyReLU(negative_slope=0.37786970557808275)\n",
       "      (3): Dropout(p=0.25, inplace=False)\n",
       "    )\n",
       "    (1): Sequential(\n",
       "      (0): Linear(in_features=512, out_features=256, bias=False)\n",
       "      (1): BatchNorm1d(256, eps=1e-05, momentum=0.1, affine=True, track_running_stats=True)\n",
       "      (2): LeakyReLU(negative_slope=0.37786970557808275)\n",
       "      (3): Dropout(p=0.25, inplace=False)\n",
       "    )\n",
       "    (2): Sequential(\n",
       "      (0): Linear(in_features=256, out_features=128, bias=False)\n",
       "      (1): BatchNorm1d(128, eps=1e-05, momentum=0.1, affine=True, track_running_stats=True)\n",
       "      (2): LeakyReLU(negative_slope=0.37786970557808275)\n",
       "      (3): Dropout(p=0.25, inplace=False)\n",
       "    )\n",
       "  )\n",
       "  (seq_output): Linear(in_features=128, out_features=4, bias=True)\n",
       "  (log_softmax): LogSoftmax(dim=1)\n",
       ")"
      ]
     },
     "execution_count": 64,
     "metadata": {},
     "output_type": "execute_result"
    }
   ],
   "source": [
    "model.eval()"
   ]
  },
  {
   "cell_type": "code",
   "execution_count": 65,
   "metadata": {},
   "outputs": [],
   "source": [
    "from sklearn.metrics import confusion_matrix, precision_score, recall_score, f1_score"
   ]
  },
  {
   "cell_type": "code",
   "execution_count": 66,
   "metadata": {},
   "outputs": [],
   "source": [
    "import seaborn as sns"
   ]
  },
  {
   "cell_type": "code",
   "execution_count": 67,
   "metadata": {},
   "outputs": [],
   "source": [
    "def show_metrics(model, dataset, data_dir='./data/alzheimer/train'):\n",
    "    classes = os.listdir(data_dir)\n",
    "\n",
    "    output = model(dataset.X.to(model.device))\n",
    "    predictions = torch.argmax(output, dim=1).to(model.device)\n",
    "    accuracy = (predictions == dataset.y.to(model.device)).sum().item() / predictions.shape[0]\n",
    "\n",
    "    print(f'Total Accuracy: {accuracy}\\n')\n",
    "\n",
    "    # choosing weighted because we want to calculate per class and then calculate the weighted sum since our labels are imbalanced\n",
    "    average_policy = None\n",
    "\n",
    "    # precision = tp / (tp + fp)\n",
    "    print('Precision: ')\n",
    "    precisions = precision_score(dataset.y.cpu().numpy(), predictions.cpu().numpy(), average=average_policy, zero_division=0)\n",
    "    for class_idx in range(len(classes)):\n",
    "        print(f'{classes[class_idx]}: {precisions[class_idx]}')\n",
    "    print()\n",
    "\n",
    "    # recall = tp / (tp + fn)\n",
    "    print('Recall: ')\n",
    "    recalls = recall_score(dataset.y.cpu().numpy(), predictions.cpu().numpy(), average=average_policy, zero_division=0)\n",
    "    for class_idx in range(len(classes)):\n",
    "        print(f'{classes[class_idx]}: {recalls[class_idx]}')\n",
    "    print()\n",
    "\n",
    "    g = sns.heatmap(confusion_matrix(dataset.y.cpu().numpy(), predictions.cpu().numpy()), annot=True, fmt='.3g', yticklabels=classes)\n",
    "\n",
    "    g.set_xticklabels(labels=[f'{class_name}' for class_name in classes], rotation=60)\n",
    "\n",
    "    plt.xlabel('Prediction')\n",
    "    plt.ylabel('Truth')"
   ]
  },
  {
   "cell_type": "code",
   "execution_count": 68,
   "metadata": {},
   "outputs": [],
   "source": [
    "from PIL import Image"
   ]
  },
  {
   "cell_type": "code",
   "execution_count": 69,
   "metadata": {},
   "outputs": [],
   "source": [
    "test_data_dir = './data/alzheimer/test'\n",
    "classes = os.listdir(test_data_dir)\n",
    "class_to_idx = {}\n",
    "for i in range(len(classes)):\n",
    "    class_to_idx[classes[i]] = i\n",
    "\n",
    "total_test_images = 0\n",
    "for class_name in classes:\n",
    "    total_test_images += len(os.listdir(f'{test_data_dir}/{class_name}'))"
   ]
  },
  {
   "cell_type": "code",
   "execution_count": 70,
   "metadata": {},
   "outputs": [],
   "source": [
    "test_images = np.empty((total_test_images, 208, 176), dtype=np.uint8)\n",
    "test_labels = np.empty(total_test_images, dtype=np.uint8)"
   ]
  },
  {
   "cell_type": "code",
   "execution_count": 71,
   "metadata": {},
   "outputs": [
    {
     "data": {
      "application/vnd.jupyter.widget-view+json": {
       "model_id": "4c0f0d48f1ed40bba5d686a4f36608f3",
       "version_major": 2,
       "version_minor": 0
      },
      "text/plain": [
       "  0%|          | 0/179 [00:00<?, ?it/s]"
      ]
     },
     "metadata": {},
     "output_type": "display_data"
    },
    {
     "data": {
      "application/vnd.jupyter.widget-view+json": {
       "model_id": "668860b3b3ce4193b47a3bbf10faf9ab",
       "version_major": 2,
       "version_minor": 0
      },
      "text/plain": [
       "  0%|          | 0/12 [00:00<?, ?it/s]"
      ]
     },
     "metadata": {},
     "output_type": "display_data"
    },
    {
     "data": {
      "application/vnd.jupyter.widget-view+json": {
       "model_id": "7ed8db105be5485dbf98cd62b3e68b42",
       "version_major": 2,
       "version_minor": 0
      },
      "text/plain": [
       "  0%|          | 0/640 [00:00<?, ?it/s]"
      ]
     },
     "metadata": {},
     "output_type": "display_data"
    },
    {
     "data": {
      "application/vnd.jupyter.widget-view+json": {
       "model_id": "011e62fbe62d4652a2986ac57fb94bc1",
       "version_major": 2,
       "version_minor": 0
      },
      "text/plain": [
       "  0%|          | 0/448 [00:00<?, ?it/s]"
      ]
     },
     "metadata": {},
     "output_type": "display_data"
    }
   ],
   "source": [
    "image_idx = 0\n",
    "for class_name in classes:\n",
    "    for image_name in tqdm(os.listdir(f'{test_data_dir}/{class_name}')):\n",
    "        image_path = f'{test_data_dir}/{class_name}/{image_name}'\n",
    "        test_images[image_idx] = np.array(Image.open(image_path)).astype(np.uint8)\n",
    "        test_labels[image_idx] = class_to_idx[class_name]\n",
    "        image_idx += 1"
   ]
  },
  {
   "cell_type": "code",
   "execution_count": 72,
   "metadata": {},
   "outputs": [],
   "source": [
    "leftmost_pixel, uppermost_pixel = 16, 16\n",
    "rightmost_pixel, bottommost_pixel = 159, 191\n",
    "\n",
    "test_images = test_images[:, uppermost_pixel:bottommost_pixel+1, leftmost_pixel:rightmost_pixel+1]"
   ]
  },
  {
   "cell_type": "code",
   "execution_count": 73,
   "metadata": {},
   "outputs": [
    {
     "data": {
      "text/plain": [
       "<matplotlib.image.AxesImage at 0x1aa86d50350>"
      ]
     },
     "execution_count": 73,
     "metadata": {},
     "output_type": "execute_result"
    },
    {
     "data": {
      "image/png": "[encoded data removed]",
      "text/plain": [
       "<Figure size 640x480 with 1 Axes>"
      ]
     },
     "metadata": {},
     "output_type": "display_data"
    }
   ],
   "source": [
    "plt.imshow(test_images[test_labels == 1].mean(axis=0), cmap='gray')"
   ]
  },
  {
   "cell_type": "code",
   "execution_count": 74,
   "metadata": {},
   "outputs": [],
   "source": [
    "test_dataset = AlzheimerDataset(test_images, test_labels)"
   ]
  },
  {
   "cell_type": "code",
   "execution_count": 75,
   "metadata": {},
   "outputs": [
    {
     "name": "stdout",
     "output_type": "stream",
     "text": [
      "Total Accuracy: 0.6325254104769351\n",
      "\n",
      "Precision: \n",
      "MildDemented: 0.5945945945945946\n",
      "ModerateDemented: 0.4166666666666667\n",
      "NonDemented: 0.6625310173697271\n",
      "VeryMildDemented: 0.5828571428571429\n",
      "\n",
      "Recall: \n",
      "MildDemented: 0.3687150837988827\n",
      "ModerateDemented: 0.4166666666666667\n",
      "NonDemented: 0.834375\n",
      "VeryMildDemented: 0.45535714285714285\n",
      "\n"
     ]
    },
    {
     "data": {
      "image/png": "[encoded data removed]",
      "text/plain": [
       "<Figure size 640x480 with 2 Axes>"
      ]
     },
     "metadata": {},
     "output_type": "display_data"
    }
   ],
   "source": [
    "show_metrics(model, test_dataset)"
   ]
  },
  {
   "cell_type": "code",
   "execution_count": 76,
   "metadata": {},
   "outputs": [
    {
     "name": "stdout",
     "output_type": "stream",
     "text": [
      "Total Accuracy: 0.7425130208333334\n",
      "\n",
      "Precision: \n",
      "MildDemented: 0.5474137931034483\n",
      "ModerateDemented: 0.6415094339622641\n",
      "NonDemented: 0.7703081232492998\n",
      "VeryMildDemented: 0.912639405204461\n",
      "\n",
      "Recall: \n",
      "MildDemented: 0.9114832535885168\n",
      "ModerateDemented: 0.85\n",
      "NonDemented: 0.8842443729903537\n",
      "VeryMildDemented: 0.4636449480642115\n",
      "\n"
     ]
    },
    {
     "data": {
      "image/png": "[encoded data removed]",
      "text/plain": [
       "<Figure size 640x480 with 2 Axes>"
      ]
     },
     "metadata": {},
     "output_type": "display_data"
    }
   ],
   "source": [
    "show_metrics(model, val_dataset)"
   ]
  },
  {
   "cell_type": "code",
   "execution_count": 77,
   "metadata": {},
   "outputs": [
    {
     "data": {
      "text/plain": [
       "<matplotlib.image.AxesImage at 0x1aa866b31d0>"
      ]
     },
     "execution_count": 77,
     "metadata": {},
     "output_type": "execute_result"
    },
    {
     "data": {
      "image/png": "[encoded data removed]",
      "text/plain": [
       "<Figure size 640x480 with 1 Axes>"
      ]
     },
     "metadata": {},
     "output_type": "display_data"
    }
   ],
   "source": [
    "plt.imshow(images[-2], cmap='gray')"
   ]
  },
  {
   "cell_type": "code",
   "execution_count": 78,
   "metadata": {},
   "outputs": [
    {
     "data": {
      "text/plain": [
       "<matplotlib.image.AxesImage at 0x1ab04823ef0>"
      ]
     },
     "execution_count": 78,
     "metadata": {},
     "output_type": "execute_result"
    },
    {
     "data": {
      "image/png": "[encoded data removed]",
      "text/plain": [
       "<Figure size 640x480 with 1 Axes>"
      ]
     },
     "metadata": {},
     "output_type": "display_data"
    }
   ],
   "source": [
    "plt.imshow(images[images.shape[0]//2-2], cmap='gray')"
   ]
  },
  {
   "cell_type": "code",
   "execution_count": 79,
   "metadata": {},
   "outputs": [],
   "source": [
    "import shutil\n",
    "try:\n",
    "    shutil.rmtree(f'./logs/classification/study-{current_study_id}')\n",
    "except Exception as e:\n",
    "    print(e)"
   ]
  },
  {
   "cell_type": "code",
   "execution_count": 80,
   "metadata": {},
   "outputs": [
    {
     "data": {
      "text/plain": [
       "(0, 255)"
      ]
     },
     "execution_count": 80,
     "metadata": {},
     "output_type": "execute_result"
    }
   ],
   "source": [
    "images[images.shape[0]//2:].min(), images[images.shape[0]//2:].max()"
   ]
  },
  {
   "cell_type": "code",
   "execution_count": 52,
   "metadata": {},
   "outputs": [],
   "source": [
    "from sklearn.metrics import confusion_matrix, precision_score, recall_score, f1_score"
   ]
  },
  {
   "cell_type": "code",
   "execution_count": 53,
   "metadata": {},
   "outputs": [],
   "source": [
    "import seaborn as sns"
   ]
  },
  {
   "cell_type": "code",
   "execution_count": 54,
   "metadata": {},
   "outputs": [],
   "source": [
    "# choosing weighted because we want to calculate per class and then calculate the weighted sum since our labels are imbalanced\n",
    "average_policy = None"
   ]
  },
  {
   "cell_type": "code",
   "execution_count": 55,
   "metadata": {},
   "outputs": [
    {
     "name": "stdout",
     "output_type": "stream",
     "text": [
      "MildDemented: 0.14814814814814814\n",
      "ModerateDemented: 0.0\n",
      "NonDemented: 0.560488346281909\n",
      "VeryMildDemented: 0.43304843304843305\n"
     ]
    }
   ],
   "source": [
    "# tp / (tp + fp)\n",
    "precisions = precision_score(test_labels, predictions.cpu().numpy(), average=average_policy, zero_division=0)\n",
    "for class_idx in range(len(classes)):\n",
    "    print(f'{classes[class_idx]}: {precisions[class_idx]}')"
   ]
  },
  {
   "cell_type": "code",
   "execution_count": 56,
   "metadata": {},
   "outputs": [
    {
     "name": "stdout",
     "output_type": "stream",
     "text": [
      "MildDemented: 0.0223463687150838\n",
      "ModerateDemented: 0.0\n",
      "NonDemented: 0.7890625\n",
      "VeryMildDemented: 0.3392857142857143\n"
     ]
    }
   ],
   "source": [
    "# tp / (tp + fn)\n",
    "recalls = recall_score(test_labels, predictions.cpu().numpy(), average=average_policy, zero_division=0)\n",
    "for class_idx in range(len(classes)):\n",
    "    print(f'{classes[class_idx]}: {recalls[class_idx]}')"
   ]
  },
  {
   "cell_type": "code",
   "execution_count": 57,
   "metadata": {},
   "outputs": [
    {
     "data": {
      "text/plain": [
       "[Text(0.5, 0, 'MildDemented'),\n",
       " Text(1.5, 0, 'ModerateDemented'),\n",
       " Text(2.5, 0, 'NonDemented'),\n",
       " Text(3.5, 0, 'VeryMildDemented')]"
      ]
     },
     "execution_count": 57,
     "metadata": {},
     "output_type": "execute_result"
    },
    {
     "data": {
      "image/png": "[encoded data removed]",
      "text/plain": [
       "<Figure size 640x480 with 2 Axes>"
      ]
     },
     "metadata": {},
     "output_type": "display_data"
    }
   ],
   "source": [
    "g = sns.heatmap(confusion_matrix(test_labels, predictions.cpu().numpy()), annot=True, fmt='.3g', yticklabels=classes)\n",
    "g.set_xticklabels(labels=classes, rotation=30)"
   ]
  },
  {
   "cell_type": "code",
   "execution_count": null,
   "metadata": {},
   "outputs": [],
   "source": []
  }
 ],
 "metadata": {
  "kernelspec": {
   "display_name": "ml-pipeline",
   "language": "python",
   "name": "python3"
  },
  "language_info": {
   "codemirror_mode": {
    "name": "ipython",
    "version": 3
   },
   "file_extension": ".py",
   "mimetype": "text/x-python",
   "name": "python",
   "nbconvert_exporter": "python",
   "pygments_lexer": "ipython3",
   "version": "3.12.3"
  }
 },
 "nbformat": 4,
 "nbformat_minor": 2
}
