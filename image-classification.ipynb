{
 "cells": [
  {
   "cell_type": "code",
   "execution_count": 1,
   "metadata": {},
   "outputs": [],
   "source": [
    "import numpy as np\n",
    "import os\n",
    "import matplotlib.pyplot as plt"
   ]
  },
  {
   "cell_type": "code",
   "execution_count": 2,
   "metadata": {},
   "outputs": [],
   "source": [
    "base_data_dir = './data'"
   ]
  },
  {
   "cell_type": "code",
   "execution_count": 3,
   "metadata": {},
   "outputs": [],
   "source": [
    "latest_data_dir_num = max([int(dir.split('_')[-1]) for dir in os.listdir(base_data_dir) if dir.split('_')[-1].isdigit()])\n",
    "data_dir = [dir for dir in os.listdir(base_data_dir) if dir.split('_')[-1].isdigit() and int(dir.split('_')[-1]) == latest_data_dir_num][0]\n",
    "data_dir = f'{base_data_dir}/{data_dir}'"
   ]
  },
  {
   "cell_type": "code",
   "execution_count": 4,
   "metadata": {},
   "outputs": [
    {
     "data": {
      "text/plain": [
       "'./data/decoded_data_41'"
      ]
     },
     "execution_count": 4,
     "metadata": {},
     "output_type": "execute_result"
    }
   ],
   "source": [
    "data_dir"
   ]
  },
  {
   "cell_type": "code",
   "execution_count": 5,
   "metadata": {},
   "outputs": [],
   "source": [
    "import h5py"
   ]
  },
  {
   "cell_type": "code",
   "execution_count": 6,
   "metadata": {},
   "outputs": [],
   "source": [
    "with h5py.File(f'{data_dir}/images.h5') as f:\n",
    "    images = f['images'][:].squeeze()\n",
    "\n",
    "with h5py.File(f'{data_dir}/labels.h5') as f:\n",
    "    labels = f['labels'][:]\n",
    "\n",
    "# loading the training and validation arrays\n",
    "# with h5py.File(f'{data_dir}/train_images.h5') as f:\n",
    "#     train_images = f['images'][:].squeeze()\n",
    "\n",
    "# with h5py.File(f'{data_dir}/train_labels.h5') as f:\n",
    "#     train_labels = f['labels'][:]\n",
    "\n",
    "# with h5py.File(f'{data_dir}/val_images.h5') as f:\n",
    "#     val_images = f['images'][:].squeeze()\n",
    "\n",
    "# with h5py.File(f'{data_dir}/val_labels.h5') as f:\n",
    "#     val_labels = f['labels'][:]"
   ]
  },
  {
   "cell_type": "code",
   "execution_count": 7,
   "metadata": {},
   "outputs": [],
   "source": [
    "def transform_image(image, threshold=None, return_inverse=False):\n",
    "    fft_image = np.fft.fft2(image)\n",
    "    if threshold is None:\n",
    "        threshold = 0.0000005 * np.abs(fft_image)\n",
    "    # creating a mask for zeroing low amplitudes, i.e: below the threshold\n",
    "    mask = np.ones_like(fft_image)\n",
    "    mask[np.abs(fft_image) <= threshold] = 0\n",
    "    filtered_fft_image = fft_image * mask\n",
    "    # getting the inverse fourier transform on the filtered image\n",
    "    inverse_fft_image = np.fft.ifft2(filtered_fft_image)\n",
    "    transformed_image = np.real(inverse_fft_image * np.conj(inverse_fft_image))\n",
    "    # normalizing to [0, 255] range\n",
    "    transformed_image = transformed_image / transformed_image.max()\n",
    "    transformed_image *= 255\n",
    "    if return_inverse:\n",
    "        return fft_image, transformed_image\n",
    "    return transformed_image\n",
    "\n",
    "def filter(inverse):\n",
    "    ones = np.ones_like(inverse)\n",
    "    epsilon = 0.000001\n",
    "    border = 0\n",
    "    center_y, center_x = ones.shape[0]//2, ones.shape[1]//2\n",
    "    center = np.array([center_y, center_x])\n",
    "\n",
    "    ones[center_y-border:center_y+border+1, center_x-border:center_x+border+1] = 0 + epsilon\n",
    "    v, u = np.mgrid[:inverse.shape[0], :inverse.shape[1]]\n",
    "\n",
    "    distances_from_center = np.sqrt(\n",
    "        np.square(v - center[0]) + np.square(u - center[1])\n",
    "    )\n",
    "    threshold = 40\n",
    "    mask = distances_from_center <= threshold\n",
    "\n",
    "    return inverse * mask"
   ]
  },
  {
   "cell_type": "markdown",
   "metadata": {},
   "source": [
    "## Fine tuning the autoencoder model"
   ]
  },
  {
   "cell_type": "code",
   "execution_count": 8,
   "metadata": {},
   "outputs": [],
   "source": [
    "import torch\n",
    "import torch.nn as nn"
   ]
  },
  {
   "cell_type": "code",
   "execution_count": 9,
   "metadata": {},
   "outputs": [
    {
     "data": {
      "text/plain": [
       "device(type='cuda')"
      ]
     },
     "execution_count": 9,
     "metadata": {},
     "output_type": "execute_result"
    }
   ],
   "source": [
    "device = torch.device('cuda' if torch.cuda.is_available() else 'cpu')\n",
    "device"
   ]
  },
  {
   "cell_type": "code",
   "execution_count": 10,
   "metadata": {},
   "outputs": [],
   "source": [
    "import modules.models\n",
    "from modules.models.models import ConvClassifier\n",
    "from modules.models.dataset import AlzheimerDataset"
   ]
  },
  {
   "cell_type": "code",
   "execution_count": 11,
   "metadata": {},
   "outputs": [],
   "source": [
    "import modules.db\n",
    "from modules.db.optuna_report import get_best_hyperparameters"
   ]
  },
  {
   "cell_type": "code",
   "execution_count": 12,
   "metadata": {},
   "outputs": [],
   "source": [
    "alzheimer_dataset = AlzheimerDataset(images, labels)\n",
    "# train_dataset = AlzheimerDataset(train_images, train_labels)\n",
    "# val_dataset = AlzheimerDataset(val_images, val_labels)"
   ]
  },
  {
   "cell_type": "code",
   "execution_count": 13,
   "metadata": {},
   "outputs": [],
   "source": [
    "params = await get_best_hyperparameters(from_last_study=True) # get hyperparameters from the study, if studied\n",
    "\n",
    "train_best_params = params[0]\n",
    "train_best_params['lr'] = train_best_params['learning_rate']"
   ]
  },
  {
   "cell_type": "code",
   "execution_count": 14,
   "metadata": {},
   "outputs": [],
   "source": [
    "def train_epoch(model, optimizer, loss, dataloader, val_dataset, overall_losses, val_overall_losses, accuracy, val_accuracy, epoch, scheduler=None, writer=None):\n",
    "    for _, (batch_X, batch_y) in enumerate(dataloader):\n",
    "        batch_X = batch_X.to(device=model.device)\n",
    "        batch_y = batch_y.to(device=model.device)\n",
    "\n",
    "        if batch_X.shape[0] == 1:\n",
    "            batch_X = torch.concat((batch_X, batch_X), dim=0).to(device=model.device)\n",
    "            batch_y = torch.concat((batch_y, batch_y), dim=0).to(device=model.device)\n",
    "        \n",
    "        optimizer.zero_grad()\n",
    "        \n",
    "        batch_output = model(batch_X)\n",
    "        batch_loss = loss(batch_output, batch_y)\n",
    "        overall_losses[epoch] += batch_loss.item()\n",
    "\n",
    "        predictions = torch.argmax(batch_output, dim=1).to(model.device)\n",
    "        accuracy[epoch] += (predictions == batch_y).sum().item()\n",
    "    \n",
    "        batch_loss.backward()\n",
    "        optimizer.step()\n",
    "    \n",
    "    # updating train metrics\n",
    "    overall_losses[epoch] /= dataloader.dataset.y.shape[0]\n",
    "    accuracy[epoch] /= dataloader.dataset.y.shape[0]\n",
    "\n",
    "    if writer:\n",
    "        writer.add_scalar('Overall Loss/Train', overall_losses[epoch], epoch)\n",
    "        writer.add_scalar('Accuracy/Train', accuracy[epoch], epoch)\n",
    "        \n",
    "    # validation\n",
    "    with torch.no_grad():\n",
    "        model.eval()\n",
    "        val_output = model(val_dataset.X.to(model.device))\n",
    "        loss_value = loss(val_output, val_dataset.y.to(model.device))\n",
    "\n",
    "        val_overall_losses[epoch] = loss_value.item() / val_dataset.y.shape[0]\n",
    "\n",
    "        predictions = torch.argmax(val_output, dim=1).to(model.device)\n",
    "        val_accuracy[epoch] = (predictions == val_dataset.y.to(model.device)).sum().item() / predictions.shape[0]\n",
    "\n",
    "        if writer:\n",
    "            writer.add_scalar('Overall Loss/Validation', val_overall_losses[epoch], epoch)\n",
    "            writer.add_scalar('Accuracy/Validation', val_accuracy[epoch], epoch)\n",
    "\n",
    "    # update learning rate after each epoch to have equal effect for every batch\n",
    "    if scheduler is not None:\n",
    "        scheduler.step()\n",
    "    "
   ]
  },
  {
   "cell_type": "code",
   "execution_count": 15,
   "metadata": {},
   "outputs": [],
   "source": [
    "from tqdm.notebook import tqdm"
   ]
  },
  {
   "cell_type": "code",
   "execution_count": 16,
   "metadata": {},
   "outputs": [],
   "source": [
    "import modules.db\n",
    "from modules.db.optuna_report import report_optuna_trial"
   ]
  },
  {
   "cell_type": "code",
   "execution_count": 17,
   "metadata": {},
   "outputs": [],
   "source": [
    "from torch.utils.tensorboard import SummaryWriter\n",
    "import optuna"
   ]
  },
  {
   "cell_type": "code",
   "execution_count": 18,
   "metadata": {},
   "outputs": [],
   "source": [
    "classification_studies_dir = './data/studies/classification'\n",
    "if not os.path.isdir(classification_studies_dir):\n",
    "    os.mkdir(classification_studies_dir)\n",
    "studies_directories = os.listdir(classification_studies_dir)\n",
    "# if last study wasn't finished, use that study id in tensorboard and later on in resuming the optuna study\n",
    "if len(studies_directories) > 0:\n",
    "    current_study_id = studies_directories[-1].split('-')[-1]\n",
    "# last study finished successfully so we'll start a brand new one\n",
    "# else:\n",
    "#     current_study_id = get_last_study_id() + 1\n",
    "# current_study_id"
   ]
  },
  {
   "cell_type": "code",
   "execution_count": 19,
   "metadata": {},
   "outputs": [],
   "source": [
    "# if trial is None we're going for multi-objective optimization or we're normally training\n",
    "def train(trial, model, optimizer, loss, epochs, dataloader, val_dataset, scheduler=None, plot=True, show_progress=True):\n",
    "    log_dir = f'./logs/classification/study-{0}/trial-{trial.number}' if trial else f'./logs/classiciation/regular/'\n",
    "    writer = SummaryWriter(log_dir=log_dir)\n",
    "\n",
    "    writer.add_graph(model, next(iter(dataloader))[0].to(device=model.device))\n",
    "    \n",
    "    overall_losses, val_overall_losses = torch.zeros(epochs), torch.zeros(epochs)\n",
    "    accuracy, val_accuracy = torch.zeros(epochs), torch.zeros(epochs)\n",
    "    \n",
    "    # using tqdm has conflicts with optuna's study progress bar\n",
    "    epochs_range = tqdm(range(epochs)) if show_progress else range(epochs)\n",
    "    for epoch in epochs_range:\n",
    "        model.train()\n",
    "        \n",
    "        train_epoch(\n",
    "            model=model,\n",
    "            optimizer=optimizer, \n",
    "            loss=loss,\n",
    "            epoch=epoch,\n",
    "            dataloader=dataloader,\n",
    "            val_dataset=val_dataset,\n",
    "            val_overall_losses=val_overall_losses,\n",
    "            accuracy=accuracy,\n",
    "            val_accuracy=val_accuracy,\n",
    "            overall_losses=overall_losses,\n",
    "            scheduler=scheduler,\n",
    "            writer=writer\n",
    "        )\n",
    "\n",
    "        writer.flush()\n",
    "        \n",
    "        if trial is not None:\n",
    "            trial.report(overall_losses[epoch].item(), epoch)\n",
    "\n",
    "            if trial.should_prune():\n",
    "                writer.close()\n",
    "                raise optuna.TrialPruned()\n",
    "\n",
    "    if plot:\n",
    "        fig, axes = plt.subplots(1, 2, sharex=True, sharey=False, figsize=(16, 10))\n",
    "        \n",
    "        axes[0].plot(overall_losses.cpu(), color='blue', label='Train')\n",
    "        axes[0].plot(val_overall_losses.cpu(), color='orange', label='Validation')\n",
    "        axes[0].set_title('Overall Loss')\n",
    "        axes[0].legend()\n",
    "\n",
    "        axes[1].plot(accuracy.cpu(), color='blue', label='Train Accuracy')\n",
    "        axes[1].plot(val_accuracy.cpu(), color='orange', label='Validation Accuracy')\n",
    "        axes[1].set_title('Accuracy')\n",
    "        axes[1].legend()\n",
    "\n",
    "    # writer.flush()\n",
    "    writer.close()\n",
    "    \n",
    "    return (overall_losses, val_overall_losses), (accuracy, val_accuracy)"
   ]
  },
  {
   "cell_type": "code",
   "execution_count": 20,
   "metadata": {},
   "outputs": [],
   "source": [
    "def get_classification_loss_function(idx, device='cpu'):\n",
    "    # getting the distribution of data\n",
    "    _, counts = np.unique(labels, return_counts=True)\n",
    "    counts = counts.astype(np.float32)\n",
    "    counts /= counts.sum()\n",
    "    # giving minority classes larger weights\n",
    "    weights = 1 - torch.from_numpy(counts).to(dtype=torch.float32, device=device)\n",
    "    return nn.CrossEntropyLoss(reduction='sum', weight=weights) if idx == 0 else nn.NLLLoss(reduction='sum', weight=weights)"
   ]
  },
  {
   "cell_type": "code",
   "execution_count": 21,
   "metadata": {},
   "outputs": [],
   "source": [
    "def initialize_hyperparameters(trial):\n",
    "    lr = trial.suggest_float('lr', 1e-5, 1e-2, log=True)\n",
    "    weight_decay = trial.suggest_float('weight_decay', 0.1, 0.4, log=True)\n",
    "    beta1 = trial.suggest_float('beta1', 0.8, 0.999)\n",
    "    beta2 = trial.suggest_float('beta2', 0.5, 0.999)\n",
    "\n",
    "    momentum = trial.suggest_float('momentum', 0, 0.5)\n",
    "    dampening = trial.suggest_float('dampening', 0, 0.5)\n",
    "\n",
    "    optimizer_idx = trial.suggest_int('optimizer_idx', 0, 1)\n",
    "    # optimizer = torch.optim.Adam(autoencoder.parameters(), lr=lr, weight_decay=weight_decay, betas=(beta1, beta2))\n",
    "\n",
    "    scheduler_gamma = trial.suggest_float('scheduler_gamma', 0.8, 0.999)\n",
    "    # scheduler = torch.optim.lr_scheduler.ExponentialLR(optimizer, gamma=scheduler_gamma)\n",
    "\n",
    "    epochs = trial.suggest_int('epochs', 3, 12)\n",
    "    batch_size = trial.suggest_int('batch_size', 33, 256)\n",
    "\n",
    "    loss_idx = trial.suggest_int('loss_idx', 0, 1)\n",
    "\n",
    "    relu_slope = trial.suggest_float('relu_slope', 0, 0.1)\n",
    "\n",
    "    # dataset_idx = trial.suggest_int('dataset_idx', 0, 2)\n",
    "    # dataset = datasets[dataset_idx]\n",
    "\n",
    "    # dataloader = torch.utils.data.DataLoader(alzheimer_dataset, batch_size=batch_size, shuffle=True)\n",
    "\n",
    "    return lr, weight_decay, (beta1, beta2), momentum, dampening, optimizer_idx, scheduler_gamma, epochs, batch_size, loss_idx, relu_slope"
   ]
  },
  {
   "cell_type": "code",
   "execution_count": 22,
   "metadata": {},
   "outputs": [],
   "source": [
    "def objective(trial):\n",
    "    (lr,\n",
    "     weight_decay,\n",
    "     betas,\n",
    "     momentum,\n",
    "     dampening,\n",
    "     optimizer_idx,\n",
    "     scheduler_gamma,\n",
    "     epochs,\n",
    "     batch_size,\n",
    "     loss_idx,\n",
    "     relu_slope) = initialize_hyperparameters(trial)\n",
    "    \n",
    "    model = ConvClassifier(train_params=train_best_params, num_classes=len(np.unique(labels)),\n",
    "                           relu_slope=relu_slope, device=device).to(device)\n",
    "\n",
    "    if optimizer_idx == 0:\n",
    "        optimizer = torch.optim.Adam(model.parameters(), lr=lr, weight_decay=weight_decay, betas=betas)\n",
    "    else:\n",
    "        optimizer = torch.optim.SGD(model.parameters(), lr=lr, weight_decay=weight_decay, momentum=momentum, dampening=dampening)\n",
    "    \n",
    "    scheduler = torch.optim.lr_scheduler.ExponentialLR(optimizer, gamma=scheduler_gamma)\n",
    "    loss = get_classification_loss_function(loss_idx, device=model.device)\n",
    "\n",
    "    # if train_dataset.X.shape[0] % batch_size == 1:\n",
    "    #     return float('inf')\n",
    "    \n",
    "    dataloader = torch.utils.data.DataLoader(alzheimer_dataset, batch_size=batch_size, shuffle=True)\n",
    "    \n",
    "    overall, _ = train(\n",
    "        model=model,\n",
    "        optimizer=optimizer,\n",
    "        loss=loss,\n",
    "        epochs=epochs,\n",
    "        dataloader=dataloader,\n",
    "        val_dataset=alzheimer_dataset,\n",
    "        scheduler=scheduler,\n",
    "        plot=False,\n",
    "        show_progress=False,\n",
    "        trial=trial\n",
    "    )\n",
    "    \n",
    "    overall_train_losses, val_overall_losses = overall\n",
    "    \n",
    "    # saving the best trained model exploded the VRAM so we'll have to do with the best parameters and then retrain \n",
    "    # trial.set_user_attr(key='best_booster', value=autoencoder)\n",
    "    \n",
    "    return val_overall_losses[-1].item() # overall_train_losses[-1].item()"
   ]
  },
  {
   "cell_type": "code",
   "execution_count": 23,
   "metadata": {},
   "outputs": [],
   "source": [
    "def multi_objective(trial):\n",
    "    (lr,\n",
    "     weight_decay,\n",
    "     betas,\n",
    "     momentum,\n",
    "     dampening,\n",
    "     optimizer_idx,\n",
    "     scheduler_gamma,\n",
    "     epochs,\n",
    "     batch_size,\n",
    "     loss_idx,\n",
    "     relu_slope) = initialize_hyperparameters(trial)\n",
    "    \n",
    "    model = ConvClassifier(train_params=train_best_params, num_classes=len(np.unique(labels)),\n",
    "                           relu_slope=relu_slope, device=device).to(device)\n",
    "\n",
    "    if optimizer_idx == 0:\n",
    "        optimizer = torch.optim.Adam(model.parameters(), lr=lr, weight_decay=weight_decay, betas=betas)\n",
    "    else:\n",
    "        optimizer = torch.optim.SGD(model.parameters(), lr=lr, weight_decay=weight_decay, momentum=momentum, dampening=dampening)\n",
    "\n",
    "    scheduler = torch.optim.lr_scheduler.ExponentialLR(optimizer, gamma=scheduler_gamma) if scheduler_gamma < 0.9 else None\n",
    "    loss = get_classification_loss_function(loss_idx, device=model.device)\n",
    "\n",
    "    # if train_dataset.X.shape[0] % batch_size == 1:\n",
    "    #     return float('inf')\n",
    "    \n",
    "    dataloader = torch.utils.data.DataLoader(alzheimer_dataset, batch_size=batch_size, shuffle=True)\n",
    "    \n",
    "    overall, _ = train(\n",
    "        model=model,\n",
    "        optimizer=optimizer,\n",
    "        loss=loss,\n",
    "        epochs=epochs,\n",
    "        dataloader=dataloader,\n",
    "        val_dataset=alzheimer_dataset,\n",
    "        scheduler=scheduler,\n",
    "        plot=False,\n",
    "        show_progress=False,\n",
    "        trial=None\n",
    "    )\n",
    "    \n",
    "    overall_train_losses, val_overall_losses = overall\n",
    "    # train_accuracy, val_accuracy = accuracy\n",
    "    \n",
    "    # TODO: check BCE vs NLLLoss scales\n",
    "    return overall_train_losses[-1].item(), val_overall_losses[-1].item()"
   ]
  },
  {
   "cell_type": "code",
   "execution_count": 24,
   "metadata": {},
   "outputs": [],
   "source": [
    "import asyncio\n",
    "import nest_asyncio"
   ]
  },
  {
   "cell_type": "code",
   "execution_count": 25,
   "metadata": {},
   "outputs": [],
   "source": [
    "def callback(study, trial):\n",
    "    loop = asyncio.get_event_loop()\n",
    "    loop.create_task(report_optuna_trial(study, trial))"
   ]
  },
  {
   "cell_type": "code",
   "execution_count": 26,
   "metadata": {},
   "outputs": [],
   "source": [
    "def optimize(is_multi_objective, n_trials=100):\n",
    "    directions = ['minimize', 'minimize'] if is_multi_objective else ['minimize']\n",
    "    objective_func = multi_objective if is_multi_objective else objective\n",
    "    study = optuna.create_study(directions=directions)\n",
    "    study.optimize(objective_func, n_trials=n_trials, timeout=3600*(n_trials // 30), show_progress_bar=True, gc_after_trial=True) # , callbacks=[callback])\n",
    "    return study"
   ]
  },
  {
   "cell_type": "code",
   "execution_count": 27,
   "metadata": {},
   "outputs": [
    {
     "name": "stderr",
     "output_type": "stream",
     "text": [
      "[I 2025-01-13 00:13:39,507] A new study created in memory with name: no-name-8d3a4607-6a9a-4cfa-b635-a5105ff0e820\n"
     ]
    },
    {
     "data": {
      "application/vnd.jupyter.widget-view+json": {
       "model_id": "8a9d96a6de514c9885050a16ac0c50d8",
       "version_major": 2,
       "version_minor": 0
      },
      "text/plain": [
       "  0%|          | 0/50 [00:00<?, ?it/s]"
      ]
     },
     "metadata": {},
     "output_type": "display_data"
    },
    {
     "name": "stdout",
     "output_type": "stream",
     "text": [
      "[I 2025-01-13 00:13:45,735] Trial 0 finished with value: 0.5595875978469849 and parameters: {'lr': 3.33257946124406e-05, 'weight_decay': 0.17096928528490474, 'beta1': 0.8508340325983391, 'beta2': 0.6183223540989622, 'momentum': 0.19224406016529444, 'dampening': 0.00937664308505698, 'optimizer_idx': 1, 'scheduler_gamma': 0.8703979381167606, 'epochs': 8, 'batch_size': 240, 'loss_idx': 0, 'relu_slope': 0.029912808463295373}. Best is trial 0 with value: 0.5595875978469849.\n",
      "[I 2025-01-13 00:13:53,616] Trial 1 finished with value: 0.6770822405815125 and parameters: {'lr': 1.0200050557914645e-05, 'weight_decay': 0.13592660644868426, 'beta1': 0.8387485181116617, 'beta2': 0.5810644350546845, 'momentum': 0.32175529398776265, 'dampening': 0.046019689577353695, 'optimizer_idx': 1, 'scheduler_gamma': 0.8365752511845055, 'epochs': 9, 'batch_size': 42, 'loss_idx': 0, 'relu_slope': 0.09317772036056597}. Best is trial 0 with value: 0.5595875978469849.\n",
      "[I 2025-01-13 00:13:59,593] Trial 2 finished with value: 0.6110431551933289 and parameters: {'lr': 2.356459491434094e-05, 'weight_decay': 0.17835407203964584, 'beta1': 0.9797535994554121, 'beta2': 0.6069221601958428, 'momentum': 0.4383702102647667, 'dampening': 0.4277044133432081, 'optimizer_idx': 0, 'scheduler_gamma': 0.9146412049026355, 'epochs': 9, 'batch_size': 105, 'loss_idx': 1, 'relu_slope': 0.0797807462763514}. Best is trial 0 with value: 0.5595875978469849.\n",
      "[I 2025-01-13 00:14:07,607] Trial 3 finished with value: 0.34411537647247314 and parameters: {'lr': 0.002628856948380207, 'weight_decay': 0.16075724888177645, 'beta1': 0.8168045491179228, 'beta2': 0.6293751377906702, 'momentum': 0.36963951470306144, 'dampening': 0.05723778413606839, 'optimizer_idx': 0, 'scheduler_gamma': 0.8880871241159479, 'epochs': 10, 'batch_size': 52, 'loss_idx': 0, 'relu_slope': 0.03779572419935712}. Best is trial 3 with value: 0.34411537647247314.\n",
      "[I 2025-01-13 00:14:16,483] Trial 4 finished with value: 0.48880735039711 and parameters: {'lr': 2.4941247687645822e-05, 'weight_decay': 0.3311592410851282, 'beta1': 0.8026847929478613, 'beta2': 0.9353631084117983, 'momentum': 0.3028569869410474, 'dampening': 0.3702688488374053, 'optimizer_idx': 0, 'scheduler_gamma': 0.996916013543488, 'epochs': 11, 'batch_size': 52, 'loss_idx': 0, 'relu_slope': 0.024971112017868714}. Best is trial 3 with value: 0.34411537647247314.\n",
      "[I 2025-01-13 00:14:21,005] Trial 5 finished with value: 0.3251340389251709 and parameters: {'lr': 0.00021585694325629228, 'weight_decay': 0.14241806140648564, 'beta1': 0.8986964005169864, 'beta2': 0.6831651081653478, 'momentum': 0.12409183315447248, 'dampening': 0.09471028543390198, 'optimizer_idx': 1, 'scheduler_gamma': 0.9841451011009623, 'epochs': 7, 'batch_size': 109, 'loss_idx': 1, 'relu_slope': 0.08601728729344217}. Best is trial 5 with value: 0.3251340389251709.\n",
      "[I 2025-01-13 00:14:21,902] Trial 6 pruned. \n",
      "[I 2025-01-13 00:14:27,650] Trial 7 finished with value: 0.3018033504486084 and parameters: {'lr': 0.001320736903298762, 'weight_decay': 0.374626226578136, 'beta1': 0.8922717684899997, 'beta2': 0.5417433297026125, 'momentum': 0.27036161492927696, 'dampening': 0.2505949934591039, 'optimizer_idx': 0, 'scheduler_gamma': 0.9636069405975757, 'epochs': 9, 'batch_size': 133, 'loss_idx': 1, 'relu_slope': 0.09128870063454364}. Best is trial 7 with value: 0.3018033504486084.\n",
      "[I 2025-01-13 00:14:33,339] Trial 8 finished with value: 0.31428611278533936 and parameters: {'lr': 0.00038518042926688186, 'weight_decay': 0.27929257198301843, 'beta1': 0.9215174703330203, 'beta2': 0.6737541459284752, 'momentum': 0.06474674374106726, 'dampening': 0.40520736708389327, 'optimizer_idx': 1, 'scheduler_gamma': 0.9254195314060167, 'epochs': 9, 'batch_size': 188, 'loss_idx': 0, 'relu_slope': 0.05148062641035444}. Best is trial 7 with value: 0.3018033504486084.\n",
      "[I 2025-01-13 00:14:36,066] Trial 9 finished with value: 0.34592196345329285 and parameters: {'lr': 0.0008801563192212716, 'weight_decay': 0.23744717337626634, 'beta1': 0.8781701596963923, 'beta2': 0.7220670123769035, 'momentum': 0.23970318705210591, 'dampening': 0.25015017307734605, 'optimizer_idx': 0, 'scheduler_gamma': 0.9182048195832146, 'epochs': 4, 'batch_size': 213, 'loss_idx': 1, 'relu_slope': 0.028925117630408417}. Best is trial 7 with value: 0.3018033504486084.\n",
      "[I 2025-01-13 00:14:43,594] Trial 10 finished with value: 0.3495849072933197 and parameters: {'lr': 0.009516932692118599, 'weight_decay': 0.38094279678076093, 'beta1': 0.9467283314812319, 'beta2': 0.8360770714765197, 'momentum': 0.0013748944145770547, 'dampening': 0.21283663145810786, 'optimizer_idx': 0, 'scheduler_gamma': 0.9581329592694228, 'epochs': 12, 'batch_size': 141, 'loss_idx': 1, 'relu_slope': 0.004920253347467915}. Best is trial 7 with value: 0.3018033504486084.\n",
      "[I 2025-01-13 00:14:44,498] Trial 11 pruned. \n",
      "[I 2025-01-13 00:14:48,354] Trial 12 finished with value: 0.2669334411621094 and parameters: {'lr': 0.0011269199733397995, 'weight_decay': 0.3063148378285864, 'beta1': 0.929159616037403, 'beta2': 0.5029628331088618, 'momentum': 0.10651278742244547, 'dampening': 0.4907113043020377, 'optimizer_idx': 1, 'scheduler_gamma': 0.9470028144688727, 'epochs': 6, 'batch_size': 137, 'loss_idx': 1, 'relu_slope': 0.06417219653213888}. Best is trial 12 with value: 0.2669334411621094.\n",
      "[I 2025-01-13 00:14:51,595] Trial 13 finished with value: 0.24372683465480804 and parameters: {'lr': 0.0018836429144918358, 'weight_decay': 0.10258199652643933, 'beta1': 0.9697840881921896, 'beta2': 0.5101640202042883, 'momentum': 0.13809192499701858, 'dampening': 0.4747833597454898, 'optimizer_idx': 1, 'scheduler_gamma': 0.9636693767488378, 'epochs': 5, 'batch_size': 127, 'loss_idx': 1, 'relu_slope': 0.0688641609161279}. Best is trial 13 with value: 0.24372683465480804.\n",
      "[I 2025-01-13 00:14:52,486] Trial 14 pruned. \n",
      "[I 2025-01-13 00:14:56,384] Trial 15 finished with value: 0.24717497825622559 and parameters: {'lr': 0.0012544788251837508, 'weight_decay': 0.1066126428252689, 'beta1': 0.9597078606543835, 'beta2': 0.9344015523720989, 'momentum': 0.11931676374382379, 'dampening': 0.4960811023960215, 'optimizer_idx': 1, 'scheduler_gamma': 0.9730314990272364, 'epochs': 6, 'batch_size': 163, 'loss_idx': 1, 'relu_slope': 0.07089139586220704}. Best is trial 13 with value: 0.24372683465480804.\n",
      "[I 2025-01-13 00:14:57,276] Trial 16 pruned. \n",
      "[I 2025-01-13 00:14:58,205] Trial 17 pruned. \n",
      "[I 2025-01-13 00:14:59,137] Trial 18 pruned. \n",
      "[I 2025-01-13 00:15:00,623] Trial 19 pruned. \n",
      "[I 2025-01-13 00:15:01,497] Trial 20 pruned. \n",
      "[I 2025-01-13 00:15:05,369] Trial 21 finished with value: 0.2546282410621643 and parameters: {'lr': 0.0012460489419490964, 'weight_decay': 0.21363028940968035, 'beta1': 0.9371369648657024, 'beta2': 0.5616273480441875, 'momentum': 0.10131653802856683, 'dampening': 0.46331042170639763, 'optimizer_idx': 1, 'scheduler_gamma': 0.9334402384886887, 'epochs': 6, 'batch_size': 141, 'loss_idx': 1, 'relu_slope': 0.06183741800015935}. Best is trial 13 with value: 0.24372683465480804.\n",
      "[I 2025-01-13 00:15:06,256] Trial 22 pruned. \n",
      "[I 2025-01-13 00:15:07,763] Trial 23 pruned. \n",
      "[I 2025-01-13 00:15:12,376] Trial 24 finished with value: 0.23807403445243835 and parameters: {'lr': 0.0015882306505117197, 'weight_decay': 0.14983359266106375, 'beta1': 0.9615590472180396, 'beta2': 0.8301560525905871, 'momentum': 0.051138314080802744, 'dampening': 0.46506790929085046, 'optimizer_idx': 1, 'scheduler_gamma': 0.9406020345517123, 'epochs': 7, 'batch_size': 82, 'loss_idx': 1, 'relu_slope': 0.05833688717382097}. Best is trial 24 with value: 0.23807403445243835.\n",
      "[I 2025-01-13 00:15:17,913] Trial 25 finished with value: 0.22413618862628937 and parameters: {'lr': 0.001798794134216679, 'weight_decay': 0.1229701967117671, 'beta1': 0.9629466504979199, 'beta2': 0.8398466326387748, 'momentum': 0.0340659002751047, 'dampening': 0.31490733044636243, 'optimizer_idx': 1, 'scheduler_gamma': 0.9631569996375785, 'epochs': 8, 'batch_size': 69, 'loss_idx': 1, 'relu_slope': 0.043682968266113786}. Best is trial 25 with value: 0.22413618862628937.\n",
      "[I 2025-01-13 00:15:18,851] Trial 26 pruned. \n",
      "[I 2025-01-13 00:15:19,776] Trial 27 pruned. \n",
      "[I 2025-01-13 00:15:20,661] Trial 28 pruned. \n",
      "[I 2025-01-13 00:15:27,845] Trial 29 finished with value: 0.23617660999298096 and parameters: {'lr': 0.0016540158715055487, 'weight_decay': 0.1814652352842947, 'beta1': 0.8693802342348738, 'beta2': 0.8117973905821073, 'momentum': 0.17563216536974968, 'dampening': 0.2785552351735538, 'optimizer_idx': 1, 'scheduler_gamma': 0.9632933289782023, 'epochs': 10, 'batch_size': 61, 'loss_idx': 0, 'relu_slope': 0.04753418786243717}. Best is trial 25 with value: 0.22413618862628937.\n",
      "[I 2025-01-13 00:15:30,002] Trial 30 pruned. \n",
      "[I 2025-01-13 00:15:37,367] Trial 31 finished with value: 0.23611772060394287 and parameters: {'lr': 0.0019108767468278714, 'weight_decay': 0.1856942470137975, 'beta1': 0.8577210078223535, 'beta2': 0.9022023248913191, 'momentum': 0.21406968703548873, 'dampening': 0.17858845554490538, 'optimizer_idx': 1, 'scheduler_gamma': 0.9605198456791142, 'epochs': 10, 'batch_size': 58, 'loss_idx': 0, 'relu_slope': 0.04675080760622384}. Best is trial 25 with value: 0.22413618862628937.\n",
      "[I 2025-01-13 00:15:38,395] Trial 32 pruned. \n",
      "[I 2025-01-13 00:15:46,107] Trial 33 finished with value: 0.22505386173725128 and parameters: {'lr': 0.0017227957580751398, 'weight_decay': 0.1879214268102852, 'beta1': 0.8441201742939859, 'beta2': 0.8596572323622266, 'momentum': 0.34767234746512693, 'dampening': 0.1471148392200426, 'optimizer_idx': 1, 'scheduler_gamma': 0.9096831664839009, 'epochs': 11, 'batch_size': 65, 'loss_idx': 0, 'relu_slope': 0.03477973739955337}. Best is trial 25 with value: 0.22413618862628937.\n",
      "[I 2025-01-13 00:15:54,500] Trial 34 finished with value: 0.23772969841957092 and parameters: {'lr': 0.0008110779944178293, 'weight_decay': 0.19271087725420813, 'beta1': 0.8409301503620095, 'beta2': 0.9291845878123806, 'momentum': 0.3500682773417104, 'dampening': 0.14752310660843693, 'optimizer_idx': 1, 'scheduler_gamma': 0.8686105583510884, 'epochs': 12, 'batch_size': 64, 'loss_idx': 0, 'relu_slope': 0.03538684016387763}. Best is trial 25 with value: 0.22413618862628937.\n",
      "[I 2025-01-13 00:15:55,741] Trial 35 pruned. \n",
      "[I 2025-01-13 00:15:57,410] Trial 36 pruned. \n",
      "[I 2025-01-13 00:15:58,478] Trial 37 pruned. \n",
      "[I 2025-01-13 00:15:59,404] Trial 38 pruned. \n",
      "[I 2025-01-13 00:16:00,368] Trial 39 pruned. \n",
      "[I 2025-01-13 00:16:01,259] Trial 40 pruned. \n",
      "[I 2025-01-13 00:16:09,644] Trial 41 finished with value: 0.23320788145065308 and parameters: {'lr': 0.0008325159672610611, 'weight_decay': 0.16397573916239574, 'beta1': 0.8419636384640078, 'beta2': 0.9200613957610101, 'momentum': 0.34646786593422657, 'dampening': 0.15554074625064648, 'optimizer_idx': 1, 'scheduler_gamma': 0.8661032870883509, 'epochs': 12, 'batch_size': 63, 'loss_idx': 0, 'relu_slope': 0.03536922552607216}. Best is trial 25 with value: 0.22413618862628937.\n",
      "[I 2025-01-13 00:16:13,121] Trial 42 pruned. \n",
      "[I 2025-01-13 00:16:21,843] Trial 43 finished with value: 0.2309674769639969 and parameters: {'lr': 0.0015391395298804075, 'weight_decay': 0.17168520633563783, 'beta1': 0.8484656000263792, 'beta2': 0.8942464208915852, 'momentum': 0.26844487696753194, 'dampening': 0.2705776166068123, 'optimizer_idx': 1, 'scheduler_gamma': 0.8199463210978659, 'epochs': 12, 'batch_size': 60, 'loss_idx': 0, 'relu_slope': 0.04883480353490884}. Best is trial 25 with value: 0.22413618862628937.\n",
      "[I 2025-01-13 00:16:29,548] Trial 44 finished with value: 0.22655093669891357 and parameters: {'lr': 0.000982743449313064, 'weight_decay': 0.14486097338143714, 'beta1': 0.8062041955064346, 'beta2': 0.9505108890624202, 'momentum': 0.26429263723677165, 'dampening': 0.09983755119342486, 'optimizer_idx': 1, 'scheduler_gamma': 0.811864338808811, 'epochs': 12, 'batch_size': 85, 'loss_idx': 0, 'relu_slope': 0.03769179543634834}. Best is trial 25 with value: 0.22413618862628937.\n",
      "[I 2025-01-13 00:16:31,163] Trial 45 pruned. \n",
      "[I 2025-01-13 00:16:32,069] Trial 46 pruned. \n",
      "[I 2025-01-13 00:16:32,993] Trial 47 pruned. \n",
      "[I 2025-01-13 00:16:40,484] Trial 48 finished with value: 0.21775420010089874 and parameters: {'lr': 0.0013785663502018806, 'weight_decay': 0.1515323592568299, 'beta1': 0.8286329900383058, 'beta2': 0.9184731379403815, 'momentum': 0.25435352570284675, 'dampening': 0.2640169428989796, 'optimizer_idx': 1, 'scheduler_gamma': 0.8037126071151298, 'epochs': 12, 'batch_size': 106, 'loss_idx': 0, 'relu_slope': 0.011035822614333134}. Best is trial 48 with value: 0.21775420010089874.\n",
      "[I 2025-01-13 00:16:43,810] Trial 49 pruned. \n"
     ]
    }
   ],
   "source": [
    "is_multi_objective = False\n",
    "n_trials = 50\n",
    "study = optimize(is_multi_objective=is_multi_objective, n_trials=n_trials)"
   ]
  },
  {
   "cell_type": "code",
   "execution_count": 28,
   "metadata": {},
   "outputs": [],
   "source": [
    "import optuna.visualization as vis"
   ]
  },
  {
   "cell_type": "code",
   "execution_count": 29,
   "metadata": {},
   "outputs": [
    {
     "data": {
      "application/vnd.plotly.v1+json": {
       "config": {
        "plotlyServerURL": "https://plot.ly"
       },
       "data": [
        {
         "cliponaxis": false,
         "hovertemplate": [
          "loss_idx (IntDistribution): 0.0005429900539731889<extra></extra>",
          "scheduler_gamma (FloatDistribution): 0.004793983692159505<extra></extra>",
          "epochs (IntDistribution): 0.011982505698262435<extra></extra>",
          "beta1 (FloatDistribution): 0.013481140278977496<extra></extra>",
          "momentum (FloatDistribution): 0.01621410967493745<extra></extra>",
          "relu_slope (FloatDistribution): 0.02430076051639823<extra></extra>",
          "batch_size (IntDistribution): 0.04606390654315346<extra></extra>",
          "dampening (FloatDistribution): 0.0742026262379552<extra></extra>",
          "weight_decay (FloatDistribution): 0.080943761892356<extra></extra>",
          "beta2 (FloatDistribution): 0.13844994901097343<extra></extra>",
          "optimizer_idx (IntDistribution): 0.17437661949445943<extra></extra>",
          "lr (FloatDistribution): 0.4146476469063942<extra></extra>"
         ],
         "name": "Objective Value",
         "orientation": "h",
         "text": [
          "<0.01",
          "<0.01",
          "0.01",
          "0.01",
          "0.02",
          "0.02",
          "0.05",
          "0.07",
          "0.08",
          "0.14",
          "0.17",
          "0.41"
         ],
         "textposition": "outside",
         "type": "bar",
         "x": [
          0.0005429900539731889,
          0.004793983692159505,
          0.011982505698262435,
          0.013481140278977496,
          0.01621410967493745,
          0.02430076051639823,
          0.04606390654315346,
          0.0742026262379552,
          0.080943761892356,
          0.13844994901097343,
          0.17437661949445943,
          0.4146476469063942
         ],
         "y": [
          "loss_idx",
          "scheduler_gamma",
          "epochs",
          "beta1",
          "momentum",
          "relu_slope",
          "batch_size",
          "dampening",
          "weight_decay",
          "beta2",
          "optimizer_idx",
          "lr"
         ]
        }
       ],
       "layout": {
        "template": {
         "data": {
          "bar": [
           {
            "error_x": {
             "color": "#2a3f5f"
            },
            "error_y": {
             "color": "#2a3f5f"
            },
            "marker": {
             "line": {
              "color": "#E5ECF6",
              "width": 0.5
             },
             "pattern": {
              "fillmode": "overlay",
              "size": 10,
              "solidity": 0.2
             }
            },
            "type": "bar"
           }
          ],
          "barpolar": [
           {
            "marker": {
             "line": {
              "color": "#E5ECF6",
              "width": 0.5
             },
             "pattern": {
              "fillmode": "overlay",
              "size": 10,
              "solidity": 0.2
             }
            },
            "type": "barpolar"
           }
          ],
          "carpet": [
           {
            "aaxis": {
             "endlinecolor": "#2a3f5f",
             "gridcolor": "white",
             "linecolor": "white",
             "minorgridcolor": "white",
             "startlinecolor": "#2a3f5f"
            },
            "baxis": {
             "endlinecolor": "#2a3f5f",
             "gridcolor": "white",
             "linecolor": "white",
             "minorgridcolor": "white",
             "startlinecolor": "#2a3f5f"
            },
            "type": "carpet"
           }
          ],
          "choropleth": [
           {
            "colorbar": {
             "outlinewidth": 0,
             "ticks": ""
            },
            "type": "choropleth"
           }
          ],
          "contour": [
           {
            "colorbar": {
             "outlinewidth": 0,
             "ticks": ""
            },
            "colorscale": [
             [
              0,
              "#0d0887"
             ],
             [
              0.1111111111111111,
              "#46039f"
             ],
             [
              0.2222222222222222,
              "#7201a8"
             ],
             [
              0.3333333333333333,
              "#9c179e"
             ],
             [
              0.4444444444444444,
              "#bd3786"
             ],
             [
              0.5555555555555556,
              "#d8576b"
             ],
             [
              0.6666666666666666,
              "#ed7953"
             ],
             [
              0.7777777777777778,
              "#fb9f3a"
             ],
             [
              0.8888888888888888,
              "#fdca26"
             ],
             [
              1,
              "#f0f921"
             ]
            ],
            "type": "contour"
           }
          ],
          "contourcarpet": [
           {
            "colorbar": {
             "outlinewidth": 0,
             "ticks": ""
            },
            "type": "contourcarpet"
           }
          ],
          "heatmap": [
           {
            "colorbar": {
             "outlinewidth": 0,
             "ticks": ""
            },
            "colorscale": [
             [
              0,
              "#0d0887"
             ],
             [
              0.1111111111111111,
              "#46039f"
             ],
             [
              0.2222222222222222,
              "#7201a8"
             ],
             [
              0.3333333333333333,
              "#9c179e"
             ],
             [
              0.4444444444444444,
              "#bd3786"
             ],
             [
              0.5555555555555556,
              "#d8576b"
             ],
             [
              0.6666666666666666,
              "#ed7953"
             ],
             [
              0.7777777777777778,
              "#fb9f3a"
             ],
             [
              0.8888888888888888,
              "#fdca26"
             ],
             [
              1,
              "#f0f921"
             ]
            ],
            "type": "heatmap"
           }
          ],
          "heatmapgl": [
           {
            "colorbar": {
             "outlinewidth": 0,
             "ticks": ""
            },
            "colorscale": [
             [
              0,
              "#0d0887"
             ],
             [
              0.1111111111111111,
              "#46039f"
             ],
             [
              0.2222222222222222,
              "#7201a8"
             ],
             [
              0.3333333333333333,
              "#9c179e"
             ],
             [
              0.4444444444444444,
              "#bd3786"
             ],
             [
              0.5555555555555556,
              "#d8576b"
             ],
             [
              0.6666666666666666,
              "#ed7953"
             ],
             [
              0.7777777777777778,
              "#fb9f3a"
             ],
             [
              0.8888888888888888,
              "#fdca26"
             ],
             [
              1,
              "#f0f921"
             ]
            ],
            "type": "heatmapgl"
           }
          ],
          "histogram": [
           {
            "marker": {
             "pattern": {
              "fillmode": "overlay",
              "size": 10,
              "solidity": 0.2
             }
            },
            "type": "histogram"
           }
          ],
          "histogram2d": [
           {
            "colorbar": {
             "outlinewidth": 0,
             "ticks": ""
            },
            "colorscale": [
             [
              0,
              "#0d0887"
             ],
             [
              0.1111111111111111,
              "#46039f"
             ],
             [
              0.2222222222222222,
              "#7201a8"
             ],
             [
              0.3333333333333333,
              "#9c179e"
             ],
             [
              0.4444444444444444,
              "#bd3786"
             ],
             [
              0.5555555555555556,
              "#d8576b"
             ],
             [
              0.6666666666666666,
              "#ed7953"
             ],
             [
              0.7777777777777778,
              "#fb9f3a"
             ],
             [
              0.8888888888888888,
              "#fdca26"
             ],
             [
              1,
              "#f0f921"
             ]
            ],
            "type": "histogram2d"
           }
          ],
          "histogram2dcontour": [
           {
            "colorbar": {
             "outlinewidth": 0,
             "ticks": ""
            },
            "colorscale": [
             [
              0,
              "#0d0887"
             ],
             [
              0.1111111111111111,
              "#46039f"
             ],
             [
              0.2222222222222222,
              "#7201a8"
             ],
             [
              0.3333333333333333,
              "#9c179e"
             ],
             [
              0.4444444444444444,
              "#bd3786"
             ],
             [
              0.5555555555555556,
              "#d8576b"
             ],
             [
              0.6666666666666666,
              "#ed7953"
             ],
             [
              0.7777777777777778,
              "#fb9f3a"
             ],
             [
              0.8888888888888888,
              "#fdca26"
             ],
             [
              1,
              "#f0f921"
             ]
            ],
            "type": "histogram2dcontour"
           }
          ],
          "mesh3d": [
           {
            "colorbar": {
             "outlinewidth": 0,
             "ticks": ""
            },
            "type": "mesh3d"
           }
          ],
          "parcoords": [
           {
            "line": {
             "colorbar": {
              "outlinewidth": 0,
              "ticks": ""
             }
            },
            "type": "parcoords"
           }
          ],
          "pie": [
           {
            "automargin": true,
            "type": "pie"
           }
          ],
          "scatter": [
           {
            "fillpattern": {
             "fillmode": "overlay",
             "size": 10,
             "solidity": 0.2
            },
            "type": "scatter"
           }
          ],
          "scatter3d": [
           {
            "line": {
             "colorbar": {
              "outlinewidth": 0,
              "ticks": ""
             }
            },
            "marker": {
             "colorbar": {
              "outlinewidth": 0,
              "ticks": ""
             }
            },
            "type": "scatter3d"
           }
          ],
          "scattercarpet": [
           {
            "marker": {
             "colorbar": {
              "outlinewidth": 0,
              "ticks": ""
             }
            },
            "type": "scattercarpet"
           }
          ],
          "scattergeo": [
           {
            "marker": {
             "colorbar": {
              "outlinewidth": 0,
              "ticks": ""
             }
            },
            "type": "scattergeo"
           }
          ],
          "scattergl": [
           {
            "marker": {
             "colorbar": {
              "outlinewidth": 0,
              "ticks": ""
             }
            },
            "type": "scattergl"
           }
          ],
          "scattermapbox": [
           {
            "marker": {
             "colorbar": {
              "outlinewidth": 0,
              "ticks": ""
             }
            },
            "type": "scattermapbox"
           }
          ],
          "scatterpolar": [
           {
            "marker": {
             "colorbar": {
              "outlinewidth": 0,
              "ticks": ""
             }
            },
            "type": "scatterpolar"
           }
          ],
          "scatterpolargl": [
           {
            "marker": {
             "colorbar": {
              "outlinewidth": 0,
              "ticks": ""
             }
            },
            "type": "scatterpolargl"
           }
          ],
          "scatterternary": [
           {
            "marker": {
             "colorbar": {
              "outlinewidth": 0,
              "ticks": ""
             }
            },
            "type": "scatterternary"
           }
          ],
          "surface": [
           {
            "colorbar": {
             "outlinewidth": 0,
             "ticks": ""
            },
            "colorscale": [
             [
              0,
              "#0d0887"
             ],
             [
              0.1111111111111111,
              "#46039f"
             ],
             [
              0.2222222222222222,
              "#7201a8"
             ],
             [
              0.3333333333333333,
              "#9c179e"
             ],
             [
              0.4444444444444444,
              "#bd3786"
             ],
             [
              0.5555555555555556,
              "#d8576b"
             ],
             [
              0.6666666666666666,
              "#ed7953"
             ],
             [
              0.7777777777777778,
              "#fb9f3a"
             ],
             [
              0.8888888888888888,
              "#fdca26"
             ],
             [
              1,
              "#f0f921"
             ]
            ],
            "type": "surface"
           }
          ],
          "table": [
           {
            "cells": {
             "fill": {
              "color": "#EBF0F8"
             },
             "line": {
              "color": "white"
             }
            },
            "header": {
             "fill": {
              "color": "#C8D4E3"
             },
             "line": {
              "color": "white"
             }
            },
            "type": "table"
           }
          ]
         },
         "layout": {
          "annotationdefaults": {
           "arrowcolor": "#2a3f5f",
           "arrowhead": 0,
           "arrowwidth": 1
          },
          "autotypenumbers": "strict",
          "coloraxis": {
           "colorbar": {
            "outlinewidth": 0,
            "ticks": ""
           }
          },
          "colorscale": {
           "diverging": [
            [
             0,
             "#8e0152"
            ],
            [
             0.1,
             "#c51b7d"
            ],
            [
             0.2,
             "#de77ae"
            ],
            [
             0.3,
             "#f1b6da"
            ],
            [
             0.4,
             "#fde0ef"
            ],
            [
             0.5,
             "#f7f7f7"
            ],
            [
             0.6,
             "#e6f5d0"
            ],
            [
             0.7,
             "#b8e186"
            ],
            [
             0.8,
             "#7fbc41"
            ],
            [
             0.9,
             "#4d9221"
            ],
            [
             1,
             "#276419"
            ]
           ],
           "sequential": [
            [
             0,
             "#0d0887"
            ],
            [
             0.1111111111111111,
             "#46039f"
            ],
            [
             0.2222222222222222,
             "#7201a8"
            ],
            [
             0.3333333333333333,
             "#9c179e"
            ],
            [
             0.4444444444444444,
             "#bd3786"
            ],
            [
             0.5555555555555556,
             "#d8576b"
            ],
            [
             0.6666666666666666,
             "#ed7953"
            ],
            [
             0.7777777777777778,
             "#fb9f3a"
            ],
            [
             0.8888888888888888,
             "#fdca26"
            ],
            [
             1,
             "#f0f921"
            ]
           ],
           "sequentialminus": [
            [
             0,
             "#0d0887"
            ],
            [
             0.1111111111111111,
             "#46039f"
            ],
            [
             0.2222222222222222,
             "#7201a8"
            ],
            [
             0.3333333333333333,
             "#9c179e"
            ],
            [
             0.4444444444444444,
             "#bd3786"
            ],
            [
             0.5555555555555556,
             "#d8576b"
            ],
            [
             0.6666666666666666,
             "#ed7953"
            ],
            [
             0.7777777777777778,
             "#fb9f3a"
            ],
            [
             0.8888888888888888,
             "#fdca26"
            ],
            [
             1,
             "#f0f921"
            ]
           ]
          },
          "colorway": [
           "#636efa",
           "#EF553B",
           "#00cc96",
           "#ab63fa",
           "#FFA15A",
           "#19d3f3",
           "#FF6692",
           "#B6E880",
           "#FF97FF",
           "#FECB52"
          ],
          "font": {
           "color": "#2a3f5f"
          },
          "geo": {
           "bgcolor": "white",
           "lakecolor": "white",
           "landcolor": "#E5ECF6",
           "showlakes": true,
           "showland": true,
           "subunitcolor": "white"
          },
          "hoverlabel": {
           "align": "left"
          },
          "hovermode": "closest",
          "mapbox": {
           "style": "light"
          },
          "paper_bgcolor": "white",
          "plot_bgcolor": "#E5ECF6",
          "polar": {
           "angularaxis": {
            "gridcolor": "white",
            "linecolor": "white",
            "ticks": ""
           },
           "bgcolor": "#E5ECF6",
           "radialaxis": {
            "gridcolor": "white",
            "linecolor": "white",
            "ticks": ""
           }
          },
          "scene": {
           "xaxis": {
            "backgroundcolor": "#E5ECF6",
            "gridcolor": "white",
            "gridwidth": 2,
            "linecolor": "white",
            "showbackground": true,
            "ticks": "",
            "zerolinecolor": "white"
           },
           "yaxis": {
            "backgroundcolor": "#E5ECF6",
            "gridcolor": "white",
            "gridwidth": 2,
            "linecolor": "white",
            "showbackground": true,
            "ticks": "",
            "zerolinecolor": "white"
           },
           "zaxis": {
            "backgroundcolor": "#E5ECF6",
            "gridcolor": "white",
            "gridwidth": 2,
            "linecolor": "white",
            "showbackground": true,
            "ticks": "",
            "zerolinecolor": "white"
           }
          },
          "shapedefaults": {
           "line": {
            "color": "#2a3f5f"
           }
          },
          "ternary": {
           "aaxis": {
            "gridcolor": "white",
            "linecolor": "white",
            "ticks": ""
           },
           "baxis": {
            "gridcolor": "white",
            "linecolor": "white",
            "ticks": ""
           },
           "bgcolor": "#E5ECF6",
           "caxis": {
            "gridcolor": "white",
            "linecolor": "white",
            "ticks": ""
           }
          },
          "title": {
           "x": 0.05
          },
          "xaxis": {
           "automargin": true,
           "gridcolor": "white",
           "linecolor": "white",
           "ticks": "",
           "title": {
            "standoff": 15
           },
           "zerolinecolor": "white",
           "zerolinewidth": 2
          },
          "yaxis": {
           "automargin": true,
           "gridcolor": "white",
           "linecolor": "white",
           "ticks": "",
           "title": {
            "standoff": 15
           },
           "zerolinecolor": "white",
           "zerolinewidth": 2
          }
         }
        },
        "title": {
         "text": "Hyperparameter Importances"
        },
        "xaxis": {
         "title": {
          "text": "Hyperparameter Importance"
         }
        },
        "yaxis": {
         "title": {
          "text": "Hyperparameter"
         }
        }
       }
      }
     },
     "metadata": {},
     "output_type": "display_data"
    }
   ],
   "source": [
    "vis.plot_param_importances(study)"
   ]
  },
  {
   "cell_type": "code",
   "execution_count": 30,
   "metadata": {},
   "outputs": [],
   "source": [
    "if is_multi_objective:\n",
    "    fig = vis.plot_optimization_history(study, target=lambda t: t.values[0], target_name='Loss')\n",
    "    fig.show()"
   ]
  },
  {
   "cell_type": "code",
   "execution_count": 31,
   "metadata": {},
   "outputs": [
    {
     "data": {
      "application/vnd.plotly.v1+json": {
       "config": {
        "plotlyServerURL": "https://plot.ly"
       },
       "data": [
        {
         "mode": "markers",
         "name": "Objective Value",
         "type": "scatter",
         "x": [
          0,
          1,
          2,
          3,
          4,
          5,
          7,
          8,
          9,
          10,
          12,
          13,
          15,
          21,
          24,
          25,
          29,
          31,
          33,
          34,
          41,
          43,
          44,
          48
         ],
         "y": [
          0.5595875978469849,
          0.6770822405815125,
          0.6110431551933289,
          0.34411537647247314,
          0.48880735039711,
          0.3251340389251709,
          0.3018033504486084,
          0.31428611278533936,
          0.34592196345329285,
          0.3495849072933197,
          0.2669334411621094,
          0.24372683465480804,
          0.24717497825622559,
          0.2546282410621643,
          0.23807403445243835,
          0.22413618862628937,
          0.23617660999298096,
          0.23611772060394287,
          0.22505386173725128,
          0.23772969841957092,
          0.23320788145065308,
          0.2309674769639969,
          0.22655093669891357,
          0.21775420010089874
         ]
        },
        {
         "mode": "lines",
         "name": "Best Value",
         "type": "scatter",
         "x": [
          0,
          1,
          2,
          3,
          4,
          5,
          6,
          7,
          8,
          9,
          10,
          11,
          12,
          13,
          14,
          15,
          16,
          17,
          18,
          19,
          20,
          21,
          22,
          23,
          24,
          25,
          26,
          27,
          28,
          29,
          30,
          31,
          32,
          33,
          34,
          35,
          36,
          37,
          38,
          39,
          40,
          41,
          42,
          43,
          44,
          45,
          46,
          47,
          48,
          49
         ],
         "y": [
          0.5595875978469849,
          0.5595875978469849,
          0.5595875978469849,
          0.34411537647247314,
          0.34411537647247314,
          0.3251340389251709,
          0.3251340389251709,
          0.3018033504486084,
          0.3018033504486084,
          0.3018033504486084,
          0.3018033504486084,
          0.3018033504486084,
          0.2669334411621094,
          0.24372683465480804,
          0.24372683465480804,
          0.24372683465480804,
          0.24372683465480804,
          0.24372683465480804,
          0.24372683465480804,
          0.24372683465480804,
          0.24372683465480804,
          0.24372683465480804,
          0.24372683465480804,
          0.24372683465480804,
          0.23807403445243835,
          0.22413618862628937,
          0.22413618862628937,
          0.22413618862628937,
          0.22413618862628937,
          0.22413618862628937,
          0.22413618862628937,
          0.22413618862628937,
          0.22413618862628937,
          0.22413618862628937,
          0.22413618862628937,
          0.22413618862628937,
          0.22413618862628937,
          0.22413618862628937,
          0.22413618862628937,
          0.22413618862628937,
          0.22413618862628937,
          0.22413618862628937,
          0.22413618862628937,
          0.22413618862628937,
          0.22413618862628937,
          0.22413618862628937,
          0.22413618862628937,
          0.22413618862628937,
          0.21775420010089874,
          0.21775420010089874
         ]
        },
        {
         "marker": {
          "color": "#cccccc"
         },
         "mode": "markers",
         "name": "Infeasible Trial",
         "showlegend": false,
         "type": "scatter",
         "x": [],
         "y": []
        }
       ],
       "layout": {
        "template": {
         "data": {
          "bar": [
           {
            "error_x": {
             "color": "#2a3f5f"
            },
            "error_y": {
             "color": "#2a3f5f"
            },
            "marker": {
             "line": {
              "color": "#E5ECF6",
              "width": 0.5
             },
             "pattern": {
              "fillmode": "overlay",
              "size": 10,
              "solidity": 0.2
             }
            },
            "type": "bar"
           }
          ],
          "barpolar": [
           {
            "marker": {
             "line": {
              "color": "#E5ECF6",
              "width": 0.5
             },
             "pattern": {
              "fillmode": "overlay",
              "size": 10,
              "solidity": 0.2
             }
            },
            "type": "barpolar"
           }
          ],
          "carpet": [
           {
            "aaxis": {
             "endlinecolor": "#2a3f5f",
             "gridcolor": "white",
             "linecolor": "white",
             "minorgridcolor": "white",
             "startlinecolor": "#2a3f5f"
            },
            "baxis": {
             "endlinecolor": "#2a3f5f",
             "gridcolor": "white",
             "linecolor": "white",
             "minorgridcolor": "white",
             "startlinecolor": "#2a3f5f"
            },
            "type": "carpet"
           }
          ],
          "choropleth": [
           {
            "colorbar": {
             "outlinewidth": 0,
             "ticks": ""
            },
            "type": "choropleth"
           }
          ],
          "contour": [
           {
            "colorbar": {
             "outlinewidth": 0,
             "ticks": ""
            },
            "colorscale": [
             [
              0,
              "#0d0887"
             ],
             [
              0.1111111111111111,
              "#46039f"
             ],
             [
              0.2222222222222222,
              "#7201a8"
             ],
             [
              0.3333333333333333,
              "#9c179e"
             ],
             [
              0.4444444444444444,
              "#bd3786"
             ],
             [
              0.5555555555555556,
              "#d8576b"
             ],
             [
              0.6666666666666666,
              "#ed7953"
             ],
             [
              0.7777777777777778,
              "#fb9f3a"
             ],
             [
              0.8888888888888888,
              "#fdca26"
             ],
             [
              1,
              "#f0f921"
             ]
            ],
            "type": "contour"
           }
          ],
          "contourcarpet": [
           {
            "colorbar": {
             "outlinewidth": 0,
             "ticks": ""
            },
            "type": "contourcarpet"
           }
          ],
          "heatmap": [
           {
            "colorbar": {
             "outlinewidth": 0,
             "ticks": ""
            },
            "colorscale": [
             [
              0,
              "#0d0887"
             ],
             [
              0.1111111111111111,
              "#46039f"
             ],
             [
              0.2222222222222222,
              "#7201a8"
             ],
             [
              0.3333333333333333,
              "#9c179e"
             ],
             [
              0.4444444444444444,
              "#bd3786"
             ],
             [
              0.5555555555555556,
              "#d8576b"
             ],
             [
              0.6666666666666666,
              "#ed7953"
             ],
             [
              0.7777777777777778,
              "#fb9f3a"
             ],
             [
              0.8888888888888888,
              "#fdca26"
             ],
             [
              1,
              "#f0f921"
             ]
            ],
            "type": "heatmap"
           }
          ],
          "heatmapgl": [
           {
            "colorbar": {
             "outlinewidth": 0,
             "ticks": ""
            },
            "colorscale": [
             [
              0,
              "#0d0887"
             ],
             [
              0.1111111111111111,
              "#46039f"
             ],
             [
              0.2222222222222222,
              "#7201a8"
             ],
             [
              0.3333333333333333,
              "#9c179e"
             ],
             [
              0.4444444444444444,
              "#bd3786"
             ],
             [
              0.5555555555555556,
              "#d8576b"
             ],
             [
              0.6666666666666666,
              "#ed7953"
             ],
             [
              0.7777777777777778,
              "#fb9f3a"
             ],
             [
              0.8888888888888888,
              "#fdca26"
             ],
             [
              1,
              "#f0f921"
             ]
            ],
            "type": "heatmapgl"
           }
          ],
          "histogram": [
           {
            "marker": {
             "pattern": {
              "fillmode": "overlay",
              "size": 10,
              "solidity": 0.2
             }
            },
            "type": "histogram"
           }
          ],
          "histogram2d": [
           {
            "colorbar": {
             "outlinewidth": 0,
             "ticks": ""
            },
            "colorscale": [
             [
              0,
              "#0d0887"
             ],
             [
              0.1111111111111111,
              "#46039f"
             ],
             [
              0.2222222222222222,
              "#7201a8"
             ],
             [
              0.3333333333333333,
              "#9c179e"
             ],
             [
              0.4444444444444444,
              "#bd3786"
             ],
             [
              0.5555555555555556,
              "#d8576b"
             ],
             [
              0.6666666666666666,
              "#ed7953"
             ],
             [
              0.7777777777777778,
              "#fb9f3a"
             ],
             [
              0.8888888888888888,
              "#fdca26"
             ],
             [
              1,
              "#f0f921"
             ]
            ],
            "type": "histogram2d"
           }
          ],
          "histogram2dcontour": [
           {
            "colorbar": {
             "outlinewidth": 0,
             "ticks": ""
            },
            "colorscale": [
             [
              0,
              "#0d0887"
             ],
             [
              0.1111111111111111,
              "#46039f"
             ],
             [
              0.2222222222222222,
              "#7201a8"
             ],
             [
              0.3333333333333333,
              "#9c179e"
             ],
             [
              0.4444444444444444,
              "#bd3786"
             ],
             [
              0.5555555555555556,
              "#d8576b"
             ],
             [
              0.6666666666666666,
              "#ed7953"
             ],
             [
              0.7777777777777778,
              "#fb9f3a"
             ],
             [
              0.8888888888888888,
              "#fdca26"
             ],
             [
              1,
              "#f0f921"
             ]
            ],
            "type": "histogram2dcontour"
           }
          ],
          "mesh3d": [
           {
            "colorbar": {
             "outlinewidth": 0,
             "ticks": ""
            },
            "type": "mesh3d"
           }
          ],
          "parcoords": [
           {
            "line": {
             "colorbar": {
              "outlinewidth": 0,
              "ticks": ""
             }
            },
            "type": "parcoords"
           }
          ],
          "pie": [
           {
            "automargin": true,
            "type": "pie"
           }
          ],
          "scatter": [
           {
            "fillpattern": {
             "fillmode": "overlay",
             "size": 10,
             "solidity": 0.2
            },
            "type": "scatter"
           }
          ],
          "scatter3d": [
           {
            "line": {
             "colorbar": {
              "outlinewidth": 0,
              "ticks": ""
             }
            },
            "marker": {
             "colorbar": {
              "outlinewidth": 0,
              "ticks": ""
             }
            },
            "type": "scatter3d"
           }
          ],
          "scattercarpet": [
           {
            "marker": {
             "colorbar": {
              "outlinewidth": 0,
              "ticks": ""
             }
            },
            "type": "scattercarpet"
           }
          ],
          "scattergeo": [
           {
            "marker": {
             "colorbar": {
              "outlinewidth": 0,
              "ticks": ""
             }
            },
            "type": "scattergeo"
           }
          ],
          "scattergl": [
           {
            "marker": {
             "colorbar": {
              "outlinewidth": 0,
              "ticks": ""
             }
            },
            "type": "scattergl"
           }
          ],
          "scattermapbox": [
           {
            "marker": {
             "colorbar": {
              "outlinewidth": 0,
              "ticks": ""
             }
            },
            "type": "scattermapbox"
           }
          ],
          "scatterpolar": [
           {
            "marker": {
             "colorbar": {
              "outlinewidth": 0,
              "ticks": ""
             }
            },
            "type": "scatterpolar"
           }
          ],
          "scatterpolargl": [
           {
            "marker": {
             "colorbar": {
              "outlinewidth": 0,
              "ticks": ""
             }
            },
            "type": "scatterpolargl"
           }
          ],
          "scatterternary": [
           {
            "marker": {
             "colorbar": {
              "outlinewidth": 0,
              "ticks": ""
             }
            },
            "type": "scatterternary"
           }
          ],
          "surface": [
           {
            "colorbar": {
             "outlinewidth": 0,
             "ticks": ""
            },
            "colorscale": [
             [
              0,
              "#0d0887"
             ],
             [
              0.1111111111111111,
              "#46039f"
             ],
             [
              0.2222222222222222,
              "#7201a8"
             ],
             [
              0.3333333333333333,
              "#9c179e"
             ],
             [
              0.4444444444444444,
              "#bd3786"
             ],
             [
              0.5555555555555556,
              "#d8576b"
             ],
             [
              0.6666666666666666,
              "#ed7953"
             ],
             [
              0.7777777777777778,
              "#fb9f3a"
             ],
             [
              0.8888888888888888,
              "#fdca26"
             ],
             [
              1,
              "#f0f921"
             ]
            ],
            "type": "surface"
           }
          ],
          "table": [
           {
            "cells": {
             "fill": {
              "color": "#EBF0F8"
             },
             "line": {
              "color": "white"
             }
            },
            "header": {
             "fill": {
              "color": "#C8D4E3"
             },
             "line": {
              "color": "white"
             }
            },
            "type": "table"
           }
          ]
         },
         "layout": {
          "annotationdefaults": {
           "arrowcolor": "#2a3f5f",
           "arrowhead": 0,
           "arrowwidth": 1
          },
          "autotypenumbers": "strict",
          "coloraxis": {
           "colorbar": {
            "outlinewidth": 0,
            "ticks": ""
           }
          },
          "colorscale": {
           "diverging": [
            [
             0,
             "#8e0152"
            ],
            [
             0.1,
             "#c51b7d"
            ],
            [
             0.2,
             "#de77ae"
            ],
            [
             0.3,
             "#f1b6da"
            ],
            [
             0.4,
             "#fde0ef"
            ],
            [
             0.5,
             "#f7f7f7"
            ],
            [
             0.6,
             "#e6f5d0"
            ],
            [
             0.7,
             "#b8e186"
            ],
            [
             0.8,
             "#7fbc41"
            ],
            [
             0.9,
             "#4d9221"
            ],
            [
             1,
             "#276419"
            ]
           ],
           "sequential": [
            [
             0,
             "#0d0887"
            ],
            [
             0.1111111111111111,
             "#46039f"
            ],
            [
             0.2222222222222222,
             "#7201a8"
            ],
            [
             0.3333333333333333,
             "#9c179e"
            ],
            [
             0.4444444444444444,
             "#bd3786"
            ],
            [
             0.5555555555555556,
             "#d8576b"
            ],
            [
             0.6666666666666666,
             "#ed7953"
            ],
            [
             0.7777777777777778,
             "#fb9f3a"
            ],
            [
             0.8888888888888888,
             "#fdca26"
            ],
            [
             1,
             "#f0f921"
            ]
           ],
           "sequentialminus": [
            [
             0,
             "#0d0887"
            ],
            [
             0.1111111111111111,
             "#46039f"
            ],
            [
             0.2222222222222222,
             "#7201a8"
            ],
            [
             0.3333333333333333,
             "#9c179e"
            ],
            [
             0.4444444444444444,
             "#bd3786"
            ],
            [
             0.5555555555555556,
             "#d8576b"
            ],
            [
             0.6666666666666666,
             "#ed7953"
            ],
            [
             0.7777777777777778,
             "#fb9f3a"
            ],
            [
             0.8888888888888888,
             "#fdca26"
            ],
            [
             1,
             "#f0f921"
            ]
           ]
          },
          "colorway": [
           "#636efa",
           "#EF553B",
           "#00cc96",
           "#ab63fa",
           "#FFA15A",
           "#19d3f3",
           "#FF6692",
           "#B6E880",
           "#FF97FF",
           "#FECB52"
          ],
          "font": {
           "color": "#2a3f5f"
          },
          "geo": {
           "bgcolor": "white",
           "lakecolor": "white",
           "landcolor": "#E5ECF6",
           "showlakes": true,
           "showland": true,
           "subunitcolor": "white"
          },
          "hoverlabel": {
           "align": "left"
          },
          "hovermode": "closest",
          "mapbox": {
           "style": "light"
          },
          "paper_bgcolor": "white",
          "plot_bgcolor": "#E5ECF6",
          "polar": {
           "angularaxis": {
            "gridcolor": "white",
            "linecolor": "white",
            "ticks": ""
           },
           "bgcolor": "#E5ECF6",
           "radialaxis": {
            "gridcolor": "white",
            "linecolor": "white",
            "ticks": ""
           }
          },
          "scene": {
           "xaxis": {
            "backgroundcolor": "#E5ECF6",
            "gridcolor": "white",
            "gridwidth": 2,
            "linecolor": "white",
            "showbackground": true,
            "ticks": "",
            "zerolinecolor": "white"
           },
           "yaxis": {
            "backgroundcolor": "#E5ECF6",
            "gridcolor": "white",
            "gridwidth": 2,
            "linecolor": "white",
            "showbackground": true,
            "ticks": "",
            "zerolinecolor": "white"
           },
           "zaxis": {
            "backgroundcolor": "#E5ECF6",
            "gridcolor": "white",
            "gridwidth": 2,
            "linecolor": "white",
            "showbackground": true,
            "ticks": "",
            "zerolinecolor": "white"
           }
          },
          "shapedefaults": {
           "line": {
            "color": "#2a3f5f"
           }
          },
          "ternary": {
           "aaxis": {
            "gridcolor": "white",
            "linecolor": "white",
            "ticks": ""
           },
           "baxis": {
            "gridcolor": "white",
            "linecolor": "white",
            "ticks": ""
           },
           "bgcolor": "#E5ECF6",
           "caxis": {
            "gridcolor": "white",
            "linecolor": "white",
            "ticks": ""
           }
          },
          "title": {
           "x": 0.05
          },
          "xaxis": {
           "automargin": true,
           "gridcolor": "white",
           "linecolor": "white",
           "ticks": "",
           "title": {
            "standoff": 15
           },
           "zerolinecolor": "white",
           "zerolinewidth": 2
          },
          "yaxis": {
           "automargin": true,
           "gridcolor": "white",
           "linecolor": "white",
           "ticks": "",
           "title": {
            "standoff": 15
           },
           "zerolinecolor": "white",
           "zerolinewidth": 2
          }
         }
        },
        "title": {
         "text": "Optimization History Plot"
        },
        "xaxis": {
         "title": {
          "text": "Trial"
         }
        },
        "yaxis": {
         "title": {
          "text": "Objective Value"
         }
        }
       }
      }
     },
     "metadata": {},
     "output_type": "display_data"
    }
   ],
   "source": [
    "if is_multi_objective:\n",
    "    fig = vis.plot_optimization_history(study, target=lambda t: t.values[1], target_name='Accuracy')\n",
    "else:\n",
    "    fig = vis.plot_optimization_history(study)\n",
    "fig.show()"
   ]
  },
  {
   "cell_type": "code",
   "execution_count": 32,
   "metadata": {},
   "outputs": [],
   "source": [
    "if is_multi_objective:\n",
    "    fig = vis.plot_slice(study, target=lambda t: t.values[0], target_name='Loss')\n",
    "    fig.show()"
   ]
  },
  {
   "cell_type": "code",
   "execution_count": 33,
   "metadata": {},
   "outputs": [
    {
     "data": {
      "application/vnd.plotly.v1+json": {
       "config": {
        "plotlyServerURL": "https://plot.ly"
       },
       "data": [
        {
         "marker": {
          "color": [
           0,
           1,
           2,
           3,
           4,
           5,
           7,
           8,
           9,
           10,
           12,
           13,
           15,
           21,
           24,
           25,
           29,
           31,
           33,
           34,
           41,
           43,
           44,
           48
          ],
          "colorbar": {
           "title": {
            "text": "Trial"
           },
           "x": 1,
           "xpad": 40
          },
          "colorscale": [
           [
            0,
            "rgb(247,251,255)"
           ],
           [
            0.125,
            "rgb(222,235,247)"
           ],
           [
            0.25,
            "rgb(198,219,239)"
           ],
           [
            0.375,
            "rgb(158,202,225)"
           ],
           [
            0.5,
            "rgb(107,174,214)"
           ],
           [
            0.625,
            "rgb(66,146,198)"
           ],
           [
            0.75,
            "rgb(33,113,181)"
           ],
           [
            0.875,
            "rgb(8,81,156)"
           ],
           [
            1,
            "rgb(8,48,107)"
           ]
          ],
          "line": {
           "color": "Grey",
           "width": 0.5
          },
          "showscale": true
         },
         "mode": "markers",
         "name": "Feasible Trial",
         "showlegend": false,
         "type": "scatter",
         "x": [
          240,
          42,
          105,
          52,
          52,
          109,
          133,
          188,
          213,
          141,
          137,
          127,
          163,
          141,
          82,
          69,
          61,
          58,
          65,
          64,
          63,
          60,
          85,
          106
         ],
         "xaxis": "x",
         "y": [
          0.5595875978469849,
          0.6770822405815125,
          0.6110431551933289,
          0.34411537647247314,
          0.48880735039711,
          0.3251340389251709,
          0.3018033504486084,
          0.31428611278533936,
          0.34592196345329285,
          0.3495849072933197,
          0.2669334411621094,
          0.24372683465480804,
          0.24717497825622559,
          0.2546282410621643,
          0.23807403445243835,
          0.22413618862628937,
          0.23617660999298096,
          0.23611772060394287,
          0.22505386173725128,
          0.23772969841957092,
          0.23320788145065308,
          0.2309674769639969,
          0.22655093669891357,
          0.21775420010089874
         ],
         "yaxis": "y"
        },
        {
         "marker": {
          "color": [
           0,
           1,
           2,
           3,
           4,
           5,
           7,
           8,
           9,
           10,
           12,
           13,
           15,
           21,
           24,
           25,
           29,
           31,
           33,
           34,
           41,
           43,
           44,
           48
          ],
          "colorbar": {
           "title": {
            "text": "Trial"
           },
           "x": 1,
           "xpad": 40
          },
          "colorscale": [
           [
            0,
            "rgb(247,251,255)"
           ],
           [
            0.125,
            "rgb(222,235,247)"
           ],
           [
            0.25,
            "rgb(198,219,239)"
           ],
           [
            0.375,
            "rgb(158,202,225)"
           ],
           [
            0.5,
            "rgb(107,174,214)"
           ],
           [
            0.625,
            "rgb(66,146,198)"
           ],
           [
            0.75,
            "rgb(33,113,181)"
           ],
           [
            0.875,
            "rgb(8,81,156)"
           ],
           [
            1,
            "rgb(8,48,107)"
           ]
          ],
          "line": {
           "color": "Grey",
           "width": 0.5
          },
          "showscale": false
         },
         "mode": "markers",
         "name": "Feasible Trial",
         "showlegend": false,
         "type": "scatter",
         "x": [
          0.8508340325983391,
          0.8387485181116617,
          0.9797535994554121,
          0.8168045491179228,
          0.8026847929478613,
          0.8986964005169864,
          0.8922717684899997,
          0.9215174703330203,
          0.8781701596963923,
          0.9467283314812319,
          0.929159616037403,
          0.9697840881921896,
          0.9597078606543835,
          0.9371369648657024,
          0.9615590472180396,
          0.9629466504979199,
          0.8693802342348738,
          0.8577210078223535,
          0.8441201742939859,
          0.8409301503620095,
          0.8419636384640078,
          0.8484656000263792,
          0.8062041955064346,
          0.8286329900383058
         ],
         "xaxis": "x2",
         "y": [
          0.5595875978469849,
          0.6770822405815125,
          0.6110431551933289,
          0.34411537647247314,
          0.48880735039711,
          0.3251340389251709,
          0.3018033504486084,
          0.31428611278533936,
          0.34592196345329285,
          0.3495849072933197,
          0.2669334411621094,
          0.24372683465480804,
          0.24717497825622559,
          0.2546282410621643,
          0.23807403445243835,
          0.22413618862628937,
          0.23617660999298096,
          0.23611772060394287,
          0.22505386173725128,
          0.23772969841957092,
          0.23320788145065308,
          0.2309674769639969,
          0.22655093669891357,
          0.21775420010089874
         ],
         "yaxis": "y2"
        },
        {
         "marker": {
          "color": [
           0,
           1,
           2,
           3,
           4,
           5,
           7,
           8,
           9,
           10,
           12,
           13,
           15,
           21,
           24,
           25,
           29,
           31,
           33,
           34,
           41,
           43,
           44,
           48
          ],
          "colorbar": {
           "title": {
            "text": "Trial"
           },
           "x": 1,
           "xpad": 40
          },
          "colorscale": [
           [
            0,
            "rgb(247,251,255)"
           ],
           [
            0.125,
            "rgb(222,235,247)"
           ],
           [
            0.25,
            "rgb(198,219,239)"
           ],
           [
            0.375,
            "rgb(158,202,225)"
           ],
           [
            0.5,
            "rgb(107,174,214)"
           ],
           [
            0.625,
            "rgb(66,146,198)"
           ],
           [
            0.75,
            "rgb(33,113,181)"
           ],
           [
            0.875,
            "rgb(8,81,156)"
           ],
           [
            1,
            "rgb(8,48,107)"
           ]
          ],
          "line": {
           "color": "Grey",
           "width": 0.5
          },
          "showscale": false
         },
         "mode": "markers",
         "name": "Feasible Trial",
         "showlegend": false,
         "type": "scatter",
         "x": [
          0.6183223540989622,
          0.5810644350546845,
          0.6069221601958428,
          0.6293751377906702,
          0.9353631084117983,
          0.6831651081653478,
          0.5417433297026125,
          0.6737541459284752,
          0.7220670123769035,
          0.8360770714765197,
          0.5029628331088618,
          0.5101640202042883,
          0.9344015523720989,
          0.5616273480441875,
          0.8301560525905871,
          0.8398466326387748,
          0.8117973905821073,
          0.9022023248913191,
          0.8596572323622266,
          0.9291845878123806,
          0.9200613957610101,
          0.8942464208915852,
          0.9505108890624202,
          0.9184731379403815
         ],
         "xaxis": "x3",
         "y": [
          0.5595875978469849,
          0.6770822405815125,
          0.6110431551933289,
          0.34411537647247314,
          0.48880735039711,
          0.3251340389251709,
          0.3018033504486084,
          0.31428611278533936,
          0.34592196345329285,
          0.3495849072933197,
          0.2669334411621094,
          0.24372683465480804,
          0.24717497825622559,
          0.2546282410621643,
          0.23807403445243835,
          0.22413618862628937,
          0.23617660999298096,
          0.23611772060394287,
          0.22505386173725128,
          0.23772969841957092,
          0.23320788145065308,
          0.2309674769639969,
          0.22655093669891357,
          0.21775420010089874
         ],
         "yaxis": "y3"
        },
        {
         "marker": {
          "color": [
           0,
           1,
           2,
           3,
           4,
           5,
           7,
           8,
           9,
           10,
           12,
           13,
           15,
           21,
           24,
           25,
           29,
           31,
           33,
           34,
           41,
           43,
           44,
           48
          ],
          "colorbar": {
           "title": {
            "text": "Trial"
           },
           "x": 1,
           "xpad": 40
          },
          "colorscale": [
           [
            0,
            "rgb(247,251,255)"
           ],
           [
            0.125,
            "rgb(222,235,247)"
           ],
           [
            0.25,
            "rgb(198,219,239)"
           ],
           [
            0.375,
            "rgb(158,202,225)"
           ],
           [
            0.5,
            "rgb(107,174,214)"
           ],
           [
            0.625,
            "rgb(66,146,198)"
           ],
           [
            0.75,
            "rgb(33,113,181)"
           ],
           [
            0.875,
            "rgb(8,81,156)"
           ],
           [
            1,
            "rgb(8,48,107)"
           ]
          ],
          "line": {
           "color": "Grey",
           "width": 0.5
          },
          "showscale": false
         },
         "mode": "markers",
         "name": "Feasible Trial",
         "showlegend": false,
         "type": "scatter",
         "x": [
          0.00937664308505698,
          0.046019689577353695,
          0.4277044133432081,
          0.05723778413606839,
          0.3702688488374053,
          0.09471028543390198,
          0.2505949934591039,
          0.40520736708389327,
          0.25015017307734605,
          0.21283663145810786,
          0.4907113043020377,
          0.4747833597454898,
          0.4960811023960215,
          0.46331042170639763,
          0.46506790929085046,
          0.31490733044636243,
          0.2785552351735538,
          0.17858845554490538,
          0.1471148392200426,
          0.14752310660843693,
          0.15554074625064648,
          0.2705776166068123,
          0.09983755119342486,
          0.2640169428989796
         ],
         "xaxis": "x4",
         "y": [
          0.5595875978469849,
          0.6770822405815125,
          0.6110431551933289,
          0.34411537647247314,
          0.48880735039711,
          0.3251340389251709,
          0.3018033504486084,
          0.31428611278533936,
          0.34592196345329285,
          0.3495849072933197,
          0.2669334411621094,
          0.24372683465480804,
          0.24717497825622559,
          0.2546282410621643,
          0.23807403445243835,
          0.22413618862628937,
          0.23617660999298096,
          0.23611772060394287,
          0.22505386173725128,
          0.23772969841957092,
          0.23320788145065308,
          0.2309674769639969,
          0.22655093669891357,
          0.21775420010089874
         ],
         "yaxis": "y4"
        },
        {
         "marker": {
          "color": [
           0,
           1,
           2,
           3,
           4,
           5,
           7,
           8,
           9,
           10,
           12,
           13,
           15,
           21,
           24,
           25,
           29,
           31,
           33,
           34,
           41,
           43,
           44,
           48
          ],
          "colorbar": {
           "title": {
            "text": "Trial"
           },
           "x": 1,
           "xpad": 40
          },
          "colorscale": [
           [
            0,
            "rgb(247,251,255)"
           ],
           [
            0.125,
            "rgb(222,235,247)"
           ],
           [
            0.25,
            "rgb(198,219,239)"
           ],
           [
            0.375,
            "rgb(158,202,225)"
           ],
           [
            0.5,
            "rgb(107,174,214)"
           ],
           [
            0.625,
            "rgb(66,146,198)"
           ],
           [
            0.75,
            "rgb(33,113,181)"
           ],
           [
            0.875,
            "rgb(8,81,156)"
           ],
           [
            1,
            "rgb(8,48,107)"
           ]
          ],
          "line": {
           "color": "Grey",
           "width": 0.5
          },
          "showscale": false
         },
         "mode": "markers",
         "name": "Feasible Trial",
         "showlegend": false,
         "type": "scatter",
         "x": [
          8,
          9,
          9,
          10,
          11,
          7,
          9,
          9,
          4,
          12,
          6,
          5,
          6,
          6,
          7,
          8,
          10,
          10,
          11,
          12,
          12,
          12,
          12,
          12
         ],
         "xaxis": "x5",
         "y": [
          0.5595875978469849,
          0.6770822405815125,
          0.6110431551933289,
          0.34411537647247314,
          0.48880735039711,
          0.3251340389251709,
          0.3018033504486084,
          0.31428611278533936,
          0.34592196345329285,
          0.3495849072933197,
          0.2669334411621094,
          0.24372683465480804,
          0.24717497825622559,
          0.2546282410621643,
          0.23807403445243835,
          0.22413618862628937,
          0.23617660999298096,
          0.23611772060394287,
          0.22505386173725128,
          0.23772969841957092,
          0.23320788145065308,
          0.2309674769639969,
          0.22655093669891357,
          0.21775420010089874
         ],
         "yaxis": "y5"
        },
        {
         "marker": {
          "color": [
           0,
           1,
           2,
           3,
           4,
           5,
           7,
           8,
           9,
           10,
           12,
           13,
           15,
           21,
           24,
           25,
           29,
           31,
           33,
           34,
           41,
           43,
           44,
           48
          ],
          "colorbar": {
           "title": {
            "text": "Trial"
           },
           "x": 1,
           "xpad": 40
          },
          "colorscale": [
           [
            0,
            "rgb(247,251,255)"
           ],
           [
            0.125,
            "rgb(222,235,247)"
           ],
           [
            0.25,
            "rgb(198,219,239)"
           ],
           [
            0.375,
            "rgb(158,202,225)"
           ],
           [
            0.5,
            "rgb(107,174,214)"
           ],
           [
            0.625,
            "rgb(66,146,198)"
           ],
           [
            0.75,
            "rgb(33,113,181)"
           ],
           [
            0.875,
            "rgb(8,81,156)"
           ],
           [
            1,
            "rgb(8,48,107)"
           ]
          ],
          "line": {
           "color": "Grey",
           "width": 0.5
          },
          "showscale": false
         },
         "mode": "markers",
         "name": "Feasible Trial",
         "showlegend": false,
         "type": "scatter",
         "x": [
          0,
          0,
          1,
          0,
          0,
          1,
          1,
          0,
          1,
          1,
          1,
          1,
          1,
          1,
          1,
          1,
          0,
          0,
          0,
          0,
          0,
          0,
          0,
          0
         ],
         "xaxis": "x6",
         "y": [
          0.5595875978469849,
          0.6770822405815125,
          0.6110431551933289,
          0.34411537647247314,
          0.48880735039711,
          0.3251340389251709,
          0.3018033504486084,
          0.31428611278533936,
          0.34592196345329285,
          0.3495849072933197,
          0.2669334411621094,
          0.24372683465480804,
          0.24717497825622559,
          0.2546282410621643,
          0.23807403445243835,
          0.22413618862628937,
          0.23617660999298096,
          0.23611772060394287,
          0.22505386173725128,
          0.23772969841957092,
          0.23320788145065308,
          0.2309674769639969,
          0.22655093669891357,
          0.21775420010089874
         ],
         "yaxis": "y6"
        },
        {
         "marker": {
          "color": [
           0,
           1,
           2,
           3,
           4,
           5,
           7,
           8,
           9,
           10,
           12,
           13,
           15,
           21,
           24,
           25,
           29,
           31,
           33,
           34,
           41,
           43,
           44,
           48
          ],
          "colorbar": {
           "title": {
            "text": "Trial"
           },
           "x": 1,
           "xpad": 40
          },
          "colorscale": [
           [
            0,
            "rgb(247,251,255)"
           ],
           [
            0.125,
            "rgb(222,235,247)"
           ],
           [
            0.25,
            "rgb(198,219,239)"
           ],
           [
            0.375,
            "rgb(158,202,225)"
           ],
           [
            0.5,
            "rgb(107,174,214)"
           ],
           [
            0.625,
            "rgb(66,146,198)"
           ],
           [
            0.75,
            "rgb(33,113,181)"
           ],
           [
            0.875,
            "rgb(8,81,156)"
           ],
           [
            1,
            "rgb(8,48,107)"
           ]
          ],
          "line": {
           "color": "Grey",
           "width": 0.5
          },
          "showscale": false
         },
         "mode": "markers",
         "name": "Feasible Trial",
         "showlegend": false,
         "type": "scatter",
         "x": [
          0.0000333257946124406,
          0.000010200050557914645,
          0.00002356459491434094,
          0.002628856948380207,
          0.000024941247687645822,
          0.00021585694325629228,
          0.001320736903298762,
          0.00038518042926688186,
          0.0008801563192212716,
          0.009516932692118599,
          0.0011269199733397995,
          0.0018836429144918358,
          0.0012544788251837508,
          0.0012460489419490964,
          0.0015882306505117197,
          0.001798794134216679,
          0.0016540158715055487,
          0.0019108767468278714,
          0.0017227957580751398,
          0.0008110779944178293,
          0.0008325159672610611,
          0.0015391395298804075,
          0.000982743449313064,
          0.0013785663502018806
         ],
         "xaxis": "x7",
         "y": [
          0.5595875978469849,
          0.6770822405815125,
          0.6110431551933289,
          0.34411537647247314,
          0.48880735039711,
          0.3251340389251709,
          0.3018033504486084,
          0.31428611278533936,
          0.34592196345329285,
          0.3495849072933197,
          0.2669334411621094,
          0.24372683465480804,
          0.24717497825622559,
          0.2546282410621643,
          0.23807403445243835,
          0.22413618862628937,
          0.23617660999298096,
          0.23611772060394287,
          0.22505386173725128,
          0.23772969841957092,
          0.23320788145065308,
          0.2309674769639969,
          0.22655093669891357,
          0.21775420010089874
         ],
         "yaxis": "y7"
        },
        {
         "marker": {
          "color": [
           0,
           1,
           2,
           3,
           4,
           5,
           7,
           8,
           9,
           10,
           12,
           13,
           15,
           21,
           24,
           25,
           29,
           31,
           33,
           34,
           41,
           43,
           44,
           48
          ],
          "colorbar": {
           "title": {
            "text": "Trial"
           },
           "x": 1,
           "xpad": 40
          },
          "colorscale": [
           [
            0,
            "rgb(247,251,255)"
           ],
           [
            0.125,
            "rgb(222,235,247)"
           ],
           [
            0.25,
            "rgb(198,219,239)"
           ],
           [
            0.375,
            "rgb(158,202,225)"
           ],
           [
            0.5,
            "rgb(107,174,214)"
           ],
           [
            0.625,
            "rgb(66,146,198)"
           ],
           [
            0.75,
            "rgb(33,113,181)"
           ],
           [
            0.875,
            "rgb(8,81,156)"
           ],
           [
            1,
            "rgb(8,48,107)"
           ]
          ],
          "line": {
           "color": "Grey",
           "width": 0.5
          },
          "showscale": false
         },
         "mode": "markers",
         "name": "Feasible Trial",
         "showlegend": false,
         "type": "scatter",
         "x": [
          0.19224406016529444,
          0.32175529398776265,
          0.4383702102647667,
          0.36963951470306144,
          0.3028569869410474,
          0.12409183315447248,
          0.27036161492927696,
          0.06474674374106726,
          0.23970318705210591,
          0.0013748944145770547,
          0.10651278742244547,
          0.13809192499701858,
          0.11931676374382379,
          0.10131653802856683,
          0.051138314080802744,
          0.0340659002751047,
          0.17563216536974968,
          0.21406968703548873,
          0.34767234746512693,
          0.3500682773417104,
          0.34646786593422657,
          0.26844487696753194,
          0.26429263723677165,
          0.25435352570284675
         ],
         "xaxis": "x8",
         "y": [
          0.5595875978469849,
          0.6770822405815125,
          0.6110431551933289,
          0.34411537647247314,
          0.48880735039711,
          0.3251340389251709,
          0.3018033504486084,
          0.31428611278533936,
          0.34592196345329285,
          0.3495849072933197,
          0.2669334411621094,
          0.24372683465480804,
          0.24717497825622559,
          0.2546282410621643,
          0.23807403445243835,
          0.22413618862628937,
          0.23617660999298096,
          0.23611772060394287,
          0.22505386173725128,
          0.23772969841957092,
          0.23320788145065308,
          0.2309674769639969,
          0.22655093669891357,
          0.21775420010089874
         ],
         "yaxis": "y8"
        },
        {
         "marker": {
          "color": [
           0,
           1,
           2,
           3,
           4,
           5,
           7,
           8,
           9,
           10,
           12,
           13,
           15,
           21,
           24,
           25,
           29,
           31,
           33,
           34,
           41,
           43,
           44,
           48
          ],
          "colorbar": {
           "title": {
            "text": "Trial"
           },
           "x": 1,
           "xpad": 40
          },
          "colorscale": [
           [
            0,
            "rgb(247,251,255)"
           ],
           [
            0.125,
            "rgb(222,235,247)"
           ],
           [
            0.25,
            "rgb(198,219,239)"
           ],
           [
            0.375,
            "rgb(158,202,225)"
           ],
           [
            0.5,
            "rgb(107,174,214)"
           ],
           [
            0.625,
            "rgb(66,146,198)"
           ],
           [
            0.75,
            "rgb(33,113,181)"
           ],
           [
            0.875,
            "rgb(8,81,156)"
           ],
           [
            1,
            "rgb(8,48,107)"
           ]
          ],
          "line": {
           "color": "Grey",
           "width": 0.5
          },
          "showscale": false
         },
         "mode": "markers",
         "name": "Feasible Trial",
         "showlegend": false,
         "type": "scatter",
         "x": [
          1,
          1,
          0,
          0,
          0,
          1,
          0,
          1,
          0,
          0,
          1,
          1,
          1,
          1,
          1,
          1,
          1,
          1,
          1,
          1,
          1,
          1,
          1,
          1
         ],
         "xaxis": "x9",
         "y": [
          0.5595875978469849,
          0.6770822405815125,
          0.6110431551933289,
          0.34411537647247314,
          0.48880735039711,
          0.3251340389251709,
          0.3018033504486084,
          0.31428611278533936,
          0.34592196345329285,
          0.3495849072933197,
          0.2669334411621094,
          0.24372683465480804,
          0.24717497825622559,
          0.2546282410621643,
          0.23807403445243835,
          0.22413618862628937,
          0.23617660999298096,
          0.23611772060394287,
          0.22505386173725128,
          0.23772969841957092,
          0.23320788145065308,
          0.2309674769639969,
          0.22655093669891357,
          0.21775420010089874
         ],
         "yaxis": "y9"
        },
        {
         "marker": {
          "color": [
           0,
           1,
           2,
           3,
           4,
           5,
           7,
           8,
           9,
           10,
           12,
           13,
           15,
           21,
           24,
           25,
           29,
           31,
           33,
           34,
           41,
           43,
           44,
           48
          ],
          "colorbar": {
           "title": {
            "text": "Trial"
           },
           "x": 1,
           "xpad": 40
          },
          "colorscale": [
           [
            0,
            "rgb(247,251,255)"
           ],
           [
            0.125,
            "rgb(222,235,247)"
           ],
           [
            0.25,
            "rgb(198,219,239)"
           ],
           [
            0.375,
            "rgb(158,202,225)"
           ],
           [
            0.5,
            "rgb(107,174,214)"
           ],
           [
            0.625,
            "rgb(66,146,198)"
           ],
           [
            0.75,
            "rgb(33,113,181)"
           ],
           [
            0.875,
            "rgb(8,81,156)"
           ],
           [
            1,
            "rgb(8,48,107)"
           ]
          ],
          "line": {
           "color": "Grey",
           "width": 0.5
          },
          "showscale": false
         },
         "mode": "markers",
         "name": "Feasible Trial",
         "showlegend": false,
         "type": "scatter",
         "x": [
          0.029912808463295373,
          0.09317772036056597,
          0.0797807462763514,
          0.03779572419935712,
          0.024971112017868714,
          0.08601728729344217,
          0.09128870063454364,
          0.05148062641035444,
          0.028925117630408417,
          0.004920253347467915,
          0.06417219653213888,
          0.0688641609161279,
          0.07089139586220704,
          0.06183741800015935,
          0.05833688717382097,
          0.043682968266113786,
          0.04753418786243717,
          0.04675080760622384,
          0.03477973739955337,
          0.03538684016387763,
          0.03536922552607216,
          0.04883480353490884,
          0.03769179543634834,
          0.011035822614333134
         ],
         "xaxis": "x10",
         "y": [
          0.5595875978469849,
          0.6770822405815125,
          0.6110431551933289,
          0.34411537647247314,
          0.48880735039711,
          0.3251340389251709,
          0.3018033504486084,
          0.31428611278533936,
          0.34592196345329285,
          0.3495849072933197,
          0.2669334411621094,
          0.24372683465480804,
          0.24717497825622559,
          0.2546282410621643,
          0.23807403445243835,
          0.22413618862628937,
          0.23617660999298096,
          0.23611772060394287,
          0.22505386173725128,
          0.23772969841957092,
          0.23320788145065308,
          0.2309674769639969,
          0.22655093669891357,
          0.21775420010089874
         ],
         "yaxis": "y10"
        },
        {
         "marker": {
          "color": [
           0,
           1,
           2,
           3,
           4,
           5,
           7,
           8,
           9,
           10,
           12,
           13,
           15,
           21,
           24,
           25,
           29,
           31,
           33,
           34,
           41,
           43,
           44,
           48
          ],
          "colorbar": {
           "title": {
            "text": "Trial"
           },
           "x": 1,
           "xpad": 40
          },
          "colorscale": [
           [
            0,
            "rgb(247,251,255)"
           ],
           [
            0.125,
            "rgb(222,235,247)"
           ],
           [
            0.25,
            "rgb(198,219,239)"
           ],
           [
            0.375,
            "rgb(158,202,225)"
           ],
           [
            0.5,
            "rgb(107,174,214)"
           ],
           [
            0.625,
            "rgb(66,146,198)"
           ],
           [
            0.75,
            "rgb(33,113,181)"
           ],
           [
            0.875,
            "rgb(8,81,156)"
           ],
           [
            1,
            "rgb(8,48,107)"
           ]
          ],
          "line": {
           "color": "Grey",
           "width": 0.5
          },
          "showscale": false
         },
         "mode": "markers",
         "name": "Feasible Trial",
         "showlegend": false,
         "type": "scatter",
         "x": [
          0.8703979381167606,
          0.8365752511845055,
          0.9146412049026355,
          0.8880871241159479,
          0.996916013543488,
          0.9841451011009623,
          0.9636069405975757,
          0.9254195314060167,
          0.9182048195832146,
          0.9581329592694228,
          0.9470028144688727,
          0.9636693767488378,
          0.9730314990272364,
          0.9334402384886887,
          0.9406020345517123,
          0.9631569996375785,
          0.9632933289782023,
          0.9605198456791142,
          0.9096831664839009,
          0.8686105583510884,
          0.8661032870883509,
          0.8199463210978659,
          0.811864338808811,
          0.8037126071151298
         ],
         "xaxis": "x11",
         "y": [
          0.5595875978469849,
          0.6770822405815125,
          0.6110431551933289,
          0.34411537647247314,
          0.48880735039711,
          0.3251340389251709,
          0.3018033504486084,
          0.31428611278533936,
          0.34592196345329285,
          0.3495849072933197,
          0.2669334411621094,
          0.24372683465480804,
          0.24717497825622559,
          0.2546282410621643,
          0.23807403445243835,
          0.22413618862628937,
          0.23617660999298096,
          0.23611772060394287,
          0.22505386173725128,
          0.23772969841957092,
          0.23320788145065308,
          0.2309674769639969,
          0.22655093669891357,
          0.21775420010089874
         ],
         "yaxis": "y11"
        },
        {
         "marker": {
          "color": [
           0,
           1,
           2,
           3,
           4,
           5,
           7,
           8,
           9,
           10,
           12,
           13,
           15,
           21,
           24,
           25,
           29,
           31,
           33,
           34,
           41,
           43,
           44,
           48
          ],
          "colorbar": {
           "title": {
            "text": "Trial"
           },
           "x": 1,
           "xpad": 40
          },
          "colorscale": [
           [
            0,
            "rgb(247,251,255)"
           ],
           [
            0.125,
            "rgb(222,235,247)"
           ],
           [
            0.25,
            "rgb(198,219,239)"
           ],
           [
            0.375,
            "rgb(158,202,225)"
           ],
           [
            0.5,
            "rgb(107,174,214)"
           ],
           [
            0.625,
            "rgb(66,146,198)"
           ],
           [
            0.75,
            "rgb(33,113,181)"
           ],
           [
            0.875,
            "rgb(8,81,156)"
           ],
           [
            1,
            "rgb(8,48,107)"
           ]
          ],
          "line": {
           "color": "Grey",
           "width": 0.5
          },
          "showscale": false
         },
         "mode": "markers",
         "name": "Feasible Trial",
         "showlegend": false,
         "type": "scatter",
         "x": [
          0.17096928528490474,
          0.13592660644868426,
          0.17835407203964584,
          0.16075724888177645,
          0.3311592410851282,
          0.14241806140648564,
          0.374626226578136,
          0.27929257198301843,
          0.23744717337626634,
          0.38094279678076093,
          0.3063148378285864,
          0.10258199652643933,
          0.1066126428252689,
          0.21363028940968035,
          0.14983359266106375,
          0.1229701967117671,
          0.1814652352842947,
          0.1856942470137975,
          0.1879214268102852,
          0.19271087725420813,
          0.16397573916239574,
          0.17168520633563783,
          0.14486097338143714,
          0.1515323592568299
         ],
         "xaxis": "x12",
         "y": [
          0.5595875978469849,
          0.6770822405815125,
          0.6110431551933289,
          0.34411537647247314,
          0.48880735039711,
          0.3251340389251709,
          0.3018033504486084,
          0.31428611278533936,
          0.34592196345329285,
          0.3495849072933197,
          0.2669334411621094,
          0.24372683465480804,
          0.24717497825622559,
          0.2546282410621643,
          0.23807403445243835,
          0.22413618862628937,
          0.23617660999298096,
          0.23611772060394287,
          0.22505386173725128,
          0.23772969841957092,
          0.23320788145065308,
          0.2309674769639969,
          0.22655093669891357,
          0.21775420010089874
         ],
         "yaxis": "y12"
        }
       ],
       "layout": {
        "template": {
         "data": {
          "bar": [
           {
            "error_x": {
             "color": "#2a3f5f"
            },
            "error_y": {
             "color": "#2a3f5f"
            },
            "marker": {
             "line": {
              "color": "#E5ECF6",
              "width": 0.5
             },
             "pattern": {
              "fillmode": "overlay",
              "size": 10,
              "solidity": 0.2
             }
            },
            "type": "bar"
           }
          ],
          "barpolar": [
           {
            "marker": {
             "line": {
              "color": "#E5ECF6",
              "width": 0.5
             },
             "pattern": {
              "fillmode": "overlay",
              "size": 10,
              "solidity": 0.2
             }
            },
            "type": "barpolar"
           }
          ],
          "carpet": [
           {
            "aaxis": {
             "endlinecolor": "#2a3f5f",
             "gridcolor": "white",
             "linecolor": "white",
             "minorgridcolor": "white",
             "startlinecolor": "#2a3f5f"
            },
            "baxis": {
             "endlinecolor": "#2a3f5f",
             "gridcolor": "white",
             "linecolor": "white",
             "minorgridcolor": "white",
             "startlinecolor": "#2a3f5f"
            },
            "type": "carpet"
           }
          ],
          "choropleth": [
           {
            "colorbar": {
             "outlinewidth": 0,
             "ticks": ""
            },
            "type": "choropleth"
           }
          ],
          "contour": [
           {
            "colorbar": {
             "outlinewidth": 0,
             "ticks": ""
            },
            "colorscale": [
             [
              0,
              "#0d0887"
             ],
             [
              0.1111111111111111,
              "#46039f"
             ],
             [
              0.2222222222222222,
              "#7201a8"
             ],
             [
              0.3333333333333333,
              "#9c179e"
             ],
             [
              0.4444444444444444,
              "#bd3786"
             ],
             [
              0.5555555555555556,
              "#d8576b"
             ],
             [
              0.6666666666666666,
              "#ed7953"
             ],
             [
              0.7777777777777778,
              "#fb9f3a"
             ],
             [
              0.8888888888888888,
              "#fdca26"
             ],
             [
              1,
              "#f0f921"
             ]
            ],
            "type": "contour"
           }
          ],
          "contourcarpet": [
           {
            "colorbar": {
             "outlinewidth": 0,
             "ticks": ""
            },
            "type": "contourcarpet"
           }
          ],
          "heatmap": [
           {
            "colorbar": {
             "outlinewidth": 0,
             "ticks": ""
            },
            "colorscale": [
             [
              0,
              "#0d0887"
             ],
             [
              0.1111111111111111,
              "#46039f"
             ],
             [
              0.2222222222222222,
              "#7201a8"
             ],
             [
              0.3333333333333333,
              "#9c179e"
             ],
             [
              0.4444444444444444,
              "#bd3786"
             ],
             [
              0.5555555555555556,
              "#d8576b"
             ],
             [
              0.6666666666666666,
              "#ed7953"
             ],
             [
              0.7777777777777778,
              "#fb9f3a"
             ],
             [
              0.8888888888888888,
              "#fdca26"
             ],
             [
              1,
              "#f0f921"
             ]
            ],
            "type": "heatmap"
           }
          ],
          "heatmapgl": [
           {
            "colorbar": {
             "outlinewidth": 0,
             "ticks": ""
            },
            "colorscale": [
             [
              0,
              "#0d0887"
             ],
             [
              0.1111111111111111,
              "#46039f"
             ],
             [
              0.2222222222222222,
              "#7201a8"
             ],
             [
              0.3333333333333333,
              "#9c179e"
             ],
             [
              0.4444444444444444,
              "#bd3786"
             ],
             [
              0.5555555555555556,
              "#d8576b"
             ],
             [
              0.6666666666666666,
              "#ed7953"
             ],
             [
              0.7777777777777778,
              "#fb9f3a"
             ],
             [
              0.8888888888888888,
              "#fdca26"
             ],
             [
              1,
              "#f0f921"
             ]
            ],
            "type": "heatmapgl"
           }
          ],
          "histogram": [
           {
            "marker": {
             "pattern": {
              "fillmode": "overlay",
              "size": 10,
              "solidity": 0.2
             }
            },
            "type": "histogram"
           }
          ],
          "histogram2d": [
           {
            "colorbar": {
             "outlinewidth": 0,
             "ticks": ""
            },
            "colorscale": [
             [
              0,
              "#0d0887"
             ],
             [
              0.1111111111111111,
              "#46039f"
             ],
             [
              0.2222222222222222,
              "#7201a8"
             ],
             [
              0.3333333333333333,
              "#9c179e"
             ],
             [
              0.4444444444444444,
              "#bd3786"
             ],
             [
              0.5555555555555556,
              "#d8576b"
             ],
             [
              0.6666666666666666,
              "#ed7953"
             ],
             [
              0.7777777777777778,
              "#fb9f3a"
             ],
             [
              0.8888888888888888,
              "#fdca26"
             ],
             [
              1,
              "#f0f921"
             ]
            ],
            "type": "histogram2d"
           }
          ],
          "histogram2dcontour": [
           {
            "colorbar": {
             "outlinewidth": 0,
             "ticks": ""
            },
            "colorscale": [
             [
              0,
              "#0d0887"
             ],
             [
              0.1111111111111111,
              "#46039f"
             ],
             [
              0.2222222222222222,
              "#7201a8"
             ],
             [
              0.3333333333333333,
              "#9c179e"
             ],
             [
              0.4444444444444444,
              "#bd3786"
             ],
             [
              0.5555555555555556,
              "#d8576b"
             ],
             [
              0.6666666666666666,
              "#ed7953"
             ],
             [
              0.7777777777777778,
              "#fb9f3a"
             ],
             [
              0.8888888888888888,
              "#fdca26"
             ],
             [
              1,
              "#f0f921"
             ]
            ],
            "type": "histogram2dcontour"
           }
          ],
          "mesh3d": [
           {
            "colorbar": {
             "outlinewidth": 0,
             "ticks": ""
            },
            "type": "mesh3d"
           }
          ],
          "parcoords": [
           {
            "line": {
             "colorbar": {
              "outlinewidth": 0,
              "ticks": ""
             }
            },
            "type": "parcoords"
           }
          ],
          "pie": [
           {
            "automargin": true,
            "type": "pie"
           }
          ],
          "scatter": [
           {
            "fillpattern": {
             "fillmode": "overlay",
             "size": 10,
             "solidity": 0.2
            },
            "type": "scatter"
           }
          ],
          "scatter3d": [
           {
            "line": {
             "colorbar": {
              "outlinewidth": 0,
              "ticks": ""
             }
            },
            "marker": {
             "colorbar": {
              "outlinewidth": 0,
              "ticks": ""
             }
            },
            "type": "scatter3d"
           }
          ],
          "scattercarpet": [
           {
            "marker": {
             "colorbar": {
              "outlinewidth": 0,
              "ticks": ""
             }
            },
            "type": "scattercarpet"
           }
          ],
          "scattergeo": [
           {
            "marker": {
             "colorbar": {
              "outlinewidth": 0,
              "ticks": ""
             }
            },
            "type": "scattergeo"
           }
          ],
          "scattergl": [
           {
            "marker": {
             "colorbar": {
              "outlinewidth": 0,
              "ticks": ""
             }
            },
            "type": "scattergl"
           }
          ],
          "scattermapbox": [
           {
            "marker": {
             "colorbar": {
              "outlinewidth": 0,
              "ticks": ""
             }
            },
            "type": "scattermapbox"
           }
          ],
          "scatterpolar": [
           {
            "marker": {
             "colorbar": {
              "outlinewidth": 0,
              "ticks": ""
             }
            },
            "type": "scatterpolar"
           }
          ],
          "scatterpolargl": [
           {
            "marker": {
             "colorbar": {
              "outlinewidth": 0,
              "ticks": ""
             }
            },
            "type": "scatterpolargl"
           }
          ],
          "scatterternary": [
           {
            "marker": {
             "colorbar": {
              "outlinewidth": 0,
              "ticks": ""
             }
            },
            "type": "scatterternary"
           }
          ],
          "surface": [
           {
            "colorbar": {
             "outlinewidth": 0,
             "ticks": ""
            },
            "colorscale": [
             [
              0,
              "#0d0887"
             ],
             [
              0.1111111111111111,
              "#46039f"
             ],
             [
              0.2222222222222222,
              "#7201a8"
             ],
             [
              0.3333333333333333,
              "#9c179e"
             ],
             [
              0.4444444444444444,
              "#bd3786"
             ],
             [
              0.5555555555555556,
              "#d8576b"
             ],
             [
              0.6666666666666666,
              "#ed7953"
             ],
             [
              0.7777777777777778,
              "#fb9f3a"
             ],
             [
              0.8888888888888888,
              "#fdca26"
             ],
             [
              1,
              "#f0f921"
             ]
            ],
            "type": "surface"
           }
          ],
          "table": [
           {
            "cells": {
             "fill": {
              "color": "#EBF0F8"
             },
             "line": {
              "color": "white"
             }
            },
            "header": {
             "fill": {
              "color": "#C8D4E3"
             },
             "line": {
              "color": "white"
             }
            },
            "type": "table"
           }
          ]
         },
         "layout": {
          "annotationdefaults": {
           "arrowcolor": "#2a3f5f",
           "arrowhead": 0,
           "arrowwidth": 1
          },
          "autotypenumbers": "strict",
          "coloraxis": {
           "colorbar": {
            "outlinewidth": 0,
            "ticks": ""
           }
          },
          "colorscale": {
           "diverging": [
            [
             0,
             "#8e0152"
            ],
            [
             0.1,
             "#c51b7d"
            ],
            [
             0.2,
             "#de77ae"
            ],
            [
             0.3,
             "#f1b6da"
            ],
            [
             0.4,
             "#fde0ef"
            ],
            [
             0.5,
             "#f7f7f7"
            ],
            [
             0.6,
             "#e6f5d0"
            ],
            [
             0.7,
             "#b8e186"
            ],
            [
             0.8,
             "#7fbc41"
            ],
            [
             0.9,
             "#4d9221"
            ],
            [
             1,
             "#276419"
            ]
           ],
           "sequential": [
            [
             0,
             "#0d0887"
            ],
            [
             0.1111111111111111,
             "#46039f"
            ],
            [
             0.2222222222222222,
             "#7201a8"
            ],
            [
             0.3333333333333333,
             "#9c179e"
            ],
            [
             0.4444444444444444,
             "#bd3786"
            ],
            [
             0.5555555555555556,
             "#d8576b"
            ],
            [
             0.6666666666666666,
             "#ed7953"
            ],
            [
             0.7777777777777778,
             "#fb9f3a"
            ],
            [
             0.8888888888888888,
             "#fdca26"
            ],
            [
             1,
             "#f0f921"
            ]
           ],
           "sequentialminus": [
            [
             0,
             "#0d0887"
            ],
            [
             0.1111111111111111,
             "#46039f"
            ],
            [
             0.2222222222222222,
             "#7201a8"
            ],
            [
             0.3333333333333333,
             "#9c179e"
            ],
            [
             0.4444444444444444,
             "#bd3786"
            ],
            [
             0.5555555555555556,
             "#d8576b"
            ],
            [
             0.6666666666666666,
             "#ed7953"
            ],
            [
             0.7777777777777778,
             "#fb9f3a"
            ],
            [
             0.8888888888888888,
             "#fdca26"
            ],
            [
             1,
             "#f0f921"
            ]
           ]
          },
          "colorway": [
           "#636efa",
           "#EF553B",
           "#00cc96",
           "#ab63fa",
           "#FFA15A",
           "#19d3f3",
           "#FF6692",
           "#B6E880",
           "#FF97FF",
           "#FECB52"
          ],
          "font": {
           "color": "#2a3f5f"
          },
          "geo": {
           "bgcolor": "white",
           "lakecolor": "white",
           "landcolor": "#E5ECF6",
           "showlakes": true,
           "showland": true,
           "subunitcolor": "white"
          },
          "hoverlabel": {
           "align": "left"
          },
          "hovermode": "closest",
          "mapbox": {
           "style": "light"
          },
          "paper_bgcolor": "white",
          "plot_bgcolor": "#E5ECF6",
          "polar": {
           "angularaxis": {
            "gridcolor": "white",
            "linecolor": "white",
            "ticks": ""
           },
           "bgcolor": "#E5ECF6",
           "radialaxis": {
            "gridcolor": "white",
            "linecolor": "white",
            "ticks": ""
           }
          },
          "scene": {
           "xaxis": {
            "backgroundcolor": "#E5ECF6",
            "gridcolor": "white",
            "gridwidth": 2,
            "linecolor": "white",
            "showbackground": true,
            "ticks": "",
            "zerolinecolor": "white"
           },
           "yaxis": {
            "backgroundcolor": "#E5ECF6",
            "gridcolor": "white",
            "gridwidth": 2,
            "linecolor": "white",
            "showbackground": true,
            "ticks": "",
            "zerolinecolor": "white"
           },
           "zaxis": {
            "backgroundcolor": "#E5ECF6",
            "gridcolor": "white",
            "gridwidth": 2,
            "linecolor": "white",
            "showbackground": true,
            "ticks": "",
            "zerolinecolor": "white"
           }
          },
          "shapedefaults": {
           "line": {
            "color": "#2a3f5f"
           }
          },
          "ternary": {
           "aaxis": {
            "gridcolor": "white",
            "linecolor": "white",
            "ticks": ""
           },
           "baxis": {
            "gridcolor": "white",
            "linecolor": "white",
            "ticks": ""
           },
           "bgcolor": "#E5ECF6",
           "caxis": {
            "gridcolor": "white",
            "linecolor": "white",
            "ticks": ""
           }
          },
          "title": {
           "x": 0.05
          },
          "xaxis": {
           "automargin": true,
           "gridcolor": "white",
           "linecolor": "white",
           "ticks": "",
           "title": {
            "standoff": 15
           },
           "zerolinecolor": "white",
           "zerolinewidth": 2
          },
          "yaxis": {
           "automargin": true,
           "gridcolor": "white",
           "linecolor": "white",
           "ticks": "",
           "title": {
            "standoff": 15
           },
           "zerolinecolor": "white",
           "zerolinewidth": 2
          }
         }
        },
        "title": {
         "text": "Slice Plot"
        },
        "width": 3600,
        "xaxis": {
         "anchor": "y",
         "domain": [
          0,
          0.06805555555555555
         ],
         "title": {
          "text": "batch_size"
         }
        },
        "xaxis10": {
         "anchor": "y10",
         "domain": [
          0.7625,
          0.8305555555555555
         ],
         "title": {
          "text": "relu_slope"
         }
        },
        "xaxis11": {
         "anchor": "y11",
         "domain": [
          0.8472222222222221,
          0.9152777777777776
         ],
         "title": {
          "text": "scheduler_gamma"
         }
        },
        "xaxis12": {
         "anchor": "y12",
         "domain": [
          0.9319444444444444,
          0.9999999999999999
         ],
         "title": {
          "text": "weight_decay"
         },
         "type": "log"
        },
        "xaxis2": {
         "anchor": "y2",
         "domain": [
          0.08472222222222221,
          0.15277777777777776
         ],
         "title": {
          "text": "beta1"
         }
        },
        "xaxis3": {
         "anchor": "y3",
         "domain": [
          0.16944444444444443,
          0.2375
         ],
         "title": {
          "text": "beta2"
         }
        },
        "xaxis4": {
         "anchor": "y4",
         "domain": [
          0.25416666666666665,
          0.3222222222222222
         ],
         "title": {
          "text": "dampening"
         }
        },
        "xaxis5": {
         "anchor": "y5",
         "domain": [
          0.33888888888888885,
          0.4069444444444444
         ],
         "title": {
          "text": "epochs"
         }
        },
        "xaxis6": {
         "anchor": "y6",
         "domain": [
          0.42361111111111105,
          0.4916666666666666
         ],
         "title": {
          "text": "loss_idx"
         }
        },
        "xaxis7": {
         "anchor": "y7",
         "domain": [
          0.5083333333333333,
          0.5763888888888888
         ],
         "title": {
          "text": "lr"
         },
         "type": "log"
        },
        "xaxis8": {
         "anchor": "y8",
         "domain": [
          0.5930555555555556,
          0.6611111111111111
         ],
         "title": {
          "text": "momentum"
         }
        },
        "xaxis9": {
         "anchor": "y9",
         "domain": [
          0.6777777777777777,
          0.7458333333333332
         ],
         "title": {
          "text": "optimizer_idx"
         }
        },
        "yaxis": {
         "anchor": "x",
         "domain": [
          0,
          1
         ],
         "title": {
          "text": "Objective Value"
         }
        },
        "yaxis10": {
         "anchor": "x10",
         "domain": [
          0,
          1
         ],
         "matches": "y",
         "showticklabels": false
        },
        "yaxis11": {
         "anchor": "x11",
         "domain": [
          0,
          1
         ],
         "matches": "y",
         "showticklabels": false
        },
        "yaxis12": {
         "anchor": "x12",
         "domain": [
          0,
          1
         ],
         "matches": "y",
         "showticklabels": false
        },
        "yaxis2": {
         "anchor": "x2",
         "domain": [
          0,
          1
         ],
         "matches": "y",
         "showticklabels": false
        },
        "yaxis3": {
         "anchor": "x3",
         "domain": [
          0,
          1
         ],
         "matches": "y",
         "showticklabels": false
        },
        "yaxis4": {
         "anchor": "x4",
         "domain": [
          0,
          1
         ],
         "matches": "y",
         "showticklabels": false
        },
        "yaxis5": {
         "anchor": "x5",
         "domain": [
          0,
          1
         ],
         "matches": "y",
         "showticklabels": false
        },
        "yaxis6": {
         "anchor": "x6",
         "domain": [
          0,
          1
         ],
         "matches": "y",
         "showticklabels": false
        },
        "yaxis7": {
         "anchor": "x7",
         "domain": [
          0,
          1
         ],
         "matches": "y",
         "showticklabels": false
        },
        "yaxis8": {
         "anchor": "x8",
         "domain": [
          0,
          1
         ],
         "matches": "y",
         "showticklabels": false
        },
        "yaxis9": {
         "anchor": "x9",
         "domain": [
          0,
          1
         ],
         "matches": "y",
         "showticklabels": false
        }
       }
      }
     },
     "metadata": {},
     "output_type": "display_data"
    }
   ],
   "source": [
    "if is_multi_objective:\n",
    "    fig = vis.plot_slice(study, target=lambda t: t.values[1], target_name='Accuracy')\n",
    "else:\n",
    "    fig = vis.plot_slice(study)\n",
    "fig.show()"
   ]
  },
  {
   "cell_type": "code",
   "execution_count": 34,
   "metadata": {},
   "outputs": [
    {
     "data": {
      "text/plain": [
       "{'lr': 0.0013785663502018806,\n",
       " 'weight_decay': 0.1515323592568299,\n",
       " 'beta1': 0.8286329900383058,\n",
       " 'beta2': 0.9184731379403815,\n",
       " 'momentum': 0.25435352570284675,\n",
       " 'dampening': 0.2640169428989796,\n",
       " 'optimizer_idx': 1,\n",
       " 'scheduler_gamma': 0.8037126071151298,\n",
       " 'epochs': 12,\n",
       " 'batch_size': 106,\n",
       " 'loss_idx': 0,\n",
       " 'relu_slope': 0.011035822614333134}"
      ]
     },
     "execution_count": 34,
     "metadata": {},
     "output_type": "execute_result"
    }
   ],
   "source": [
    "if is_multi_objective:\n",
    "    best_trials = study.best_trials\n",
    "    sorted_trials = sorted([(trial.values[1], trial.params) for trial in best_trials])\n",
    "    best_params = sorted_trials[0][1]\n",
    "else:\n",
    "    best_params = study.best_trial.params\n",
    "best_params"
   ]
  },
  {
   "cell_type": "code",
   "execution_count": 35,
   "metadata": {},
   "outputs": [],
   "source": [
    "# best_params = {'lr': 0.0031239818374237715, 'weight_decay': 0.14891528374027796, 'beta1': 0.8710182886970091, 'beta2': 0.832292578797416, 'scheduler_gamma': 0.9753505211333497, 'epochs': 81, 'batch_size': 214, 'loss_idx': 0}\n",
    "# best_params = {'lr': 0.0019835932606001487,\n",
    "#   'weight_decay': 0.1611461330556558,\n",
    "#   'beta1': 0.9280989285369666,\n",
    "#   'beta2': 0.5597870586857281,\n",
    "#   'scheduler_gamma': 0.9736202263428526,\n",
    "#   'epochs': 110,\n",
    "#   'batch_size': 153,\n",
    "#   'loss_idx': 0}\n",
    "# best_params = {'lr': 0.0029897736276809804,\n",
    "#   'weight_decay': 0.23209144621035505,\n",
    "#   'beta1': 0.9307172994606788,\n",
    "#   'beta2': 0.7849642531368178,\n",
    "#   'momentum': 0.26520601842233205,\n",
    "#   'dampening': 0.027926590435548706,\n",
    "#   'optimizer_idx': 1,\n",
    "#   'scheduler_gamma': 0.9380209962450397,\n",
    "#   'epochs': 90,\n",
    "#   'batch_size': 88,\n",
    "#   'loss_idx': 0}\n",
    "# best_params = {'lr': 0.00836489425162464, 'weight_decay': 0.34102140588295116, 'beta1': 0.8201411977785976, 'beta2': 0.7828316699445848, 'momentum': 0.4068030886893087, 'dampening': 0.0875530112100895, 'optimizer_idx': 1, 'scheduler_gamma': 0.9552905615276255, 'epochs': 121, 'batch_size': 219, 'loss_idx': 1, 'num_blocks': 3}"
   ]
  },
  {
   "cell_type": "code",
   "execution_count": 37,
   "metadata": {},
   "outputs": [],
   "source": [
    "lr = best_params['lr']\n",
    "weight_decay = best_params['weight_decay']\n",
    "betas = (best_params['beta1'], best_params['beta2'])\n",
    "momentum = best_params['momentum']\n",
    "dampening = best_params['dampening']\n",
    "scheduler_gamma = best_params['scheduler_gamma']\n",
    "batch_size = best_params['batch_size']\n",
    "epochs = best_params['epochs']\n",
    "relu_slope = best_params['relu_slope']\n",
    "\n",
    "model = ConvClassifier(train_params=train_best_params, num_classes=len(np.unique(labels)),\n",
    "                       relu_slope=relu_slope, device=device).to(device)\n",
    "\n",
    "# trainable_parameters = [param for name, param in model.named_parameters() if name.startswith('seq_')]\n",
    "if best_params['optimizer_idx'] == 0:\n",
    "    optimizer = torch.optim.Adam(model.parameters(), lr=lr, weight_decay=weight_decay, betas=betas)\n",
    "else:\n",
    "    optimizer = torch.optim.SGD(model.parameters(), lr=lr, weight_decay=weight_decay, momentum=momentum, dampening=dampening)\n",
    "scheduler = torch.optim.lr_scheduler.ExponentialLR(optimizer, gamma=scheduler_gamma)\n",
    "\n",
    "loss_func = get_classification_loss_function(best_params['loss_idx'], device=model.device)"
   ]
  },
  {
   "cell_type": "code",
   "execution_count": 38,
   "metadata": {},
   "outputs": [
    {
     "data": {
      "text/plain": [
       "({'lr': 0.0013785663502018806,\n",
       "  'weight_decay': 0.1515323592568299,\n",
       "  'beta1': 0.8286329900383058,\n",
       "  'beta2': 0.9184731379403815,\n",
       "  'momentum': 0.25435352570284675,\n",
       "  'dampening': 0.2640169428989796,\n",
       "  'optimizer_idx': 1,\n",
       "  'scheduler_gamma': 0.8037126071151298,\n",
       "  'epochs': 12,\n",
       "  'batch_size': 106,\n",
       "  'loss_idx': 0,\n",
       "  'relu_slope': 0.011035822614333134},\n",
       " 1639176)"
      ]
     },
     "execution_count": 38,
     "metadata": {},
     "output_type": "execute_result"
    }
   ],
   "source": [
    "best_params, sum(p.numel() for p in model.parameters())"
   ]
  },
  {
   "cell_type": "code",
   "execution_count": 39,
   "metadata": {},
   "outputs": [],
   "source": [
    "dataset = AlzheimerDataset(images, labels)"
   ]
  },
  {
   "cell_type": "code",
   "execution_count": 40,
   "metadata": {},
   "outputs": [],
   "source": [
    "dataloader = torch.utils.data.DataLoader(alzheimer_dataset, batch_size=batch_size, shuffle=True)"
   ]
  },
  {
   "cell_type": "code",
   "execution_count": 41,
   "metadata": {},
   "outputs": [
    {
     "data": {
      "application/vnd.jupyter.widget-view+json": {
       "model_id": "6e50c89909294a71b8438192fcd739f9",
       "version_major": 2,
       "version_minor": 0
      },
      "text/plain": [
       "  0%|          | 0/12 [00:00<?, ?it/s]"
      ]
     },
     "metadata": {},
     "output_type": "display_data"
    },
    {
     "data": {
      "image/png": "[encoded data removed]",
      "text/plain": [
       "<Figure size 1600x1000 with 2 Axes>"
      ]
     },
     "metadata": {},
     "output_type": "display_data"
    }
   ],
   "source": [
    "overall, accuracy = train(\n",
    "    model=model,\n",
    "    optimizer=optimizer,\n",
    "    loss=loss_func,\n",
    "    epochs=epochs,\n",
    "    dataloader=dataloader,\n",
    "    val_dataset=alzheimer_dataset,\n",
    "    scheduler=scheduler,\n",
    "    plot=True,\n",
    "    show_progress=True,\n",
    "    trial=None\n",
    ")"
   ]
  },
  {
   "cell_type": "code",
   "execution_count": 42,
   "metadata": {},
   "outputs": [
    {
     "data": {
      "text/plain": [
       "ConvClassifier(\n",
       "  (encoder): ConvEncoder(\n",
       "    (relu): ReLU()\n",
       "    (flatten): Flatten(start_dim=1, end_dim=-1)\n",
       "    (conv1): Conv2d(1, 8, kernel_size=(5, 5), stride=(2, 2), padding=(3, 3), bias=False)\n",
       "    (bn1): BatchNorm2d(8, eps=1e-05, momentum=0.1, affine=True, track_running_stats=True)\n",
       "    (maxpool): MaxPool2d(kernel_size=(3, 3), stride=(2, 2), padding=(1, 1), dilation=1, ceil_mode=False)\n",
       "    (block0): Sequential(\n",
       "      (0): Conv2d(8, 8, kernel_size=(3, 3), stride=(1, 1), padding=(1, 1), bias=False)\n",
       "      (1): BatchNorm2d(8, eps=1e-05, momentum=0.1, affine=True, track_running_stats=True)\n",
       "      (2): ReLU()\n",
       "      (3): MaxPool2d(kernel_size=(3, 3), stride=1, padding=1, dilation=1, ceil_mode=False)\n",
       "      (4): BatchNorm2d(8, eps=1e-05, momentum=0.1, affine=True, track_running_stats=True)\n",
       "    )\n",
       "    (max_pool_block0): MaxPoolBlock(\n",
       "      (max_pool): MaxPool2d(kernel_size=(3, 3), stride=1, padding=1, dilation=1, ceil_mode=True)\n",
       "      (bn): BatchNorm2d(8, eps=1e-05, momentum=0.1, affine=True, track_running_stats=True)\n",
       "      (relu): ReLU()\n",
       "    )\n",
       "    (down_sample0): Sequential(\n",
       "      (0): Conv2d(8, 16, kernel_size=(3, 3), stride=(2, 2), padding=(1, 1), bias=False)\n",
       "      (1): BatchNorm2d(16, eps=1e-05, momentum=0.1, affine=True, track_running_stats=True)\n",
       "      (2): ReLU()\n",
       "    )\n",
       "    (block1): Sequential(\n",
       "      (0): Conv2d(16, 16, kernel_size=(3, 3), stride=(1, 1), padding=(1, 1), bias=False)\n",
       "      (1): BatchNorm2d(16, eps=1e-05, momentum=0.1, affine=True, track_running_stats=True)\n",
       "      (2): ReLU()\n",
       "      (3): MaxPool2d(kernel_size=(3, 3), stride=1, padding=1, dilation=1, ceil_mode=False)\n",
       "      (4): BatchNorm2d(16, eps=1e-05, momentum=0.1, affine=True, track_running_stats=True)\n",
       "    )\n",
       "    (max_pool_block1): MaxPoolBlock(\n",
       "      (max_pool): MaxPool2d(kernel_size=(3, 3), stride=1, padding=1, dilation=1, ceil_mode=True)\n",
       "      (bn): BatchNorm2d(16, eps=1e-05, momentum=0.1, affine=True, track_running_stats=True)\n",
       "      (relu): ReLU()\n",
       "    )\n",
       "    (down_sample1): Sequential(\n",
       "      (0): Conv2d(16, 32, kernel_size=(3, 3), stride=(2, 2), padding=(1, 1), bias=False)\n",
       "      (1): BatchNorm2d(32, eps=1e-05, momentum=0.1, affine=True, track_running_stats=True)\n",
       "      (2): ReLU()\n",
       "    )\n",
       "    (block2): Sequential(\n",
       "      (0): Conv2d(32, 32, kernel_size=(3, 3), stride=(1, 1), padding=(1, 1), bias=False)\n",
       "      (1): BatchNorm2d(32, eps=1e-05, momentum=0.1, affine=True, track_running_stats=True)\n",
       "      (2): ReLU()\n",
       "      (3): MaxPool2d(kernel_size=(3, 3), stride=1, padding=1, dilation=1, ceil_mode=False)\n",
       "      (4): BatchNorm2d(32, eps=1e-05, momentum=0.1, affine=True, track_running_stats=True)\n",
       "    )\n",
       "    (max_pool_block2): MaxPoolBlock(\n",
       "      (max_pool): MaxPool2d(kernel_size=(3, 3), stride=1, padding=1, dilation=1, ceil_mode=True)\n",
       "      (bn): BatchNorm2d(32, eps=1e-05, momentum=0.1, affine=True, track_running_stats=True)\n",
       "      (relu): ReLU()\n",
       "    )\n",
       "    (down_sample2): Sequential(\n",
       "      (0): Conv2d(32, 64, kernel_size=(3, 3), stride=(2, 2), padding=(1, 1), bias=False)\n",
       "      (1): BatchNorm2d(64, eps=1e-05, momentum=0.1, affine=True, track_running_stats=True)\n",
       "      (2): ReLU()\n",
       "    )\n",
       "    (encoded_mean): Linear(in_features=1920, out_features=414, bias=True)\n",
       "    (encoded_log_variance): Linear(in_features=1920, out_features=414, bias=True)\n",
       "  )\n",
       "  (bn): BatchNorm1d(1920, eps=1e-05, momentum=0.1, affine=True, track_running_stats=True)\n",
       "  (relu): ReLU()\n",
       "  (seq_output): Linear(in_features=1920, out_features=4, bias=True)\n",
       "  (log_softmax): LogSoftmax(dim=1)\n",
       ")"
      ]
     },
     "execution_count": 42,
     "metadata": {},
     "output_type": "execute_result"
    }
   ],
   "source": [
    "model.eval()"
   ]
  },
  {
   "cell_type": "code",
   "execution_count": 43,
   "metadata": {},
   "outputs": [],
   "source": [
    "from PIL import Image"
   ]
  },
  {
   "cell_type": "code",
   "execution_count": 44,
   "metadata": {},
   "outputs": [],
   "source": [
    "test_data_dir = './data/alzheimer/test'\n",
    "classes = os.listdir(test_data_dir)\n",
    "class_to_idx = {}\n",
    "for i in range(len(classes)):\n",
    "    class_to_idx[classes[i]] = i\n",
    "\n",
    "total_test_images = 0\n",
    "for class_name in classes:\n",
    "    total_test_images += len(os.listdir(f'{test_data_dir}/{class_name}'))"
   ]
  },
  {
   "cell_type": "code",
   "execution_count": 45,
   "metadata": {},
   "outputs": [],
   "source": [
    "test_images = np.empty((total_test_images, 208, 176), dtype=np.uint8)\n",
    "test_labels = np.empty(total_test_images, dtype=np.uint8)"
   ]
  },
  {
   "cell_type": "code",
   "execution_count": 46,
   "metadata": {},
   "outputs": [
    {
     "data": {
      "application/vnd.jupyter.widget-view+json": {
       "model_id": "b512ff31990e491daa569fc6eaca6d5e",
       "version_major": 2,
       "version_minor": 0
      },
      "text/plain": [
       "  0%|          | 0/179 [00:00<?, ?it/s]"
      ]
     },
     "metadata": {},
     "output_type": "display_data"
    },
    {
     "data": {
      "application/vnd.jupyter.widget-view+json": {
       "model_id": "e3228a9eeac64633b66478e58a1c7767",
       "version_major": 2,
       "version_minor": 0
      },
      "text/plain": [
       "  0%|          | 0/12 [00:00<?, ?it/s]"
      ]
     },
     "metadata": {},
     "output_type": "display_data"
    },
    {
     "data": {
      "application/vnd.jupyter.widget-view+json": {
       "model_id": "20a79288497d45ec97b31faf8fb1ca24",
       "version_major": 2,
       "version_minor": 0
      },
      "text/plain": [
       "  0%|          | 0/640 [00:00<?, ?it/s]"
      ]
     },
     "metadata": {},
     "output_type": "display_data"
    },
    {
     "data": {
      "application/vnd.jupyter.widget-view+json": {
       "model_id": "55c6c3ee8b6b4d0dbca27fd01629ab36",
       "version_major": 2,
       "version_minor": 0
      },
      "text/plain": [
       "  0%|          | 0/448 [00:00<?, ?it/s]"
      ]
     },
     "metadata": {},
     "output_type": "display_data"
    }
   ],
   "source": [
    "image_idx = 0\n",
    "for class_name in classes:\n",
    "    for image_name in tqdm(os.listdir(f'{test_data_dir}/{class_name}')):\n",
    "        image_path = f'{test_data_dir}/{class_name}/{image_name}'\n",
    "        test_images[image_idx] = np.array(Image.open(image_path)).astype(np.uint8)\n",
    "        test_labels[image_idx] = class_to_idx[class_name]\n",
    "        image_idx += 1"
   ]
  },
  {
   "cell_type": "code",
   "execution_count": 47,
   "metadata": {},
   "outputs": [],
   "source": [
    "leftmost_pixel, uppermost_pixel = 16, 16\n",
    "rightmost_pixel, bottommost_pixel = 159, 191\n",
    "\n",
    "test_images = test_images[:, uppermost_pixel:bottommost_pixel+1, leftmost_pixel:rightmost_pixel+1]"
   ]
  },
  {
   "cell_type": "code",
   "execution_count": 48,
   "metadata": {},
   "outputs": [
    {
     "data": {
      "text/plain": [
       "<matplotlib.image.AxesImage at 0x27abb0dd340>"
      ]
     },
     "execution_count": 48,
     "metadata": {},
     "output_type": "execute_result"
    },
    {
     "data": {
      "image/png": "[encoded data removed]",
      "text/plain": [
       "<Figure size 640x480 with 1 Axes>"
      ]
     },
     "metadata": {},
     "output_type": "display_data"
    }
   ],
   "source": [
    "plt.imshow(test_images[test_labels == 1].mean(axis=0), cmap='gray')"
   ]
  },
  {
   "cell_type": "code",
   "execution_count": 49,
   "metadata": {},
   "outputs": [],
   "source": [
    "test_dataset = AlzheimerDataset(test_images, test_labels)"
   ]
  },
  {
   "cell_type": "code",
   "execution_count": 50,
   "metadata": {},
   "outputs": [],
   "source": [
    "test_output = model(test_dataset.X.to(model.device))\n",
    "predictions = torch.argmax(test_output, dim=1).to(model.device)\n",
    "accuracy = (predictions == test_dataset.y.to(model.device)).sum().item() / predictions.shape[0]"
   ]
  },
  {
   "cell_type": "code",
   "execution_count": 51,
   "metadata": {},
   "outputs": [
    {
     "data": {
      "text/plain": [
       "0.4440969507427678"
      ]
     },
     "execution_count": 51,
     "metadata": {},
     "output_type": "execute_result"
    }
   ],
   "source": [
    "accuracy"
   ]
  },
  {
   "cell_type": "code",
   "execution_count": 52,
   "metadata": {},
   "outputs": [],
   "source": [
    "from sklearn.metrics import confusion_matrix"
   ]
  },
  {
   "cell_type": "code",
   "execution_count": 53,
   "metadata": {},
   "outputs": [],
   "source": [
    "import seaborn as sns"
   ]
  },
  {
   "cell_type": "code",
   "execution_count": null,
   "metadata": {},
   "outputs": [],
   "source": [
    "sns.heatmap(confusion_matrix())"
   ]
  }
 ],
 "metadata": {
  "kernelspec": {
   "display_name": "ml-pipeline",
   "language": "python",
   "name": "python3"
  },
  "language_info": {
   "codemirror_mode": {
    "name": "ipython",
    "version": 3
   },
   "file_extension": ".py",
   "mimetype": "text/x-python",
   "name": "python",
   "nbconvert_exporter": "python",
   "pygments_lexer": "ipython3",
   "version": "3.12.3"
  }
 },
 "nbformat": 4,
 "nbformat_minor": 2
}
